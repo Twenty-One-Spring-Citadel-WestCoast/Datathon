{
 "cells": [
  {
   "cell_type": "code",
   "execution_count": 1,
   "metadata": {},
   "outputs": [],
   "source": [
    "from linearmodels.panel import PooledOLS, PanelOLS\n",
    "\n",
    "import statsmodels.api as sm\n",
    "import numpy as np\n",
    "import pandas as pd\n",
    "import plotly.express as px\n",
    "from plotly.subplots import make_subplots\n",
    "from sklearn.decomposition import PCA\n",
    "from sklearn.impute import SimpleImputer\n",
    "from sklearn.pipeline import Pipeline\n",
    "from sklearn.linear_model import LinearRegression\n",
    "import statsmodels.formula.api as smf\n",
    "\n",
    "from statsmodels.iolib.summary2 import summary_col\n",
    "\n",
    "import matplotlib.pyplot as plt\n",
    "import seaborn as sns\n",
    "import plotly.graph_objs as go\n",
    "from urllib.request import urlopen\n",
    "import json\n",
    "import plotly\n",
    "with urlopen('https://raw.githubusercontent.com/plotly/datasets/master/geojson-counties-fips.json') as response:\n",
    "    counties = json.load(response)"
   ]
  },
  {
   "cell_type": "code",
   "execution_count": 2,
   "metadata": {},
   "outputs": [],
   "source": [
    "def plotByState(dataset, valueColName, colorbarLabel, saveFilePath, stateColName = 'state_code'):\n",
    "    #Extract only state data\n",
    "\n",
    "    valueRange = (min(dataset[valueColName]), max(dataset[valueColName]))\n",
    "\n",
    "    fig = px.choropleth(dataset, locations=dataset[stateColName], locationmode=\"USA-states\",\n",
    "    color=valueColName,color_continuous_scale=\"Viridis\",\n",
    "    range_color=valueRange,scope=\"usa\",labels={valueColName:colorbarLabel},\n",
    "    hover_name=stateColName)\n",
    "    \n",
    "    fig.update_layout(margin={\"r\":0,\"t\":0,\"l\":0,\"b\":0})\n",
    "    fig.update_layout(coloraxis_colorbar=dict(lenmode=\"pixels\", len=600))\n",
    "    fig.write_html(saveFilePath, auto_open=True)\n",
    "    \n",
    "def scatterplotLinear(x,y, xlabel, ylabel):\n",
    "    plt.plot(x,y,'o')\n",
    "    m,b = np.polyfit(x,y,1)\n",
    "    plt.plot(x, m*x + b)\n",
    "    plt.xlabel(xlabel)\n",
    "    plt.ylabel(ylabel)\n",
    "    plt.show()"
   ]
  },
  {
   "cell_type": "markdown",
   "metadata": {},
   "source": [
    "## Read in data"
   ]
  },
  {
   "cell_type": "code",
   "execution_count": 3,
   "metadata": {},
   "outputs": [],
   "source": [
    "us_daily = pd.read_csv(\"data/cleaned/daily_df.csv\", index_col=0)\n",
    "us_daily[\"date\"] = pd.to_datetime(us_daily[\"date\"])\n",
    "us_daily = us_daily.set_index(\"date\")"
   ]
  },
  {
   "cell_type": "code",
   "execution_count": 4,
   "metadata": {},
   "outputs": [],
   "source": [
    "us_monthly = us_daily.groupby([pd.Grouper(freq='M'), 'state']).mean()\n",
    "us_monthly\n",
    "us_monthly = pd.DataFrame(us_monthly.to_records())"
   ]
  },
  {
   "cell_type": "code",
   "execution_count": 5,
   "metadata": {},
   "outputs": [],
   "source": [
    "micperceptions = pd.read_csv(\"data/cleaned/misperception_state_inferred.csv\", index_col=0)\n",
    "micperceptions = pd.DataFrame(micperceptions.to_records())\n",
    "micperceptions.columns = [\"state\", \"pc_misconception\"]\n",
    "micperceptions.pc_misconception = micperceptions.pc_misconception.str.rstrip('%').astype('float') / 100.0"
   ]
  },
  {
   "cell_type": "code",
   "execution_count": 6,
   "metadata": {},
   "outputs": [],
   "source": [
    "us_cross_sectional = us_daily.loc[(us_daily.index >= \"2020-03-01\") & (us_daily.index <= \"2021-01-31\")].groupby([\"state\"]).mean()\n",
    "us_cross_sectional.loc[us_cross_sectional[\"hospitalizedIncrease\"]==0, \"hospitalizedIncrease\"] = np.nan\n",
    "us_Aug = us_daily.loc[(us_daily.index >= \"2020-08-01\") & (us_daily.index <= \"2021-08-31\")].groupby([\"state\"]).mean()"
   ]
  },
  {
   "cell_type": "code",
   "execution_count": 7,
   "metadata": {},
   "outputs": [],
   "source": [
    "us_cross_sectional = pd.merge(us_cross_sectional, micperceptions, on=\"state\")\n",
    "us_Aug = pd.merge(us_Aug, micperceptions, on=\"state\")"
   ]
  },
  {
   "cell_type": "code",
   "execution_count": 8,
   "metadata": {},
   "outputs": [],
   "source": [
    "reported_compliance = pd.read_csv(\"data/covidstates/beh_2.csv\", index_col=0)\n",
    "\n",
    "US_state_abb = pd.read_csv(\"data/US_state_abb.csv\")\n",
    "US_state_abb.columns = [\"state\", \"state_abb\"]\n",
    "reported_compliance = pd.merge(reported_compliance, US_state_abb, on=\"state_abb\", how=\"left\")"
   ]
  },
  {
   "cell_type": "code",
   "execution_count": 9,
   "metadata": {},
   "outputs": [],
   "source": [
    "reported_compliance.columns = [\"state_abb\", \"not_at_all\", \"not_very\", \"somewhat\", \"very\", \"error_margin\", \"N\", \"wave\", \"state\"]"
   ]
  },
  {
   "cell_type": "code",
   "execution_count": 10,
   "metadata": {},
   "outputs": [],
   "source": [
    "news_source = pd.read_csv(\"data/news_source.csv\", index_col=0)\n",
    "news_source = news_source.rename({'state': 'state_abb'}, axis=1)\n",
    "\n",
    "source_false_prop = pd.read_csv(\"data/Source_false_prop.csv\", index_col=0)\n",
    "\n",
    "news_source = pd.merge(news_source, US_state_abb, on=\"state_abb\", how=\"left\")"
   ]
  },
  {
   "cell_type": "code",
   "execution_count": 11,
   "metadata": {},
   "outputs": [],
   "source": [
    "news_source[\"misinformation_index\"] = 0"
   ]
  },
  {
   "cell_type": "code",
   "execution_count": 12,
   "metadata": {},
   "outputs": [
    {
     "data": {
      "text/html": [
       "<div>\n",
       "<style scoped>\n",
       "    .dataframe tbody tr th:only-of-type {\n",
       "        vertical-align: middle;\n",
       "    }\n",
       "\n",
       "    .dataframe tbody tr th {\n",
       "        vertical-align: top;\n",
       "    }\n",
       "\n",
       "    .dataframe thead th {\n",
       "        text-align: right;\n",
       "    }\n",
       "</style>\n",
       "<table border=\"1\" class=\"dataframe\">\n",
       "  <thead>\n",
       "    <tr style=\"text-align: right;\">\n",
       "      <th></th>\n",
       "      <th>Friends and family</th>\n",
       "      <th>Radio news</th>\n",
       "      <th>Podcasts</th>\n",
       "      <th>Local television</th>\n",
       "      <th>Network television (e.g.  ABC, CBS, or NBC)</th>\n",
       "      <th>Cable television (e.g. CNN, Fox News, or MSNBC)</th>\n",
       "      <th>Late-night comedy shows (e.g. The Late Show with Stephen Colbert or The Daily Show)</th>\n",
       "      <th>Print newspapers (e.g. the New York Times or the Wall Street Journal print edition)</th>\n",
       "      <th>A news website or app (e.g. the New York Times or Fox News websites or apps)</th>\n",
       "      <th>A health website or app (e.g. WebMD)</th>\n",
       "      <th>...</th>\n",
       "      <th>Snapchat  (website or app)</th>\n",
       "      <th>Wikipedia (website or app)</th>\n",
       "      <th>Error Margin.1</th>\n",
       "      <th>N.1</th>\n",
       "      <th>CNN</th>\n",
       "      <th>Fox News</th>\n",
       "      <th>MSNBC</th>\n",
       "      <th>President Trump’s press briefings</th>\n",
       "      <th>Error Margin.2</th>\n",
       "      <th>N.2</th>\n",
       "    </tr>\n",
       "    <tr>\n",
       "      <th>source</th>\n",
       "      <th></th>\n",
       "      <th></th>\n",
       "      <th></th>\n",
       "      <th></th>\n",
       "      <th></th>\n",
       "      <th></th>\n",
       "      <th></th>\n",
       "      <th></th>\n",
       "      <th></th>\n",
       "      <th></th>\n",
       "      <th></th>\n",
       "      <th></th>\n",
       "      <th></th>\n",
       "      <th></th>\n",
       "      <th></th>\n",
       "      <th></th>\n",
       "      <th></th>\n",
       "      <th></th>\n",
       "      <th></th>\n",
       "      <th></th>\n",
       "      <th></th>\n",
       "    </tr>\n",
       "  </thead>\n",
       "  <tbody>\n",
       "    <tr>\n",
       "      <th>false_percentage</th>\n",
       "      <td>0.13</td>\n",
       "      <td>0.14</td>\n",
       "      <td>0.18</td>\n",
       "      <td>0.11</td>\n",
       "      <td>0.12</td>\n",
       "      <td>0.12</td>\n",
       "      <td>0.16</td>\n",
       "      <td>0.12</td>\n",
       "      <td>0.11</td>\n",
       "      <td>0.17</td>\n",
       "      <td>...</td>\n",
       "      <td>0.26</td>\n",
       "      <td>0.25</td>\n",
       "      <td>NaN</td>\n",
       "      <td>NaN</td>\n",
       "      <td>0.16</td>\n",
       "      <td>0.18</td>\n",
       "      <td>0.15</td>\n",
       "      <td>0.18</td>\n",
       "      <td>NaN</td>\n",
       "      <td>NaN</td>\n",
       "    </tr>\n",
       "  </tbody>\n",
       "</table>\n",
       "<p>1 rows × 31 columns</p>\n",
       "</div>"
      ],
      "text/plain": [
       "                  Friends and family  Radio news  Podcasts  Local television  \\\n",
       "source                                                                         \n",
       "false_percentage                0.13        0.14      0.18              0.11   \n",
       "\n",
       "                  Network television (e.g.  ABC, CBS, or NBC)  \\\n",
       "source                                                          \n",
       "false_percentage                                         0.12   \n",
       "\n",
       "                  Cable television (e.g. CNN, Fox News, or MSNBC)  \\\n",
       "source                                                              \n",
       "false_percentage                                             0.12   \n",
       "\n",
       "                  Late-night comedy shows (e.g. The Late Show with Stephen Colbert or The Daily Show)  \\\n",
       "source                                                                                                  \n",
       "false_percentage                                               0.16                                     \n",
       "\n",
       "                  Print newspapers (e.g. the New York Times or the Wall Street Journal print edition)  \\\n",
       "source                                                                                                  \n",
       "false_percentage                                               0.12                                     \n",
       "\n",
       "                  A news website or app (e.g. the New York Times or Fox News websites or apps)  \\\n",
       "source                                                                                           \n",
       "false_percentage                                               0.11                              \n",
       "\n",
       "                  A health website or app (e.g. WebMD)  ...  \\\n",
       "source                                                  ...   \n",
       "false_percentage                                  0.17  ...   \n",
       "\n",
       "                  Snapchat  (website or app)  Wikipedia (website or app)  \\\n",
       "source                                                                     \n",
       "false_percentage                        0.26                        0.25   \n",
       "\n",
       "                  Error Margin.1  N.1   CNN  Fox News  MSNBC  \\\n",
       "source                                                         \n",
       "false_percentage             NaN  NaN  0.16      0.18   0.15   \n",
       "\n",
       "                  President Trump’s press briefings  Error Margin.2  N.2  \n",
       "source                                                                    \n",
       "false_percentage                               0.18             NaN  NaN  \n",
       "\n",
       "[1 rows x 31 columns]"
      ]
     },
     "execution_count": 12,
     "metadata": {},
     "output_type": "execute_result"
    }
   ],
   "source": [
    "source_false_prop"
   ]
  },
  {
   "cell_type": "code",
   "execution_count": 13,
   "metadata": {},
   "outputs": [],
   "source": [
    "sources = [\n",
    "    \"Friends and family\",\n",
    "    \"Radio news\",\n",
    "    \"Podcasts\",\n",
    "    \"Local television\",\n",
    "    \"Network television (e.g.  ABC, CBS, or NBC)\",\n",
    "    \"Late-night comedy shows (e.g. The Late Show with Stephen Colbert or The Daily Show)\",\n",
    "    \"Print newspapers (e.g. the New York Times or the Wall Street Journal print edition)\",\n",
    "    \"A news website or app (e.g. the New York Times or Fox News websites or apps)\",\n",
    "    \"A health website or app (e.g. WebMD)\",\n",
    "    \"A government website or app (e.g. CDC.gov)\",\n",
    "    \"An organization website or app (e.g. WHO.int)\",\n",
    "    \"A search engine website or app (e.g. Google, Bing)\",\n",
    "    \"Facebook (website or app)\",\n",
    "    \"Twitter (website or app)\",\n",
    "    \"Youtube(website or app)\",\n",
    "    \"Reddit (website or app)\",\n",
    "    \"Instagram (website or app)\",\n",
    "    \"Snapchat  (website or app)\",\n",
    "    \"Wikipedia (website or app)\",\n",
    "    \"CNN\",\n",
    "    \"Fox News\",\n",
    "    \"MSNBC\",\n",
    "    \"President Trump’s press briefings\",\n",
    "]"
   ]
  },
  {
   "cell_type": "code",
   "execution_count": 14,
   "metadata": {},
   "outputs": [],
   "source": [
    "source = \"Friends and family\""
   ]
  },
  {
   "cell_type": "code",
   "execution_count": 15,
   "metadata": {},
   "outputs": [],
   "source": [
    "index = news_source[\"misinformation_index\"]\n",
    "for source in sources:\n",
    "    index = index + news_source[source] * float(source_false_prop[source])\n",
    "news_source[\"misinformation_index\"] = index\n",
    "news_misconception = news_source[[\"state\", \"wave\", \"misinformation_index\"]]\n"
   ]
  },
  {
   "cell_type": "code",
   "execution_count": 16,
   "metadata": {},
   "outputs": [],
   "source": [
    "reported_compliance_cross_sectional = reported_compliance.groupby([\"state\"]).mean().drop(\"wave\", axis = 1)\n",
    "news_misconception_cross_sectional = news_misconception.groupby([\"state\"]).mean().drop(\"wave\", axis = 1)\n",
    "\n",
    "us_cross_sectional = pd.merge(us_cross_sectional, reported_compliance_cross_sectional, on=\"state\", how=\"left\")\n",
    "us_cross_sectional = pd.merge(us_cross_sectional, news_misconception_cross_sectional, on=\"state\", how=\"left\")\n",
    "\n",
    "reported_compliance_Aug = reported_compliance.loc[reported_compliance[\"wave\"] == 9].groupby([\"state\"]).mean()\n",
    "news_misconception_Aug = news_misconception.loc[news_misconception[\"wave\"] == 9].groupby([\"state\"]).mean().drop(\"wave\", axis = 1)"
   ]
  },
  {
   "cell_type": "code",
   "execution_count": 17,
   "metadata": {},
   "outputs": [],
   "source": [
    "us_Aug = pd.merge(us_Aug, reported_compliance_Aug, on=\"state\", how=\"left\")\n",
    "us_Aug = pd.merge(us_Aug, news_misconception_Aug, on=\"state\", how=\"left\")"
   ]
  },
  {
   "cell_type": "code",
   "execution_count": 18,
   "metadata": {},
   "outputs": [
    {
     "data": {
      "text/plain": [
       "Index(['not_at_all', 'not_very', 'somewhat', 'very', 'error_margin', 'N',\n",
       "       'wave'],\n",
       "      dtype='object')"
      ]
     },
     "execution_count": 18,
     "metadata": {},
     "output_type": "execute_result"
    }
   ],
   "source": [
    "reported_compliance_Aug.columns"
   ]
  },
  {
   "cell_type": "markdown",
   "metadata": {},
   "source": [
    "## Disease outcomes"
   ]
  },
  {
   "cell_type": "code",
   "execution_count": 19,
   "metadata": {},
   "outputs": [],
   "source": [
    "us_cross_sectional[\"deaths_pth\"] = 1000 * us_cross_sectional[\"deathIncrease\"] / us_cross_sectional[\"pop_2019\"]\n",
    "us_Aug[\"deaths_pth\"] = 1000 * us_Aug[\"deathIncrease\"] / us_Aug[\"pop_2019\"]"
   ]
  },
  {
   "cell_type": "code",
   "execution_count": 20,
   "metadata": {},
   "outputs": [],
   "source": [
    "us_cross_sectional[\"hospitalized_pth\"] = 1000 * us_cross_sectional[\"hospitalizedIncrease\"] / us_cross_sectional[\"pop_2019\"]\n",
    "us_Aug[\"hospitalized_pth\"] = 1000 * us_Aug[\"hospitalizedIncrease\"] / us_Aug[\"pop_2019\"]"
   ]
  },
  {
   "cell_type": "code",
   "execution_count": 21,
   "metadata": {},
   "outputs": [],
   "source": [
    "us_cross_sectional[\"positivity_rate\"] = us_cross_sectional[\"positiveIncrease\"] / us_cross_sectional[\"totalTestResultsIncrease\"]\n",
    "us_Aug[\"positivity_rate\"] = us_Aug[\"positiveIncrease\"] / us_Aug[\"totalTestResultsIncrease\"]"
   ]
  },
  {
   "cell_type": "code",
   "execution_count": 22,
   "metadata": {},
   "outputs": [],
   "source": [
    "#US State map of misconception and misinformation cross sectional data\n",
    "with open('data/google_mobility/EDA_and_Viz/states_hash.json', 'r+') as file:\n",
    "    states_hash = json.load(file)\n",
    "states_hash = { v:k for (k,v) in states_hash.items()}\n",
    "us_cross_sectional['state_code'] = us_cross_sectional['state'].map(states_hash)\n",
    "\n",
    "plotByState(us_cross_sectional, 'pc_misconception', colorbarLabel = 'Misconception %', saveFilePath = 'data/models/state_xsectional_misconception.html')\n",
    "plotByState(us_cross_sectional, 'misinformation_index', colorbarLabel = 'Misinformation Index', saveFilePath = 'data/models/state_xsectional_misinformation.html')"
   ]
  },
  {
   "cell_type": "code",
   "execution_count": 23,
   "metadata": {},
   "outputs": [],
   "source": [
    "#Maps of covid metrics\n",
    "# for col in us_cross_sectional.columns: \n",
    "#     print(col) \n",
    "\n",
    "plotByState(us_cross_sectional, 'deaths_pth', 'Deaths per thousand', 'data/models/state_xsectional_death_pth.html')\n",
    "plotByState(us_cross_sectional, 'hospitalized_pth', 'Hospitalized per thousand', 'data/models/state_xsectional_hosp_pth.html')\n",
    "plotByState(us_cross_sectional, 'positivity_rate', 'Positive COVID test rate', 'data/models/state_xsectional_posRate.html')"
   ]
  },
  {
   "cell_type": "markdown",
   "metadata": {},
   "source": [
    "There is a generally positive relationship between the level of misconceptions and severity of disease outcomes. "
   ]
  },
  {
   "cell_type": "code",
   "execution_count": 24,
   "metadata": {},
   "outputs": [
    {
     "data": {
      "text/html": [
       "<table class=\"simpletable\">\n",
       "<caption>OLS Regression Results</caption>\n",
       "<tr>\n",
       "  <th>Dep. Variable:</th>     <td>positivity_rate</td> <th>  R-squared:         </th> <td>   0.029</td>\n",
       "</tr>\n",
       "<tr>\n",
       "  <th>Model:</th>                   <td>OLS</td>       <th>  Adj. R-squared:    </th> <td>   0.009</td>\n",
       "</tr>\n",
       "<tr>\n",
       "  <th>Method:</th>             <td>Least Squares</td>  <th>  F-statistic:       </th> <td>   1.447</td>\n",
       "</tr>\n",
       "<tr>\n",
       "  <th>Date:</th>             <td>Sun, 21 Feb 2021</td> <th>  Prob (F-statistic):</th>  <td> 0.235</td> \n",
       "</tr>\n",
       "<tr>\n",
       "  <th>Time:</th>                 <td>16:22:31</td>     <th>  Log-Likelihood:    </th> <td>  73.687</td>\n",
       "</tr>\n",
       "<tr>\n",
       "  <th>No. Observations:</th>      <td>    51</td>      <th>  AIC:               </th> <td>  -143.4</td>\n",
       "</tr>\n",
       "<tr>\n",
       "  <th>Df Residuals:</th>          <td>    49</td>      <th>  BIC:               </th> <td>  -139.5</td>\n",
       "</tr>\n",
       "<tr>\n",
       "  <th>Df Model:</th>              <td>     1</td>      <th>                     </th>     <td> </td>   \n",
       "</tr>\n",
       "<tr>\n",
       "  <th>Covariance Type:</th>      <td>nonrobust</td>    <th>                     </th>     <td> </td>   \n",
       "</tr>\n",
       "</table>\n",
       "<table class=\"simpletable\">\n",
       "<tr>\n",
       "          <td></td>            <th>coef</th>     <th>std err</th>      <th>t</th>      <th>P>|t|</th>  <th>[0.025</th>    <th>0.975]</th>  \n",
       "</tr>\n",
       "<tr>\n",
       "  <th>Intercept</th>        <td>    0.0341</td> <td>    0.052</td> <td>    0.653</td> <td> 0.517</td> <td>   -0.071</td> <td>    0.139</td>\n",
       "</tr>\n",
       "<tr>\n",
       "  <th>pc_misconception</th> <td>    0.4433</td> <td>    0.369</td> <td>    1.203</td> <td> 0.235</td> <td>   -0.297</td> <td>    1.184</td>\n",
       "</tr>\n",
       "</table>\n",
       "<table class=\"simpletable\">\n",
       "<tr>\n",
       "  <th>Omnibus:</th>       <td>21.919</td> <th>  Durbin-Watson:     </th> <td>   1.813</td>\n",
       "</tr>\n",
       "<tr>\n",
       "  <th>Prob(Omnibus):</th> <td> 0.000</td> <th>  Jarque-Bera (JB):  </th> <td>  31.231</td>\n",
       "</tr>\n",
       "<tr>\n",
       "  <th>Skew:</th>          <td> 1.501</td> <th>  Prob(JB):          </th> <td>1.65e-07</td>\n",
       "</tr>\n",
       "<tr>\n",
       "  <th>Kurtosis:</th>      <td> 5.385</td> <th>  Cond. No.          </th> <td>    46.1</td>\n",
       "</tr>\n",
       "</table><br/><br/>Notes:<br/>[1] Standard Errors assume that the covariance matrix of the errors is correctly specified."
      ],
      "text/plain": [
       "<class 'statsmodels.iolib.summary.Summary'>\n",
       "\"\"\"\n",
       "                            OLS Regression Results                            \n",
       "==============================================================================\n",
       "Dep. Variable:        positivity_rate   R-squared:                       0.029\n",
       "Model:                            OLS   Adj. R-squared:                  0.009\n",
       "Method:                 Least Squares   F-statistic:                     1.447\n",
       "Date:                Sun, 21 Feb 2021   Prob (F-statistic):              0.235\n",
       "Time:                        16:22:31   Log-Likelihood:                 73.687\n",
       "No. Observations:                  51   AIC:                            -143.4\n",
       "Df Residuals:                      49   BIC:                            -139.5\n",
       "Df Model:                           1                                         \n",
       "Covariance Type:            nonrobust                                         \n",
       "====================================================================================\n",
       "                       coef    std err          t      P>|t|      [0.025      0.975]\n",
       "------------------------------------------------------------------------------------\n",
       "Intercept            0.0341      0.052      0.653      0.517      -0.071       0.139\n",
       "pc_misconception     0.4433      0.369      1.203      0.235      -0.297       1.184\n",
       "==============================================================================\n",
       "Omnibus:                       21.919   Durbin-Watson:                   1.813\n",
       "Prob(Omnibus):                  0.000   Jarque-Bera (JB):               31.231\n",
       "Skew:                           1.501   Prob(JB):                     1.65e-07\n",
       "Kurtosis:                       5.385   Cond. No.                         46.1\n",
       "==============================================================================\n",
       "\n",
       "Notes:\n",
       "[1] Standard Errors assume that the covariance matrix of the errors is correctly specified.\n",
       "\"\"\""
      ]
     },
     "execution_count": 24,
     "metadata": {},
     "output_type": "execute_result"
    }
   ],
   "source": [
    "cross_sectional_reg_1_posrate = smf.ols('positivity_rate ~ pc_misconception', data=us_cross_sectional).fit()\n",
    "cross_sectional_reg_1_posrate.summary()"
   ]
  },
  {
   "cell_type": "code",
   "execution_count": 25,
   "metadata": {},
   "outputs": [
    {
     "data": {
      "text/html": [
       "<table class=\"simpletable\">\n",
       "<caption>OLS Regression Results</caption>\n",
       "<tr>\n",
       "  <th>Dep. Variable:</th>       <td>deaths_pth</td>    <th>  R-squared:         </th> <td>   0.066</td>\n",
       "</tr>\n",
       "<tr>\n",
       "  <th>Model:</th>                   <td>OLS</td>       <th>  Adj. R-squared:    </th> <td>   0.046</td>\n",
       "</tr>\n",
       "<tr>\n",
       "  <th>Method:</th>             <td>Least Squares</td>  <th>  F-statistic:       </th> <td>   3.436</td>\n",
       "</tr>\n",
       "<tr>\n",
       "  <th>Date:</th>             <td>Sun, 21 Feb 2021</td> <th>  Prob (F-statistic):</th>  <td>0.0698</td> \n",
       "</tr>\n",
       "<tr>\n",
       "  <th>Time:</th>                 <td>16:22:31</td>     <th>  Log-Likelihood:    </th> <td>  260.03</td>\n",
       "</tr>\n",
       "<tr>\n",
       "  <th>No. Observations:</th>      <td>    51</td>      <th>  AIC:               </th> <td>  -516.1</td>\n",
       "</tr>\n",
       "<tr>\n",
       "  <th>Df Residuals:</th>          <td>    49</td>      <th>  BIC:               </th> <td>  -512.2</td>\n",
       "</tr>\n",
       "<tr>\n",
       "  <th>Df Model:</th>              <td>     1</td>      <th>                     </th>     <td> </td>   \n",
       "</tr>\n",
       "<tr>\n",
       "  <th>Covariance Type:</th>      <td>nonrobust</td>    <th>                     </th>     <td> </td>   \n",
       "</tr>\n",
       "</table>\n",
       "<table class=\"simpletable\">\n",
       "<tr>\n",
       "          <td></td>            <th>coef</th>     <th>std err</th>      <th>t</th>      <th>P>|t|</th>  <th>[0.025</th>    <th>0.975]</th>  \n",
       "</tr>\n",
       "<tr>\n",
       "  <th>Intercept</th>        <td>    0.0013</td> <td>    0.001</td> <td>    0.957</td> <td> 0.343</td> <td>   -0.001</td> <td>    0.004</td>\n",
       "</tr>\n",
       "<tr>\n",
       "  <th>pc_misconception</th> <td>    0.0177</td> <td>    0.010</td> <td>    1.854</td> <td> 0.070</td> <td>   -0.001</td> <td>    0.037</td>\n",
       "</tr>\n",
       "</table>\n",
       "<table class=\"simpletable\">\n",
       "<tr>\n",
       "  <th>Omnibus:</th>       <td> 0.921</td> <th>  Durbin-Watson:     </th> <td>   1.954</td>\n",
       "</tr>\n",
       "<tr>\n",
       "  <th>Prob(Omnibus):</th> <td> 0.631</td> <th>  Jarque-Bera (JB):  </th> <td>   0.985</td>\n",
       "</tr>\n",
       "<tr>\n",
       "  <th>Skew:</th>          <td> 0.231</td> <th>  Prob(JB):          </th> <td>   0.611</td>\n",
       "</tr>\n",
       "<tr>\n",
       "  <th>Kurtosis:</th>      <td> 2.500</td> <th>  Cond. No.          </th> <td>    46.1</td>\n",
       "</tr>\n",
       "</table><br/><br/>Notes:<br/>[1] Standard Errors assume that the covariance matrix of the errors is correctly specified."
      ],
      "text/plain": [
       "<class 'statsmodels.iolib.summary.Summary'>\n",
       "\"\"\"\n",
       "                            OLS Regression Results                            \n",
       "==============================================================================\n",
       "Dep. Variable:             deaths_pth   R-squared:                       0.066\n",
       "Model:                            OLS   Adj. R-squared:                  0.046\n",
       "Method:                 Least Squares   F-statistic:                     3.436\n",
       "Date:                Sun, 21 Feb 2021   Prob (F-statistic):             0.0698\n",
       "Time:                        16:22:31   Log-Likelihood:                 260.03\n",
       "No. Observations:                  51   AIC:                            -516.1\n",
       "Df Residuals:                      49   BIC:                            -512.2\n",
       "Df Model:                           1                                         \n",
       "Covariance Type:            nonrobust                                         \n",
       "====================================================================================\n",
       "                       coef    std err          t      P>|t|      [0.025      0.975]\n",
       "------------------------------------------------------------------------------------\n",
       "Intercept            0.0013      0.001      0.957      0.343      -0.001       0.004\n",
       "pc_misconception     0.0177      0.010      1.854      0.070      -0.001       0.037\n",
       "==============================================================================\n",
       "Omnibus:                        0.921   Durbin-Watson:                   1.954\n",
       "Prob(Omnibus):                  0.631   Jarque-Bera (JB):                0.985\n",
       "Skew:                           0.231   Prob(JB):                        0.611\n",
       "Kurtosis:                       2.500   Cond. No.                         46.1\n",
       "==============================================================================\n",
       "\n",
       "Notes:\n",
       "[1] Standard Errors assume that the covariance matrix of the errors is correctly specified.\n",
       "\"\"\""
      ]
     },
     "execution_count": 25,
     "metadata": {},
     "output_type": "execute_result"
    }
   ],
   "source": [
    "cross_sectional_reg_1_dea = smf.ols('deaths_pth ~ pc_misconception', data=us_cross_sectional).fit()\n",
    "cross_sectional_reg_1_dea.summary()"
   ]
  },
  {
   "cell_type": "code",
   "execution_count": 26,
   "metadata": {},
   "outputs": [
    {
     "data": {
      "image/png": "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\n",
      "text/plain": [
       "<Figure size 432x288 with 1 Axes>"
      ]
     },
     "metadata": {
      "needs_background": "light"
     },
     "output_type": "display_data"
    }
   ],
   "source": [
    "scatterplotLinear(us_cross_sectional['deaths_pth'], us_cross_sectional['positivity_rate'], '% Misconception', 'Deaths per thousand')"
   ]
  },
  {
   "cell_type": "code",
   "execution_count": 27,
   "metadata": {},
   "outputs": [
    {
     "data": {
      "text/html": [
       "<table class=\"simpletable\">\n",
       "<caption>OLS Regression Results</caption>\n",
       "<tr>\n",
       "  <th>Dep. Variable:</th>     <td>positivity_rate</td> <th>  R-squared:         </th> <td>   0.047</td>\n",
       "</tr>\n",
       "<tr>\n",
       "  <th>Model:</th>                   <td>OLS</td>       <th>  Adj. R-squared:    </th> <td>   0.027</td>\n",
       "</tr>\n",
       "<tr>\n",
       "  <th>Method:</th>             <td>Least Squares</td>  <th>  F-statistic:       </th> <td>   2.399</td>\n",
       "</tr>\n",
       "<tr>\n",
       "  <th>Date:</th>             <td>Sun, 21 Feb 2021</td> <th>  Prob (F-statistic):</th>  <td> 0.128</td> \n",
       "</tr>\n",
       "<tr>\n",
       "  <th>Time:</th>                 <td>16:22:31</td>     <th>  Log-Likelihood:    </th> <td>  74.163</td>\n",
       "</tr>\n",
       "<tr>\n",
       "  <th>No. Observations:</th>      <td>    51</td>      <th>  AIC:               </th> <td>  -144.3</td>\n",
       "</tr>\n",
       "<tr>\n",
       "  <th>Df Residuals:</th>          <td>    49</td>      <th>  BIC:               </th> <td>  -140.5</td>\n",
       "</tr>\n",
       "<tr>\n",
       "  <th>Df Model:</th>              <td>     1</td>      <th>                     </th>     <td> </td>   \n",
       "</tr>\n",
       "<tr>\n",
       "  <th>Covariance Type:</th>      <td>nonrobust</td>    <th>                     </th>     <td> </td>   \n",
       "</tr>\n",
       "</table>\n",
       "<table class=\"simpletable\">\n",
       "<tr>\n",
       "            <td></td>              <th>coef</th>     <th>std err</th>      <th>t</th>      <th>P>|t|</th>  <th>[0.025</th>    <th>0.975]</th>  \n",
       "</tr>\n",
       "<tr>\n",
       "  <th>Intercept</th>            <td>    0.2633</td> <td>    0.108</td> <td>    2.435</td> <td> 0.019</td> <td>    0.046</td> <td>    0.481</td>\n",
       "</tr>\n",
       "<tr>\n",
       "  <th>misinformation_index</th> <td>   -0.0030</td> <td>    0.002</td> <td>   -1.549</td> <td> 0.128</td> <td>   -0.007</td> <td>    0.001</td>\n",
       "</tr>\n",
       "</table>\n",
       "<table class=\"simpletable\">\n",
       "<tr>\n",
       "  <th>Omnibus:</th>       <td>16.987</td> <th>  Durbin-Watson:     </th> <td>   1.951</td>\n",
       "</tr>\n",
       "<tr>\n",
       "  <th>Prob(Omnibus):</th> <td> 0.000</td> <th>  Jarque-Bera (JB):  </th> <td>  20.014</td>\n",
       "</tr>\n",
       "<tr>\n",
       "  <th>Skew:</th>          <td> 1.328</td> <th>  Prob(JB):          </th> <td>4.51e-05</td>\n",
       "</tr>\n",
       "<tr>\n",
       "  <th>Kurtosis:</th>      <td> 4.538</td> <th>  Cond. No.          </th> <td>    761.</td>\n",
       "</tr>\n",
       "</table><br/><br/>Notes:<br/>[1] Standard Errors assume that the covariance matrix of the errors is correctly specified."
      ],
      "text/plain": [
       "<class 'statsmodels.iolib.summary.Summary'>\n",
       "\"\"\"\n",
       "                            OLS Regression Results                            \n",
       "==============================================================================\n",
       "Dep. Variable:        positivity_rate   R-squared:                       0.047\n",
       "Model:                            OLS   Adj. R-squared:                  0.027\n",
       "Method:                 Least Squares   F-statistic:                     2.399\n",
       "Date:                Sun, 21 Feb 2021   Prob (F-statistic):              0.128\n",
       "Time:                        16:22:31   Log-Likelihood:                 74.163\n",
       "No. Observations:                  51   AIC:                            -144.3\n",
       "Df Residuals:                      49   BIC:                            -140.5\n",
       "Df Model:                           1                                         \n",
       "Covariance Type:            nonrobust                                         \n",
       "========================================================================================\n",
       "                           coef    std err          t      P>|t|      [0.025      0.975]\n",
       "----------------------------------------------------------------------------------------\n",
       "Intercept                0.2633      0.108      2.435      0.019       0.046       0.481\n",
       "misinformation_index    -0.0030      0.002     -1.549      0.128      -0.007       0.001\n",
       "==============================================================================\n",
       "Omnibus:                       16.987   Durbin-Watson:                   1.951\n",
       "Prob(Omnibus):                  0.000   Jarque-Bera (JB):               20.014\n",
       "Skew:                           1.328   Prob(JB):                     4.51e-05\n",
       "Kurtosis:                       4.538   Cond. No.                         761.\n",
       "==============================================================================\n",
       "\n",
       "Notes:\n",
       "[1] Standard Errors assume that the covariance matrix of the errors is correctly specified.\n",
       "\"\"\""
      ]
     },
     "execution_count": 27,
     "metadata": {},
     "output_type": "execute_result"
    }
   ],
   "source": [
    "cross_sectional_reg_2_posrate = smf.ols('positivity_rate ~ misinformation_index', data=us_cross_sectional).fit()\n",
    "cross_sectional_reg_2_posrate.summary()"
   ]
  },
  {
   "cell_type": "code",
   "execution_count": 28,
   "metadata": {},
   "outputs": [
    {
     "data": {
      "text/html": [
       "<table class=\"simpletable\">\n",
       "<caption>OLS Regression Results</caption>\n",
       "<tr>\n",
       "  <th>Dep. Variable:</th>       <td>deaths_pth</td>    <th>  R-squared:         </th> <td>   0.062</td>\n",
       "</tr>\n",
       "<tr>\n",
       "  <th>Model:</th>                   <td>OLS</td>       <th>  Adj. R-squared:    </th> <td>   0.043</td>\n",
       "</tr>\n",
       "<tr>\n",
       "  <th>Method:</th>             <td>Least Squares</td>  <th>  F-statistic:       </th> <td>   3.238</td>\n",
       "</tr>\n",
       "<tr>\n",
       "  <th>Date:</th>             <td>Sun, 21 Feb 2021</td> <th>  Prob (F-statistic):</th>  <td>0.0781</td> \n",
       "</tr>\n",
       "<tr>\n",
       "  <th>Time:</th>                 <td>16:22:31</td>     <th>  Log-Likelihood:    </th> <td>  259.94</td>\n",
       "</tr>\n",
       "<tr>\n",
       "  <th>No. Observations:</th>      <td>    51</td>      <th>  AIC:               </th> <td>  -515.9</td>\n",
       "</tr>\n",
       "<tr>\n",
       "  <th>Df Residuals:</th>          <td>    49</td>      <th>  BIC:               </th> <td>  -512.0</td>\n",
       "</tr>\n",
       "<tr>\n",
       "  <th>Df Model:</th>              <td>     1</td>      <th>                     </th>     <td> </td>   \n",
       "</tr>\n",
       "<tr>\n",
       "  <th>Covariance Type:</th>      <td>nonrobust</td>    <th>                     </th>     <td> </td>   \n",
       "</tr>\n",
       "</table>\n",
       "<table class=\"simpletable\">\n",
       "<tr>\n",
       "            <td></td>              <th>coef</th>     <th>std err</th>      <th>t</th>      <th>P>|t|</th>  <th>[0.025</th>    <th>0.975]</th>  \n",
       "</tr>\n",
       "<tr>\n",
       "  <th>Intercept</th>            <td>   -0.0013</td> <td>    0.003</td> <td>   -0.461</td> <td> 0.647</td> <td>   -0.007</td> <td>    0.004</td>\n",
       "</tr>\n",
       "<tr>\n",
       "  <th>misinformation_index</th> <td> 8.974e-05</td> <td> 4.99e-05</td> <td>    1.799</td> <td> 0.078</td> <td>-1.05e-05</td> <td>    0.000</td>\n",
       "</tr>\n",
       "</table>\n",
       "<table class=\"simpletable\">\n",
       "<tr>\n",
       "  <th>Omnibus:</th>       <td> 1.569</td> <th>  Durbin-Watson:     </th> <td>   1.792</td>\n",
       "</tr>\n",
       "<tr>\n",
       "  <th>Prob(Omnibus):</th> <td> 0.456</td> <th>  Jarque-Bera (JB):  </th> <td>   1.116</td>\n",
       "</tr>\n",
       "<tr>\n",
       "  <th>Skew:</th>          <td> 0.010</td> <th>  Prob(JB):          </th> <td>   0.572</td>\n",
       "</tr>\n",
       "<tr>\n",
       "  <th>Kurtosis:</th>      <td> 2.276</td> <th>  Cond. No.          </th> <td>    761.</td>\n",
       "</tr>\n",
       "</table><br/><br/>Notes:<br/>[1] Standard Errors assume that the covariance matrix of the errors is correctly specified."
      ],
      "text/plain": [
       "<class 'statsmodels.iolib.summary.Summary'>\n",
       "\"\"\"\n",
       "                            OLS Regression Results                            \n",
       "==============================================================================\n",
       "Dep. Variable:             deaths_pth   R-squared:                       0.062\n",
       "Model:                            OLS   Adj. R-squared:                  0.043\n",
       "Method:                 Least Squares   F-statistic:                     3.238\n",
       "Date:                Sun, 21 Feb 2021   Prob (F-statistic):             0.0781\n",
       "Time:                        16:22:31   Log-Likelihood:                 259.94\n",
       "No. Observations:                  51   AIC:                            -515.9\n",
       "Df Residuals:                      49   BIC:                            -512.0\n",
       "Df Model:                           1                                         \n",
       "Covariance Type:            nonrobust                                         \n",
       "========================================================================================\n",
       "                           coef    std err          t      P>|t|      [0.025      0.975]\n",
       "----------------------------------------------------------------------------------------\n",
       "Intercept               -0.0013      0.003     -0.461      0.647      -0.007       0.004\n",
       "misinformation_index  8.974e-05   4.99e-05      1.799      0.078   -1.05e-05       0.000\n",
       "==============================================================================\n",
       "Omnibus:                        1.569   Durbin-Watson:                   1.792\n",
       "Prob(Omnibus):                  0.456   Jarque-Bera (JB):                1.116\n",
       "Skew:                           0.010   Prob(JB):                        0.572\n",
       "Kurtosis:                       2.276   Cond. No.                         761.\n",
       "==============================================================================\n",
       "\n",
       "Notes:\n",
       "[1] Standard Errors assume that the covariance matrix of the errors is correctly specified.\n",
       "\"\"\""
      ]
     },
     "execution_count": 28,
     "metadata": {},
     "output_type": "execute_result"
    }
   ],
   "source": [
    "cross_sectional_reg_2_dea = smf.ols('deaths_pth ~ misinformation_index', data=us_cross_sectional).fit()\n",
    "cross_sectional_reg_2_dea.summary()"
   ]
  },
  {
   "cell_type": "code",
   "execution_count": 29,
   "metadata": {},
   "outputs": [
    {
     "data": {
      "text/html": [
       "<table class=\"simpletable\">\n",
       "<caption>OLS Regression Results</caption>\n",
       "<tr>\n",
       "  <th>Dep. Variable:</th>     <td>positivity_rate</td> <th>  R-squared:         </th> <td>   0.017</td>\n",
       "</tr>\n",
       "<tr>\n",
       "  <th>Model:</th>                   <td>OLS</td>       <th>  Adj. R-squared:    </th> <td>  -0.003</td>\n",
       "</tr>\n",
       "<tr>\n",
       "  <th>Method:</th>             <td>Least Squares</td>  <th>  F-statistic:       </th> <td>  0.8389</td>\n",
       "</tr>\n",
       "<tr>\n",
       "  <th>Date:</th>             <td>Sun, 21 Feb 2021</td> <th>  Prob (F-statistic):</th>  <td> 0.364</td> \n",
       "</tr>\n",
       "<tr>\n",
       "  <th>Time:</th>                 <td>16:22:31</td>     <th>  Log-Likelihood:    </th> <td>  61.165</td>\n",
       "</tr>\n",
       "<tr>\n",
       "  <th>No. Observations:</th>      <td>    51</td>      <th>  AIC:               </th> <td>  -118.3</td>\n",
       "</tr>\n",
       "<tr>\n",
       "  <th>Df Residuals:</th>          <td>    49</td>      <th>  BIC:               </th> <td>  -114.5</td>\n",
       "</tr>\n",
       "<tr>\n",
       "  <th>Df Model:</th>              <td>     1</td>      <th>                     </th>     <td> </td>   \n",
       "</tr>\n",
       "<tr>\n",
       "  <th>Covariance Type:</th>      <td>nonrobust</td>    <th>                     </th>     <td> </td>   \n",
       "</tr>\n",
       "</table>\n",
       "<table class=\"simpletable\">\n",
       "<tr>\n",
       "          <td></td>            <th>coef</th>     <th>std err</th>      <th>t</th>      <th>P>|t|</th>  <th>[0.025</th>    <th>0.975]</th>  \n",
       "</tr>\n",
       "<tr>\n",
       "  <th>Intercept</th>        <td>    0.0442</td> <td>    0.067</td> <td>    0.661</td> <td> 0.512</td> <td>   -0.090</td> <td>    0.179</td>\n",
       "</tr>\n",
       "<tr>\n",
       "  <th>pc_misconception</th> <td>    0.4314</td> <td>    0.471</td> <td>    0.916</td> <td> 0.364</td> <td>   -0.515</td> <td>    1.378</td>\n",
       "</tr>\n",
       "</table>\n",
       "<table class=\"simpletable\">\n",
       "<tr>\n",
       "  <th>Omnibus:</th>       <td>27.005</td> <th>  Durbin-Watson:     </th> <td>   1.753</td>\n",
       "</tr>\n",
       "<tr>\n",
       "  <th>Prob(Omnibus):</th> <td> 0.000</td> <th>  Jarque-Bera (JB):  </th> <td>  44.616</td>\n",
       "</tr>\n",
       "<tr>\n",
       "  <th>Skew:</th>          <td> 1.756</td> <th>  Prob(JB):          </th> <td>2.05e-10</td>\n",
       "</tr>\n",
       "<tr>\n",
       "  <th>Kurtosis:</th>      <td> 5.942</td> <th>  Cond. No.          </th> <td>    46.1</td>\n",
       "</tr>\n",
       "</table><br/><br/>Notes:<br/>[1] Standard Errors assume that the covariance matrix of the errors is correctly specified."
      ],
      "text/plain": [
       "<class 'statsmodels.iolib.summary.Summary'>\n",
       "\"\"\"\n",
       "                            OLS Regression Results                            \n",
       "==============================================================================\n",
       "Dep. Variable:        positivity_rate   R-squared:                       0.017\n",
       "Model:                            OLS   Adj. R-squared:                 -0.003\n",
       "Method:                 Least Squares   F-statistic:                    0.8389\n",
       "Date:                Sun, 21 Feb 2021   Prob (F-statistic):              0.364\n",
       "Time:                        16:22:31   Log-Likelihood:                 61.165\n",
       "No. Observations:                  51   AIC:                            -118.3\n",
       "Df Residuals:                      49   BIC:                            -114.5\n",
       "Df Model:                           1                                         \n",
       "Covariance Type:            nonrobust                                         \n",
       "====================================================================================\n",
       "                       coef    std err          t      P>|t|      [0.025      0.975]\n",
       "------------------------------------------------------------------------------------\n",
       "Intercept            0.0442      0.067      0.661      0.512      -0.090       0.179\n",
       "pc_misconception     0.4314      0.471      0.916      0.364      -0.515       1.378\n",
       "==============================================================================\n",
       "Omnibus:                       27.005   Durbin-Watson:                   1.753\n",
       "Prob(Omnibus):                  0.000   Jarque-Bera (JB):               44.616\n",
       "Skew:                           1.756   Prob(JB):                     2.05e-10\n",
       "Kurtosis:                       5.942   Cond. No.                         46.1\n",
       "==============================================================================\n",
       "\n",
       "Notes:\n",
       "[1] Standard Errors assume that the covariance matrix of the errors is correctly specified.\n",
       "\"\"\""
      ]
     },
     "execution_count": 29,
     "metadata": {},
     "output_type": "execute_result"
    }
   ],
   "source": [
    "Aug_reg_1_posrate = smf.ols('positivity_rate ~ pc_misconception', data=us_Aug).fit()\n",
    "Aug_reg_1_posrate.summary()"
   ]
  },
  {
   "cell_type": "code",
   "execution_count": 30,
   "metadata": {},
   "outputs": [
    {
     "name": "stdout",
     "output_type": "stream",
     "text": [
      "\\begin{table}\n",
      "\\caption{}\n",
      "\\label{}\n",
      "\\begin{center}\n",
      "\\begin{tabular}{lllll}\n",
      "\\hline\n",
      "                      & positivity\\_rate I & deaths\\_pth I & positivity\\_rate II & deaths\\_pth II  \\\\\n",
      "\\hline\n",
      "Intercept             & 0.0341             & 0.0013        & 0.2633**            & -0.0013         \\\\\n",
      "                      & (0.0523)           & (0.0014)      & (0.1081)            & (0.0028)        \\\\\n",
      "R-squared             & 0.0287             & 0.0655        & 0.0467              & 0.0620          \\\\\n",
      "R-squared Adj.        & 0.0089             & 0.0465        & 0.0272              & 0.0428          \\\\\n",
      "misinformation\\_index &                    &               & -0.0030             & 0.0001*         \\\\\n",
      "                      &                    &               & (0.0019)            & (0.0000)        \\\\\n",
      "pc\\_misconception     & 0.4433             & 0.0177*       &                     &                 \\\\\n",
      "                      & (0.3685)           & (0.0095)      &                     &                 \\\\\n",
      "\\hline\n",
      "\\end{tabular}\n",
      "\\end{center}\n",
      "\\end{table}\n"
     ]
    }
   ],
   "source": [
    "print(summary_col([cross_sectional_reg_1_posrate, cross_sectional_reg_1_dea, cross_sectional_reg_2_posrate, cross_sectional_reg_2_dea],stars=True, float_format=\"%0.4f\").as_latex())"
   ]
  },
  {
   "cell_type": "code",
   "execution_count": 31,
   "metadata": {},
   "outputs": [
    {
     "data": {
      "text/html": [
       "<table class=\"simpletable\">\n",
       "<caption>OLS Regression Results</caption>\n",
       "<tr>\n",
       "  <th>Dep. Variable:</th>     <td>positivity_rate</td> <th>  R-squared:         </th> <td>   0.158</td>\n",
       "</tr>\n",
       "<tr>\n",
       "  <th>Model:</th>                   <td>OLS</td>       <th>  Adj. R-squared:    </th> <td>   0.084</td>\n",
       "</tr>\n",
       "<tr>\n",
       "  <th>Method:</th>             <td>Least Squares</td>  <th>  F-statistic:       </th> <td>   2.118</td>\n",
       "</tr>\n",
       "<tr>\n",
       "  <th>Date:</th>             <td>Sun, 21 Feb 2021</td> <th>  Prob (F-statistic):</th>  <td>0.0942</td> \n",
       "</tr>\n",
       "<tr>\n",
       "  <th>Time:</th>                 <td>16:22:31</td>     <th>  Log-Likelihood:    </th> <td>  75.926</td>\n",
       "</tr>\n",
       "<tr>\n",
       "  <th>No. Observations:</th>      <td>    50</td>      <th>  AIC:               </th> <td>  -141.9</td>\n",
       "</tr>\n",
       "<tr>\n",
       "  <th>Df Residuals:</th>          <td>    45</td>      <th>  BIC:               </th> <td>  -132.3</td>\n",
       "</tr>\n",
       "<tr>\n",
       "  <th>Df Model:</th>              <td>     4</td>      <th>                     </th>     <td> </td>   \n",
       "</tr>\n",
       "<tr>\n",
       "  <th>Covariance Type:</th>      <td>nonrobust</td>    <th>                     </th>     <td> </td>   \n",
       "</tr>\n",
       "</table>\n",
       "<table class=\"simpletable\">\n",
       "<tr>\n",
       "            <td></td>              <th>coef</th>     <th>std err</th>      <th>t</th>      <th>P>|t|</th>  <th>[0.025</th>    <th>0.975]</th>  \n",
       "</tr>\n",
       "<tr>\n",
       "  <th>Intercept</th>            <td>    0.1768</td> <td>    0.196</td> <td>    0.900</td> <td> 0.373</td> <td>   -0.219</td> <td>    0.572</td>\n",
       "</tr>\n",
       "<tr>\n",
       "  <th>pc_misconception</th>     <td>    1.1730</td> <td>    0.468</td> <td>    2.508</td> <td> 0.016</td> <td>    0.231</td> <td>    2.115</td>\n",
       "</tr>\n",
       "<tr>\n",
       "  <th>misinformation_index</th> <td>   -0.0046</td> <td>    0.003</td> <td>   -1.383</td> <td> 0.173</td> <td>   -0.011</td> <td>    0.002</td>\n",
       "</tr>\n",
       "<tr>\n",
       "  <th>White</th>                <td>    0.0165</td> <td>    0.082</td> <td>    0.201</td> <td> 0.842</td> <td>   -0.149</td> <td>    0.182</td>\n",
       "</tr>\n",
       "<tr>\n",
       "  <th>Urbanization_rate</th>    <td> 6.173e-05</td> <td>    0.001</td> <td>    0.089</td> <td> 0.930</td> <td>   -0.001</td> <td>    0.001</td>\n",
       "</tr>\n",
       "</table>\n",
       "<table class=\"simpletable\">\n",
       "<tr>\n",
       "  <th>Omnibus:</th>       <td>21.595</td> <th>  Durbin-Watson:     </th> <td>   1.974</td>\n",
       "</tr>\n",
       "<tr>\n",
       "  <th>Prob(Omnibus):</th> <td> 0.000</td> <th>  Jarque-Bera (JB):  </th> <td>  31.075</td>\n",
       "</tr>\n",
       "<tr>\n",
       "  <th>Skew:</th>          <td> 1.474</td> <th>  Prob(JB):          </th> <td>1.79e-07</td>\n",
       "</tr>\n",
       "<tr>\n",
       "  <th>Kurtosis:</th>      <td> 5.496</td> <th>  Cond. No.          </th> <td>5.54e+03</td>\n",
       "</tr>\n",
       "</table><br/><br/>Notes:<br/>[1] Standard Errors assume that the covariance matrix of the errors is correctly specified.<br/>[2] The condition number is large, 5.54e+03. This might indicate that there are<br/>strong multicollinearity or other numerical problems."
      ],
      "text/plain": [
       "<class 'statsmodels.iolib.summary.Summary'>\n",
       "\"\"\"\n",
       "                            OLS Regression Results                            \n",
       "==============================================================================\n",
       "Dep. Variable:        positivity_rate   R-squared:                       0.158\n",
       "Model:                            OLS   Adj. R-squared:                  0.084\n",
       "Method:                 Least Squares   F-statistic:                     2.118\n",
       "Date:                Sun, 21 Feb 2021   Prob (F-statistic):             0.0942\n",
       "Time:                        16:22:31   Log-Likelihood:                 75.926\n",
       "No. Observations:                  50   AIC:                            -141.9\n",
       "Df Residuals:                      45   BIC:                            -132.3\n",
       "Df Model:                           4                                         \n",
       "Covariance Type:            nonrobust                                         \n",
       "========================================================================================\n",
       "                           coef    std err          t      P>|t|      [0.025      0.975]\n",
       "----------------------------------------------------------------------------------------\n",
       "Intercept                0.1768      0.196      0.900      0.373      -0.219       0.572\n",
       "pc_misconception         1.1730      0.468      2.508      0.016       0.231       2.115\n",
       "misinformation_index    -0.0046      0.003     -1.383      0.173      -0.011       0.002\n",
       "White                    0.0165      0.082      0.201      0.842      -0.149       0.182\n",
       "Urbanization_rate     6.173e-05      0.001      0.089      0.930      -0.001       0.001\n",
       "==============================================================================\n",
       "Omnibus:                       21.595   Durbin-Watson:                   1.974\n",
       "Prob(Omnibus):                  0.000   Jarque-Bera (JB):               31.075\n",
       "Skew:                           1.474   Prob(JB):                     1.79e-07\n",
       "Kurtosis:                       5.496   Cond. No.                     5.54e+03\n",
       "==============================================================================\n",
       "\n",
       "Notes:\n",
       "[1] Standard Errors assume that the covariance matrix of the errors is correctly specified.\n",
       "[2] The condition number is large, 5.54e+03. This might indicate that there are\n",
       "strong multicollinearity or other numerical problems.\n",
       "\"\"\""
      ]
     },
     "execution_count": 31,
     "metadata": {},
     "output_type": "execute_result"
    }
   ],
   "source": [
    "cross_sectional_reg_3_posrate = smf.ols('positivity_rate ~ pc_misconception + misinformation_index + White + Urbanization_rate', data=us_cross_sectional).fit()\n",
    "cross_sectional_reg_3_posrate.summary()"
   ]
  },
  {
   "cell_type": "code",
   "execution_count": 32,
   "metadata": {},
   "outputs": [
    {
     "data": {
      "text/html": [
       "<table class=\"simpletable\">\n",
       "<caption>OLS Regression Results</caption>\n",
       "<tr>\n",
       "  <th>Dep. Variable:</th>       <td>deaths_pth</td>    <th>  R-squared:         </th> <td>   0.160</td>\n",
       "</tr>\n",
       "<tr>\n",
       "  <th>Model:</th>                   <td>OLS</td>       <th>  Adj. R-squared:    </th> <td>   0.085</td>\n",
       "</tr>\n",
       "<tr>\n",
       "  <th>Method:</th>             <td>Least Squares</td>  <th>  F-statistic:       </th> <td>   2.138</td>\n",
       "</tr>\n",
       "<tr>\n",
       "  <th>Date:</th>             <td>Sun, 21 Feb 2021</td> <th>  Prob (F-statistic):</th>  <td>0.0916</td> \n",
       "</tr>\n",
       "<tr>\n",
       "  <th>Time:</th>                 <td>16:22:31</td>     <th>  Log-Likelihood:    </th> <td>  257.10</td>\n",
       "</tr>\n",
       "<tr>\n",
       "  <th>No. Observations:</th>      <td>    50</td>      <th>  AIC:               </th> <td>  -504.2</td>\n",
       "</tr>\n",
       "<tr>\n",
       "  <th>Df Residuals:</th>          <td>    45</td>      <th>  BIC:               </th> <td>  -494.6</td>\n",
       "</tr>\n",
       "<tr>\n",
       "  <th>Df Model:</th>              <td>     4</td>      <th>                     </th>     <td> </td>   \n",
       "</tr>\n",
       "<tr>\n",
       "  <th>Covariance Type:</th>      <td>nonrobust</td>    <th>                     </th>     <td> </td>   \n",
       "</tr>\n",
       "</table>\n",
       "<table class=\"simpletable\">\n",
       "<tr>\n",
       "            <td></td>              <th>coef</th>     <th>std err</th>      <th>t</th>      <th>P>|t|</th>  <th>[0.025</th>    <th>0.975]</th>  \n",
       "</tr>\n",
       "<tr>\n",
       "  <th>Intercept</th>            <td>   -0.0066</td> <td>    0.005</td> <td>   -1.256</td> <td> 0.215</td> <td>   -0.017</td> <td>    0.004</td>\n",
       "</tr>\n",
       "<tr>\n",
       "  <th>pc_misconception</th>     <td>    0.0216</td> <td>    0.012</td> <td>    1.730</td> <td> 0.090</td> <td>   -0.004</td> <td>    0.047</td>\n",
       "</tr>\n",
       "<tr>\n",
       "  <th>misinformation_index</th> <td> 8.239e-05</td> <td>  8.9e-05</td> <td>    0.926</td> <td> 0.359</td> <td>-9.68e-05</td> <td>    0.000</td>\n",
       "</tr>\n",
       "<tr>\n",
       "  <th>White</th>                <td>    0.0017</td> <td>    0.002</td> <td>    0.779</td> <td> 0.440</td> <td>   -0.003</td> <td>    0.006</td>\n",
       "</tr>\n",
       "<tr>\n",
       "  <th>Urbanization_rate</th>    <td> 1.878e-05</td> <td> 1.86e-05</td> <td>    1.010</td> <td> 0.318</td> <td>-1.87e-05</td> <td> 5.62e-05</td>\n",
       "</tr>\n",
       "</table>\n",
       "<table class=\"simpletable\">\n",
       "<tr>\n",
       "  <th>Omnibus:</th>       <td> 2.294</td> <th>  Durbin-Watson:     </th> <td>   1.847</td>\n",
       "</tr>\n",
       "<tr>\n",
       "  <th>Prob(Omnibus):</th> <td> 0.318</td> <th>  Jarque-Bera (JB):  </th> <td>   1.439</td>\n",
       "</tr>\n",
       "<tr>\n",
       "  <th>Skew:</th>          <td> 0.127</td> <th>  Prob(JB):          </th> <td>   0.487</td>\n",
       "</tr>\n",
       "<tr>\n",
       "  <th>Kurtosis:</th>      <td> 2.208</td> <th>  Cond. No.          </th> <td>5.54e+03</td>\n",
       "</tr>\n",
       "</table><br/><br/>Notes:<br/>[1] Standard Errors assume that the covariance matrix of the errors is correctly specified.<br/>[2] The condition number is large, 5.54e+03. This might indicate that there are<br/>strong multicollinearity or other numerical problems."
      ],
      "text/plain": [
       "<class 'statsmodels.iolib.summary.Summary'>\n",
       "\"\"\"\n",
       "                            OLS Regression Results                            \n",
       "==============================================================================\n",
       "Dep. Variable:             deaths_pth   R-squared:                       0.160\n",
       "Model:                            OLS   Adj. R-squared:                  0.085\n",
       "Method:                 Least Squares   F-statistic:                     2.138\n",
       "Date:                Sun, 21 Feb 2021   Prob (F-statistic):             0.0916\n",
       "Time:                        16:22:31   Log-Likelihood:                 257.10\n",
       "No. Observations:                  50   AIC:                            -504.2\n",
       "Df Residuals:                      45   BIC:                            -494.6\n",
       "Df Model:                           4                                         \n",
       "Covariance Type:            nonrobust                                         \n",
       "========================================================================================\n",
       "                           coef    std err          t      P>|t|      [0.025      0.975]\n",
       "----------------------------------------------------------------------------------------\n",
       "Intercept               -0.0066      0.005     -1.256      0.215      -0.017       0.004\n",
       "pc_misconception         0.0216      0.012      1.730      0.090      -0.004       0.047\n",
       "misinformation_index  8.239e-05    8.9e-05      0.926      0.359   -9.68e-05       0.000\n",
       "White                    0.0017      0.002      0.779      0.440      -0.003       0.006\n",
       "Urbanization_rate     1.878e-05   1.86e-05      1.010      0.318   -1.87e-05    5.62e-05\n",
       "==============================================================================\n",
       "Omnibus:                        2.294   Durbin-Watson:                   1.847\n",
       "Prob(Omnibus):                  0.318   Jarque-Bera (JB):                1.439\n",
       "Skew:                           0.127   Prob(JB):                        0.487\n",
       "Kurtosis:                       2.208   Cond. No.                     5.54e+03\n",
       "==============================================================================\n",
       "\n",
       "Notes:\n",
       "[1] Standard Errors assume that the covariance matrix of the errors is correctly specified.\n",
       "[2] The condition number is large, 5.54e+03. This might indicate that there are\n",
       "strong multicollinearity or other numerical problems.\n",
       "\"\"\""
      ]
     },
     "execution_count": 32,
     "metadata": {},
     "output_type": "execute_result"
    }
   ],
   "source": [
    "cross_sectional_reg_3_dea = smf.ols('deaths_pth ~ pc_misconception + misinformation_index + White + Urbanization_rate', data=us_cross_sectional).fit()\n",
    "cross_sectional_reg_3_dea.summary()"
   ]
  },
  {
   "cell_type": "code",
   "execution_count": 33,
   "metadata": {},
   "outputs": [
    {
     "name": "stdout",
     "output_type": "stream",
     "text": [
      "\\begin{table}\n",
      "\\caption{}\n",
      "\\label{}\n",
      "\\begin{center}\n",
      "\\begin{tabular}{lll}\n",
      "\\hline\n",
      "                      & positivity\\_rate & deaths\\_pth  \\\\\n",
      "\\hline\n",
      "Intercept             & 0.1768           & -0.0066      \\\\\n",
      "                      & (0.1965)         & (0.0052)     \\\\\n",
      "pc\\_misconception     & 1.1730**         & 0.0216*      \\\\\n",
      "                      & (0.4678)         & (0.0125)     \\\\\n",
      "misinformation\\_index & -0.0046          & 0.0001       \\\\\n",
      "                      & (0.0033)         & (0.0001)     \\\\\n",
      "White                 & 0.0165           & 0.0017       \\\\\n",
      "                      & (0.0822)         & (0.0022)     \\\\\n",
      "Urbanization\\_rate    & 0.0001           & 0.0000       \\\\\n",
      "                      & (0.0007)         & (0.0000)     \\\\\n",
      "R-squared             & 0.1584           & 0.1597       \\\\\n",
      "R-squared Adj.        & 0.0836           & 0.0850       \\\\\n",
      "\\hline\n",
      "\\end{tabular}\n",
      "\\end{center}\n",
      "\\end{table}\n"
     ]
    }
   ],
   "source": [
    "print(summary_col([cross_sectional_reg_3_posrate, cross_sectional_reg_3_dea],stars=True, float_format=\"%0.4f\").as_latex())"
   ]
  },
  {
   "cell_type": "code",
   "execution_count": 34,
   "metadata": {},
   "outputs": [
    {
     "data": {
      "text/plain": [
       "0.0223374301188325"
      ]
     },
     "execution_count": 34,
     "metadata": {},
     "output_type": "execute_result"
    }
   ],
   "source": [
    "us_cross_sectional[\"pc_misconception\"].std()"
   ]
  },
  {
   "cell_type": "markdown",
   "metadata": {},
   "source": [
    "## Relationship between misconception and mobility"
   ]
  },
  {
   "cell_type": "code",
   "execution_count": 35,
   "metadata": {},
   "outputs": [
    {
     "data": {
      "text/html": [
       "<table class=\"simpletable\">\n",
       "<caption>OLS Regression Results</caption>\n",
       "<tr>\n",
       "  <th>Dep. Variable:</th>    <td>non_residential_percent_change_from_baseline</td> <th>  R-squared:         </th> <td>   0.676</td>\n",
       "</tr>\n",
       "<tr>\n",
       "  <th>Model:</th>                                 <td>OLS</td>                     <th>  Adj. R-squared:    </th> <td>   0.648</td>\n",
       "</tr>\n",
       "<tr>\n",
       "  <th>Method:</th>                           <td>Least Squares</td>                <th>  F-statistic:       </th> <td>   23.52</td>\n",
       "</tr>\n",
       "<tr>\n",
       "  <th>Date:</th>                           <td>Sun, 21 Feb 2021</td>               <th>  Prob (F-statistic):</th> <td>1.53e-10</td>\n",
       "</tr>\n",
       "<tr>\n",
       "  <th>Time:</th>                               <td>16:22:31</td>                   <th>  Log-Likelihood:    </th> <td> -168.24</td>\n",
       "</tr>\n",
       "<tr>\n",
       "  <th>No. Observations:</th>                    <td>    50</td>                    <th>  AIC:               </th> <td>   346.5</td>\n",
       "</tr>\n",
       "<tr>\n",
       "  <th>Df Residuals:</th>                        <td>    45</td>                    <th>  BIC:               </th> <td>   356.0</td>\n",
       "</tr>\n",
       "<tr>\n",
       "  <th>Df Model:</th>                            <td>     4</td>                    <th>                     </th>     <td> </td>   \n",
       "</tr>\n",
       "<tr>\n",
       "  <th>Covariance Type:</th>                    <td>nonrobust</td>                  <th>                     </th>     <td> </td>   \n",
       "</tr>\n",
       "</table>\n",
       "<table class=\"simpletable\">\n",
       "<tr>\n",
       "            <td></td>              <th>coef</th>     <th>std err</th>      <th>t</th>      <th>P>|t|</th>  <th>[0.025</th>    <th>0.975]</th>  \n",
       "</tr>\n",
       "<tr>\n",
       "  <th>Intercept</th>            <td>   93.9524</td> <td>   18.023</td> <td>    5.213</td> <td> 0.000</td> <td>   57.653</td> <td>  130.252</td>\n",
       "</tr>\n",
       "<tr>\n",
       "  <th>pc_misconception</th>     <td>  134.9034</td> <td>   62.803</td> <td>    2.148</td> <td> 0.037</td> <td>    8.411</td> <td>  261.396</td>\n",
       "</tr>\n",
       "<tr>\n",
       "  <th>misinformation_index</th> <td>   -1.5900</td> <td>    0.410</td> <td>   -3.879</td> <td> 0.000</td> <td>   -2.416</td> <td>   -0.764</td>\n",
       "</tr>\n",
       "<tr>\n",
       "  <th>Urbanization_rate</th>    <td>   -0.2340</td> <td>    0.092</td> <td>   -2.538</td> <td> 0.015</td> <td>   -0.420</td> <td>   -0.048</td>\n",
       "</tr>\n",
       "<tr>\n",
       "  <th>AverageTemperature</th>   <td>   -0.9598</td> <td>    0.240</td> <td>   -3.999</td> <td> 0.000</td> <td>   -1.443</td> <td>   -0.476</td>\n",
       "</tr>\n",
       "</table>\n",
       "<table class=\"simpletable\">\n",
       "<tr>\n",
       "  <th>Omnibus:</th>       <td> 0.311</td> <th>  Durbin-Watson:     </th> <td>   2.234</td>\n",
       "</tr>\n",
       "<tr>\n",
       "  <th>Prob(Omnibus):</th> <td> 0.856</td> <th>  Jarque-Bera (JB):  </th> <td>   0.492</td>\n",
       "</tr>\n",
       "<tr>\n",
       "  <th>Skew:</th>          <td>-0.040</td> <th>  Prob(JB):          </th> <td>   0.782</td>\n",
       "</tr>\n",
       "<tr>\n",
       "  <th>Kurtosis:</th>      <td> 2.521</td> <th>  Cond. No.          </th> <td>5.67e+03</td>\n",
       "</tr>\n",
       "</table><br/><br/>Notes:<br/>[1] Standard Errors assume that the covariance matrix of the errors is correctly specified.<br/>[2] The condition number is large, 5.67e+03. This might indicate that there are<br/>strong multicollinearity or other numerical problems."
      ],
      "text/plain": [
       "<class 'statsmodels.iolib.summary.Summary'>\n",
       "\"\"\"\n",
       "                                         OLS Regression Results                                         \n",
       "========================================================================================================\n",
       "Dep. Variable:     non_residential_percent_change_from_baseline   R-squared:                       0.676\n",
       "Model:                                                      OLS   Adj. R-squared:                  0.648\n",
       "Method:                                           Least Squares   F-statistic:                     23.52\n",
       "Date:                                          Sun, 21 Feb 2021   Prob (F-statistic):           1.53e-10\n",
       "Time:                                                  16:22:31   Log-Likelihood:                -168.24\n",
       "No. Observations:                                            50   AIC:                             346.5\n",
       "Df Residuals:                                                45   BIC:                             356.0\n",
       "Df Model:                                                     4                                         \n",
       "Covariance Type:                                      nonrobust                                         \n",
       "========================================================================================\n",
       "                           coef    std err          t      P>|t|      [0.025      0.975]\n",
       "----------------------------------------------------------------------------------------\n",
       "Intercept               93.9524     18.023      5.213      0.000      57.653     130.252\n",
       "pc_misconception       134.9034     62.803      2.148      0.037       8.411     261.396\n",
       "misinformation_index    -1.5900      0.410     -3.879      0.000      -2.416      -0.764\n",
       "Urbanization_rate       -0.2340      0.092     -2.538      0.015      -0.420      -0.048\n",
       "AverageTemperature      -0.9598      0.240     -3.999      0.000      -1.443      -0.476\n",
       "==============================================================================\n",
       "Omnibus:                        0.311   Durbin-Watson:                   2.234\n",
       "Prob(Omnibus):                  0.856   Jarque-Bera (JB):                0.492\n",
       "Skew:                          -0.040   Prob(JB):                        0.782\n",
       "Kurtosis:                       2.521   Cond. No.                     5.67e+03\n",
       "==============================================================================\n",
       "\n",
       "Notes:\n",
       "[1] Standard Errors assume that the covariance matrix of the errors is correctly specified.\n",
       "[2] The condition number is large, 5.67e+03. This might indicate that there are\n",
       "strong multicollinearity or other numerical problems.\n",
       "\"\"\""
      ]
     },
     "execution_count": 35,
     "metadata": {},
     "output_type": "execute_result"
    }
   ],
   "source": [
    "cross_sectional_reg_6_mobility = smf.ols(\n",
    "    \"non_residential_percent_change_from_baseline ~ pc_misconception + misinformation_index + Urbanization_rate + AverageTemperature\",\n",
    "    data=us_cross_sectional,\n",
    ").fit()\n",
    "cross_sectional_reg_6_mobility.summary()"
   ]
  },
  {
   "cell_type": "code",
   "execution_count": 36,
   "metadata": {},
   "outputs": [
    {
     "data": {
      "text/html": [
       "<table class=\"simpletable\">\n",
       "<caption>OLS Regression Results</caption>\n",
       "<tr>\n",
       "  <th>Dep. Variable:</th>    <td>non_residential_percent_change_from_baseline</td> <th>  R-squared:         </th> <td>   0.745</td>\n",
       "</tr>\n",
       "<tr>\n",
       "  <th>Model:</th>                                 <td>OLS</td>                     <th>  Adj. R-squared:    </th> <td>   0.716</td>\n",
       "</tr>\n",
       "<tr>\n",
       "  <th>Method:</th>                           <td>Least Squares</td>                <th>  F-statistic:       </th> <td>   25.76</td>\n",
       "</tr>\n",
       "<tr>\n",
       "  <th>Date:</th>                           <td>Sun, 21 Feb 2021</td>               <th>  Prob (F-statistic):</th> <td>4.72e-12</td>\n",
       "</tr>\n",
       "<tr>\n",
       "  <th>Time:</th>                               <td>16:22:31</td>                   <th>  Log-Likelihood:    </th> <td> -162.25</td>\n",
       "</tr>\n",
       "<tr>\n",
       "  <th>No. Observations:</th>                    <td>    50</td>                    <th>  AIC:               </th> <td>   336.5</td>\n",
       "</tr>\n",
       "<tr>\n",
       "  <th>Df Residuals:</th>                        <td>    44</td>                    <th>  BIC:               </th> <td>   348.0</td>\n",
       "</tr>\n",
       "<tr>\n",
       "  <th>Df Model:</th>                            <td>     5</td>                    <th>                     </th>     <td> </td>   \n",
       "</tr>\n",
       "<tr>\n",
       "  <th>Covariance Type:</th>                    <td>nonrobust</td>                  <th>                     </th>     <td> </td>   \n",
       "</tr>\n",
       "</table>\n",
       "<table class=\"simpletable\">\n",
       "<tr>\n",
       "            <td></td>              <th>coef</th>     <th>std err</th>      <th>t</th>      <th>P>|t|</th>  <th>[0.025</th>    <th>0.975]</th>  \n",
       "</tr>\n",
       "<tr>\n",
       "  <th>Intercept</th>            <td>   98.0808</td> <td>   16.213</td> <td>    6.049</td> <td> 0.000</td> <td>   65.405</td> <td>  130.757</td>\n",
       "</tr>\n",
       "<tr>\n",
       "  <th>pc_misconception</th>     <td>   64.3559</td> <td>   59.939</td> <td>    1.074</td> <td> 0.289</td> <td>  -56.444</td> <td>  185.156</td>\n",
       "</tr>\n",
       "<tr>\n",
       "  <th>misinformation_index</th> <td>   -1.1722</td> <td>    0.387</td> <td>   -3.028</td> <td> 0.004</td> <td>   -1.953</td> <td>   -0.392</td>\n",
       "</tr>\n",
       "<tr>\n",
       "  <th>Urbanization_rate</th>    <td>   -0.2264</td> <td>    0.083</td> <td>   -2.736</td> <td> 0.009</td> <td>   -0.393</td> <td>   -0.060</td>\n",
       "</tr>\n",
       "<tr>\n",
       "  <th>AverageTemperature</th>   <td>   -0.9965</td> <td>    0.216</td> <td>   -4.622</td> <td> 0.000</td> <td>   -1.431</td> <td>   -0.562</td>\n",
       "</tr>\n",
       "<tr>\n",
       "  <th>StringencyIndex</th>      <td>   -0.3581</td> <td>    0.104</td> <td>   -3.451</td> <td> 0.001</td> <td>   -0.567</td> <td>   -0.149</td>\n",
       "</tr>\n",
       "</table>\n",
       "<table class=\"simpletable\">\n",
       "<tr>\n",
       "  <th>Omnibus:</th>       <td> 0.243</td> <th>  Durbin-Watson:     </th> <td>   2.325</td>\n",
       "</tr>\n",
       "<tr>\n",
       "  <th>Prob(Omnibus):</th> <td> 0.886</td> <th>  Jarque-Bera (JB):  </th> <td>   0.004</td>\n",
       "</tr>\n",
       "<tr>\n",
       "  <th>Skew:</th>          <td> 0.005</td> <th>  Prob(JB):          </th> <td>   0.998</td>\n",
       "</tr>\n",
       "<tr>\n",
       "  <th>Kurtosis:</th>      <td> 3.043</td> <th>  Cond. No.          </th> <td>6.84e+03</td>\n",
       "</tr>\n",
       "</table><br/><br/>Notes:<br/>[1] Standard Errors assume that the covariance matrix of the errors is correctly specified.<br/>[2] The condition number is large, 6.84e+03. This might indicate that there are<br/>strong multicollinearity or other numerical problems."
      ],
      "text/plain": [
       "<class 'statsmodels.iolib.summary.Summary'>\n",
       "\"\"\"\n",
       "                                         OLS Regression Results                                         \n",
       "========================================================================================================\n",
       "Dep. Variable:     non_residential_percent_change_from_baseline   R-squared:                       0.745\n",
       "Model:                                                      OLS   Adj. R-squared:                  0.716\n",
       "Method:                                           Least Squares   F-statistic:                     25.76\n",
       "Date:                                          Sun, 21 Feb 2021   Prob (F-statistic):           4.72e-12\n",
       "Time:                                                  16:22:31   Log-Likelihood:                -162.25\n",
       "No. Observations:                                            50   AIC:                             336.5\n",
       "Df Residuals:                                                44   BIC:                             348.0\n",
       "Df Model:                                                     5                                         \n",
       "Covariance Type:                                      nonrobust                                         \n",
       "========================================================================================\n",
       "                           coef    std err          t      P>|t|      [0.025      0.975]\n",
       "----------------------------------------------------------------------------------------\n",
       "Intercept               98.0808     16.213      6.049      0.000      65.405     130.757\n",
       "pc_misconception        64.3559     59.939      1.074      0.289     -56.444     185.156\n",
       "misinformation_index    -1.1722      0.387     -3.028      0.004      -1.953      -0.392\n",
       "Urbanization_rate       -0.2264      0.083     -2.736      0.009      -0.393      -0.060\n",
       "AverageTemperature      -0.9965      0.216     -4.622      0.000      -1.431      -0.562\n",
       "StringencyIndex         -0.3581      0.104     -3.451      0.001      -0.567      -0.149\n",
       "==============================================================================\n",
       "Omnibus:                        0.243   Durbin-Watson:                   2.325\n",
       "Prob(Omnibus):                  0.886   Jarque-Bera (JB):                0.004\n",
       "Skew:                           0.005   Prob(JB):                        0.998\n",
       "Kurtosis:                       3.043   Cond. No.                     6.84e+03\n",
       "==============================================================================\n",
       "\n",
       "Notes:\n",
       "[1] Standard Errors assume that the covariance matrix of the errors is correctly specified.\n",
       "[2] The condition number is large, 6.84e+03. This might indicate that there are\n",
       "strong multicollinearity or other numerical problems.\n",
       "\"\"\""
      ]
     },
     "execution_count": 36,
     "metadata": {},
     "output_type": "execute_result"
    }
   ],
   "source": [
    "cross_sectional_reg_7_mobility = smf.ols(\n",
    "    \"non_residential_percent_change_from_baseline ~ pc_misconception +  misinformation_index + Urbanization_rate + AverageTemperature + StringencyIndex\",\n",
    "    data=us_cross_sectional,\n",
    ").fit()\n",
    "cross_sectional_reg_7_mobility.summary()"
   ]
  },
  {
   "cell_type": "code",
   "execution_count": 37,
   "metadata": {},
   "outputs": [
    {
     "name": "stdout",
     "output_type": "stream",
     "text": [
      "\\begin{table}\n",
      "\\caption{}\n",
      "\\label{}\n",
      "\\begin{center}\n",
      "\\begin{tabular}{lll}\n",
      "\\hline\n",
      "                      & non\\_residential\\_percent\\_change\\_from\\_baseline I & non\\_residential\\_percent\\_change\\_from\\_baseline II  \\\\\n",
      "\\hline\n",
      "AverageTemperature    & -0.960***                                           & -0.997***                                             \\\\\n",
      "                      & (0.240)                                             & (0.216)                                               \\\\\n",
      "Intercept             & 93.952***                                           & 98.081***                                             \\\\\n",
      "                      & (18.023)                                            & (16.213)                                              \\\\\n",
      "R-squared             & 0.676                                               & 0.745                                                 \\\\\n",
      "R-squared Adj.        & 0.648                                               & 0.716                                                 \\\\\n",
      "StringencyIndex       &                                                     & -0.358***                                             \\\\\n",
      "                      &                                                     & (0.104)                                               \\\\\n",
      "Urbanization\\_rate    & -0.234**                                            & -0.226***                                             \\\\\n",
      "                      & (0.092)                                             & (0.083)                                               \\\\\n",
      "misinformation\\_index & -1.590***                                           & -1.172***                                             \\\\\n",
      "                      & (0.410)                                             & (0.387)                                               \\\\\n",
      "pc\\_misconception     & 134.903**                                           & 64.356                                                \\\\\n",
      "                      & (62.803)                                            & (59.939)                                              \\\\\n",
      "\\hline\n",
      "\\end{tabular}\n",
      "\\end{center}\n",
      "\\end{table}\n"
     ]
    }
   ],
   "source": [
    "print(summary_col([cross_sectional_reg_6_mobility, cross_sectional_reg_7_mobility],stars=True, float_format=\"%0.3f\").as_latex())"
   ]
  },
  {
   "cell_type": "code",
   "execution_count": 38,
   "metadata": {},
   "outputs": [
    {
     "data": {
      "text/plain": [
       "date\n",
       "2021-02-17     NaN\n",
       "2021-02-16     NaN\n",
       "2021-02-15     NaN\n",
       "2021-02-14     NaN\n",
       "2021-02-13     NaN\n",
       "              ... \n",
       "2020-03-10     5.0\n",
       "2020-03-09     3.6\n",
       "2020-03-08    13.2\n",
       "2020-03-07    10.2\n",
       "2020-03-06     6.4\n",
       "Name: non_residential_percent_change_from_baseline, Length: 349, dtype: float64"
      ]
     },
     "execution_count": 38,
     "metadata": {},
     "output_type": "execute_result"
    }
   ],
   "source": [
    "us_daily.loc[us_daily[\"state\"]==\"Alaska\", \"non_residential_percent_change_from_baseline\"]"
   ]
  },
  {
   "cell_type": "code",
   "execution_count": 56,
   "metadata": {},
   "outputs": [
    {
     "name": "stdout",
     "output_type": "stream",
     "text": [
      "                   state  pc_misconception  misinformation_index  deaths_pth  \\\n",
      "0                Alabama          0.538462              0.352453    0.004737   \n",
      "1                 Alaska          0.538462              0.210749    0.001079   \n",
      "2                Arizona          0.384615              0.309645    0.005397   \n",
      "3               Arkansas          0.461538              0.220492    0.004859   \n",
      "4             California          0.461538              0.556244    0.003084   \n",
      "5               Colorado          0.346154              0.171497    0.002931   \n",
      "6            Connecticut          0.153846              0.458650    0.005971   \n",
      "7               Delaware          0.153846              0.396239    0.003372   \n",
      "8   District of Columbia          1.000000              1.000000    0.003885   \n",
      "9                Florida          0.500000              0.463651    0.003719   \n",
      "10               Georgia          0.461538              0.554812    0.004004   \n",
      "11                Hawaii          0.000000              0.349570    0.000867   \n",
      "12                 Idaho          0.153846              0.104765    0.002916   \n",
      "13              Illinois          0.384615              0.334858    0.005022   \n",
      "14               Indiana          0.346154              0.180269    0.004396   \n",
      "15                  Iowa          0.307692              0.117249    0.004679   \n",
      "16                Kansas          0.500000              0.381656    0.003907   \n",
      "17              Kentucky          0.538462              0.176259    0.002525   \n",
      "18             Louisiana          0.538462              0.327654    0.005757   \n",
      "19                 Maine          0.346154              0.176388    0.001326   \n",
      "20              Maryland          0.346154              0.512108    0.003540   \n",
      "21         Massachusetts          0.153846              0.354247    0.006276   \n",
      "22              Michigan          0.423077              0.320684    0.004613   \n",
      "23             Minnesota          0.307692              0.264388    0.003311   \n",
      "24           Mississippi          0.692308              0.399368    0.006136   \n",
      "25              Missouri          0.307692              0.187563    0.003322   \n",
      "26               Montana          0.307692              0.071221    0.003485   \n",
      "27              Nebraska          0.423077              0.185296    0.002945   \n",
      "28                Nevada          0.461538              0.498853    0.004163   \n",
      "29         New Hampshire          0.307692              0.239453    0.002327   \n",
      "30            New Jersey          0.384615              0.420441    0.007177   \n",
      "31            New Mexico          0.423077              0.253012    0.004702   \n",
      "32              New York          0.615385              0.637733    0.005382   \n",
      "33        North Carolina          0.461538              0.315138    0.002665   \n",
      "34          North Dakota          0.423077              0.449755    0.005717   \n",
      "35                  Ohio          0.346154              0.222001    0.002871   \n",
      "36              Oklahoma          0.461538              0.254645    0.002708   \n",
      "37                Oregon          0.153846              0.271106    0.001389   \n",
      "38          Pennsylvania          0.153846              0.202333    0.005051   \n",
      "39          Rhode Island          0.384615              0.415187    0.006073   \n",
      "40        South Carolina          0.461538              0.244079    0.004095   \n",
      "41          South Dakota          0.461538              0.212005    0.006072   \n",
      "42             Tennessee          0.461538              0.249559    0.004243   \n",
      "43                 Texas          0.500000              0.485223    0.003757   \n",
      "44                  Utah          0.423077              0.242259    0.001569   \n",
      "45               Vermont          0.000000              0.172611    0.000832   \n",
      "46              Virginia          0.461538              0.450973    0.002247   \n",
      "47            Washington          0.307692              0.419094    0.001668   \n",
      "48         West Virginia          0.538462              0.269733    0.003402   \n",
      "49             Wisconsin          0.269231              0.266992    0.003299   \n",
      "50               Wyoming          0.153846              0.000000    0.003056   \n",
      "\n",
      "    positivity_rate  \n",
      "0          0.214714  \n",
      "1          0.035058  \n",
      "2          0.113216  \n",
      "3          0.121433  \n",
      "4          0.076713  \n",
      "5          0.072666  \n",
      "6          0.043800  \n",
      "7          0.063427  \n",
      "8          0.033506  \n",
      "9          0.088200  \n",
      "10         0.140939  \n",
      "11         0.026854  \n",
      "12         0.269750  \n",
      "13         0.070222  \n",
      "14         0.089341  \n",
      "15         0.213419  \n",
      "16         0.235031  \n",
      "17         0.101078  \n",
      "18         0.080006  \n",
      "19         0.028566  \n",
      "20         0.050544  \n",
      "21         0.038438  \n",
      "22         0.065140  \n",
      "23         0.074048  \n",
      "24         0.175217  \n",
      "25         0.110379  \n",
      "26         0.098224  \n",
      "27         0.090811  \n",
      "28         0.111859  \n",
      "29         0.052048  \n",
      "30         0.074068  \n",
      "31         0.074277  \n",
      "32         0.043861  \n",
      "33         0.084700  \n",
      "34         0.072533  \n",
      "35         0.098720  \n",
      "36         0.122290  \n",
      "37         0.045029  \n",
      "38         0.091370  \n",
      "39         0.045575  \n",
      "40         0.104881  \n",
      "41         0.268872  \n",
      "42         0.113060  \n",
      "43         0.135675  \n",
      "44         0.132941  \n",
      "45         0.013334  \n",
      "46         0.096558  \n",
      "47         0.068506  \n",
      "48         0.062193  \n",
      "49         0.095853  \n",
      "50         0.081753  \n"
     ]
    },
    {
     "name": "stderr",
     "output_type": "stream",
     "text": [
      "<ipython-input-56-f9810a3efe7b>:2: SettingWithCopyWarning:\n",
      "\n",
      "\n",
      "A value is trying to be set on a copy of a slice from a DataFrame.\n",
      "Try using .loc[row_indexer,col_indexer] = value instead\n",
      "\n",
      "See the caveats in the documentation: https://pandas.pydata.org/pandas-docs/stable/user_guide/indexing.html#returning-a-view-versus-a-copy\n",
      "\n",
      "<ipython-input-56-f9810a3efe7b>:3: SettingWithCopyWarning:\n",
      "\n",
      "\n",
      "A value is trying to be set on a copy of a slice from a DataFrame.\n",
      "Try using .loc[row_indexer,col_indexer] = value instead\n",
      "\n",
      "See the caveats in the documentation: https://pandas.pydata.org/pandas-docs/stable/user_guide/indexing.html#returning-a-view-versus-a-copy\n",
      "\n"
     ]
    }
   ],
   "source": [
    "df = us_cross_sectional[[\"state\",\"pc_misconception\",\"misinformation_index\",\"deaths_pth\",\"positivity_rate\"]]\n",
    "df[\"pc_misconception\"]=(df[\"pc_misconception\"]-df[\"pc_misconception\"].min())/(df[\"pc_misconception\"].max()-df[\"pc_misconception\"].min())\n",
    "df[\"misinformation_index\"]=(df[\"misinformation_index\"]-df[\"misinformation_index\"].min())/(df[\"misinformation_index\"].max()-df[\"misinformation_index\"].min())\n",
    "print(df)"
   ]
  },
  {
   "cell_type": "markdown",
   "metadata": {},
   "source": [
    "### Correlation chart"
   ]
  },
  {
   "cell_type": "code",
<<<<<<< Updated upstream
   "execution_count": 39,
=======
   "execution_count": 25,
>>>>>>> Stashed changes
   "metadata": {},
   "outputs": [
    {
     "data": {
      "application/vnd.plotly.v1+json": {
       "config": {
        "plotlyServerURL": "https://plot.ly"
       },
       "data": [
        {
         "customdata": [
          [
           "Alabama",
           0.00473704053645111,
           0.21471384427092943
          ],
          [
           "Alaska",
           0.0010787533596785218,
           0.03505792442530479
          ],
          [
           "Arizona",
           0.005396752906555991,
           0.11321597457663174
          ],
          [
           "Arkansas",
           0.0048587153448035846,
           0.12143290731933612
          ],
          [
           "California",
           0.0030837876519683935,
           0.07671262627250544
          ],
          [
           "Colorado",
           0.0029307204756359793,
           0.07266569455525902
          ],
          [
           "Connecticut",
           0.00597062987171695,
           0.04379996678516095
          ],
          [
           "Delaware",
           0.0033715895536500446,
           0.06342682448291186
          ],
          [
           "District of Columbia",
           0.003884868050456666,
           0.03350598840484888
          ],
          [
           "Florida",
           0.003718570017070698,
           0.08820046671028753
          ],
          [
           "Georgia",
           0.004003700524687407,
           0.1409389118989032
          ],
          [
           "Hawaii",
           0.0008669886191545851,
           0.026854405133102378
          ],
          [
           "Idaho",
           0.002916223171813988,
           0.26975001989759373
          ],
          [
           "Illinois",
           0.0050215147867813245,
           0.07022167738917065
          ],
          [
           "Indiana",
           0.004396238323372942,
           0.0893406946363678
          ],
          [
           "Iowa",
           0.0046788338112216474,
           0.213419288761902
          ],
          [
           "Kansas",
           0.003907072880054099,
           0.23503083290337543
          ],
          [
           "Kentucky",
           0.002524831267178173,
           0.10107751207100411
          ],
          [
           "Louisiana",
           0.005757267466179875,
           0.08000602302809734
          ],
          [
           "Maine",
           0.001326038855024154,
           0.028566115258216642
          ],
          [
           "Maryland",
           0.003540114991597703,
           0.0505440205647844
          ],
          [
           "Massachusetts",
           0.006275687203667271,
           0.03843832252893905
          ],
          [
           "Michigan",
           0.004612887644046594,
           0.06514004451897608
          ],
          [
           "Minnesota",
           0.0033113328662545223,
           0.07404768268879708
          ],
          [
           "Mississippi",
           0.006136399716262216,
           0.17521690180689384
          ],
          [
           "Missouri",
           0.003321702014042443,
           0.11037875811718188
          ],
          [
           "Montana",
           0.003485359474746773,
           0.09822400329542687
          ],
          [
           "Nebraska",
           0.0029452573484262884,
           0.09081147641681485
          ],
          [
           "Nevada",
           0.004163043307813898,
           0.1118589623784725
          ],
          [
           "New Hampshire",
           0.002327458304509293,
           0.05204844745200852
          ],
          [
           "New Jersey",
           0.0071773675005559,
           0.07406791302782087
          ],
          [
           "New Mexico",
           0.004701794404245105,
           0.07427716275098263
          ],
          [
           "New York",
           0.005381864460261469,
           0.04386129349735964
          ],
          [
           "North Carolina",
           0.0026648434353126063,
           0.08470004315925765
          ],
          [
           "North Dakota",
           0.005716720513918744,
           0.07253348628045043
          ],
          [
           "Ohio",
           0.0028709274930113146,
           0.09871997901713343
          ],
          [
           "Oklahoma",
           0.002708135107533552,
           0.1222901069199689
          ],
          [
           "Oregon",
           0.001389200283736456,
           0.04502916765473085
          ],
          [
           "Pennsylvania",
           0.005050754339230983,
           0.09136963981210378
          ],
          [
           "Rhode Island",
           0.006072749913735719,
           0.04557478865949738
          ],
          [
           "South Carolina",
           0.004094970576211719,
           0.1048808757853304
          ],
          [
           "South Dakota",
           0.006071945471033714,
           0.2688719548543496
          ],
          [
           "Tennessee",
           0.0042434090827058995,
           0.1130596773234
          ],
          [
           "Texas",
           0.003756683861716608,
           0.1356754142768419
          ],
          [
           "Utah",
           0.0015690197689310148,
           0.1329411331539936
          ],
          [
           "Vermont",
           0.0008323912522089764,
           0.013333689938496752
          ],
          [
           "Virginia",
           0.002247198899337832,
           0.09655837701723202
          ],
          [
           "Washington",
           0.0016678234002638049,
           0.06850604756126438
          ],
          [
           "West Virginia",
           0.0034017218130927176,
           0.062192829071874775
          ],
          [
           "Wisconsin",
           0.003298615346992981,
           0.0958532548731151
          ],
          [
           "Wyoming",
           0.003055755494195826,
           0.08175324102654555
          ]
         ],
         "hovertemplate": "deaths_pth=%{customdata[1]:.4f}<br>state=%{customdata[0]}<br>Positive Covid test rate=%{marker.color:.1%}<extra></extra>",
         "legendgroup": "",
         "marker": {
          "color": [
           0.21471384427092943,
           0.03505792442530479,
           0.11321597457663174,
           0.12143290731933612,
           0.07671262627250544,
           0.07266569455525902,
           0.04379996678516095,
           0.06342682448291186,
           0.03350598840484888,
           0.08820046671028753,
           0.1409389118989032,
           0.026854405133102378,
           0.26975001989759373,
           0.07022167738917065,
           0.0893406946363678,
           0.213419288761902,
           0.23503083290337543,
           0.10107751207100411,
           0.08000602302809734,
           0.028566115258216642,
           0.0505440205647844,
           0.03843832252893905,
           0.06514004451897608,
           0.07404768268879708,
           0.17521690180689384,
           0.11037875811718188,
           0.09822400329542687,
           0.09081147641681485,
           0.1118589623784725,
           0.05204844745200852,
           0.07406791302782087,
           0.07427716275098263,
           0.04386129349735964,
           0.08470004315925765,
           0.07253348628045043,
           0.09871997901713343,
           0.1222901069199689,
           0.04502916765473085,
           0.09136963981210378,
           0.04557478865949738,
           0.1048808757853304,
           0.2688719548543496,
           0.1130596773234,
           0.1356754142768419,
           0.1329411331539936,
           0.013333689938496752,
           0.09655837701723202,
           0.06850604756126438,
           0.062192829071874775,
           0.0958532548731151,
           0.08175324102654555
          ],
          "coloraxis": "coloraxis",
          "size": [
           0.00473704053645111,
           0.0010787533596785218,
           0.005396752906555991,
           0.0048587153448035846,
           0.0030837876519683935,
           0.0029307204756359793,
           0.00597062987171695,
           0.0033715895536500446,
           0.003884868050456666,
           0.003718570017070698,
           0.004003700524687407,
           0.0008669886191545851,
           0.002916223171813988,
           0.0050215147867813245,
           0.004396238323372942,
           0.0046788338112216474,
           0.003907072880054099,
           0.002524831267178173,
           0.005757267466179875,
           0.001326038855024154,
           0.003540114991597703,
           0.006275687203667271,
           0.004612887644046594,
           0.0033113328662545223,
           0.006136399716262216,
           0.003321702014042443,
           0.003485359474746773,
           0.0029452573484262884,
           0.004163043307813898,
           0.002327458304509293,
           0.0071773675005559,
           0.004701794404245105,
           0.005381864460261469,
           0.0026648434353126063,
           0.005716720513918744,
           0.0028709274930113146,
           0.002708135107533552,
           0.001389200283736456,
           0.005050754339230983,
           0.006072749913735719,
           0.004094970576211719,
           0.006071945471033714,
           0.0042434090827058995,
           0.003756683861716608,
           0.0015690197689310148,
           0.0008323912522089764,
           0.002247198899337832,
           0.0016678234002638049,
           0.0034017218130927176,
           0.003298615346992981,
           0.003055755494195826
          ],
          "sizemode": "area",
          "sizeref": 1.7943418751389752e-05,
          "symbol": "circle"
         },
         "mode": "markers",
         "name": "",
         "orientation": "v",
         "showlegend": false,
         "type": "scatter",
         "x": [
          0.16,
          0.16,
          0.14,
          0.15,
          0.15,
          0.135,
          0.11,
          0.11,
          0.22,
          0.155,
          0.15,
          0.09,
          0.11,
          0.14,
          0.135,
          0.13,
          0.155,
          0.16,
          0.16,
          0.135,
          0.135,
          0.11,
          0.145,
          0.13,
          0.18,
          0.13,
          0.13,
          0.145,
          0.15,
          0.13,
          0.14,
          0.145,
          0.17,
          0.15,
          0.145,
          0.135,
          0.15,
          0.11,
          0.11,
          0.14,
          0.15,
          0.15,
          0.15,
          0.155,
          0.145,
          0.09,
          0.15,
          0.13,
          0.16,
          0.125,
          0.11
         ],
         "xaxis": "x",
         "y": [
          57.44383333333334,
          53.79816666666667,
          56.34250000000001,
          54.048833333333334,
          62.68683333333333,
          52.788333333333334,
          60.17599999999999,
          58.57033333333334,
          74.10350000000001,
          60.30466666666667,
          62.649999999999984,
          57.36966666666666,
          51.07150000000001,
          56.99116666666666,
          53.014,
          51.39266666666666,
          58.195166666666665,
          52.910833333333336,
          56.80583333333334,
          52.91416666666666,
          61.55133333333333,
          57.48999999999999,
          56.6265,
          55.17816666666666,
          58.65083333333333,
          53.20166666666666,
          50.208499999999994,
          53.14333333333334,
          61.210333333333345,
          54.53666666666666,
          59.19299999999999,
          54.88550000000001,
          64.78333333333335,
          56.48383333333334,
          59.94716666666667,
          54.08766666666666,
          54.9275,
          55.351,
          53.58166666666667,
          59.05783333333334,
          54.65566666666666,
          53.8305,
          54.796666666666674,
          60.85966666666667,
          54.60883333333333,
          52.817,
          59.9785,
          59.15833333333333,
          55.315666666666665,
          55.24516666666667,
          48.37616666666667
         ],
         "yaxis": "y"
        }
       ],
       "layout": {
        "coloraxis": {
         "colorbar": {
          "title": {
           "text": "Positive Covid test rate"
          }
         },
         "colorscale": [
          [
           0,
           "#0d0887"
          ],
          [
           0.1111111111111111,
           "#46039f"
          ],
          [
           0.2222222222222222,
           "#7201a8"
          ],
          [
           0.3333333333333333,
           "#9c179e"
          ],
          [
           0.4444444444444444,
           "#bd3786"
          ],
          [
           0.5555555555555556,
           "#d8576b"
          ],
          [
           0.6666666666666666,
           "#ed7953"
          ],
          [
           0.7777777777777778,
           "#fb9f3a"
          ],
          [
           0.8888888888888888,
           "#fdca26"
          ],
          [
           1,
           "#f0f921"
          ]
         ]
        },
        "legend": {
         "itemsizing": "constant",
         "tracegroupgap": 0
        },
        "margin": {
         "t": 60
        },
        "template": {
         "data": {
          "bar": [
           {
            "error_x": {
             "color": "#2a3f5f"
            },
            "error_y": {
             "color": "#2a3f5f"
            },
            "marker": {
             "line": {
              "color": "#E5ECF6",
              "width": 0.5
             }
            },
            "type": "bar"
           }
          ],
          "barpolar": [
           {
            "marker": {
             "line": {
              "color": "#E5ECF6",
              "width": 0.5
             }
            },
            "type": "barpolar"
           }
          ],
          "carpet": [
           {
            "aaxis": {
             "endlinecolor": "#2a3f5f",
             "gridcolor": "white",
             "linecolor": "white",
             "minorgridcolor": "white",
             "startlinecolor": "#2a3f5f"
            },
            "baxis": {
             "endlinecolor": "#2a3f5f",
             "gridcolor": "white",
             "linecolor": "white",
             "minorgridcolor": "white",
             "startlinecolor": "#2a3f5f"
            },
            "type": "carpet"
           }
          ],
          "choropleth": [
           {
            "colorbar": {
             "outlinewidth": 0,
             "ticks": ""
            },
            "type": "choropleth"
           }
          ],
          "contour": [
           {
            "colorbar": {
             "outlinewidth": 0,
             "ticks": ""
            },
            "colorscale": [
             [
              0,
              "#0d0887"
             ],
             [
              0.1111111111111111,
              "#46039f"
             ],
             [
              0.2222222222222222,
              "#7201a8"
             ],
             [
              0.3333333333333333,
              "#9c179e"
             ],
             [
              0.4444444444444444,
              "#bd3786"
             ],
             [
              0.5555555555555556,
              "#d8576b"
             ],
             [
              0.6666666666666666,
              "#ed7953"
             ],
             [
              0.7777777777777778,
              "#fb9f3a"
             ],
             [
              0.8888888888888888,
              "#fdca26"
             ],
             [
              1,
              "#f0f921"
             ]
            ],
            "type": "contour"
           }
          ],
          "contourcarpet": [
           {
            "colorbar": {
             "outlinewidth": 0,
             "ticks": ""
            },
            "type": "contourcarpet"
           }
          ],
          "heatmap": [
           {
            "colorbar": {
             "outlinewidth": 0,
             "ticks": ""
            },
            "colorscale": [
             [
              0,
              "#0d0887"
             ],
             [
              0.1111111111111111,
              "#46039f"
             ],
             [
              0.2222222222222222,
              "#7201a8"
             ],
             [
              0.3333333333333333,
              "#9c179e"
             ],
             [
              0.4444444444444444,
              "#bd3786"
             ],
             [
              0.5555555555555556,
              "#d8576b"
             ],
             [
              0.6666666666666666,
              "#ed7953"
             ],
             [
              0.7777777777777778,
              "#fb9f3a"
             ],
             [
              0.8888888888888888,
              "#fdca26"
             ],
             [
              1,
              "#f0f921"
             ]
            ],
            "type": "heatmap"
           }
          ],
          "heatmapgl": [
           {
            "colorbar": {
             "outlinewidth": 0,
             "ticks": ""
            },
            "colorscale": [
             [
              0,
              "#0d0887"
             ],
             [
              0.1111111111111111,
              "#46039f"
             ],
             [
              0.2222222222222222,
              "#7201a8"
             ],
             [
              0.3333333333333333,
              "#9c179e"
             ],
             [
              0.4444444444444444,
              "#bd3786"
             ],
             [
              0.5555555555555556,
              "#d8576b"
             ],
             [
              0.6666666666666666,
              "#ed7953"
             ],
             [
              0.7777777777777778,
              "#fb9f3a"
             ],
             [
              0.8888888888888888,
              "#fdca26"
             ],
             [
              1,
              "#f0f921"
             ]
            ],
            "type": "heatmapgl"
           }
          ],
          "histogram": [
           {
            "marker": {
             "colorbar": {
              "outlinewidth": 0,
              "ticks": ""
             }
            },
            "type": "histogram"
           }
          ],
          "histogram2d": [
           {
            "colorbar": {
             "outlinewidth": 0,
             "ticks": ""
            },
            "colorscale": [
             [
              0,
              "#0d0887"
             ],
             [
              0.1111111111111111,
              "#46039f"
             ],
             [
              0.2222222222222222,
              "#7201a8"
             ],
             [
              0.3333333333333333,
              "#9c179e"
             ],
             [
              0.4444444444444444,
              "#bd3786"
             ],
             [
              0.5555555555555556,
              "#d8576b"
             ],
             [
              0.6666666666666666,
              "#ed7953"
             ],
             [
              0.7777777777777778,
              "#fb9f3a"
             ],
             [
              0.8888888888888888,
              "#fdca26"
             ],
             [
              1,
              "#f0f921"
             ]
            ],
            "type": "histogram2d"
           }
          ],
          "histogram2dcontour": [
           {
            "colorbar": {
             "outlinewidth": 0,
             "ticks": ""
            },
            "colorscale": [
             [
              0,
              "#0d0887"
             ],
             [
              0.1111111111111111,
              "#46039f"
             ],
             [
              0.2222222222222222,
              "#7201a8"
             ],
             [
              0.3333333333333333,
              "#9c179e"
             ],
             [
              0.4444444444444444,
              "#bd3786"
             ],
             [
              0.5555555555555556,
              "#d8576b"
             ],
             [
              0.6666666666666666,
              "#ed7953"
             ],
             [
              0.7777777777777778,
              "#fb9f3a"
             ],
             [
              0.8888888888888888,
              "#fdca26"
             ],
             [
              1,
              "#f0f921"
             ]
            ],
            "type": "histogram2dcontour"
           }
          ],
          "mesh3d": [
           {
            "colorbar": {
             "outlinewidth": 0,
             "ticks": ""
            },
            "type": "mesh3d"
           }
          ],
          "parcoords": [
           {
            "line": {
             "colorbar": {
              "outlinewidth": 0,
              "ticks": ""
             }
            },
            "type": "parcoords"
           }
          ],
          "pie": [
           {
            "automargin": true,
            "type": "pie"
           }
          ],
          "scatter": [
           {
            "marker": {
             "colorbar": {
              "outlinewidth": 0,
              "ticks": ""
             }
            },
            "type": "scatter"
           }
          ],
          "scatter3d": [
           {
            "line": {
             "colorbar": {
              "outlinewidth": 0,
              "ticks": ""
             }
            },
            "marker": {
             "colorbar": {
              "outlinewidth": 0,
              "ticks": ""
             }
            },
            "type": "scatter3d"
           }
          ],
          "scattercarpet": [
           {
            "marker": {
             "colorbar": {
              "outlinewidth": 0,
              "ticks": ""
             }
            },
            "type": "scattercarpet"
           }
          ],
          "scattergeo": [
           {
            "marker": {
             "colorbar": {
              "outlinewidth": 0,
              "ticks": ""
             }
            },
            "type": "scattergeo"
           }
          ],
          "scattergl": [
           {
            "marker": {
             "colorbar": {
              "outlinewidth": 0,
              "ticks": ""
             }
            },
            "type": "scattergl"
           }
          ],
          "scattermapbox": [
           {
            "marker": {
             "colorbar": {
              "outlinewidth": 0,
              "ticks": ""
             }
            },
            "type": "scattermapbox"
           }
          ],
          "scatterpolar": [
           {
            "marker": {
             "colorbar": {
              "outlinewidth": 0,
              "ticks": ""
             }
            },
            "type": "scatterpolar"
           }
          ],
          "scatterpolargl": [
           {
            "marker": {
             "colorbar": {
              "outlinewidth": 0,
              "ticks": ""
             }
            },
            "type": "scatterpolargl"
           }
          ],
          "scatterternary": [
           {
            "marker": {
             "colorbar": {
              "outlinewidth": 0,
              "ticks": ""
             }
            },
            "type": "scatterternary"
           }
          ],
          "surface": [
           {
            "colorbar": {
             "outlinewidth": 0,
             "ticks": ""
            },
            "colorscale": [
             [
              0,
              "#0d0887"
             ],
             [
              0.1111111111111111,
              "#46039f"
             ],
             [
              0.2222222222222222,
              "#7201a8"
             ],
             [
              0.3333333333333333,
              "#9c179e"
             ],
             [
              0.4444444444444444,
              "#bd3786"
             ],
             [
              0.5555555555555556,
              "#d8576b"
             ],
             [
              0.6666666666666666,
              "#ed7953"
             ],
             [
              0.7777777777777778,
              "#fb9f3a"
             ],
             [
              0.8888888888888888,
              "#fdca26"
             ],
             [
              1,
              "#f0f921"
             ]
            ],
            "type": "surface"
           }
          ],
          "table": [
           {
            "cells": {
             "fill": {
              "color": "#EBF0F8"
             },
             "line": {
              "color": "white"
             }
            },
            "header": {
             "fill": {
              "color": "#C8D4E3"
             },
             "line": {
              "color": "white"
             }
            },
            "type": "table"
           }
          ]
         },
         "layout": {
          "annotationdefaults": {
           "arrowcolor": "#2a3f5f",
           "arrowhead": 0,
           "arrowwidth": 1
          },
          "autotypenumbers": "strict",
          "coloraxis": {
           "colorbar": {
            "outlinewidth": 0,
            "ticks": ""
           }
          },
          "colorscale": {
           "diverging": [
            [
             0,
             "#8e0152"
            ],
            [
             0.1,
             "#c51b7d"
            ],
            [
             0.2,
             "#de77ae"
            ],
            [
             0.3,
             "#f1b6da"
            ],
            [
             0.4,
             "#fde0ef"
            ],
            [
             0.5,
             "#f7f7f7"
            ],
            [
             0.6,
             "#e6f5d0"
            ],
            [
             0.7,
             "#b8e186"
            ],
            [
             0.8,
             "#7fbc41"
            ],
            [
             0.9,
             "#4d9221"
            ],
            [
             1,
             "#276419"
            ]
           ],
           "sequential": [
            [
             0,
             "#0d0887"
            ],
            [
             0.1111111111111111,
             "#46039f"
            ],
            [
             0.2222222222222222,
             "#7201a8"
            ],
            [
             0.3333333333333333,
             "#9c179e"
            ],
            [
             0.4444444444444444,
             "#bd3786"
            ],
            [
             0.5555555555555556,
             "#d8576b"
            ],
            [
             0.6666666666666666,
             "#ed7953"
            ],
            [
             0.7777777777777778,
             "#fb9f3a"
            ],
            [
             0.8888888888888888,
             "#fdca26"
            ],
            [
             1,
             "#f0f921"
            ]
           ],
           "sequentialminus": [
            [
             0,
             "#0d0887"
            ],
            [
             0.1111111111111111,
             "#46039f"
            ],
            [
             0.2222222222222222,
             "#7201a8"
            ],
            [
             0.3333333333333333,
             "#9c179e"
            ],
            [
             0.4444444444444444,
             "#bd3786"
            ],
            [
             0.5555555555555556,
             "#d8576b"
            ],
            [
             0.6666666666666666,
             "#ed7953"
            ],
            [
             0.7777777777777778,
             "#fb9f3a"
            ],
            [
             0.8888888888888888,
             "#fdca26"
            ],
            [
             1,
             "#f0f921"
            ]
           ]
          },
          "colorway": [
           "#636efa",
           "#EF553B",
           "#00cc96",
           "#ab63fa",
           "#FFA15A",
           "#19d3f3",
           "#FF6692",
           "#B6E880",
           "#FF97FF",
           "#FECB52"
          ],
          "font": {
           "color": "#2a3f5f"
          },
          "geo": {
           "bgcolor": "white",
           "lakecolor": "white",
           "landcolor": "#E5ECF6",
           "showlakes": true,
           "showland": true,
           "subunitcolor": "white"
          },
          "hoverlabel": {
           "align": "left"
          },
          "hovermode": "closest",
          "mapbox": {
           "style": "light"
          },
          "paper_bgcolor": "white",
          "plot_bgcolor": "#E5ECF6",
          "polar": {
           "angularaxis": {
            "gridcolor": "white",
            "linecolor": "white",
            "ticks": ""
           },
           "bgcolor": "#E5ECF6",
           "radialaxis": {
            "gridcolor": "white",
            "linecolor": "white",
            "ticks": ""
           }
          },
          "scene": {
           "xaxis": {
            "backgroundcolor": "#E5ECF6",
            "gridcolor": "white",
            "gridwidth": 2,
            "linecolor": "white",
            "showbackground": true,
            "ticks": "",
            "zerolinecolor": "white"
           },
           "yaxis": {
            "backgroundcolor": "#E5ECF6",
            "gridcolor": "white",
            "gridwidth": 2,
            "linecolor": "white",
            "showbackground": true,
            "ticks": "",
            "zerolinecolor": "white"
           },
           "zaxis": {
            "backgroundcolor": "#E5ECF6",
            "gridcolor": "white",
            "gridwidth": 2,
            "linecolor": "white",
            "showbackground": true,
            "ticks": "",
            "zerolinecolor": "white"
           }
          },
          "shapedefaults": {
           "line": {
            "color": "#2a3f5f"
           }
          },
          "ternary": {
           "aaxis": {
            "gridcolor": "white",
            "linecolor": "white",
            "ticks": ""
           },
           "baxis": {
            "gridcolor": "white",
            "linecolor": "white",
            "ticks": ""
           },
           "bgcolor": "#E5ECF6",
           "caxis": {
            "gridcolor": "white",
            "linecolor": "white",
            "ticks": ""
           }
          },
          "title": {
           "x": 0.05
          },
          "xaxis": {
           "automargin": true,
           "gridcolor": "white",
           "linecolor": "white",
           "ticks": "",
           "title": {
            "standoff": 15
           },
           "zerolinecolor": "white",
           "zerolinewidth": 2
          },
          "yaxis": {
           "automargin": true,
           "gridcolor": "white",
           "linecolor": "white",
           "ticks": "",
           "title": {
            "standoff": 15
           },
           "zerolinecolor": "white",
           "zerolinewidth": 2
          }
         }
        },
        "xaxis": {
         "anchor": "y",
         "domain": [
          0,
          1
         ],
         "title": {
          "text": "% Misconception"
         }
        },
        "yaxis": {
         "anchor": "x",
         "domain": [
          0,
          1
         ],
         "title": {
          "text": "Misinformation Index"
         }
        }
       }
      },
      "text/html": [
<<<<<<< Updated upstream
       "<div>                            <div id=\"23a481b2-f06b-4420-bc96-c364960de416\" class=\"plotly-graph-div\" style=\"height:525px; width:100%;\"></div>            <script type=\"text/javascript\">                require([\"plotly\"], function(Plotly) {                    window.PLOTLYENV=window.PLOTLYENV || {};                                    if (document.getElementById(\"23a481b2-f06b-4420-bc96-c364960de416\")) {                    Plotly.newPlot(                        \"23a481b2-f06b-4420-bc96-c364960de416\",                        [{\"customdata\": [[\"Alabama\", 0.00473704053645111, 0.21471384427092943], [\"Alaska\", 0.0010787533596785218, 0.03505792442530479], [\"Arizona\", 0.005396752906555991, 0.11321597457663174], [\"Arkansas\", 0.0048587153448035846, 0.12143290731933612], [\"California\", 0.0030837876519683935, 0.07671262627250544], [\"Colorado\", 0.0029307204756359793, 0.07266569455525902], [\"Connecticut\", 0.00597062987171695, 0.04379996678516095], [\"Delaware\", 0.0033715895536500446, 0.06342682448291186], [\"District of Columbia\", 0.003884868050456666, 0.03350598840484888], [\"Florida\", 0.003718570017070698, 0.08820046671028753], [\"Georgia\", 0.004003700524687407, 0.1409389118989032], [\"Hawaii\", 0.0008669886191545851, 0.026854405133102378], [\"Idaho\", 0.002916223171813988, 0.26975001989759373], [\"Illinois\", 0.0050215147867813245, 0.07022167738917065], [\"Indiana\", 0.004396238323372942, 0.0893406946363678], [\"Iowa\", 0.0046788338112216474, 0.213419288761902], [\"Kansas\", 0.003907072880054099, 0.23503083290337543], [\"Kentucky\", 0.002524831267178173, 0.10107751207100411], [\"Louisiana\", 0.005757267466179875, 0.08000602302809734], [\"Maine\", 0.001326038855024154, 0.028566115258216642], [\"Maryland\", 0.003540114991597703, 0.0505440205647844], [\"Massachusetts\", 0.006275687203667271, 0.03843832252893905], [\"Michigan\", 0.004612887644046594, 0.06514004451897608], [\"Minnesota\", 0.0033113328662545223, 0.07404768268879708], [\"Mississippi\", 0.006136399716262216, 0.17521690180689384], [\"Missouri\", 0.003321702014042443, 0.11037875811718188], [\"Montana\", 0.003485359474746773, 0.09822400329542687], [\"Nebraska\", 0.0029452573484262884, 0.09081147641681485], [\"Nevada\", 0.004163043307813898, 0.1118589623784725], [\"New Hampshire\", 0.002327458304509293, 0.05204844745200852], [\"New Jersey\", 0.0071773675005559, 0.07406791302782087], [\"New Mexico\", 0.004701794404245105, 0.07427716275098263], [\"New York\", 0.005381864460261469, 0.04386129349735964], [\"North Carolina\", 0.0026648434353126063, 0.08470004315925765], [\"North Dakota\", 0.005716720513918744, 0.07253348628045043], [\"Ohio\", 0.0028709274930113146, 0.09871997901713343], [\"Oklahoma\", 0.002708135107533552, 0.1222901069199689], [\"Oregon\", 0.001389200283736456, 0.04502916765473085], [\"Pennsylvania\", 0.005050754339230983, 0.09136963981210378], [\"Rhode Island\", 0.006072749913735719, 0.04557478865949738], [\"South Carolina\", 0.004094970576211719, 0.1048808757853304], [\"South Dakota\", 0.006071945471033714, 0.2688719548543496], [\"Tennessee\", 0.0042434090827058995, 0.1130596773234], [\"Texas\", 0.003756683861716608, 0.1356754142768419], [\"Utah\", 0.0015690197689310148, 0.1329411331539936], [\"Vermont\", 0.0008323912522089764, 0.013333689938496752], [\"Virginia\", 0.002247198899337832, 0.09655837701723202], [\"Washington\", 0.0016678234002638049, 0.06850604756126438], [\"West Virginia\", 0.0034017218130927176, 0.062192829071874775], [\"Wisconsin\", 0.003298615346992981, 0.0958532548731151], [\"Wyoming\", 0.003055755494195826, 0.08175324102654555]], \"hovertemplate\": \"deaths_pth=%{customdata[1]:.4f}<br>state=%{customdata[0]}<br>positivity_rate=%{marker.color:.1%}<extra></extra>\", \"legendgroup\": \"\", \"marker\": {\"color\": [0.21471384427092943, 0.03505792442530479, 0.11321597457663174, 0.12143290731933612, 0.07671262627250544, 0.07266569455525902, 0.04379996678516095, 0.06342682448291186, 0.03350598840484888, 0.08820046671028753, 0.1409389118989032, 0.026854405133102378, 0.26975001989759373, 0.07022167738917065, 0.0893406946363678, 0.213419288761902, 0.23503083290337543, 0.10107751207100411, 0.08000602302809734, 0.028566115258216642, 0.0505440205647844, 0.03843832252893905, 0.06514004451897608, 0.07404768268879708, 0.17521690180689384, 0.11037875811718188, 0.09822400329542687, 0.09081147641681485, 0.1118589623784725, 0.05204844745200852, 0.07406791302782087, 0.07427716275098263, 0.04386129349735964, 0.08470004315925765, 0.07253348628045043, 0.09871997901713343, 0.1222901069199689, 0.04502916765473085, 0.09136963981210378, 0.04557478865949738, 0.1048808757853304, 0.2688719548543496, 0.1130596773234, 0.1356754142768419, 0.1329411331539936, 0.013333689938496752, 0.09655837701723202, 0.06850604756126438, 0.062192829071874775, 0.0958532548731151, 0.08175324102654555], \"coloraxis\": \"coloraxis\", \"size\": [0.00473704053645111, 0.0010787533596785218, 0.005396752906555991, 0.0048587153448035846, 0.0030837876519683935, 0.0029307204756359793, 0.00597062987171695, 0.0033715895536500446, 0.003884868050456666, 0.003718570017070698, 0.004003700524687407, 0.0008669886191545851, 0.002916223171813988, 0.0050215147867813245, 0.004396238323372942, 0.0046788338112216474, 0.003907072880054099, 0.002524831267178173, 0.005757267466179875, 0.001326038855024154, 0.003540114991597703, 0.006275687203667271, 0.004612887644046594, 0.0033113328662545223, 0.006136399716262216, 0.003321702014042443, 0.003485359474746773, 0.0029452573484262884, 0.004163043307813898, 0.002327458304509293, 0.0071773675005559, 0.004701794404245105, 0.005381864460261469, 0.0026648434353126063, 0.005716720513918744, 0.0028709274930113146, 0.002708135107533552, 0.001389200283736456, 0.005050754339230983, 0.006072749913735719, 0.004094970576211719, 0.006071945471033714, 0.0042434090827058995, 0.003756683861716608, 0.0015690197689310148, 0.0008323912522089764, 0.002247198899337832, 0.0016678234002638049, 0.0034017218130927176, 0.003298615346992981, 0.003055755494195826], \"sizemode\": \"area\", \"sizeref\": 1.7943418751389752e-05, \"symbol\": \"circle\"}, \"mode\": \"markers\", \"name\": \"\", \"orientation\": \"v\", \"showlegend\": false, \"type\": \"scatter\", \"x\": [0.16, 0.16, 0.14, 0.15, 0.15, 0.135, 0.11, 0.11, 0.22, 0.155, 0.15, 0.09, 0.11, 0.14, 0.135, 0.13, 0.155, 0.16, 0.16, 0.135, 0.135, 0.11, 0.145, 0.13, 0.18, 0.13, 0.13, 0.145, 0.15, 0.13, 0.14, 0.145, 0.17, 0.15, 0.145, 0.135, 0.15, 0.11, 0.11, 0.14, 0.15, 0.15, 0.15, 0.155, 0.145, 0.09, 0.15, 0.13, 0.16, 0.125, 0.11], \"xaxis\": \"x\", \"y\": [57.44383333333334, 53.79816666666667, 56.34250000000001, 54.048833333333334, 62.68683333333333, 52.788333333333334, 60.17599999999999, 58.57033333333334, 74.10350000000001, 60.30466666666667, 62.649999999999984, 57.36966666666666, 51.07150000000001, 56.99116666666666, 53.014, 51.39266666666666, 58.195166666666665, 52.910833333333336, 56.80583333333334, 52.91416666666666, 61.55133333333333, 57.48999999999999, 56.6265, 55.17816666666666, 58.65083333333333, 53.20166666666666, 50.208499999999994, 53.14333333333334, 61.210333333333345, 54.53666666666666, 59.19299999999999, 54.88550000000001, 64.78333333333335, 56.48383333333334, 59.94716666666667, 54.08766666666666, 54.9275, 55.351, 53.58166666666667, 59.05783333333334, 54.65566666666666, 53.8305, 54.796666666666674, 60.85966666666667, 54.60883333333333, 52.817, 59.9785, 59.15833333333333, 55.315666666666665, 55.24516666666667, 48.37616666666667], \"yaxis\": \"y\"}],                        {\"coloraxis\": {\"colorbar\": {\"title\": {\"text\": \"positivity_rate\"}}, \"colorscale\": [[0.0, \"#0d0887\"], [0.1111111111111111, \"#46039f\"], [0.2222222222222222, \"#7201a8\"], [0.3333333333333333, \"#9c179e\"], [0.4444444444444444, \"#bd3786\"], [0.5555555555555556, \"#d8576b\"], [0.6666666666666666, \"#ed7953\"], [0.7777777777777778, \"#fb9f3a\"], [0.8888888888888888, \"#fdca26\"], [1.0, \"#f0f921\"]]}, \"legend\": {\"itemsizing\": \"constant\", \"tracegroupgap\": 0}, \"margin\": {\"t\": 60}, \"template\": {\"data\": {\"bar\": [{\"error_x\": {\"color\": \"#2a3f5f\"}, \"error_y\": {\"color\": \"#2a3f5f\"}, \"marker\": {\"line\": {\"color\": \"#E5ECF6\", \"width\": 0.5}}, \"type\": \"bar\"}], \"barpolar\": [{\"marker\": {\"line\": {\"color\": \"#E5ECF6\", \"width\": 0.5}}, \"type\": \"barpolar\"}], \"carpet\": [{\"aaxis\": {\"endlinecolor\": \"#2a3f5f\", \"gridcolor\": \"white\", \"linecolor\": \"white\", \"minorgridcolor\": \"white\", \"startlinecolor\": \"#2a3f5f\"}, \"baxis\": {\"endlinecolor\": \"#2a3f5f\", \"gridcolor\": \"white\", \"linecolor\": \"white\", \"minorgridcolor\": \"white\", \"startlinecolor\": \"#2a3f5f\"}, \"type\": \"carpet\"}], \"choropleth\": [{\"colorbar\": {\"outlinewidth\": 0, \"ticks\": \"\"}, \"type\": \"choropleth\"}], \"contour\": [{\"colorbar\": {\"outlinewidth\": 0, \"ticks\": \"\"}, \"colorscale\": [[0.0, \"#0d0887\"], [0.1111111111111111, \"#46039f\"], [0.2222222222222222, \"#7201a8\"], [0.3333333333333333, \"#9c179e\"], [0.4444444444444444, \"#bd3786\"], [0.5555555555555556, \"#d8576b\"], [0.6666666666666666, \"#ed7953\"], [0.7777777777777778, \"#fb9f3a\"], [0.8888888888888888, \"#fdca26\"], [1.0, \"#f0f921\"]], \"type\": \"contour\"}], \"contourcarpet\": [{\"colorbar\": {\"outlinewidth\": 0, \"ticks\": \"\"}, \"type\": \"contourcarpet\"}], \"heatmap\": [{\"colorbar\": {\"outlinewidth\": 0, \"ticks\": \"\"}, \"colorscale\": [[0.0, \"#0d0887\"], [0.1111111111111111, \"#46039f\"], [0.2222222222222222, \"#7201a8\"], [0.3333333333333333, \"#9c179e\"], [0.4444444444444444, \"#bd3786\"], [0.5555555555555556, \"#d8576b\"], [0.6666666666666666, \"#ed7953\"], [0.7777777777777778, \"#fb9f3a\"], [0.8888888888888888, \"#fdca26\"], [1.0, \"#f0f921\"]], \"type\": \"heatmap\"}], \"heatmapgl\": [{\"colorbar\": {\"outlinewidth\": 0, \"ticks\": \"\"}, \"colorscale\": [[0.0, \"#0d0887\"], [0.1111111111111111, \"#46039f\"], [0.2222222222222222, \"#7201a8\"], [0.3333333333333333, \"#9c179e\"], [0.4444444444444444, \"#bd3786\"], [0.5555555555555556, \"#d8576b\"], [0.6666666666666666, \"#ed7953\"], [0.7777777777777778, \"#fb9f3a\"], [0.8888888888888888, \"#fdca26\"], [1.0, \"#f0f921\"]], \"type\": \"heatmapgl\"}], \"histogram\": [{\"marker\": {\"colorbar\": {\"outlinewidth\": 0, \"ticks\": \"\"}}, \"type\": \"histogram\"}], \"histogram2d\": [{\"colorbar\": {\"outlinewidth\": 0, \"ticks\": \"\"}, \"colorscale\": [[0.0, \"#0d0887\"], [0.1111111111111111, \"#46039f\"], [0.2222222222222222, \"#7201a8\"], [0.3333333333333333, \"#9c179e\"], [0.4444444444444444, \"#bd3786\"], [0.5555555555555556, \"#d8576b\"], [0.6666666666666666, \"#ed7953\"], [0.7777777777777778, \"#fb9f3a\"], [0.8888888888888888, \"#fdca26\"], [1.0, \"#f0f921\"]], \"type\": \"histogram2d\"}], \"histogram2dcontour\": [{\"colorbar\": {\"outlinewidth\": 0, \"ticks\": \"\"}, \"colorscale\": [[0.0, \"#0d0887\"], [0.1111111111111111, \"#46039f\"], [0.2222222222222222, \"#7201a8\"], [0.3333333333333333, \"#9c179e\"], [0.4444444444444444, \"#bd3786\"], [0.5555555555555556, \"#d8576b\"], [0.6666666666666666, \"#ed7953\"], [0.7777777777777778, \"#fb9f3a\"], [0.8888888888888888, \"#fdca26\"], [1.0, \"#f0f921\"]], \"type\": \"histogram2dcontour\"}], \"mesh3d\": [{\"colorbar\": {\"outlinewidth\": 0, \"ticks\": \"\"}, \"type\": \"mesh3d\"}], \"parcoords\": [{\"line\": {\"colorbar\": {\"outlinewidth\": 0, \"ticks\": \"\"}}, \"type\": \"parcoords\"}], \"pie\": [{\"automargin\": true, \"type\": \"pie\"}], \"scatter\": [{\"marker\": {\"colorbar\": {\"outlinewidth\": 0, \"ticks\": \"\"}}, \"type\": \"scatter\"}], \"scatter3d\": [{\"line\": {\"colorbar\": {\"outlinewidth\": 0, \"ticks\": \"\"}}, \"marker\": {\"colorbar\": {\"outlinewidth\": 0, \"ticks\": \"\"}}, \"type\": \"scatter3d\"}], \"scattercarpet\": [{\"marker\": {\"colorbar\": {\"outlinewidth\": 0, \"ticks\": \"\"}}, \"type\": \"scattercarpet\"}], \"scattergeo\": [{\"marker\": {\"colorbar\": {\"outlinewidth\": 0, \"ticks\": \"\"}}, \"type\": \"scattergeo\"}], \"scattergl\": [{\"marker\": {\"colorbar\": {\"outlinewidth\": 0, \"ticks\": \"\"}}, \"type\": \"scattergl\"}], \"scattermapbox\": [{\"marker\": {\"colorbar\": {\"outlinewidth\": 0, \"ticks\": \"\"}}, \"type\": \"scattermapbox\"}], \"scatterpolar\": [{\"marker\": {\"colorbar\": {\"outlinewidth\": 0, \"ticks\": \"\"}}, \"type\": \"scatterpolar\"}], \"scatterpolargl\": [{\"marker\": {\"colorbar\": {\"outlinewidth\": 0, \"ticks\": \"\"}}, \"type\": \"scatterpolargl\"}], \"scatterternary\": [{\"marker\": {\"colorbar\": {\"outlinewidth\": 0, \"ticks\": \"\"}}, \"type\": \"scatterternary\"}], \"surface\": [{\"colorbar\": {\"outlinewidth\": 0, \"ticks\": \"\"}, \"colorscale\": [[0.0, \"#0d0887\"], [0.1111111111111111, \"#46039f\"], [0.2222222222222222, \"#7201a8\"], [0.3333333333333333, \"#9c179e\"], [0.4444444444444444, \"#bd3786\"], [0.5555555555555556, \"#d8576b\"], [0.6666666666666666, \"#ed7953\"], [0.7777777777777778, \"#fb9f3a\"], [0.8888888888888888, \"#fdca26\"], [1.0, \"#f0f921\"]], \"type\": \"surface\"}], \"table\": [{\"cells\": {\"fill\": {\"color\": \"#EBF0F8\"}, \"line\": {\"color\": \"white\"}}, \"header\": {\"fill\": {\"color\": \"#C8D4E3\"}, \"line\": {\"color\": \"white\"}}, \"type\": \"table\"}]}, \"layout\": {\"annotationdefaults\": {\"arrowcolor\": \"#2a3f5f\", \"arrowhead\": 0, \"arrowwidth\": 1}, \"autotypenumbers\": \"strict\", \"coloraxis\": {\"colorbar\": {\"outlinewidth\": 0, \"ticks\": \"\"}}, \"colorscale\": {\"diverging\": [[0, \"#8e0152\"], [0.1, \"#c51b7d\"], [0.2, \"#de77ae\"], [0.3, \"#f1b6da\"], [0.4, \"#fde0ef\"], [0.5, \"#f7f7f7\"], [0.6, \"#e6f5d0\"], [0.7, \"#b8e186\"], [0.8, \"#7fbc41\"], [0.9, \"#4d9221\"], [1, \"#276419\"]], \"sequential\": [[0.0, \"#0d0887\"], [0.1111111111111111, \"#46039f\"], [0.2222222222222222, \"#7201a8\"], [0.3333333333333333, \"#9c179e\"], [0.4444444444444444, \"#bd3786\"], [0.5555555555555556, \"#d8576b\"], [0.6666666666666666, \"#ed7953\"], [0.7777777777777778, \"#fb9f3a\"], [0.8888888888888888, \"#fdca26\"], [1.0, \"#f0f921\"]], \"sequentialminus\": [[0.0, \"#0d0887\"], [0.1111111111111111, \"#46039f\"], [0.2222222222222222, \"#7201a8\"], [0.3333333333333333, \"#9c179e\"], [0.4444444444444444, \"#bd3786\"], [0.5555555555555556, \"#d8576b\"], [0.6666666666666666, \"#ed7953\"], [0.7777777777777778, \"#fb9f3a\"], [0.8888888888888888, \"#fdca26\"], [1.0, \"#f0f921\"]]}, \"colorway\": [\"#636efa\", \"#EF553B\", \"#00cc96\", \"#ab63fa\", \"#FFA15A\", \"#19d3f3\", \"#FF6692\", \"#B6E880\", \"#FF97FF\", \"#FECB52\"], \"font\": {\"color\": \"#2a3f5f\"}, \"geo\": {\"bgcolor\": \"white\", \"lakecolor\": \"white\", \"landcolor\": \"#E5ECF6\", \"showlakes\": true, \"showland\": true, \"subunitcolor\": \"white\"}, \"hoverlabel\": {\"align\": \"left\"}, \"hovermode\": \"closest\", \"mapbox\": {\"style\": \"light\"}, \"paper_bgcolor\": \"white\", \"plot_bgcolor\": \"#E5ECF6\", \"polar\": {\"angularaxis\": {\"gridcolor\": \"white\", \"linecolor\": \"white\", \"ticks\": \"\"}, \"bgcolor\": \"#E5ECF6\", \"radialaxis\": {\"gridcolor\": \"white\", \"linecolor\": \"white\", \"ticks\": \"\"}}, \"scene\": {\"xaxis\": {\"backgroundcolor\": \"#E5ECF6\", \"gridcolor\": \"white\", \"gridwidth\": 2, \"linecolor\": \"white\", \"showbackground\": true, \"ticks\": \"\", \"zerolinecolor\": \"white\"}, \"yaxis\": {\"backgroundcolor\": \"#E5ECF6\", \"gridcolor\": \"white\", \"gridwidth\": 2, \"linecolor\": \"white\", \"showbackground\": true, \"ticks\": \"\", \"zerolinecolor\": \"white\"}, \"zaxis\": {\"backgroundcolor\": \"#E5ECF6\", \"gridcolor\": \"white\", \"gridwidth\": 2, \"linecolor\": \"white\", \"showbackground\": true, \"ticks\": \"\", \"zerolinecolor\": \"white\"}}, \"shapedefaults\": {\"line\": {\"color\": \"#2a3f5f\"}}, \"ternary\": {\"aaxis\": {\"gridcolor\": \"white\", \"linecolor\": \"white\", \"ticks\": \"\"}, \"baxis\": {\"gridcolor\": \"white\", \"linecolor\": \"white\", \"ticks\": \"\"}, \"bgcolor\": \"#E5ECF6\", \"caxis\": {\"gridcolor\": \"white\", \"linecolor\": \"white\", \"ticks\": \"\"}}, \"title\": {\"x\": 0.05}, \"xaxis\": {\"automargin\": true, \"gridcolor\": \"white\", \"linecolor\": \"white\", \"ticks\": \"\", \"title\": {\"standoff\": 15}, \"zerolinecolor\": \"white\", \"zerolinewidth\": 2}, \"yaxis\": {\"automargin\": true, \"gridcolor\": \"white\", \"linecolor\": \"white\", \"ticks\": \"\", \"title\": {\"standoff\": 15}, \"zerolinecolor\": \"white\", \"zerolinewidth\": 2}}}, \"xaxis\": {\"anchor\": \"y\", \"domain\": [0.0, 1.0], \"title\": {\"text\": \"pc_misconception\"}}, \"yaxis\": {\"anchor\": \"x\", \"domain\": [0.0, 1.0], \"title\": {\"text\": \"misinformation_index\"}}},                        {\"responsive\": true}                    ).then(function(){\n",
       "                            \n",
       "var gd = document.getElementById('23a481b2-f06b-4420-bc96-c364960de416');\n",
=======
       "<div>                            <div id=\"e775a022-fa62-4b1c-be91-e2605a4e321f\" class=\"plotly-graph-div\" style=\"height:525px; width:100%;\"></div>            <script type=\"text/javascript\">                require([\"plotly\"], function(Plotly) {                    window.PLOTLYENV=window.PLOTLYENV || {};                                    if (document.getElementById(\"e775a022-fa62-4b1c-be91-e2605a4e321f\")) {                    Plotly.newPlot(                        \"e775a022-fa62-4b1c-be91-e2605a4e321f\",                        [{\"customdata\": [[\"Alabama\", 0.00473704053645111, 0.21471384427092943], [\"Alaska\", 0.0010787533596785218, 0.03505792442530479], [\"Arizona\", 0.005396752906555991, 0.11321597457663174], [\"Arkansas\", 0.0048587153448035846, 0.12143290731933612], [\"California\", 0.0030837876519683935, 0.07671262627250544], [\"Colorado\", 0.0029307204756359793, 0.07266569455525902], [\"Connecticut\", 0.00597062987171695, 0.04379996678516095], [\"Delaware\", 0.0033715895536500446, 0.06342682448291186], [\"District of Columbia\", 0.003884868050456666, 0.03350598840484888], [\"Florida\", 0.003718570017070698, 0.08820046671028753], [\"Georgia\", 0.004003700524687407, 0.1409389118989032], [\"Hawaii\", 0.0008669886191545851, 0.026854405133102378], [\"Idaho\", 0.002916223171813988, 0.26975001989759373], [\"Illinois\", 0.0050215147867813245, 0.07022167738917065], [\"Indiana\", 0.004396238323372942, 0.0893406946363678], [\"Iowa\", 0.0046788338112216474, 0.213419288761902], [\"Kansas\", 0.003907072880054099, 0.23503083290337543], [\"Kentucky\", 0.002524831267178173, 0.10107751207100411], [\"Louisiana\", 0.005757267466179875, 0.08000602302809734], [\"Maine\", 0.001326038855024154, 0.028566115258216642], [\"Maryland\", 0.003540114991597703, 0.0505440205647844], [\"Massachusetts\", 0.006275687203667271, 0.03843832252893905], [\"Michigan\", 0.004612887644046594, 0.06514004451897608], [\"Minnesota\", 0.0033113328662545223, 0.07404768268879708], [\"Mississippi\", 0.006136399716262216, 0.17521690180689384], [\"Missouri\", 0.003321702014042443, 0.11037875811718188], [\"Montana\", 0.003485359474746773, 0.09822400329542687], [\"Nebraska\", 0.0029452573484262884, 0.09081147641681485], [\"Nevada\", 0.004163043307813898, 0.1118589623784725], [\"New Hampshire\", 0.002327458304509293, 0.05204844745200852], [\"New Jersey\", 0.0071773675005559, 0.07406791302782087], [\"New Mexico\", 0.004701794404245105, 0.07427716275098263], [\"New York\", 0.005381864460261469, 0.04386129349735964], [\"North Carolina\", 0.0026648434353126063, 0.08470004315925765], [\"North Dakota\", 0.005716720513918744, 0.07253348628045043], [\"Ohio\", 0.0028709274930113146, 0.09871997901713343], [\"Oklahoma\", 0.002708135107533552, 0.1222901069199689], [\"Oregon\", 0.001389200283736456, 0.04502916765473085], [\"Pennsylvania\", 0.005050754339230983, 0.09136963981210378], [\"Rhode Island\", 0.006072749913735719, 0.04557478865949738], [\"South Carolina\", 0.004094970576211719, 0.1048808757853304], [\"South Dakota\", 0.006071945471033714, 0.2688719548543496], [\"Tennessee\", 0.0042434090827058995, 0.1130596773234], [\"Texas\", 0.003756683861716608, 0.1356754142768419], [\"Utah\", 0.0015690197689310148, 0.1329411331539936], [\"Vermont\", 0.0008323912522089764, 0.013333689938496752], [\"Virginia\", 0.002247198899337832, 0.09655837701723202], [\"Washington\", 0.0016678234002638049, 0.06850604756126438], [\"West Virginia\", 0.0034017218130927176, 0.062192829071874775], [\"Wisconsin\", 0.003298615346992981, 0.0958532548731151], [\"Wyoming\", 0.003055755494195826, 0.08175324102654555]], \"hovertemplate\": \"deaths_pth=%{customdata[1]:.4f}<br>state=%{customdata[0]}<br>Positive Covid test rate=%{marker.color:.1%}<extra></extra>\", \"legendgroup\": \"\", \"marker\": {\"color\": [0.21471384427092943, 0.03505792442530479, 0.11321597457663174, 0.12143290731933612, 0.07671262627250544, 0.07266569455525902, 0.04379996678516095, 0.06342682448291186, 0.03350598840484888, 0.08820046671028753, 0.1409389118989032, 0.026854405133102378, 0.26975001989759373, 0.07022167738917065, 0.0893406946363678, 0.213419288761902, 0.23503083290337543, 0.10107751207100411, 0.08000602302809734, 0.028566115258216642, 0.0505440205647844, 0.03843832252893905, 0.06514004451897608, 0.07404768268879708, 0.17521690180689384, 0.11037875811718188, 0.09822400329542687, 0.09081147641681485, 0.1118589623784725, 0.05204844745200852, 0.07406791302782087, 0.07427716275098263, 0.04386129349735964, 0.08470004315925765, 0.07253348628045043, 0.09871997901713343, 0.1222901069199689, 0.04502916765473085, 0.09136963981210378, 0.04557478865949738, 0.1048808757853304, 0.2688719548543496, 0.1130596773234, 0.1356754142768419, 0.1329411331539936, 0.013333689938496752, 0.09655837701723202, 0.06850604756126438, 0.062192829071874775, 0.0958532548731151, 0.08175324102654555], \"coloraxis\": \"coloraxis\", \"size\": [0.00473704053645111, 0.0010787533596785218, 0.005396752906555991, 0.0048587153448035846, 0.0030837876519683935, 0.0029307204756359793, 0.00597062987171695, 0.0033715895536500446, 0.003884868050456666, 0.003718570017070698, 0.004003700524687407, 0.0008669886191545851, 0.002916223171813988, 0.0050215147867813245, 0.004396238323372942, 0.0046788338112216474, 0.003907072880054099, 0.002524831267178173, 0.005757267466179875, 0.001326038855024154, 0.003540114991597703, 0.006275687203667271, 0.004612887644046594, 0.0033113328662545223, 0.006136399716262216, 0.003321702014042443, 0.003485359474746773, 0.0029452573484262884, 0.004163043307813898, 0.002327458304509293, 0.0071773675005559, 0.004701794404245105, 0.005381864460261469, 0.0026648434353126063, 0.005716720513918744, 0.0028709274930113146, 0.002708135107533552, 0.001389200283736456, 0.005050754339230983, 0.006072749913735719, 0.004094970576211719, 0.006071945471033714, 0.0042434090827058995, 0.003756683861716608, 0.0015690197689310148, 0.0008323912522089764, 0.002247198899337832, 0.0016678234002638049, 0.0034017218130927176, 0.003298615346992981, 0.003055755494195826], \"sizemode\": \"area\", \"sizeref\": 1.7943418751389752e-05, \"symbol\": \"circle\"}, \"mode\": \"markers\", \"name\": \"\", \"orientation\": \"v\", \"showlegend\": false, \"type\": \"scatter\", \"x\": [0.16, 0.16, 0.14, 0.15, 0.15, 0.135, 0.11, 0.11, 0.22, 0.155, 0.15, 0.09, 0.11, 0.14, 0.135, 0.13, 0.155, 0.16, 0.16, 0.135, 0.135, 0.11, 0.145, 0.13, 0.18, 0.13, 0.13, 0.145, 0.15, 0.13, 0.14, 0.145, 0.17, 0.15, 0.145, 0.135, 0.15, 0.11, 0.11, 0.14, 0.15, 0.15, 0.15, 0.155, 0.145, 0.09, 0.15, 0.13, 0.16, 0.125, 0.11], \"xaxis\": \"x\", \"y\": [57.44383333333334, 53.79816666666667, 56.34250000000001, 54.048833333333334, 62.68683333333333, 52.788333333333334, 60.17599999999999, 58.57033333333334, 74.10350000000001, 60.30466666666667, 62.649999999999984, 57.36966666666666, 51.07150000000001, 56.99116666666666, 53.014, 51.39266666666666, 58.195166666666665, 52.910833333333336, 56.80583333333334, 52.91416666666666, 61.55133333333333, 57.48999999999999, 56.6265, 55.17816666666666, 58.65083333333333, 53.20166666666666, 50.208499999999994, 53.14333333333334, 61.210333333333345, 54.53666666666666, 59.19299999999999, 54.88550000000001, 64.78333333333335, 56.48383333333334, 59.94716666666667, 54.08766666666666, 54.9275, 55.351, 53.58166666666667, 59.05783333333334, 54.65566666666666, 53.8305, 54.796666666666674, 60.85966666666667, 54.60883333333333, 52.817, 59.9785, 59.15833333333333, 55.315666666666665, 55.24516666666667, 48.37616666666667], \"yaxis\": \"y\"}],                        {\"coloraxis\": {\"colorbar\": {\"title\": {\"text\": \"Positive Covid test rate\"}}, \"colorscale\": [[0.0, \"#0d0887\"], [0.1111111111111111, \"#46039f\"], [0.2222222222222222, \"#7201a8\"], [0.3333333333333333, \"#9c179e\"], [0.4444444444444444, \"#bd3786\"], [0.5555555555555556, \"#d8576b\"], [0.6666666666666666, \"#ed7953\"], [0.7777777777777778, \"#fb9f3a\"], [0.8888888888888888, \"#fdca26\"], [1.0, \"#f0f921\"]]}, \"legend\": {\"itemsizing\": \"constant\", \"tracegroupgap\": 0}, \"margin\": {\"t\": 60}, \"template\": {\"data\": {\"bar\": [{\"error_x\": {\"color\": \"#2a3f5f\"}, \"error_y\": {\"color\": \"#2a3f5f\"}, \"marker\": {\"line\": {\"color\": \"#E5ECF6\", \"width\": 0.5}}, \"type\": \"bar\"}], \"barpolar\": [{\"marker\": {\"line\": {\"color\": \"#E5ECF6\", \"width\": 0.5}}, \"type\": \"barpolar\"}], \"carpet\": [{\"aaxis\": {\"endlinecolor\": \"#2a3f5f\", \"gridcolor\": \"white\", \"linecolor\": \"white\", \"minorgridcolor\": \"white\", \"startlinecolor\": \"#2a3f5f\"}, \"baxis\": {\"endlinecolor\": \"#2a3f5f\", \"gridcolor\": \"white\", \"linecolor\": \"white\", \"minorgridcolor\": \"white\", \"startlinecolor\": \"#2a3f5f\"}, \"type\": \"carpet\"}], \"choropleth\": [{\"colorbar\": {\"outlinewidth\": 0, \"ticks\": \"\"}, \"type\": \"choropleth\"}], \"contour\": [{\"colorbar\": {\"outlinewidth\": 0, \"ticks\": \"\"}, \"colorscale\": [[0.0, \"#0d0887\"], [0.1111111111111111, \"#46039f\"], [0.2222222222222222, \"#7201a8\"], [0.3333333333333333, \"#9c179e\"], [0.4444444444444444, \"#bd3786\"], [0.5555555555555556, \"#d8576b\"], [0.6666666666666666, \"#ed7953\"], [0.7777777777777778, \"#fb9f3a\"], [0.8888888888888888, \"#fdca26\"], [1.0, \"#f0f921\"]], \"type\": \"contour\"}], \"contourcarpet\": [{\"colorbar\": {\"outlinewidth\": 0, \"ticks\": \"\"}, \"type\": \"contourcarpet\"}], \"heatmap\": [{\"colorbar\": {\"outlinewidth\": 0, \"ticks\": \"\"}, \"colorscale\": [[0.0, \"#0d0887\"], [0.1111111111111111, \"#46039f\"], [0.2222222222222222, \"#7201a8\"], [0.3333333333333333, \"#9c179e\"], [0.4444444444444444, \"#bd3786\"], [0.5555555555555556, \"#d8576b\"], [0.6666666666666666, \"#ed7953\"], [0.7777777777777778, \"#fb9f3a\"], [0.8888888888888888, \"#fdca26\"], [1.0, \"#f0f921\"]], \"type\": \"heatmap\"}], \"heatmapgl\": [{\"colorbar\": {\"outlinewidth\": 0, \"ticks\": \"\"}, \"colorscale\": [[0.0, \"#0d0887\"], [0.1111111111111111, \"#46039f\"], [0.2222222222222222, \"#7201a8\"], [0.3333333333333333, \"#9c179e\"], [0.4444444444444444, \"#bd3786\"], [0.5555555555555556, \"#d8576b\"], [0.6666666666666666, \"#ed7953\"], [0.7777777777777778, \"#fb9f3a\"], [0.8888888888888888, \"#fdca26\"], [1.0, \"#f0f921\"]], \"type\": \"heatmapgl\"}], \"histogram\": [{\"marker\": {\"colorbar\": {\"outlinewidth\": 0, \"ticks\": \"\"}}, \"type\": \"histogram\"}], \"histogram2d\": [{\"colorbar\": {\"outlinewidth\": 0, \"ticks\": \"\"}, \"colorscale\": [[0.0, \"#0d0887\"], [0.1111111111111111, \"#46039f\"], [0.2222222222222222, \"#7201a8\"], [0.3333333333333333, \"#9c179e\"], [0.4444444444444444, \"#bd3786\"], [0.5555555555555556, \"#d8576b\"], [0.6666666666666666, \"#ed7953\"], [0.7777777777777778, \"#fb9f3a\"], [0.8888888888888888, \"#fdca26\"], [1.0, \"#f0f921\"]], \"type\": \"histogram2d\"}], \"histogram2dcontour\": [{\"colorbar\": {\"outlinewidth\": 0, \"ticks\": \"\"}, \"colorscale\": [[0.0, \"#0d0887\"], [0.1111111111111111, \"#46039f\"], [0.2222222222222222, \"#7201a8\"], [0.3333333333333333, \"#9c179e\"], [0.4444444444444444, \"#bd3786\"], [0.5555555555555556, \"#d8576b\"], [0.6666666666666666, \"#ed7953\"], [0.7777777777777778, \"#fb9f3a\"], [0.8888888888888888, \"#fdca26\"], [1.0, \"#f0f921\"]], \"type\": \"histogram2dcontour\"}], \"mesh3d\": [{\"colorbar\": {\"outlinewidth\": 0, \"ticks\": \"\"}, \"type\": \"mesh3d\"}], \"parcoords\": [{\"line\": {\"colorbar\": {\"outlinewidth\": 0, \"ticks\": \"\"}}, \"type\": \"parcoords\"}], \"pie\": [{\"automargin\": true, \"type\": \"pie\"}], \"scatter\": [{\"marker\": {\"colorbar\": {\"outlinewidth\": 0, \"ticks\": \"\"}}, \"type\": \"scatter\"}], \"scatter3d\": [{\"line\": {\"colorbar\": {\"outlinewidth\": 0, \"ticks\": \"\"}}, \"marker\": {\"colorbar\": {\"outlinewidth\": 0, \"ticks\": \"\"}}, \"type\": \"scatter3d\"}], \"scattercarpet\": [{\"marker\": {\"colorbar\": {\"outlinewidth\": 0, \"ticks\": \"\"}}, \"type\": \"scattercarpet\"}], \"scattergeo\": [{\"marker\": {\"colorbar\": {\"outlinewidth\": 0, \"ticks\": \"\"}}, \"type\": \"scattergeo\"}], \"scattergl\": [{\"marker\": {\"colorbar\": {\"outlinewidth\": 0, \"ticks\": \"\"}}, \"type\": \"scattergl\"}], \"scattermapbox\": [{\"marker\": {\"colorbar\": {\"outlinewidth\": 0, \"ticks\": \"\"}}, \"type\": \"scattermapbox\"}], \"scatterpolar\": [{\"marker\": {\"colorbar\": {\"outlinewidth\": 0, \"ticks\": \"\"}}, \"type\": \"scatterpolar\"}], \"scatterpolargl\": [{\"marker\": {\"colorbar\": {\"outlinewidth\": 0, \"ticks\": \"\"}}, \"type\": \"scatterpolargl\"}], \"scatterternary\": [{\"marker\": {\"colorbar\": {\"outlinewidth\": 0, \"ticks\": \"\"}}, \"type\": \"scatterternary\"}], \"surface\": [{\"colorbar\": {\"outlinewidth\": 0, \"ticks\": \"\"}, \"colorscale\": [[0.0, \"#0d0887\"], [0.1111111111111111, \"#46039f\"], [0.2222222222222222, \"#7201a8\"], [0.3333333333333333, \"#9c179e\"], [0.4444444444444444, \"#bd3786\"], [0.5555555555555556, \"#d8576b\"], [0.6666666666666666, \"#ed7953\"], [0.7777777777777778, \"#fb9f3a\"], [0.8888888888888888, \"#fdca26\"], [1.0, \"#f0f921\"]], \"type\": \"surface\"}], \"table\": [{\"cells\": {\"fill\": {\"color\": \"#EBF0F8\"}, \"line\": {\"color\": \"white\"}}, \"header\": {\"fill\": {\"color\": \"#C8D4E3\"}, \"line\": {\"color\": \"white\"}}, \"type\": \"table\"}]}, \"layout\": {\"annotationdefaults\": {\"arrowcolor\": \"#2a3f5f\", \"arrowhead\": 0, \"arrowwidth\": 1}, \"autotypenumbers\": \"strict\", \"coloraxis\": {\"colorbar\": {\"outlinewidth\": 0, \"ticks\": \"\"}}, \"colorscale\": {\"diverging\": [[0, \"#8e0152\"], [0.1, \"#c51b7d\"], [0.2, \"#de77ae\"], [0.3, \"#f1b6da\"], [0.4, \"#fde0ef\"], [0.5, \"#f7f7f7\"], [0.6, \"#e6f5d0\"], [0.7, \"#b8e186\"], [0.8, \"#7fbc41\"], [0.9, \"#4d9221\"], [1, \"#276419\"]], \"sequential\": [[0.0, \"#0d0887\"], [0.1111111111111111, \"#46039f\"], [0.2222222222222222, \"#7201a8\"], [0.3333333333333333, \"#9c179e\"], [0.4444444444444444, \"#bd3786\"], [0.5555555555555556, \"#d8576b\"], [0.6666666666666666, \"#ed7953\"], [0.7777777777777778, \"#fb9f3a\"], [0.8888888888888888, \"#fdca26\"], [1.0, \"#f0f921\"]], \"sequentialminus\": [[0.0, \"#0d0887\"], [0.1111111111111111, \"#46039f\"], [0.2222222222222222, \"#7201a8\"], [0.3333333333333333, \"#9c179e\"], [0.4444444444444444, \"#bd3786\"], [0.5555555555555556, \"#d8576b\"], [0.6666666666666666, \"#ed7953\"], [0.7777777777777778, \"#fb9f3a\"], [0.8888888888888888, \"#fdca26\"], [1.0, \"#f0f921\"]]}, \"colorway\": [\"#636efa\", \"#EF553B\", \"#00cc96\", \"#ab63fa\", \"#FFA15A\", \"#19d3f3\", \"#FF6692\", \"#B6E880\", \"#FF97FF\", \"#FECB52\"], \"font\": {\"color\": \"#2a3f5f\"}, \"geo\": {\"bgcolor\": \"white\", \"lakecolor\": \"white\", \"landcolor\": \"#E5ECF6\", \"showlakes\": true, \"showland\": true, \"subunitcolor\": \"white\"}, \"hoverlabel\": {\"align\": \"left\"}, \"hovermode\": \"closest\", \"mapbox\": {\"style\": \"light\"}, \"paper_bgcolor\": \"white\", \"plot_bgcolor\": \"#E5ECF6\", \"polar\": {\"angularaxis\": {\"gridcolor\": \"white\", \"linecolor\": \"white\", \"ticks\": \"\"}, \"bgcolor\": \"#E5ECF6\", \"radialaxis\": {\"gridcolor\": \"white\", \"linecolor\": \"white\", \"ticks\": \"\"}}, \"scene\": {\"xaxis\": {\"backgroundcolor\": \"#E5ECF6\", \"gridcolor\": \"white\", \"gridwidth\": 2, \"linecolor\": \"white\", \"showbackground\": true, \"ticks\": \"\", \"zerolinecolor\": \"white\"}, \"yaxis\": {\"backgroundcolor\": \"#E5ECF6\", \"gridcolor\": \"white\", \"gridwidth\": 2, \"linecolor\": \"white\", \"showbackground\": true, \"ticks\": \"\", \"zerolinecolor\": \"white\"}, \"zaxis\": {\"backgroundcolor\": \"#E5ECF6\", \"gridcolor\": \"white\", \"gridwidth\": 2, \"linecolor\": \"white\", \"showbackground\": true, \"ticks\": \"\", \"zerolinecolor\": \"white\"}}, \"shapedefaults\": {\"line\": {\"color\": \"#2a3f5f\"}}, \"ternary\": {\"aaxis\": {\"gridcolor\": \"white\", \"linecolor\": \"white\", \"ticks\": \"\"}, \"baxis\": {\"gridcolor\": \"white\", \"linecolor\": \"white\", \"ticks\": \"\"}, \"bgcolor\": \"#E5ECF6\", \"caxis\": {\"gridcolor\": \"white\", \"linecolor\": \"white\", \"ticks\": \"\"}}, \"title\": {\"x\": 0.05}, \"xaxis\": {\"automargin\": true, \"gridcolor\": \"white\", \"linecolor\": \"white\", \"ticks\": \"\", \"title\": {\"standoff\": 15}, \"zerolinecolor\": \"white\", \"zerolinewidth\": 2}, \"yaxis\": {\"automargin\": true, \"gridcolor\": \"white\", \"linecolor\": \"white\", \"ticks\": \"\", \"title\": {\"standoff\": 15}, \"zerolinecolor\": \"white\", \"zerolinewidth\": 2}}}, \"xaxis\": {\"anchor\": \"y\", \"domain\": [0.0, 1.0], \"title\": {\"text\": \"% Misconception\"}}, \"yaxis\": {\"anchor\": \"x\", \"domain\": [0.0, 1.0], \"title\": {\"text\": \"Misinformation Index\"}}},                        {\"responsive\": true}                    ).then(function(){\n",
       "                            \n",
       "var gd = document.getElementById('e775a022-fa62-4b1c-be91-e2605a4e321f');\n",
>>>>>>> Stashed changes
       "var x = new MutationObserver(function (mutations, observer) {{\n",
       "        var display = window.getComputedStyle(gd).display;\n",
       "        if (!display || display === 'none') {{\n",
       "            console.log([gd, 'removed!']);\n",
       "            Plotly.purge(gd);\n",
       "            observer.disconnect();\n",
       "        }}\n",
       "}});\n",
       "\n",
       "// Listen for the removal of the full notebook cells\n",
       "var notebookContainer = gd.closest('#notebook-container');\n",
       "if (notebookContainer) {{\n",
       "    x.observe(notebookContainer, {childList: true});\n",
       "}}\n",
       "\n",
       "// Listen for the clearing of the current output cell\n",
       "var outputEl = gd.closest('.output');\n",
       "if (outputEl) {{\n",
       "    x.observe(outputEl, {childList: true});\n",
       "}}\n",
       "\n",
       "                        })                };                });            </script>        </div>"
      ]
     },
     "metadata": {},
     "output_type": "display_data"
    }
   ],
   "source": [
    "fig = px.scatter(\n",
    "    us_cross_sectional,\n",
    "    x=\"pc_misconception\",\n",
    "    y=\"misinformation_index\",\n",
    "    color=\"positivity_rate\",\n",
    "    size=\"deaths_pth\",\n",
    "    hover_data={\"pc_misconception\": False, \"misinformation_index\": False, 'state':True, \"deaths_pth\": \":.4f\", \"positivity_rate\": \":.1%\"},\n",
    "    labels = {\"pc_misconception\": '% Misconception',\n",
    "              \"misinformation_index\": 'Misinformation Index',\n",
    "              \"positivity_rate\": 'Positive COVID test rate'\n",
    "             }\n",
    ")\n",
    "fig.show()"
   ]
  },
  {
   "cell_type": "code",
   "execution_count": 61,
   "metadata": {},
   "outputs": [
    {
     "data": {
      "application/vnd.plotly.v1+json": {
       "config": {
        "plotlyServerURL": "https://plot.ly"
       },
       "data": [
        {
         "customdata": [
          [
           "Alabama",
           0.00473704053645111,
           0.21471384427092943
          ],
          [
           "Alaska",
           0.0010787533596785218,
           0.03505792442530479
          ],
          [
           "Arizona",
           0.005396752906555991,
           0.11321597457663174
          ],
          [
           "Arkansas",
           0.0048587153448035846,
           0.12143290731933612
          ],
          [
           "California",
           0.0030837876519683935,
           0.07671262627250544
          ],
          [
           "Colorado",
           0.0029307204756359793,
           0.07266569455525902
          ],
          [
           "Connecticut",
           0.00597062987171695,
           0.04379996678516095
          ],
          [
           "Delaware",
           0.0033715895536500446,
           0.06342682448291186
          ],
          [
           "District of Columbia",
           0.003884868050456666,
           0.03350598840484888
          ],
          [
           "Florida",
           0.003718570017070698,
           0.08820046671028753
          ],
          [
           "Georgia",
           0.004003700524687407,
           0.1409389118989032
          ],
          [
           "Hawaii",
           0.0008669886191545851,
           0.026854405133102378
          ],
          [
           "Idaho",
           0.002916223171813988,
           0.26975001989759373
          ],
          [
           "Illinois",
           0.0050215147867813245,
           0.07022167738917065
          ],
          [
           "Indiana",
           0.004396238323372942,
           0.0893406946363678
          ],
          [
           "Iowa",
           0.0046788338112216474,
           0.213419288761902
          ],
          [
           "Kansas",
           0.003907072880054099,
           0.23503083290337543
          ],
          [
           "Kentucky",
           0.002524831267178173,
           0.10107751207100411
          ],
          [
           "Louisiana",
           0.005757267466179875,
           0.08000602302809734
          ],
          [
           "Maine",
           0.001326038855024154,
           0.028566115258216642
          ],
          [
           "Maryland",
           0.003540114991597703,
           0.0505440205647844
          ],
          [
           "Massachusetts",
           0.006275687203667271,
           0.03843832252893905
          ],
          [
           "Michigan",
           0.004612887644046594,
           0.06514004451897608
          ],
          [
           "Minnesota",
           0.0033113328662545223,
           0.07404768268879708
          ],
          [
           "Mississippi",
           0.006136399716262216,
           0.17521690180689384
          ],
          [
           "Missouri",
           0.003321702014042443,
           0.11037875811718188
          ],
          [
           "Montana",
           0.003485359474746773,
           0.09822400329542687
          ],
          [
           "Nebraska",
           0.0029452573484262884,
           0.09081147641681485
          ],
          [
           "Nevada",
           0.004163043307813898,
           0.1118589623784725
          ],
          [
           "New Hampshire",
           0.002327458304509293,
           0.05204844745200852
          ],
          [
           "New Jersey",
           0.0071773675005559,
           0.07406791302782087
          ],
          [
           "New Mexico",
           0.004701794404245105,
           0.07427716275098263
          ],
          [
           "New York",
           0.005381864460261469,
           0.04386129349735964
          ],
          [
           "North Carolina",
           0.0026648434353126063,
           0.08470004315925765
          ],
          [
           "North Dakota",
           0.005716720513918744,
           0.07253348628045043
          ],
          [
           "Ohio",
           0.0028709274930113146,
           0.09871997901713343
          ],
          [
           "Oklahoma",
           0.002708135107533552,
           0.1222901069199689
          ],
          [
           "Oregon",
           0.001389200283736456,
           0.04502916765473085
          ],
          [
           "Pennsylvania",
           0.005050754339230983,
           0.09136963981210378
          ],
          [
           "Rhode Island",
           0.006072749913735719,
           0.04557478865949738
          ],
          [
           "South Carolina",
           0.004094970576211719,
           0.1048808757853304
          ],
          [
           "South Dakota",
           0.006071945471033714,
           0.2688719548543496
          ],
          [
           "Tennessee",
           0.0042434090827058995,
           0.1130596773234
          ],
          [
           "Texas",
           0.003756683861716608,
           0.1356754142768419
          ],
          [
           "Utah",
           0.0015690197689310148,
           0.1329411331539936
          ],
          [
           "Vermont",
           0.0008323912522089764,
           0.013333689938496752
          ],
          [
           "Virginia",
           0.002247198899337832,
           0.09655837701723202
          ],
          [
           "Washington",
           0.0016678234002638049,
           0.06850604756126438
          ],
          [
           "West Virginia",
           0.0034017218130927176,
           0.062192829071874775
          ],
          [
           "Wisconsin",
           0.003298615346992981,
           0.0958532548731151
          ],
          [
           "Wyoming",
           0.003055755494195826,
           0.08175324102654555
          ]
         ],
         "hovertemplate": "deaths_pth=%{customdata[1]:.4f}<br>state=%{customdata[0]}<br>Positive COVID test rate=%{marker.color:.1%}<extra></extra>",
         "legendgroup": "",
         "marker": {
          "color": [
           0.21471384427092943,
           0.03505792442530479,
           0.11321597457663174,
           0.12143290731933612,
           0.07671262627250544,
           0.07266569455525902,
           0.04379996678516095,
           0.06342682448291186,
           0.03350598840484888,
           0.08820046671028753,
           0.1409389118989032,
           0.026854405133102378,
           0.26975001989759373,
           0.07022167738917065,
           0.0893406946363678,
           0.213419288761902,
           0.23503083290337543,
           0.10107751207100411,
           0.08000602302809734,
           0.028566115258216642,
           0.0505440205647844,
           0.03843832252893905,
           0.06514004451897608,
           0.07404768268879708,
           0.17521690180689384,
           0.11037875811718188,
           0.09822400329542687,
           0.09081147641681485,
           0.1118589623784725,
           0.05204844745200852,
           0.07406791302782087,
           0.07427716275098263,
           0.04386129349735964,
           0.08470004315925765,
           0.07253348628045043,
           0.09871997901713343,
           0.1222901069199689,
           0.04502916765473085,
           0.09136963981210378,
           0.04557478865949738,
           0.1048808757853304,
           0.2688719548543496,
           0.1130596773234,
           0.1356754142768419,
           0.1329411331539936,
           0.013333689938496752,
           0.09655837701723202,
           0.06850604756126438,
           0.062192829071874775,
           0.0958532548731151,
           0.08175324102654555
          ],
          "coloraxis": "coloraxis",
          "size": [
           0.00473704053645111,
           0.0010787533596785218,
           0.005396752906555991,
           0.0048587153448035846,
           0.0030837876519683935,
           0.0029307204756359793,
           0.00597062987171695,
           0.0033715895536500446,
           0.003884868050456666,
           0.003718570017070698,
           0.004003700524687407,
           0.0008669886191545851,
           0.002916223171813988,
           0.0050215147867813245,
           0.004396238323372942,
           0.0046788338112216474,
           0.003907072880054099,
           0.002524831267178173,
           0.005757267466179875,
           0.001326038855024154,
           0.003540114991597703,
           0.006275687203667271,
           0.004612887644046594,
           0.0033113328662545223,
           0.006136399716262216,
           0.003321702014042443,
           0.003485359474746773,
           0.0029452573484262884,
           0.004163043307813898,
           0.002327458304509293,
           0.0071773675005559,
           0.004701794404245105,
           0.005381864460261469,
           0.0026648434353126063,
           0.005716720513918744,
           0.0028709274930113146,
           0.002708135107533552,
           0.001389200283736456,
           0.005050754339230983,
           0.006072749913735719,
           0.004094970576211719,
           0.006071945471033714,
           0.0042434090827058995,
           0.003756683861716608,
           0.0015690197689310148,
           0.0008323912522089764,
           0.002247198899337832,
           0.0016678234002638049,
           0.0034017218130927176,
           0.003298615346992981,
           0.003055755494195826
          ],
          "sizemode": "area",
          "sizeref": 1.7943418751389752e-05,
          "symbol": "circle"
         },
         "mode": "markers",
         "name": "",
         "orientation": "v",
         "showlegend": false,
         "type": "scatter",
         "x": [
          0.5384615384615385,
          0.5384615384615385,
          0.38461538461538475,
          0.4615384615384615,
          0.4615384615384615,
          0.34615384615384626,
          0.15384615384615388,
          0.15384615384615388,
          1,
          0.5,
          0.4615384615384615,
          0,
          0.15384615384615388,
          0.38461538461538475,
          0.34615384615384626,
          0.30769230769230776,
          0.5,
          0.5384615384615385,
          0.5384615384615385,
          0.34615384615384626,
          0.34615384615384626,
          0.15384615384615388,
          0.423076923076923,
          0.30769230769230776,
          0.6923076923076923,
          0.30769230769230776,
          0.30769230769230776,
          0.423076923076923,
          0.4615384615384615,
          0.30769230769230776,
          0.38461538461538475,
          0.423076923076923,
          0.6153846153846155,
          0.4615384615384615,
          0.423076923076923,
          0.34615384615384626,
          0.4615384615384615,
          0.15384615384615388,
          0.15384615384615388,
          0.38461538461538475,
          0.4615384615384615,
          0.4615384615384615,
          0.4615384615384615,
          0.5,
          0.423076923076923,
          0,
          0.4615384615384615,
          0.30769230769230776,
          0.5384615384615385,
          0.2692307692307693,
          0.15384615384615388
         ],
         "xaxis": "x",
         "y": [
          0.3524526443989531,
          0.2107486201445931,
          0.3096447358192326,
          0.22049182451867,
          0.556243683760462,
          0.17149724028918645,
          0.4586496851597515,
          0.39623876033272,
          1,
          0.4636508512347437,
          0.5548120027985791,
          0.3495698478919951,
          0.10476535979891698,
          0.3348578684149148,
          0.18026871550361476,
          0.11724884040320253,
          0.3816563447435928,
          0.1762587131714648,
          0.3276541162447203,
          0.17638827705941754,
          0.5121077453292215,
          0.35424710424710354,
          0.3206835790728406,
          0.2643880697571969,
          0.3993677282267883,
          0.18756316239537676,
          0.071221269207846,
          0.18529579435619703,
          0.4988533595916148,
          0.23945349952061323,
          0.4204412946023678,
          0.2530123603949108,
          0.637732891088596,
          0.3151382446684459,
          0.44975512425176833,
          0.22200124381332376,
          0.2546448653831203,
          0.2711059573475678,
          0.2023334456220362,
          0.41518747894586827,
          0.24407893032054065,
          0.2120053898577387,
          0.24955948278095938,
          0.4852232385789431,
          0.24225855769479895,
          0.17261148972558352,
          0.45097302479852774,
          0.41909383016765533,
          0.2697325801352644,
          0.2669923039050555,
          0
         ],
         "yaxis": "y"
        }
       ],
       "layout": {
        "coloraxis": {
         "colorbar": {
          "title": {
           "text": "Positive COVID test rate"
          }
         },
         "colorscale": [
          [
           0,
           "#0d0887"
          ],
          [
           0.1111111111111111,
           "#46039f"
          ],
          [
           0.2222222222222222,
           "#7201a8"
          ],
          [
           0.3333333333333333,
           "#9c179e"
          ],
          [
           0.4444444444444444,
           "#bd3786"
          ],
          [
           0.5555555555555556,
           "#d8576b"
          ],
          [
           0.6666666666666666,
           "#ed7953"
          ],
          [
           0.7777777777777778,
           "#fb9f3a"
          ],
          [
           0.8888888888888888,
           "#fdca26"
          ],
          [
           1,
           "#f0f921"
          ]
         ]
        },
        "height": 800,
        "legend": {
         "itemsizing": "constant",
         "tracegroupgap": 0
        },
        "margin": {
         "t": 60
        },
        "shapes": [
         {
          "type": "line",
          "x0": 0,
          "x1": 1,
          "xref": "x",
          "y0": 0,
          "y1": 1,
          "yref": "y"
         }
        ],
        "template": {
         "data": {
          "bar": [
           {
            "error_x": {
             "color": "#2a3f5f"
            },
            "error_y": {
             "color": "#2a3f5f"
            },
            "marker": {
             "line": {
              "color": "#E5ECF6",
              "width": 0.5
             }
            },
            "type": "bar"
           }
          ],
          "barpolar": [
           {
            "marker": {
             "line": {
              "color": "#E5ECF6",
              "width": 0.5
             }
            },
            "type": "barpolar"
           }
          ],
          "carpet": [
           {
            "aaxis": {
             "endlinecolor": "#2a3f5f",
             "gridcolor": "white",
             "linecolor": "white",
             "minorgridcolor": "white",
             "startlinecolor": "#2a3f5f"
            },
            "baxis": {
             "endlinecolor": "#2a3f5f",
             "gridcolor": "white",
             "linecolor": "white",
             "minorgridcolor": "white",
             "startlinecolor": "#2a3f5f"
            },
            "type": "carpet"
           }
          ],
          "choropleth": [
           {
            "colorbar": {
             "outlinewidth": 0,
             "ticks": ""
            },
            "type": "choropleth"
           }
          ],
          "contour": [
           {
            "colorbar": {
             "outlinewidth": 0,
             "ticks": ""
            },
            "colorscale": [
             [
              0,
              "#0d0887"
             ],
             [
              0.1111111111111111,
              "#46039f"
             ],
             [
              0.2222222222222222,
              "#7201a8"
             ],
             [
              0.3333333333333333,
              "#9c179e"
             ],
             [
              0.4444444444444444,
              "#bd3786"
             ],
             [
              0.5555555555555556,
              "#d8576b"
             ],
             [
              0.6666666666666666,
              "#ed7953"
             ],
             [
              0.7777777777777778,
              "#fb9f3a"
             ],
             [
              0.8888888888888888,
              "#fdca26"
             ],
             [
              1,
              "#f0f921"
             ]
            ],
            "type": "contour"
           }
          ],
          "contourcarpet": [
           {
            "colorbar": {
             "outlinewidth": 0,
             "ticks": ""
            },
            "type": "contourcarpet"
           }
          ],
          "heatmap": [
           {
            "colorbar": {
             "outlinewidth": 0,
             "ticks": ""
            },
            "colorscale": [
             [
              0,
              "#0d0887"
             ],
             [
              0.1111111111111111,
              "#46039f"
             ],
             [
              0.2222222222222222,
              "#7201a8"
             ],
             [
              0.3333333333333333,
              "#9c179e"
             ],
             [
              0.4444444444444444,
              "#bd3786"
             ],
             [
              0.5555555555555556,
              "#d8576b"
             ],
             [
              0.6666666666666666,
              "#ed7953"
             ],
             [
              0.7777777777777778,
              "#fb9f3a"
             ],
             [
              0.8888888888888888,
              "#fdca26"
             ],
             [
              1,
              "#f0f921"
             ]
            ],
            "type": "heatmap"
           }
          ],
          "heatmapgl": [
           {
            "colorbar": {
             "outlinewidth": 0,
             "ticks": ""
            },
            "colorscale": [
             [
              0,
              "#0d0887"
             ],
             [
              0.1111111111111111,
              "#46039f"
             ],
             [
              0.2222222222222222,
              "#7201a8"
             ],
             [
              0.3333333333333333,
              "#9c179e"
             ],
             [
              0.4444444444444444,
              "#bd3786"
             ],
             [
              0.5555555555555556,
              "#d8576b"
             ],
             [
              0.6666666666666666,
              "#ed7953"
             ],
             [
              0.7777777777777778,
              "#fb9f3a"
             ],
             [
              0.8888888888888888,
              "#fdca26"
             ],
             [
              1,
              "#f0f921"
             ]
            ],
            "type": "heatmapgl"
           }
          ],
          "histogram": [
           {
            "marker": {
             "colorbar": {
              "outlinewidth": 0,
              "ticks": ""
             }
            },
            "type": "histogram"
           }
          ],
          "histogram2d": [
           {
            "colorbar": {
             "outlinewidth": 0,
             "ticks": ""
            },
            "colorscale": [
             [
              0,
              "#0d0887"
             ],
             [
              0.1111111111111111,
              "#46039f"
             ],
             [
              0.2222222222222222,
              "#7201a8"
             ],
             [
              0.3333333333333333,
              "#9c179e"
             ],
             [
              0.4444444444444444,
              "#bd3786"
             ],
             [
              0.5555555555555556,
              "#d8576b"
             ],
             [
              0.6666666666666666,
              "#ed7953"
             ],
             [
              0.7777777777777778,
              "#fb9f3a"
             ],
             [
              0.8888888888888888,
              "#fdca26"
             ],
             [
              1,
              "#f0f921"
             ]
            ],
            "type": "histogram2d"
           }
          ],
          "histogram2dcontour": [
           {
            "colorbar": {
             "outlinewidth": 0,
             "ticks": ""
            },
            "colorscale": [
             [
              0,
              "#0d0887"
             ],
             [
              0.1111111111111111,
              "#46039f"
             ],
             [
              0.2222222222222222,
              "#7201a8"
             ],
             [
              0.3333333333333333,
              "#9c179e"
             ],
             [
              0.4444444444444444,
              "#bd3786"
             ],
             [
              0.5555555555555556,
              "#d8576b"
             ],
             [
              0.6666666666666666,
              "#ed7953"
             ],
             [
              0.7777777777777778,
              "#fb9f3a"
             ],
             [
              0.8888888888888888,
              "#fdca26"
             ],
             [
              1,
              "#f0f921"
             ]
            ],
            "type": "histogram2dcontour"
           }
          ],
          "mesh3d": [
           {
            "colorbar": {
             "outlinewidth": 0,
             "ticks": ""
            },
            "type": "mesh3d"
           }
          ],
          "parcoords": [
           {
            "line": {
             "colorbar": {
              "outlinewidth": 0,
              "ticks": ""
             }
            },
            "type": "parcoords"
           }
          ],
          "pie": [
           {
            "automargin": true,
            "type": "pie"
           }
          ],
          "scatter": [
           {
            "marker": {
             "colorbar": {
              "outlinewidth": 0,
              "ticks": ""
             }
            },
            "type": "scatter"
           }
          ],
          "scatter3d": [
           {
            "line": {
             "colorbar": {
              "outlinewidth": 0,
              "ticks": ""
             }
            },
            "marker": {
             "colorbar": {
              "outlinewidth": 0,
              "ticks": ""
             }
            },
            "type": "scatter3d"
           }
          ],
          "scattercarpet": [
           {
            "marker": {
             "colorbar": {
              "outlinewidth": 0,
              "ticks": ""
             }
            },
            "type": "scattercarpet"
           }
          ],
          "scattergeo": [
           {
            "marker": {
             "colorbar": {
              "outlinewidth": 0,
              "ticks": ""
             }
            },
            "type": "scattergeo"
           }
          ],
          "scattergl": [
           {
            "marker": {
             "colorbar": {
              "outlinewidth": 0,
              "ticks": ""
             }
            },
            "type": "scattergl"
           }
          ],
          "scattermapbox": [
           {
            "marker": {
             "colorbar": {
              "outlinewidth": 0,
              "ticks": ""
             }
            },
            "type": "scattermapbox"
           }
          ],
          "scatterpolar": [
           {
            "marker": {
             "colorbar": {
              "outlinewidth": 0,
              "ticks": ""
             }
            },
            "type": "scatterpolar"
           }
          ],
          "scatterpolargl": [
           {
            "marker": {
             "colorbar": {
              "outlinewidth": 0,
              "ticks": ""
             }
            },
            "type": "scatterpolargl"
           }
          ],
          "scatterternary": [
           {
            "marker": {
             "colorbar": {
              "outlinewidth": 0,
              "ticks": ""
             }
            },
            "type": "scatterternary"
           }
          ],
          "surface": [
           {
            "colorbar": {
             "outlinewidth": 0,
             "ticks": ""
            },
            "colorscale": [
             [
              0,
              "#0d0887"
             ],
             [
              0.1111111111111111,
              "#46039f"
             ],
             [
              0.2222222222222222,
              "#7201a8"
             ],
             [
              0.3333333333333333,
              "#9c179e"
             ],
             [
              0.4444444444444444,
              "#bd3786"
             ],
             [
              0.5555555555555556,
              "#d8576b"
             ],
             [
              0.6666666666666666,
              "#ed7953"
             ],
             [
              0.7777777777777778,
              "#fb9f3a"
             ],
             [
              0.8888888888888888,
              "#fdca26"
             ],
             [
              1,
              "#f0f921"
             ]
            ],
            "type": "surface"
           }
          ],
          "table": [
           {
            "cells": {
             "fill": {
              "color": "#EBF0F8"
             },
             "line": {
              "color": "white"
             }
            },
            "header": {
             "fill": {
              "color": "#C8D4E3"
             },
             "line": {
              "color": "white"
             }
            },
            "type": "table"
           }
          ]
         },
         "layout": {
          "annotationdefaults": {
           "arrowcolor": "#2a3f5f",
           "arrowhead": 0,
           "arrowwidth": 1
          },
          "autotypenumbers": "strict",
          "coloraxis": {
           "colorbar": {
            "outlinewidth": 0,
            "ticks": ""
           }
          },
          "colorscale": {
           "diverging": [
            [
             0,
             "#8e0152"
            ],
            [
             0.1,
             "#c51b7d"
            ],
            [
             0.2,
             "#de77ae"
            ],
            [
             0.3,
             "#f1b6da"
            ],
            [
             0.4,
             "#fde0ef"
            ],
            [
             0.5,
             "#f7f7f7"
            ],
            [
             0.6,
             "#e6f5d0"
            ],
            [
             0.7,
             "#b8e186"
            ],
            [
             0.8,
             "#7fbc41"
            ],
            [
             0.9,
             "#4d9221"
            ],
            [
             1,
             "#276419"
            ]
           ],
           "sequential": [
            [
             0,
             "#0d0887"
            ],
            [
             0.1111111111111111,
             "#46039f"
            ],
            [
             0.2222222222222222,
             "#7201a8"
            ],
            [
             0.3333333333333333,
             "#9c179e"
            ],
            [
             0.4444444444444444,
             "#bd3786"
            ],
            [
             0.5555555555555556,
             "#d8576b"
            ],
            [
             0.6666666666666666,
             "#ed7953"
            ],
            [
             0.7777777777777778,
             "#fb9f3a"
            ],
            [
             0.8888888888888888,
             "#fdca26"
            ],
            [
             1,
             "#f0f921"
            ]
           ],
           "sequentialminus": [
            [
             0,
             "#0d0887"
            ],
            [
             0.1111111111111111,
             "#46039f"
            ],
            [
             0.2222222222222222,
             "#7201a8"
            ],
            [
             0.3333333333333333,
             "#9c179e"
            ],
            [
             0.4444444444444444,
             "#bd3786"
            ],
            [
             0.5555555555555556,
             "#d8576b"
            ],
            [
             0.6666666666666666,
             "#ed7953"
            ],
            [
             0.7777777777777778,
             "#fb9f3a"
            ],
            [
             0.8888888888888888,
             "#fdca26"
            ],
            [
             1,
             "#f0f921"
            ]
           ]
          },
          "colorway": [
           "#636efa",
           "#EF553B",
           "#00cc96",
           "#ab63fa",
           "#FFA15A",
           "#19d3f3",
           "#FF6692",
           "#B6E880",
           "#FF97FF",
           "#FECB52"
          ],
          "font": {
           "color": "#2a3f5f"
          },
          "geo": {
           "bgcolor": "white",
           "lakecolor": "white",
           "landcolor": "#E5ECF6",
           "showlakes": true,
           "showland": true,
           "subunitcolor": "white"
          },
          "hoverlabel": {
           "align": "left"
          },
          "hovermode": "closest",
          "mapbox": {
           "style": "light"
          },
          "paper_bgcolor": "white",
          "plot_bgcolor": "#E5ECF6",
          "polar": {
           "angularaxis": {
            "gridcolor": "white",
            "linecolor": "white",
            "ticks": ""
           },
           "bgcolor": "#E5ECF6",
           "radialaxis": {
            "gridcolor": "white",
            "linecolor": "white",
            "ticks": ""
           }
          },
          "scene": {
           "xaxis": {
            "backgroundcolor": "#E5ECF6",
            "gridcolor": "white",
            "gridwidth": 2,
            "linecolor": "white",
            "showbackground": true,
            "ticks": "",
            "zerolinecolor": "white"
           },
           "yaxis": {
            "backgroundcolor": "#E5ECF6",
            "gridcolor": "white",
            "gridwidth": 2,
            "linecolor": "white",
            "showbackground": true,
            "ticks": "",
            "zerolinecolor": "white"
           },
           "zaxis": {
            "backgroundcolor": "#E5ECF6",
            "gridcolor": "white",
            "gridwidth": 2,
            "linecolor": "white",
            "showbackground": true,
            "ticks": "",
            "zerolinecolor": "white"
           }
          },
          "shapedefaults": {
           "line": {
            "color": "#2a3f5f"
           }
          },
          "ternary": {
           "aaxis": {
            "gridcolor": "white",
            "linecolor": "white",
            "ticks": ""
           },
           "baxis": {
            "gridcolor": "white",
            "linecolor": "white",
            "ticks": ""
           },
           "bgcolor": "#E5ECF6",
           "caxis": {
            "gridcolor": "white",
            "linecolor": "white",
            "ticks": ""
           }
          },
          "title": {
           "x": 0.05
          },
          "xaxis": {
           "automargin": true,
           "gridcolor": "white",
           "linecolor": "white",
           "ticks": "",
           "title": {
            "standoff": 15
           },
           "zerolinecolor": "white",
           "zerolinewidth": 2
          },
          "yaxis": {
           "automargin": true,
           "gridcolor": "white",
           "linecolor": "white",
           "ticks": "",
           "title": {
            "standoff": 15
           },
           "zerolinecolor": "white",
           "zerolinewidth": 2
          }
         }
        },
        "width": 1000,
        "xaxis": {
         "anchor": "y",
         "domain": [
          0,
          1
         ],
         "title": {
          "text": "% Misconception"
         }
        },
        "yaxis": {
         "anchor": "x",
         "domain": [
          0,
          1
         ],
         "title": {
          "text": "Misinformation Index"
         }
        }
       }
      },
      "text/html": [
       "<div>                            <div id=\"6d250be3-8170-418d-a837-09e40ae3d63f\" class=\"plotly-graph-div\" style=\"height:800px; width:1000px;\"></div>            <script type=\"text/javascript\">                require([\"plotly\"], function(Plotly) {                    window.PLOTLYENV=window.PLOTLYENV || {};                                    if (document.getElementById(\"6d250be3-8170-418d-a837-09e40ae3d63f\")) {                    Plotly.newPlot(                        \"6d250be3-8170-418d-a837-09e40ae3d63f\",                        [{\"customdata\": [[\"Alabama\", 0.00473704053645111, 0.21471384427092943], [\"Alaska\", 0.0010787533596785218, 0.03505792442530479], [\"Arizona\", 0.005396752906555991, 0.11321597457663174], [\"Arkansas\", 0.0048587153448035846, 0.12143290731933612], [\"California\", 0.0030837876519683935, 0.07671262627250544], [\"Colorado\", 0.0029307204756359793, 0.07266569455525902], [\"Connecticut\", 0.00597062987171695, 0.04379996678516095], [\"Delaware\", 0.0033715895536500446, 0.06342682448291186], [\"District of Columbia\", 0.003884868050456666, 0.03350598840484888], [\"Florida\", 0.003718570017070698, 0.08820046671028753], [\"Georgia\", 0.004003700524687407, 0.1409389118989032], [\"Hawaii\", 0.0008669886191545851, 0.026854405133102378], [\"Idaho\", 0.002916223171813988, 0.26975001989759373], [\"Illinois\", 0.0050215147867813245, 0.07022167738917065], [\"Indiana\", 0.004396238323372942, 0.0893406946363678], [\"Iowa\", 0.0046788338112216474, 0.213419288761902], [\"Kansas\", 0.003907072880054099, 0.23503083290337543], [\"Kentucky\", 0.002524831267178173, 0.10107751207100411], [\"Louisiana\", 0.005757267466179875, 0.08000602302809734], [\"Maine\", 0.001326038855024154, 0.028566115258216642], [\"Maryland\", 0.003540114991597703, 0.0505440205647844], [\"Massachusetts\", 0.006275687203667271, 0.03843832252893905], [\"Michigan\", 0.004612887644046594, 0.06514004451897608], [\"Minnesota\", 0.0033113328662545223, 0.07404768268879708], [\"Mississippi\", 0.006136399716262216, 0.17521690180689384], [\"Missouri\", 0.003321702014042443, 0.11037875811718188], [\"Montana\", 0.003485359474746773, 0.09822400329542687], [\"Nebraska\", 0.0029452573484262884, 0.09081147641681485], [\"Nevada\", 0.004163043307813898, 0.1118589623784725], [\"New Hampshire\", 0.002327458304509293, 0.05204844745200852], [\"New Jersey\", 0.0071773675005559, 0.07406791302782087], [\"New Mexico\", 0.004701794404245105, 0.07427716275098263], [\"New York\", 0.005381864460261469, 0.04386129349735964], [\"North Carolina\", 0.0026648434353126063, 0.08470004315925765], [\"North Dakota\", 0.005716720513918744, 0.07253348628045043], [\"Ohio\", 0.0028709274930113146, 0.09871997901713343], [\"Oklahoma\", 0.002708135107533552, 0.1222901069199689], [\"Oregon\", 0.001389200283736456, 0.04502916765473085], [\"Pennsylvania\", 0.005050754339230983, 0.09136963981210378], [\"Rhode Island\", 0.006072749913735719, 0.04557478865949738], [\"South Carolina\", 0.004094970576211719, 0.1048808757853304], [\"South Dakota\", 0.006071945471033714, 0.2688719548543496], [\"Tennessee\", 0.0042434090827058995, 0.1130596773234], [\"Texas\", 0.003756683861716608, 0.1356754142768419], [\"Utah\", 0.0015690197689310148, 0.1329411331539936], [\"Vermont\", 0.0008323912522089764, 0.013333689938496752], [\"Virginia\", 0.002247198899337832, 0.09655837701723202], [\"Washington\", 0.0016678234002638049, 0.06850604756126438], [\"West Virginia\", 0.0034017218130927176, 0.062192829071874775], [\"Wisconsin\", 0.003298615346992981, 0.0958532548731151], [\"Wyoming\", 0.003055755494195826, 0.08175324102654555]], \"hovertemplate\": \"deaths_pth=%{customdata[1]:.4f}<br>state=%{customdata[0]}<br>Positive COVID test rate=%{marker.color:.1%}<extra></extra>\", \"legendgroup\": \"\", \"marker\": {\"color\": [0.21471384427092943, 0.03505792442530479, 0.11321597457663174, 0.12143290731933612, 0.07671262627250544, 0.07266569455525902, 0.04379996678516095, 0.06342682448291186, 0.03350598840484888, 0.08820046671028753, 0.1409389118989032, 0.026854405133102378, 0.26975001989759373, 0.07022167738917065, 0.0893406946363678, 0.213419288761902, 0.23503083290337543, 0.10107751207100411, 0.08000602302809734, 0.028566115258216642, 0.0505440205647844, 0.03843832252893905, 0.06514004451897608, 0.07404768268879708, 0.17521690180689384, 0.11037875811718188, 0.09822400329542687, 0.09081147641681485, 0.1118589623784725, 0.05204844745200852, 0.07406791302782087, 0.07427716275098263, 0.04386129349735964, 0.08470004315925765, 0.07253348628045043, 0.09871997901713343, 0.1222901069199689, 0.04502916765473085, 0.09136963981210378, 0.04557478865949738, 0.1048808757853304, 0.2688719548543496, 0.1130596773234, 0.1356754142768419, 0.1329411331539936, 0.013333689938496752, 0.09655837701723202, 0.06850604756126438, 0.062192829071874775, 0.0958532548731151, 0.08175324102654555], \"coloraxis\": \"coloraxis\", \"size\": [0.00473704053645111, 0.0010787533596785218, 0.005396752906555991, 0.0048587153448035846, 0.0030837876519683935, 0.0029307204756359793, 0.00597062987171695, 0.0033715895536500446, 0.003884868050456666, 0.003718570017070698, 0.004003700524687407, 0.0008669886191545851, 0.002916223171813988, 0.0050215147867813245, 0.004396238323372942, 0.0046788338112216474, 0.003907072880054099, 0.002524831267178173, 0.005757267466179875, 0.001326038855024154, 0.003540114991597703, 0.006275687203667271, 0.004612887644046594, 0.0033113328662545223, 0.006136399716262216, 0.003321702014042443, 0.003485359474746773, 0.0029452573484262884, 0.004163043307813898, 0.002327458304509293, 0.0071773675005559, 0.004701794404245105, 0.005381864460261469, 0.0026648434353126063, 0.005716720513918744, 0.0028709274930113146, 0.002708135107533552, 0.001389200283736456, 0.005050754339230983, 0.006072749913735719, 0.004094970576211719, 0.006071945471033714, 0.0042434090827058995, 0.003756683861716608, 0.0015690197689310148, 0.0008323912522089764, 0.002247198899337832, 0.0016678234002638049, 0.0034017218130927176, 0.003298615346992981, 0.003055755494195826], \"sizemode\": \"area\", \"sizeref\": 1.7943418751389752e-05, \"symbol\": \"circle\"}, \"mode\": \"markers\", \"name\": \"\", \"orientation\": \"v\", \"showlegend\": false, \"type\": \"scatter\", \"x\": [0.5384615384615385, 0.5384615384615385, 0.38461538461538475, 0.4615384615384615, 0.4615384615384615, 0.34615384615384626, 0.15384615384615388, 0.15384615384615388, 1.0, 0.5, 0.4615384615384615, 0.0, 0.15384615384615388, 0.38461538461538475, 0.34615384615384626, 0.30769230769230776, 0.5, 0.5384615384615385, 0.5384615384615385, 0.34615384615384626, 0.34615384615384626, 0.15384615384615388, 0.423076923076923, 0.30769230769230776, 0.6923076923076923, 0.30769230769230776, 0.30769230769230776, 0.423076923076923, 0.4615384615384615, 0.30769230769230776, 0.38461538461538475, 0.423076923076923, 0.6153846153846155, 0.4615384615384615, 0.423076923076923, 0.34615384615384626, 0.4615384615384615, 0.15384615384615388, 0.15384615384615388, 0.38461538461538475, 0.4615384615384615, 0.4615384615384615, 0.4615384615384615, 0.5, 0.423076923076923, 0.0, 0.4615384615384615, 0.30769230769230776, 0.5384615384615385, 0.2692307692307693, 0.15384615384615388], \"xaxis\": \"x\", \"y\": [0.3524526443989531, 0.2107486201445931, 0.3096447358192326, 0.22049182451867, 0.556243683760462, 0.17149724028918645, 0.4586496851597515, 0.39623876033272, 1.0, 0.4636508512347437, 0.5548120027985791, 0.3495698478919951, 0.10476535979891698, 0.3348578684149148, 0.18026871550361476, 0.11724884040320253, 0.3816563447435928, 0.1762587131714648, 0.3276541162447203, 0.17638827705941754, 0.5121077453292215, 0.35424710424710354, 0.3206835790728406, 0.2643880697571969, 0.3993677282267883, 0.18756316239537676, 0.071221269207846, 0.18529579435619703, 0.4988533595916148, 0.23945349952061323, 0.4204412946023678, 0.2530123603949108, 0.637732891088596, 0.3151382446684459, 0.44975512425176833, 0.22200124381332376, 0.2546448653831203, 0.2711059573475678, 0.2023334456220362, 0.41518747894586827, 0.24407893032054065, 0.2120053898577387, 0.24955948278095938, 0.4852232385789431, 0.24225855769479895, 0.17261148972558352, 0.45097302479852774, 0.41909383016765533, 0.2697325801352644, 0.2669923039050555, 0.0], \"yaxis\": \"y\"}],                        {\"coloraxis\": {\"colorbar\": {\"title\": {\"text\": \"Positive COVID test rate\"}}, \"colorscale\": [[0.0, \"#0d0887\"], [0.1111111111111111, \"#46039f\"], [0.2222222222222222, \"#7201a8\"], [0.3333333333333333, \"#9c179e\"], [0.4444444444444444, \"#bd3786\"], [0.5555555555555556, \"#d8576b\"], [0.6666666666666666, \"#ed7953\"], [0.7777777777777778, \"#fb9f3a\"], [0.8888888888888888, \"#fdca26\"], [1.0, \"#f0f921\"]]}, \"height\": 800, \"legend\": {\"itemsizing\": \"constant\", \"tracegroupgap\": 0}, \"margin\": {\"t\": 60}, \"shapes\": [{\"type\": \"line\", \"x0\": 0, \"x1\": 1, \"xref\": \"x\", \"y0\": 0, \"y1\": 1, \"yref\": \"y\"}], \"template\": {\"data\": {\"bar\": [{\"error_x\": {\"color\": \"#2a3f5f\"}, \"error_y\": {\"color\": \"#2a3f5f\"}, \"marker\": {\"line\": {\"color\": \"#E5ECF6\", \"width\": 0.5}}, \"type\": \"bar\"}], \"barpolar\": [{\"marker\": {\"line\": {\"color\": \"#E5ECF6\", \"width\": 0.5}}, \"type\": \"barpolar\"}], \"carpet\": [{\"aaxis\": {\"endlinecolor\": \"#2a3f5f\", \"gridcolor\": \"white\", \"linecolor\": \"white\", \"minorgridcolor\": \"white\", \"startlinecolor\": \"#2a3f5f\"}, \"baxis\": {\"endlinecolor\": \"#2a3f5f\", \"gridcolor\": \"white\", \"linecolor\": \"white\", \"minorgridcolor\": \"white\", \"startlinecolor\": \"#2a3f5f\"}, \"type\": \"carpet\"}], \"choropleth\": [{\"colorbar\": {\"outlinewidth\": 0, \"ticks\": \"\"}, \"type\": \"choropleth\"}], \"contour\": [{\"colorbar\": {\"outlinewidth\": 0, \"ticks\": \"\"}, \"colorscale\": [[0.0, \"#0d0887\"], [0.1111111111111111, \"#46039f\"], [0.2222222222222222, \"#7201a8\"], [0.3333333333333333, \"#9c179e\"], [0.4444444444444444, \"#bd3786\"], [0.5555555555555556, \"#d8576b\"], [0.6666666666666666, \"#ed7953\"], [0.7777777777777778, \"#fb9f3a\"], [0.8888888888888888, \"#fdca26\"], [1.0, \"#f0f921\"]], \"type\": \"contour\"}], \"contourcarpet\": [{\"colorbar\": {\"outlinewidth\": 0, \"ticks\": \"\"}, \"type\": \"contourcarpet\"}], \"heatmap\": [{\"colorbar\": {\"outlinewidth\": 0, \"ticks\": \"\"}, \"colorscale\": [[0.0, \"#0d0887\"], [0.1111111111111111, \"#46039f\"], [0.2222222222222222, \"#7201a8\"], [0.3333333333333333, \"#9c179e\"], [0.4444444444444444, \"#bd3786\"], [0.5555555555555556, \"#d8576b\"], [0.6666666666666666, \"#ed7953\"], [0.7777777777777778, \"#fb9f3a\"], [0.8888888888888888, \"#fdca26\"], [1.0, \"#f0f921\"]], \"type\": \"heatmap\"}], \"heatmapgl\": [{\"colorbar\": {\"outlinewidth\": 0, \"ticks\": \"\"}, \"colorscale\": [[0.0, \"#0d0887\"], [0.1111111111111111, \"#46039f\"], [0.2222222222222222, \"#7201a8\"], [0.3333333333333333, \"#9c179e\"], [0.4444444444444444, \"#bd3786\"], [0.5555555555555556, \"#d8576b\"], [0.6666666666666666, \"#ed7953\"], [0.7777777777777778, \"#fb9f3a\"], [0.8888888888888888, \"#fdca26\"], [1.0, \"#f0f921\"]], \"type\": \"heatmapgl\"}], \"histogram\": [{\"marker\": {\"colorbar\": {\"outlinewidth\": 0, \"ticks\": \"\"}}, \"type\": \"histogram\"}], \"histogram2d\": [{\"colorbar\": {\"outlinewidth\": 0, \"ticks\": \"\"}, \"colorscale\": [[0.0, \"#0d0887\"], [0.1111111111111111, \"#46039f\"], [0.2222222222222222, \"#7201a8\"], [0.3333333333333333, \"#9c179e\"], [0.4444444444444444, \"#bd3786\"], [0.5555555555555556, \"#d8576b\"], [0.6666666666666666, \"#ed7953\"], [0.7777777777777778, \"#fb9f3a\"], [0.8888888888888888, \"#fdca26\"], [1.0, \"#f0f921\"]], \"type\": \"histogram2d\"}], \"histogram2dcontour\": [{\"colorbar\": {\"outlinewidth\": 0, \"ticks\": \"\"}, \"colorscale\": [[0.0, \"#0d0887\"], [0.1111111111111111, \"#46039f\"], [0.2222222222222222, \"#7201a8\"], [0.3333333333333333, \"#9c179e\"], [0.4444444444444444, \"#bd3786\"], [0.5555555555555556, \"#d8576b\"], [0.6666666666666666, \"#ed7953\"], [0.7777777777777778, \"#fb9f3a\"], [0.8888888888888888, \"#fdca26\"], [1.0, \"#f0f921\"]], \"type\": \"histogram2dcontour\"}], \"mesh3d\": [{\"colorbar\": {\"outlinewidth\": 0, \"ticks\": \"\"}, \"type\": \"mesh3d\"}], \"parcoords\": [{\"line\": {\"colorbar\": {\"outlinewidth\": 0, \"ticks\": \"\"}}, \"type\": \"parcoords\"}], \"pie\": [{\"automargin\": true, \"type\": \"pie\"}], \"scatter\": [{\"marker\": {\"colorbar\": {\"outlinewidth\": 0, \"ticks\": \"\"}}, \"type\": \"scatter\"}], \"scatter3d\": [{\"line\": {\"colorbar\": {\"outlinewidth\": 0, \"ticks\": \"\"}}, \"marker\": {\"colorbar\": {\"outlinewidth\": 0, \"ticks\": \"\"}}, \"type\": \"scatter3d\"}], \"scattercarpet\": [{\"marker\": {\"colorbar\": {\"outlinewidth\": 0, \"ticks\": \"\"}}, \"type\": \"scattercarpet\"}], \"scattergeo\": [{\"marker\": {\"colorbar\": {\"outlinewidth\": 0, \"ticks\": \"\"}}, \"type\": \"scattergeo\"}], \"scattergl\": [{\"marker\": {\"colorbar\": {\"outlinewidth\": 0, \"ticks\": \"\"}}, \"type\": \"scattergl\"}], \"scattermapbox\": [{\"marker\": {\"colorbar\": {\"outlinewidth\": 0, \"ticks\": \"\"}}, \"type\": \"scattermapbox\"}], \"scatterpolar\": [{\"marker\": {\"colorbar\": {\"outlinewidth\": 0, \"ticks\": \"\"}}, \"type\": \"scatterpolar\"}], \"scatterpolargl\": [{\"marker\": {\"colorbar\": {\"outlinewidth\": 0, \"ticks\": \"\"}}, \"type\": \"scatterpolargl\"}], \"scatterternary\": [{\"marker\": {\"colorbar\": {\"outlinewidth\": 0, \"ticks\": \"\"}}, \"type\": \"scatterternary\"}], \"surface\": [{\"colorbar\": {\"outlinewidth\": 0, \"ticks\": \"\"}, \"colorscale\": [[0.0, \"#0d0887\"], [0.1111111111111111, \"#46039f\"], [0.2222222222222222, \"#7201a8\"], [0.3333333333333333, \"#9c179e\"], [0.4444444444444444, \"#bd3786\"], [0.5555555555555556, \"#d8576b\"], [0.6666666666666666, \"#ed7953\"], [0.7777777777777778, \"#fb9f3a\"], [0.8888888888888888, \"#fdca26\"], [1.0, \"#f0f921\"]], \"type\": \"surface\"}], \"table\": [{\"cells\": {\"fill\": {\"color\": \"#EBF0F8\"}, \"line\": {\"color\": \"white\"}}, \"header\": {\"fill\": {\"color\": \"#C8D4E3\"}, \"line\": {\"color\": \"white\"}}, \"type\": \"table\"}]}, \"layout\": {\"annotationdefaults\": {\"arrowcolor\": \"#2a3f5f\", \"arrowhead\": 0, \"arrowwidth\": 1}, \"autotypenumbers\": \"strict\", \"coloraxis\": {\"colorbar\": {\"outlinewidth\": 0, \"ticks\": \"\"}}, \"colorscale\": {\"diverging\": [[0, \"#8e0152\"], [0.1, \"#c51b7d\"], [0.2, \"#de77ae\"], [0.3, \"#f1b6da\"], [0.4, \"#fde0ef\"], [0.5, \"#f7f7f7\"], [0.6, \"#e6f5d0\"], [0.7, \"#b8e186\"], [0.8, \"#7fbc41\"], [0.9, \"#4d9221\"], [1, \"#276419\"]], \"sequential\": [[0.0, \"#0d0887\"], [0.1111111111111111, \"#46039f\"], [0.2222222222222222, \"#7201a8\"], [0.3333333333333333, \"#9c179e\"], [0.4444444444444444, \"#bd3786\"], [0.5555555555555556, \"#d8576b\"], [0.6666666666666666, \"#ed7953\"], [0.7777777777777778, \"#fb9f3a\"], [0.8888888888888888, \"#fdca26\"], [1.0, \"#f0f921\"]], \"sequentialminus\": [[0.0, \"#0d0887\"], [0.1111111111111111, \"#46039f\"], [0.2222222222222222, \"#7201a8\"], [0.3333333333333333, \"#9c179e\"], [0.4444444444444444, \"#bd3786\"], [0.5555555555555556, \"#d8576b\"], [0.6666666666666666, \"#ed7953\"], [0.7777777777777778, \"#fb9f3a\"], [0.8888888888888888, \"#fdca26\"], [1.0, \"#f0f921\"]]}, \"colorway\": [\"#636efa\", \"#EF553B\", \"#00cc96\", \"#ab63fa\", \"#FFA15A\", \"#19d3f3\", \"#FF6692\", \"#B6E880\", \"#FF97FF\", \"#FECB52\"], \"font\": {\"color\": \"#2a3f5f\"}, \"geo\": {\"bgcolor\": \"white\", \"lakecolor\": \"white\", \"landcolor\": \"#E5ECF6\", \"showlakes\": true, \"showland\": true, \"subunitcolor\": \"white\"}, \"hoverlabel\": {\"align\": \"left\"}, \"hovermode\": \"closest\", \"mapbox\": {\"style\": \"light\"}, \"paper_bgcolor\": \"white\", \"plot_bgcolor\": \"#E5ECF6\", \"polar\": {\"angularaxis\": {\"gridcolor\": \"white\", \"linecolor\": \"white\", \"ticks\": \"\"}, \"bgcolor\": \"#E5ECF6\", \"radialaxis\": {\"gridcolor\": \"white\", \"linecolor\": \"white\", \"ticks\": \"\"}}, \"scene\": {\"xaxis\": {\"backgroundcolor\": \"#E5ECF6\", \"gridcolor\": \"white\", \"gridwidth\": 2, \"linecolor\": \"white\", \"showbackground\": true, \"ticks\": \"\", \"zerolinecolor\": \"white\"}, \"yaxis\": {\"backgroundcolor\": \"#E5ECF6\", \"gridcolor\": \"white\", \"gridwidth\": 2, \"linecolor\": \"white\", \"showbackground\": true, \"ticks\": \"\", \"zerolinecolor\": \"white\"}, \"zaxis\": {\"backgroundcolor\": \"#E5ECF6\", \"gridcolor\": \"white\", \"gridwidth\": 2, \"linecolor\": \"white\", \"showbackground\": true, \"ticks\": \"\", \"zerolinecolor\": \"white\"}}, \"shapedefaults\": {\"line\": {\"color\": \"#2a3f5f\"}}, \"ternary\": {\"aaxis\": {\"gridcolor\": \"white\", \"linecolor\": \"white\", \"ticks\": \"\"}, \"baxis\": {\"gridcolor\": \"white\", \"linecolor\": \"white\", \"ticks\": \"\"}, \"bgcolor\": \"#E5ECF6\", \"caxis\": {\"gridcolor\": \"white\", \"linecolor\": \"white\", \"ticks\": \"\"}}, \"title\": {\"x\": 0.05}, \"xaxis\": {\"automargin\": true, \"gridcolor\": \"white\", \"linecolor\": \"white\", \"ticks\": \"\", \"title\": {\"standoff\": 15}, \"zerolinecolor\": \"white\", \"zerolinewidth\": 2}, \"yaxis\": {\"automargin\": true, \"gridcolor\": \"white\", \"linecolor\": \"white\", \"ticks\": \"\", \"title\": {\"standoff\": 15}, \"zerolinecolor\": \"white\", \"zerolinewidth\": 2}}}, \"width\": 1000, \"xaxis\": {\"anchor\": \"y\", \"domain\": [0.0, 1.0], \"title\": {\"text\": \"% Misconception\"}}, \"yaxis\": {\"anchor\": \"x\", \"domain\": [0.0, 1.0], \"title\": {\"text\": \"Misinformation Index\"}}},                        {\"responsive\": true}                    ).then(function(){\n",
       "                            \n",
       "var gd = document.getElementById('6d250be3-8170-418d-a837-09e40ae3d63f');\n",
       "var x = new MutationObserver(function (mutations, observer) {{\n",
       "        var display = window.getComputedStyle(gd).display;\n",
       "        if (!display || display === 'none') {{\n",
       "            console.log([gd, 'removed!']);\n",
       "            Plotly.purge(gd);\n",
       "            observer.disconnect();\n",
       "        }}\n",
       "}});\n",
       "\n",
       "// Listen for the removal of the full notebook cells\n",
       "var notebookContainer = gd.closest('#notebook-container');\n",
       "if (notebookContainer) {{\n",
       "    x.observe(notebookContainer, {childList: true});\n",
       "}}\n",
       "\n",
       "// Listen for the clearing of the current output cell\n",
       "var outputEl = gd.closest('.output');\n",
       "if (outputEl) {{\n",
       "    x.observe(outputEl, {childList: true});\n",
       "}}\n",
       "\n",
       "                        })                };                });            </script>        </div>"
      ]
     },
     "metadata": {},
     "output_type": "display_data"
    }
   ],
   "source": [
    "fig = px.scatter(\n",
    "    df,\n",
    "    x=\"pc_misconception\",\n",
    "    y=\"misinformation_index\",\n",
    "    color=\"positivity_rate\",\n",
    "    size=\"deaths_pth\",\n",
    "    hover_data={\"pc_misconception\": False, \"misinformation_index\": False, 'state':True, \"deaths_pth\": \":.4f\", \"positivity_rate\": \":.1%\"},\n",
    "    labels = {\"pc_misconception\": '% Misconception',\n",
    "              \"misinformation_index\": 'Misinformation Index',\n",
    "              \"positivity_rate\": 'Positive COVID test rate'\n",
    "             },\n",
    "    width=1000, height=800\n",
    ")\n",
    "fig.update_layout(shapes=[\n",
    "    dict(\n",
    "      type= 'line',\n",
    "      yref= 'y', y0= 0, y1= 1,\n",
    "      xref= 'x', x0= 0, x1= 1\n",
    "    )\n",
    "])\n",
    "fig.write_html('data/models/state_comprehensive_scatter.html', auto_open=True)\n",
    "fig.show()"
   ]
  },
  {
   "cell_type": "markdown",
   "metadata": {},
   "source": [
    "### Save data"
   ]
  },
  {
   "cell_type": "code",
   "execution_count": 40,
   "metadata": {},
   "outputs": [],
   "source": [
    "us_cross_sectional.to_csv(\"data/cleaned/us_cross_sectional.csv\")"
   ]
  },
  {
   "cell_type": "code",
   "execution_count": 41,
   "metadata": {},
   "outputs": [
    {
     "data": {
      "text/plain": [
       "4.281135674819144"
      ]
     },
     "execution_count": 41,
     "metadata": {},
     "output_type": "execute_result"
    }
   ],
   "source": [
    "us_cross_sectional[\"misinformation_index\"].std()"
   ]
  },
  {
   "cell_type": "code",
   "execution_count": 42,
   "metadata": {},
   "outputs": [
    {
     "data": {
      "text/plain": [
       "Index(['state', 'positive', 'probableCases', 'negative', 'pending',\n",
       "       'totalTestResults', 'hospitalizedCurrently', 'hospitalizedCumulative',\n",
       "       'inIcuCurrently', 'inIcuCumulative', 'onVentilatorCurrently',\n",
       "       'onVentilatorCumulative', 'recovered', 'totalTestsViral',\n",
       "       'positiveTestsViral', 'negativeTestsViral', 'positiveCasesViral',\n",
       "       'deathConfirmed', 'deathProbable', 'totalTestEncountersViral',\n",
       "       'totalTestsPeopleViral', 'totalTestsAntibody', 'positiveTestsAntibody',\n",
       "       'negativeTestsAntibody', 'totalTestsPeopleAntibody',\n",
       "       'positiveTestsPeopleAntibody', 'negativeTestsPeopleAntibody',\n",
       "       'totalTestsPeopleAntigen', 'positiveTestsPeopleAntigen',\n",
       "       'totalTestsAntigen', 'positiveTestsAntigen', 'fips', 'positiveIncrease',\n",
       "       'negativeIncrease', 'total', 'totalTestResultsIncrease', 'posNeg',\n",
       "       'dataQualityGrade', 'deathIncrease', 'hospitalizedIncrease',\n",
       "       'commercialScore', 'negativeRegularScore', 'negativeScore',\n",
       "       'positiveScore', 'score', 'grade',\n",
       "       'retail_and_recreation_percent_change_from_baseline',\n",
       "       'grocery_and_pharmacy_percent_change_from_baseline',\n",
       "       'parks_percent_change_from_baseline',\n",
       "       'transit_stations_percent_change_from_baseline',\n",
       "       'workplaces_percent_change_from_baseline',\n",
       "       'residential_percent_change_from_baseline',\n",
       "       'non_residential_percent_change_from_baseline', 'C1_School closing',\n",
       "       'C1_Flag', 'C2_Workplace closing', 'C2_Flag', 'C3_Cancel public events',\n",
       "       'C3_Flag', 'C4_Restrictions on gatherings', 'C4_Flag',\n",
       "       'C5_Close public transport', 'C5_Flag', 'C6_Stay at home requirements',\n",
       "       'C6_Flag', 'C7_Restrictions on internal movement', 'C7_Flag',\n",
       "       'C8_International travel controls', 'ConfirmedCases', 'ConfirmedDeaths',\n",
       "       'StringencyIndex', 'GovernmentResponseIndex', 'ContainmentHealthIndex',\n",
       "       'pop_2019', 'GDP_2019', 'Unemployment_rate_2019',\n",
       "       'Median_Household_Income_2019', 'Percent_less_than_high_school',\n",
       "       'Percent_bachelor_or_higher', 'Percent_some_college_or_associate',\n",
       "       'Percent_high_school_only', 'AverageTemperature', 'Urbanization_rate',\n",
       "       'White', 'Black', 'American_Native', 'Asian', 'Pacific_Islander',\n",
       "       'pc_misconception', 'not_at_all', 'not_very', 'somewhat', 'very',\n",
       "       'error_margin', 'N', 'misinformation_index', 'deaths_pth',\n",
       "       'hospitalized_pth', 'positivity_rate', 'state_code'],\n",
       "      dtype='object')"
      ]
     },
     "execution_count": 42,
     "metadata": {},
     "output_type": "execute_result"
    }
   ],
   "source": [
    "us_cross_sectional.columns"
   ]
  },
  {
   "cell_type": "code",
   "execution_count": null,
   "metadata": {},
   "outputs": [],
   "source": []
  }
 ],
 "metadata": {
  "kernelspec": {
   "display_name": "Python 3",
   "language": "python",
   "name": "python3"
  },
  "language_info": {
   "codemirror_mode": {
    "name": "ipython",
    "version": 3
   },
   "file_extension": ".py",
   "mimetype": "text/x-python",
   "name": "python",
   "nbconvert_exporter": "python",
   "pygments_lexer": "ipython3",
   "version": "3.8.5"
  }
 },
 "nbformat": 4,
 "nbformat_minor": 4
}
