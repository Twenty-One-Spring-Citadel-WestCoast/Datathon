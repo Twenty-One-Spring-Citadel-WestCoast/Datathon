{
 "cells": [
  {
   "cell_type": "code",
   "execution_count": 125,
   "metadata": {},
   "outputs": [],
   "source": [
    "from linearmodels.panel import PooledOLS, PanelOLS\n",
    "\n",
    "import statsmodels.api as sm\n",
    "import numpy as np\n",
    "import pandas as pd\n",
    "import plotly.express as px\n",
    "from plotly.subplots import make_subplots\n",
    "from sklearn.decomposition import PCA\n",
    "from sklearn.impute import SimpleImputer\n",
    "from sklearn.pipeline import Pipeline\n",
    "from sklearn.linear_model import LinearRegression\n",
    "import statsmodels.formula.api as smf\n",
    "\n",
    "from statsmodels.iolib.summary2 import summary_col"
   ]
  },
  {
   "cell_type": "markdown",
   "metadata": {},
   "source": [
    "## Read in data"
   ]
  },
  {
   "cell_type": "code",
   "execution_count": 93,
   "metadata": {},
   "outputs": [],
   "source": [
    "us_daily = pd.read_csv(\"data/cleaned/daily_df.csv\", index_col=0)\n",
    "us_daily[\"date\"] = pd.to_datetime(us_daily[\"date\"])\n",
    "us_daily = us_daily.set_index(\"date\")"
   ]
  },
  {
   "cell_type": "code",
   "execution_count": 94,
   "metadata": {},
   "outputs": [],
   "source": [
    "us_monthly = us_daily.groupby([pd.Grouper(freq='M'), 'state']).mean()\n",
    "us_monthly\n",
    "us_monthly = pd.DataFrame(us_monthly.to_records())"
   ]
  },
  {
   "cell_type": "code",
   "execution_count": 142,
   "metadata": {},
   "outputs": [
    {
     "data": {
      "text/plain": [
       "hospitalizedIncrease    0\n",
       "dtype: int64"
      ]
     },
     "execution_count": 142,
     "metadata": {},
     "output_type": "execute_result"
    }
   ],
   "source": [
    "us_daily.loc[us_daily[\"state\"] == \"Illinois\", [\"hospitalizedIncrease\"]].sum()"
   ]
  },
  {
   "cell_type": "code",
   "execution_count": 95,
   "metadata": {},
   "outputs": [],
   "source": [
    "micperceptions =  pd.read_csv(\"data/cleaned/misperception_state_inferred.csv\", index_col=0)\n",
    "micperceptions = pd.DataFrame(micperceptions.to_records())\n",
    "micperceptions.columns = [\"state\", \"pc_misperception\"]\n",
    "micperceptions.pc_misperception = micperceptions.pc_misperception.str.rstrip('%').astype('float') / 100.0"
   ]
  },
  {
   "cell_type": "code",
   "execution_count": 96,
   "metadata": {},
   "outputs": [],
   "source": [
    "us_cross_sectional = us_daily.loc[(us_daily.index >= \"2020-03-01\") & (us_daily.index <= \"2021-01-31\")].groupby([\"state\"]).mean()"
   ]
  },
  {
   "cell_type": "code",
   "execution_count": 97,
   "metadata": {},
   "outputs": [],
   "source": [
    "us_cross_sectional = pd.merge(us_cross_sectional, micperceptions, on=\"state\")"
   ]
  },
  {
   "cell_type": "code",
   "execution_count": 98,
   "metadata": {},
   "outputs": [],
   "source": [
    "reported_compliance = pd.read_csv(\"data/covidstates/beh_2.csv\", index_col=0)\n",
    "\n",
    "US_state_abb = pd.read_csv(\"data/US_state_abb.csv\")\n",
    "US_state_abb.columns = [\"state\", \"state_abb\"]\n",
    "reported_compliance = pd.merge(reported_compliance, US_state_abb, on=\"state_abb\", how=\"left\")\n"
   ]
  },
  {
   "cell_type": "code",
   "execution_count": 99,
   "metadata": {},
   "outputs": [],
   "source": [
    "reported_compliance.columns = [\"state_abb\", \"not_at_all\", \"not_very\", \"somewhat\", \"very\", \"error_margin\", \"N\", \"wave\", \"state\"]"
   ]
  },
  {
   "cell_type": "code",
   "execution_count": 100,
   "metadata": {},
   "outputs": [],
   "source": [
    "reported_compliance_cross_sectional = reported_compliance.groupby([\"state\"]).mean()\n",
    "us_cross_sectional = pd.merge(us_cross_sectional, reported_compliance_cross_sectional, on=\"state\", how=\"left\")"
   ]
  },
  {
   "cell_type": "code",
   "execution_count": 101,
   "metadata": {},
   "outputs": [
    {
     "data": {
      "text/html": [
       "<div>\n",
       "<style scoped>\n",
       "    .dataframe tbody tr th:only-of-type {\n",
       "        vertical-align: middle;\n",
       "    }\n",
       "\n",
       "    .dataframe tbody tr th {\n",
       "        vertical-align: top;\n",
       "    }\n",
       "\n",
       "    .dataframe thead th {\n",
       "        text-align: right;\n",
       "    }\n",
       "</style>\n",
       "<table border=\"1\" class=\"dataframe\">\n",
       "  <thead>\n",
       "    <tr style=\"text-align: right;\">\n",
       "      <th></th>\n",
       "      <th>state</th>\n",
       "      <th>pc_misperception</th>\n",
       "    </tr>\n",
       "  </thead>\n",
       "  <tbody>\n",
       "    <tr>\n",
       "      <th>44</th>\n",
       "      <td>Vermont</td>\n",
       "      <td>0.090</td>\n",
       "    </tr>\n",
       "    <tr>\n",
       "      <th>10</th>\n",
       "      <td>Hawaii</td>\n",
       "      <td>0.090</td>\n",
       "    </tr>\n",
       "    <tr>\n",
       "      <th>49</th>\n",
       "      <td>Wyoming</td>\n",
       "      <td>0.110</td>\n",
       "    </tr>\n",
       "    <tr>\n",
       "      <th>37</th>\n",
       "      <td>Pennsylvania</td>\n",
       "      <td>0.110</td>\n",
       "    </tr>\n",
       "    <tr>\n",
       "      <th>36</th>\n",
       "      <td>Oregon</td>\n",
       "      <td>0.110</td>\n",
       "    </tr>\n",
       "    <tr>\n",
       "      <th>6</th>\n",
       "      <td>Connecticut</td>\n",
       "      <td>0.110</td>\n",
       "    </tr>\n",
       "    <tr>\n",
       "      <th>7</th>\n",
       "      <td>Delaware</td>\n",
       "      <td>0.110</td>\n",
       "    </tr>\n",
       "    <tr>\n",
       "      <th>11</th>\n",
       "      <td>Idaho</td>\n",
       "      <td>0.110</td>\n",
       "    </tr>\n",
       "    <tr>\n",
       "      <th>20</th>\n",
       "      <td>Massachusetts</td>\n",
       "      <td>0.110</td>\n",
       "    </tr>\n",
       "    <tr>\n",
       "      <th>48</th>\n",
       "      <td>Wisconsin</td>\n",
       "      <td>0.125</td>\n",
       "    </tr>\n",
       "    <tr>\n",
       "      <th>46</th>\n",
       "      <td>Washington</td>\n",
       "      <td>0.130</td>\n",
       "    </tr>\n",
       "    <tr>\n",
       "      <th>28</th>\n",
       "      <td>New Hampshire</td>\n",
       "      <td>0.130</td>\n",
       "    </tr>\n",
       "    <tr>\n",
       "      <th>25</th>\n",
       "      <td>Montana</td>\n",
       "      <td>0.130</td>\n",
       "    </tr>\n",
       "    <tr>\n",
       "      <th>22</th>\n",
       "      <td>Minnesota</td>\n",
       "      <td>0.130</td>\n",
       "    </tr>\n",
       "    <tr>\n",
       "      <th>24</th>\n",
       "      <td>Missouri</td>\n",
       "      <td>0.130</td>\n",
       "    </tr>\n",
       "    <tr>\n",
       "      <th>14</th>\n",
       "      <td>Iowa</td>\n",
       "      <td>0.130</td>\n",
       "    </tr>\n",
       "    <tr>\n",
       "      <th>18</th>\n",
       "      <td>Maine</td>\n",
       "      <td>0.135</td>\n",
       "    </tr>\n",
       "    <tr>\n",
       "      <th>19</th>\n",
       "      <td>Maryland</td>\n",
       "      <td>0.135</td>\n",
       "    </tr>\n",
       "    <tr>\n",
       "      <th>13</th>\n",
       "      <td>Indiana</td>\n",
       "      <td>0.135</td>\n",
       "    </tr>\n",
       "    <tr>\n",
       "      <th>34</th>\n",
       "      <td>Ohio</td>\n",
       "      <td>0.135</td>\n",
       "    </tr>\n",
       "    <tr>\n",
       "      <th>5</th>\n",
       "      <td>Colorado</td>\n",
       "      <td>0.135</td>\n",
       "    </tr>\n",
       "    <tr>\n",
       "      <th>38</th>\n",
       "      <td>Rhode Island</td>\n",
       "      <td>0.140</td>\n",
       "    </tr>\n",
       "    <tr>\n",
       "      <th>2</th>\n",
       "      <td>Arizona</td>\n",
       "      <td>0.140</td>\n",
       "    </tr>\n",
       "    <tr>\n",
       "      <th>12</th>\n",
       "      <td>Illinois</td>\n",
       "      <td>0.140</td>\n",
       "    </tr>\n",
       "    <tr>\n",
       "      <th>29</th>\n",
       "      <td>New Jersey</td>\n",
       "      <td>0.140</td>\n",
       "    </tr>\n",
       "    <tr>\n",
       "      <th>33</th>\n",
       "      <td>North Dakota</td>\n",
       "      <td>0.145</td>\n",
       "    </tr>\n",
       "    <tr>\n",
       "      <th>21</th>\n",
       "      <td>Michigan</td>\n",
       "      <td>0.145</td>\n",
       "    </tr>\n",
       "    <tr>\n",
       "      <th>43</th>\n",
       "      <td>Utah</td>\n",
       "      <td>0.145</td>\n",
       "    </tr>\n",
       "    <tr>\n",
       "      <th>26</th>\n",
       "      <td>Nebraska</td>\n",
       "      <td>0.145</td>\n",
       "    </tr>\n",
       "    <tr>\n",
       "      <th>30</th>\n",
       "      <td>New Mexico</td>\n",
       "      <td>0.145</td>\n",
       "    </tr>\n",
       "    <tr>\n",
       "      <th>32</th>\n",
       "      <td>North Carolina</td>\n",
       "      <td>0.150</td>\n",
       "    </tr>\n",
       "    <tr>\n",
       "      <th>4</th>\n",
       "      <td>California</td>\n",
       "      <td>0.150</td>\n",
       "    </tr>\n",
       "    <tr>\n",
       "      <th>35</th>\n",
       "      <td>Oklahoma</td>\n",
       "      <td>0.150</td>\n",
       "    </tr>\n",
       "    <tr>\n",
       "      <th>3</th>\n",
       "      <td>Arkansas</td>\n",
       "      <td>0.150</td>\n",
       "    </tr>\n",
       "    <tr>\n",
       "      <th>27</th>\n",
       "      <td>Nevada</td>\n",
       "      <td>0.150</td>\n",
       "    </tr>\n",
       "    <tr>\n",
       "      <th>39</th>\n",
       "      <td>South Carolina</td>\n",
       "      <td>0.150</td>\n",
       "    </tr>\n",
       "    <tr>\n",
       "      <th>9</th>\n",
       "      <td>Georgia</td>\n",
       "      <td>0.150</td>\n",
       "    </tr>\n",
       "    <tr>\n",
       "      <th>45</th>\n",
       "      <td>Virginia</td>\n",
       "      <td>0.150</td>\n",
       "    </tr>\n",
       "    <tr>\n",
       "      <th>41</th>\n",
       "      <td>Tennessee</td>\n",
       "      <td>0.150</td>\n",
       "    </tr>\n",
       "    <tr>\n",
       "      <th>40</th>\n",
       "      <td>South Dakota</td>\n",
       "      <td>0.150</td>\n",
       "    </tr>\n",
       "    <tr>\n",
       "      <th>42</th>\n",
       "      <td>Texas</td>\n",
       "      <td>0.155</td>\n",
       "    </tr>\n",
       "    <tr>\n",
       "      <th>15</th>\n",
       "      <td>Kansas</td>\n",
       "      <td>0.155</td>\n",
       "    </tr>\n",
       "    <tr>\n",
       "      <th>8</th>\n",
       "      <td>Florida</td>\n",
       "      <td>0.155</td>\n",
       "    </tr>\n",
       "    <tr>\n",
       "      <th>17</th>\n",
       "      <td>Louisiana</td>\n",
       "      <td>0.160</td>\n",
       "    </tr>\n",
       "    <tr>\n",
       "      <th>16</th>\n",
       "      <td>Kentucky</td>\n",
       "      <td>0.160</td>\n",
       "    </tr>\n",
       "    <tr>\n",
       "      <th>1</th>\n",
       "      <td>Alaska</td>\n",
       "      <td>0.160</td>\n",
       "    </tr>\n",
       "    <tr>\n",
       "      <th>47</th>\n",
       "      <td>West Virginia</td>\n",
       "      <td>0.160</td>\n",
       "    </tr>\n",
       "    <tr>\n",
       "      <th>0</th>\n",
       "      <td>Alabama</td>\n",
       "      <td>0.160</td>\n",
       "    </tr>\n",
       "    <tr>\n",
       "      <th>31</th>\n",
       "      <td>New York</td>\n",
       "      <td>0.170</td>\n",
       "    </tr>\n",
       "    <tr>\n",
       "      <th>23</th>\n",
       "      <td>Mississippi</td>\n",
       "      <td>0.180</td>\n",
       "    </tr>\n",
       "  </tbody>\n",
       "</table>\n",
       "</div>"
      ],
      "text/plain": [
       "             state  pc_misperception\n",
       "44         Vermont             0.090\n",
       "10          Hawaii             0.090\n",
       "49         Wyoming             0.110\n",
       "37    Pennsylvania             0.110\n",
       "36          Oregon             0.110\n",
       "6      Connecticut             0.110\n",
       "7         Delaware             0.110\n",
       "11           Idaho             0.110\n",
       "20   Massachusetts             0.110\n",
       "48       Wisconsin             0.125\n",
       "46      Washington             0.130\n",
       "28   New Hampshire             0.130\n",
       "25         Montana             0.130\n",
       "22       Minnesota             0.130\n",
       "24        Missouri             0.130\n",
       "14            Iowa             0.130\n",
       "18           Maine             0.135\n",
       "19        Maryland             0.135\n",
       "13         Indiana             0.135\n",
       "34            Ohio             0.135\n",
       "5         Colorado             0.135\n",
       "38    Rhode Island             0.140\n",
       "2          Arizona             0.140\n",
       "12        Illinois             0.140\n",
       "29      New Jersey             0.140\n",
       "33    North Dakota             0.145\n",
       "21        Michigan             0.145\n",
       "43            Utah             0.145\n",
       "26        Nebraska             0.145\n",
       "30      New Mexico             0.145\n",
       "32  North Carolina             0.150\n",
       "4       California             0.150\n",
       "35        Oklahoma             0.150\n",
       "3         Arkansas             0.150\n",
       "27          Nevada             0.150\n",
       "39  South Carolina             0.150\n",
       "9          Georgia             0.150\n",
       "45        Virginia             0.150\n",
       "41       Tennessee             0.150\n",
       "40    South Dakota             0.150\n",
       "42           Texas             0.155\n",
       "15          Kansas             0.155\n",
       "8          Florida             0.155\n",
       "17       Louisiana             0.160\n",
       "16        Kentucky             0.160\n",
       "1           Alaska             0.160\n",
       "47   West Virginia             0.160\n",
       "0          Alabama             0.160\n",
       "31        New York             0.170\n",
       "23     Mississippi             0.180"
      ]
     },
     "execution_count": 101,
     "metadata": {},
     "output_type": "execute_result"
    }
   ],
   "source": [
    "us_cross_sectional[[\"state\", \"pc_misperception\"]].sort_values(\"pc_misperception\")"
   ]
  },
  {
   "cell_type": "markdown",
   "metadata": {},
   "source": [
    "## Disease outcomes"
   ]
  },
  {
   "cell_type": "code",
   "execution_count": 102,
   "metadata": {},
   "outputs": [
    {
     "data": {
      "text/plain": [
       "Index(['state', 'positive', 'probableCases', 'negative', 'pending',\n",
       "       'totalTestResults', 'hospitalizedCurrently', 'hospitalizedCumulative',\n",
       "       'inIcuCurrently', 'inIcuCumulative', 'onVentilatorCurrently',\n",
       "       'onVentilatorCumulative', 'recovered', 'totalTestsViral',\n",
       "       'positiveTestsViral', 'negativeTestsViral', 'positiveCasesViral',\n",
       "       'deathConfirmed', 'deathProbable', 'totalTestEncountersViral',\n",
       "       'totalTestsPeopleViral', 'totalTestsAntibody', 'positiveTestsAntibody',\n",
       "       'negativeTestsAntibody', 'totalTestsPeopleAntibody',\n",
       "       'positiveTestsPeopleAntibody', 'negativeTestsPeopleAntibody',\n",
       "       'totalTestsPeopleAntigen', 'positiveTestsPeopleAntigen',\n",
       "       'totalTestsAntigen', 'positiveTestsAntigen', 'fips', 'positiveIncrease',\n",
       "       'negativeIncrease', 'total', 'totalTestResultsIncrease', 'posNeg',\n",
       "       'dataQualityGrade', 'deathIncrease', 'hospitalizedIncrease',\n",
       "       'commercialScore', 'negativeRegularScore', 'negativeScore',\n",
       "       'positiveScore', 'score', 'grade',\n",
       "       'retail_and_recreation_percent_change_from_baseline',\n",
       "       'grocery_and_pharmacy_percent_change_from_baseline',\n",
       "       'parks_percent_change_from_baseline',\n",
       "       'transit_stations_percent_change_from_baseline',\n",
       "       'workplaces_percent_change_from_baseline',\n",
       "       'residential_percent_change_from_baseline',\n",
       "       'non_residential_percent_change_from_baseline', 'C1_School closing',\n",
       "       'C1_Flag', 'C2_Workplace closing', 'C2_Flag', 'C3_Cancel public events',\n",
       "       'C3_Flag', 'C4_Restrictions on gatherings', 'C4_Flag',\n",
       "       'C5_Close public transport', 'C5_Flag', 'C6_Stay at home requirements',\n",
       "       'C6_Flag', 'C7_Restrictions on internal movement', 'C7_Flag',\n",
       "       'C8_International travel controls', 'ConfirmedCases', 'ConfirmedDeaths',\n",
       "       'StringencyIndex', 'GovernmentResponseIndex', 'ContainmentHealthIndex',\n",
       "       'pop_2019', 'GDP_2019', 'Unemployment_rate_2019',\n",
       "       'Median_Household_Income_2019', 'Percent_less_than_high_school',\n",
       "       'Percent_bachelor_or_higher', 'Percent_some_college_or_associate',\n",
       "       'Percent_high_school_only', 'AverageTemperature', 'Urbanization_rate',\n",
       "       'White', 'Black', 'American_Native', 'Asian', 'Pacific_Islander',\n",
       "       'pc_misperception', 'not_at_all', 'not_very', 'somewhat', 'very',\n",
       "       'error_margin', 'N', 'wave'],\n",
       "      dtype='object')"
      ]
     },
     "execution_count": 102,
     "metadata": {},
     "output_type": "execute_result"
    }
   ],
   "source": [
    "us_cross_sectional.columns"
   ]
  },
  {
   "cell_type": "code",
   "execution_count": 103,
   "metadata": {},
   "outputs": [],
   "source": [
    "us_cross_sectional[\"deaths_pth\"] = 1000 * us_cross_sectional[\"deathIncrease\"] / us_cross_sectional[\"pop_2019\"]"
   ]
  },
  {
   "cell_type": "code",
   "execution_count": 104,
   "metadata": {},
   "outputs": [],
   "source": [
    "us_cross_sectional[\"hospitalized_pth\"] = 1000 * us_cross_sectional[\"hospitalizedIncrease\"] / us_cross_sectional[\"pop_2019\"]"
   ]
  },
  {
   "cell_type": "code",
   "execution_count": 105,
   "metadata": {},
   "outputs": [],
   "source": [
    "us_cross_sectional[\"positivity_rate\"] = us_cross_sectional[\"positiveIncrease\"] / us_cross_sectional[\"totalTestResultsIncrease\"]"
   ]
  },
  {
   "cell_type": "markdown",
   "metadata": {},
   "source": [
    "There is generally positive relationship between the level of misperceptions and severity of disease outcomes. "
   ]
  },
  {
   "cell_type": "code",
   "execution_count": 106,
   "metadata": {},
   "outputs": [
    {
     "data": {
      "text/html": [
       "<table class=\"simpletable\">\n",
       "<caption>OLS Regression Results</caption>\n",
       "<tr>\n",
       "  <th>Dep. Variable:</th>     <td>positivity_rate</td> <th>  R-squared:         </th> <td>   0.085</td>\n",
       "</tr>\n",
       "<tr>\n",
       "  <th>Model:</th>                   <td>OLS</td>       <th>  Adj. R-squared:    </th> <td>   0.066</td>\n",
       "</tr>\n",
       "<tr>\n",
       "  <th>Method:</th>             <td>Least Squares</td>  <th>  F-statistic:       </th> <td>   4.453</td>\n",
       "</tr>\n",
       "<tr>\n",
       "  <th>Date:</th>             <td>Sat, 20 Feb 2021</td> <th>  Prob (F-statistic):</th>  <td>0.0401</td> \n",
       "</tr>\n",
       "<tr>\n",
       "  <th>Time:</th>                 <td>19:22:54</td>     <th>  Log-Likelihood:    </th> <td>  73.832</td>\n",
       "</tr>\n",
       "<tr>\n",
       "  <th>No. Observations:</th>      <td>    50</td>      <th>  AIC:               </th> <td>  -143.7</td>\n",
       "</tr>\n",
       "<tr>\n",
       "  <th>Df Residuals:</th>          <td>    48</td>      <th>  BIC:               </th> <td>  -139.8</td>\n",
       "</tr>\n",
       "<tr>\n",
       "  <th>Df Model:</th>              <td>     1</td>      <th>                     </th>     <td> </td>   \n",
       "</tr>\n",
       "<tr>\n",
       "  <th>Covariance Type:</th>      <td>nonrobust</td>    <th>                     </th>     <td> </td>   \n",
       "</tr>\n",
       "</table>\n",
       "<table class=\"simpletable\">\n",
       "<tr>\n",
       "          <td></td>            <th>coef</th>     <th>std err</th>      <th>t</th>      <th>P>|t|</th>  <th>[0.025</th>    <th>0.975]</th>  \n",
       "</tr>\n",
       "<tr>\n",
       "  <th>Intercept</th>        <td>   -0.0239</td> <td>    0.058</td> <td>   -0.411</td> <td> 0.683</td> <td>   -0.141</td> <td>    0.093</td>\n",
       "</tr>\n",
       "<tr>\n",
       "  <th>pc_misperception</th> <td>    0.8763</td> <td>    0.415</td> <td>    2.110</td> <td> 0.040</td> <td>    0.041</td> <td>    1.711</td>\n",
       "</tr>\n",
       "</table>\n",
       "<table class=\"simpletable\">\n",
       "<tr>\n",
       "  <th>Omnibus:</th>       <td>26.837</td> <th>  Durbin-Watson:     </th> <td>   1.835</td>\n",
       "</tr>\n",
       "<tr>\n",
       "  <th>Prob(Omnibus):</th> <td> 0.000</td> <th>  Jarque-Bera (JB):  </th> <td>  45.997</td>\n",
       "</tr>\n",
       "<tr>\n",
       "  <th>Skew:</th>          <td> 1.716</td> <th>  Prob(JB):          </th> <td>1.03e-10</td>\n",
       "</tr>\n",
       "<tr>\n",
       "  <th>Kurtosis:</th>      <td> 6.208</td> <th>  Cond. No.          </th> <td>    53.1</td>\n",
       "</tr>\n",
       "</table><br/><br/>Notes:<br/>[1] Standard Errors assume that the covariance matrix of the errors is correctly specified."
      ],
      "text/plain": [
       "<class 'statsmodels.iolib.summary.Summary'>\n",
       "\"\"\"\n",
       "                            OLS Regression Results                            \n",
       "==============================================================================\n",
       "Dep. Variable:        positivity_rate   R-squared:                       0.085\n",
       "Model:                            OLS   Adj. R-squared:                  0.066\n",
       "Method:                 Least Squares   F-statistic:                     4.453\n",
       "Date:                Sat, 20 Feb 2021   Prob (F-statistic):             0.0401\n",
       "Time:                        19:22:54   Log-Likelihood:                 73.832\n",
       "No. Observations:                  50   AIC:                            -143.7\n",
       "Df Residuals:                      48   BIC:                            -139.8\n",
       "Df Model:                           1                                         \n",
       "Covariance Type:            nonrobust                                         \n",
       "====================================================================================\n",
       "                       coef    std err          t      P>|t|      [0.025      0.975]\n",
       "------------------------------------------------------------------------------------\n",
       "Intercept           -0.0239      0.058     -0.411      0.683      -0.141       0.093\n",
       "pc_misperception     0.8763      0.415      2.110      0.040       0.041       1.711\n",
       "==============================================================================\n",
       "Omnibus:                       26.837   Durbin-Watson:                   1.835\n",
       "Prob(Omnibus):                  0.000   Jarque-Bera (JB):               45.997\n",
       "Skew:                           1.716   Prob(JB):                     1.03e-10\n",
       "Kurtosis:                       6.208   Cond. No.                         53.1\n",
       "==============================================================================\n",
       "\n",
       "Notes:\n",
       "[1] Standard Errors assume that the covariance matrix of the errors is correctly specified.\n",
       "\"\"\""
      ]
     },
     "execution_count": 106,
     "metadata": {},
     "output_type": "execute_result"
    }
   ],
   "source": [
    "cross_sectional_reg_1_posrate = smf.ols('positivity_rate ~ pc_misperception', data=us_cross_sectional).fit()\n",
    "cross_sectional_reg_1_posrate.summary()"
   ]
  },
  {
   "cell_type": "code",
   "execution_count": 108,
   "metadata": {},
   "outputs": [
    {
     "data": {
      "text/html": [
       "<table class=\"simpletable\">\n",
       "<caption>OLS Regression Results</caption>\n",
       "<tr>\n",
       "  <th>Dep. Variable:</th>       <td>deaths_pth</td>    <th>  R-squared:         </th> <td>   0.085</td>\n",
       "</tr>\n",
       "<tr>\n",
       "  <th>Model:</th>                   <td>OLS</td>       <th>  Adj. R-squared:    </th> <td>   0.066</td>\n",
       "</tr>\n",
       "<tr>\n",
       "  <th>Method:</th>             <td>Least Squares</td>  <th>  F-statistic:       </th> <td>   4.462</td>\n",
       "</tr>\n",
       "<tr>\n",
       "  <th>Date:</th>             <td>Sat, 20 Feb 2021</td> <th>  Prob (F-statistic):</th>  <td>0.0399</td> \n",
       "</tr>\n",
       "<tr>\n",
       "  <th>Time:</th>                 <td>19:22:56</td>     <th>  Log-Likelihood:    </th> <td>  254.97</td>\n",
       "</tr>\n",
       "<tr>\n",
       "  <th>No. Observations:</th>      <td>    50</td>      <th>  AIC:               </th> <td>  -505.9</td>\n",
       "</tr>\n",
       "<tr>\n",
       "  <th>Df Residuals:</th>          <td>    48</td>      <th>  BIC:               </th> <td>  -502.1</td>\n",
       "</tr>\n",
       "<tr>\n",
       "  <th>Df Model:</th>              <td>     1</td>      <th>                     </th>     <td> </td>   \n",
       "</tr>\n",
       "<tr>\n",
       "  <th>Covariance Type:</th>      <td>nonrobust</td>    <th>                     </th>     <td> </td>   \n",
       "</tr>\n",
       "</table>\n",
       "<table class=\"simpletable\">\n",
       "<tr>\n",
       "          <td></td>            <th>coef</th>     <th>std err</th>      <th>t</th>      <th>P>|t|</th>  <th>[0.025</th>    <th>0.975]</th>  \n",
       "</tr>\n",
       "<tr>\n",
       "  <th>Intercept</th>        <td>    0.0005</td> <td>    0.002</td> <td>    0.339</td> <td> 0.736</td> <td>   -0.003</td> <td>    0.004</td>\n",
       "</tr>\n",
       "<tr>\n",
       "  <th>pc_misperception</th> <td>    0.0234</td> <td>    0.011</td> <td>    2.112</td> <td> 0.040</td> <td>    0.001</td> <td>    0.046</td>\n",
       "</tr>\n",
       "</table>\n",
       "<table class=\"simpletable\">\n",
       "<tr>\n",
       "  <th>Omnibus:</th>       <td> 0.662</td> <th>  Durbin-Watson:     </th> <td>   1.949</td>\n",
       "</tr>\n",
       "<tr>\n",
       "  <th>Prob(Omnibus):</th> <td> 0.718</td> <th>  Jarque-Bera (JB):  </th> <td>   0.754</td>\n",
       "</tr>\n",
       "<tr>\n",
       "  <th>Skew:</th>          <td> 0.242</td> <th>  Prob(JB):          </th> <td>   0.686</td>\n",
       "</tr>\n",
       "<tr>\n",
       "  <th>Kurtosis:</th>      <td> 2.643</td> <th>  Cond. No.          </th> <td>    53.1</td>\n",
       "</tr>\n",
       "</table><br/><br/>Notes:<br/>[1] Standard Errors assume that the covariance matrix of the errors is correctly specified."
      ],
      "text/plain": [
       "<class 'statsmodels.iolib.summary.Summary'>\n",
       "\"\"\"\n",
       "                            OLS Regression Results                            \n",
       "==============================================================================\n",
       "Dep. Variable:             deaths_pth   R-squared:                       0.085\n",
       "Model:                            OLS   Adj. R-squared:                  0.066\n",
       "Method:                 Least Squares   F-statistic:                     4.462\n",
       "Date:                Sat, 20 Feb 2021   Prob (F-statistic):             0.0399\n",
       "Time:                        19:22:56   Log-Likelihood:                 254.97\n",
       "No. Observations:                  50   AIC:                            -505.9\n",
       "Df Residuals:                      48   BIC:                            -502.1\n",
       "Df Model:                           1                                         \n",
       "Covariance Type:            nonrobust                                         \n",
       "====================================================================================\n",
       "                       coef    std err          t      P>|t|      [0.025      0.975]\n",
       "------------------------------------------------------------------------------------\n",
       "Intercept            0.0005      0.002      0.339      0.736      -0.003       0.004\n",
       "pc_misperception     0.0234      0.011      2.112      0.040       0.001       0.046\n",
       "==============================================================================\n",
       "Omnibus:                        0.662   Durbin-Watson:                   1.949\n",
       "Prob(Omnibus):                  0.718   Jarque-Bera (JB):                0.754\n",
       "Skew:                           0.242   Prob(JB):                        0.686\n",
       "Kurtosis:                       2.643   Cond. No.                         53.1\n",
       "==============================================================================\n",
       "\n",
       "Notes:\n",
       "[1] Standard Errors assume that the covariance matrix of the errors is correctly specified.\n",
       "\"\"\""
      ]
     },
     "execution_count": 108,
     "metadata": {},
     "output_type": "execute_result"
    }
   ],
   "source": [
    "cross_sectional_reg_1_dea = smf.ols('deaths_pth ~ pc_misperception', data=us_cross_sectional).fit()\n",
    "cross_sectional_reg_1_dea.summary()"
   ]
  },
  {
   "cell_type": "code",
   "execution_count": 143,
   "metadata": {},
   "outputs": [
    {
     "name": "stdout",
     "output_type": "stream",
     "text": [
      "\\begin{table}\n",
      "\\caption{}\n",
      "\\label{}\n",
      "\\begin{center}\n",
      "\\begin{tabular}{lll}\n",
      "\\hline\n",
      "                  & positivity\\_rate & deaths\\_pth  \\\\\n",
      "\\hline\n",
      "Intercept         & -0.024           & 0.001        \\\\\n",
      "                  & (0.058)          & (0.002)      \\\\\n",
      "pc\\_misperception & 0.876**          & 0.023**      \\\\\n",
      "                  & (0.415)          & (0.011)      \\\\\n",
      "R-squared         & 0.085            & 0.085        \\\\\n",
      "R-squared Adj.    & 0.066            & 0.066        \\\\\n",
      "\\hline\n",
      "\\end{tabular}\n",
      "\\end{center}\n",
      "\\end{table}\n"
     ]
    }
   ],
   "source": [
    "print(summary_col([cross_sectional_reg_1_posrate, cross_sectional_reg_1_dea],stars=True, float_format=\"%0.3f\").as_latex())"
   ]
  },
  {
   "cell_type": "code",
   "execution_count": 131,
   "metadata": {},
   "outputs": [
    {
     "data": {
      "application/vnd.plotly.v1+json": {
       "config": {
        "plotlyServerURL": "https://plot.ly"
       },
       "data": [
        {
         "customdata": [
          [
           "Alabama"
          ],
          [
           "Alaska"
          ],
          [
           "Arizona"
          ],
          [
           "Arkansas"
          ],
          [
           "California"
          ],
          [
           "Colorado"
          ],
          [
           "Connecticut"
          ],
          [
           "Delaware"
          ],
          [
           "Florida"
          ],
          [
           "Georgia"
          ],
          [
           "Hawaii"
          ],
          [
           "Idaho"
          ],
          [
           "Illinois"
          ],
          [
           "Indiana"
          ],
          [
           "Iowa"
          ],
          [
           "Kansas"
          ],
          [
           "Kentucky"
          ],
          [
           "Louisiana"
          ],
          [
           "Maine"
          ],
          [
           "Maryland"
          ],
          [
           "Massachusetts"
          ],
          [
           "Michigan"
          ],
          [
           "Minnesota"
          ],
          [
           "Mississippi"
          ],
          [
           "Missouri"
          ],
          [
           "Montana"
          ],
          [
           "Nebraska"
          ],
          [
           "Nevada"
          ],
          [
           "New Hampshire"
          ],
          [
           "New Jersey"
          ],
          [
           "New Mexico"
          ],
          [
           "New York"
          ],
          [
           "North Carolina"
          ],
          [
           "North Dakota"
          ],
          [
           "Ohio"
          ],
          [
           "Oklahoma"
          ],
          [
           "Oregon"
          ],
          [
           "Pennsylvania"
          ],
          [
           "Rhode Island"
          ],
          [
           "South Carolina"
          ],
          [
           "South Dakota"
          ],
          [
           "Tennessee"
          ],
          [
           "Texas"
          ],
          [
           "Utah"
          ],
          [
           "Vermont"
          ],
          [
           "Virginia"
          ],
          [
           "Washington"
          ],
          [
           "West Virginia"
          ],
          [
           "Wisconsin"
          ],
          [
           "Wyoming"
          ]
         ],
         "hovertemplate": "pc_misperception=%{x}<br>positivity_rate=%{y}<br>state=%{customdata[0]}<extra></extra>",
         "legendgroup": "",
         "marker": {
          "color": "#636efa",
          "symbol": "circle"
         },
         "mode": "markers",
         "name": "",
         "orientation": "v",
         "showlegend": false,
         "type": "scatter",
         "x": [
          0.16,
          0.16,
          0.14,
          0.15,
          0.15,
          0.135,
          0.11,
          0.11,
          0.155,
          0.15,
          0.09,
          0.11,
          0.14,
          0.135,
          0.13,
          0.155,
          0.16,
          0.16,
          0.135,
          0.135,
          0.11,
          0.145,
          0.13,
          0.18,
          0.13,
          0.13,
          0.145,
          0.15,
          0.13,
          0.14,
          0.145,
          0.17,
          0.15,
          0.145,
          0.135,
          0.15,
          0.11,
          0.11,
          0.14,
          0.15,
          0.15,
          0.15,
          0.155,
          0.145,
          0.09,
          0.15,
          0.13,
          0.16,
          0.125,
          0.11
         ],
         "xaxis": "x",
         "y": [
          0.21471384427092943,
          0.03505792442530479,
          0.11321597457663174,
          0.12143290731933612,
          0.07671262627250544,
          0.07266569455525902,
          0.04379996678516095,
          0.06342682448291186,
          0.08820046671028753,
          0.1409389118989032,
          0.026854405133102378,
          0.26975001989759373,
          0.07022167738917065,
          0.0893406946363678,
          0.213419288761902,
          0.23503083290337543,
          0.10107751207100411,
          0.08000602302809734,
          0.028566115258216642,
          0.0505440205647844,
          0.03843832252893905,
          0.06514004451897608,
          0.07404768268879708,
          0.17521690180689384,
          0.11037875811718188,
          0.09822400329542687,
          0.09081147641681485,
          0.1118589623784725,
          0.05204844745200852,
          0.07406791302782087,
          0.07427716275098263,
          0.04386129349735964,
          0.08470004315925765,
          0.07253348628045043,
          0.09871997901713343,
          0.1222901069199689,
          0.04502916765473085,
          0.09136963981210378,
          0.04557478865949738,
          0.1048808757853304,
          0.2688719548543496,
          0.1130596773234,
          0.1356754142768419,
          0.1329411331539936,
          0.013333689938496752,
          0.09655837701723202,
          0.06850604756126438,
          0.062192829071874775,
          0.0958532548731151,
          0.08175324102654555
         ],
         "yaxis": "y"
        },
        {
         "hovertemplate": "<b>OLS trendline</b><br>positivity_rate = 0.876277 * pc_misperception + -0.0239082<br>R<sup>2</sup>=0.084898<br><br>pc_misperception=%{x}<br>positivity_rate=%{y} <b>(trend)</b><extra></extra>",
         "legendgroup": "",
         "marker": {
          "color": "#636efa",
          "symbol": "circle"
         },
         "mode": "lines",
         "name": "",
         "showlegend": false,
         "type": "scatter",
         "x": [
          0.09,
          0.09,
          0.11,
          0.11,
          0.11,
          0.11,
          0.11,
          0.11,
          0.11,
          0.125,
          0.13,
          0.13,
          0.13,
          0.13,
          0.13,
          0.13,
          0.135,
          0.135,
          0.135,
          0.135,
          0.135,
          0.14,
          0.14,
          0.14,
          0.14,
          0.145,
          0.145,
          0.145,
          0.145,
          0.145,
          0.15,
          0.15,
          0.15,
          0.15,
          0.15,
          0.15,
          0.15,
          0.15,
          0.15,
          0.15,
          0.155,
          0.155,
          0.155,
          0.16,
          0.16,
          0.16,
          0.16,
          0.16,
          0.17,
          0.18
         ],
         "xaxis": "x",
         "y": [
          0.05495674931201246,
          0.05495674931201246,
          0.07248228791452671,
          0.07248228791452671,
          0.07248228791452671,
          0.07248228791452671,
          0.07248228791452671,
          0.07248228791452671,
          0.07248228791452671,
          0.0856264418664124,
          0.09000782651704096,
          0.09000782651704096,
          0.09000782651704096,
          0.09000782651704096,
          0.09000782651704096,
          0.09000782651704096,
          0.09438921116766953,
          0.09438921116766953,
          0.09438921116766953,
          0.09438921116766953,
          0.09438921116766953,
          0.0987705958182981,
          0.0987705958182981,
          0.0987705958182981,
          0.0987705958182981,
          0.10315198046892665,
          0.10315198046892665,
          0.10315198046892665,
          0.10315198046892665,
          0.10315198046892665,
          0.10753336511955522,
          0.10753336511955522,
          0.10753336511955522,
          0.10753336511955522,
          0.10753336511955522,
          0.10753336511955522,
          0.10753336511955522,
          0.10753336511955522,
          0.10753336511955522,
          0.10753336511955522,
          0.11191474977018379,
          0.11191474977018379,
          0.11191474977018379,
          0.11629613442081235,
          0.11629613442081235,
          0.11629613442081235,
          0.11629613442081235,
          0.11629613442081235,
          0.1250589037220695,
          0.1338216730233266
         ],
         "yaxis": "y"
        }
       ],
       "layout": {
        "height": 400,
        "legend": {
         "tracegroupgap": 0
        },
        "margin": {
         "t": 60
        },
        "template": {
         "data": {
          "bar": [
           {
            "error_x": {
             "color": "#2a3f5f"
            },
            "error_y": {
             "color": "#2a3f5f"
            },
            "marker": {
             "line": {
              "color": "#E5ECF6",
              "width": 0.5
             }
            },
            "type": "bar"
           }
          ],
          "barpolar": [
           {
            "marker": {
             "line": {
              "color": "#E5ECF6",
              "width": 0.5
             }
            },
            "type": "barpolar"
           }
          ],
          "carpet": [
           {
            "aaxis": {
             "endlinecolor": "#2a3f5f",
             "gridcolor": "white",
             "linecolor": "white",
             "minorgridcolor": "white",
             "startlinecolor": "#2a3f5f"
            },
            "baxis": {
             "endlinecolor": "#2a3f5f",
             "gridcolor": "white",
             "linecolor": "white",
             "minorgridcolor": "white",
             "startlinecolor": "#2a3f5f"
            },
            "type": "carpet"
           }
          ],
          "choropleth": [
           {
            "colorbar": {
             "outlinewidth": 0,
             "ticks": ""
            },
            "type": "choropleth"
           }
          ],
          "contour": [
           {
            "colorbar": {
             "outlinewidth": 0,
             "ticks": ""
            },
            "colorscale": [
             [
              0,
              "#0d0887"
             ],
             [
              0.1111111111111111,
              "#46039f"
             ],
             [
              0.2222222222222222,
              "#7201a8"
             ],
             [
              0.3333333333333333,
              "#9c179e"
             ],
             [
              0.4444444444444444,
              "#bd3786"
             ],
             [
              0.5555555555555556,
              "#d8576b"
             ],
             [
              0.6666666666666666,
              "#ed7953"
             ],
             [
              0.7777777777777778,
              "#fb9f3a"
             ],
             [
              0.8888888888888888,
              "#fdca26"
             ],
             [
              1,
              "#f0f921"
             ]
            ],
            "type": "contour"
           }
          ],
          "contourcarpet": [
           {
            "colorbar": {
             "outlinewidth": 0,
             "ticks": ""
            },
            "type": "contourcarpet"
           }
          ],
          "heatmap": [
           {
            "colorbar": {
             "outlinewidth": 0,
             "ticks": ""
            },
            "colorscale": [
             [
              0,
              "#0d0887"
             ],
             [
              0.1111111111111111,
              "#46039f"
             ],
             [
              0.2222222222222222,
              "#7201a8"
             ],
             [
              0.3333333333333333,
              "#9c179e"
             ],
             [
              0.4444444444444444,
              "#bd3786"
             ],
             [
              0.5555555555555556,
              "#d8576b"
             ],
             [
              0.6666666666666666,
              "#ed7953"
             ],
             [
              0.7777777777777778,
              "#fb9f3a"
             ],
             [
              0.8888888888888888,
              "#fdca26"
             ],
             [
              1,
              "#f0f921"
             ]
            ],
            "type": "heatmap"
           }
          ],
          "heatmapgl": [
           {
            "colorbar": {
             "outlinewidth": 0,
             "ticks": ""
            },
            "colorscale": [
             [
              0,
              "#0d0887"
             ],
             [
              0.1111111111111111,
              "#46039f"
             ],
             [
              0.2222222222222222,
              "#7201a8"
             ],
             [
              0.3333333333333333,
              "#9c179e"
             ],
             [
              0.4444444444444444,
              "#bd3786"
             ],
             [
              0.5555555555555556,
              "#d8576b"
             ],
             [
              0.6666666666666666,
              "#ed7953"
             ],
             [
              0.7777777777777778,
              "#fb9f3a"
             ],
             [
              0.8888888888888888,
              "#fdca26"
             ],
             [
              1,
              "#f0f921"
             ]
            ],
            "type": "heatmapgl"
           }
          ],
          "histogram": [
           {
            "marker": {
             "colorbar": {
              "outlinewidth": 0,
              "ticks": ""
             }
            },
            "type": "histogram"
           }
          ],
          "histogram2d": [
           {
            "colorbar": {
             "outlinewidth": 0,
             "ticks": ""
            },
            "colorscale": [
             [
              0,
              "#0d0887"
             ],
             [
              0.1111111111111111,
              "#46039f"
             ],
             [
              0.2222222222222222,
              "#7201a8"
             ],
             [
              0.3333333333333333,
              "#9c179e"
             ],
             [
              0.4444444444444444,
              "#bd3786"
             ],
             [
              0.5555555555555556,
              "#d8576b"
             ],
             [
              0.6666666666666666,
              "#ed7953"
             ],
             [
              0.7777777777777778,
              "#fb9f3a"
             ],
             [
              0.8888888888888888,
              "#fdca26"
             ],
             [
              1,
              "#f0f921"
             ]
            ],
            "type": "histogram2d"
           }
          ],
          "histogram2dcontour": [
           {
            "colorbar": {
             "outlinewidth": 0,
             "ticks": ""
            },
            "colorscale": [
             [
              0,
              "#0d0887"
             ],
             [
              0.1111111111111111,
              "#46039f"
             ],
             [
              0.2222222222222222,
              "#7201a8"
             ],
             [
              0.3333333333333333,
              "#9c179e"
             ],
             [
              0.4444444444444444,
              "#bd3786"
             ],
             [
              0.5555555555555556,
              "#d8576b"
             ],
             [
              0.6666666666666666,
              "#ed7953"
             ],
             [
              0.7777777777777778,
              "#fb9f3a"
             ],
             [
              0.8888888888888888,
              "#fdca26"
             ],
             [
              1,
              "#f0f921"
             ]
            ],
            "type": "histogram2dcontour"
           }
          ],
          "mesh3d": [
           {
            "colorbar": {
             "outlinewidth": 0,
             "ticks": ""
            },
            "type": "mesh3d"
           }
          ],
          "parcoords": [
           {
            "line": {
             "colorbar": {
              "outlinewidth": 0,
              "ticks": ""
             }
            },
            "type": "parcoords"
           }
          ],
          "pie": [
           {
            "automargin": true,
            "type": "pie"
           }
          ],
          "scatter": [
           {
            "marker": {
             "colorbar": {
              "outlinewidth": 0,
              "ticks": ""
             }
            },
            "type": "scatter"
           }
          ],
          "scatter3d": [
           {
            "line": {
             "colorbar": {
              "outlinewidth": 0,
              "ticks": ""
             }
            },
            "marker": {
             "colorbar": {
              "outlinewidth": 0,
              "ticks": ""
             }
            },
            "type": "scatter3d"
           }
          ],
          "scattercarpet": [
           {
            "marker": {
             "colorbar": {
              "outlinewidth": 0,
              "ticks": ""
             }
            },
            "type": "scattercarpet"
           }
          ],
          "scattergeo": [
           {
            "marker": {
             "colorbar": {
              "outlinewidth": 0,
              "ticks": ""
             }
            },
            "type": "scattergeo"
           }
          ],
          "scattergl": [
           {
            "marker": {
             "colorbar": {
              "outlinewidth": 0,
              "ticks": ""
             }
            },
            "type": "scattergl"
           }
          ],
          "scattermapbox": [
           {
            "marker": {
             "colorbar": {
              "outlinewidth": 0,
              "ticks": ""
             }
            },
            "type": "scattermapbox"
           }
          ],
          "scatterpolar": [
           {
            "marker": {
             "colorbar": {
              "outlinewidth": 0,
              "ticks": ""
             }
            },
            "type": "scatterpolar"
           }
          ],
          "scatterpolargl": [
           {
            "marker": {
             "colorbar": {
              "outlinewidth": 0,
              "ticks": ""
             }
            },
            "type": "scatterpolargl"
           }
          ],
          "scatterternary": [
           {
            "marker": {
             "colorbar": {
              "outlinewidth": 0,
              "ticks": ""
             }
            },
            "type": "scatterternary"
           }
          ],
          "surface": [
           {
            "colorbar": {
             "outlinewidth": 0,
             "ticks": ""
            },
            "colorscale": [
             [
              0,
              "#0d0887"
             ],
             [
              0.1111111111111111,
              "#46039f"
             ],
             [
              0.2222222222222222,
              "#7201a8"
             ],
             [
              0.3333333333333333,
              "#9c179e"
             ],
             [
              0.4444444444444444,
              "#bd3786"
             ],
             [
              0.5555555555555556,
              "#d8576b"
             ],
             [
              0.6666666666666666,
              "#ed7953"
             ],
             [
              0.7777777777777778,
              "#fb9f3a"
             ],
             [
              0.8888888888888888,
              "#fdca26"
             ],
             [
              1,
              "#f0f921"
             ]
            ],
            "type": "surface"
           }
          ],
          "table": [
           {
            "cells": {
             "fill": {
              "color": "#EBF0F8"
             },
             "line": {
              "color": "white"
             }
            },
            "header": {
             "fill": {
              "color": "#C8D4E3"
             },
             "line": {
              "color": "white"
             }
            },
            "type": "table"
           }
          ]
         },
         "layout": {
          "annotationdefaults": {
           "arrowcolor": "#2a3f5f",
           "arrowhead": 0,
           "arrowwidth": 1
          },
          "autotypenumbers": "strict",
          "coloraxis": {
           "colorbar": {
            "outlinewidth": 0,
            "ticks": ""
           }
          },
          "colorscale": {
           "diverging": [
            [
             0,
             "#8e0152"
            ],
            [
             0.1,
             "#c51b7d"
            ],
            [
             0.2,
             "#de77ae"
            ],
            [
             0.3,
             "#f1b6da"
            ],
            [
             0.4,
             "#fde0ef"
            ],
            [
             0.5,
             "#f7f7f7"
            ],
            [
             0.6,
             "#e6f5d0"
            ],
            [
             0.7,
             "#b8e186"
            ],
            [
             0.8,
             "#7fbc41"
            ],
            [
             0.9,
             "#4d9221"
            ],
            [
             1,
             "#276419"
            ]
           ],
           "sequential": [
            [
             0,
             "#0d0887"
            ],
            [
             0.1111111111111111,
             "#46039f"
            ],
            [
             0.2222222222222222,
             "#7201a8"
            ],
            [
             0.3333333333333333,
             "#9c179e"
            ],
            [
             0.4444444444444444,
             "#bd3786"
            ],
            [
             0.5555555555555556,
             "#d8576b"
            ],
            [
             0.6666666666666666,
             "#ed7953"
            ],
            [
             0.7777777777777778,
             "#fb9f3a"
            ],
            [
             0.8888888888888888,
             "#fdca26"
            ],
            [
             1,
             "#f0f921"
            ]
           ],
           "sequentialminus": [
            [
             0,
             "#0d0887"
            ],
            [
             0.1111111111111111,
             "#46039f"
            ],
            [
             0.2222222222222222,
             "#7201a8"
            ],
            [
             0.3333333333333333,
             "#9c179e"
            ],
            [
             0.4444444444444444,
             "#bd3786"
            ],
            [
             0.5555555555555556,
             "#d8576b"
            ],
            [
             0.6666666666666666,
             "#ed7953"
            ],
            [
             0.7777777777777778,
             "#fb9f3a"
            ],
            [
             0.8888888888888888,
             "#fdca26"
            ],
            [
             1,
             "#f0f921"
            ]
           ]
          },
          "colorway": [
           "#636efa",
           "#EF553B",
           "#00cc96",
           "#ab63fa",
           "#FFA15A",
           "#19d3f3",
           "#FF6692",
           "#B6E880",
           "#FF97FF",
           "#FECB52"
          ],
          "font": {
           "color": "#2a3f5f"
          },
          "geo": {
           "bgcolor": "white",
           "lakecolor": "white",
           "landcolor": "#E5ECF6",
           "showlakes": true,
           "showland": true,
           "subunitcolor": "white"
          },
          "hoverlabel": {
           "align": "left"
          },
          "hovermode": "closest",
          "mapbox": {
           "style": "light"
          },
          "paper_bgcolor": "white",
          "plot_bgcolor": "#E5ECF6",
          "polar": {
           "angularaxis": {
            "gridcolor": "white",
            "linecolor": "white",
            "ticks": ""
           },
           "bgcolor": "#E5ECF6",
           "radialaxis": {
            "gridcolor": "white",
            "linecolor": "white",
            "ticks": ""
           }
          },
          "scene": {
           "xaxis": {
            "backgroundcolor": "#E5ECF6",
            "gridcolor": "white",
            "gridwidth": 2,
            "linecolor": "white",
            "showbackground": true,
            "ticks": "",
            "zerolinecolor": "white"
           },
           "yaxis": {
            "backgroundcolor": "#E5ECF6",
            "gridcolor": "white",
            "gridwidth": 2,
            "linecolor": "white",
            "showbackground": true,
            "ticks": "",
            "zerolinecolor": "white"
           },
           "zaxis": {
            "backgroundcolor": "#E5ECF6",
            "gridcolor": "white",
            "gridwidth": 2,
            "linecolor": "white",
            "showbackground": true,
            "ticks": "",
            "zerolinecolor": "white"
           }
          },
          "shapedefaults": {
           "line": {
            "color": "#2a3f5f"
           }
          },
          "ternary": {
           "aaxis": {
            "gridcolor": "white",
            "linecolor": "white",
            "ticks": ""
           },
           "baxis": {
            "gridcolor": "white",
            "linecolor": "white",
            "ticks": ""
           },
           "bgcolor": "#E5ECF6",
           "caxis": {
            "gridcolor": "white",
            "linecolor": "white",
            "ticks": ""
           }
          },
          "title": {
           "x": 0.05
          },
          "xaxis": {
           "automargin": true,
           "gridcolor": "white",
           "linecolor": "white",
           "ticks": "",
           "title": {
            "standoff": 15
           },
           "zerolinecolor": "white",
           "zerolinewidth": 2
          },
          "yaxis": {
           "automargin": true,
           "gridcolor": "white",
           "linecolor": "white",
           "ticks": "",
           "title": {
            "standoff": 15
           },
           "zerolinecolor": "white",
           "zerolinewidth": 2
          }
         }
        },
        "width": 400,
        "xaxis": {
         "anchor": "y",
         "autorange": true,
         "domain": [
          0,
          1
         ],
         "range": [
          0.08320143884892087,
          0.18679856115107912
         ],
         "title": {
          "text": "pc_misperception"
         },
         "type": "linear"
        },
        "yaxis": {
         "anchor": "x",
         "autorange": true,
         "domain": [
          0,
          1
         ],
         "range": [
          -0.005628665588279732,
          0.2887123754243702
         ],
         "title": {
          "text": "positivity_rate"
         },
         "type": "linear"
        }
       }
      },
      "image/png": "[encoded data removed]",
      "text/html": [
       "<div>                            <div id=\"3d5be0e3-bbd3-4e9d-bdcd-cbe1cc6a2ec6\" class=\"plotly-graph-div\" style=\"height:400px; width:400px;\"></div>            <script type=\"text/javascript\">                require([\"plotly\"], function(Plotly) {                    window.PLOTLYENV=window.PLOTLYENV || {};                                    if (document.getElementById(\"3d5be0e3-bbd3-4e9d-bdcd-cbe1cc6a2ec6\")) {                    Plotly.newPlot(                        \"3d5be0e3-bbd3-4e9d-bdcd-cbe1cc6a2ec6\",                        [{\"customdata\": [[\"Alabama\"], [\"Alaska\"], [\"Arizona\"], [\"Arkansas\"], [\"California\"], [\"Colorado\"], [\"Connecticut\"], [\"Delaware\"], [\"Florida\"], [\"Georgia\"], [\"Hawaii\"], [\"Idaho\"], [\"Illinois\"], [\"Indiana\"], [\"Iowa\"], [\"Kansas\"], [\"Kentucky\"], [\"Louisiana\"], [\"Maine\"], [\"Maryland\"], [\"Massachusetts\"], [\"Michigan\"], [\"Minnesota\"], [\"Mississippi\"], [\"Missouri\"], [\"Montana\"], [\"Nebraska\"], [\"Nevada\"], [\"New Hampshire\"], [\"New Jersey\"], [\"New Mexico\"], [\"New York\"], [\"North Carolina\"], [\"North Dakota\"], [\"Ohio\"], [\"Oklahoma\"], [\"Oregon\"], [\"Pennsylvania\"], [\"Rhode Island\"], [\"South Carolina\"], [\"South Dakota\"], [\"Tennessee\"], [\"Texas\"], [\"Utah\"], [\"Vermont\"], [\"Virginia\"], [\"Washington\"], [\"West Virginia\"], [\"Wisconsin\"], [\"Wyoming\"]], \"hovertemplate\": \"pc_misperception=%{x}<br>positivity_rate=%{y}<br>state=%{customdata[0]}<extra></extra>\", \"legendgroup\": \"\", \"marker\": {\"color\": \"#636efa\", \"symbol\": \"circle\"}, \"mode\": \"markers\", \"name\": \"\", \"orientation\": \"v\", \"showlegend\": false, \"type\": \"scatter\", \"x\": [0.16, 0.16, 0.14, 0.15, 0.15, 0.135, 0.11, 0.11, 0.155, 0.15, 0.09, 0.11, 0.14, 0.135, 0.13, 0.155, 0.16, 0.16, 0.135, 0.135, 0.11, 0.145, 0.13, 0.18, 0.13, 0.13, 0.145, 0.15, 0.13, 0.14, 0.145, 0.17, 0.15, 0.145, 0.135, 0.15, 0.11, 0.11, 0.14, 0.15, 0.15, 0.15, 0.155, 0.145, 0.09, 0.15, 0.13, 0.16, 0.125, 0.11], \"xaxis\": \"x\", \"y\": [0.21471384427092943, 0.03505792442530479, 0.11321597457663174, 0.12143290731933612, 0.07671262627250544, 0.07266569455525902, 0.04379996678516095, 0.06342682448291186, 0.08820046671028753, 0.1409389118989032, 0.026854405133102378, 0.26975001989759373, 0.07022167738917065, 0.0893406946363678, 0.213419288761902, 0.23503083290337543, 0.10107751207100411, 0.08000602302809734, 0.028566115258216642, 0.0505440205647844, 0.03843832252893905, 0.06514004451897608, 0.07404768268879708, 0.17521690180689384, 0.11037875811718188, 0.09822400329542687, 0.09081147641681485, 0.1118589623784725, 0.05204844745200852, 0.07406791302782087, 0.07427716275098263, 0.04386129349735964, 0.08470004315925765, 0.07253348628045043, 0.09871997901713343, 0.1222901069199689, 0.04502916765473085, 0.09136963981210378, 0.04557478865949738, 0.1048808757853304, 0.2688719548543496, 0.1130596773234, 0.1356754142768419, 0.1329411331539936, 0.013333689938496752, 0.09655837701723202, 0.06850604756126438, 0.062192829071874775, 0.0958532548731151, 0.08175324102654555], \"yaxis\": \"y\"}, {\"hovertemplate\": \"<b>OLS trendline</b><br>positivity_rate = 0.876277 * pc_misperception + -0.0239082<br>R<sup>2</sup>=0.084898<br><br>pc_misperception=%{x}<br>positivity_rate=%{y} <b>(trend)</b><extra></extra>\", \"legendgroup\": \"\", \"marker\": {\"color\": \"#636efa\", \"symbol\": \"circle\"}, \"mode\": \"lines\", \"name\": \"\", \"showlegend\": false, \"type\": \"scatter\", \"x\": [0.09, 0.09, 0.11, 0.11, 0.11, 0.11, 0.11, 0.11, 0.11, 0.125, 0.13, 0.13, 0.13, 0.13, 0.13, 0.13, 0.135, 0.135, 0.135, 0.135, 0.135, 0.14, 0.14, 0.14, 0.14, 0.145, 0.145, 0.145, 0.145, 0.145, 0.15, 0.15, 0.15, 0.15, 0.15, 0.15, 0.15, 0.15, 0.15, 0.15, 0.155, 0.155, 0.155, 0.16, 0.16, 0.16, 0.16, 0.16, 0.17, 0.18], \"xaxis\": \"x\", \"y\": [0.05495674931201246, 0.05495674931201246, 0.07248228791452671, 0.07248228791452671, 0.07248228791452671, 0.07248228791452671, 0.07248228791452671, 0.07248228791452671, 0.07248228791452671, 0.0856264418664124, 0.09000782651704096, 0.09000782651704096, 0.09000782651704096, 0.09000782651704096, 0.09000782651704096, 0.09000782651704096, 0.09438921116766953, 0.09438921116766953, 0.09438921116766953, 0.09438921116766953, 0.09438921116766953, 0.0987705958182981, 0.0987705958182981, 0.0987705958182981, 0.0987705958182981, 0.10315198046892665, 0.10315198046892665, 0.10315198046892665, 0.10315198046892665, 0.10315198046892665, 0.10753336511955522, 0.10753336511955522, 0.10753336511955522, 0.10753336511955522, 0.10753336511955522, 0.10753336511955522, 0.10753336511955522, 0.10753336511955522, 0.10753336511955522, 0.10753336511955522, 0.11191474977018379, 0.11191474977018379, 0.11191474977018379, 0.11629613442081235, 0.11629613442081235, 0.11629613442081235, 0.11629613442081235, 0.11629613442081235, 0.1250589037220695, 0.1338216730233266], \"yaxis\": \"y\"}],                        {\"height\": 400, \"legend\": {\"tracegroupgap\": 0}, \"margin\": {\"t\": 60}, \"template\": {\"data\": {\"bar\": [{\"error_x\": {\"color\": \"#2a3f5f\"}, \"error_y\": {\"color\": \"#2a3f5f\"}, \"marker\": {\"line\": {\"color\": \"#E5ECF6\", \"width\": 0.5}}, \"type\": \"bar\"}], \"barpolar\": [{\"marker\": {\"line\": {\"color\": \"#E5ECF6\", \"width\": 0.5}}, \"type\": \"barpolar\"}], \"carpet\": [{\"aaxis\": {\"endlinecolor\": \"#2a3f5f\", \"gridcolor\": \"white\", \"linecolor\": \"white\", \"minorgridcolor\": \"white\", \"startlinecolor\": \"#2a3f5f\"}, \"baxis\": {\"endlinecolor\": \"#2a3f5f\", \"gridcolor\": \"white\", \"linecolor\": \"white\", \"minorgridcolor\": \"white\", \"startlinecolor\": \"#2a3f5f\"}, \"type\": \"carpet\"}], \"choropleth\": [{\"colorbar\": {\"outlinewidth\": 0, \"ticks\": \"\"}, \"type\": \"choropleth\"}], \"contour\": [{\"colorbar\": {\"outlinewidth\": 0, \"ticks\": \"\"}, \"colorscale\": [[0.0, \"#0d0887\"], [0.1111111111111111, \"#46039f\"], [0.2222222222222222, \"#7201a8\"], [0.3333333333333333, \"#9c179e\"], [0.4444444444444444, \"#bd3786\"], [0.5555555555555556, \"#d8576b\"], [0.6666666666666666, \"#ed7953\"], [0.7777777777777778, \"#fb9f3a\"], [0.8888888888888888, \"#fdca26\"], [1.0, \"#f0f921\"]], \"type\": \"contour\"}], \"contourcarpet\": [{\"colorbar\": {\"outlinewidth\": 0, \"ticks\": \"\"}, \"type\": \"contourcarpet\"}], \"heatmap\": [{\"colorbar\": {\"outlinewidth\": 0, \"ticks\": \"\"}, \"colorscale\": [[0.0, \"#0d0887\"], [0.1111111111111111, \"#46039f\"], [0.2222222222222222, \"#7201a8\"], [0.3333333333333333, \"#9c179e\"], [0.4444444444444444, \"#bd3786\"], [0.5555555555555556, \"#d8576b\"], [0.6666666666666666, \"#ed7953\"], [0.7777777777777778, \"#fb9f3a\"], [0.8888888888888888, \"#fdca26\"], [1.0, \"#f0f921\"]], \"type\": \"heatmap\"}], \"heatmapgl\": [{\"colorbar\": {\"outlinewidth\": 0, \"ticks\": \"\"}, \"colorscale\": [[0.0, \"#0d0887\"], [0.1111111111111111, \"#46039f\"], [0.2222222222222222, \"#7201a8\"], [0.3333333333333333, \"#9c179e\"], [0.4444444444444444, \"#bd3786\"], [0.5555555555555556, \"#d8576b\"], [0.6666666666666666, \"#ed7953\"], [0.7777777777777778, \"#fb9f3a\"], [0.8888888888888888, \"#fdca26\"], [1.0, \"#f0f921\"]], \"type\": \"heatmapgl\"}], \"histogram\": [{\"marker\": {\"colorbar\": {\"outlinewidth\": 0, \"ticks\": \"\"}}, \"type\": \"histogram\"}], \"histogram2d\": [{\"colorbar\": {\"outlinewidth\": 0, \"ticks\": \"\"}, \"colorscale\": [[0.0, \"#0d0887\"], [0.1111111111111111, \"#46039f\"], [0.2222222222222222, \"#7201a8\"], [0.3333333333333333, \"#9c179e\"], [0.4444444444444444, \"#bd3786\"], [0.5555555555555556, \"#d8576b\"], [0.6666666666666666, \"#ed7953\"], [0.7777777777777778, \"#fb9f3a\"], [0.8888888888888888, \"#fdca26\"], [1.0, \"#f0f921\"]], \"type\": \"histogram2d\"}], \"histogram2dcontour\": [{\"colorbar\": {\"outlinewidth\": 0, \"ticks\": \"\"}, \"colorscale\": [[0.0, \"#0d0887\"], [0.1111111111111111, \"#46039f\"], [0.2222222222222222, \"#7201a8\"], [0.3333333333333333, \"#9c179e\"], [0.4444444444444444, \"#bd3786\"], [0.5555555555555556, \"#d8576b\"], [0.6666666666666666, \"#ed7953\"], [0.7777777777777778, \"#fb9f3a\"], [0.8888888888888888, \"#fdca26\"], [1.0, \"#f0f921\"]], \"type\": \"histogram2dcontour\"}], \"mesh3d\": [{\"colorbar\": {\"outlinewidth\": 0, \"ticks\": \"\"}, \"type\": \"mesh3d\"}], \"parcoords\": [{\"line\": {\"colorbar\": {\"outlinewidth\": 0, \"ticks\": \"\"}}, \"type\": \"parcoords\"}], \"pie\": [{\"automargin\": true, \"type\": \"pie\"}], \"scatter\": [{\"marker\": {\"colorbar\": {\"outlinewidth\": 0, \"ticks\": \"\"}}, \"type\": \"scatter\"}], \"scatter3d\": [{\"line\": {\"colorbar\": {\"outlinewidth\": 0, \"ticks\": \"\"}}, \"marker\": {\"colorbar\": {\"outlinewidth\": 0, \"ticks\": \"\"}}, \"type\": \"scatter3d\"}], \"scattercarpet\": [{\"marker\": {\"colorbar\": {\"outlinewidth\": 0, \"ticks\": \"\"}}, \"type\": \"scattercarpet\"}], \"scattergeo\": [{\"marker\": {\"colorbar\": {\"outlinewidth\": 0, \"ticks\": \"\"}}, \"type\": \"scattergeo\"}], \"scattergl\": [{\"marker\": {\"colorbar\": {\"outlinewidth\": 0, \"ticks\": \"\"}}, \"type\": \"scattergl\"}], \"scattermapbox\": [{\"marker\": {\"colorbar\": {\"outlinewidth\": 0, \"ticks\": \"\"}}, \"type\": \"scattermapbox\"}], \"scatterpolar\": [{\"marker\": {\"colorbar\": {\"outlinewidth\": 0, \"ticks\": \"\"}}, \"type\": \"scatterpolar\"}], \"scatterpolargl\": [{\"marker\": {\"colorbar\": {\"outlinewidth\": 0, \"ticks\": \"\"}}, \"type\": \"scatterpolargl\"}], \"scatterternary\": [{\"marker\": {\"colorbar\": {\"outlinewidth\": 0, \"ticks\": \"\"}}, \"type\": \"scatterternary\"}], \"surface\": [{\"colorbar\": {\"outlinewidth\": 0, \"ticks\": \"\"}, \"colorscale\": [[0.0, \"#0d0887\"], [0.1111111111111111, \"#46039f\"], [0.2222222222222222, \"#7201a8\"], [0.3333333333333333, \"#9c179e\"], [0.4444444444444444, \"#bd3786\"], [0.5555555555555556, \"#d8576b\"], [0.6666666666666666, \"#ed7953\"], [0.7777777777777778, \"#fb9f3a\"], [0.8888888888888888, \"#fdca26\"], [1.0, \"#f0f921\"]], \"type\": \"surface\"}], \"table\": [{\"cells\": {\"fill\": {\"color\": \"#EBF0F8\"}, \"line\": {\"color\": \"white\"}}, \"header\": {\"fill\": {\"color\": \"#C8D4E3\"}, \"line\": {\"color\": \"white\"}}, \"type\": \"table\"}]}, \"layout\": {\"annotationdefaults\": {\"arrowcolor\": \"#2a3f5f\", \"arrowhead\": 0, \"arrowwidth\": 1}, \"autotypenumbers\": \"strict\", \"coloraxis\": {\"colorbar\": {\"outlinewidth\": 0, \"ticks\": \"\"}}, \"colorscale\": {\"diverging\": [[0, \"#8e0152\"], [0.1, \"#c51b7d\"], [0.2, \"#de77ae\"], [0.3, \"#f1b6da\"], [0.4, \"#fde0ef\"], [0.5, \"#f7f7f7\"], [0.6, \"#e6f5d0\"], [0.7, \"#b8e186\"], [0.8, \"#7fbc41\"], [0.9, \"#4d9221\"], [1, \"#276419\"]], \"sequential\": [[0.0, \"#0d0887\"], [0.1111111111111111, \"#46039f\"], [0.2222222222222222, \"#7201a8\"], [0.3333333333333333, \"#9c179e\"], [0.4444444444444444, \"#bd3786\"], [0.5555555555555556, \"#d8576b\"], [0.6666666666666666, \"#ed7953\"], [0.7777777777777778, \"#fb9f3a\"], [0.8888888888888888, \"#fdca26\"], [1.0, \"#f0f921\"]], \"sequentialminus\": [[0.0, \"#0d0887\"], [0.1111111111111111, \"#46039f\"], [0.2222222222222222, \"#7201a8\"], [0.3333333333333333, \"#9c179e\"], [0.4444444444444444, \"#bd3786\"], [0.5555555555555556, \"#d8576b\"], [0.6666666666666666, \"#ed7953\"], [0.7777777777777778, \"#fb9f3a\"], [0.8888888888888888, \"#fdca26\"], [1.0, \"#f0f921\"]]}, \"colorway\": [\"#636efa\", \"#EF553B\", \"#00cc96\", \"#ab63fa\", \"#FFA15A\", \"#19d3f3\", \"#FF6692\", \"#B6E880\", \"#FF97FF\", \"#FECB52\"], \"font\": {\"color\": \"#2a3f5f\"}, \"geo\": {\"bgcolor\": \"white\", \"lakecolor\": \"white\", \"landcolor\": \"#E5ECF6\", \"showlakes\": true, \"showland\": true, \"subunitcolor\": \"white\"}, \"hoverlabel\": {\"align\": \"left\"}, \"hovermode\": \"closest\", \"mapbox\": {\"style\": \"light\"}, \"paper_bgcolor\": \"white\", \"plot_bgcolor\": \"#E5ECF6\", \"polar\": {\"angularaxis\": {\"gridcolor\": \"white\", \"linecolor\": \"white\", \"ticks\": \"\"}, \"bgcolor\": \"#E5ECF6\", \"radialaxis\": {\"gridcolor\": \"white\", \"linecolor\": \"white\", \"ticks\": \"\"}}, \"scene\": {\"xaxis\": {\"backgroundcolor\": \"#E5ECF6\", \"gridcolor\": \"white\", \"gridwidth\": 2, \"linecolor\": \"white\", \"showbackground\": true, \"ticks\": \"\", \"zerolinecolor\": \"white\"}, \"yaxis\": {\"backgroundcolor\": \"#E5ECF6\", \"gridcolor\": \"white\", \"gridwidth\": 2, \"linecolor\": \"white\", \"showbackground\": true, \"ticks\": \"\", \"zerolinecolor\": \"white\"}, \"zaxis\": {\"backgroundcolor\": \"#E5ECF6\", \"gridcolor\": \"white\", \"gridwidth\": 2, \"linecolor\": \"white\", \"showbackground\": true, \"ticks\": \"\", \"zerolinecolor\": \"white\"}}, \"shapedefaults\": {\"line\": {\"color\": \"#2a3f5f\"}}, \"ternary\": {\"aaxis\": {\"gridcolor\": \"white\", \"linecolor\": \"white\", \"ticks\": \"\"}, \"baxis\": {\"gridcolor\": \"white\", \"linecolor\": \"white\", \"ticks\": \"\"}, \"bgcolor\": \"#E5ECF6\", \"caxis\": {\"gridcolor\": \"white\", \"linecolor\": \"white\", \"ticks\": \"\"}}, \"title\": {\"x\": 0.05}, \"xaxis\": {\"automargin\": true, \"gridcolor\": \"white\", \"linecolor\": \"white\", \"ticks\": \"\", \"title\": {\"standoff\": 15}, \"zerolinecolor\": \"white\", \"zerolinewidth\": 2}, \"yaxis\": {\"automargin\": true, \"gridcolor\": \"white\", \"linecolor\": \"white\", \"ticks\": \"\", \"title\": {\"standoff\": 15}, \"zerolinecolor\": \"white\", \"zerolinewidth\": 2}}}, \"width\": 400, \"xaxis\": {\"anchor\": \"y\", \"domain\": [0.0, 1.0], \"title\": {\"text\": \"pc_misperception\"}}, \"yaxis\": {\"anchor\": \"x\", \"domain\": [0.0, 1.0], \"title\": {\"text\": \"positivity_rate\"}}},                        {\"responsive\": true}                    ).then(function(){\n",
       "                            \n",
       "var gd = document.getElementById('3d5be0e3-bbd3-4e9d-bdcd-cbe1cc6a2ec6');\n",
       "var x = new MutationObserver(function (mutations, observer) {{\n",
       "        var display = window.getComputedStyle(gd).display;\n",
       "        if (!display || display === 'none') {{\n",
       "            console.log([gd, 'removed!']);\n",
       "            Plotly.purge(gd);\n",
       "            observer.disconnect();\n",
       "        }}\n",
       "}});\n",
       "\n",
       "// Listen for the removal of the full notebook cells\n",
       "var notebookContainer = gd.closest('#notebook-container');\n",
       "if (notebookContainer) {{\n",
       "    x.observe(notebookContainer, {childList: true});\n",
       "}}\n",
       "\n",
       "// Listen for the clearing of the current output cell\n",
       "var outputEl = gd.closest('.output');\n",
       "if (outputEl) {{\n",
       "    x.observe(outputEl, {childList: true});\n",
       "}}\n",
       "\n",
       "                        })                };                });            </script>        </div>"
      ]
     },
     "metadata": {},
     "output_type": "display_data"
    }
   ],
   "source": [
    "fig = px.scatter(us_cross_sectional, x=\"pc_misperception\", y=\"positivity_rate\", hover_data=[\"state\"], trendline=\"ols\", width=400, height=400)\n",
    "fig.show()"
   ]
  },
  {
   "cell_type": "code",
   "execution_count": 133,
   "metadata": {},
   "outputs": [
    {
     "data": {
      "application/vnd.plotly.v1+json": {
       "config": {
        "plotlyServerURL": "https://plot.ly"
       },
       "data": [
        {
         "customdata": [
          [
           "Alabama"
          ],
          [
           "Alaska"
          ],
          [
           "Arizona"
          ],
          [
           "Arkansas"
          ],
          [
           "California"
          ],
          [
           "Colorado"
          ],
          [
           "Connecticut"
          ],
          [
           "Delaware"
          ],
          [
           "Florida"
          ],
          [
           "Georgia"
          ],
          [
           "Hawaii"
          ],
          [
           "Idaho"
          ],
          [
           "Illinois"
          ],
          [
           "Indiana"
          ],
          [
           "Iowa"
          ],
          [
           "Kansas"
          ],
          [
           "Kentucky"
          ],
          [
           "Louisiana"
          ],
          [
           "Maine"
          ],
          [
           "Maryland"
          ],
          [
           "Massachusetts"
          ],
          [
           "Michigan"
          ],
          [
           "Minnesota"
          ],
          [
           "Mississippi"
          ],
          [
           "Missouri"
          ],
          [
           "Montana"
          ],
          [
           "Nebraska"
          ],
          [
           "Nevada"
          ],
          [
           "New Hampshire"
          ],
          [
           "New Jersey"
          ],
          [
           "New Mexico"
          ],
          [
           "New York"
          ],
          [
           "North Carolina"
          ],
          [
           "North Dakota"
          ],
          [
           "Ohio"
          ],
          [
           "Oklahoma"
          ],
          [
           "Oregon"
          ],
          [
           "Pennsylvania"
          ],
          [
           "Rhode Island"
          ],
          [
           "South Carolina"
          ],
          [
           "South Dakota"
          ],
          [
           "Tennessee"
          ],
          [
           "Texas"
          ],
          [
           "Utah"
          ],
          [
           "Vermont"
          ],
          [
           "Virginia"
          ],
          [
           "Washington"
          ],
          [
           "West Virginia"
          ],
          [
           "Wisconsin"
          ],
          [
           "Wyoming"
          ]
         ],
         "hovertemplate": "pc_misperception=%{x}<br>deaths_pth=%{y}<br>state=%{customdata[0]}<extra></extra>",
         "legendgroup": "",
         "marker": {
          "color": "#636efa",
          "symbol": "circle"
         },
         "mode": "markers",
         "name": "",
         "orientation": "v",
         "showlegend": false,
         "type": "scatter",
         "x": [
          0.16,
          0.16,
          0.14,
          0.15,
          0.15,
          0.135,
          0.11,
          0.11,
          0.155,
          0.15,
          0.09,
          0.11,
          0.14,
          0.135,
          0.13,
          0.155,
          0.16,
          0.16,
          0.135,
          0.135,
          0.11,
          0.145,
          0.13,
          0.18,
          0.13,
          0.13,
          0.145,
          0.15,
          0.13,
          0.14,
          0.145,
          0.17,
          0.15,
          0.145,
          0.135,
          0.15,
          0.11,
          0.11,
          0.14,
          0.15,
          0.15,
          0.15,
          0.155,
          0.145,
          0.09,
          0.15,
          0.13,
          0.16,
          0.125,
          0.11
         ],
         "xaxis": "x",
         "y": [
          0.00473704053645111,
          0.0010787533596785218,
          0.005396752906555991,
          0.0048587153448035846,
          0.0030837876519683935,
          0.0029307204756359793,
          0.00597062987171695,
          0.0033715895536500446,
          0.003718570017070698,
          0.004003700524687407,
          0.0008669886191545851,
          0.002916223171813988,
          0.0050215147867813245,
          0.004396238323372942,
          0.0046788338112216474,
          0.003907072880054099,
          0.002524831267178173,
          0.005757267466179875,
          0.001326038855024154,
          0.003540114991597703,
          0.006275687203667271,
          0.004612887644046594,
          0.0033113328662545223,
          0.006136399716262216,
          0.003321702014042443,
          0.003485359474746773,
          0.0029452573484262884,
          0.004163043307813898,
          0.002327458304509293,
          0.0071773675005559,
          0.004701794404245105,
          0.005381864460261469,
          0.0026648434353126063,
          0.005716720513918744,
          0.0028709274930113146,
          0.002708135107533552,
          0.001389200283736456,
          0.005050754339230983,
          0.006072749913735719,
          0.004094970576211719,
          0.006071945471033714,
          0.0042434090827058995,
          0.003756683861716608,
          0.0015690197689310148,
          0.0008323912522089764,
          0.002247198899337832,
          0.0016678234002638049,
          0.0034017218130927176,
          0.003298615346992981,
          0.003055755494195826
         ],
         "yaxis": "y"
        },
        {
         "hovertemplate": "<b>OLS trendline</b><br>deaths_pth = 0.0234267 * pc_misperception + 0.000525823<br>R<sup>2</sup>=0.085049<br><br>pc_misperception=%{x}<br>deaths_pth=%{y} <b>(trend)</b><extra></extra>",
         "legendgroup": "",
         "marker": {
          "color": "#636efa",
          "symbol": "circle"
         },
         "mode": "lines",
         "name": "",
         "showlegend": false,
         "type": "scatter",
         "x": [
          0.09,
          0.09,
          0.11,
          0.11,
          0.11,
          0.11,
          0.11,
          0.11,
          0.11,
          0.125,
          0.13,
          0.13,
          0.13,
          0.13,
          0.13,
          0.13,
          0.135,
          0.135,
          0.135,
          0.135,
          0.135,
          0.14,
          0.14,
          0.14,
          0.14,
          0.145,
          0.145,
          0.145,
          0.145,
          0.145,
          0.15,
          0.15,
          0.15,
          0.15,
          0.15,
          0.15,
          0.15,
          0.15,
          0.15,
          0.15,
          0.155,
          0.155,
          0.155,
          0.16,
          0.16,
          0.16,
          0.16,
          0.16,
          0.17,
          0.18
         ],
         "xaxis": "x",
         "y": [
          0.0026342289398038825,
          0.0026342289398038825,
          0.003102763571264009,
          0.003102763571264009,
          0.003102763571264009,
          0.003102763571264009,
          0.003102763571264009,
          0.003102763571264009,
          0.003102763571264009,
          0.0034541645448591036,
          0.0035712982027241353,
          0.0035712982027241353,
          0.0035712982027241353,
          0.0035712982027241353,
          0.0035712982027241353,
          0.0035712982027241353,
          0.003688431860589167,
          0.003688431860589167,
          0.003688431860589167,
          0.003688431860589167,
          0.003688431860589167,
          0.0038055655184541987,
          0.0038055655184541987,
          0.0038055655184541987,
          0.0038055655184541987,
          0.003922699176319229,
          0.003922699176319229,
          0.003922699176319229,
          0.003922699176319229,
          0.003922699176319229,
          0.004039832834184261,
          0.004039832834184261,
          0.004039832834184261,
          0.004039832834184261,
          0.004039832834184261,
          0.004039832834184261,
          0.004039832834184261,
          0.004039832834184261,
          0.004039832834184261,
          0.004039832834184261,
          0.004156966492049293,
          0.004156966492049293,
          0.004156966492049293,
          0.004274100149914324,
          0.004274100149914324,
          0.004274100149914324,
          0.004274100149914324,
          0.004274100149914324,
          0.004508367465644388,
          0.00474263478137445
         ],
         "yaxis": "y"
        }
       ],
       "layout": {
        "height": 400,
        "legend": {
         "tracegroupgap": 0
        },
        "margin": {
         "t": 60
        },
        "template": {
         "data": {
          "bar": [
           {
            "error_x": {
             "color": "#2a3f5f"
            },
            "error_y": {
             "color": "#2a3f5f"
            },
            "marker": {
             "line": {
              "color": "#E5ECF6",
              "width": 0.5
             }
            },
            "type": "bar"
           }
          ],
          "barpolar": [
           {
            "marker": {
             "line": {
              "color": "#E5ECF6",
              "width": 0.5
             }
            },
            "type": "barpolar"
           }
          ],
          "carpet": [
           {
            "aaxis": {
             "endlinecolor": "#2a3f5f",
             "gridcolor": "white",
             "linecolor": "white",
             "minorgridcolor": "white",
             "startlinecolor": "#2a3f5f"
            },
            "baxis": {
             "endlinecolor": "#2a3f5f",
             "gridcolor": "white",
             "linecolor": "white",
             "minorgridcolor": "white",
             "startlinecolor": "#2a3f5f"
            },
            "type": "carpet"
           }
          ],
          "choropleth": [
           {
            "colorbar": {
             "outlinewidth": 0,
             "ticks": ""
            },
            "type": "choropleth"
           }
          ],
          "contour": [
           {
            "colorbar": {
             "outlinewidth": 0,
             "ticks": ""
            },
            "colorscale": [
             [
              0,
              "#0d0887"
             ],
             [
              0.1111111111111111,
              "#46039f"
             ],
             [
              0.2222222222222222,
              "#7201a8"
             ],
             [
              0.3333333333333333,
              "#9c179e"
             ],
             [
              0.4444444444444444,
              "#bd3786"
             ],
             [
              0.5555555555555556,
              "#d8576b"
             ],
             [
              0.6666666666666666,
              "#ed7953"
             ],
             [
              0.7777777777777778,
              "#fb9f3a"
             ],
             [
              0.8888888888888888,
              "#fdca26"
             ],
             [
              1,
              "#f0f921"
             ]
            ],
            "type": "contour"
           }
          ],
          "contourcarpet": [
           {
            "colorbar": {
             "outlinewidth": 0,
             "ticks": ""
            },
            "type": "contourcarpet"
           }
          ],
          "heatmap": [
           {
            "colorbar": {
             "outlinewidth": 0,
             "ticks": ""
            },
            "colorscale": [
             [
              0,
              "#0d0887"
             ],
             [
              0.1111111111111111,
              "#46039f"
             ],
             [
              0.2222222222222222,
              "#7201a8"
             ],
             [
              0.3333333333333333,
              "#9c179e"
             ],
             [
              0.4444444444444444,
              "#bd3786"
             ],
             [
              0.5555555555555556,
              "#d8576b"
             ],
             [
              0.6666666666666666,
              "#ed7953"
             ],
             [
              0.7777777777777778,
              "#fb9f3a"
             ],
             [
              0.8888888888888888,
              "#fdca26"
             ],
             [
              1,
              "#f0f921"
             ]
            ],
            "type": "heatmap"
           }
          ],
          "heatmapgl": [
           {
            "colorbar": {
             "outlinewidth": 0,
             "ticks": ""
            },
            "colorscale": [
             [
              0,
              "#0d0887"
             ],
             [
              0.1111111111111111,
              "#46039f"
             ],
             [
              0.2222222222222222,
              "#7201a8"
             ],
             [
              0.3333333333333333,
              "#9c179e"
             ],
             [
              0.4444444444444444,
              "#bd3786"
             ],
             [
              0.5555555555555556,
              "#d8576b"
             ],
             [
              0.6666666666666666,
              "#ed7953"
             ],
             [
              0.7777777777777778,
              "#fb9f3a"
             ],
             [
              0.8888888888888888,
              "#fdca26"
             ],
             [
              1,
              "#f0f921"
             ]
            ],
            "type": "heatmapgl"
           }
          ],
          "histogram": [
           {
            "marker": {
             "colorbar": {
              "outlinewidth": 0,
              "ticks": ""
             }
            },
            "type": "histogram"
           }
          ],
          "histogram2d": [
           {
            "colorbar": {
             "outlinewidth": 0,
             "ticks": ""
            },
            "colorscale": [
             [
              0,
              "#0d0887"
             ],
             [
              0.1111111111111111,
              "#46039f"
             ],
             [
              0.2222222222222222,
              "#7201a8"
             ],
             [
              0.3333333333333333,
              "#9c179e"
             ],
             [
              0.4444444444444444,
              "#bd3786"
             ],
             [
              0.5555555555555556,
              "#d8576b"
             ],
             [
              0.6666666666666666,
              "#ed7953"
             ],
             [
              0.7777777777777778,
              "#fb9f3a"
             ],
             [
              0.8888888888888888,
              "#fdca26"
             ],
             [
              1,
              "#f0f921"
             ]
            ],
            "type": "histogram2d"
           }
          ],
          "histogram2dcontour": [
           {
            "colorbar": {
             "outlinewidth": 0,
             "ticks": ""
            },
            "colorscale": [
             [
              0,
              "#0d0887"
             ],
             [
              0.1111111111111111,
              "#46039f"
             ],
             [
              0.2222222222222222,
              "#7201a8"
             ],
             [
              0.3333333333333333,
              "#9c179e"
             ],
             [
              0.4444444444444444,
              "#bd3786"
             ],
             [
              0.5555555555555556,
              "#d8576b"
             ],
             [
              0.6666666666666666,
              "#ed7953"
             ],
             [
              0.7777777777777778,
              "#fb9f3a"
             ],
             [
              0.8888888888888888,
              "#fdca26"
             ],
             [
              1,
              "#f0f921"
             ]
            ],
            "type": "histogram2dcontour"
           }
          ],
          "mesh3d": [
           {
            "colorbar": {
             "outlinewidth": 0,
             "ticks": ""
            },
            "type": "mesh3d"
           }
          ],
          "parcoords": [
           {
            "line": {
             "colorbar": {
              "outlinewidth": 0,
              "ticks": ""
             }
            },
            "type": "parcoords"
           }
          ],
          "pie": [
           {
            "automargin": true,
            "type": "pie"
           }
          ],
          "scatter": [
           {
            "marker": {
             "colorbar": {
              "outlinewidth": 0,
              "ticks": ""
             }
            },
            "type": "scatter"
           }
          ],
          "scatter3d": [
           {
            "line": {
             "colorbar": {
              "outlinewidth": 0,
              "ticks": ""
             }
            },
            "marker": {
             "colorbar": {
              "outlinewidth": 0,
              "ticks": ""
             }
            },
            "type": "scatter3d"
           }
          ],
          "scattercarpet": [
           {
            "marker": {
             "colorbar": {
              "outlinewidth": 0,
              "ticks": ""
             }
            },
            "type": "scattercarpet"
           }
          ],
          "scattergeo": [
           {
            "marker": {
             "colorbar": {
              "outlinewidth": 0,
              "ticks": ""
             }
            },
            "type": "scattergeo"
           }
          ],
          "scattergl": [
           {
            "marker": {
             "colorbar": {
              "outlinewidth": 0,
              "ticks": ""
             }
            },
            "type": "scattergl"
           }
          ],
          "scattermapbox": [
           {
            "marker": {
             "colorbar": {
              "outlinewidth": 0,
              "ticks": ""
             }
            },
            "type": "scattermapbox"
           }
          ],
          "scatterpolar": [
           {
            "marker": {
             "colorbar": {
              "outlinewidth": 0,
              "ticks": ""
             }
            },
            "type": "scatterpolar"
           }
          ],
          "scatterpolargl": [
           {
            "marker": {
             "colorbar": {
              "outlinewidth": 0,
              "ticks": ""
             }
            },
            "type": "scatterpolargl"
           }
          ],
          "scatterternary": [
           {
            "marker": {
             "colorbar": {
              "outlinewidth": 0,
              "ticks": ""
             }
            },
            "type": "scatterternary"
           }
          ],
          "surface": [
           {
            "colorbar": {
             "outlinewidth": 0,
             "ticks": ""
            },
            "colorscale": [
             [
              0,
              "#0d0887"
             ],
             [
              0.1111111111111111,
              "#46039f"
             ],
             [
              0.2222222222222222,
              "#7201a8"
             ],
             [
              0.3333333333333333,
              "#9c179e"
             ],
             [
              0.4444444444444444,
              "#bd3786"
             ],
             [
              0.5555555555555556,
              "#d8576b"
             ],
             [
              0.6666666666666666,
              "#ed7953"
             ],
             [
              0.7777777777777778,
              "#fb9f3a"
             ],
             [
              0.8888888888888888,
              "#fdca26"
             ],
             [
              1,
              "#f0f921"
             ]
            ],
            "type": "surface"
           }
          ],
          "table": [
           {
            "cells": {
             "fill": {
              "color": "#EBF0F8"
             },
             "line": {
              "color": "white"
             }
            },
            "header": {
             "fill": {
              "color": "#C8D4E3"
             },
             "line": {
              "color": "white"
             }
            },
            "type": "table"
           }
          ]
         },
         "layout": {
          "annotationdefaults": {
           "arrowcolor": "#2a3f5f",
           "arrowhead": 0,
           "arrowwidth": 1
          },
          "autotypenumbers": "strict",
          "coloraxis": {
           "colorbar": {
            "outlinewidth": 0,
            "ticks": ""
           }
          },
          "colorscale": {
           "diverging": [
            [
             0,
             "#8e0152"
            ],
            [
             0.1,
             "#c51b7d"
            ],
            [
             0.2,
             "#de77ae"
            ],
            [
             0.3,
             "#f1b6da"
            ],
            [
             0.4,
             "#fde0ef"
            ],
            [
             0.5,
             "#f7f7f7"
            ],
            [
             0.6,
             "#e6f5d0"
            ],
            [
             0.7,
             "#b8e186"
            ],
            [
             0.8,
             "#7fbc41"
            ],
            [
             0.9,
             "#4d9221"
            ],
            [
             1,
             "#276419"
            ]
           ],
           "sequential": [
            [
             0,
             "#0d0887"
            ],
            [
             0.1111111111111111,
             "#46039f"
            ],
            [
             0.2222222222222222,
             "#7201a8"
            ],
            [
             0.3333333333333333,
             "#9c179e"
            ],
            [
             0.4444444444444444,
             "#bd3786"
            ],
            [
             0.5555555555555556,
             "#d8576b"
            ],
            [
             0.6666666666666666,
             "#ed7953"
            ],
            [
             0.7777777777777778,
             "#fb9f3a"
            ],
            [
             0.8888888888888888,
             "#fdca26"
            ],
            [
             1,
             "#f0f921"
            ]
           ],
           "sequentialminus": [
            [
             0,
             "#0d0887"
            ],
            [
             0.1111111111111111,
             "#46039f"
            ],
            [
             0.2222222222222222,
             "#7201a8"
            ],
            [
             0.3333333333333333,
             "#9c179e"
            ],
            [
             0.4444444444444444,
             "#bd3786"
            ],
            [
             0.5555555555555556,
             "#d8576b"
            ],
            [
             0.6666666666666666,
             "#ed7953"
            ],
            [
             0.7777777777777778,
             "#fb9f3a"
            ],
            [
             0.8888888888888888,
             "#fdca26"
            ],
            [
             1,
             "#f0f921"
            ]
           ]
          },
          "colorway": [
           "#636efa",
           "#EF553B",
           "#00cc96",
           "#ab63fa",
           "#FFA15A",
           "#19d3f3",
           "#FF6692",
           "#B6E880",
           "#FF97FF",
           "#FECB52"
          ],
          "font": {
           "color": "#2a3f5f"
          },
          "geo": {
           "bgcolor": "white",
           "lakecolor": "white",
           "landcolor": "#E5ECF6",
           "showlakes": true,
           "showland": true,
           "subunitcolor": "white"
          },
          "hoverlabel": {
           "align": "left"
          },
          "hovermode": "closest",
          "mapbox": {
           "style": "light"
          },
          "paper_bgcolor": "white",
          "plot_bgcolor": "#E5ECF6",
          "polar": {
           "angularaxis": {
            "gridcolor": "white",
            "linecolor": "white",
            "ticks": ""
           },
           "bgcolor": "#E5ECF6",
           "radialaxis": {
            "gridcolor": "white",
            "linecolor": "white",
            "ticks": ""
           }
          },
          "scene": {
           "xaxis": {
            "backgroundcolor": "#E5ECF6",
            "gridcolor": "white",
            "gridwidth": 2,
            "linecolor": "white",
            "showbackground": true,
            "ticks": "",
            "zerolinecolor": "white"
           },
           "yaxis": {
            "backgroundcolor": "#E5ECF6",
            "gridcolor": "white",
            "gridwidth": 2,
            "linecolor": "white",
            "showbackground": true,
            "ticks": "",
            "zerolinecolor": "white"
           },
           "zaxis": {
            "backgroundcolor": "#E5ECF6",
            "gridcolor": "white",
            "gridwidth": 2,
            "linecolor": "white",
            "showbackground": true,
            "ticks": "",
            "zerolinecolor": "white"
           }
          },
          "shapedefaults": {
           "line": {
            "color": "#2a3f5f"
           }
          },
          "ternary": {
           "aaxis": {
            "gridcolor": "white",
            "linecolor": "white",
            "ticks": ""
           },
           "baxis": {
            "gridcolor": "white",
            "linecolor": "white",
            "ticks": ""
           },
           "bgcolor": "#E5ECF6",
           "caxis": {
            "gridcolor": "white",
            "linecolor": "white",
            "ticks": ""
           }
          },
          "title": {
           "x": 0.05
          },
          "xaxis": {
           "automargin": true,
           "gridcolor": "white",
           "linecolor": "white",
           "ticks": "",
           "title": {
            "standoff": 15
           },
           "zerolinecolor": "white",
           "zerolinewidth": 2
          },
          "yaxis": {
           "automargin": true,
           "gridcolor": "white",
           "linecolor": "white",
           "ticks": "",
           "title": {
            "standoff": 15
           },
           "zerolinecolor": "white",
           "zerolinewidth": 2
          }
         }
        },
        "width": 400,
        "xaxis": {
         "anchor": "y",
         "autorange": true,
         "domain": [
          0,
          1
         ],
         "range": [
          0.08320143884892087,
          0.18679856115107912
         ],
         "title": {
          "text": "pc_misperception"
         },
         "type": "linear"
        },
        "yaxis": {
         "anchor": "x",
         "autorange": true,
         "domain": [
          0,
          1
         ],
         "range": [
          0.0003631711543731664,
          0.00764658759839171
         ],
         "title": {
          "text": "deaths_pth"
         },
         "type": "linear"
        }
       }
      },
      "image/png": "[encoded data removed]",
      "text/html": [
       "<div>                            <div id=\"fc1cd267-db3b-41df-9eb5-8142c40c3bbd\" class=\"plotly-graph-div\" style=\"height:400px; width:400px;\"></div>            <script type=\"text/javascript\">                require([\"plotly\"], function(Plotly) {                    window.PLOTLYENV=window.PLOTLYENV || {};                                    if (document.getElementById(\"fc1cd267-db3b-41df-9eb5-8142c40c3bbd\")) {                    Plotly.newPlot(                        \"fc1cd267-db3b-41df-9eb5-8142c40c3bbd\",                        [{\"customdata\": [[\"Alabama\"], [\"Alaska\"], [\"Arizona\"], [\"Arkansas\"], [\"California\"], [\"Colorado\"], [\"Connecticut\"], [\"Delaware\"], [\"Florida\"], [\"Georgia\"], [\"Hawaii\"], [\"Idaho\"], [\"Illinois\"], [\"Indiana\"], [\"Iowa\"], [\"Kansas\"], [\"Kentucky\"], [\"Louisiana\"], [\"Maine\"], [\"Maryland\"], [\"Massachusetts\"], [\"Michigan\"], [\"Minnesota\"], [\"Mississippi\"], [\"Missouri\"], [\"Montana\"], [\"Nebraska\"], [\"Nevada\"], [\"New Hampshire\"], [\"New Jersey\"], [\"New Mexico\"], [\"New York\"], [\"North Carolina\"], [\"North Dakota\"], [\"Ohio\"], [\"Oklahoma\"], [\"Oregon\"], [\"Pennsylvania\"], [\"Rhode Island\"], [\"South Carolina\"], [\"South Dakota\"], [\"Tennessee\"], [\"Texas\"], [\"Utah\"], [\"Vermont\"], [\"Virginia\"], [\"Washington\"], [\"West Virginia\"], [\"Wisconsin\"], [\"Wyoming\"]], \"hovertemplate\": \"pc_misperception=%{x}<br>deaths_pth=%{y}<br>state=%{customdata[0]}<extra></extra>\", \"legendgroup\": \"\", \"marker\": {\"color\": \"#636efa\", \"symbol\": \"circle\"}, \"mode\": \"markers\", \"name\": \"\", \"orientation\": \"v\", \"showlegend\": false, \"type\": \"scatter\", \"x\": [0.16, 0.16, 0.14, 0.15, 0.15, 0.135, 0.11, 0.11, 0.155, 0.15, 0.09, 0.11, 0.14, 0.135, 0.13, 0.155, 0.16, 0.16, 0.135, 0.135, 0.11, 0.145, 0.13, 0.18, 0.13, 0.13, 0.145, 0.15, 0.13, 0.14, 0.145, 0.17, 0.15, 0.145, 0.135, 0.15, 0.11, 0.11, 0.14, 0.15, 0.15, 0.15, 0.155, 0.145, 0.09, 0.15, 0.13, 0.16, 0.125, 0.11], \"xaxis\": \"x\", \"y\": [0.00473704053645111, 0.0010787533596785218, 0.005396752906555991, 0.0048587153448035846, 0.0030837876519683935, 0.0029307204756359793, 0.00597062987171695, 0.0033715895536500446, 0.003718570017070698, 0.004003700524687407, 0.0008669886191545851, 0.002916223171813988, 0.0050215147867813245, 0.004396238323372942, 0.0046788338112216474, 0.003907072880054099, 0.002524831267178173, 0.005757267466179875, 0.001326038855024154, 0.003540114991597703, 0.006275687203667271, 0.004612887644046594, 0.0033113328662545223, 0.006136399716262216, 0.003321702014042443, 0.003485359474746773, 0.0029452573484262884, 0.004163043307813898, 0.002327458304509293, 0.0071773675005559, 0.004701794404245105, 0.005381864460261469, 0.0026648434353126063, 0.005716720513918744, 0.0028709274930113146, 0.002708135107533552, 0.001389200283736456, 0.005050754339230983, 0.006072749913735719, 0.004094970576211719, 0.006071945471033714, 0.0042434090827058995, 0.003756683861716608, 0.0015690197689310148, 0.0008323912522089764, 0.002247198899337832, 0.0016678234002638049, 0.0034017218130927176, 0.003298615346992981, 0.003055755494195826], \"yaxis\": \"y\"}, {\"hovertemplate\": \"<b>OLS trendline</b><br>deaths_pth = 0.0234267 * pc_misperception + 0.000525823<br>R<sup>2</sup>=0.085049<br><br>pc_misperception=%{x}<br>deaths_pth=%{y} <b>(trend)</b><extra></extra>\", \"legendgroup\": \"\", \"marker\": {\"color\": \"#636efa\", \"symbol\": \"circle\"}, \"mode\": \"lines\", \"name\": \"\", \"showlegend\": false, \"type\": \"scatter\", \"x\": [0.09, 0.09, 0.11, 0.11, 0.11, 0.11, 0.11, 0.11, 0.11, 0.125, 0.13, 0.13, 0.13, 0.13, 0.13, 0.13, 0.135, 0.135, 0.135, 0.135, 0.135, 0.14, 0.14, 0.14, 0.14, 0.145, 0.145, 0.145, 0.145, 0.145, 0.15, 0.15, 0.15, 0.15, 0.15, 0.15, 0.15, 0.15, 0.15, 0.15, 0.155, 0.155, 0.155, 0.16, 0.16, 0.16, 0.16, 0.16, 0.17, 0.18], \"xaxis\": \"x\", \"y\": [0.0026342289398038825, 0.0026342289398038825, 0.003102763571264009, 0.003102763571264009, 0.003102763571264009, 0.003102763571264009, 0.003102763571264009, 0.003102763571264009, 0.003102763571264009, 0.0034541645448591036, 0.0035712982027241353, 0.0035712982027241353, 0.0035712982027241353, 0.0035712982027241353, 0.0035712982027241353, 0.0035712982027241353, 0.003688431860589167, 0.003688431860589167, 0.003688431860589167, 0.003688431860589167, 0.003688431860589167, 0.0038055655184541987, 0.0038055655184541987, 0.0038055655184541987, 0.0038055655184541987, 0.003922699176319229, 0.003922699176319229, 0.003922699176319229, 0.003922699176319229, 0.003922699176319229, 0.004039832834184261, 0.004039832834184261, 0.004039832834184261, 0.004039832834184261, 0.004039832834184261, 0.004039832834184261, 0.004039832834184261, 0.004039832834184261, 0.004039832834184261, 0.004039832834184261, 0.004156966492049293, 0.004156966492049293, 0.004156966492049293, 0.004274100149914324, 0.004274100149914324, 0.004274100149914324, 0.004274100149914324, 0.004274100149914324, 0.004508367465644388, 0.00474263478137445], \"yaxis\": \"y\"}],                        {\"height\": 400, \"legend\": {\"tracegroupgap\": 0}, \"margin\": {\"t\": 60}, \"template\": {\"data\": {\"bar\": [{\"error_x\": {\"color\": \"#2a3f5f\"}, \"error_y\": {\"color\": \"#2a3f5f\"}, \"marker\": {\"line\": {\"color\": \"#E5ECF6\", \"width\": 0.5}}, \"type\": \"bar\"}], \"barpolar\": [{\"marker\": {\"line\": {\"color\": \"#E5ECF6\", \"width\": 0.5}}, \"type\": \"barpolar\"}], \"carpet\": [{\"aaxis\": {\"endlinecolor\": \"#2a3f5f\", \"gridcolor\": \"white\", \"linecolor\": \"white\", \"minorgridcolor\": \"white\", \"startlinecolor\": \"#2a3f5f\"}, \"baxis\": {\"endlinecolor\": \"#2a3f5f\", \"gridcolor\": \"white\", \"linecolor\": \"white\", \"minorgridcolor\": \"white\", \"startlinecolor\": \"#2a3f5f\"}, \"type\": \"carpet\"}], \"choropleth\": [{\"colorbar\": {\"outlinewidth\": 0, \"ticks\": \"\"}, \"type\": \"choropleth\"}], \"contour\": [{\"colorbar\": {\"outlinewidth\": 0, \"ticks\": \"\"}, \"colorscale\": [[0.0, \"#0d0887\"], [0.1111111111111111, \"#46039f\"], [0.2222222222222222, \"#7201a8\"], [0.3333333333333333, \"#9c179e\"], [0.4444444444444444, \"#bd3786\"], [0.5555555555555556, \"#d8576b\"], [0.6666666666666666, \"#ed7953\"], [0.7777777777777778, \"#fb9f3a\"], [0.8888888888888888, \"#fdca26\"], [1.0, \"#f0f921\"]], \"type\": \"contour\"}], \"contourcarpet\": [{\"colorbar\": {\"outlinewidth\": 0, \"ticks\": \"\"}, \"type\": \"contourcarpet\"}], \"heatmap\": [{\"colorbar\": {\"outlinewidth\": 0, \"ticks\": \"\"}, \"colorscale\": [[0.0, \"#0d0887\"], [0.1111111111111111, \"#46039f\"], [0.2222222222222222, \"#7201a8\"], [0.3333333333333333, \"#9c179e\"], [0.4444444444444444, \"#bd3786\"], [0.5555555555555556, \"#d8576b\"], [0.6666666666666666, \"#ed7953\"], [0.7777777777777778, \"#fb9f3a\"], [0.8888888888888888, \"#fdca26\"], [1.0, \"#f0f921\"]], \"type\": \"heatmap\"}], \"heatmapgl\": [{\"colorbar\": {\"outlinewidth\": 0, \"ticks\": \"\"}, \"colorscale\": [[0.0, \"#0d0887\"], [0.1111111111111111, \"#46039f\"], [0.2222222222222222, \"#7201a8\"], [0.3333333333333333, \"#9c179e\"], [0.4444444444444444, \"#bd3786\"], [0.5555555555555556, \"#d8576b\"], [0.6666666666666666, \"#ed7953\"], [0.7777777777777778, \"#fb9f3a\"], [0.8888888888888888, \"#fdca26\"], [1.0, \"#f0f921\"]], \"type\": \"heatmapgl\"}], \"histogram\": [{\"marker\": {\"colorbar\": {\"outlinewidth\": 0, \"ticks\": \"\"}}, \"type\": \"histogram\"}], \"histogram2d\": [{\"colorbar\": {\"outlinewidth\": 0, \"ticks\": \"\"}, \"colorscale\": [[0.0, \"#0d0887\"], [0.1111111111111111, \"#46039f\"], [0.2222222222222222, \"#7201a8\"], [0.3333333333333333, \"#9c179e\"], [0.4444444444444444, \"#bd3786\"], [0.5555555555555556, \"#d8576b\"], [0.6666666666666666, \"#ed7953\"], [0.7777777777777778, \"#fb9f3a\"], [0.8888888888888888, \"#fdca26\"], [1.0, \"#f0f921\"]], \"type\": \"histogram2d\"}], \"histogram2dcontour\": [{\"colorbar\": {\"outlinewidth\": 0, \"ticks\": \"\"}, \"colorscale\": [[0.0, \"#0d0887\"], [0.1111111111111111, \"#46039f\"], [0.2222222222222222, \"#7201a8\"], [0.3333333333333333, \"#9c179e\"], [0.4444444444444444, \"#bd3786\"], [0.5555555555555556, \"#d8576b\"], [0.6666666666666666, \"#ed7953\"], [0.7777777777777778, \"#fb9f3a\"], [0.8888888888888888, \"#fdca26\"], [1.0, \"#f0f921\"]], \"type\": \"histogram2dcontour\"}], \"mesh3d\": [{\"colorbar\": {\"outlinewidth\": 0, \"ticks\": \"\"}, \"type\": \"mesh3d\"}], \"parcoords\": [{\"line\": {\"colorbar\": {\"outlinewidth\": 0, \"ticks\": \"\"}}, \"type\": \"parcoords\"}], \"pie\": [{\"automargin\": true, \"type\": \"pie\"}], \"scatter\": [{\"marker\": {\"colorbar\": {\"outlinewidth\": 0, \"ticks\": \"\"}}, \"type\": \"scatter\"}], \"scatter3d\": [{\"line\": {\"colorbar\": {\"outlinewidth\": 0, \"ticks\": \"\"}}, \"marker\": {\"colorbar\": {\"outlinewidth\": 0, \"ticks\": \"\"}}, \"type\": \"scatter3d\"}], \"scattercarpet\": [{\"marker\": {\"colorbar\": {\"outlinewidth\": 0, \"ticks\": \"\"}}, \"type\": \"scattercarpet\"}], \"scattergeo\": [{\"marker\": {\"colorbar\": {\"outlinewidth\": 0, \"ticks\": \"\"}}, \"type\": \"scattergeo\"}], \"scattergl\": [{\"marker\": {\"colorbar\": {\"outlinewidth\": 0, \"ticks\": \"\"}}, \"type\": \"scattergl\"}], \"scattermapbox\": [{\"marker\": {\"colorbar\": {\"outlinewidth\": 0, \"ticks\": \"\"}}, \"type\": \"scattermapbox\"}], \"scatterpolar\": [{\"marker\": {\"colorbar\": {\"outlinewidth\": 0, \"ticks\": \"\"}}, \"type\": \"scatterpolar\"}], \"scatterpolargl\": [{\"marker\": {\"colorbar\": {\"outlinewidth\": 0, \"ticks\": \"\"}}, \"type\": \"scatterpolargl\"}], \"scatterternary\": [{\"marker\": {\"colorbar\": {\"outlinewidth\": 0, \"ticks\": \"\"}}, \"type\": \"scatterternary\"}], \"surface\": [{\"colorbar\": {\"outlinewidth\": 0, \"ticks\": \"\"}, \"colorscale\": [[0.0, \"#0d0887\"], [0.1111111111111111, \"#46039f\"], [0.2222222222222222, \"#7201a8\"], [0.3333333333333333, \"#9c179e\"], [0.4444444444444444, \"#bd3786\"], [0.5555555555555556, \"#d8576b\"], [0.6666666666666666, \"#ed7953\"], [0.7777777777777778, \"#fb9f3a\"], [0.8888888888888888, \"#fdca26\"], [1.0, \"#f0f921\"]], \"type\": \"surface\"}], \"table\": [{\"cells\": {\"fill\": {\"color\": \"#EBF0F8\"}, \"line\": {\"color\": \"white\"}}, \"header\": {\"fill\": {\"color\": \"#C8D4E3\"}, \"line\": {\"color\": \"white\"}}, \"type\": \"table\"}]}, \"layout\": {\"annotationdefaults\": {\"arrowcolor\": \"#2a3f5f\", \"arrowhead\": 0, \"arrowwidth\": 1}, \"autotypenumbers\": \"strict\", \"coloraxis\": {\"colorbar\": {\"outlinewidth\": 0, \"ticks\": \"\"}}, \"colorscale\": {\"diverging\": [[0, \"#8e0152\"], [0.1, \"#c51b7d\"], [0.2, \"#de77ae\"], [0.3, \"#f1b6da\"], [0.4, \"#fde0ef\"], [0.5, \"#f7f7f7\"], [0.6, \"#e6f5d0\"], [0.7, \"#b8e186\"], [0.8, \"#7fbc41\"], [0.9, \"#4d9221\"], [1, \"#276419\"]], \"sequential\": [[0.0, \"#0d0887\"], [0.1111111111111111, \"#46039f\"], [0.2222222222222222, \"#7201a8\"], [0.3333333333333333, \"#9c179e\"], [0.4444444444444444, \"#bd3786\"], [0.5555555555555556, \"#d8576b\"], [0.6666666666666666, \"#ed7953\"], [0.7777777777777778, \"#fb9f3a\"], [0.8888888888888888, \"#fdca26\"], [1.0, \"#f0f921\"]], \"sequentialminus\": [[0.0, \"#0d0887\"], [0.1111111111111111, \"#46039f\"], [0.2222222222222222, \"#7201a8\"], [0.3333333333333333, \"#9c179e\"], [0.4444444444444444, \"#bd3786\"], [0.5555555555555556, \"#d8576b\"], [0.6666666666666666, \"#ed7953\"], [0.7777777777777778, \"#fb9f3a\"], [0.8888888888888888, \"#fdca26\"], [1.0, \"#f0f921\"]]}, \"colorway\": [\"#636efa\", \"#EF553B\", \"#00cc96\", \"#ab63fa\", \"#FFA15A\", \"#19d3f3\", \"#FF6692\", \"#B6E880\", \"#FF97FF\", \"#FECB52\"], \"font\": {\"color\": \"#2a3f5f\"}, \"geo\": {\"bgcolor\": \"white\", \"lakecolor\": \"white\", \"landcolor\": \"#E5ECF6\", \"showlakes\": true, \"showland\": true, \"subunitcolor\": \"white\"}, \"hoverlabel\": {\"align\": \"left\"}, \"hovermode\": \"closest\", \"mapbox\": {\"style\": \"light\"}, \"paper_bgcolor\": \"white\", \"plot_bgcolor\": \"#E5ECF6\", \"polar\": {\"angularaxis\": {\"gridcolor\": \"white\", \"linecolor\": \"white\", \"ticks\": \"\"}, \"bgcolor\": \"#E5ECF6\", \"radialaxis\": {\"gridcolor\": \"white\", \"linecolor\": \"white\", \"ticks\": \"\"}}, \"scene\": {\"xaxis\": {\"backgroundcolor\": \"#E5ECF6\", \"gridcolor\": \"white\", \"gridwidth\": 2, \"linecolor\": \"white\", \"showbackground\": true, \"ticks\": \"\", \"zerolinecolor\": \"white\"}, \"yaxis\": {\"backgroundcolor\": \"#E5ECF6\", \"gridcolor\": \"white\", \"gridwidth\": 2, \"linecolor\": \"white\", \"showbackground\": true, \"ticks\": \"\", \"zerolinecolor\": \"white\"}, \"zaxis\": {\"backgroundcolor\": \"#E5ECF6\", \"gridcolor\": \"white\", \"gridwidth\": 2, \"linecolor\": \"white\", \"showbackground\": true, \"ticks\": \"\", \"zerolinecolor\": \"white\"}}, \"shapedefaults\": {\"line\": {\"color\": \"#2a3f5f\"}}, \"ternary\": {\"aaxis\": {\"gridcolor\": \"white\", \"linecolor\": \"white\", \"ticks\": \"\"}, \"baxis\": {\"gridcolor\": \"white\", \"linecolor\": \"white\", \"ticks\": \"\"}, \"bgcolor\": \"#E5ECF6\", \"caxis\": {\"gridcolor\": \"white\", \"linecolor\": \"white\", \"ticks\": \"\"}}, \"title\": {\"x\": 0.05}, \"xaxis\": {\"automargin\": true, \"gridcolor\": \"white\", \"linecolor\": \"white\", \"ticks\": \"\", \"title\": {\"standoff\": 15}, \"zerolinecolor\": \"white\", \"zerolinewidth\": 2}, \"yaxis\": {\"automargin\": true, \"gridcolor\": \"white\", \"linecolor\": \"white\", \"ticks\": \"\", \"title\": {\"standoff\": 15}, \"zerolinecolor\": \"white\", \"zerolinewidth\": 2}}}, \"width\": 400, \"xaxis\": {\"anchor\": \"y\", \"domain\": [0.0, 1.0], \"title\": {\"text\": \"pc_misperception\"}}, \"yaxis\": {\"anchor\": \"x\", \"domain\": [0.0, 1.0], \"title\": {\"text\": \"deaths_pth\"}}},                        {\"responsive\": true}                    ).then(function(){\n",
       "                            \n",
       "var gd = document.getElementById('fc1cd267-db3b-41df-9eb5-8142c40c3bbd');\n",
       "var x = new MutationObserver(function (mutations, observer) {{\n",
       "        var display = window.getComputedStyle(gd).display;\n",
       "        if (!display || display === 'none') {{\n",
       "            console.log([gd, 'removed!']);\n",
       "            Plotly.purge(gd);\n",
       "            observer.disconnect();\n",
       "        }}\n",
       "}});\n",
       "\n",
       "// Listen for the removal of the full notebook cells\n",
       "var notebookContainer = gd.closest('#notebook-container');\n",
       "if (notebookContainer) {{\n",
       "    x.observe(notebookContainer, {childList: true});\n",
       "}}\n",
       "\n",
       "// Listen for the clearing of the current output cell\n",
       "var outputEl = gd.closest('.output');\n",
       "if (outputEl) {{\n",
       "    x.observe(outputEl, {childList: true});\n",
       "}}\n",
       "\n",
       "                        })                };                });            </script>        </div>"
      ]
     },
     "metadata": {},
     "output_type": "display_data"
    }
   ],
   "source": [
    "fig = px.scatter(us_cross_sectional, x=\"pc_misperception\", y=\"deaths_pth\", hover_data=[\"state\"], trendline=\"ols\", width=400, height=400)\n",
    "fig.show()"
   ]
  },
  {
   "cell_type": "code",
   "execution_count": 147,
   "metadata": {},
   "outputs": [
    {
     "data": {
      "text/html": [
       "<table class=\"simpletable\">\n",
       "<caption>OLS Regression Results</caption>\n",
       "<tr>\n",
       "  <th>Dep. Variable:</th>     <td>positivity_rate</td> <th>  R-squared:         </th> <td>   0.460</td>\n",
       "</tr>\n",
       "<tr>\n",
       "  <th>Model:</th>                   <td>OLS</td>       <th>  Adj. R-squared:    </th> <td>   0.425</td>\n",
       "</tr>\n",
       "<tr>\n",
       "  <th>Method:</th>             <td>Least Squares</td>  <th>  F-statistic:       </th> <td>   13.05</td>\n",
       "</tr>\n",
       "<tr>\n",
       "  <th>Date:</th>             <td>Sat, 20 Feb 2021</td> <th>  Prob (F-statistic):</th> <td>2.70e-06</td>\n",
       "</tr>\n",
       "<tr>\n",
       "  <th>Time:</th>                 <td>20:09:33</td>     <th>  Log-Likelihood:    </th> <td>  87.007</td>\n",
       "</tr>\n",
       "<tr>\n",
       "  <th>No. Observations:</th>      <td>    50</td>      <th>  AIC:               </th> <td>  -166.0</td>\n",
       "</tr>\n",
       "<tr>\n",
       "  <th>Df Residuals:</th>          <td>    46</td>      <th>  BIC:               </th> <td>  -158.4</td>\n",
       "</tr>\n",
       "<tr>\n",
       "  <th>Df Model:</th>              <td>     3</td>      <th>                     </th>     <td> </td>   \n",
       "</tr>\n",
       "<tr>\n",
       "  <th>Covariance Type:</th>      <td>nonrobust</td>    <th>                     </th>     <td> </td>   \n",
       "</tr>\n",
       "</table>\n",
       "<table class=\"simpletable\">\n",
       "<tr>\n",
       "          <td></td>            <th>coef</th>     <th>std err</th>      <th>t</th>      <th>P>|t|</th>  <th>[0.025</th>    <th>0.975]</th>  \n",
       "</tr>\n",
       "<tr>\n",
       "  <th>Intercept</th>        <td>    0.2381</td> <td>    0.092</td> <td>    2.582</td> <td> 0.013</td> <td>    0.053</td> <td>    0.424</td>\n",
       "</tr>\n",
       "<tr>\n",
       "  <th>pc_misperception</th> <td>    0.3726</td> <td>    0.346</td> <td>    1.076</td> <td> 0.288</td> <td>   -0.325</td> <td>    1.070</td>\n",
       "</tr>\n",
       "<tr>\n",
       "  <th>StringencyIndex</th>  <td>   -0.0036</td> <td>    0.001</td> <td>   -5.440</td> <td> 0.000</td> <td>   -0.005</td> <td>   -0.002</td>\n",
       "</tr>\n",
       "<tr>\n",
       "  <th>White</th>            <td>   -0.0117</td> <td>    0.058</td> <td>   -0.201</td> <td> 0.841</td> <td>   -0.128</td> <td>    0.105</td>\n",
       "</tr>\n",
       "</table>\n",
       "<table class=\"simpletable\">\n",
       "<tr>\n",
       "  <th>Omnibus:</th>       <td>28.594</td> <th>  Durbin-Watson:     </th> <td>   1.892</td>\n",
       "</tr>\n",
       "<tr>\n",
       "  <th>Prob(Omnibus):</th> <td> 0.000</td> <th>  Jarque-Bera (JB):  </th> <td>  63.948</td>\n",
       "</tr>\n",
       "<tr>\n",
       "  <th>Skew:</th>          <td> 1.619</td> <th>  Prob(JB):          </th> <td>1.30e-14</td>\n",
       "</tr>\n",
       "<tr>\n",
       "  <th>Kurtosis:</th>      <td> 7.496</td> <th>  Cond. No.          </th> <td>2.90e+03</td>\n",
       "</tr>\n",
       "</table><br/><br/>Notes:<br/>[1] Standard Errors assume that the covariance matrix of the errors is correctly specified.<br/>[2] The condition number is large, 2.9e+03. This might indicate that there are<br/>strong multicollinearity or other numerical problems."
      ],
      "text/plain": [
       "<class 'statsmodels.iolib.summary.Summary'>\n",
       "\"\"\"\n",
       "                            OLS Regression Results                            \n",
       "==============================================================================\n",
       "Dep. Variable:        positivity_rate   R-squared:                       0.460\n",
       "Model:                            OLS   Adj. R-squared:                  0.425\n",
       "Method:                 Least Squares   F-statistic:                     13.05\n",
       "Date:                Sat, 20 Feb 2021   Prob (F-statistic):           2.70e-06\n",
       "Time:                        20:09:33   Log-Likelihood:                 87.007\n",
       "No. Observations:                  50   AIC:                            -166.0\n",
       "Df Residuals:                      46   BIC:                            -158.4\n",
       "Df Model:                           3                                         \n",
       "Covariance Type:            nonrobust                                         \n",
       "====================================================================================\n",
       "                       coef    std err          t      P>|t|      [0.025      0.975]\n",
       "------------------------------------------------------------------------------------\n",
       "Intercept            0.2381      0.092      2.582      0.013       0.053       0.424\n",
       "pc_misperception     0.3726      0.346      1.076      0.288      -0.325       1.070\n",
       "StringencyIndex     -0.0036      0.001     -5.440      0.000      -0.005      -0.002\n",
       "White               -0.0117      0.058     -0.201      0.841      -0.128       0.105\n",
       "==============================================================================\n",
       "Omnibus:                       28.594   Durbin-Watson:                   1.892\n",
       "Prob(Omnibus):                  0.000   Jarque-Bera (JB):               63.948\n",
       "Skew:                           1.619   Prob(JB):                     1.30e-14\n",
       "Kurtosis:                       7.496   Cond. No.                     2.90e+03\n",
       "==============================================================================\n",
       "\n",
       "Notes:\n",
       "[1] Standard Errors assume that the covariance matrix of the errors is correctly specified.\n",
       "[2] The condition number is large, 2.9e+03. This might indicate that there are\n",
       "strong multicollinearity or other numerical problems.\n",
       "\"\"\""
      ]
     },
     "execution_count": 147,
     "metadata": {},
     "output_type": "execute_result"
    }
   ],
   "source": [
    "cross_sectional_reg_2_posrate = smf.ols('positivity_rate ~ pc_misperception + StringencyIndex + White', data=us_cross_sectional).fit()\n",
    "cross_sectional_reg_2_posrate.summary()"
   ]
  },
  {
   "cell_type": "code",
   "execution_count": 148,
   "metadata": {},
   "outputs": [
    {
     "data": {
      "text/html": [
       "<table class=\"simpletable\">\n",
       "<caption>OLS Regression Results</caption>\n",
       "<tr>\n",
       "  <th>Dep. Variable:</th>       <td>deaths_pth</td>    <th>  R-squared:         </th> <td>   0.112</td>\n",
       "</tr>\n",
       "<tr>\n",
       "  <th>Model:</th>                   <td>OLS</td>       <th>  Adj. R-squared:    </th> <td>   0.054</td>\n",
       "</tr>\n",
       "<tr>\n",
       "  <th>Method:</th>             <td>Least Squares</td>  <th>  F-statistic:       </th> <td>   1.931</td>\n",
       "</tr>\n",
       "<tr>\n",
       "  <th>Date:</th>             <td>Sat, 20 Feb 2021</td> <th>  Prob (F-statistic):</th>  <td> 0.138</td> \n",
       "</tr>\n",
       "<tr>\n",
       "  <th>Time:</th>                 <td>20:09:36</td>     <th>  Log-Likelihood:    </th> <td>  255.71</td>\n",
       "</tr>\n",
       "<tr>\n",
       "  <th>No. Observations:</th>      <td>    50</td>      <th>  AIC:               </th> <td>  -503.4</td>\n",
       "</tr>\n",
       "<tr>\n",
       "  <th>Df Residuals:</th>          <td>    46</td>      <th>  BIC:               </th> <td>  -495.8</td>\n",
       "</tr>\n",
       "<tr>\n",
       "  <th>Df Model:</th>              <td>     3</td>      <th>                     </th>     <td> </td>   \n",
       "</tr>\n",
       "<tr>\n",
       "  <th>Covariance Type:</th>      <td>nonrobust</td>    <th>                     </th>     <td> </td>   \n",
       "</tr>\n",
       "</table>\n",
       "<table class=\"simpletable\">\n",
       "<tr>\n",
       "          <td></td>            <th>coef</th>     <th>std err</th>      <th>t</th>      <th>P>|t|</th>  <th>[0.025</th>    <th>0.975]</th>  \n",
       "</tr>\n",
       "<tr>\n",
       "  <th>Intercept</th>        <td>    0.0034</td> <td>    0.003</td> <td>    1.069</td> <td> 0.290</td> <td>   -0.003</td> <td>    0.010</td>\n",
       "</tr>\n",
       "<tr>\n",
       "  <th>pc_misperception</th> <td>    0.0188</td> <td>    0.012</td> <td>    1.587</td> <td> 0.119</td> <td>   -0.005</td> <td>    0.043</td>\n",
       "</tr>\n",
       "<tr>\n",
       "  <th>StringencyIndex</th>  <td>-2.651e-05</td> <td> 2.29e-05</td> <td>   -1.157</td> <td> 0.253</td> <td>-7.26e-05</td> <td> 1.96e-05</td>\n",
       "</tr>\n",
       "<tr>\n",
       "  <th>White</th>            <td>   -0.0011</td> <td>    0.002</td> <td>   -0.563</td> <td> 0.576</td> <td>   -0.005</td> <td>    0.003</td>\n",
       "</tr>\n",
       "</table>\n",
       "<table class=\"simpletable\">\n",
       "<tr>\n",
       "  <th>Omnibus:</th>       <td> 1.165</td> <th>  Durbin-Watson:     </th> <td>   1.813</td>\n",
       "</tr>\n",
       "<tr>\n",
       "  <th>Prob(Omnibus):</th> <td> 0.558</td> <th>  Jarque-Bera (JB):  </th> <td>   0.995</td>\n",
       "</tr>\n",
       "<tr>\n",
       "  <th>Skew:</th>          <td> 0.338</td> <th>  Prob(JB):          </th> <td>   0.608</td>\n",
       "</tr>\n",
       "<tr>\n",
       "  <th>Kurtosis:</th>      <td> 2.852</td> <th>  Cond. No.          </th> <td>2.90e+03</td>\n",
       "</tr>\n",
       "</table><br/><br/>Notes:<br/>[1] Standard Errors assume that the covariance matrix of the errors is correctly specified.<br/>[2] The condition number is large, 2.9e+03. This might indicate that there are<br/>strong multicollinearity or other numerical problems."
      ],
      "text/plain": [
       "<class 'statsmodels.iolib.summary.Summary'>\n",
       "\"\"\"\n",
       "                            OLS Regression Results                            \n",
       "==============================================================================\n",
       "Dep. Variable:             deaths_pth   R-squared:                       0.112\n",
       "Model:                            OLS   Adj. R-squared:                  0.054\n",
       "Method:                 Least Squares   F-statistic:                     1.931\n",
       "Date:                Sat, 20 Feb 2021   Prob (F-statistic):              0.138\n",
       "Time:                        20:09:36   Log-Likelihood:                 255.71\n",
       "No. Observations:                  50   AIC:                            -503.4\n",
       "Df Residuals:                      46   BIC:                            -495.8\n",
       "Df Model:                           3                                         \n",
       "Covariance Type:            nonrobust                                         \n",
       "====================================================================================\n",
       "                       coef    std err          t      P>|t|      [0.025      0.975]\n",
       "------------------------------------------------------------------------------------\n",
       "Intercept            0.0034      0.003      1.069      0.290      -0.003       0.010\n",
       "pc_misperception     0.0188      0.012      1.587      0.119      -0.005       0.043\n",
       "StringencyIndex  -2.651e-05   2.29e-05     -1.157      0.253   -7.26e-05    1.96e-05\n",
       "White               -0.0011      0.002     -0.563      0.576      -0.005       0.003\n",
       "==============================================================================\n",
       "Omnibus:                        1.165   Durbin-Watson:                   1.813\n",
       "Prob(Omnibus):                  0.558   Jarque-Bera (JB):                0.995\n",
       "Skew:                           0.338   Prob(JB):                        0.608\n",
       "Kurtosis:                       2.852   Cond. No.                     2.90e+03\n",
       "==============================================================================\n",
       "\n",
       "Notes:\n",
       "[1] Standard Errors assume that the covariance matrix of the errors is correctly specified.\n",
       "[2] The condition number is large, 2.9e+03. This might indicate that there are\n",
       "strong multicollinearity or other numerical problems.\n",
       "\"\"\""
      ]
     },
     "execution_count": 148,
     "metadata": {},
     "output_type": "execute_result"
    }
   ],
   "source": [
    "cross_sectional_reg_2_dea = smf.ols('deaths_pth ~ pc_misperception + StringencyIndex + White', data=us_cross_sectional).fit()\n",
    "cross_sectional_reg_2_dea.summary()"
   ]
  },
  {
   "cell_type": "code",
   "execution_count": 165,
   "metadata": {},
   "outputs": [
    {
     "data": {
      "text/html": [
       "<table class=\"simpletable\">\n",
       "<caption>OLS Regression Results</caption>\n",
       "<tr>\n",
       "  <th>Dep. Variable:</th>     <td>positivity_rate</td> <th>  R-squared:         </th> <td>   0.123</td>\n",
       "</tr>\n",
       "<tr>\n",
       "  <th>Model:</th>                   <td>OLS</td>       <th>  Adj. R-squared:    </th> <td>   0.065</td>\n",
       "</tr>\n",
       "<tr>\n",
       "  <th>Method:</th>             <td>Least Squares</td>  <th>  F-statistic:       </th> <td>   2.143</td>\n",
       "</tr>\n",
       "<tr>\n",
       "  <th>Date:</th>             <td>Sat, 20 Feb 2021</td> <th>  Prob (F-statistic):</th>  <td> 0.108</td> \n",
       "</tr>\n",
       "<tr>\n",
       "  <th>Time:</th>                 <td>20:18:23</td>     <th>  Log-Likelihood:    </th> <td>  74.885</td>\n",
       "</tr>\n",
       "<tr>\n",
       "  <th>No. Observations:</th>      <td>    50</td>      <th>  AIC:               </th> <td>  -141.8</td>\n",
       "</tr>\n",
       "<tr>\n",
       "  <th>Df Residuals:</th>          <td>    46</td>      <th>  BIC:               </th> <td>  -134.1</td>\n",
       "</tr>\n",
       "<tr>\n",
       "  <th>Df Model:</th>              <td>     3</td>      <th>                     </th>     <td> </td>   \n",
       "</tr>\n",
       "<tr>\n",
       "  <th>Covariance Type:</th>      <td>nonrobust</td>    <th>                     </th>     <td> </td>   \n",
       "</tr>\n",
       "</table>\n",
       "<table class=\"simpletable\">\n",
       "<tr>\n",
       "          <td></td>             <th>coef</th>     <th>std err</th>      <th>t</th>      <th>P>|t|</th>  <th>[0.025</th>    <th>0.975]</th>  \n",
       "</tr>\n",
       "<tr>\n",
       "  <th>Intercept</th>         <td>   -0.0442</td> <td>    0.116</td> <td>   -0.382</td> <td> 0.704</td> <td>   -0.277</td> <td>    0.188</td>\n",
       "</tr>\n",
       "<tr>\n",
       "  <th>pc_misperception</th>  <td>    0.8958</td> <td>    0.427</td> <td>    2.099</td> <td> 0.041</td> <td>    0.037</td> <td>    1.755</td>\n",
       "</tr>\n",
       "<tr>\n",
       "  <th>White</th>             <td>    0.0635</td> <td>    0.076</td> <td>    0.841</td> <td> 0.405</td> <td>   -0.089</td> <td>    0.216</td>\n",
       "</tr>\n",
       "<tr>\n",
       "  <th>Urbanization_rate</th> <td>   -0.0004</td> <td>    0.001</td> <td>   -0.741</td> <td> 0.463</td> <td>   -0.002</td> <td>    0.001</td>\n",
       "</tr>\n",
       "</table>\n",
       "<table class=\"simpletable\">\n",
       "<tr>\n",
       "  <th>Omnibus:</th>       <td>21.404</td> <th>  Durbin-Watson:     </th> <td>   1.809</td>\n",
       "</tr>\n",
       "<tr>\n",
       "  <th>Prob(Omnibus):</th> <td> 0.000</td> <th>  Jarque-Bera (JB):  </th> <td>  31.318</td>\n",
       "</tr>\n",
       "<tr>\n",
       "  <th>Skew:</th>          <td> 1.439</td> <th>  Prob(JB):          </th> <td>1.58e-07</td>\n",
       "</tr>\n",
       "<tr>\n",
       "  <th>Kurtosis:</th>      <td> 5.599</td> <th>  Cond. No.          </th> <td>4.09e+03</td>\n",
       "</tr>\n",
       "</table><br/><br/>Notes:<br/>[1] Standard Errors assume that the covariance matrix of the errors is correctly specified.<br/>[2] The condition number is large, 4.09e+03. This might indicate that there are<br/>strong multicollinearity or other numerical problems."
      ],
      "text/plain": [
       "<class 'statsmodels.iolib.summary.Summary'>\n",
       "\"\"\"\n",
       "                            OLS Regression Results                            \n",
       "==============================================================================\n",
       "Dep. Variable:        positivity_rate   R-squared:                       0.123\n",
       "Model:                            OLS   Adj. R-squared:                  0.065\n",
       "Method:                 Least Squares   F-statistic:                     2.143\n",
       "Date:                Sat, 20 Feb 2021   Prob (F-statistic):              0.108\n",
       "Time:                        20:18:23   Log-Likelihood:                 74.885\n",
       "No. Observations:                  50   AIC:                            -141.8\n",
       "Df Residuals:                      46   BIC:                            -134.1\n",
       "Df Model:                           3                                         \n",
       "Covariance Type:            nonrobust                                         \n",
       "=====================================================================================\n",
       "                        coef    std err          t      P>|t|      [0.025      0.975]\n",
       "-------------------------------------------------------------------------------------\n",
       "Intercept            -0.0442      0.116     -0.382      0.704      -0.277       0.188\n",
       "pc_misperception      0.8958      0.427      2.099      0.041       0.037       1.755\n",
       "White                 0.0635      0.076      0.841      0.405      -0.089       0.216\n",
       "Urbanization_rate    -0.0004      0.001     -0.741      0.463      -0.002       0.001\n",
       "==============================================================================\n",
       "Omnibus:                       21.404   Durbin-Watson:                   1.809\n",
       "Prob(Omnibus):                  0.000   Jarque-Bera (JB):               31.318\n",
       "Skew:                           1.439   Prob(JB):                     1.58e-07\n",
       "Kurtosis:                       5.599   Cond. No.                     4.09e+03\n",
       "==============================================================================\n",
       "\n",
       "Notes:\n",
       "[1] Standard Errors assume that the covariance matrix of the errors is correctly specified.\n",
       "[2] The condition number is large, 4.09e+03. This might indicate that there are\n",
       "strong multicollinearity or other numerical problems.\n",
       "\"\"\""
      ]
     },
     "execution_count": 165,
     "metadata": {},
     "output_type": "execute_result"
    }
   ],
   "source": [
    "cross_sectional_reg_3_posrate = smf.ols('positivity_rate ~ pc_misperception + White + Urbanization_rate', data=us_cross_sectional).fit()\n",
    "cross_sectional_reg_3_posrate.summary()"
   ]
  },
  {
   "cell_type": "code",
   "execution_count": 166,
   "metadata": {},
   "outputs": [
    {
     "data": {
      "text/html": [
       "<table class=\"simpletable\">\n",
       "<caption>OLS Regression Results</caption>\n",
       "<tr>\n",
       "  <th>Dep. Variable:</th>       <td>deaths_pth</td>    <th>  R-squared:         </th> <td>   0.144</td>\n",
       "</tr>\n",
       "<tr>\n",
       "  <th>Model:</th>                   <td>OLS</td>       <th>  Adj. R-squared:    </th> <td>   0.088</td>\n",
       "</tr>\n",
       "<tr>\n",
       "  <th>Method:</th>             <td>Least Squares</td>  <th>  F-statistic:       </th> <td>   2.572</td>\n",
       "</tr>\n",
       "<tr>\n",
       "  <th>Date:</th>             <td>Sat, 20 Feb 2021</td> <th>  Prob (F-statistic):</th>  <td>0.0655</td> \n",
       "</tr>\n",
       "<tr>\n",
       "  <th>Time:</th>                 <td>20:18:23</td>     <th>  Log-Likelihood:    </th> <td>  256.63</td>\n",
       "</tr>\n",
       "<tr>\n",
       "  <th>No. Observations:</th>      <td>    50</td>      <th>  AIC:               </th> <td>  -505.3</td>\n",
       "</tr>\n",
       "<tr>\n",
       "  <th>Df Residuals:</th>          <td>    46</td>      <th>  BIC:               </th> <td>  -497.6</td>\n",
       "</tr>\n",
       "<tr>\n",
       "  <th>Df Model:</th>              <td>     3</td>      <th>                     </th>     <td> </td>   \n",
       "</tr>\n",
       "<tr>\n",
       "  <th>Covariance Type:</th>      <td>nonrobust</td>    <th>                     </th>     <td> </td>   \n",
       "</tr>\n",
       "</table>\n",
       "<table class=\"simpletable\">\n",
       "<tr>\n",
       "          <td></td>             <th>coef</th>     <th>std err</th>      <th>t</th>      <th>P>|t|</th>  <th>[0.025</th>    <th>0.975]</th>  \n",
       "</tr>\n",
       "<tr>\n",
       "  <th>Intercept</th>         <td>   -0.0026</td> <td>    0.003</td> <td>   -0.866</td> <td> 0.391</td> <td>   -0.009</td> <td>    0.003</td>\n",
       "</tr>\n",
       "<tr>\n",
       "  <th>pc_misperception</th>  <td>    0.0266</td> <td>    0.011</td> <td>    2.358</td> <td> 0.023</td> <td>    0.004</td> <td>    0.049</td>\n",
       "</tr>\n",
       "<tr>\n",
       "  <th>White</th>             <td>    0.0009</td> <td>    0.002</td> <td>    0.435</td> <td> 0.665</td> <td>   -0.003</td> <td>    0.005</td>\n",
       "</tr>\n",
       "<tr>\n",
       "  <th>Urbanization_rate</th> <td>  2.78e-05</td> <td> 1.58e-05</td> <td>    1.760</td> <td> 0.085</td> <td>   -4e-06</td> <td> 5.96e-05</td>\n",
       "</tr>\n",
       "</table>\n",
       "<table class=\"simpletable\">\n",
       "<tr>\n",
       "  <th>Omnibus:</th>       <td> 0.817</td> <th>  Durbin-Watson:     </th> <td>   1.984</td>\n",
       "</tr>\n",
       "<tr>\n",
       "  <th>Prob(Omnibus):</th> <td> 0.665</td> <th>  Jarque-Bera (JB):  </th> <td>   0.832</td>\n",
       "</tr>\n",
       "<tr>\n",
       "  <th>Skew:</th>          <td> 0.119</td> <th>  Prob(JB):          </th> <td>   0.660</td>\n",
       "</tr>\n",
       "<tr>\n",
       "  <th>Kurtosis:</th>      <td> 2.415</td> <th>  Cond. No.          </th> <td>4.09e+03</td>\n",
       "</tr>\n",
       "</table><br/><br/>Notes:<br/>[1] Standard Errors assume that the covariance matrix of the errors is correctly specified.<br/>[2] The condition number is large, 4.09e+03. This might indicate that there are<br/>strong multicollinearity or other numerical problems."
      ],
      "text/plain": [
       "<class 'statsmodels.iolib.summary.Summary'>\n",
       "\"\"\"\n",
       "                            OLS Regression Results                            \n",
       "==============================================================================\n",
       "Dep. Variable:             deaths_pth   R-squared:                       0.144\n",
       "Model:                            OLS   Adj. R-squared:                  0.088\n",
       "Method:                 Least Squares   F-statistic:                     2.572\n",
       "Date:                Sat, 20 Feb 2021   Prob (F-statistic):             0.0655\n",
       "Time:                        20:18:23   Log-Likelihood:                 256.63\n",
       "No. Observations:                  50   AIC:                            -505.3\n",
       "Df Residuals:                      46   BIC:                            -497.6\n",
       "Df Model:                           3                                         \n",
       "Covariance Type:            nonrobust                                         \n",
       "=====================================================================================\n",
       "                        coef    std err          t      P>|t|      [0.025      0.975]\n",
       "-------------------------------------------------------------------------------------\n",
       "Intercept            -0.0026      0.003     -0.866      0.391      -0.009       0.003\n",
       "pc_misperception      0.0266      0.011      2.358      0.023       0.004       0.049\n",
       "White                 0.0009      0.002      0.435      0.665      -0.003       0.005\n",
       "Urbanization_rate   2.78e-05   1.58e-05      1.760      0.085      -4e-06    5.96e-05\n",
       "==============================================================================\n",
       "Omnibus:                        0.817   Durbin-Watson:                   1.984\n",
       "Prob(Omnibus):                  0.665   Jarque-Bera (JB):                0.832\n",
       "Skew:                           0.119   Prob(JB):                        0.660\n",
       "Kurtosis:                       2.415   Cond. No.                     4.09e+03\n",
       "==============================================================================\n",
       "\n",
       "Notes:\n",
       "[1] Standard Errors assume that the covariance matrix of the errors is correctly specified.\n",
       "[2] The condition number is large, 4.09e+03. This might indicate that there are\n",
       "strong multicollinearity or other numerical problems.\n",
       "\"\"\""
      ]
     },
     "execution_count": 166,
     "metadata": {},
     "output_type": "execute_result"
    }
   ],
   "source": [
    "cross_sectional_reg_3_dea = smf.ols('deaths_pth ~ pc_misperception + White + Urbanization_rate', data=us_cross_sectional).fit()\n",
    "cross_sectional_reg_3_dea.summary()"
   ]
  },
  {
   "cell_type": "code",
   "execution_count": 181,
   "metadata": {},
   "outputs": [
    {
     "name": "stdout",
     "output_type": "stream",
     "text": [
      "\\begin{table}\n",
      "\\caption{}\n",
      "\\label{}\n",
      "\\begin{center}\n",
      "\\begin{tabular}{lllll}\n",
      "\\hline\n",
      "                              & positivity\\_rate I & deaths\\_pth I & positivity\\_rate II & deaths\\_pth II  \\\\\n",
      "\\hline\n",
      "Intercept                     & -0.044             & -0.003        & 0.078               & -0.002          \\\\\n",
      "                              & (0.116)            & (0.003)       & (0.125)             & (0.003)         \\\\\n",
      "Percent\\_bachelor\\_or\\_higher &                    &               & -0.004**            & -0.000          \\\\\n",
      "                              &                    &               & (0.002)             & (0.000)         \\\\\n",
      "R-squared                     & 0.123              & 0.144         & 0.202               & 0.146           \\\\\n",
      "R-squared Adj.                & 0.065              & 0.088         & 0.131               & 0.071           \\\\\n",
      "Urbanization\\_rate            & -0.000             & 0.000*        & 0.000               & 0.000*          \\\\\n",
      "                              & (0.001)            & (0.000)       & (0.001)             & (0.000)         \\\\\n",
      "White                         & 0.064              & 0.001         & 0.076               & 0.001           \\\\\n",
      "                              & (0.076)            & (0.002)       & (0.073)             & (0.002)         \\\\\n",
      "pc\\_misperception             & 0.896**            & 0.027**       & 0.504               & 0.025*          \\\\\n",
      "                              & (0.427)            & (0.011)       & (0.451)             & (0.012)         \\\\\n",
      "\\hline\n",
      "\\end{tabular}\n",
      "\\end{center}\n",
      "\\end{table}\n"
     ]
    }
   ],
   "source": [
    "print(summary_col([cross_sectional_reg_3_posrate, cross_sectional_reg_3_dea, cross_sectional_reg_4_posrate, cross_sectional_reg_4_dea],stars=True, float_format=\"%0.3f\").as_latex())"
   ]
  },
  {
   "cell_type": "code",
   "execution_count": null,
   "metadata": {},
   "outputs": [],
   "source": [
    "'Percent_less_than_high_school',\n",
    "       'Percent_bachelor_or_higher', 'Percent_some_college_or_associate',\n",
    "       'Percent_high_school_only', 'AverageTemperature', 'Urbanization_rate'"
   ]
  },
  {
   "cell_type": "code",
   "execution_count": 178,
   "metadata": {},
   "outputs": [
    {
     "data": {
      "text/html": [
       "<table class=\"simpletable\">\n",
       "<caption>OLS Regression Results</caption>\n",
       "<tr>\n",
       "  <th>Dep. Variable:</th>     <td>positivity_rate</td> <th>  R-squared:         </th> <td>   0.202</td>\n",
       "</tr>\n",
       "<tr>\n",
       "  <th>Model:</th>                   <td>OLS</td>       <th>  Adj. R-squared:    </th> <td>   0.131</td>\n",
       "</tr>\n",
       "<tr>\n",
       "  <th>Method:</th>             <td>Least Squares</td>  <th>  F-statistic:       </th> <td>   2.849</td>\n",
       "</tr>\n",
       "<tr>\n",
       "  <th>Date:</th>             <td>Sat, 20 Feb 2021</td> <th>  Prob (F-statistic):</th>  <td>0.0345</td> \n",
       "</tr>\n",
       "<tr>\n",
       "  <th>Time:</th>                 <td>20:24:31</td>     <th>  Log-Likelihood:    </th> <td>  77.258</td>\n",
       "</tr>\n",
       "<tr>\n",
       "  <th>No. Observations:</th>      <td>    50</td>      <th>  AIC:               </th> <td>  -144.5</td>\n",
       "</tr>\n",
       "<tr>\n",
       "  <th>Df Residuals:</th>          <td>    45</td>      <th>  BIC:               </th> <td>  -135.0</td>\n",
       "</tr>\n",
       "<tr>\n",
       "  <th>Df Model:</th>              <td>     4</td>      <th>                     </th>     <td> </td>   \n",
       "</tr>\n",
       "<tr>\n",
       "  <th>Covariance Type:</th>      <td>nonrobust</td>    <th>                     </th>     <td> </td>   \n",
       "</tr>\n",
       "</table>\n",
       "<table class=\"simpletable\">\n",
       "<tr>\n",
       "               <td></td>                 <th>coef</th>     <th>std err</th>      <th>t</th>      <th>P>|t|</th>  <th>[0.025</th>    <th>0.975]</th>  \n",
       "</tr>\n",
       "<tr>\n",
       "  <th>Intercept</th>                  <td>    0.0775</td> <td>    0.125</td> <td>    0.618</td> <td> 0.539</td> <td>   -0.175</td> <td>    0.330</td>\n",
       "</tr>\n",
       "<tr>\n",
       "  <th>pc_misperception</th>           <td>    0.5040</td> <td>    0.451</td> <td>    1.117</td> <td> 0.270</td> <td>   -0.405</td> <td>    1.413</td>\n",
       "</tr>\n",
       "<tr>\n",
       "  <th>White</th>                      <td>    0.0762</td> <td>    0.073</td> <td>    1.043</td> <td> 0.302</td> <td>   -0.071</td> <td>    0.223</td>\n",
       "</tr>\n",
       "<tr>\n",
       "  <th>Urbanization_rate</th>          <td>    0.0002</td> <td>    0.001</td> <td>    0.252</td> <td> 0.802</td> <td>   -0.001</td> <td>    0.001</td>\n",
       "</tr>\n",
       "<tr>\n",
       "  <th>Percent_bachelor_or_higher</th> <td>   -0.0040</td> <td>    0.002</td> <td>   -2.117</td> <td> 0.040</td> <td>   -0.008</td> <td>   -0.000</td>\n",
       "</tr>\n",
       "</table>\n",
       "<table class=\"simpletable\">\n",
       "<tr>\n",
       "  <th>Omnibus:</th>       <td>21.571</td> <th>  Durbin-Watson:     </th> <td>   1.924</td>\n",
       "</tr>\n",
       "<tr>\n",
       "  <th>Prob(Omnibus):</th> <td> 0.000</td> <th>  Jarque-Bera (JB):  </th> <td>  30.793</td>\n",
       "</tr>\n",
       "<tr>\n",
       "  <th>Skew:</th>          <td> 1.482</td> <th>  Prob(JB):          </th> <td>2.06e-07</td>\n",
       "</tr>\n",
       "<tr>\n",
       "  <th>Kurtosis:</th>      <td> 5.450</td> <th>  Cond. No.          </th> <td>4.86e+03</td>\n",
       "</tr>\n",
       "</table><br/><br/>Notes:<br/>[1] Standard Errors assume that the covariance matrix of the errors is correctly specified.<br/>[2] The condition number is large, 4.86e+03. This might indicate that there are<br/>strong multicollinearity or other numerical problems."
      ],
      "text/plain": [
       "<class 'statsmodels.iolib.summary.Summary'>\n",
       "\"\"\"\n",
       "                            OLS Regression Results                            \n",
       "==============================================================================\n",
       "Dep. Variable:        positivity_rate   R-squared:                       0.202\n",
       "Model:                            OLS   Adj. R-squared:                  0.131\n",
       "Method:                 Least Squares   F-statistic:                     2.849\n",
       "Date:                Sat, 20 Feb 2021   Prob (F-statistic):             0.0345\n",
       "Time:                        20:24:31   Log-Likelihood:                 77.258\n",
       "No. Observations:                  50   AIC:                            -144.5\n",
       "Df Residuals:                      45   BIC:                            -135.0\n",
       "Df Model:                           4                                         \n",
       "Covariance Type:            nonrobust                                         \n",
       "==============================================================================================\n",
       "                                 coef    std err          t      P>|t|      [0.025      0.975]\n",
       "----------------------------------------------------------------------------------------------\n",
       "Intercept                      0.0775      0.125      0.618      0.539      -0.175       0.330\n",
       "pc_misperception               0.5040      0.451      1.117      0.270      -0.405       1.413\n",
       "White                          0.0762      0.073      1.043      0.302      -0.071       0.223\n",
       "Urbanization_rate              0.0002      0.001      0.252      0.802      -0.001       0.001\n",
       "Percent_bachelor_or_higher    -0.0040      0.002     -2.117      0.040      -0.008      -0.000\n",
       "==============================================================================\n",
       "Omnibus:                       21.571   Durbin-Watson:                   1.924\n",
       "Prob(Omnibus):                  0.000   Jarque-Bera (JB):               30.793\n",
       "Skew:                           1.482   Prob(JB):                     2.06e-07\n",
       "Kurtosis:                       5.450   Cond. No.                     4.86e+03\n",
       "==============================================================================\n",
       "\n",
       "Notes:\n",
       "[1] Standard Errors assume that the covariance matrix of the errors is correctly specified.\n",
       "[2] The condition number is large, 4.86e+03. This might indicate that there are\n",
       "strong multicollinearity or other numerical problems.\n",
       "\"\"\""
      ]
     },
     "execution_count": 178,
     "metadata": {},
     "output_type": "execute_result"
    }
   ],
   "source": [
    "cross_sectional_reg_4_posrate = smf.ols('positivity_rate ~ pc_misperception + White + Urbanization_rate + Percent_bachelor_or_higher', data=us_cross_sectional).fit()\n",
    "cross_sectional_reg_4_posrate.summary()"
   ]
  },
  {
   "cell_type": "code",
   "execution_count": 179,
   "metadata": {},
   "outputs": [
    {
     "data": {
      "text/html": [
       "<table class=\"simpletable\">\n",
       "<caption>OLS Regression Results</caption>\n",
       "<tr>\n",
       "  <th>Dep. Variable:</th>       <td>deaths_pth</td>    <th>  R-squared:         </th> <td>   0.146</td>\n",
       "</tr>\n",
       "<tr>\n",
       "  <th>Model:</th>                   <td>OLS</td>       <th>  Adj. R-squared:    </th> <td>   0.071</td>\n",
       "</tr>\n",
       "<tr>\n",
       "  <th>Method:</th>             <td>Least Squares</td>  <th>  F-statistic:       </th> <td>   1.931</td>\n",
       "</tr>\n",
       "<tr>\n",
       "  <th>Date:</th>             <td>Sat, 20 Feb 2021</td> <th>  Prob (F-statistic):</th>  <td> 0.122</td> \n",
       "</tr>\n",
       "<tr>\n",
       "  <th>Time:</th>                 <td>20:24:36</td>     <th>  Log-Likelihood:    </th> <td>  256.71</td>\n",
       "</tr>\n",
       "<tr>\n",
       "  <th>No. Observations:</th>      <td>    50</td>      <th>  AIC:               </th> <td>  -503.4</td>\n",
       "</tr>\n",
       "<tr>\n",
       "  <th>Df Residuals:</th>          <td>    45</td>      <th>  BIC:               </th> <td>  -493.9</td>\n",
       "</tr>\n",
       "<tr>\n",
       "  <th>Df Model:</th>              <td>     4</td>      <th>                     </th>     <td> </td>   \n",
       "</tr>\n",
       "<tr>\n",
       "  <th>Covariance Type:</th>      <td>nonrobust</td>    <th>                     </th>     <td> </td>   \n",
       "</tr>\n",
       "</table>\n",
       "<table class=\"simpletable\">\n",
       "<tr>\n",
       "               <td></td>                 <th>coef</th>     <th>std err</th>      <th>t</th>      <th>P>|t|</th>  <th>[0.025</th>    <th>0.975]</th>  \n",
       "</tr>\n",
       "<tr>\n",
       "  <th>Intercept</th>                  <td>   -0.0020</td> <td>    0.003</td> <td>   -0.586</td> <td> 0.561</td> <td>   -0.009</td> <td>    0.005</td>\n",
       "</tr>\n",
       "<tr>\n",
       "  <th>pc_misperception</th>           <td>    0.0246</td> <td>    0.012</td> <td>    1.972</td> <td> 0.055</td> <td>   -0.001</td> <td>    0.050</td>\n",
       "</tr>\n",
       "<tr>\n",
       "  <th>White</th>                      <td>    0.0009</td> <td>    0.002</td> <td>    0.462</td> <td> 0.647</td> <td>   -0.003</td> <td>    0.005</td>\n",
       "</tr>\n",
       "<tr>\n",
       "  <th>Urbanization_rate</th>          <td> 3.085e-05</td> <td> 1.78e-05</td> <td>    1.733</td> <td> 0.090</td> <td>   -5e-06</td> <td> 6.67e-05</td>\n",
       "</tr>\n",
       "<tr>\n",
       "  <th>Percent_bachelor_or_higher</th> <td>    -2e-05</td> <td>  5.2e-05</td> <td>   -0.385</td> <td> 0.702</td> <td>   -0.000</td> <td> 8.46e-05</td>\n",
       "</tr>\n",
       "</table>\n",
       "<table class=\"simpletable\">\n",
       "<tr>\n",
       "  <th>Omnibus:</th>       <td> 0.663</td> <th>  Durbin-Watson:     </th> <td>   1.983</td>\n",
       "</tr>\n",
       "<tr>\n",
       "  <th>Prob(Omnibus):</th> <td> 0.718</td> <th>  Jarque-Bera (JB):  </th> <td>   0.775</td>\n",
       "</tr>\n",
       "<tr>\n",
       "  <th>Skew:</th>          <td> 0.179</td> <th>  Prob(JB):          </th> <td>   0.679</td>\n",
       "</tr>\n",
       "<tr>\n",
       "  <th>Kurtosis:</th>      <td> 2.506</td> <th>  Cond. No.          </th> <td>4.86e+03</td>\n",
       "</tr>\n",
       "</table><br/><br/>Notes:<br/>[1] Standard Errors assume that the covariance matrix of the errors is correctly specified.<br/>[2] The condition number is large, 4.86e+03. This might indicate that there are<br/>strong multicollinearity or other numerical problems."
      ],
      "text/plain": [
       "<class 'statsmodels.iolib.summary.Summary'>\n",
       "\"\"\"\n",
       "                            OLS Regression Results                            \n",
       "==============================================================================\n",
       "Dep. Variable:             deaths_pth   R-squared:                       0.146\n",
       "Model:                            OLS   Adj. R-squared:                  0.071\n",
       "Method:                 Least Squares   F-statistic:                     1.931\n",
       "Date:                Sat, 20 Feb 2021   Prob (F-statistic):              0.122\n",
       "Time:                        20:24:36   Log-Likelihood:                 256.71\n",
       "No. Observations:                  50   AIC:                            -503.4\n",
       "Df Residuals:                      45   BIC:                            -493.9\n",
       "Df Model:                           4                                         \n",
       "Covariance Type:            nonrobust                                         \n",
       "==============================================================================================\n",
       "                                 coef    std err          t      P>|t|      [0.025      0.975]\n",
       "----------------------------------------------------------------------------------------------\n",
       "Intercept                     -0.0020      0.003     -0.586      0.561      -0.009       0.005\n",
       "pc_misperception               0.0246      0.012      1.972      0.055      -0.001       0.050\n",
       "White                          0.0009      0.002      0.462      0.647      -0.003       0.005\n",
       "Urbanization_rate           3.085e-05   1.78e-05      1.733      0.090      -5e-06    6.67e-05\n",
       "Percent_bachelor_or_higher     -2e-05    5.2e-05     -0.385      0.702      -0.000    8.46e-05\n",
       "==============================================================================\n",
       "Omnibus:                        0.663   Durbin-Watson:                   1.983\n",
       "Prob(Omnibus):                  0.718   Jarque-Bera (JB):                0.775\n",
       "Skew:                           0.179   Prob(JB):                        0.679\n",
       "Kurtosis:                       2.506   Cond. No.                     4.86e+03\n",
       "==============================================================================\n",
       "\n",
       "Notes:\n",
       "[1] Standard Errors assume that the covariance matrix of the errors is correctly specified.\n",
       "[2] The condition number is large, 4.86e+03. This might indicate that there are\n",
       "strong multicollinearity or other numerical problems.\n",
       "\"\"\""
      ]
     },
     "execution_count": 179,
     "metadata": {},
     "output_type": "execute_result"
    }
   ],
   "source": [
    "cross_sectional_reg_4_dea = smf.ols('deaths_pth ~ pc_misperception + White + Urbanization_rate + Percent_bachelor_or_higher', data=us_cross_sectional).fit()\n",
    "cross_sectional_reg_4_dea.summary()"
   ]
  },
  {
   "cell_type": "code",
   "execution_count": 180,
   "metadata": {},
   "outputs": [
    {
     "name": "stdout",
     "output_type": "stream",
     "text": [
      "\\begin{table}\n",
      "\\caption{}\n",
      "\\label{}\n",
      "\\begin{center}\n",
      "\\begin{tabular}{lll}\n",
      "\\hline\n",
      "                              & positivity\\_rate & deaths\\_pth  \\\\\n",
      "\\hline\n",
      "Intercept                     & 0.078            & -0.002       \\\\\n",
      "                              & (0.125)          & (0.003)      \\\\\n",
      "pc\\_misperception             & 0.504            & 0.025*       \\\\\n",
      "                              & (0.451)          & (0.012)      \\\\\n",
      "White                         & 0.076            & 0.001        \\\\\n",
      "                              & (0.073)          & (0.002)      \\\\\n",
      "Urbanization\\_rate            & 0.000            & 0.000*       \\\\\n",
      "                              & (0.001)          & (0.000)      \\\\\n",
      "Percent\\_bachelor\\_or\\_higher & -0.004**         & -0.000       \\\\\n",
      "                              & (0.002)          & (0.000)      \\\\\n",
      "R-squared                     & 0.202            & 0.146        \\\\\n",
      "R-squared Adj.                & 0.131            & 0.071        \\\\\n",
      "\\hline\n",
      "\\end{tabular}\n",
      "\\end{center}\n",
      "\\end{table}\n"
     ]
    }
   ],
   "source": [
    "print(summary_col([cross_sectional_reg_4_posrate, cross_sectional_reg_4_dea],stars=True, float_format=\"%0.3f\").as_latex())"
   ]
  },
  {
   "cell_type": "markdown",
   "metadata": {},
   "source": [
    "Nothing really interesting here. "
   ]
  },
  {
   "cell_type": "markdown",
   "metadata": {},
   "source": [
    "## Relationship between misperception and mobility"
   ]
  },
  {
   "cell_type": "code",
   "execution_count": 50,
   "metadata": {},
   "outputs": [
    {
     "data": {
      "text/html": [
       "<table class=\"simpletable\">\n",
       "<caption>OLS Regression Results</caption>\n",
       "<tr>\n",
       "  <th>Dep. Variable:</th>          <td>very</td>       <th>  R-squared:         </th> <td>   0.542</td>\n",
       "</tr>\n",
       "<tr>\n",
       "  <th>Model:</th>                   <td>OLS</td>       <th>  Adj. R-squared:    </th> <td>   0.501</td>\n",
       "</tr>\n",
       "<tr>\n",
       "  <th>Method:</th>             <td>Least Squares</td>  <th>  F-statistic:       </th> <td>   13.29</td>\n",
       "</tr>\n",
       "<tr>\n",
       "  <th>Date:</th>             <td>Sat, 20 Feb 2021</td> <th>  Prob (F-statistic):</th> <td>3.15e-07</td>\n",
       "</tr>\n",
       "<tr>\n",
       "  <th>Time:</th>                 <td>18:08:22</td>     <th>  Log-Likelihood:    </th> <td> -140.94</td>\n",
       "</tr>\n",
       "<tr>\n",
       "  <th>No. Observations:</th>      <td>    50</td>      <th>  AIC:               </th> <td>   291.9</td>\n",
       "</tr>\n",
       "<tr>\n",
       "  <th>Df Residuals:</th>          <td>    45</td>      <th>  BIC:               </th> <td>   301.4</td>\n",
       "</tr>\n",
       "<tr>\n",
       "  <th>Df Model:</th>              <td>     4</td>      <th>                     </th>     <td> </td>   \n",
       "</tr>\n",
       "<tr>\n",
       "  <th>Covariance Type:</th>      <td>nonrobust</td>    <th>                     </th>     <td> </td>   \n",
       "</tr>\n",
       "</table>\n",
       "<table class=\"simpletable\">\n",
       "<tr>\n",
       "          <td></td>             <th>coef</th>     <th>std err</th>      <th>t</th>      <th>P>|t|</th>  <th>[0.025</th>    <th>0.975]</th>  \n",
       "</tr>\n",
       "<tr>\n",
       "  <th>Intercept</th>         <td>   36.9036</td> <td>   10.152</td> <td>    3.635</td> <td> 0.001</td> <td>   16.456</td> <td>   57.351</td>\n",
       "</tr>\n",
       "<tr>\n",
       "  <th>pc_misperception</th>  <td>   55.7843</td> <td>   33.694</td> <td>    1.656</td> <td> 0.105</td> <td>  -12.079</td> <td>  123.648</td>\n",
       "</tr>\n",
       "<tr>\n",
       "  <th>StringencyIndex</th>   <td>    0.3432</td> <td>    0.065</td> <td>    5.243</td> <td> 0.000</td> <td>    0.211</td> <td>    0.475</td>\n",
       "</tr>\n",
       "<tr>\n",
       "  <th>White</th>             <td>   -6.8240</td> <td>    5.887</td> <td>   -1.159</td> <td> 0.253</td> <td>  -18.681</td> <td>    5.033</td>\n",
       "</tr>\n",
       "<tr>\n",
       "  <th>Urbanization_rate</th> <td>    0.1070</td> <td>    0.046</td> <td>    2.329</td> <td> 0.024</td> <td>    0.014</td> <td>    0.200</td>\n",
       "</tr>\n",
       "</table>\n",
       "<table class=\"simpletable\">\n",
       "<tr>\n",
       "  <th>Omnibus:</th>       <td> 1.899</td> <th>  Durbin-Watson:     </th> <td>   1.538</td>\n",
       "</tr>\n",
       "<tr>\n",
       "  <th>Prob(Omnibus):</th> <td> 0.387</td> <th>  Jarque-Bera (JB):  </th> <td>   1.603</td>\n",
       "</tr>\n",
       "<tr>\n",
       "  <th>Skew:</th>          <td>-0.435</td> <th>  Prob(JB):          </th> <td>   0.449</td>\n",
       "</tr>\n",
       "<tr>\n",
       "  <th>Kurtosis:</th>      <td> 2.887</td> <th>  Cond. No.          </th> <td>5.16e+03</td>\n",
       "</tr>\n",
       "</table><br/><br/>Notes:<br/>[1] Standard Errors assume that the covariance matrix of the errors is correctly specified.<br/>[2] The condition number is large, 5.16e+03. This might indicate that there are<br/>strong multicollinearity or other numerical problems."
      ],
      "text/plain": [
       "<class 'statsmodels.iolib.summary.Summary'>\n",
       "\"\"\"\n",
       "                            OLS Regression Results                            \n",
       "==============================================================================\n",
       "Dep. Variable:                   very   R-squared:                       0.542\n",
       "Model:                            OLS   Adj. R-squared:                  0.501\n",
       "Method:                 Least Squares   F-statistic:                     13.29\n",
       "Date:                Sat, 20 Feb 2021   Prob (F-statistic):           3.15e-07\n",
       "Time:                        18:08:22   Log-Likelihood:                -140.94\n",
       "No. Observations:                  50   AIC:                             291.9\n",
       "Df Residuals:                      45   BIC:                             301.4\n",
       "Df Model:                           4                                         \n",
       "Covariance Type:            nonrobust                                         \n",
       "=====================================================================================\n",
       "                        coef    std err          t      P>|t|      [0.025      0.975]\n",
       "-------------------------------------------------------------------------------------\n",
       "Intercept            36.9036     10.152      3.635      0.001      16.456      57.351\n",
       "pc_misperception     55.7843     33.694      1.656      0.105     -12.079     123.648\n",
       "StringencyIndex       0.3432      0.065      5.243      0.000       0.211       0.475\n",
       "White                -6.8240      5.887     -1.159      0.253     -18.681       5.033\n",
       "Urbanization_rate     0.1070      0.046      2.329      0.024       0.014       0.200\n",
       "==============================================================================\n",
       "Omnibus:                        1.899   Durbin-Watson:                   1.538\n",
       "Prob(Omnibus):                  0.387   Jarque-Bera (JB):                1.603\n",
       "Skew:                          -0.435   Prob(JB):                        0.449\n",
       "Kurtosis:                       2.887   Cond. No.                     5.16e+03\n",
       "==============================================================================\n",
       "\n",
       "Notes:\n",
       "[1] Standard Errors assume that the covariance matrix of the errors is correctly specified.\n",
       "[2] The condition number is large, 5.16e+03. This might indicate that there are\n",
       "strong multicollinearity or other numerical problems.\n",
       "\"\"\""
      ]
     },
     "execution_count": 50,
     "metadata": {},
     "output_type": "execute_result"
    }
   ],
   "source": [
    "cross_sectional_reg_4_posrate = smf.ols(\"very ~ pc_misperception + StringencyIndex + White + Urbanization_rate\", data=us_cross_sectional).fit()\n",
    "cross_sectional_reg_4_posrate.summary()"
   ]
  },
  {
   "cell_type": "code",
   "execution_count": 65,
   "metadata": {},
   "outputs": [
    {
     "data": {
      "text/html": [
       "<table class=\"simpletable\">\n",
       "<caption>OLS Regression Results</caption>\n",
       "<tr>\n",
       "  <th>Dep. Variable:</th>    <td>non_residential_percent_change_from_baseline</td> <th>  R-squared:         </th> <td>   0.733</td>\n",
       "</tr>\n",
       "<tr>\n",
       "  <th>Model:</th>                                 <td>OLS</td>                     <th>  Adj. R-squared:    </th> <td>   0.696</td>\n",
       "</tr>\n",
       "<tr>\n",
       "  <th>Method:</th>                           <td>Least Squares</td>                <th>  F-statistic:       </th> <td>   19.66</td>\n",
       "</tr>\n",
       "<tr>\n",
       "  <th>Date:</th>                           <td>Sat, 20 Feb 2021</td>               <th>  Prob (F-statistic):</th> <td>6.93e-11</td>\n",
       "</tr>\n",
       "<tr>\n",
       "  <th>Time:</th>                               <td>18:21:04</td>                   <th>  Log-Likelihood:    </th> <td> -163.45</td>\n",
       "</tr>\n",
       "<tr>\n",
       "  <th>No. Observations:</th>                    <td>    50</td>                    <th>  AIC:               </th> <td>   340.9</td>\n",
       "</tr>\n",
       "<tr>\n",
       "  <th>Df Residuals:</th>                        <td>    43</td>                    <th>  BIC:               </th> <td>   354.3</td>\n",
       "</tr>\n",
       "<tr>\n",
       "  <th>Df Model:</th>                            <td>     6</td>                    <th>                     </th>     <td> </td>   \n",
       "</tr>\n",
       "<tr>\n",
       "  <th>Covariance Type:</th>                    <td>nonrobust</td>                  <th>                     </th>     <td> </td>   \n",
       "</tr>\n",
       "</table>\n",
       "<table class=\"simpletable\">\n",
       "<tr>\n",
       "                <td></td>                  <th>coef</th>     <th>std err</th>      <th>t</th>      <th>P>|t|</th>  <th>[0.025</th>    <th>0.975]</th>  \n",
       "</tr>\n",
       "<tr>\n",
       "  <th>Intercept</th>                    <td>   48.4178</td> <td>   22.507</td> <td>    2.151</td> <td> 0.037</td> <td>    3.029</td> <td>   93.807</td>\n",
       "</tr>\n",
       "<tr>\n",
       "  <th>pc_misperception</th>             <td>  -34.6063</td> <td>   59.371</td> <td>   -0.583</td> <td> 0.563</td> <td> -154.340</td> <td>   85.128</td>\n",
       "</tr>\n",
       "<tr>\n",
       "  <th>StringencyIndex</th>              <td>   -0.3912</td> <td>    0.106</td> <td>   -3.698</td> <td> 0.001</td> <td>   -0.605</td> <td>   -0.178</td>\n",
       "</tr>\n",
       "<tr>\n",
       "  <th>White</th>                        <td>   18.1043</td> <td>   12.020</td> <td>    1.506</td> <td> 0.139</td> <td>   -6.137</td> <td>   42.345</td>\n",
       "</tr>\n",
       "<tr>\n",
       "  <th>Urbanization_rate</th>            <td>   -0.2398</td> <td>    0.101</td> <td>   -2.386</td> <td> 0.022</td> <td>   -0.442</td> <td>   -0.037</td>\n",
       "</tr>\n",
       "<tr>\n",
       "  <th>AverageTemperature</th>           <td>   -1.0928</td> <td>    0.317</td> <td>   -3.452</td> <td> 0.001</td> <td>   -1.731</td> <td>   -0.454</td>\n",
       "</tr>\n",
       "<tr>\n",
       "  <th>Median_Household_Income_2019</th> <td>   -0.0002</td> <td>    0.000</td> <td>   -1.253</td> <td> 0.217</td> <td>   -0.001</td> <td>    0.000</td>\n",
       "</tr>\n",
       "</table>\n",
       "<table class=\"simpletable\">\n",
       "<tr>\n",
       "  <th>Omnibus:</th>       <td> 4.087</td> <th>  Durbin-Watson:     </th> <td>   2.323</td>\n",
       "</tr>\n",
       "<tr>\n",
       "  <th>Prob(Omnibus):</th> <td> 0.130</td> <th>  Jarque-Bera (JB):  </th> <td>   2.977</td>\n",
       "</tr>\n",
       "<tr>\n",
       "  <th>Skew:</th>          <td>-0.517</td> <th>  Prob(JB):          </th> <td>   0.226</td>\n",
       "</tr>\n",
       "<tr>\n",
       "  <th>Kurtosis:</th>      <td> 3.601</td> <th>  Cond. No.          </th> <td>4.18e+06</td>\n",
       "</tr>\n",
       "</table><br/><br/>Notes:<br/>[1] Standard Errors assume that the covariance matrix of the errors is correctly specified.<br/>[2] The condition number is large, 4.18e+06. This might indicate that there are<br/>strong multicollinearity or other numerical problems."
      ],
      "text/plain": [
       "<class 'statsmodels.iolib.summary.Summary'>\n",
       "\"\"\"\n",
       "                                         OLS Regression Results                                         \n",
       "========================================================================================================\n",
       "Dep. Variable:     non_residential_percent_change_from_baseline   R-squared:                       0.733\n",
       "Model:                                                      OLS   Adj. R-squared:                  0.696\n",
       "Method:                                           Least Squares   F-statistic:                     19.66\n",
       "Date:                                          Sat, 20 Feb 2021   Prob (F-statistic):           6.93e-11\n",
       "Time:                                                  18:21:04   Log-Likelihood:                -163.45\n",
       "No. Observations:                                            50   AIC:                             340.9\n",
       "Df Residuals:                                                43   BIC:                             354.3\n",
       "Df Model:                                                     6                                         \n",
       "Covariance Type:                                      nonrobust                                         \n",
       "================================================================================================\n",
       "                                   coef    std err          t      P>|t|      [0.025      0.975]\n",
       "------------------------------------------------------------------------------------------------\n",
       "Intercept                       48.4178     22.507      2.151      0.037       3.029      93.807\n",
       "pc_misperception               -34.6063     59.371     -0.583      0.563    -154.340      85.128\n",
       "StringencyIndex                 -0.3912      0.106     -3.698      0.001      -0.605      -0.178\n",
       "White                           18.1043     12.020      1.506      0.139      -6.137      42.345\n",
       "Urbanization_rate               -0.2398      0.101     -2.386      0.022      -0.442      -0.037\n",
       "AverageTemperature              -1.0928      0.317     -3.452      0.001      -1.731      -0.454\n",
       "Median_Household_Income_2019    -0.0002      0.000     -1.253      0.217      -0.001       0.000\n",
       "==============================================================================\n",
       "Omnibus:                        4.087   Durbin-Watson:                   2.323\n",
       "Prob(Omnibus):                  0.130   Jarque-Bera (JB):                2.977\n",
       "Skew:                          -0.517   Prob(JB):                        0.226\n",
       "Kurtosis:                       3.601   Cond. No.                     4.18e+06\n",
       "==============================================================================\n",
       "\n",
       "Notes:\n",
       "[1] Standard Errors assume that the covariance matrix of the errors is correctly specified.\n",
       "[2] The condition number is large, 4.18e+06. This might indicate that there are\n",
       "strong multicollinearity or other numerical problems.\n",
       "\"\"\""
      ]
     },
     "execution_count": 65,
     "metadata": {},
     "output_type": "execute_result"
    }
   ],
   "source": [
    "cross_sectional_reg_4_posrate = smf.ols(\n",
    "    \"non_residential_percent_change_from_baseline ~ pc_misperception + StringencyIndex + White + Urbanization_rate + AverageTemperature + Median_Household_Income_2019\",\n",
    "    data=us_cross_sectional,\n",
    ").fit()\n",
    "cross_sectional_reg_4_posrate.summary()"
   ]
  },
  {
   "cell_type": "code",
   "execution_count": 26,
   "metadata": {},
   "outputs": [
    {
     "data": {
      "text/html": [
       "<div>\n",
       "<style scoped>\n",
       "    .dataframe tbody tr th:only-of-type {\n",
       "        vertical-align: middle;\n",
       "    }\n",
       "\n",
       "    .dataframe tbody tr th {\n",
       "        vertical-align: top;\n",
       "    }\n",
       "\n",
       "    .dataframe thead th {\n",
       "        text-align: right;\n",
       "    }\n",
       "</style>\n",
       "<table border=\"1\" class=\"dataframe\">\n",
       "  <thead>\n",
       "    <tr style=\"text-align: right;\">\n",
       "      <th></th>\n",
       "      <th>pc_misperception</th>\n",
       "      <th>StringencyIndex</th>\n",
       "      <th>Urbanization_rate</th>\n",
       "      <th>AverageTemperature</th>\n",
       "    </tr>\n",
       "  </thead>\n",
       "  <tbody>\n",
       "    <tr>\n",
       "      <th>0</th>\n",
       "      <td>0.160</td>\n",
       "      <td>36.371843</td>\n",
       "      <td>59.0</td>\n",
       "      <td>17.11</td>\n",
       "    </tr>\n",
       "    <tr>\n",
       "      <th>1</th>\n",
       "      <td>0.160</td>\n",
       "      <td>53.172440</td>\n",
       "      <td>66.0</td>\n",
       "      <td>-3.00</td>\n",
       "    </tr>\n",
       "    <tr>\n",
       "      <th>2</th>\n",
       "      <td>NaN</td>\n",
       "      <td>NaN</td>\n",
       "      <td>NaN</td>\n",
       "      <td>NaN</td>\n",
       "    </tr>\n",
       "    <tr>\n",
       "      <th>3</th>\n",
       "      <td>0.140</td>\n",
       "      <td>42.069641</td>\n",
       "      <td>89.8</td>\n",
       "      <td>15.72</td>\n",
       "    </tr>\n",
       "    <tr>\n",
       "      <th>4</th>\n",
       "      <td>0.150</td>\n",
       "      <td>44.011807</td>\n",
       "      <td>56.2</td>\n",
       "      <td>15.78</td>\n",
       "    </tr>\n",
       "    <tr>\n",
       "      <th>5</th>\n",
       "      <td>0.150</td>\n",
       "      <td>61.114371</td>\n",
       "      <td>95.0</td>\n",
       "      <td>15.22</td>\n",
       "    </tr>\n",
       "    <tr>\n",
       "      <th>6</th>\n",
       "      <td>0.135</td>\n",
       "      <td>50.635389</td>\n",
       "      <td>86.2</td>\n",
       "      <td>7.28</td>\n",
       "    </tr>\n",
       "    <tr>\n",
       "      <th>7</th>\n",
       "      <td>0.110</td>\n",
       "      <td>61.360211</td>\n",
       "      <td>88.0</td>\n",
       "      <td>9.44</td>\n",
       "    </tr>\n",
       "    <tr>\n",
       "      <th>8</th>\n",
       "      <td>0.110</td>\n",
       "      <td>58.949578</td>\n",
       "      <td>83.3</td>\n",
       "      <td>12.94</td>\n",
       "    </tr>\n",
       "    <tr>\n",
       "      <th>9</th>\n",
       "      <td>NaN</td>\n",
       "      <td>NaN</td>\n",
       "      <td>NaN</td>\n",
       "      <td>NaN</td>\n",
       "    </tr>\n",
       "    <tr>\n",
       "      <th>10</th>\n",
       "      <td>0.155</td>\n",
       "      <td>48.038932</td>\n",
       "      <td>91.2</td>\n",
       "      <td>21.50</td>\n",
       "    </tr>\n",
       "    <tr>\n",
       "      <th>11</th>\n",
       "      <td>0.150</td>\n",
       "      <td>48.015269</td>\n",
       "      <td>75.1</td>\n",
       "      <td>17.50</td>\n",
       "    </tr>\n",
       "    <tr>\n",
       "      <th>12</th>\n",
       "      <td>NaN</td>\n",
       "      <td>NaN</td>\n",
       "      <td>NaN</td>\n",
       "      <td>NaN</td>\n",
       "    </tr>\n",
       "    <tr>\n",
       "      <th>13</th>\n",
       "      <td>0.090</td>\n",
       "      <td>70.844685</td>\n",
       "      <td>91.9</td>\n",
       "      <td>21.11</td>\n",
       "    </tr>\n",
       "    <tr>\n",
       "      <th>14</th>\n",
       "      <td>0.110</td>\n",
       "      <td>46.843807</td>\n",
       "      <td>70.6</td>\n",
       "      <td>6.89</td>\n",
       "    </tr>\n",
       "    <tr>\n",
       "      <th>15</th>\n",
       "      <td>0.140</td>\n",
       "      <td>53.625030</td>\n",
       "      <td>88.5</td>\n",
       "      <td>11.00</td>\n",
       "    </tr>\n",
       "    <tr>\n",
       "      <th>16</th>\n",
       "      <td>0.135</td>\n",
       "      <td>44.677927</td>\n",
       "      <td>72.4</td>\n",
       "      <td>10.94</td>\n",
       "    </tr>\n",
       "    <tr>\n",
       "      <th>17</th>\n",
       "      <td>0.130</td>\n",
       "      <td>31.623554</td>\n",
       "      <td>64.0</td>\n",
       "      <td>8.78</td>\n",
       "    </tr>\n",
       "    <tr>\n",
       "      <th>18</th>\n",
       "      <td>0.155</td>\n",
       "      <td>46.511536</td>\n",
       "      <td>74.2</td>\n",
       "      <td>12.39</td>\n",
       "    </tr>\n",
       "    <tr>\n",
       "      <th>19</th>\n",
       "      <td>0.160</td>\n",
       "      <td>58.253976</td>\n",
       "      <td>58.4</td>\n",
       "      <td>13.11</td>\n",
       "    </tr>\n",
       "    <tr>\n",
       "      <th>20</th>\n",
       "      <td>0.160</td>\n",
       "      <td>49.984955</td>\n",
       "      <td>73.2</td>\n",
       "      <td>19.11</td>\n",
       "    </tr>\n",
       "    <tr>\n",
       "      <th>21</th>\n",
       "      <td>0.135</td>\n",
       "      <td>64.961027</td>\n",
       "      <td>38.7</td>\n",
       "      <td>5.00</td>\n",
       "    </tr>\n",
       "    <tr>\n",
       "      <th>22</th>\n",
       "      <td>0.135</td>\n",
       "      <td>58.237447</td>\n",
       "      <td>87.2</td>\n",
       "      <td>12.33</td>\n",
       "    </tr>\n",
       "    <tr>\n",
       "      <th>23</th>\n",
       "      <td>0.110</td>\n",
       "      <td>58.742552</td>\n",
       "      <td>92.0</td>\n",
       "      <td>8.83</td>\n",
       "    </tr>\n",
       "    <tr>\n",
       "      <th>24</th>\n",
       "      <td>0.145</td>\n",
       "      <td>48.652136</td>\n",
       "      <td>74.6</td>\n",
       "      <td>6.89</td>\n",
       "    </tr>\n",
       "    <tr>\n",
       "      <th>25</th>\n",
       "      <td>0.130</td>\n",
       "      <td>55.517590</td>\n",
       "      <td>73.3</td>\n",
       "      <td>5.11</td>\n",
       "    </tr>\n",
       "    <tr>\n",
       "      <th>26</th>\n",
       "      <td>0.180</td>\n",
       "      <td>44.094320</td>\n",
       "      <td>49.4</td>\n",
       "      <td>17.44</td>\n",
       "    </tr>\n",
       "    <tr>\n",
       "      <th>27</th>\n",
       "      <td>0.130</td>\n",
       "      <td>43.290121</td>\n",
       "      <td>70.4</td>\n",
       "      <td>12.56</td>\n",
       "    </tr>\n",
       "    <tr>\n",
       "      <th>28</th>\n",
       "      <td>0.130</td>\n",
       "      <td>48.042115</td>\n",
       "      <td>55.9</td>\n",
       "      <td>5.94</td>\n",
       "    </tr>\n",
       "    <tr>\n",
       "      <th>29</th>\n",
       "      <td>0.145</td>\n",
       "      <td>40.452819</td>\n",
       "      <td>73.1</td>\n",
       "      <td>9.33</td>\n",
       "    </tr>\n",
       "    <tr>\n",
       "      <th>30</th>\n",
       "      <td>0.150</td>\n",
       "      <td>45.021081</td>\n",
       "      <td>94.2</td>\n",
       "      <td>9.94</td>\n",
       "    </tr>\n",
       "    <tr>\n",
       "      <th>31</th>\n",
       "      <td>0.130</td>\n",
       "      <td>47.809671</td>\n",
       "      <td>60.3</td>\n",
       "      <td>6.56</td>\n",
       "    </tr>\n",
       "    <tr>\n",
       "      <th>32</th>\n",
       "      <td>0.140</td>\n",
       "      <td>50.160237</td>\n",
       "      <td>94.7</td>\n",
       "      <td>11.50</td>\n",
       "    </tr>\n",
       "    <tr>\n",
       "      <th>33</th>\n",
       "      <td>0.145</td>\n",
       "      <td>73.402913</td>\n",
       "      <td>77.4</td>\n",
       "      <td>11.89</td>\n",
       "    </tr>\n",
       "    <tr>\n",
       "      <th>34</th>\n",
       "      <td>0.170</td>\n",
       "      <td>69.068512</td>\n",
       "      <td>87.9</td>\n",
       "      <td>7.44</td>\n",
       "    </tr>\n",
       "    <tr>\n",
       "      <th>35</th>\n",
       "      <td>0.150</td>\n",
       "      <td>57.569671</td>\n",
       "      <td>66.1</td>\n",
       "      <td>15.00</td>\n",
       "    </tr>\n",
       "    <tr>\n",
       "      <th>36</th>\n",
       "      <td>0.145</td>\n",
       "      <td>33.040634</td>\n",
       "      <td>59.9</td>\n",
       "      <td>4.67</td>\n",
       "    </tr>\n",
       "    <tr>\n",
       "      <th>37</th>\n",
       "      <td>NaN</td>\n",
       "      <td>NaN</td>\n",
       "      <td>NaN</td>\n",
       "      <td>NaN</td>\n",
       "    </tr>\n",
       "    <tr>\n",
       "      <th>38</th>\n",
       "      <td>0.135</td>\n",
       "      <td>56.581021</td>\n",
       "      <td>77.9</td>\n",
       "      <td>10.39</td>\n",
       "    </tr>\n",
       "    <tr>\n",
       "      <th>39</th>\n",
       "      <td>0.150</td>\n",
       "      <td>35.730060</td>\n",
       "      <td>66.2</td>\n",
       "      <td>15.33</td>\n",
       "    </tr>\n",
       "    <tr>\n",
       "      <th>40</th>\n",
       "      <td>0.110</td>\n",
       "      <td>53.525749</td>\n",
       "      <td>81.0</td>\n",
       "      <td>9.11</td>\n",
       "    </tr>\n",
       "    <tr>\n",
       "      <th>41</th>\n",
       "      <td>0.110</td>\n",
       "      <td>51.394478</td>\n",
       "      <td>78.7</td>\n",
       "      <td>9.33</td>\n",
       "    </tr>\n",
       "    <tr>\n",
       "      <th>42</th>\n",
       "      <td>NaN</td>\n",
       "      <td>NaN</td>\n",
       "      <td>NaN</td>\n",
       "      <td>NaN</td>\n",
       "    </tr>\n",
       "    <tr>\n",
       "      <th>43</th>\n",
       "      <td>0.140</td>\n",
       "      <td>64.558991</td>\n",
       "      <td>90.7</td>\n",
       "      <td>10.06</td>\n",
       "    </tr>\n",
       "    <tr>\n",
       "      <th>44</th>\n",
       "      <td>0.150</td>\n",
       "      <td>42.424192</td>\n",
       "      <td>66.3</td>\n",
       "      <td>16.89</td>\n",
       "    </tr>\n",
       "    <tr>\n",
       "      <th>45</th>\n",
       "      <td>0.150</td>\n",
       "      <td>20.901873</td>\n",
       "      <td>56.7</td>\n",
       "      <td>7.33</td>\n",
       "    </tr>\n",
       "    <tr>\n",
       "      <th>46</th>\n",
       "      <td>0.150</td>\n",
       "      <td>47.164865</td>\n",
       "      <td>66.4</td>\n",
       "      <td>14.22</td>\n",
       "    </tr>\n",
       "    <tr>\n",
       "      <th>47</th>\n",
       "      <td>0.155</td>\n",
       "      <td>50.757373</td>\n",
       "      <td>84.7</td>\n",
       "      <td>18.22</td>\n",
       "    </tr>\n",
       "    <tr>\n",
       "      <th>48</th>\n",
       "      <td>0.145</td>\n",
       "      <td>36.713625</td>\n",
       "      <td>90.6</td>\n",
       "      <td>9.22</td>\n",
       "    </tr>\n",
       "    <tr>\n",
       "      <th>49</th>\n",
       "      <td>0.090</td>\n",
       "      <td>60.191881</td>\n",
       "      <td>38.9</td>\n",
       "      <td>6.06</td>\n",
       "    </tr>\n",
       "    <tr>\n",
       "      <th>50</th>\n",
       "      <td>NaN</td>\n",
       "      <td>NaN</td>\n",
       "      <td>NaN</td>\n",
       "      <td>NaN</td>\n",
       "    </tr>\n",
       "    <tr>\n",
       "      <th>51</th>\n",
       "      <td>0.150</td>\n",
       "      <td>50.638309</td>\n",
       "      <td>75.5</td>\n",
       "      <td>12.83</td>\n",
       "    </tr>\n",
       "    <tr>\n",
       "      <th>52</th>\n",
       "      <td>0.130</td>\n",
       "      <td>56.500445</td>\n",
       "      <td>84.1</td>\n",
       "      <td>9.06</td>\n",
       "    </tr>\n",
       "    <tr>\n",
       "      <th>53</th>\n",
       "      <td>0.160</td>\n",
       "      <td>52.401657</td>\n",
       "      <td>48.7</td>\n",
       "      <td>11.00</td>\n",
       "    </tr>\n",
       "    <tr>\n",
       "      <th>54</th>\n",
       "      <td>0.125</td>\n",
       "      <td>43.957134</td>\n",
       "      <td>70.2</td>\n",
       "      <td>6.17</td>\n",
       "    </tr>\n",
       "    <tr>\n",
       "      <th>55</th>\n",
       "      <td>0.110</td>\n",
       "      <td>46.230772</td>\n",
       "      <td>64.8</td>\n",
       "      <td>5.56</td>\n",
       "    </tr>\n",
       "  </tbody>\n",
       "</table>\n",
       "</div>"
      ],
      "text/plain": [
       "    pc_misperception  StringencyIndex  Urbanization_rate  AverageTemperature\n",
       "0              0.160        36.371843               59.0               17.11\n",
       "1              0.160        53.172440               66.0               -3.00\n",
       "2                NaN              NaN                NaN                 NaN\n",
       "3              0.140        42.069641               89.8               15.72\n",
       "4              0.150        44.011807               56.2               15.78\n",
       "5              0.150        61.114371               95.0               15.22\n",
       "6              0.135        50.635389               86.2                7.28\n",
       "7              0.110        61.360211               88.0                9.44\n",
       "8              0.110        58.949578               83.3               12.94\n",
       "9                NaN              NaN                NaN                 NaN\n",
       "10             0.155        48.038932               91.2               21.50\n",
       "11             0.150        48.015269               75.1               17.50\n",
       "12               NaN              NaN                NaN                 NaN\n",
       "13             0.090        70.844685               91.9               21.11\n",
       "14             0.110        46.843807               70.6                6.89\n",
       "15             0.140        53.625030               88.5               11.00\n",
       "16             0.135        44.677927               72.4               10.94\n",
       "17             0.130        31.623554               64.0                8.78\n",
       "18             0.155        46.511536               74.2               12.39\n",
       "19             0.160        58.253976               58.4               13.11\n",
       "20             0.160        49.984955               73.2               19.11\n",
       "21             0.135        64.961027               38.7                5.00\n",
       "22             0.135        58.237447               87.2               12.33\n",
       "23             0.110        58.742552               92.0                8.83\n",
       "24             0.145        48.652136               74.6                6.89\n",
       "25             0.130        55.517590               73.3                5.11\n",
       "26             0.180        44.094320               49.4               17.44\n",
       "27             0.130        43.290121               70.4               12.56\n",
       "28             0.130        48.042115               55.9                5.94\n",
       "29             0.145        40.452819               73.1                9.33\n",
       "30             0.150        45.021081               94.2                9.94\n",
       "31             0.130        47.809671               60.3                6.56\n",
       "32             0.140        50.160237               94.7               11.50\n",
       "33             0.145        73.402913               77.4               11.89\n",
       "34             0.170        69.068512               87.9                7.44\n",
       "35             0.150        57.569671               66.1               15.00\n",
       "36             0.145        33.040634               59.9                4.67\n",
       "37               NaN              NaN                NaN                 NaN\n",
       "38             0.135        56.581021               77.9               10.39\n",
       "39             0.150        35.730060               66.2               15.33\n",
       "40             0.110        53.525749               81.0                9.11\n",
       "41             0.110        51.394478               78.7                9.33\n",
       "42               NaN              NaN                NaN                 NaN\n",
       "43             0.140        64.558991               90.7               10.06\n",
       "44             0.150        42.424192               66.3               16.89\n",
       "45             0.150        20.901873               56.7                7.33\n",
       "46             0.150        47.164865               66.4               14.22\n",
       "47             0.155        50.757373               84.7               18.22\n",
       "48             0.145        36.713625               90.6                9.22\n",
       "49             0.090        60.191881               38.9                6.06\n",
       "50               NaN              NaN                NaN                 NaN\n",
       "51             0.150        50.638309               75.5               12.83\n",
       "52             0.130        56.500445               84.1                9.06\n",
       "53             0.160        52.401657               48.7               11.00\n",
       "54             0.125        43.957134               70.2                6.17\n",
       "55             0.110        46.230772               64.8                5.56"
      ]
     },
     "execution_count": 26,
     "metadata": {},
     "output_type": "execute_result"
    }
   ],
   "source": [
    "us_cross_sectional[[\"pc_misperception\", \"StringencyIndex\", \"Urbanization_rate\", \"AverageTemperature\"]]"
   ]
  },
  {
   "cell_type": "code",
   "execution_count": 27,
   "metadata": {},
   "outputs": [],
   "source": [
    "us_cross_sectional[\"res\"] = cross_sectional_reg_4_posrate.resid"
   ]
  },
  {
   "cell_type": "code",
   "execution_count": 28,
   "metadata": {},
   "outputs": [
    {
     "data": {
      "text/html": [
       "<div>\n",
       "<style scoped>\n",
       "    .dataframe tbody tr th:only-of-type {\n",
       "        vertical-align: middle;\n",
       "    }\n",
       "\n",
       "    .dataframe tbody tr th {\n",
       "        vertical-align: top;\n",
       "    }\n",
       "\n",
       "    .dataframe thead th {\n",
       "        text-align: right;\n",
       "    }\n",
       "</style>\n",
       "<table border=\"1\" class=\"dataframe\">\n",
       "  <thead>\n",
       "    <tr style=\"text-align: right;\">\n",
       "      <th></th>\n",
       "      <th>state</th>\n",
       "      <th>res</th>\n",
       "      <th>non_residential_percent_change_from_baseline</th>\n",
       "      <th>pc_misperception</th>\n",
       "    </tr>\n",
       "  </thead>\n",
       "  <tbody>\n",
       "    <tr>\n",
       "      <th>55</th>\n",
       "      <td>Wyoming</td>\n",
       "      <td>-11.987651</td>\n",
       "      <td>15.950445</td>\n",
       "      <td>0.110</td>\n",
       "    </tr>\n",
       "    <tr>\n",
       "      <th>36</th>\n",
       "      <td>North Dakota</td>\n",
       "      <td>-8.788824</td>\n",
       "      <td>0.845921</td>\n",
       "      <td>0.145</td>\n",
       "    </tr>\n",
       "    <tr>\n",
       "      <th>28</th>\n",
       "      <td>Montana</td>\n",
       "      <td>-8.738042</td>\n",
       "      <td>10.717271</td>\n",
       "      <td>0.130</td>\n",
       "    </tr>\n",
       "    <tr>\n",
       "      <th>33</th>\n",
       "      <td>New Mexico</td>\n",
       "      <td>-8.231286</td>\n",
       "      <td>-12.982583</td>\n",
       "      <td>0.145</td>\n",
       "    </tr>\n",
       "    <tr>\n",
       "      <th>14</th>\n",
       "      <td>Idaho</td>\n",
       "      <td>-7.353798</td>\n",
       "      <td>12.048489</td>\n",
       "      <td>0.110</td>\n",
       "    </tr>\n",
       "    <tr>\n",
       "      <th>1</th>\n",
       "      <td>Alaska</td>\n",
       "      <td>-5.504081</td>\n",
       "      <td>3.100000</td>\n",
       "      <td>0.160</td>\n",
       "    </tr>\n",
       "    <tr>\n",
       "      <th>4</th>\n",
       "      <td>Arkansas</td>\n",
       "      <td>-5.094454</td>\n",
       "      <td>3.574398</td>\n",
       "      <td>0.150</td>\n",
       "    </tr>\n",
       "    <tr>\n",
       "      <th>6</th>\n",
       "      <td>Colorado</td>\n",
       "      <td>-4.667545</td>\n",
       "      <td>-11.531138</td>\n",
       "      <td>0.135</td>\n",
       "    </tr>\n",
       "    <tr>\n",
       "      <th>19</th>\n",
       "      <td>Kentucky</td>\n",
       "      <td>-4.322059</td>\n",
       "      <td>1.787801</td>\n",
       "      <td>0.160</td>\n",
       "    </tr>\n",
       "    <tr>\n",
       "      <th>25</th>\n",
       "      <td>Minnesota</td>\n",
       "      <td>-3.830255</td>\n",
       "      <td>-3.924699</td>\n",
       "      <td>0.130</td>\n",
       "    </tr>\n",
       "    <tr>\n",
       "      <th>13</th>\n",
       "      <td>Hawaii</td>\n",
       "      <td>-3.424590</td>\n",
       "      <td>-39.502994</td>\n",
       "      <td>0.090</td>\n",
       "    </tr>\n",
       "    <tr>\n",
       "      <th>29</th>\n",
       "      <td>Nebraska</td>\n",
       "      <td>-3.305280</td>\n",
       "      <td>4.295401</td>\n",
       "      <td>0.145</td>\n",
       "    </tr>\n",
       "    <tr>\n",
       "      <th>21</th>\n",
       "      <td>Maine</td>\n",
       "      <td>-2.497493</td>\n",
       "      <td>9.477946</td>\n",
       "      <td>0.135</td>\n",
       "    </tr>\n",
       "    <tr>\n",
       "      <th>35</th>\n",
       "      <td>North Carolina</td>\n",
       "      <td>-2.028617</td>\n",
       "      <td>-8.272455</td>\n",
       "      <td>0.150</td>\n",
       "    </tr>\n",
       "    <tr>\n",
       "      <th>38</th>\n",
       "      <td>Ohio</td>\n",
       "      <td>-1.920507</td>\n",
       "      <td>7.048649</td>\n",
       "      <td>0.135</td>\n",
       "    </tr>\n",
       "    <tr>\n",
       "      <th>18</th>\n",
       "      <td>Kansas</td>\n",
       "      <td>-1.685887</td>\n",
       "      <td>4.513102</td>\n",
       "      <td>0.155</td>\n",
       "    </tr>\n",
       "    <tr>\n",
       "      <th>53</th>\n",
       "      <td>West Virginia</td>\n",
       "      <td>-1.540404</td>\n",
       "      <td>-0.762952</td>\n",
       "      <td>0.160</td>\n",
       "    </tr>\n",
       "    <tr>\n",
       "      <th>26</th>\n",
       "      <td>Mississippi</td>\n",
       "      <td>-0.989574</td>\n",
       "      <td>-4.408459</td>\n",
       "      <td>0.180</td>\n",
       "    </tr>\n",
       "    <tr>\n",
       "      <th>27</th>\n",
       "      <td>Missouri</td>\n",
       "      <td>-0.854176</td>\n",
       "      <td>1.022356</td>\n",
       "      <td>0.130</td>\n",
       "    </tr>\n",
       "    <tr>\n",
       "      <th>46</th>\n",
       "      <td>Tennessee</td>\n",
       "      <td>-0.777620</td>\n",
       "      <td>-1.428228</td>\n",
       "      <td>0.150</td>\n",
       "    </tr>\n",
       "    <tr>\n",
       "      <th>48</th>\n",
       "      <td>Utah</td>\n",
       "      <td>-0.483581</td>\n",
       "      <td>1.108761</td>\n",
       "      <td>0.145</td>\n",
       "    </tr>\n",
       "    <tr>\n",
       "      <th>34</th>\n",
       "      <td>New York</td>\n",
       "      <td>-0.354757</td>\n",
       "      <td>-21.045833</td>\n",
       "      <td>0.170</td>\n",
       "    </tr>\n",
       "    <tr>\n",
       "      <th>40</th>\n",
       "      <td>Oregon</td>\n",
       "      <td>-0.189741</td>\n",
       "      <td>-6.916168</td>\n",
       "      <td>0.110</td>\n",
       "    </tr>\n",
       "    <tr>\n",
       "      <th>39</th>\n",
       "      <td>Oklahoma</td>\n",
       "      <td>0.242544</td>\n",
       "      <td>-0.852568</td>\n",
       "      <td>0.150</td>\n",
       "    </tr>\n",
       "    <tr>\n",
       "      <th>16</th>\n",
       "      <td>Indiana</td>\n",
       "      <td>0.523566</td>\n",
       "      <td>8.690801</td>\n",
       "      <td>0.135</td>\n",
       "    </tr>\n",
       "    <tr>\n",
       "      <th>52</th>\n",
       "      <td>Washington</td>\n",
       "      <td>0.686430</td>\n",
       "      <td>-11.477151</td>\n",
       "      <td>0.130</td>\n",
       "    </tr>\n",
       "    <tr>\n",
       "      <th>15</th>\n",
       "      <td>Illinois</td>\n",
       "      <td>1.474982</td>\n",
       "      <td>-11.580240</td>\n",
       "      <td>0.140</td>\n",
       "    </tr>\n",
       "    <tr>\n",
       "      <th>54</th>\n",
       "      <td>Wisconsin</td>\n",
       "      <td>1.581856</td>\n",
       "      <td>9.902090</td>\n",
       "      <td>0.125</td>\n",
       "    </tr>\n",
       "    <tr>\n",
       "      <th>45</th>\n",
       "      <td>South Dakota</td>\n",
       "      <td>1.777009</td>\n",
       "      <td>24.796626</td>\n",
       "      <td>0.150</td>\n",
       "    </tr>\n",
       "    <tr>\n",
       "      <th>30</th>\n",
       "      <td>Nevada</td>\n",
       "      <td>1.894812</td>\n",
       "      <td>-24.681682</td>\n",
       "      <td>0.150</td>\n",
       "    </tr>\n",
       "    <tr>\n",
       "      <th>20</th>\n",
       "      <td>Louisiana</td>\n",
       "      <td>1.909761</td>\n",
       "      <td>-16.592749</td>\n",
       "      <td>0.160</td>\n",
       "    </tr>\n",
       "    <tr>\n",
       "      <th>11</th>\n",
       "      <td>Georgia</td>\n",
       "      <td>1.992967</td>\n",
       "      <td>-12.867665</td>\n",
       "      <td>0.150</td>\n",
       "    </tr>\n",
       "    <tr>\n",
       "      <th>3</th>\n",
       "      <td>Arizona</td>\n",
       "      <td>2.144219</td>\n",
       "      <td>-21.844910</td>\n",
       "      <td>0.140</td>\n",
       "    </tr>\n",
       "    <tr>\n",
       "      <th>5</th>\n",
       "      <td>California</td>\n",
       "      <td>2.345502</td>\n",
       "      <td>-26.760479</td>\n",
       "      <td>0.150</td>\n",
       "    </tr>\n",
       "    <tr>\n",
       "      <th>44</th>\n",
       "      <td>South Carolina</td>\n",
       "      <td>2.368307</td>\n",
       "      <td>-5.202395</td>\n",
       "      <td>0.150</td>\n",
       "    </tr>\n",
       "    <tr>\n",
       "      <th>41</th>\n",
       "      <td>Pennsylvania</td>\n",
       "      <td>2.377599</td>\n",
       "      <td>-8.487761</td>\n",
       "      <td>0.110</td>\n",
       "    </tr>\n",
       "    <tr>\n",
       "      <th>49</th>\n",
       "      <td>Vermont</td>\n",
       "      <td>2.577332</td>\n",
       "      <td>-5.500348</td>\n",
       "      <td>0.090</td>\n",
       "    </tr>\n",
       "    <tr>\n",
       "      <th>47</th>\n",
       "      <td>Texas</td>\n",
       "      <td>2.669564</td>\n",
       "      <td>-18.492537</td>\n",
       "      <td>0.155</td>\n",
       "    </tr>\n",
       "    <tr>\n",
       "      <th>51</th>\n",
       "      <td>Virginia</td>\n",
       "      <td>2.942164</td>\n",
       "      <td>-9.843917</td>\n",
       "      <td>0.150</td>\n",
       "    </tr>\n",
       "    <tr>\n",
       "      <th>0</th>\n",
       "      <td>Alabama</td>\n",
       "      <td>3.483074</td>\n",
       "      <td>-5.309366</td>\n",
       "      <td>0.160</td>\n",
       "    </tr>\n",
       "    <tr>\n",
       "      <th>17</th>\n",
       "      <td>Iowa</td>\n",
       "      <td>3.626973</td>\n",
       "      <td>11.773645</td>\n",
       "      <td>0.130</td>\n",
       "    </tr>\n",
       "    <tr>\n",
       "      <th>23</th>\n",
       "      <td>Massachusetts</td>\n",
       "      <td>3.987233</td>\n",
       "      <td>-16.407715</td>\n",
       "      <td>0.110</td>\n",
       "    </tr>\n",
       "    <tr>\n",
       "      <th>24</th>\n",
       "      <td>Michigan</td>\n",
       "      <td>4.024600</td>\n",
       "      <td>6.035015</td>\n",
       "      <td>0.145</td>\n",
       "    </tr>\n",
       "    <tr>\n",
       "      <th>43</th>\n",
       "      <td>Rhode Island</td>\n",
       "      <td>4.158641</td>\n",
       "      <td>-0.109496</td>\n",
       "      <td>0.140</td>\n",
       "    </tr>\n",
       "    <tr>\n",
       "      <th>7</th>\n",
       "      <td>Connecticut</td>\n",
       "      <td>4.821953</td>\n",
       "      <td>-7.275529</td>\n",
       "      <td>0.110</td>\n",
       "    </tr>\n",
       "    <tr>\n",
       "      <th>31</th>\n",
       "      <td>New Hampshire</td>\n",
       "      <td>5.156553</td>\n",
       "      <td>3.982784</td>\n",
       "      <td>0.130</td>\n",
       "    </tr>\n",
       "    <tr>\n",
       "      <th>10</th>\n",
       "      <td>Florida</td>\n",
       "      <td>5.375858</td>\n",
       "      <td>-26.512760</td>\n",
       "      <td>0.155</td>\n",
       "    </tr>\n",
       "    <tr>\n",
       "      <th>8</th>\n",
       "      <td>Delaware</td>\n",
       "      <td>6.919649</td>\n",
       "      <td>-11.530221</td>\n",
       "      <td>0.110</td>\n",
       "    </tr>\n",
       "    <tr>\n",
       "      <th>22</th>\n",
       "      <td>Maryland</td>\n",
       "      <td>8.422062</td>\n",
       "      <td>-11.125526</td>\n",
       "      <td>0.135</td>\n",
       "    </tr>\n",
       "    <tr>\n",
       "      <th>32</th>\n",
       "      <td>New Jersey</td>\n",
       "      <td>9.085011</td>\n",
       "      <td>-10.494362</td>\n",
       "      <td>0.140</td>\n",
       "    </tr>\n",
       "    <tr>\n",
       "      <th>2</th>\n",
       "      <td>American Samoa</td>\n",
       "      <td>NaN</td>\n",
       "      <td>NaN</td>\n",
       "      <td>NaN</td>\n",
       "    </tr>\n",
       "    <tr>\n",
       "      <th>9</th>\n",
       "      <td>District of Columbia</td>\n",
       "      <td>NaN</td>\n",
       "      <td>-45.761562</td>\n",
       "      <td>NaN</td>\n",
       "    </tr>\n",
       "    <tr>\n",
       "      <th>12</th>\n",
       "      <td>Guam</td>\n",
       "      <td>NaN</td>\n",
       "      <td>NaN</td>\n",
       "      <td>NaN</td>\n",
       "    </tr>\n",
       "    <tr>\n",
       "      <th>37</th>\n",
       "      <td>Northern Mariana Island</td>\n",
       "      <td>NaN</td>\n",
       "      <td>NaN</td>\n",
       "      <td>NaN</td>\n",
       "    </tr>\n",
       "    <tr>\n",
       "      <th>42</th>\n",
       "      <td>Puerto Rico</td>\n",
       "      <td>NaN</td>\n",
       "      <td>NaN</td>\n",
       "      <td>NaN</td>\n",
       "    </tr>\n",
       "    <tr>\n",
       "      <th>50</th>\n",
       "      <td>Virgin Islands</td>\n",
       "      <td>NaN</td>\n",
       "      <td>NaN</td>\n",
       "      <td>NaN</td>\n",
       "    </tr>\n",
       "  </tbody>\n",
       "</table>\n",
       "</div>"
      ],
      "text/plain": [
       "                      state        res  \\\n",
       "55                  Wyoming -11.987651   \n",
       "36             North Dakota  -8.788824   \n",
       "28                  Montana  -8.738042   \n",
       "33               New Mexico  -8.231286   \n",
       "14                    Idaho  -7.353798   \n",
       "1                    Alaska  -5.504081   \n",
       "4                  Arkansas  -5.094454   \n",
       "6                  Colorado  -4.667545   \n",
       "19                 Kentucky  -4.322059   \n",
       "25                Minnesota  -3.830255   \n",
       "13                   Hawaii  -3.424590   \n",
       "29                 Nebraska  -3.305280   \n",
       "21                    Maine  -2.497493   \n",
       "35           North Carolina  -2.028617   \n",
       "38                     Ohio  -1.920507   \n",
       "18                   Kansas  -1.685887   \n",
       "53            West Virginia  -1.540404   \n",
       "26              Mississippi  -0.989574   \n",
       "27                 Missouri  -0.854176   \n",
       "46                Tennessee  -0.777620   \n",
       "48                     Utah  -0.483581   \n",
       "34                 New York  -0.354757   \n",
       "40                   Oregon  -0.189741   \n",
       "39                 Oklahoma   0.242544   \n",
       "16                  Indiana   0.523566   \n",
       "52               Washington   0.686430   \n",
       "15                 Illinois   1.474982   \n",
       "54                Wisconsin   1.581856   \n",
       "45             South Dakota   1.777009   \n",
       "30                   Nevada   1.894812   \n",
       "20                Louisiana   1.909761   \n",
       "11                  Georgia   1.992967   \n",
       "3                   Arizona   2.144219   \n",
       "5                California   2.345502   \n",
       "44           South Carolina   2.368307   \n",
       "41             Pennsylvania   2.377599   \n",
       "49                  Vermont   2.577332   \n",
       "47                    Texas   2.669564   \n",
       "51                 Virginia   2.942164   \n",
       "0                   Alabama   3.483074   \n",
       "17                     Iowa   3.626973   \n",
       "23            Massachusetts   3.987233   \n",
       "24                 Michigan   4.024600   \n",
       "43             Rhode Island   4.158641   \n",
       "7               Connecticut   4.821953   \n",
       "31            New Hampshire   5.156553   \n",
       "10                  Florida   5.375858   \n",
       "8                  Delaware   6.919649   \n",
       "22                 Maryland   8.422062   \n",
       "32               New Jersey   9.085011   \n",
       "2            American Samoa        NaN   \n",
       "9      District of Columbia        NaN   \n",
       "12                     Guam        NaN   \n",
       "37  Northern Mariana Island        NaN   \n",
       "42              Puerto Rico        NaN   \n",
       "50           Virgin Islands        NaN   \n",
       "\n",
       "    non_residential_percent_change_from_baseline  pc_misperception  \n",
       "55                                     15.950445             0.110  \n",
       "36                                      0.845921             0.145  \n",
       "28                                     10.717271             0.130  \n",
       "33                                    -12.982583             0.145  \n",
       "14                                     12.048489             0.110  \n",
       "1                                       3.100000             0.160  \n",
       "4                                       3.574398             0.150  \n",
       "6                                     -11.531138             0.135  \n",
       "19                                      1.787801             0.160  \n",
       "25                                     -3.924699             0.130  \n",
       "13                                    -39.502994             0.090  \n",
       "29                                      4.295401             0.145  \n",
       "21                                      9.477946             0.135  \n",
       "35                                     -8.272455             0.150  \n",
       "38                                      7.048649             0.135  \n",
       "18                                      4.513102             0.155  \n",
       "53                                     -0.762952             0.160  \n",
       "26                                     -4.408459             0.180  \n",
       "27                                      1.022356             0.130  \n",
       "46                                     -1.428228             0.150  \n",
       "48                                      1.108761             0.145  \n",
       "34                                    -21.045833             0.170  \n",
       "40                                     -6.916168             0.110  \n",
       "39                                     -0.852568             0.150  \n",
       "16                                      8.690801             0.135  \n",
       "52                                    -11.477151             0.130  \n",
       "15                                    -11.580240             0.140  \n",
       "54                                      9.902090             0.125  \n",
       "45                                     24.796626             0.150  \n",
       "30                                    -24.681682             0.150  \n",
       "20                                    -16.592749             0.160  \n",
       "11                                    -12.867665             0.150  \n",
       "3                                     -21.844910             0.140  \n",
       "5                                     -26.760479             0.150  \n",
       "44                                     -5.202395             0.150  \n",
       "41                                     -8.487761             0.110  \n",
       "49                                     -5.500348             0.090  \n",
       "47                                    -18.492537             0.155  \n",
       "51                                     -9.843917             0.150  \n",
       "0                                      -5.309366             0.160  \n",
       "17                                     11.773645             0.130  \n",
       "23                                    -16.407715             0.110  \n",
       "24                                      6.035015             0.145  \n",
       "43                                     -0.109496             0.140  \n",
       "7                                      -7.275529             0.110  \n",
       "31                                      3.982784             0.130  \n",
       "10                                    -26.512760             0.155  \n",
       "8                                     -11.530221             0.110  \n",
       "22                                    -11.125526             0.135  \n",
       "32                                    -10.494362             0.140  \n",
       "2                                            NaN               NaN  \n",
       "9                                     -45.761562               NaN  \n",
       "12                                           NaN               NaN  \n",
       "37                                           NaN               NaN  \n",
       "42                                           NaN               NaN  \n",
       "50                                           NaN               NaN  "
      ]
     },
     "execution_count": 28,
     "metadata": {},
     "output_type": "execute_result"
    }
   ],
   "source": [
    "us_cross_sectional[[\"state\", \"res\", \"non_residential_percent_change_from_baseline\", \"pc_misperception\"]].sort_values(\"res\")"
   ]
  },
  {
   "cell_type": "code",
   "execution_count": 29,
   "metadata": {},
   "outputs": [
    {
     "data": {
      "text/plain": [
       "date\n",
       "2021-02-17     NaN\n",
       "2021-02-16     NaN\n",
       "2021-02-15     NaN\n",
       "2021-02-14     NaN\n",
       "2021-02-13     NaN\n",
       "              ... \n",
       "2020-03-10     5.0\n",
       "2020-03-09     3.6\n",
       "2020-03-08    13.2\n",
       "2020-03-07    10.2\n",
       "2020-03-06     6.4\n",
       "Name: non_residential_percent_change_from_baseline, Length: 349, dtype: float64"
      ]
     },
     "execution_count": 29,
     "metadata": {},
     "output_type": "execute_result"
    }
   ],
   "source": [
    "us_daily.loc[us_daily[\"state\"]==\"Alaska\", \"non_residential_percent_change_from_baseline\"]"
   ]
  },
  {
   "cell_type": "code",
   "execution_count": 30,
   "metadata": {},
   "outputs": [
    {
     "ename": "IndentationError",
     "evalue": "unexpected indent (<ipython-input-30-02cfdc3617e4>, line 2)",
     "output_type": "error",
     "traceback": [
      "\u001b[0;36m  File \u001b[0;32m\"<ipython-input-30-02cfdc3617e4>\"\u001b[0;36m, line \u001b[0;32m2\u001b[0m\n\u001b[0;31m    'grocery_and_pharmacy_percent_change_from_baseline',\u001b[0m\n\u001b[0m    ^\u001b[0m\n\u001b[0;31mIndentationError\u001b[0m\u001b[0;31m:\u001b[0m unexpected indent\n"
     ]
    }
   ],
   "source": [
    "'retail_and_recreation_percent_change_from_baseline',\n",
    "       'grocery_and_pharmacy_percent_change_from_baseline',\n",
    "       'parks_percent_change_from_baseline',\n",
    "       'transit_stations_percent_change_from_baseline',\n",
    "       'workplaces_percent_change_from_baseline',\n",
    "       'residential_percent_change_from_baseline',"
   ]
  }
 ],
 "metadata": {
  "kernelspec": {
   "display_name": "Python 3",
   "language": "python",
   "name": "python3"
  },
  "language_info": {
   "codemirror_mode": {
    "name": "ipython",
    "version": 3
   },
   "file_extension": ".py",
   "mimetype": "text/x-python",
   "name": "python",
   "nbconvert_exporter": "python",
   "pygments_lexer": "ipython3",
   "version": "3.8.3"
  }
 },
 "nbformat": 4,
 "nbformat_minor": 4
}
