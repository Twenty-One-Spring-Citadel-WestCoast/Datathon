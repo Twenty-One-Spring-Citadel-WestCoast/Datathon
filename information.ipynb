{
 "cells": [
  {
   "cell_type": "code",
   "execution_count": 236,
   "metadata": {},
   "outputs": [],
   "source": [
    "from linearmodels.panel import PooledOLS, PanelOLS\n",
    "\n",
    "import statsmodels.api as sm\n",
    "import numpy as np\n",
    "import pandas as pd\n",
    "import plotly.express as px\n",
    "from plotly.subplots import make_subplots\n",
    "from sklearn.decomposition import PCA\n",
    "from sklearn.impute import SimpleImputer\n",
    "from sklearn.pipeline import Pipeline\n",
    "from sklearn.linear_model import LinearRegression\n",
    "import statsmodels.formula.api as smf\n",
    "\n",
    "from statsmodels.iolib.summary2 import summary_col"
   ]
  },
  {
   "cell_type": "markdown",
   "metadata": {},
   "source": [
    "## Read in data"
   ]
  },
  {
   "cell_type": "code",
   "execution_count": 237,
   "metadata": {},
   "outputs": [],
   "source": [
    "us_daily = pd.read_csv(\"data/cleaned/daily_df.csv\", index_col=0)\n",
    "us_daily[\"date\"] = pd.to_datetime(us_daily[\"date\"])\n",
    "us_daily = us_daily.set_index(\"date\")"
   ]
  },
  {
   "cell_type": "code",
   "execution_count": 238,
   "metadata": {},
   "outputs": [],
   "source": [
    "us_monthly = us_daily.groupby([pd.Grouper(freq='M'), 'state']).mean()\n",
    "us_monthly\n",
    "us_monthly = pd.DataFrame(us_monthly.to_records())"
   ]
  },
  {
   "cell_type": "code",
   "execution_count": 239,
   "metadata": {},
   "outputs": [],
   "source": [
    "micperceptions = pd.read_csv(\"data/cleaned/misperception_state_inferred.csv\", index_col=0)\n",
    "micperceptions = pd.DataFrame(micperceptions.to_records())\n",
    "micperceptions.columns = [\"state\", \"pc_misperception\"]\n",
    "micperceptions.pc_misperception = micperceptions.pc_misperception.str.rstrip('%').astype('float') / 100.0"
   ]
  },
  {
   "cell_type": "code",
   "execution_count": 240,
   "metadata": {},
   "outputs": [],
   "source": [
    "us_cross_sectional = us_daily.loc[(us_daily.index >= \"2020-03-01\") & (us_daily.index <= \"2021-01-31\")].groupby([\"state\"]).mean()\n",
    "us_Aug = us_daily.loc[(us_daily.index >= \"2020-08-01\") & (us_daily.index <= \"2021-08-31\")].groupby([\"state\"]).mean()"
   ]
  },
  {
   "cell_type": "code",
   "execution_count": 241,
   "metadata": {},
   "outputs": [],
   "source": [
    "us_cross_sectional = pd.merge(us_cross_sectional, micperceptions, on=\"state\")\n",
    "us_Aug = pd.merge(us_Aug, micperceptions, on=\"state\")"
   ]
  },
  {
   "cell_type": "code",
   "execution_count": 242,
   "metadata": {},
   "outputs": [],
   "source": [
    "reported_compliance = pd.read_csv(\"data/covidstates/beh_2.csv\", index_col=0)\n",
    "\n",
    "US_state_abb = pd.read_csv(\"data/US_state_abb.csv\")\n",
    "US_state_abb.columns = [\"state\", \"state_abb\"]\n",
    "reported_compliance = pd.merge(reported_compliance, US_state_abb, on=\"state_abb\", how=\"left\")"
   ]
  },
  {
   "cell_type": "code",
   "execution_count": 243,
   "metadata": {},
   "outputs": [],
   "source": [
    "reported_compliance.columns = [\"state_abb\", \"not_at_all\", \"not_very\", \"somewhat\", \"very\", \"error_margin\", \"N\", \"wave\", \"state\"]"
   ]
  },
  {
   "cell_type": "markdown",
   "metadata": {},
   "source": [
    "### Misinformation index"
   ]
  },
  {
   "cell_type": "code",
   "execution_count": 244,
   "metadata": {},
   "outputs": [],
   "source": [
    "news_source = pd.read_csv(\"data/news_source.csv\", index_col=0)\n",
    "news_source = news_source.rename({'state': 'state_abb'}, axis=1)\n",
    "\n",
    "source_false_prop = pd.read_csv(\"data/Source_false_prop.csv\", index_col=0)\n",
    "\n",
    "news_source = pd.merge(news_source, US_state_abb, on=\"state_abb\", how=\"left\")"
   ]
  },
  {
   "cell_type": "code",
   "execution_count": 245,
   "metadata": {},
   "outputs": [],
   "source": [
    "news_source[\"misperception_index\"] = 0"
   ]
  },
  {
   "cell_type": "code",
   "execution_count": 246,
   "metadata": {},
   "outputs": [
    {
     "data": {
      "text/html": [
       "<div>\n",
       "<style scoped>\n",
       "    .dataframe tbody tr th:only-of-type {\n",
       "        vertical-align: middle;\n",
       "    }\n",
       "\n",
       "    .dataframe tbody tr th {\n",
       "        vertical-align: top;\n",
       "    }\n",
       "\n",
       "    .dataframe thead th {\n",
       "        text-align: right;\n",
       "    }\n",
       "</style>\n",
       "<table border=\"1\" class=\"dataframe\">\n",
       "  <thead>\n",
       "    <tr style=\"text-align: right;\">\n",
       "      <th></th>\n",
       "      <th>Friends and family</th>\n",
       "      <th>Radio news</th>\n",
       "      <th>Podcasts</th>\n",
       "      <th>Local television</th>\n",
       "      <th>Network television (e.g.  ABC, CBS, or NBC)</th>\n",
       "      <th>Cable television (e.g. CNN, Fox News, or MSNBC)</th>\n",
       "      <th>Late-night comedy shows (e.g. The Late Show with Stephen Colbert or The Daily Show)</th>\n",
       "      <th>Print newspapers (e.g. the New York Times or the Wall Street Journal print edition)</th>\n",
       "      <th>A news website or app (e.g. the New York Times or Fox News websites or apps)</th>\n",
       "      <th>A health website or app (e.g. WebMD)</th>\n",
       "      <th>...</th>\n",
       "      <th>Snapchat  (website or app)</th>\n",
       "      <th>Wikipedia (website or app)</th>\n",
       "      <th>Error Margin.1</th>\n",
       "      <th>N.1</th>\n",
       "      <th>CNN</th>\n",
       "      <th>Fox News</th>\n",
       "      <th>MSNBC</th>\n",
       "      <th>President Trump’s press briefings</th>\n",
       "      <th>Error Margin.2</th>\n",
       "      <th>N.2</th>\n",
       "    </tr>\n",
       "    <tr>\n",
       "      <th>source</th>\n",
       "      <th></th>\n",
       "      <th></th>\n",
       "      <th></th>\n",
       "      <th></th>\n",
       "      <th></th>\n",
       "      <th></th>\n",
       "      <th></th>\n",
       "      <th></th>\n",
       "      <th></th>\n",
       "      <th></th>\n",
       "      <th></th>\n",
       "      <th></th>\n",
       "      <th></th>\n",
       "      <th></th>\n",
       "      <th></th>\n",
       "      <th></th>\n",
       "      <th></th>\n",
       "      <th></th>\n",
       "      <th></th>\n",
       "      <th></th>\n",
       "      <th></th>\n",
       "    </tr>\n",
       "  </thead>\n",
       "  <tbody>\n",
       "    <tr>\n",
       "      <th>false_percentage</th>\n",
       "      <td>0.13</td>\n",
       "      <td>0.14</td>\n",
       "      <td>0.18</td>\n",
       "      <td>0.11</td>\n",
       "      <td>0.12</td>\n",
       "      <td>0.12</td>\n",
       "      <td>0.16</td>\n",
       "      <td>0.12</td>\n",
       "      <td>0.11</td>\n",
       "      <td>0.17</td>\n",
       "      <td>...</td>\n",
       "      <td>0.26</td>\n",
       "      <td>0.25</td>\n",
       "      <td>NaN</td>\n",
       "      <td>NaN</td>\n",
       "      <td>0.16</td>\n",
       "      <td>0.18</td>\n",
       "      <td>0.15</td>\n",
       "      <td>0.18</td>\n",
       "      <td>NaN</td>\n",
       "      <td>NaN</td>\n",
       "    </tr>\n",
       "  </tbody>\n",
       "</table>\n",
       "<p>1 rows × 31 columns</p>\n",
       "</div>"
      ],
      "text/plain": [
       "                  Friends and family  Radio news  Podcasts  Local television  \\\n",
       "source                                                                         \n",
       "false_percentage                0.13        0.14      0.18              0.11   \n",
       "\n",
       "                  Network television (e.g.  ABC, CBS, or NBC)  \\\n",
       "source                                                          \n",
       "false_percentage                                         0.12   \n",
       "\n",
       "                  Cable television (e.g. CNN, Fox News, or MSNBC)  \\\n",
       "source                                                              \n",
       "false_percentage                                             0.12   \n",
       "\n",
       "                  Late-night comedy shows (e.g. The Late Show with Stephen Colbert or The Daily Show)  \\\n",
       "source                                                                                                  \n",
       "false_percentage                                               0.16                                     \n",
       "\n",
       "                  Print newspapers (e.g. the New York Times or the Wall Street Journal print edition)  \\\n",
       "source                                                                                                  \n",
       "false_percentage                                               0.12                                     \n",
       "\n",
       "                  A news website or app (e.g. the New York Times or Fox News websites or apps)  \\\n",
       "source                                                                                           \n",
       "false_percentage                                               0.11                              \n",
       "\n",
       "                  A health website or app (e.g. WebMD)  ...  \\\n",
       "source                                                  ...   \n",
       "false_percentage                                  0.17  ...   \n",
       "\n",
       "                  Snapchat  (website or app)  Wikipedia (website or app)  \\\n",
       "source                                                                     \n",
       "false_percentage                        0.26                        0.25   \n",
       "\n",
       "                  Error Margin.1  N.1   CNN  Fox News  MSNBC  \\\n",
       "source                                                         \n",
       "false_percentage             NaN  NaN  0.16      0.18   0.15   \n",
       "\n",
       "                  President Trump’s press briefings  Error Margin.2  N.2  \n",
       "source                                                                    \n",
       "false_percentage                               0.18             NaN  NaN  \n",
       "\n",
       "[1 rows x 31 columns]"
      ]
     },
     "execution_count": 246,
     "metadata": {},
     "output_type": "execute_result"
    }
   ],
   "source": [
    "source_false_prop"
   ]
  },
  {
   "cell_type": "code",
   "execution_count": 248,
   "metadata": {},
   "outputs": [],
   "source": [
    "sources = [\n",
    "    \"Friends and family\",\n",
    "    \"Radio news\",\n",
    "    \"Podcasts\",\n",
    "    \"Local television\",\n",
    "    \"Network television (e.g.  ABC, CBS, or NBC)\",\n",
    "    \"Late-night comedy shows (e.g. The Late Show with Stephen Colbert or The Daily Show)\",\n",
    "    \"Print newspapers (e.g. the New York Times or the Wall Street Journal print edition)\",\n",
    "    \"A news website or app (e.g. the New York Times or Fox News websites or apps)\",\n",
    "    \"A health website or app (e.g. WebMD)\",\n",
    "    \"A government website or app (e.g. CDC.gov)\",\n",
    "    \"An organization website or app (e.g. WHO.int)\",\n",
    "    \"A search engine website or app (e.g. Google, Bing)\",\n",
    "    \"Facebook (website or app)\",\n",
    "    \"Twitter (website or app)\",\n",
    "    \"Youtube(website or app)\",\n",
    "    \"Reddit (website or app)\",\n",
    "    \"Instagram (website or app)\",\n",
    "    \"Snapchat  (website or app)\",\n",
    "    \"Wikipedia (website or app)\",\n",
    "    \"CNN\",\n",
    "    \"Fox News\",\n",
    "    \"MSNBC\",\n",
    "    \"President Trump’s press briefings\",\n",
    "]"
   ]
  },
  {
   "cell_type": "code",
   "execution_count": 249,
   "metadata": {},
   "outputs": [],
   "source": [
    "source = \"Friends and family\""
   ]
  },
  {
   "cell_type": "code",
   "execution_count": 250,
   "metadata": {},
   "outputs": [],
   "source": [
    "index = news_source[\"misperception_index\"]\n",
    "for source in sources:\n",
    "    index = index + news_source[source] * float(source_false_prop[source])\n",
    "news_source[\"misperception_index\"] = index\n",
    "news_misperception = news_source[[\"state\", \"wave\", \"misperception_index\"]]\n"
   ]
  },
  {
   "cell_type": "code",
   "execution_count": 251,
   "metadata": {},
   "outputs": [],
   "source": [
    "reported_compliance_cross_sectional = reported_compliance.groupby([\"state\"]).mean()\n",
    "news_misperception_cross_sectional = news_misperception.groupby([\"state\"]).mean()\n",
    "\n",
    "us_cross_sectional = pd.merge(us_cross_sectional, reported_compliance_cross_sectional, on=\"state\", how=\"left\")\n",
    "us_cross_sectional = pd.merge(us_cross_sectional, news_misperception_cross_sectional, on=\"state\", how=\"left\")\n",
    "\n",
    "reported_compliance_Aug = reported_compliance.loc[reported_compliance[\"wave\"] == 9].groupby([\"state\"]).mean()\n",
    "news_misperception_Aug = news_misperception.loc[news_misperception[\"wave\"] == 9].groupby([\"state\"]).mean().drop(\"wave\", axis = 1)"
   ]
  },
  {
   "cell_type": "code",
   "execution_count": 252,
   "metadata": {},
   "outputs": [],
   "source": [
    "us_Aug = pd.merge(us_Aug, reported_compliance_Aug, on=\"state\", how=\"left\")\n",
    "us_Aug = pd.merge(us_Aug, news_misperception_Aug, on=\"state\", how=\"left\")"
   ]
  },
  {
   "cell_type": "code",
   "execution_count": 253,
   "metadata": {},
   "outputs": [
    {
     "data": {
      "text/plain": [
       "Index(['not_at_all', 'not_very', 'somewhat', 'very', 'error_margin', 'N',\n",
       "       'wave'],\n",
       "      dtype='object')"
      ]
     },
     "execution_count": 253,
     "metadata": {},
     "output_type": "execute_result"
    }
   ],
   "source": [
    "reported_compliance_Aug.columns"
   ]
  },
  {
   "cell_type": "markdown",
   "metadata": {},
   "source": [
    "## Disease outcomes"
   ]
  },
  {
   "cell_type": "code",
   "execution_count": 254,
   "metadata": {},
   "outputs": [],
   "source": [
    "us_cross_sectional[\"deaths_pth\"] = 1000 * us_cross_sectional[\"deathIncrease\"] / us_cross_sectional[\"pop_2019\"]\n",
    "us_Aug[\"deaths_pth\"] = 1000 * us_Aug[\"deathIncrease\"] / us_Aug[\"pop_2019\"]"
   ]
  },
  {
   "cell_type": "code",
   "execution_count": 255,
   "metadata": {},
   "outputs": [],
   "source": [
    "us_cross_sectional[\"hospitalized_pth\"] = 1000 * us_cross_sectional[\"hospitalizedIncrease\"] / us_cross_sectional[\"pop_2019\"]\n",
    "us_Aug[\"hospitalized_pth\"] = 1000 * us_Aug[\"hospitalizedIncrease\"] / us_Aug[\"pop_2019\"]"
   ]
  },
  {
   "cell_type": "code",
   "execution_count": 256,
   "metadata": {},
   "outputs": [],
   "source": [
    "us_cross_sectional[\"positivity_rate\"] = us_cross_sectional[\"positiveIncrease\"] / us_cross_sectional[\"totalTestResultsIncrease\"]\n",
    "us_Aug[\"positivity_rate\"] = us_Aug[\"positiveIncrease\"] / us_Aug[\"totalTestResultsIncrease\"]"
   ]
  },
  {
   "cell_type": "markdown",
   "metadata": {},
   "source": [
    "There is generally positive relationship between the level of misperceptions and severity of disease outcomes. "
   ]
  },
  {
   "cell_type": "code",
   "execution_count": 271,
   "metadata": {},
   "outputs": [
    {
     "data": {
      "text/html": [
       "<table class=\"simpletable\">\n",
       "<caption>OLS Regression Results</caption>\n",
       "<tr>\n",
       "  <th>Dep. Variable:</th>     <td>positivity_rate</td> <th>  R-squared:         </th> <td>   0.158</td>\n",
       "</tr>\n",
       "<tr>\n",
       "  <th>Model:</th>                   <td>OLS</td>       <th>  Adj. R-squared:    </th> <td>   0.122</td>\n",
       "</tr>\n",
       "<tr>\n",
       "  <th>Method:</th>             <td>Least Squares</td>  <th>  F-statistic:       </th> <td>   4.395</td>\n",
       "</tr>\n",
       "<tr>\n",
       "  <th>Date:</th>             <td>Sun, 21 Feb 2021</td> <th>  Prob (F-statistic):</th>  <td>0.0178</td> \n",
       "</tr>\n",
       "<tr>\n",
       "  <th>Time:</th>                 <td>07:59:26</td>     <th>  Log-Likelihood:    </th> <td>  75.901</td>\n",
       "</tr>\n",
       "<tr>\n",
       "  <th>No. Observations:</th>      <td>    50</td>      <th>  AIC:               </th> <td>  -145.8</td>\n",
       "</tr>\n",
       "<tr>\n",
       "  <th>Df Residuals:</th>          <td>    47</td>      <th>  BIC:               </th> <td>  -140.1</td>\n",
       "</tr>\n",
       "<tr>\n",
       "  <th>Df Model:</th>              <td>     2</td>      <th>                     </th>     <td> </td>   \n",
       "</tr>\n",
       "<tr>\n",
       "  <th>Covariance Type:</th>      <td>nonrobust</td>    <th>                     </th>     <td> </td>   \n",
       "</tr>\n",
       "</table>\n",
       "<table class=\"simpletable\">\n",
       "<tr>\n",
       "           <td></td>              <th>coef</th>     <th>std err</th>      <th>t</th>      <th>P>|t|</th>  <th>[0.025</th>    <th>0.975]</th>  \n",
       "</tr>\n",
       "<tr>\n",
       "  <th>Intercept</th>           <td>    0.2037</td> <td>    0.126</td> <td>    1.613</td> <td> 0.113</td> <td>   -0.050</td> <td>    0.458</td>\n",
       "</tr>\n",
       "<tr>\n",
       "  <th>pc_misperception</th>    <td>    1.1613</td> <td>    0.427</td> <td>    2.721</td> <td> 0.009</td> <td>    0.303</td> <td>    2.020</td>\n",
       "</tr>\n",
       "<tr>\n",
       "  <th>misperception_index</th> <td>   -0.0047</td> <td>    0.002</td> <td>   -2.014</td> <td> 0.050</td> <td>   -0.009</td> <td>-4.29e-06</td>\n",
       "</tr>\n",
       "</table>\n",
       "<table class=\"simpletable\">\n",
       "<tr>\n",
       "  <th>Omnibus:</th>       <td>21.873</td> <th>  Durbin-Watson:     </th> <td>   2.000</td>\n",
       "</tr>\n",
       "<tr>\n",
       "  <th>Prob(Omnibus):</th> <td> 0.000</td> <th>  Jarque-Bera (JB):  </th> <td>  31.991</td>\n",
       "</tr>\n",
       "<tr>\n",
       "  <th>Skew:</th>          <td> 1.479</td> <th>  Prob(JB):          </th> <td>1.13e-07</td>\n",
       "</tr>\n",
       "<tr>\n",
       "  <th>Kurtosis:</th>      <td> 5.571</td> <th>  Cond. No.          </th> <td>3.11e+03</td>\n",
       "</tr>\n",
       "</table><br/><br/>Notes:<br/>[1] Standard Errors assume that the covariance matrix of the errors is correctly specified.<br/>[2] The condition number is large, 3.11e+03. This might indicate that there are<br/>strong multicollinearity or other numerical problems."
      ],
      "text/plain": [
       "<class 'statsmodels.iolib.summary.Summary'>\n",
       "\"\"\"\n",
       "                            OLS Regression Results                            \n",
       "==============================================================================\n",
       "Dep. Variable:        positivity_rate   R-squared:                       0.158\n",
       "Model:                            OLS   Adj. R-squared:                  0.122\n",
       "Method:                 Least Squares   F-statistic:                     4.395\n",
       "Date:                Sun, 21 Feb 2021   Prob (F-statistic):             0.0178\n",
       "Time:                        07:59:26   Log-Likelihood:                 75.901\n",
       "No. Observations:                  50   AIC:                            -145.8\n",
       "Df Residuals:                      47   BIC:                            -140.1\n",
       "Df Model:                           2                                         \n",
       "Covariance Type:            nonrobust                                         \n",
       "=======================================================================================\n",
       "                          coef    std err          t      P>|t|      [0.025      0.975]\n",
       "---------------------------------------------------------------------------------------\n",
       "Intercept               0.2037      0.126      1.613      0.113      -0.050       0.458\n",
       "pc_misperception        1.1613      0.427      2.721      0.009       0.303       2.020\n",
       "misperception_index    -0.0047      0.002     -2.014      0.050      -0.009   -4.29e-06\n",
       "==============================================================================\n",
       "Omnibus:                       21.873   Durbin-Watson:                   2.000\n",
       "Prob(Omnibus):                  0.000   Jarque-Bera (JB):               31.991\n",
       "Skew:                           1.479   Prob(JB):                     1.13e-07\n",
       "Kurtosis:                       5.571   Cond. No.                     3.11e+03\n",
       "==============================================================================\n",
       "\n",
       "Notes:\n",
       "[1] Standard Errors assume that the covariance matrix of the errors is correctly specified.\n",
       "[2] The condition number is large, 3.11e+03. This might indicate that there are\n",
       "strong multicollinearity or other numerical problems.\n",
       "\"\"\""
      ]
     },
     "execution_count": 271,
     "metadata": {},
     "output_type": "execute_result"
    }
   ],
   "source": [
    "cross_sectional_reg_1_posrate = smf.ols('positivity_rate ~ pc_misperception + misperception_index', data=us_cross_sectional).fit()\n",
    "cross_sectional_reg_1_posrate.summary()"
   ]
  },
  {
   "cell_type": "code",
   "execution_count": 272,
   "metadata": {},
   "outputs": [
    {
     "data": {
      "text/html": [
       "<table class=\"simpletable\">\n",
       "<caption>OLS Regression Results</caption>\n",
       "<tr>\n",
       "  <th>Dep. Variable:</th>     <td>positivity_rate</td> <th>  R-squared:         </th> <td>   0.180</td>\n",
       "</tr>\n",
       "<tr>\n",
       "  <th>Model:</th>                   <td>OLS</td>       <th>  Adj. R-squared:    </th> <td>   0.145</td>\n",
       "</tr>\n",
       "<tr>\n",
       "  <th>Method:</th>             <td>Least Squares</td>  <th>  F-statistic:       </th> <td>   5.150</td>\n",
       "</tr>\n",
       "<tr>\n",
       "  <th>Date:</th>             <td>Sun, 21 Feb 2021</td> <th>  Prob (F-statistic):</th>  <td>0.00950</td>\n",
       "</tr>\n",
       "<tr>\n",
       "  <th>Time:</th>                 <td>07:59:55</td>     <th>  Log-Likelihood:    </th> <td>  64.558</td>\n",
       "</tr>\n",
       "<tr>\n",
       "  <th>No. Observations:</th>      <td>    50</td>      <th>  AIC:               </th> <td>  -123.1</td>\n",
       "</tr>\n",
       "<tr>\n",
       "  <th>Df Residuals:</th>          <td>    47</td>      <th>  BIC:               </th> <td>  -117.4</td>\n",
       "</tr>\n",
       "<tr>\n",
       "  <th>Df Model:</th>              <td>     2</td>      <th>                     </th>     <td> </td>   \n",
       "</tr>\n",
       "<tr>\n",
       "  <th>Covariance Type:</th>      <td>nonrobust</td>    <th>                     </th>     <td> </td>   \n",
       "</tr>\n",
       "</table>\n",
       "<table class=\"simpletable\">\n",
       "<tr>\n",
       "           <td></td>              <th>coef</th>     <th>std err</th>      <th>t</th>      <th>P>|t|</th>  <th>[0.025</th>    <th>0.975]</th>  \n",
       "</tr>\n",
       "<tr>\n",
       "  <th>Intercept</th>           <td>    0.3150</td> <td>    0.146</td> <td>    2.157</td> <td> 0.036</td> <td>    0.021</td> <td>    0.609</td>\n",
       "</tr>\n",
       "<tr>\n",
       "  <th>pc_misperception</th>    <td>    1.0366</td> <td>    0.507</td> <td>    2.045</td> <td> 0.047</td> <td>    0.017</td> <td>    2.056</td>\n",
       "</tr>\n",
       "<tr>\n",
       "  <th>misperception_index</th> <td>   -0.0068</td> <td>    0.003</td> <td>   -2.637</td> <td> 0.011</td> <td>   -0.012</td> <td>   -0.002</td>\n",
       "</tr>\n",
       "</table>\n",
       "<table class=\"simpletable\">\n",
       "<tr>\n",
       "  <th>Omnibus:</th>       <td>27.596</td> <th>  Durbin-Watson:     </th> <td>   1.862</td>\n",
       "</tr>\n",
       "<tr>\n",
       "  <th>Prob(Omnibus):</th> <td> 0.000</td> <th>  Jarque-Bera (JB):  </th> <td>  48.799</td>\n",
       "</tr>\n",
       "<tr>\n",
       "  <th>Skew:</th>          <td> 1.745</td> <th>  Prob(JB):          </th> <td>2.53e-11</td>\n",
       "</tr>\n",
       "<tr>\n",
       "  <th>Kurtosis:</th>      <td> 6.353</td> <th>  Cond. No.          </th> <td>2.74e+03</td>\n",
       "</tr>\n",
       "</table><br/><br/>Notes:<br/>[1] Standard Errors assume that the covariance matrix of the errors is correctly specified.<br/>[2] The condition number is large, 2.74e+03. This might indicate that there are<br/>strong multicollinearity or other numerical problems."
      ],
      "text/plain": [
       "<class 'statsmodels.iolib.summary.Summary'>\n",
       "\"\"\"\n",
       "                            OLS Regression Results                            \n",
       "==============================================================================\n",
       "Dep. Variable:        positivity_rate   R-squared:                       0.180\n",
       "Model:                            OLS   Adj. R-squared:                  0.145\n",
       "Method:                 Least Squares   F-statistic:                     5.150\n",
       "Date:                Sun, 21 Feb 2021   Prob (F-statistic):            0.00950\n",
       "Time:                        07:59:55   Log-Likelihood:                 64.558\n",
       "No. Observations:                  50   AIC:                            -123.1\n",
       "Df Residuals:                      47   BIC:                            -117.4\n",
       "Df Model:                           2                                         \n",
       "Covariance Type:            nonrobust                                         \n",
       "=======================================================================================\n",
       "                          coef    std err          t      P>|t|      [0.025      0.975]\n",
       "---------------------------------------------------------------------------------------\n",
       "Intercept               0.3150      0.146      2.157      0.036       0.021       0.609\n",
       "pc_misperception        1.0366      0.507      2.045      0.047       0.017       2.056\n",
       "misperception_index    -0.0068      0.003     -2.637      0.011      -0.012      -0.002\n",
       "==============================================================================\n",
       "Omnibus:                       27.596   Durbin-Watson:                   1.862\n",
       "Prob(Omnibus):                  0.000   Jarque-Bera (JB):               48.799\n",
       "Skew:                           1.745   Prob(JB):                     2.53e-11\n",
       "Kurtosis:                       6.353   Cond. No.                     2.74e+03\n",
       "==============================================================================\n",
       "\n",
       "Notes:\n",
       "[1] Standard Errors assume that the covariance matrix of the errors is correctly specified.\n",
       "[2] The condition number is large, 2.74e+03. This might indicate that there are\n",
       "strong multicollinearity or other numerical problems.\n",
       "\"\"\""
      ]
     },
     "execution_count": 272,
     "metadata": {},
     "output_type": "execute_result"
    }
   ],
   "source": [
    "Aug_reg_1_posrate = smf.ols('positivity_rate ~ pc_misperception + misperception_index', data=us_Aug).fit()\n",
    "Aug_reg_1_posrate.summary()"
   ]
  },
  {
   "cell_type": "code",
   "execution_count": 259,
   "metadata": {},
   "outputs": [
    {
     "data": {
      "text/html": [
       "<table class=\"simpletable\">\n",
       "<caption>OLS Regression Results</caption>\n",
       "<tr>\n",
       "  <th>Dep. Variable:</th>       <td>deaths_pth</td>    <th>  R-squared:         </th> <td>   0.085</td>\n",
       "</tr>\n",
       "<tr>\n",
       "  <th>Model:</th>                   <td>OLS</td>       <th>  Adj. R-squared:    </th> <td>   0.066</td>\n",
       "</tr>\n",
       "<tr>\n",
       "  <th>Method:</th>             <td>Least Squares</td>  <th>  F-statistic:       </th> <td>   4.462</td>\n",
       "</tr>\n",
       "<tr>\n",
       "  <th>Date:</th>             <td>Sun, 21 Feb 2021</td> <th>  Prob (F-statistic):</th>  <td>0.0399</td> \n",
       "</tr>\n",
       "<tr>\n",
       "  <th>Time:</th>                 <td>07:58:47</td>     <th>  Log-Likelihood:    </th> <td>  254.97</td>\n",
       "</tr>\n",
       "<tr>\n",
       "  <th>No. Observations:</th>      <td>    50</td>      <th>  AIC:               </th> <td>  -505.9</td>\n",
       "</tr>\n",
       "<tr>\n",
       "  <th>Df Residuals:</th>          <td>    48</td>      <th>  BIC:               </th> <td>  -502.1</td>\n",
       "</tr>\n",
       "<tr>\n",
       "  <th>Df Model:</th>              <td>     1</td>      <th>                     </th>     <td> </td>   \n",
       "</tr>\n",
       "<tr>\n",
       "  <th>Covariance Type:</th>      <td>nonrobust</td>    <th>                     </th>     <td> </td>   \n",
       "</tr>\n",
       "</table>\n",
       "<table class=\"simpletable\">\n",
       "<tr>\n",
       "          <td></td>            <th>coef</th>     <th>std err</th>      <th>t</th>      <th>P>|t|</th>  <th>[0.025</th>    <th>0.975]</th>  \n",
       "</tr>\n",
       "<tr>\n",
       "  <th>Intercept</th>        <td>    0.0005</td> <td>    0.002</td> <td>    0.339</td> <td> 0.736</td> <td>   -0.003</td> <td>    0.004</td>\n",
       "</tr>\n",
       "<tr>\n",
       "  <th>pc_misperception</th> <td>    0.0234</td> <td>    0.011</td> <td>    2.112</td> <td> 0.040</td> <td>    0.001</td> <td>    0.046</td>\n",
       "</tr>\n",
       "</table>\n",
       "<table class=\"simpletable\">\n",
       "<tr>\n",
       "  <th>Omnibus:</th>       <td> 0.662</td> <th>  Durbin-Watson:     </th> <td>   1.949</td>\n",
       "</tr>\n",
       "<tr>\n",
       "  <th>Prob(Omnibus):</th> <td> 0.718</td> <th>  Jarque-Bera (JB):  </th> <td>   0.754</td>\n",
       "</tr>\n",
       "<tr>\n",
       "  <th>Skew:</th>          <td> 0.242</td> <th>  Prob(JB):          </th> <td>   0.686</td>\n",
       "</tr>\n",
       "<tr>\n",
       "  <th>Kurtosis:</th>      <td> 2.643</td> <th>  Cond. No.          </th> <td>    53.1</td>\n",
       "</tr>\n",
       "</table><br/><br/>Notes:<br/>[1] Standard Errors assume that the covariance matrix of the errors is correctly specified."
      ],
      "text/plain": [
       "<class 'statsmodels.iolib.summary.Summary'>\n",
       "\"\"\"\n",
       "                            OLS Regression Results                            \n",
       "==============================================================================\n",
       "Dep. Variable:             deaths_pth   R-squared:                       0.085\n",
       "Model:                            OLS   Adj. R-squared:                  0.066\n",
       "Method:                 Least Squares   F-statistic:                     4.462\n",
       "Date:                Sun, 21 Feb 2021   Prob (F-statistic):             0.0399\n",
       "Time:                        07:58:47   Log-Likelihood:                 254.97\n",
       "No. Observations:                  50   AIC:                            -505.9\n",
       "Df Residuals:                      48   BIC:                            -502.1\n",
       "Df Model:                           1                                         \n",
       "Covariance Type:            nonrobust                                         \n",
       "====================================================================================\n",
       "                       coef    std err          t      P>|t|      [0.025      0.975]\n",
       "------------------------------------------------------------------------------------\n",
       "Intercept            0.0005      0.002      0.339      0.736      -0.003       0.004\n",
       "pc_misperception     0.0234      0.011      2.112      0.040       0.001       0.046\n",
       "==============================================================================\n",
       "Omnibus:                        0.662   Durbin-Watson:                   1.949\n",
       "Prob(Omnibus):                  0.718   Jarque-Bera (JB):                0.754\n",
       "Skew:                           0.242   Prob(JB):                        0.686\n",
       "Kurtosis:                       2.643   Cond. No.                         53.1\n",
       "==============================================================================\n",
       "\n",
       "Notes:\n",
       "[1] Standard Errors assume that the covariance matrix of the errors is correctly specified.\n",
       "\"\"\""
      ]
     },
     "execution_count": 259,
     "metadata": {},
     "output_type": "execute_result"
    }
   ],
   "source": [
    "cross_sectional_reg_1_dea = smf.ols('deaths_pth ~ pc_misperception', data=us_cross_sectional).fit()\n",
    "cross_sectional_reg_1_dea.summary()"
   ]
  },
  {
   "cell_type": "code",
   "execution_count": 260,
   "metadata": {},
   "outputs": [
    {
     "data": {
      "text/html": [
       "<table class=\"simpletable\">\n",
       "<caption>OLS Regression Results</caption>\n",
       "<tr>\n",
       "  <th>Dep. Variable:</th>       <td>deaths_pth</td>    <th>  R-squared:         </th> <td>   0.160</td>\n",
       "</tr>\n",
       "<tr>\n",
       "  <th>Model:</th>                   <td>OLS</td>       <th>  Adj. R-squared:    </th> <td>   0.143</td>\n",
       "</tr>\n",
       "<tr>\n",
       "  <th>Method:</th>             <td>Least Squares</td>  <th>  F-statistic:       </th> <td>   9.159</td>\n",
       "</tr>\n",
       "<tr>\n",
       "  <th>Date:</th>             <td>Sun, 21 Feb 2021</td> <th>  Prob (F-statistic):</th>  <td>0.00397</td>\n",
       "</tr>\n",
       "<tr>\n",
       "  <th>Time:</th>                 <td>07:58:47</td>     <th>  Log-Likelihood:    </th> <td>  244.14</td>\n",
       "</tr>\n",
       "<tr>\n",
       "  <th>No. Observations:</th>      <td>    50</td>      <th>  AIC:               </th> <td>  -484.3</td>\n",
       "</tr>\n",
       "<tr>\n",
       "  <th>Df Residuals:</th>          <td>    48</td>      <th>  BIC:               </th> <td>  -480.4</td>\n",
       "</tr>\n",
       "<tr>\n",
       "  <th>Df Model:</th>              <td>     1</td>      <th>                     </th>     <td> </td>   \n",
       "</tr>\n",
       "<tr>\n",
       "  <th>Covariance Type:</th>      <td>nonrobust</td>    <th>                     </th>     <td> </td>   \n",
       "</tr>\n",
       "</table>\n",
       "<table class=\"simpletable\">\n",
       "<tr>\n",
       "          <td></td>            <th>coef</th>     <th>std err</th>      <th>t</th>      <th>P>|t|</th>  <th>[0.025</th>    <th>0.975]</th>  \n",
       "</tr>\n",
       "<tr>\n",
       "  <th>Intercept</th>        <td>   -0.0007</td> <td>    0.002</td> <td>   -0.377</td> <td> 0.708</td> <td>   -0.005</td> <td>    0.003</td>\n",
       "</tr>\n",
       "<tr>\n",
       "  <th>pc_misperception</th> <td>    0.0417</td> <td>    0.014</td> <td>    3.026</td> <td> 0.004</td> <td>    0.014</td> <td>    0.069</td>\n",
       "</tr>\n",
       "</table>\n",
       "<table class=\"simpletable\">\n",
       "<tr>\n",
       "  <th>Omnibus:</th>       <td> 0.554</td> <th>  Durbin-Watson:     </th> <td>   1.759</td>\n",
       "</tr>\n",
       "<tr>\n",
       "  <th>Prob(Omnibus):</th> <td> 0.758</td> <th>  Jarque-Bera (JB):  </th> <td>   0.662</td>\n",
       "</tr>\n",
       "<tr>\n",
       "  <th>Skew:</th>          <td>-0.082</td> <th>  Prob(JB):          </th> <td>   0.718</td>\n",
       "</tr>\n",
       "<tr>\n",
       "  <th>Kurtosis:</th>      <td> 2.460</td> <th>  Cond. No.          </th> <td>    53.1</td>\n",
       "</tr>\n",
       "</table><br/><br/>Notes:<br/>[1] Standard Errors assume that the covariance matrix of the errors is correctly specified."
      ],
      "text/plain": [
       "<class 'statsmodels.iolib.summary.Summary'>\n",
       "\"\"\"\n",
       "                            OLS Regression Results                            \n",
       "==============================================================================\n",
       "Dep. Variable:             deaths_pth   R-squared:                       0.160\n",
       "Model:                            OLS   Adj. R-squared:                  0.143\n",
       "Method:                 Least Squares   F-statistic:                     9.159\n",
       "Date:                Sun, 21 Feb 2021   Prob (F-statistic):            0.00397\n",
       "Time:                        07:58:47   Log-Likelihood:                 244.14\n",
       "No. Observations:                  50   AIC:                            -484.3\n",
       "Df Residuals:                      48   BIC:                            -480.4\n",
       "Df Model:                           1                                         \n",
       "Covariance Type:            nonrobust                                         \n",
       "====================================================================================\n",
       "                       coef    std err          t      P>|t|      [0.025      0.975]\n",
       "------------------------------------------------------------------------------------\n",
       "Intercept           -0.0007      0.002     -0.377      0.708      -0.005       0.003\n",
       "pc_misperception     0.0417      0.014      3.026      0.004       0.014       0.069\n",
       "==============================================================================\n",
       "Omnibus:                        0.554   Durbin-Watson:                   1.759\n",
       "Prob(Omnibus):                  0.758   Jarque-Bera (JB):                0.662\n",
       "Skew:                          -0.082   Prob(JB):                        0.718\n",
       "Kurtosis:                       2.460   Cond. No.                         53.1\n",
       "==============================================================================\n",
       "\n",
       "Notes:\n",
       "[1] Standard Errors assume that the covariance matrix of the errors is correctly specified.\n",
       "\"\"\""
      ]
     },
     "execution_count": 260,
     "metadata": {},
     "output_type": "execute_result"
    }
   ],
   "source": [
    "Aug_reg_1_dea = smf.ols('deaths_pth ~ pc_misperception', data=us_Aug).fit()\n",
    "Aug_reg_1_dea.summary()"
   ]
  },
  {
   "cell_type": "code",
   "execution_count": 261,
   "metadata": {},
   "outputs": [
    {
     "name": "stdout",
     "output_type": "stream",
     "text": [
      "\\begin{table}\n",
      "\\caption{}\n",
      "\\label{}\n",
      "\\begin{center}\n",
      "\\begin{tabular}{lll}\n",
      "\\hline\n",
      "                  & positivity\\_rate & deaths\\_pth  \\\\\n",
      "\\hline\n",
      "Intercept         & -0.024           & 0.001        \\\\\n",
      "                  & (0.058)          & (0.002)      \\\\\n",
      "pc\\_misperception & 0.876**          & 0.023**      \\\\\n",
      "                  & (0.415)          & (0.011)      \\\\\n",
      "R-squared         & 0.085            & 0.085        \\\\\n",
      "R-squared Adj.    & 0.066            & 0.066        \\\\\n",
      "\\hline\n",
      "\\end{tabular}\n",
      "\\end{center}\n",
      "\\end{table}\n"
     ]
    }
   ],
   "source": [
    "print(summary_col([cross_sectional_reg_1_posrate, cross_sectional_reg_1_dea],stars=True, float_format=\"%0.3f\").as_latex())"
   ]
  },
  {
   "cell_type": "code",
   "execution_count": 262,
   "metadata": {},
   "outputs": [
    {
     "name": "stdout",
     "output_type": "stream",
     "text": [
      "\\begin{table}\n",
      "\\caption{}\n",
      "\\label{}\n",
      "\\begin{center}\n",
      "\\begin{tabular}{lll}\n",
      "\\hline\n",
      "                  & positivity\\_rate & deaths\\_pth  \\\\\n",
      "\\hline\n",
      "Intercept         & -0.022           & -0.001       \\\\\n",
      "                  & (0.075)          & (0.002)      \\\\\n",
      "pc\\_misperception & 0.924*           & 0.042***     \\\\\n",
      "                  & (0.536)          & (0.014)      \\\\\n",
      "R-squared         & 0.058            & 0.160        \\\\\n",
      "R-squared Adj.    & 0.039            & 0.143        \\\\\n",
      "\\hline\n",
      "\\end{tabular}\n",
      "\\end{center}\n",
      "\\end{table}\n"
     ]
    }
   ],
   "source": [
    "print(summary_col([Aug_reg_1_posrate, Aug_reg_1_dea],stars=True, float_format=\"%0.3f\").as_latex())"
   ]
  },
  {
   "cell_type": "code",
   "execution_count": 263,
   "metadata": {},
   "outputs": [
    {
     "data": {
      "application/vnd.plotly.v1+json": {
       "config": {
        "plotlyServerURL": "https://plot.ly"
       },
       "data": [
        {
         "customdata": [
          [
           "Alabama"
          ],
          [
           "Alaska"
          ],
          [
           "Arizona"
          ],
          [
           "Arkansas"
          ],
          [
           "California"
          ],
          [
           "Colorado"
          ],
          [
           "Connecticut"
          ],
          [
           "Delaware"
          ],
          [
           "Florida"
          ],
          [
           "Georgia"
          ],
          [
           "Hawaii"
          ],
          [
           "Idaho"
          ],
          [
           "Illinois"
          ],
          [
           "Indiana"
          ],
          [
           "Iowa"
          ],
          [
           "Kansas"
          ],
          [
           "Kentucky"
          ],
          [
           "Louisiana"
          ],
          [
           "Maine"
          ],
          [
           "Maryland"
          ],
          [
           "Massachusetts"
          ],
          [
           "Michigan"
          ],
          [
           "Minnesota"
          ],
          [
           "Mississippi"
          ],
          [
           "Missouri"
          ],
          [
           "Montana"
          ],
          [
           "Nebraska"
          ],
          [
           "Nevada"
          ],
          [
           "New Hampshire"
          ],
          [
           "New Jersey"
          ],
          [
           "New Mexico"
          ],
          [
           "New York"
          ],
          [
           "North Carolina"
          ],
          [
           "North Dakota"
          ],
          [
           "Ohio"
          ],
          [
           "Oklahoma"
          ],
          [
           "Oregon"
          ],
          [
           "Pennsylvania"
          ],
          [
           "Rhode Island"
          ],
          [
           "South Carolina"
          ],
          [
           "South Dakota"
          ],
          [
           "Tennessee"
          ],
          [
           "Texas"
          ],
          [
           "Utah"
          ],
          [
           "Vermont"
          ],
          [
           "Virginia"
          ],
          [
           "Washington"
          ],
          [
           "West Virginia"
          ],
          [
           "Wisconsin"
          ],
          [
           "Wyoming"
          ]
         ],
         "hovertemplate": "pc_misperception=%{x}<br>positivity_rate=%{y}<br>state=%{customdata[0]}<extra></extra>",
         "legendgroup": "",
         "marker": {
          "color": "#636efa",
          "symbol": "circle"
         },
         "mode": "markers",
         "name": "",
         "orientation": "v",
         "showlegend": false,
         "type": "scatter",
         "x": [
          0.16,
          0.16,
          0.14,
          0.15,
          0.15,
          0.135,
          0.11,
          0.11,
          0.155,
          0.15,
          0.09,
          0.11,
          0.14,
          0.135,
          0.13,
          0.155,
          0.16,
          0.16,
          0.135,
          0.135,
          0.11,
          0.145,
          0.13,
          0.18,
          0.13,
          0.13,
          0.145,
          0.15,
          0.13,
          0.14,
          0.145,
          0.17,
          0.15,
          0.145,
          0.135,
          0.15,
          0.11,
          0.11,
          0.14,
          0.15,
          0.15,
          0.15,
          0.155,
          0.145,
          0.09,
          0.15,
          0.13,
          0.16,
          0.125,
          0.11
         ],
         "xaxis": "x",
         "y": [
          0.21471384427092943,
          0.03505792442530479,
          0.11321597457663174,
          0.12143290731933612,
          0.07671262627250544,
          0.07266569455525902,
          0.04379996678516095,
          0.06342682448291186,
          0.08820046671028753,
          0.1409389118989032,
          0.026854405133102378,
          0.26975001989759373,
          0.07022167738917065,
          0.0893406946363678,
          0.213419288761902,
          0.23503083290337543,
          0.10107751207100411,
          0.08000602302809734,
          0.028566115258216642,
          0.0505440205647844,
          0.03843832252893905,
          0.06514004451897608,
          0.07404768268879708,
          0.17521690180689384,
          0.11037875811718188,
          0.09822400329542687,
          0.09081147641681485,
          0.1118589623784725,
          0.05204844745200852,
          0.07406791302782087,
          0.07427716275098263,
          0.04386129349735964,
          0.08470004315925765,
          0.07253348628045043,
          0.09871997901713343,
          0.1222901069199689,
          0.04502916765473085,
          0.09136963981210378,
          0.04557478865949738,
          0.1048808757853304,
          0.2688719548543496,
          0.1130596773234,
          0.1356754142768419,
          0.1329411331539936,
          0.013333689938496752,
          0.09655837701723202,
          0.06850604756126438,
          0.062192829071874775,
          0.0958532548731151,
          0.08175324102654555
         ],
         "yaxis": "y"
        },
        {
         "hovertemplate": "<b>OLS trendline</b><br>positivity_rate = 0.876277 * pc_misperception + -0.0239082<br>R<sup>2</sup>=0.084898<br><br>pc_misperception=%{x}<br>positivity_rate=%{y} <b>(trend)</b><extra></extra>",
         "legendgroup": "",
         "marker": {
          "color": "#636efa",
          "symbol": "circle"
         },
         "mode": "lines",
         "name": "",
         "showlegend": false,
         "type": "scatter",
         "x": [
          0.09,
          0.09,
          0.11,
          0.11,
          0.11,
          0.11,
          0.11,
          0.11,
          0.11,
          0.125,
          0.13,
          0.13,
          0.13,
          0.13,
          0.13,
          0.13,
          0.135,
          0.135,
          0.135,
          0.135,
          0.135,
          0.14,
          0.14,
          0.14,
          0.14,
          0.145,
          0.145,
          0.145,
          0.145,
          0.145,
          0.15,
          0.15,
          0.15,
          0.15,
          0.15,
          0.15,
          0.15,
          0.15,
          0.15,
          0.15,
          0.155,
          0.155,
          0.155,
          0.16,
          0.16,
          0.16,
          0.16,
          0.16,
          0.17,
          0.18
         ],
         "xaxis": "x",
         "y": [
          0.05495674931201246,
          0.05495674931201246,
          0.07248228791452671,
          0.07248228791452671,
          0.07248228791452671,
          0.07248228791452671,
          0.07248228791452671,
          0.07248228791452671,
          0.07248228791452671,
          0.0856264418664124,
          0.09000782651704096,
          0.09000782651704096,
          0.09000782651704096,
          0.09000782651704096,
          0.09000782651704096,
          0.09000782651704096,
          0.09438921116766953,
          0.09438921116766953,
          0.09438921116766953,
          0.09438921116766953,
          0.09438921116766953,
          0.0987705958182981,
          0.0987705958182981,
          0.0987705958182981,
          0.0987705958182981,
          0.10315198046892665,
          0.10315198046892665,
          0.10315198046892665,
          0.10315198046892665,
          0.10315198046892665,
          0.10753336511955522,
          0.10753336511955522,
          0.10753336511955522,
          0.10753336511955522,
          0.10753336511955522,
          0.10753336511955522,
          0.10753336511955522,
          0.10753336511955522,
          0.10753336511955522,
          0.10753336511955522,
          0.11191474977018379,
          0.11191474977018379,
          0.11191474977018379,
          0.11629613442081235,
          0.11629613442081235,
          0.11629613442081235,
          0.11629613442081235,
          0.11629613442081235,
          0.1250589037220695,
          0.1338216730233266
         ],
         "yaxis": "y"
        }
       ],
       "layout": {
        "height": 400,
        "legend": {
         "tracegroupgap": 0
        },
        "margin": {
         "t": 60
        },
        "template": {
         "data": {
          "bar": [
           {
            "error_x": {
             "color": "#2a3f5f"
            },
            "error_y": {
             "color": "#2a3f5f"
            },
            "marker": {
             "line": {
              "color": "#E5ECF6",
              "width": 0.5
             }
            },
            "type": "bar"
           }
          ],
          "barpolar": [
           {
            "marker": {
             "line": {
              "color": "#E5ECF6",
              "width": 0.5
             }
            },
            "type": "barpolar"
           }
          ],
          "carpet": [
           {
            "aaxis": {
             "endlinecolor": "#2a3f5f",
             "gridcolor": "white",
             "linecolor": "white",
             "minorgridcolor": "white",
             "startlinecolor": "#2a3f5f"
            },
            "baxis": {
             "endlinecolor": "#2a3f5f",
             "gridcolor": "white",
             "linecolor": "white",
             "minorgridcolor": "white",
             "startlinecolor": "#2a3f5f"
            },
            "type": "carpet"
           }
          ],
          "choropleth": [
           {
            "colorbar": {
             "outlinewidth": 0,
             "ticks": ""
            },
            "type": "choropleth"
           }
          ],
          "contour": [
           {
            "colorbar": {
             "outlinewidth": 0,
             "ticks": ""
            },
            "colorscale": [
             [
              0,
              "#0d0887"
             ],
             [
              0.1111111111111111,
              "#46039f"
             ],
             [
              0.2222222222222222,
              "#7201a8"
             ],
             [
              0.3333333333333333,
              "#9c179e"
             ],
             [
              0.4444444444444444,
              "#bd3786"
             ],
             [
              0.5555555555555556,
              "#d8576b"
             ],
             [
              0.6666666666666666,
              "#ed7953"
             ],
             [
              0.7777777777777778,
              "#fb9f3a"
             ],
             [
              0.8888888888888888,
              "#fdca26"
             ],
             [
              1,
              "#f0f921"
             ]
            ],
            "type": "contour"
           }
          ],
          "contourcarpet": [
           {
            "colorbar": {
             "outlinewidth": 0,
             "ticks": ""
            },
            "type": "contourcarpet"
           }
          ],
          "heatmap": [
           {
            "colorbar": {
             "outlinewidth": 0,
             "ticks": ""
            },
            "colorscale": [
             [
              0,
              "#0d0887"
             ],
             [
              0.1111111111111111,
              "#46039f"
             ],
             [
              0.2222222222222222,
              "#7201a8"
             ],
             [
              0.3333333333333333,
              "#9c179e"
             ],
             [
              0.4444444444444444,
              "#bd3786"
             ],
             [
              0.5555555555555556,
              "#d8576b"
             ],
             [
              0.6666666666666666,
              "#ed7953"
             ],
             [
              0.7777777777777778,
              "#fb9f3a"
             ],
             [
              0.8888888888888888,
              "#fdca26"
             ],
             [
              1,
              "#f0f921"
             ]
            ],
            "type": "heatmap"
           }
          ],
          "heatmapgl": [
           {
            "colorbar": {
             "outlinewidth": 0,
             "ticks": ""
            },
            "colorscale": [
             [
              0,
              "#0d0887"
             ],
             [
              0.1111111111111111,
              "#46039f"
             ],
             [
              0.2222222222222222,
              "#7201a8"
             ],
             [
              0.3333333333333333,
              "#9c179e"
             ],
             [
              0.4444444444444444,
              "#bd3786"
             ],
             [
              0.5555555555555556,
              "#d8576b"
             ],
             [
              0.6666666666666666,
              "#ed7953"
             ],
             [
              0.7777777777777778,
              "#fb9f3a"
             ],
             [
              0.8888888888888888,
              "#fdca26"
             ],
             [
              1,
              "#f0f921"
             ]
            ],
            "type": "heatmapgl"
           }
          ],
          "histogram": [
           {
            "marker": {
             "colorbar": {
              "outlinewidth": 0,
              "ticks": ""
             }
            },
            "type": "histogram"
           }
          ],
          "histogram2d": [
           {
            "colorbar": {
             "outlinewidth": 0,
             "ticks": ""
            },
            "colorscale": [
             [
              0,
              "#0d0887"
             ],
             [
              0.1111111111111111,
              "#46039f"
             ],
             [
              0.2222222222222222,
              "#7201a8"
             ],
             [
              0.3333333333333333,
              "#9c179e"
             ],
             [
              0.4444444444444444,
              "#bd3786"
             ],
             [
              0.5555555555555556,
              "#d8576b"
             ],
             [
              0.6666666666666666,
              "#ed7953"
             ],
             [
              0.7777777777777778,
              "#fb9f3a"
             ],
             [
              0.8888888888888888,
              "#fdca26"
             ],
             [
              1,
              "#f0f921"
             ]
            ],
            "type": "histogram2d"
           }
          ],
          "histogram2dcontour": [
           {
            "colorbar": {
             "outlinewidth": 0,
             "ticks": ""
            },
            "colorscale": [
             [
              0,
              "#0d0887"
             ],
             [
              0.1111111111111111,
              "#46039f"
             ],
             [
              0.2222222222222222,
              "#7201a8"
             ],
             [
              0.3333333333333333,
              "#9c179e"
             ],
             [
              0.4444444444444444,
              "#bd3786"
             ],
             [
              0.5555555555555556,
              "#d8576b"
             ],
             [
              0.6666666666666666,
              "#ed7953"
             ],
             [
              0.7777777777777778,
              "#fb9f3a"
             ],
             [
              0.8888888888888888,
              "#fdca26"
             ],
             [
              1,
              "#f0f921"
             ]
            ],
            "type": "histogram2dcontour"
           }
          ],
          "mesh3d": [
           {
            "colorbar": {
             "outlinewidth": 0,
             "ticks": ""
            },
            "type": "mesh3d"
           }
          ],
          "parcoords": [
           {
            "line": {
             "colorbar": {
              "outlinewidth": 0,
              "ticks": ""
             }
            },
            "type": "parcoords"
           }
          ],
          "pie": [
           {
            "automargin": true,
            "type": "pie"
           }
          ],
          "scatter": [
           {
            "marker": {
             "colorbar": {
              "outlinewidth": 0,
              "ticks": ""
             }
            },
            "type": "scatter"
           }
          ],
          "scatter3d": [
           {
            "line": {
             "colorbar": {
              "outlinewidth": 0,
              "ticks": ""
             }
            },
            "marker": {
             "colorbar": {
              "outlinewidth": 0,
              "ticks": ""
             }
            },
            "type": "scatter3d"
           }
          ],
          "scattercarpet": [
           {
            "marker": {
             "colorbar": {
              "outlinewidth": 0,
              "ticks": ""
             }
            },
            "type": "scattercarpet"
           }
          ],
          "scattergeo": [
           {
            "marker": {
             "colorbar": {
              "outlinewidth": 0,
              "ticks": ""
             }
            },
            "type": "scattergeo"
           }
          ],
          "scattergl": [
           {
            "marker": {
             "colorbar": {
              "outlinewidth": 0,
              "ticks": ""
             }
            },
            "type": "scattergl"
           }
          ],
          "scattermapbox": [
           {
            "marker": {
             "colorbar": {
              "outlinewidth": 0,
              "ticks": ""
             }
            },
            "type": "scattermapbox"
           }
          ],
          "scatterpolar": [
           {
            "marker": {
             "colorbar": {
              "outlinewidth": 0,
              "ticks": ""
             }
            },
            "type": "scatterpolar"
           }
          ],
          "scatterpolargl": [
           {
            "marker": {
             "colorbar": {
              "outlinewidth": 0,
              "ticks": ""
             }
            },
            "type": "scatterpolargl"
           }
          ],
          "scatterternary": [
           {
            "marker": {
             "colorbar": {
              "outlinewidth": 0,
              "ticks": ""
             }
            },
            "type": "scatterternary"
           }
          ],
          "surface": [
           {
            "colorbar": {
             "outlinewidth": 0,
             "ticks": ""
            },
            "colorscale": [
             [
              0,
              "#0d0887"
             ],
             [
              0.1111111111111111,
              "#46039f"
             ],
             [
              0.2222222222222222,
              "#7201a8"
             ],
             [
              0.3333333333333333,
              "#9c179e"
             ],
             [
              0.4444444444444444,
              "#bd3786"
             ],
             [
              0.5555555555555556,
              "#d8576b"
             ],
             [
              0.6666666666666666,
              "#ed7953"
             ],
             [
              0.7777777777777778,
              "#fb9f3a"
             ],
             [
              0.8888888888888888,
              "#fdca26"
             ],
             [
              1,
              "#f0f921"
             ]
            ],
            "type": "surface"
           }
          ],
          "table": [
           {
            "cells": {
             "fill": {
              "color": "#EBF0F8"
             },
             "line": {
              "color": "white"
             }
            },
            "header": {
             "fill": {
              "color": "#C8D4E3"
             },
             "line": {
              "color": "white"
             }
            },
            "type": "table"
           }
          ]
         },
         "layout": {
          "annotationdefaults": {
           "arrowcolor": "#2a3f5f",
           "arrowhead": 0,
           "arrowwidth": 1
          },
          "autotypenumbers": "strict",
          "coloraxis": {
           "colorbar": {
            "outlinewidth": 0,
            "ticks": ""
           }
          },
          "colorscale": {
           "diverging": [
            [
             0,
             "#8e0152"
            ],
            [
             0.1,
             "#c51b7d"
            ],
            [
             0.2,
             "#de77ae"
            ],
            [
             0.3,
             "#f1b6da"
            ],
            [
             0.4,
             "#fde0ef"
            ],
            [
             0.5,
             "#f7f7f7"
            ],
            [
             0.6,
             "#e6f5d0"
            ],
            [
             0.7,
             "#b8e186"
            ],
            [
             0.8,
             "#7fbc41"
            ],
            [
             0.9,
             "#4d9221"
            ],
            [
             1,
             "#276419"
            ]
           ],
           "sequential": [
            [
             0,
             "#0d0887"
            ],
            [
             0.1111111111111111,
             "#46039f"
            ],
            [
             0.2222222222222222,
             "#7201a8"
            ],
            [
             0.3333333333333333,
             "#9c179e"
            ],
            [
             0.4444444444444444,
             "#bd3786"
            ],
            [
             0.5555555555555556,
             "#d8576b"
            ],
            [
             0.6666666666666666,
             "#ed7953"
            ],
            [
             0.7777777777777778,
             "#fb9f3a"
            ],
            [
             0.8888888888888888,
             "#fdca26"
            ],
            [
             1,
             "#f0f921"
            ]
           ],
           "sequentialminus": [
            [
             0,
             "#0d0887"
            ],
            [
             0.1111111111111111,
             "#46039f"
            ],
            [
             0.2222222222222222,
             "#7201a8"
            ],
            [
             0.3333333333333333,
             "#9c179e"
            ],
            [
             0.4444444444444444,
             "#bd3786"
            ],
            [
             0.5555555555555556,
             "#d8576b"
            ],
            [
             0.6666666666666666,
             "#ed7953"
            ],
            [
             0.7777777777777778,
             "#fb9f3a"
            ],
            [
             0.8888888888888888,
             "#fdca26"
            ],
            [
             1,
             "#f0f921"
            ]
           ]
          },
          "colorway": [
           "#636efa",
           "#EF553B",
           "#00cc96",
           "#ab63fa",
           "#FFA15A",
           "#19d3f3",
           "#FF6692",
           "#B6E880",
           "#FF97FF",
           "#FECB52"
          ],
          "font": {
           "color": "#2a3f5f"
          },
          "geo": {
           "bgcolor": "white",
           "lakecolor": "white",
           "landcolor": "#E5ECF6",
           "showlakes": true,
           "showland": true,
           "subunitcolor": "white"
          },
          "hoverlabel": {
           "align": "left"
          },
          "hovermode": "closest",
          "mapbox": {
           "style": "light"
          },
          "paper_bgcolor": "white",
          "plot_bgcolor": "#E5ECF6",
          "polar": {
           "angularaxis": {
            "gridcolor": "white",
            "linecolor": "white",
            "ticks": ""
           },
           "bgcolor": "#E5ECF6",
           "radialaxis": {
            "gridcolor": "white",
            "linecolor": "white",
            "ticks": ""
           }
          },
          "scene": {
           "xaxis": {
            "backgroundcolor": "#E5ECF6",
            "gridcolor": "white",
            "gridwidth": 2,
            "linecolor": "white",
            "showbackground": true,
            "ticks": "",
            "zerolinecolor": "white"
           },
           "yaxis": {
            "backgroundcolor": "#E5ECF6",
            "gridcolor": "white",
            "gridwidth": 2,
            "linecolor": "white",
            "showbackground": true,
            "ticks": "",
            "zerolinecolor": "white"
           },
           "zaxis": {
            "backgroundcolor": "#E5ECF6",
            "gridcolor": "white",
            "gridwidth": 2,
            "linecolor": "white",
            "showbackground": true,
            "ticks": "",
            "zerolinecolor": "white"
           }
          },
          "shapedefaults": {
           "line": {
            "color": "#2a3f5f"
           }
          },
          "ternary": {
           "aaxis": {
            "gridcolor": "white",
            "linecolor": "white",
            "ticks": ""
           },
           "baxis": {
            "gridcolor": "white",
            "linecolor": "white",
            "ticks": ""
           },
           "bgcolor": "#E5ECF6",
           "caxis": {
            "gridcolor": "white",
            "linecolor": "white",
            "ticks": ""
           }
          },
          "title": {
           "x": 0.05
          },
          "xaxis": {
           "automargin": true,
           "gridcolor": "white",
           "linecolor": "white",
           "ticks": "",
           "title": {
            "standoff": 15
           },
           "zerolinecolor": "white",
           "zerolinewidth": 2
          },
          "yaxis": {
           "automargin": true,
           "gridcolor": "white",
           "linecolor": "white",
           "ticks": "",
           "title": {
            "standoff": 15
           },
           "zerolinecolor": "white",
           "zerolinewidth": 2
          }
         }
        },
        "width": 400,
        "xaxis": {
         "anchor": "y",
         "autorange": true,
         "domain": [
          0,
          1
         ],
         "range": [
          0.08320143884892087,
          0.18679856115107912
         ],
         "title": {
          "text": "pc_misperception"
         },
         "type": "linear"
        },
        "yaxis": {
         "anchor": "x",
         "autorange": true,
         "domain": [
          0,
          1
         ],
         "range": [
          -0.005628665588279732,
          0.2887123754243702
         ],
         "title": {
          "text": "positivity_rate"
         },
         "type": "linear"
        }
       }
      },
      "image/png": "[encoded data removed]",
      "text/html": [
       "<div>                            <div id=\"8bea929a-ba5b-444e-a210-629474f3800a\" class=\"plotly-graph-div\" style=\"height:400px; width:400px;\"></div>            <script type=\"text/javascript\">                require([\"plotly\"], function(Plotly) {                    window.PLOTLYENV=window.PLOTLYENV || {};                                    if (document.getElementById(\"8bea929a-ba5b-444e-a210-629474f3800a\")) {                    Plotly.newPlot(                        \"8bea929a-ba5b-444e-a210-629474f3800a\",                        [{\"customdata\": [[\"Alabama\"], [\"Alaska\"], [\"Arizona\"], [\"Arkansas\"], [\"California\"], [\"Colorado\"], [\"Connecticut\"], [\"Delaware\"], [\"Florida\"], [\"Georgia\"], [\"Hawaii\"], [\"Idaho\"], [\"Illinois\"], [\"Indiana\"], [\"Iowa\"], [\"Kansas\"], [\"Kentucky\"], [\"Louisiana\"], [\"Maine\"], [\"Maryland\"], [\"Massachusetts\"], [\"Michigan\"], [\"Minnesota\"], [\"Mississippi\"], [\"Missouri\"], [\"Montana\"], [\"Nebraska\"], [\"Nevada\"], [\"New Hampshire\"], [\"New Jersey\"], [\"New Mexico\"], [\"New York\"], [\"North Carolina\"], [\"North Dakota\"], [\"Ohio\"], [\"Oklahoma\"], [\"Oregon\"], [\"Pennsylvania\"], [\"Rhode Island\"], [\"South Carolina\"], [\"South Dakota\"], [\"Tennessee\"], [\"Texas\"], [\"Utah\"], [\"Vermont\"], [\"Virginia\"], [\"Washington\"], [\"West Virginia\"], [\"Wisconsin\"], [\"Wyoming\"]], \"hovertemplate\": \"pc_misperception=%{x}<br>positivity_rate=%{y}<br>state=%{customdata[0]}<extra></extra>\", \"legendgroup\": \"\", \"marker\": {\"color\": \"#636efa\", \"symbol\": \"circle\"}, \"mode\": \"markers\", \"name\": \"\", \"orientation\": \"v\", \"showlegend\": false, \"type\": \"scatter\", \"x\": [0.16, 0.16, 0.14, 0.15, 0.15, 0.135, 0.11, 0.11, 0.155, 0.15, 0.09, 0.11, 0.14, 0.135, 0.13, 0.155, 0.16, 0.16, 0.135, 0.135, 0.11, 0.145, 0.13, 0.18, 0.13, 0.13, 0.145, 0.15, 0.13, 0.14, 0.145, 0.17, 0.15, 0.145, 0.135, 0.15, 0.11, 0.11, 0.14, 0.15, 0.15, 0.15, 0.155, 0.145, 0.09, 0.15, 0.13, 0.16, 0.125, 0.11], \"xaxis\": \"x\", \"y\": [0.21471384427092943, 0.03505792442530479, 0.11321597457663174, 0.12143290731933612, 0.07671262627250544, 0.07266569455525902, 0.04379996678516095, 0.06342682448291186, 0.08820046671028753, 0.1409389118989032, 0.026854405133102378, 0.26975001989759373, 0.07022167738917065, 0.0893406946363678, 0.213419288761902, 0.23503083290337543, 0.10107751207100411, 0.08000602302809734, 0.028566115258216642, 0.0505440205647844, 0.03843832252893905, 0.06514004451897608, 0.07404768268879708, 0.17521690180689384, 0.11037875811718188, 0.09822400329542687, 0.09081147641681485, 0.1118589623784725, 0.05204844745200852, 0.07406791302782087, 0.07427716275098263, 0.04386129349735964, 0.08470004315925765, 0.07253348628045043, 0.09871997901713343, 0.1222901069199689, 0.04502916765473085, 0.09136963981210378, 0.04557478865949738, 0.1048808757853304, 0.2688719548543496, 0.1130596773234, 0.1356754142768419, 0.1329411331539936, 0.013333689938496752, 0.09655837701723202, 0.06850604756126438, 0.062192829071874775, 0.0958532548731151, 0.08175324102654555], \"yaxis\": \"y\"}, {\"hovertemplate\": \"<b>OLS trendline</b><br>positivity_rate = 0.876277 * pc_misperception + -0.0239082<br>R<sup>2</sup>=0.084898<br><br>pc_misperception=%{x}<br>positivity_rate=%{y} <b>(trend)</b><extra></extra>\", \"legendgroup\": \"\", \"marker\": {\"color\": \"#636efa\", \"symbol\": \"circle\"}, \"mode\": \"lines\", \"name\": \"\", \"showlegend\": false, \"type\": \"scatter\", \"x\": [0.09, 0.09, 0.11, 0.11, 0.11, 0.11, 0.11, 0.11, 0.11, 0.125, 0.13, 0.13, 0.13, 0.13, 0.13, 0.13, 0.135, 0.135, 0.135, 0.135, 0.135, 0.14, 0.14, 0.14, 0.14, 0.145, 0.145, 0.145, 0.145, 0.145, 0.15, 0.15, 0.15, 0.15, 0.15, 0.15, 0.15, 0.15, 0.15, 0.15, 0.155, 0.155, 0.155, 0.16, 0.16, 0.16, 0.16, 0.16, 0.17, 0.18], \"xaxis\": \"x\", \"y\": [0.05495674931201246, 0.05495674931201246, 0.07248228791452671, 0.07248228791452671, 0.07248228791452671, 0.07248228791452671, 0.07248228791452671, 0.07248228791452671, 0.07248228791452671, 0.0856264418664124, 0.09000782651704096, 0.09000782651704096, 0.09000782651704096, 0.09000782651704096, 0.09000782651704096, 0.09000782651704096, 0.09438921116766953, 0.09438921116766953, 0.09438921116766953, 0.09438921116766953, 0.09438921116766953, 0.0987705958182981, 0.0987705958182981, 0.0987705958182981, 0.0987705958182981, 0.10315198046892665, 0.10315198046892665, 0.10315198046892665, 0.10315198046892665, 0.10315198046892665, 0.10753336511955522, 0.10753336511955522, 0.10753336511955522, 0.10753336511955522, 0.10753336511955522, 0.10753336511955522, 0.10753336511955522, 0.10753336511955522, 0.10753336511955522, 0.10753336511955522, 0.11191474977018379, 0.11191474977018379, 0.11191474977018379, 0.11629613442081235, 0.11629613442081235, 0.11629613442081235, 0.11629613442081235, 0.11629613442081235, 0.1250589037220695, 0.1338216730233266], \"yaxis\": \"y\"}],                        {\"height\": 400, \"legend\": {\"tracegroupgap\": 0}, \"margin\": {\"t\": 60}, \"template\": {\"data\": {\"bar\": [{\"error_x\": {\"color\": \"#2a3f5f\"}, \"error_y\": {\"color\": \"#2a3f5f\"}, \"marker\": {\"line\": {\"color\": \"#E5ECF6\", \"width\": 0.5}}, \"type\": \"bar\"}], \"barpolar\": [{\"marker\": {\"line\": {\"color\": \"#E5ECF6\", \"width\": 0.5}}, \"type\": \"barpolar\"}], \"carpet\": [{\"aaxis\": {\"endlinecolor\": \"#2a3f5f\", \"gridcolor\": \"white\", \"linecolor\": \"white\", \"minorgridcolor\": \"white\", \"startlinecolor\": \"#2a3f5f\"}, \"baxis\": {\"endlinecolor\": \"#2a3f5f\", \"gridcolor\": \"white\", \"linecolor\": \"white\", \"minorgridcolor\": \"white\", \"startlinecolor\": \"#2a3f5f\"}, \"type\": \"carpet\"}], \"choropleth\": [{\"colorbar\": {\"outlinewidth\": 0, \"ticks\": \"\"}, \"type\": \"choropleth\"}], \"contour\": [{\"colorbar\": {\"outlinewidth\": 0, \"ticks\": \"\"}, \"colorscale\": [[0.0, \"#0d0887\"], [0.1111111111111111, \"#46039f\"], [0.2222222222222222, \"#7201a8\"], [0.3333333333333333, \"#9c179e\"], [0.4444444444444444, \"#bd3786\"], [0.5555555555555556, \"#d8576b\"], [0.6666666666666666, \"#ed7953\"], [0.7777777777777778, \"#fb9f3a\"], [0.8888888888888888, \"#fdca26\"], [1.0, \"#f0f921\"]], \"type\": \"contour\"}], \"contourcarpet\": [{\"colorbar\": {\"outlinewidth\": 0, \"ticks\": \"\"}, \"type\": \"contourcarpet\"}], \"heatmap\": [{\"colorbar\": {\"outlinewidth\": 0, \"ticks\": \"\"}, \"colorscale\": [[0.0, \"#0d0887\"], [0.1111111111111111, \"#46039f\"], [0.2222222222222222, \"#7201a8\"], [0.3333333333333333, \"#9c179e\"], [0.4444444444444444, \"#bd3786\"], [0.5555555555555556, \"#d8576b\"], [0.6666666666666666, \"#ed7953\"], [0.7777777777777778, \"#fb9f3a\"], [0.8888888888888888, \"#fdca26\"], [1.0, \"#f0f921\"]], \"type\": \"heatmap\"}], \"heatmapgl\": [{\"colorbar\": {\"outlinewidth\": 0, \"ticks\": \"\"}, \"colorscale\": [[0.0, \"#0d0887\"], [0.1111111111111111, \"#46039f\"], [0.2222222222222222, \"#7201a8\"], [0.3333333333333333, \"#9c179e\"], [0.4444444444444444, \"#bd3786\"], [0.5555555555555556, \"#d8576b\"], [0.6666666666666666, \"#ed7953\"], [0.7777777777777778, \"#fb9f3a\"], [0.8888888888888888, \"#fdca26\"], [1.0, \"#f0f921\"]], \"type\": \"heatmapgl\"}], \"histogram\": [{\"marker\": {\"colorbar\": {\"outlinewidth\": 0, \"ticks\": \"\"}}, \"type\": \"histogram\"}], \"histogram2d\": [{\"colorbar\": {\"outlinewidth\": 0, \"ticks\": \"\"}, \"colorscale\": [[0.0, \"#0d0887\"], [0.1111111111111111, \"#46039f\"], [0.2222222222222222, \"#7201a8\"], [0.3333333333333333, \"#9c179e\"], [0.4444444444444444, \"#bd3786\"], [0.5555555555555556, \"#d8576b\"], [0.6666666666666666, \"#ed7953\"], [0.7777777777777778, \"#fb9f3a\"], [0.8888888888888888, \"#fdca26\"], [1.0, \"#f0f921\"]], \"type\": \"histogram2d\"}], \"histogram2dcontour\": [{\"colorbar\": {\"outlinewidth\": 0, \"ticks\": \"\"}, \"colorscale\": [[0.0, \"#0d0887\"], [0.1111111111111111, \"#46039f\"], [0.2222222222222222, \"#7201a8\"], [0.3333333333333333, \"#9c179e\"], [0.4444444444444444, \"#bd3786\"], [0.5555555555555556, \"#d8576b\"], [0.6666666666666666, \"#ed7953\"], [0.7777777777777778, \"#fb9f3a\"], [0.8888888888888888, \"#fdca26\"], [1.0, \"#f0f921\"]], \"type\": \"histogram2dcontour\"}], \"mesh3d\": [{\"colorbar\": {\"outlinewidth\": 0, \"ticks\": \"\"}, \"type\": \"mesh3d\"}], \"parcoords\": [{\"line\": {\"colorbar\": {\"outlinewidth\": 0, \"ticks\": \"\"}}, \"type\": \"parcoords\"}], \"pie\": [{\"automargin\": true, \"type\": \"pie\"}], \"scatter\": [{\"marker\": {\"colorbar\": {\"outlinewidth\": 0, \"ticks\": \"\"}}, \"type\": \"scatter\"}], \"scatter3d\": [{\"line\": {\"colorbar\": {\"outlinewidth\": 0, \"ticks\": \"\"}}, \"marker\": {\"colorbar\": {\"outlinewidth\": 0, \"ticks\": \"\"}}, \"type\": \"scatter3d\"}], \"scattercarpet\": [{\"marker\": {\"colorbar\": {\"outlinewidth\": 0, \"ticks\": \"\"}}, \"type\": \"scattercarpet\"}], \"scattergeo\": [{\"marker\": {\"colorbar\": {\"outlinewidth\": 0, \"ticks\": \"\"}}, \"type\": \"scattergeo\"}], \"scattergl\": [{\"marker\": {\"colorbar\": {\"outlinewidth\": 0, \"ticks\": \"\"}}, \"type\": \"scattergl\"}], \"scattermapbox\": [{\"marker\": {\"colorbar\": {\"outlinewidth\": 0, \"ticks\": \"\"}}, \"type\": \"scattermapbox\"}], \"scatterpolar\": [{\"marker\": {\"colorbar\": {\"outlinewidth\": 0, \"ticks\": \"\"}}, \"type\": \"scatterpolar\"}], \"scatterpolargl\": [{\"marker\": {\"colorbar\": {\"outlinewidth\": 0, \"ticks\": \"\"}}, \"type\": \"scatterpolargl\"}], \"scatterternary\": [{\"marker\": {\"colorbar\": {\"outlinewidth\": 0, \"ticks\": \"\"}}, \"type\": \"scatterternary\"}], \"surface\": [{\"colorbar\": {\"outlinewidth\": 0, \"ticks\": \"\"}, \"colorscale\": [[0.0, \"#0d0887\"], [0.1111111111111111, \"#46039f\"], [0.2222222222222222, \"#7201a8\"], [0.3333333333333333, \"#9c179e\"], [0.4444444444444444, \"#bd3786\"], [0.5555555555555556, \"#d8576b\"], [0.6666666666666666, \"#ed7953\"], [0.7777777777777778, \"#fb9f3a\"], [0.8888888888888888, \"#fdca26\"], [1.0, \"#f0f921\"]], \"type\": \"surface\"}], \"table\": [{\"cells\": {\"fill\": {\"color\": \"#EBF0F8\"}, \"line\": {\"color\": \"white\"}}, \"header\": {\"fill\": {\"color\": \"#C8D4E3\"}, \"line\": {\"color\": \"white\"}}, \"type\": \"table\"}]}, \"layout\": {\"annotationdefaults\": {\"arrowcolor\": \"#2a3f5f\", \"arrowhead\": 0, \"arrowwidth\": 1}, \"autotypenumbers\": \"strict\", \"coloraxis\": {\"colorbar\": {\"outlinewidth\": 0, \"ticks\": \"\"}}, \"colorscale\": {\"diverging\": [[0, \"#8e0152\"], [0.1, \"#c51b7d\"], [0.2, \"#de77ae\"], [0.3, \"#f1b6da\"], [0.4, \"#fde0ef\"], [0.5, \"#f7f7f7\"], [0.6, \"#e6f5d0\"], [0.7, \"#b8e186\"], [0.8, \"#7fbc41\"], [0.9, \"#4d9221\"], [1, \"#276419\"]], \"sequential\": [[0.0, \"#0d0887\"], [0.1111111111111111, \"#46039f\"], [0.2222222222222222, \"#7201a8\"], [0.3333333333333333, \"#9c179e\"], [0.4444444444444444, \"#bd3786\"], [0.5555555555555556, \"#d8576b\"], [0.6666666666666666, \"#ed7953\"], [0.7777777777777778, \"#fb9f3a\"], [0.8888888888888888, \"#fdca26\"], [1.0, \"#f0f921\"]], \"sequentialminus\": [[0.0, \"#0d0887\"], [0.1111111111111111, \"#46039f\"], [0.2222222222222222, \"#7201a8\"], [0.3333333333333333, \"#9c179e\"], [0.4444444444444444, \"#bd3786\"], [0.5555555555555556, \"#d8576b\"], [0.6666666666666666, \"#ed7953\"], [0.7777777777777778, \"#fb9f3a\"], [0.8888888888888888, \"#fdca26\"], [1.0, \"#f0f921\"]]}, \"colorway\": [\"#636efa\", \"#EF553B\", \"#00cc96\", \"#ab63fa\", \"#FFA15A\", \"#19d3f3\", \"#FF6692\", \"#B6E880\", \"#FF97FF\", \"#FECB52\"], \"font\": {\"color\": \"#2a3f5f\"}, \"geo\": {\"bgcolor\": \"white\", \"lakecolor\": \"white\", \"landcolor\": \"#E5ECF6\", \"showlakes\": true, \"showland\": true, \"subunitcolor\": \"white\"}, \"hoverlabel\": {\"align\": \"left\"}, \"hovermode\": \"closest\", \"mapbox\": {\"style\": \"light\"}, \"paper_bgcolor\": \"white\", \"plot_bgcolor\": \"#E5ECF6\", \"polar\": {\"angularaxis\": {\"gridcolor\": \"white\", \"linecolor\": \"white\", \"ticks\": \"\"}, \"bgcolor\": \"#E5ECF6\", \"radialaxis\": {\"gridcolor\": \"white\", \"linecolor\": \"white\", \"ticks\": \"\"}}, \"scene\": {\"xaxis\": {\"backgroundcolor\": \"#E5ECF6\", \"gridcolor\": \"white\", \"gridwidth\": 2, \"linecolor\": \"white\", \"showbackground\": true, \"ticks\": \"\", \"zerolinecolor\": \"white\"}, \"yaxis\": {\"backgroundcolor\": \"#E5ECF6\", \"gridcolor\": \"white\", \"gridwidth\": 2, \"linecolor\": \"white\", \"showbackground\": true, \"ticks\": \"\", \"zerolinecolor\": \"white\"}, \"zaxis\": {\"backgroundcolor\": \"#E5ECF6\", \"gridcolor\": \"white\", \"gridwidth\": 2, \"linecolor\": \"white\", \"showbackground\": true, \"ticks\": \"\", \"zerolinecolor\": \"white\"}}, \"shapedefaults\": {\"line\": {\"color\": \"#2a3f5f\"}}, \"ternary\": {\"aaxis\": {\"gridcolor\": \"white\", \"linecolor\": \"white\", \"ticks\": \"\"}, \"baxis\": {\"gridcolor\": \"white\", \"linecolor\": \"white\", \"ticks\": \"\"}, \"bgcolor\": \"#E5ECF6\", \"caxis\": {\"gridcolor\": \"white\", \"linecolor\": \"white\", \"ticks\": \"\"}}, \"title\": {\"x\": 0.05}, \"xaxis\": {\"automargin\": true, \"gridcolor\": \"white\", \"linecolor\": \"white\", \"ticks\": \"\", \"title\": {\"standoff\": 15}, \"zerolinecolor\": \"white\", \"zerolinewidth\": 2}, \"yaxis\": {\"automargin\": true, \"gridcolor\": \"white\", \"linecolor\": \"white\", \"ticks\": \"\", \"title\": {\"standoff\": 15}, \"zerolinecolor\": \"white\", \"zerolinewidth\": 2}}}, \"width\": 400, \"xaxis\": {\"anchor\": \"y\", \"domain\": [0.0, 1.0], \"title\": {\"text\": \"pc_misperception\"}}, \"yaxis\": {\"anchor\": \"x\", \"domain\": [0.0, 1.0], \"title\": {\"text\": \"positivity_rate\"}}},                        {\"responsive\": true}                    ).then(function(){\n",
       "                            \n",
       "var gd = document.getElementById('8bea929a-ba5b-444e-a210-629474f3800a');\n",
       "var x = new MutationObserver(function (mutations, observer) {{\n",
       "        var display = window.getComputedStyle(gd).display;\n",
       "        if (!display || display === 'none') {{\n",
       "            console.log([gd, 'removed!']);\n",
       "            Plotly.purge(gd);\n",
       "            observer.disconnect();\n",
       "        }}\n",
       "}});\n",
       "\n",
       "// Listen for the removal of the full notebook cells\n",
       "var notebookContainer = gd.closest('#notebook-container');\n",
       "if (notebookContainer) {{\n",
       "    x.observe(notebookContainer, {childList: true});\n",
       "}}\n",
       "\n",
       "// Listen for the clearing of the current output cell\n",
       "var outputEl = gd.closest('.output');\n",
       "if (outputEl) {{\n",
       "    x.observe(outputEl, {childList: true});\n",
       "}}\n",
       "\n",
       "                        })                };                });            </script>        </div>"
      ]
     },
     "metadata": {},
     "output_type": "display_data"
    }
   ],
   "source": [
    "fig = px.scatter(us_cross_sectional, x=\"pc_misperception\", y=\"positivity_rate\", hover_data=[\"state\"], trendline=\"ols\", width=400, height=400)\n",
    "fig.show()"
   ]
  },
  {
   "cell_type": "code",
   "execution_count": 264,
   "metadata": {},
   "outputs": [
    {
     "data": {
      "application/vnd.plotly.v1+json": {
       "config": {
        "plotlyServerURL": "https://plot.ly"
       },
       "data": [
        {
         "customdata": [
          [
           "Alabama"
          ],
          [
           "Alaska"
          ],
          [
           "Arizona"
          ],
          [
           "Arkansas"
          ],
          [
           "California"
          ],
          [
           "Colorado"
          ],
          [
           "Connecticut"
          ],
          [
           "Delaware"
          ],
          [
           "Florida"
          ],
          [
           "Georgia"
          ],
          [
           "Hawaii"
          ],
          [
           "Idaho"
          ],
          [
           "Illinois"
          ],
          [
           "Indiana"
          ],
          [
           "Iowa"
          ],
          [
           "Kansas"
          ],
          [
           "Kentucky"
          ],
          [
           "Louisiana"
          ],
          [
           "Maine"
          ],
          [
           "Maryland"
          ],
          [
           "Massachusetts"
          ],
          [
           "Michigan"
          ],
          [
           "Minnesota"
          ],
          [
           "Mississippi"
          ],
          [
           "Missouri"
          ],
          [
           "Montana"
          ],
          [
           "Nebraska"
          ],
          [
           "Nevada"
          ],
          [
           "New Hampshire"
          ],
          [
           "New Jersey"
          ],
          [
           "New Mexico"
          ],
          [
           "New York"
          ],
          [
           "North Carolina"
          ],
          [
           "North Dakota"
          ],
          [
           "Ohio"
          ],
          [
           "Oklahoma"
          ],
          [
           "Oregon"
          ],
          [
           "Pennsylvania"
          ],
          [
           "Rhode Island"
          ],
          [
           "South Carolina"
          ],
          [
           "South Dakota"
          ],
          [
           "Tennessee"
          ],
          [
           "Texas"
          ],
          [
           "Utah"
          ],
          [
           "Vermont"
          ],
          [
           "Virginia"
          ],
          [
           "Washington"
          ],
          [
           "West Virginia"
          ],
          [
           "Wisconsin"
          ],
          [
           "Wyoming"
          ]
         ],
         "hovertemplate": "pc_misperception=%{x}<br>deaths_pth=%{y}<br>state=%{customdata[0]}<extra></extra>",
         "legendgroup": "",
         "marker": {
          "color": "#636efa",
          "symbol": "circle"
         },
         "mode": "markers",
         "name": "",
         "orientation": "v",
         "showlegend": false,
         "type": "scatter",
         "x": [
          0.16,
          0.16,
          0.14,
          0.15,
          0.15,
          0.135,
          0.11,
          0.11,
          0.155,
          0.15,
          0.09,
          0.11,
          0.14,
          0.135,
          0.13,
          0.155,
          0.16,
          0.16,
          0.135,
          0.135,
          0.11,
          0.145,
          0.13,
          0.18,
          0.13,
          0.13,
          0.145,
          0.15,
          0.13,
          0.14,
          0.145,
          0.17,
          0.15,
          0.145,
          0.135,
          0.15,
          0.11,
          0.11,
          0.14,
          0.15,
          0.15,
          0.15,
          0.155,
          0.145,
          0.09,
          0.15,
          0.13,
          0.16,
          0.125,
          0.11
         ],
         "xaxis": "x",
         "y": [
          0.00473704053645111,
          0.0010787533596785218,
          0.005396752906555991,
          0.0048587153448035846,
          0.0030837876519683935,
          0.0029307204756359793,
          0.00597062987171695,
          0.0033715895536500446,
          0.003718570017070698,
          0.004003700524687407,
          0.0008669886191545851,
          0.002916223171813988,
          0.0050215147867813245,
          0.004396238323372942,
          0.0046788338112216474,
          0.003907072880054099,
          0.002524831267178173,
          0.005757267466179875,
          0.001326038855024154,
          0.003540114991597703,
          0.006275687203667271,
          0.004612887644046594,
          0.0033113328662545223,
          0.006136399716262216,
          0.003321702014042443,
          0.003485359474746773,
          0.0029452573484262884,
          0.004163043307813898,
          0.002327458304509293,
          0.0071773675005559,
          0.004701794404245105,
          0.005381864460261469,
          0.0026648434353126063,
          0.005716720513918744,
          0.0028709274930113146,
          0.002708135107533552,
          0.001389200283736456,
          0.005050754339230983,
          0.006072749913735719,
          0.004094970576211719,
          0.006071945471033714,
          0.0042434090827058995,
          0.003756683861716608,
          0.0015690197689310148,
          0.0008323912522089764,
          0.002247198899337832,
          0.0016678234002638049,
          0.0034017218130927176,
          0.003298615346992981,
          0.003055755494195826
         ],
         "yaxis": "y"
        },
        {
         "hovertemplate": "<b>OLS trendline</b><br>deaths_pth = 0.0234267 * pc_misperception + 0.000525823<br>R<sup>2</sup>=0.085049<br><br>pc_misperception=%{x}<br>deaths_pth=%{y} <b>(trend)</b><extra></extra>",
         "legendgroup": "",
         "marker": {
          "color": "#636efa",
          "symbol": "circle"
         },
         "mode": "lines",
         "name": "",
         "showlegend": false,
         "type": "scatter",
         "x": [
          0.09,
          0.09,
          0.11,
          0.11,
          0.11,
          0.11,
          0.11,
          0.11,
          0.11,
          0.125,
          0.13,
          0.13,
          0.13,
          0.13,
          0.13,
          0.13,
          0.135,
          0.135,
          0.135,
          0.135,
          0.135,
          0.14,
          0.14,
          0.14,
          0.14,
          0.145,
          0.145,
          0.145,
          0.145,
          0.145,
          0.15,
          0.15,
          0.15,
          0.15,
          0.15,
          0.15,
          0.15,
          0.15,
          0.15,
          0.15,
          0.155,
          0.155,
          0.155,
          0.16,
          0.16,
          0.16,
          0.16,
          0.16,
          0.17,
          0.18
         ],
         "xaxis": "x",
         "y": [
          0.0026342289398038825,
          0.0026342289398038825,
          0.003102763571264009,
          0.003102763571264009,
          0.003102763571264009,
          0.003102763571264009,
          0.003102763571264009,
          0.003102763571264009,
          0.003102763571264009,
          0.0034541645448591036,
          0.0035712982027241353,
          0.0035712982027241353,
          0.0035712982027241353,
          0.0035712982027241353,
          0.0035712982027241353,
          0.0035712982027241353,
          0.003688431860589167,
          0.003688431860589167,
          0.003688431860589167,
          0.003688431860589167,
          0.003688431860589167,
          0.0038055655184541987,
          0.0038055655184541987,
          0.0038055655184541987,
          0.0038055655184541987,
          0.003922699176319229,
          0.003922699176319229,
          0.003922699176319229,
          0.003922699176319229,
          0.003922699176319229,
          0.004039832834184261,
          0.004039832834184261,
          0.004039832834184261,
          0.004039832834184261,
          0.004039832834184261,
          0.004039832834184261,
          0.004039832834184261,
          0.004039832834184261,
          0.004039832834184261,
          0.004039832834184261,
          0.004156966492049293,
          0.004156966492049293,
          0.004156966492049293,
          0.004274100149914324,
          0.004274100149914324,
          0.004274100149914324,
          0.004274100149914324,
          0.004274100149914324,
          0.004508367465644388,
          0.00474263478137445
         ],
         "yaxis": "y"
        }
       ],
       "layout": {
        "height": 400,
        "legend": {
         "tracegroupgap": 0
        },
        "margin": {
         "t": 60
        },
        "template": {
         "data": {
          "bar": [
           {
            "error_x": {
             "color": "#2a3f5f"
            },
            "error_y": {
             "color": "#2a3f5f"
            },
            "marker": {
             "line": {
              "color": "#E5ECF6",
              "width": 0.5
             }
            },
            "type": "bar"
           }
          ],
          "barpolar": [
           {
            "marker": {
             "line": {
              "color": "#E5ECF6",
              "width": 0.5
             }
            },
            "type": "barpolar"
           }
          ],
          "carpet": [
           {
            "aaxis": {
             "endlinecolor": "#2a3f5f",
             "gridcolor": "white",
             "linecolor": "white",
             "minorgridcolor": "white",
             "startlinecolor": "#2a3f5f"
            },
            "baxis": {
             "endlinecolor": "#2a3f5f",
             "gridcolor": "white",
             "linecolor": "white",
             "minorgridcolor": "white",
             "startlinecolor": "#2a3f5f"
            },
            "type": "carpet"
           }
          ],
          "choropleth": [
           {
            "colorbar": {
             "outlinewidth": 0,
             "ticks": ""
            },
            "type": "choropleth"
           }
          ],
          "contour": [
           {
            "colorbar": {
             "outlinewidth": 0,
             "ticks": ""
            },
            "colorscale": [
             [
              0,
              "#0d0887"
             ],
             [
              0.1111111111111111,
              "#46039f"
             ],
             [
              0.2222222222222222,
              "#7201a8"
             ],
             [
              0.3333333333333333,
              "#9c179e"
             ],
             [
              0.4444444444444444,
              "#bd3786"
             ],
             [
              0.5555555555555556,
              "#d8576b"
             ],
             [
              0.6666666666666666,
              "#ed7953"
             ],
             [
              0.7777777777777778,
              "#fb9f3a"
             ],
             [
              0.8888888888888888,
              "#fdca26"
             ],
             [
              1,
              "#f0f921"
             ]
            ],
            "type": "contour"
           }
          ],
          "contourcarpet": [
           {
            "colorbar": {
             "outlinewidth": 0,
             "ticks": ""
            },
            "type": "contourcarpet"
           }
          ],
          "heatmap": [
           {
            "colorbar": {
             "outlinewidth": 0,
             "ticks": ""
            },
            "colorscale": [
             [
              0,
              "#0d0887"
             ],
             [
              0.1111111111111111,
              "#46039f"
             ],
             [
              0.2222222222222222,
              "#7201a8"
             ],
             [
              0.3333333333333333,
              "#9c179e"
             ],
             [
              0.4444444444444444,
              "#bd3786"
             ],
             [
              0.5555555555555556,
              "#d8576b"
             ],
             [
              0.6666666666666666,
              "#ed7953"
             ],
             [
              0.7777777777777778,
              "#fb9f3a"
             ],
             [
              0.8888888888888888,
              "#fdca26"
             ],
             [
              1,
              "#f0f921"
             ]
            ],
            "type": "heatmap"
           }
          ],
          "heatmapgl": [
           {
            "colorbar": {
             "outlinewidth": 0,
             "ticks": ""
            },
            "colorscale": [
             [
              0,
              "#0d0887"
             ],
             [
              0.1111111111111111,
              "#46039f"
             ],
             [
              0.2222222222222222,
              "#7201a8"
             ],
             [
              0.3333333333333333,
              "#9c179e"
             ],
             [
              0.4444444444444444,
              "#bd3786"
             ],
             [
              0.5555555555555556,
              "#d8576b"
             ],
             [
              0.6666666666666666,
              "#ed7953"
             ],
             [
              0.7777777777777778,
              "#fb9f3a"
             ],
             [
              0.8888888888888888,
              "#fdca26"
             ],
             [
              1,
              "#f0f921"
             ]
            ],
            "type": "heatmapgl"
           }
          ],
          "histogram": [
           {
            "marker": {
             "colorbar": {
              "outlinewidth": 0,
              "ticks": ""
             }
            },
            "type": "histogram"
           }
          ],
          "histogram2d": [
           {
            "colorbar": {
             "outlinewidth": 0,
             "ticks": ""
            },
            "colorscale": [
             [
              0,
              "#0d0887"
             ],
             [
              0.1111111111111111,
              "#46039f"
             ],
             [
              0.2222222222222222,
              "#7201a8"
             ],
             [
              0.3333333333333333,
              "#9c179e"
             ],
             [
              0.4444444444444444,
              "#bd3786"
             ],
             [
              0.5555555555555556,
              "#d8576b"
             ],
             [
              0.6666666666666666,
              "#ed7953"
             ],
             [
              0.7777777777777778,
              "#fb9f3a"
             ],
             [
              0.8888888888888888,
              "#fdca26"
             ],
             [
              1,
              "#f0f921"
             ]
            ],
            "type": "histogram2d"
           }
          ],
          "histogram2dcontour": [
           {
            "colorbar": {
             "outlinewidth": 0,
             "ticks": ""
            },
            "colorscale": [
             [
              0,
              "#0d0887"
             ],
             [
              0.1111111111111111,
              "#46039f"
             ],
             [
              0.2222222222222222,
              "#7201a8"
             ],
             [
              0.3333333333333333,
              "#9c179e"
             ],
             [
              0.4444444444444444,
              "#bd3786"
             ],
             [
              0.5555555555555556,
              "#d8576b"
             ],
             [
              0.6666666666666666,
              "#ed7953"
             ],
             [
              0.7777777777777778,
              "#fb9f3a"
             ],
             [
              0.8888888888888888,
              "#fdca26"
             ],
             [
              1,
              "#f0f921"
             ]
            ],
            "type": "histogram2dcontour"
           }
          ],
          "mesh3d": [
           {
            "colorbar": {
             "outlinewidth": 0,
             "ticks": ""
            },
            "type": "mesh3d"
           }
          ],
          "parcoords": [
           {
            "line": {
             "colorbar": {
              "outlinewidth": 0,
              "ticks": ""
             }
            },
            "type": "parcoords"
           }
          ],
          "pie": [
           {
            "automargin": true,
            "type": "pie"
           }
          ],
          "scatter": [
           {
            "marker": {
             "colorbar": {
              "outlinewidth": 0,
              "ticks": ""
             }
            },
            "type": "scatter"
           }
          ],
          "scatter3d": [
           {
            "line": {
             "colorbar": {
              "outlinewidth": 0,
              "ticks": ""
             }
            },
            "marker": {
             "colorbar": {
              "outlinewidth": 0,
              "ticks": ""
             }
            },
            "type": "scatter3d"
           }
          ],
          "scattercarpet": [
           {
            "marker": {
             "colorbar": {
              "outlinewidth": 0,
              "ticks": ""
             }
            },
            "type": "scattercarpet"
           }
          ],
          "scattergeo": [
           {
            "marker": {
             "colorbar": {
              "outlinewidth": 0,
              "ticks": ""
             }
            },
            "type": "scattergeo"
           }
          ],
          "scattergl": [
           {
            "marker": {
             "colorbar": {
              "outlinewidth": 0,
              "ticks": ""
             }
            },
            "type": "scattergl"
           }
          ],
          "scattermapbox": [
           {
            "marker": {
             "colorbar": {
              "outlinewidth": 0,
              "ticks": ""
             }
            },
            "type": "scattermapbox"
           }
          ],
          "scatterpolar": [
           {
            "marker": {
             "colorbar": {
              "outlinewidth": 0,
              "ticks": ""
             }
            },
            "type": "scatterpolar"
           }
          ],
          "scatterpolargl": [
           {
            "marker": {
             "colorbar": {
              "outlinewidth": 0,
              "ticks": ""
             }
            },
            "type": "scatterpolargl"
           }
          ],
          "scatterternary": [
           {
            "marker": {
             "colorbar": {
              "outlinewidth": 0,
              "ticks": ""
             }
            },
            "type": "scatterternary"
           }
          ],
          "surface": [
           {
            "colorbar": {
             "outlinewidth": 0,
             "ticks": ""
            },
            "colorscale": [
             [
              0,
              "#0d0887"
             ],
             [
              0.1111111111111111,
              "#46039f"
             ],
             [
              0.2222222222222222,
              "#7201a8"
             ],
             [
              0.3333333333333333,
              "#9c179e"
             ],
             [
              0.4444444444444444,
              "#bd3786"
             ],
             [
              0.5555555555555556,
              "#d8576b"
             ],
             [
              0.6666666666666666,
              "#ed7953"
             ],
             [
              0.7777777777777778,
              "#fb9f3a"
             ],
             [
              0.8888888888888888,
              "#fdca26"
             ],
             [
              1,
              "#f0f921"
             ]
            ],
            "type": "surface"
           }
          ],
          "table": [
           {
            "cells": {
             "fill": {
              "color": "#EBF0F8"
             },
             "line": {
              "color": "white"
             }
            },
            "header": {
             "fill": {
              "color": "#C8D4E3"
             },
             "line": {
              "color": "white"
             }
            },
            "type": "table"
           }
          ]
         },
         "layout": {
          "annotationdefaults": {
           "arrowcolor": "#2a3f5f",
           "arrowhead": 0,
           "arrowwidth": 1
          },
          "autotypenumbers": "strict",
          "coloraxis": {
           "colorbar": {
            "outlinewidth": 0,
            "ticks": ""
           }
          },
          "colorscale": {
           "diverging": [
            [
             0,
             "#8e0152"
            ],
            [
             0.1,
             "#c51b7d"
            ],
            [
             0.2,
             "#de77ae"
            ],
            [
             0.3,
             "#f1b6da"
            ],
            [
             0.4,
             "#fde0ef"
            ],
            [
             0.5,
             "#f7f7f7"
            ],
            [
             0.6,
             "#e6f5d0"
            ],
            [
             0.7,
             "#b8e186"
            ],
            [
             0.8,
             "#7fbc41"
            ],
            [
             0.9,
             "#4d9221"
            ],
            [
             1,
             "#276419"
            ]
           ],
           "sequential": [
            [
             0,
             "#0d0887"
            ],
            [
             0.1111111111111111,
             "#46039f"
            ],
            [
             0.2222222222222222,
             "#7201a8"
            ],
            [
             0.3333333333333333,
             "#9c179e"
            ],
            [
             0.4444444444444444,
             "#bd3786"
            ],
            [
             0.5555555555555556,
             "#d8576b"
            ],
            [
             0.6666666666666666,
             "#ed7953"
            ],
            [
             0.7777777777777778,
             "#fb9f3a"
            ],
            [
             0.8888888888888888,
             "#fdca26"
            ],
            [
             1,
             "#f0f921"
            ]
           ],
           "sequentialminus": [
            [
             0,
             "#0d0887"
            ],
            [
             0.1111111111111111,
             "#46039f"
            ],
            [
             0.2222222222222222,
             "#7201a8"
            ],
            [
             0.3333333333333333,
             "#9c179e"
            ],
            [
             0.4444444444444444,
             "#bd3786"
            ],
            [
             0.5555555555555556,
             "#d8576b"
            ],
            [
             0.6666666666666666,
             "#ed7953"
            ],
            [
             0.7777777777777778,
             "#fb9f3a"
            ],
            [
             0.8888888888888888,
             "#fdca26"
            ],
            [
             1,
             "#f0f921"
            ]
           ]
          },
          "colorway": [
           "#636efa",
           "#EF553B",
           "#00cc96",
           "#ab63fa",
           "#FFA15A",
           "#19d3f3",
           "#FF6692",
           "#B6E880",
           "#FF97FF",
           "#FECB52"
          ],
          "font": {
           "color": "#2a3f5f"
          },
          "geo": {
           "bgcolor": "white",
           "lakecolor": "white",
           "landcolor": "#E5ECF6",
           "showlakes": true,
           "showland": true,
           "subunitcolor": "white"
          },
          "hoverlabel": {
           "align": "left"
          },
          "hovermode": "closest",
          "mapbox": {
           "style": "light"
          },
          "paper_bgcolor": "white",
          "plot_bgcolor": "#E5ECF6",
          "polar": {
           "angularaxis": {
            "gridcolor": "white",
            "linecolor": "white",
            "ticks": ""
           },
           "bgcolor": "#E5ECF6",
           "radialaxis": {
            "gridcolor": "white",
            "linecolor": "white",
            "ticks": ""
           }
          },
          "scene": {
           "xaxis": {
            "backgroundcolor": "#E5ECF6",
            "gridcolor": "white",
            "gridwidth": 2,
            "linecolor": "white",
            "showbackground": true,
            "ticks": "",
            "zerolinecolor": "white"
           },
           "yaxis": {
            "backgroundcolor": "#E5ECF6",
            "gridcolor": "white",
            "gridwidth": 2,
            "linecolor": "white",
            "showbackground": true,
            "ticks": "",
            "zerolinecolor": "white"
           },
           "zaxis": {
            "backgroundcolor": "#E5ECF6",
            "gridcolor": "white",
            "gridwidth": 2,
            "linecolor": "white",
            "showbackground": true,
            "ticks": "",
            "zerolinecolor": "white"
           }
          },
          "shapedefaults": {
           "line": {
            "color": "#2a3f5f"
           }
          },
          "ternary": {
           "aaxis": {
            "gridcolor": "white",
            "linecolor": "white",
            "ticks": ""
           },
           "baxis": {
            "gridcolor": "white",
            "linecolor": "white",
            "ticks": ""
           },
           "bgcolor": "#E5ECF6",
           "caxis": {
            "gridcolor": "white",
            "linecolor": "white",
            "ticks": ""
           }
          },
          "title": {
           "x": 0.05
          },
          "xaxis": {
           "automargin": true,
           "gridcolor": "white",
           "linecolor": "white",
           "ticks": "",
           "title": {
            "standoff": 15
           },
           "zerolinecolor": "white",
           "zerolinewidth": 2
          },
          "yaxis": {
           "automargin": true,
           "gridcolor": "white",
           "linecolor": "white",
           "ticks": "",
           "title": {
            "standoff": 15
           },
           "zerolinecolor": "white",
           "zerolinewidth": 2
          }
         }
        },
        "width": 400,
        "xaxis": {
         "anchor": "y",
         "autorange": true,
         "domain": [
          0,
          1
         ],
         "range": [
          0.08320143884892087,
          0.18679856115107912
         ],
         "title": {
          "text": "pc_misperception"
         },
         "type": "linear"
        },
        "yaxis": {
         "anchor": "x",
         "autorange": true,
         "domain": [
          0,
          1
         ],
         "range": [
          0.0003631711543731664,
          0.00764658759839171
         ],
         "title": {
          "text": "deaths_pth"
         },
         "type": "linear"
        }
       }
      },
      "image/png": "[encoded data removed]",
      "text/html": [
       "<div>                            <div id=\"35ada3c6-4834-4155-bf8f-91442fde703b\" class=\"plotly-graph-div\" style=\"height:400px; width:400px;\"></div>            <script type=\"text/javascript\">                require([\"plotly\"], function(Plotly) {                    window.PLOTLYENV=window.PLOTLYENV || {};                                    if (document.getElementById(\"35ada3c6-4834-4155-bf8f-91442fde703b\")) {                    Plotly.newPlot(                        \"35ada3c6-4834-4155-bf8f-91442fde703b\",                        [{\"customdata\": [[\"Alabama\"], [\"Alaska\"], [\"Arizona\"], [\"Arkansas\"], [\"California\"], [\"Colorado\"], [\"Connecticut\"], [\"Delaware\"], [\"Florida\"], [\"Georgia\"], [\"Hawaii\"], [\"Idaho\"], [\"Illinois\"], [\"Indiana\"], [\"Iowa\"], [\"Kansas\"], [\"Kentucky\"], [\"Louisiana\"], [\"Maine\"], [\"Maryland\"], [\"Massachusetts\"], [\"Michigan\"], [\"Minnesota\"], [\"Mississippi\"], [\"Missouri\"], [\"Montana\"], [\"Nebraska\"], [\"Nevada\"], [\"New Hampshire\"], [\"New Jersey\"], [\"New Mexico\"], [\"New York\"], [\"North Carolina\"], [\"North Dakota\"], [\"Ohio\"], [\"Oklahoma\"], [\"Oregon\"], [\"Pennsylvania\"], [\"Rhode Island\"], [\"South Carolina\"], [\"South Dakota\"], [\"Tennessee\"], [\"Texas\"], [\"Utah\"], [\"Vermont\"], [\"Virginia\"], [\"Washington\"], [\"West Virginia\"], [\"Wisconsin\"], [\"Wyoming\"]], \"hovertemplate\": \"pc_misperception=%{x}<br>deaths_pth=%{y}<br>state=%{customdata[0]}<extra></extra>\", \"legendgroup\": \"\", \"marker\": {\"color\": \"#636efa\", \"symbol\": \"circle\"}, \"mode\": \"markers\", \"name\": \"\", \"orientation\": \"v\", \"showlegend\": false, \"type\": \"scatter\", \"x\": [0.16, 0.16, 0.14, 0.15, 0.15, 0.135, 0.11, 0.11, 0.155, 0.15, 0.09, 0.11, 0.14, 0.135, 0.13, 0.155, 0.16, 0.16, 0.135, 0.135, 0.11, 0.145, 0.13, 0.18, 0.13, 0.13, 0.145, 0.15, 0.13, 0.14, 0.145, 0.17, 0.15, 0.145, 0.135, 0.15, 0.11, 0.11, 0.14, 0.15, 0.15, 0.15, 0.155, 0.145, 0.09, 0.15, 0.13, 0.16, 0.125, 0.11], \"xaxis\": \"x\", \"y\": [0.00473704053645111, 0.0010787533596785218, 0.005396752906555991, 0.0048587153448035846, 0.0030837876519683935, 0.0029307204756359793, 0.00597062987171695, 0.0033715895536500446, 0.003718570017070698, 0.004003700524687407, 0.0008669886191545851, 0.002916223171813988, 0.0050215147867813245, 0.004396238323372942, 0.0046788338112216474, 0.003907072880054099, 0.002524831267178173, 0.005757267466179875, 0.001326038855024154, 0.003540114991597703, 0.006275687203667271, 0.004612887644046594, 0.0033113328662545223, 0.006136399716262216, 0.003321702014042443, 0.003485359474746773, 0.0029452573484262884, 0.004163043307813898, 0.002327458304509293, 0.0071773675005559, 0.004701794404245105, 0.005381864460261469, 0.0026648434353126063, 0.005716720513918744, 0.0028709274930113146, 0.002708135107533552, 0.001389200283736456, 0.005050754339230983, 0.006072749913735719, 0.004094970576211719, 0.006071945471033714, 0.0042434090827058995, 0.003756683861716608, 0.0015690197689310148, 0.0008323912522089764, 0.002247198899337832, 0.0016678234002638049, 0.0034017218130927176, 0.003298615346992981, 0.003055755494195826], \"yaxis\": \"y\"}, {\"hovertemplate\": \"<b>OLS trendline</b><br>deaths_pth = 0.0234267 * pc_misperception + 0.000525823<br>R<sup>2</sup>=0.085049<br><br>pc_misperception=%{x}<br>deaths_pth=%{y} <b>(trend)</b><extra></extra>\", \"legendgroup\": \"\", \"marker\": {\"color\": \"#636efa\", \"symbol\": \"circle\"}, \"mode\": \"lines\", \"name\": \"\", \"showlegend\": false, \"type\": \"scatter\", \"x\": [0.09, 0.09, 0.11, 0.11, 0.11, 0.11, 0.11, 0.11, 0.11, 0.125, 0.13, 0.13, 0.13, 0.13, 0.13, 0.13, 0.135, 0.135, 0.135, 0.135, 0.135, 0.14, 0.14, 0.14, 0.14, 0.145, 0.145, 0.145, 0.145, 0.145, 0.15, 0.15, 0.15, 0.15, 0.15, 0.15, 0.15, 0.15, 0.15, 0.15, 0.155, 0.155, 0.155, 0.16, 0.16, 0.16, 0.16, 0.16, 0.17, 0.18], \"xaxis\": \"x\", \"y\": [0.0026342289398038825, 0.0026342289398038825, 0.003102763571264009, 0.003102763571264009, 0.003102763571264009, 0.003102763571264009, 0.003102763571264009, 0.003102763571264009, 0.003102763571264009, 0.0034541645448591036, 0.0035712982027241353, 0.0035712982027241353, 0.0035712982027241353, 0.0035712982027241353, 0.0035712982027241353, 0.0035712982027241353, 0.003688431860589167, 0.003688431860589167, 0.003688431860589167, 0.003688431860589167, 0.003688431860589167, 0.0038055655184541987, 0.0038055655184541987, 0.0038055655184541987, 0.0038055655184541987, 0.003922699176319229, 0.003922699176319229, 0.003922699176319229, 0.003922699176319229, 0.003922699176319229, 0.004039832834184261, 0.004039832834184261, 0.004039832834184261, 0.004039832834184261, 0.004039832834184261, 0.004039832834184261, 0.004039832834184261, 0.004039832834184261, 0.004039832834184261, 0.004039832834184261, 0.004156966492049293, 0.004156966492049293, 0.004156966492049293, 0.004274100149914324, 0.004274100149914324, 0.004274100149914324, 0.004274100149914324, 0.004274100149914324, 0.004508367465644388, 0.00474263478137445], \"yaxis\": \"y\"}],                        {\"height\": 400, \"legend\": {\"tracegroupgap\": 0}, \"margin\": {\"t\": 60}, \"template\": {\"data\": {\"bar\": [{\"error_x\": {\"color\": \"#2a3f5f\"}, \"error_y\": {\"color\": \"#2a3f5f\"}, \"marker\": {\"line\": {\"color\": \"#E5ECF6\", \"width\": 0.5}}, \"type\": \"bar\"}], \"barpolar\": [{\"marker\": {\"line\": {\"color\": \"#E5ECF6\", \"width\": 0.5}}, \"type\": \"barpolar\"}], \"carpet\": [{\"aaxis\": {\"endlinecolor\": \"#2a3f5f\", \"gridcolor\": \"white\", \"linecolor\": \"white\", \"minorgridcolor\": \"white\", \"startlinecolor\": \"#2a3f5f\"}, \"baxis\": {\"endlinecolor\": \"#2a3f5f\", \"gridcolor\": \"white\", \"linecolor\": \"white\", \"minorgridcolor\": \"white\", \"startlinecolor\": \"#2a3f5f\"}, \"type\": \"carpet\"}], \"choropleth\": [{\"colorbar\": {\"outlinewidth\": 0, \"ticks\": \"\"}, \"type\": \"choropleth\"}], \"contour\": [{\"colorbar\": {\"outlinewidth\": 0, \"ticks\": \"\"}, \"colorscale\": [[0.0, \"#0d0887\"], [0.1111111111111111, \"#46039f\"], [0.2222222222222222, \"#7201a8\"], [0.3333333333333333, \"#9c179e\"], [0.4444444444444444, \"#bd3786\"], [0.5555555555555556, \"#d8576b\"], [0.6666666666666666, \"#ed7953\"], [0.7777777777777778, \"#fb9f3a\"], [0.8888888888888888, \"#fdca26\"], [1.0, \"#f0f921\"]], \"type\": \"contour\"}], \"contourcarpet\": [{\"colorbar\": {\"outlinewidth\": 0, \"ticks\": \"\"}, \"type\": \"contourcarpet\"}], \"heatmap\": [{\"colorbar\": {\"outlinewidth\": 0, \"ticks\": \"\"}, \"colorscale\": [[0.0, \"#0d0887\"], [0.1111111111111111, \"#46039f\"], [0.2222222222222222, \"#7201a8\"], [0.3333333333333333, \"#9c179e\"], [0.4444444444444444, \"#bd3786\"], [0.5555555555555556, \"#d8576b\"], [0.6666666666666666, \"#ed7953\"], [0.7777777777777778, \"#fb9f3a\"], [0.8888888888888888, \"#fdca26\"], [1.0, \"#f0f921\"]], \"type\": \"heatmap\"}], \"heatmapgl\": [{\"colorbar\": {\"outlinewidth\": 0, \"ticks\": \"\"}, \"colorscale\": [[0.0, \"#0d0887\"], [0.1111111111111111, \"#46039f\"], [0.2222222222222222, \"#7201a8\"], [0.3333333333333333, \"#9c179e\"], [0.4444444444444444, \"#bd3786\"], [0.5555555555555556, \"#d8576b\"], [0.6666666666666666, \"#ed7953\"], [0.7777777777777778, \"#fb9f3a\"], [0.8888888888888888, \"#fdca26\"], [1.0, \"#f0f921\"]], \"type\": \"heatmapgl\"}], \"histogram\": [{\"marker\": {\"colorbar\": {\"outlinewidth\": 0, \"ticks\": \"\"}}, \"type\": \"histogram\"}], \"histogram2d\": [{\"colorbar\": {\"outlinewidth\": 0, \"ticks\": \"\"}, \"colorscale\": [[0.0, \"#0d0887\"], [0.1111111111111111, \"#46039f\"], [0.2222222222222222, \"#7201a8\"], [0.3333333333333333, \"#9c179e\"], [0.4444444444444444, \"#bd3786\"], [0.5555555555555556, \"#d8576b\"], [0.6666666666666666, \"#ed7953\"], [0.7777777777777778, \"#fb9f3a\"], [0.8888888888888888, \"#fdca26\"], [1.0, \"#f0f921\"]], \"type\": \"histogram2d\"}], \"histogram2dcontour\": [{\"colorbar\": {\"outlinewidth\": 0, \"ticks\": \"\"}, \"colorscale\": [[0.0, \"#0d0887\"], [0.1111111111111111, \"#46039f\"], [0.2222222222222222, \"#7201a8\"], [0.3333333333333333, \"#9c179e\"], [0.4444444444444444, \"#bd3786\"], [0.5555555555555556, \"#d8576b\"], [0.6666666666666666, \"#ed7953\"], [0.7777777777777778, \"#fb9f3a\"], [0.8888888888888888, \"#fdca26\"], [1.0, \"#f0f921\"]], \"type\": \"histogram2dcontour\"}], \"mesh3d\": [{\"colorbar\": {\"outlinewidth\": 0, \"ticks\": \"\"}, \"type\": \"mesh3d\"}], \"parcoords\": [{\"line\": {\"colorbar\": {\"outlinewidth\": 0, \"ticks\": \"\"}}, \"type\": \"parcoords\"}], \"pie\": [{\"automargin\": true, \"type\": \"pie\"}], \"scatter\": [{\"marker\": {\"colorbar\": {\"outlinewidth\": 0, \"ticks\": \"\"}}, \"type\": \"scatter\"}], \"scatter3d\": [{\"line\": {\"colorbar\": {\"outlinewidth\": 0, \"ticks\": \"\"}}, \"marker\": {\"colorbar\": {\"outlinewidth\": 0, \"ticks\": \"\"}}, \"type\": \"scatter3d\"}], \"scattercarpet\": [{\"marker\": {\"colorbar\": {\"outlinewidth\": 0, \"ticks\": \"\"}}, \"type\": \"scattercarpet\"}], \"scattergeo\": [{\"marker\": {\"colorbar\": {\"outlinewidth\": 0, \"ticks\": \"\"}}, \"type\": \"scattergeo\"}], \"scattergl\": [{\"marker\": {\"colorbar\": {\"outlinewidth\": 0, \"ticks\": \"\"}}, \"type\": \"scattergl\"}], \"scattermapbox\": [{\"marker\": {\"colorbar\": {\"outlinewidth\": 0, \"ticks\": \"\"}}, \"type\": \"scattermapbox\"}], \"scatterpolar\": [{\"marker\": {\"colorbar\": {\"outlinewidth\": 0, \"ticks\": \"\"}}, \"type\": \"scatterpolar\"}], \"scatterpolargl\": [{\"marker\": {\"colorbar\": {\"outlinewidth\": 0, \"ticks\": \"\"}}, \"type\": \"scatterpolargl\"}], \"scatterternary\": [{\"marker\": {\"colorbar\": {\"outlinewidth\": 0, \"ticks\": \"\"}}, \"type\": \"scatterternary\"}], \"surface\": [{\"colorbar\": {\"outlinewidth\": 0, \"ticks\": \"\"}, \"colorscale\": [[0.0, \"#0d0887\"], [0.1111111111111111, \"#46039f\"], [0.2222222222222222, \"#7201a8\"], [0.3333333333333333, \"#9c179e\"], [0.4444444444444444, \"#bd3786\"], [0.5555555555555556, \"#d8576b\"], [0.6666666666666666, \"#ed7953\"], [0.7777777777777778, \"#fb9f3a\"], [0.8888888888888888, \"#fdca26\"], [1.0, \"#f0f921\"]], \"type\": \"surface\"}], \"table\": [{\"cells\": {\"fill\": {\"color\": \"#EBF0F8\"}, \"line\": {\"color\": \"white\"}}, \"header\": {\"fill\": {\"color\": \"#C8D4E3\"}, \"line\": {\"color\": \"white\"}}, \"type\": \"table\"}]}, \"layout\": {\"annotationdefaults\": {\"arrowcolor\": \"#2a3f5f\", \"arrowhead\": 0, \"arrowwidth\": 1}, \"autotypenumbers\": \"strict\", \"coloraxis\": {\"colorbar\": {\"outlinewidth\": 0, \"ticks\": \"\"}}, \"colorscale\": {\"diverging\": [[0, \"#8e0152\"], [0.1, \"#c51b7d\"], [0.2, \"#de77ae\"], [0.3, \"#f1b6da\"], [0.4, \"#fde0ef\"], [0.5, \"#f7f7f7\"], [0.6, \"#e6f5d0\"], [0.7, \"#b8e186\"], [0.8, \"#7fbc41\"], [0.9, \"#4d9221\"], [1, \"#276419\"]], \"sequential\": [[0.0, \"#0d0887\"], [0.1111111111111111, \"#46039f\"], [0.2222222222222222, \"#7201a8\"], [0.3333333333333333, \"#9c179e\"], [0.4444444444444444, \"#bd3786\"], [0.5555555555555556, \"#d8576b\"], [0.6666666666666666, \"#ed7953\"], [0.7777777777777778, \"#fb9f3a\"], [0.8888888888888888, \"#fdca26\"], [1.0, \"#f0f921\"]], \"sequentialminus\": [[0.0, \"#0d0887\"], [0.1111111111111111, \"#46039f\"], [0.2222222222222222, \"#7201a8\"], [0.3333333333333333, \"#9c179e\"], [0.4444444444444444, \"#bd3786\"], [0.5555555555555556, \"#d8576b\"], [0.6666666666666666, \"#ed7953\"], [0.7777777777777778, \"#fb9f3a\"], [0.8888888888888888, \"#fdca26\"], [1.0, \"#f0f921\"]]}, \"colorway\": [\"#636efa\", \"#EF553B\", \"#00cc96\", \"#ab63fa\", \"#FFA15A\", \"#19d3f3\", \"#FF6692\", \"#B6E880\", \"#FF97FF\", \"#FECB52\"], \"font\": {\"color\": \"#2a3f5f\"}, \"geo\": {\"bgcolor\": \"white\", \"lakecolor\": \"white\", \"landcolor\": \"#E5ECF6\", \"showlakes\": true, \"showland\": true, \"subunitcolor\": \"white\"}, \"hoverlabel\": {\"align\": \"left\"}, \"hovermode\": \"closest\", \"mapbox\": {\"style\": \"light\"}, \"paper_bgcolor\": \"white\", \"plot_bgcolor\": \"#E5ECF6\", \"polar\": {\"angularaxis\": {\"gridcolor\": \"white\", \"linecolor\": \"white\", \"ticks\": \"\"}, \"bgcolor\": \"#E5ECF6\", \"radialaxis\": {\"gridcolor\": \"white\", \"linecolor\": \"white\", \"ticks\": \"\"}}, \"scene\": {\"xaxis\": {\"backgroundcolor\": \"#E5ECF6\", \"gridcolor\": \"white\", \"gridwidth\": 2, \"linecolor\": \"white\", \"showbackground\": true, \"ticks\": \"\", \"zerolinecolor\": \"white\"}, \"yaxis\": {\"backgroundcolor\": \"#E5ECF6\", \"gridcolor\": \"white\", \"gridwidth\": 2, \"linecolor\": \"white\", \"showbackground\": true, \"ticks\": \"\", \"zerolinecolor\": \"white\"}, \"zaxis\": {\"backgroundcolor\": \"#E5ECF6\", \"gridcolor\": \"white\", \"gridwidth\": 2, \"linecolor\": \"white\", \"showbackground\": true, \"ticks\": \"\", \"zerolinecolor\": \"white\"}}, \"shapedefaults\": {\"line\": {\"color\": \"#2a3f5f\"}}, \"ternary\": {\"aaxis\": {\"gridcolor\": \"white\", \"linecolor\": \"white\", \"ticks\": \"\"}, \"baxis\": {\"gridcolor\": \"white\", \"linecolor\": \"white\", \"ticks\": \"\"}, \"bgcolor\": \"#E5ECF6\", \"caxis\": {\"gridcolor\": \"white\", \"linecolor\": \"white\", \"ticks\": \"\"}}, \"title\": {\"x\": 0.05}, \"xaxis\": {\"automargin\": true, \"gridcolor\": \"white\", \"linecolor\": \"white\", \"ticks\": \"\", \"title\": {\"standoff\": 15}, \"zerolinecolor\": \"white\", \"zerolinewidth\": 2}, \"yaxis\": {\"automargin\": true, \"gridcolor\": \"white\", \"linecolor\": \"white\", \"ticks\": \"\", \"title\": {\"standoff\": 15}, \"zerolinecolor\": \"white\", \"zerolinewidth\": 2}}}, \"width\": 400, \"xaxis\": {\"anchor\": \"y\", \"domain\": [0.0, 1.0], \"title\": {\"text\": \"pc_misperception\"}}, \"yaxis\": {\"anchor\": \"x\", \"domain\": [0.0, 1.0], \"title\": {\"text\": \"deaths_pth\"}}},                        {\"responsive\": true}                    ).then(function(){\n",
       "                            \n",
       "var gd = document.getElementById('35ada3c6-4834-4155-bf8f-91442fde703b');\n",
       "var x = new MutationObserver(function (mutations, observer) {{\n",
       "        var display = window.getComputedStyle(gd).display;\n",
       "        if (!display || display === 'none') {{\n",
       "            console.log([gd, 'removed!']);\n",
       "            Plotly.purge(gd);\n",
       "            observer.disconnect();\n",
       "        }}\n",
       "}});\n",
       "\n",
       "// Listen for the removal of the full notebook cells\n",
       "var notebookContainer = gd.closest('#notebook-container');\n",
       "if (notebookContainer) {{\n",
       "    x.observe(notebookContainer, {childList: true});\n",
       "}}\n",
       "\n",
       "// Listen for the clearing of the current output cell\n",
       "var outputEl = gd.closest('.output');\n",
       "if (outputEl) {{\n",
       "    x.observe(outputEl, {childList: true});\n",
       "}}\n",
       "\n",
       "                        })                };                });            </script>        </div>"
      ]
     },
     "metadata": {},
     "output_type": "display_data"
    }
   ],
   "source": [
    "fig = px.scatter(us_cross_sectional, x=\"pc_misperception\", y=\"deaths_pth\", hover_data=[\"state\"], trendline=\"ols\", width=400, height=400)\n",
    "fig.show()"
   ]
  },
  {
   "cell_type": "code",
   "execution_count": 274,
   "metadata": {},
   "outputs": [
    {
     "data": {
      "text/html": [
       "<table class=\"simpletable\">\n",
       "<caption>OLS Regression Results</caption>\n",
       "<tr>\n",
       "  <th>Dep. Variable:</th>     <td>positivity_rate</td> <th>  R-squared:         </th> <td>   0.462</td>\n",
       "</tr>\n",
       "<tr>\n",
       "  <th>Model:</th>                   <td>OLS</td>       <th>  Adj. R-squared:    </th> <td>   0.414</td>\n",
       "</tr>\n",
       "<tr>\n",
       "  <th>Method:</th>             <td>Least Squares</td>  <th>  F-statistic:       </th> <td>   9.661</td>\n",
       "</tr>\n",
       "<tr>\n",
       "  <th>Date:</th>             <td>Sun, 21 Feb 2021</td> <th>  Prob (F-statistic):</th> <td>9.98e-06</td>\n",
       "</tr>\n",
       "<tr>\n",
       "  <th>Time:</th>                 <td>08:12:41</td>     <th>  Log-Likelihood:    </th> <td>  87.112</td>\n",
       "</tr>\n",
       "<tr>\n",
       "  <th>No. Observations:</th>      <td>    50</td>      <th>  AIC:               </th> <td>  -164.2</td>\n",
       "</tr>\n",
       "<tr>\n",
       "  <th>Df Residuals:</th>          <td>    45</td>      <th>  BIC:               </th> <td>  -154.7</td>\n",
       "</tr>\n",
       "<tr>\n",
       "  <th>Df Model:</th>              <td>     4</td>      <th>                     </th>     <td> </td>   \n",
       "</tr>\n",
       "<tr>\n",
       "  <th>Covariance Type:</th>      <td>nonrobust</td>    <th>                     </th>     <td> </td>   \n",
       "</tr>\n",
       "</table>\n",
       "<table class=\"simpletable\">\n",
       "<tr>\n",
       "           <td></td>              <th>coef</th>     <th>std err</th>      <th>t</th>      <th>P>|t|</th>  <th>[0.025</th>    <th>0.975]</th>  \n",
       "</tr>\n",
       "<tr>\n",
       "  <th>Intercept</th>           <td>    0.2938</td> <td>    0.158</td> <td>    1.858</td> <td> 0.070</td> <td>   -0.025</td> <td>    0.612</td>\n",
       "</tr>\n",
       "<tr>\n",
       "  <th>pc_misperception</th>    <td>    0.4344</td> <td>    0.377</td> <td>    1.152</td> <td> 0.256</td> <td>   -0.325</td> <td>    1.194</td>\n",
       "</tr>\n",
       "<tr>\n",
       "  <th>StringencyIndex</th>     <td>   -0.0036</td> <td>    0.001</td> <td>   -5.040</td> <td> 0.000</td> <td>   -0.005</td> <td>   -0.002</td>\n",
       "</tr>\n",
       "<tr>\n",
       "  <th>White</th>               <td>   -0.0251</td> <td>    0.066</td> <td>   -0.380</td> <td> 0.706</td> <td>   -0.158</td> <td>    0.108</td>\n",
       "</tr>\n",
       "<tr>\n",
       "  <th>misperception_index</th> <td>   -0.0010</td> <td>    0.002</td> <td>   -0.435</td> <td> 0.665</td> <td>   -0.006</td> <td>    0.004</td>\n",
       "</tr>\n",
       "</table>\n",
       "<table class=\"simpletable\">\n",
       "<tr>\n",
       "  <th>Omnibus:</th>       <td>28.463</td> <th>  Durbin-Watson:     </th> <td>   1.928</td>\n",
       "</tr>\n",
       "<tr>\n",
       "  <th>Prob(Omnibus):</th> <td> 0.000</td> <th>  Jarque-Bera (JB):  </th> <td>  62.469</td>\n",
       "</tr>\n",
       "<tr>\n",
       "  <th>Skew:</th>          <td> 1.623</td> <th>  Prob(JB):          </th> <td>2.72e-14</td>\n",
       "</tr>\n",
       "<tr>\n",
       "  <th>Kurtosis:</th>      <td> 7.409</td> <th>  Cond. No.          </th> <td>4.54e+03</td>\n",
       "</tr>\n",
       "</table><br/><br/>Notes:<br/>[1] Standard Errors assume that the covariance matrix of the errors is correctly specified.<br/>[2] The condition number is large, 4.54e+03. This might indicate that there are<br/>strong multicollinearity or other numerical problems."
      ],
      "text/plain": [
       "<class 'statsmodels.iolib.summary.Summary'>\n",
       "\"\"\"\n",
       "                            OLS Regression Results                            \n",
       "==============================================================================\n",
       "Dep. Variable:        positivity_rate   R-squared:                       0.462\n",
       "Model:                            OLS   Adj. R-squared:                  0.414\n",
       "Method:                 Least Squares   F-statistic:                     9.661\n",
       "Date:                Sun, 21 Feb 2021   Prob (F-statistic):           9.98e-06\n",
       "Time:                        08:12:41   Log-Likelihood:                 87.112\n",
       "No. Observations:                  50   AIC:                            -164.2\n",
       "Df Residuals:                      45   BIC:                            -154.7\n",
       "Df Model:                           4                                         \n",
       "Covariance Type:            nonrobust                                         \n",
       "=======================================================================================\n",
       "                          coef    std err          t      P>|t|      [0.025      0.975]\n",
       "---------------------------------------------------------------------------------------\n",
       "Intercept               0.2938      0.158      1.858      0.070      -0.025       0.612\n",
       "pc_misperception        0.4344      0.377      1.152      0.256      -0.325       1.194\n",
       "StringencyIndex        -0.0036      0.001     -5.040      0.000      -0.005      -0.002\n",
       "White                  -0.0251      0.066     -0.380      0.706      -0.158       0.108\n",
       "misperception_index    -0.0010      0.002     -0.435      0.665      -0.006       0.004\n",
       "==============================================================================\n",
       "Omnibus:                       28.463   Durbin-Watson:                   1.928\n",
       "Prob(Omnibus):                  0.000   Jarque-Bera (JB):               62.469\n",
       "Skew:                           1.623   Prob(JB):                     2.72e-14\n",
       "Kurtosis:                       7.409   Cond. No.                     4.54e+03\n",
       "==============================================================================\n",
       "\n",
       "Notes:\n",
       "[1] Standard Errors assume that the covariance matrix of the errors is correctly specified.\n",
       "[2] The condition number is large, 4.54e+03. This might indicate that there are\n",
       "strong multicollinearity or other numerical problems.\n",
       "\"\"\""
      ]
     },
     "execution_count": 274,
     "metadata": {},
     "output_type": "execute_result"
    }
   ],
   "source": [
    "cross_sectional_reg_2_posrate = smf.ols('positivity_rate ~ pc_misperception + StringencyIndex + White + misperception_index', data=us_cross_sectional).fit()\n",
    "cross_sectional_reg_2_posrate.summary()"
   ]
  },
  {
   "cell_type": "code",
   "execution_count": 266,
   "metadata": {},
   "outputs": [
    {
     "data": {
      "text/html": [
       "<table class=\"simpletable\">\n",
       "<caption>OLS Regression Results</caption>\n",
       "<tr>\n",
       "  <th>Dep. Variable:</th>       <td>deaths_pth</td>    <th>  R-squared:         </th> <td>   0.112</td>\n",
       "</tr>\n",
       "<tr>\n",
       "  <th>Model:</th>                   <td>OLS</td>       <th>  Adj. R-squared:    </th> <td>   0.054</td>\n",
       "</tr>\n",
       "<tr>\n",
       "  <th>Method:</th>             <td>Least Squares</td>  <th>  F-statistic:       </th> <td>   1.931</td>\n",
       "</tr>\n",
       "<tr>\n",
       "  <th>Date:</th>             <td>Sun, 21 Feb 2021</td> <th>  Prob (F-statistic):</th>  <td> 0.138</td> \n",
       "</tr>\n",
       "<tr>\n",
       "  <th>Time:</th>                 <td>07:58:54</td>     <th>  Log-Likelihood:    </th> <td>  255.71</td>\n",
       "</tr>\n",
       "<tr>\n",
       "  <th>No. Observations:</th>      <td>    50</td>      <th>  AIC:               </th> <td>  -503.4</td>\n",
       "</tr>\n",
       "<tr>\n",
       "  <th>Df Residuals:</th>          <td>    46</td>      <th>  BIC:               </th> <td>  -495.8</td>\n",
       "</tr>\n",
       "<tr>\n",
       "  <th>Df Model:</th>              <td>     3</td>      <th>                     </th>     <td> </td>   \n",
       "</tr>\n",
       "<tr>\n",
       "  <th>Covariance Type:</th>      <td>nonrobust</td>    <th>                     </th>     <td> </td>   \n",
       "</tr>\n",
       "</table>\n",
       "<table class=\"simpletable\">\n",
       "<tr>\n",
       "          <td></td>            <th>coef</th>     <th>std err</th>      <th>t</th>      <th>P>|t|</th>  <th>[0.025</th>    <th>0.975]</th>  \n",
       "</tr>\n",
       "<tr>\n",
       "  <th>Intercept</th>        <td>    0.0034</td> <td>    0.003</td> <td>    1.069</td> <td> 0.290</td> <td>   -0.003</td> <td>    0.010</td>\n",
       "</tr>\n",
       "<tr>\n",
       "  <th>pc_misperception</th> <td>    0.0188</td> <td>    0.012</td> <td>    1.587</td> <td> 0.119</td> <td>   -0.005</td> <td>    0.043</td>\n",
       "</tr>\n",
       "<tr>\n",
       "  <th>StringencyIndex</th>  <td>-2.651e-05</td> <td> 2.29e-05</td> <td>   -1.157</td> <td> 0.253</td> <td>-7.26e-05</td> <td> 1.96e-05</td>\n",
       "</tr>\n",
       "<tr>\n",
       "  <th>White</th>            <td>   -0.0011</td> <td>    0.002</td> <td>   -0.563</td> <td> 0.576</td> <td>   -0.005</td> <td>    0.003</td>\n",
       "</tr>\n",
       "</table>\n",
       "<table class=\"simpletable\">\n",
       "<tr>\n",
       "  <th>Omnibus:</th>       <td> 1.165</td> <th>  Durbin-Watson:     </th> <td>   1.813</td>\n",
       "</tr>\n",
       "<tr>\n",
       "  <th>Prob(Omnibus):</th> <td> 0.558</td> <th>  Jarque-Bera (JB):  </th> <td>   0.995</td>\n",
       "</tr>\n",
       "<tr>\n",
       "  <th>Skew:</th>          <td> 0.338</td> <th>  Prob(JB):          </th> <td>   0.608</td>\n",
       "</tr>\n",
       "<tr>\n",
       "  <th>Kurtosis:</th>      <td> 2.852</td> <th>  Cond. No.          </th> <td>2.90e+03</td>\n",
       "</tr>\n",
       "</table><br/><br/>Notes:<br/>[1] Standard Errors assume that the covariance matrix of the errors is correctly specified.<br/>[2] The condition number is large, 2.9e+03. This might indicate that there are<br/>strong multicollinearity or other numerical problems."
      ],
      "text/plain": [
       "<class 'statsmodels.iolib.summary.Summary'>\n",
       "\"\"\"\n",
       "                            OLS Regression Results                            \n",
       "==============================================================================\n",
       "Dep. Variable:             deaths_pth   R-squared:                       0.112\n",
       "Model:                            OLS   Adj. R-squared:                  0.054\n",
       "Method:                 Least Squares   F-statistic:                     1.931\n",
       "Date:                Sun, 21 Feb 2021   Prob (F-statistic):              0.138\n",
       "Time:                        07:58:54   Log-Likelihood:                 255.71\n",
       "No. Observations:                  50   AIC:                            -503.4\n",
       "Df Residuals:                      46   BIC:                            -495.8\n",
       "Df Model:                           3                                         \n",
       "Covariance Type:            nonrobust                                         \n",
       "====================================================================================\n",
       "                       coef    std err          t      P>|t|      [0.025      0.975]\n",
       "------------------------------------------------------------------------------------\n",
       "Intercept            0.0034      0.003      1.069      0.290      -0.003       0.010\n",
       "pc_misperception     0.0188      0.012      1.587      0.119      -0.005       0.043\n",
       "StringencyIndex  -2.651e-05   2.29e-05     -1.157      0.253   -7.26e-05    1.96e-05\n",
       "White               -0.0011      0.002     -0.563      0.576      -0.005       0.003\n",
       "==============================================================================\n",
       "Omnibus:                        1.165   Durbin-Watson:                   1.813\n",
       "Prob(Omnibus):                  0.558   Jarque-Bera (JB):                0.995\n",
       "Skew:                           0.338   Prob(JB):                        0.608\n",
       "Kurtosis:                       2.852   Cond. No.                     2.90e+03\n",
       "==============================================================================\n",
       "\n",
       "Notes:\n",
       "[1] Standard Errors assume that the covariance matrix of the errors is correctly specified.\n",
       "[2] The condition number is large, 2.9e+03. This might indicate that there are\n",
       "strong multicollinearity or other numerical problems.\n",
       "\"\"\""
      ]
     },
     "execution_count": 266,
     "metadata": {},
     "output_type": "execute_result"
    }
   ],
   "source": [
    "cross_sectional_reg_2_dea = smf.ols('deaths_pth ~ pc_misperception + StringencyIndex + White', data=us_cross_sectional).fit()\n",
    "cross_sectional_reg_2_dea.summary()"
   ]
  },
  {
   "cell_type": "code",
   "execution_count": 267,
   "metadata": {},
   "outputs": [
    {
     "data": {
      "text/html": [
       "<table class=\"simpletable\">\n",
       "<caption>OLS Regression Results</caption>\n",
       "<tr>\n",
       "  <th>Dep. Variable:</th>     <td>positivity_rate</td> <th>  R-squared:         </th> <td>   0.436</td>\n",
       "</tr>\n",
       "<tr>\n",
       "  <th>Model:</th>                   <td>OLS</td>       <th>  Adj. R-squared:    </th> <td>   0.399</td>\n",
       "</tr>\n",
       "<tr>\n",
       "  <th>Method:</th>             <td>Least Squares</td>  <th>  F-statistic:       </th> <td>   11.86</td>\n",
       "</tr>\n",
       "<tr>\n",
       "  <th>Date:</th>             <td>Sun, 21 Feb 2021</td> <th>  Prob (F-statistic):</th> <td>7.04e-06</td>\n",
       "</tr>\n",
       "<tr>\n",
       "  <th>Time:</th>                 <td>07:58:55</td>     <th>  Log-Likelihood:    </th> <td>  73.931</td>\n",
       "</tr>\n",
       "<tr>\n",
       "  <th>No. Observations:</th>      <td>    50</td>      <th>  AIC:               </th> <td>  -139.9</td>\n",
       "</tr>\n",
       "<tr>\n",
       "  <th>Df Residuals:</th>          <td>    46</td>      <th>  BIC:               </th> <td>  -132.2</td>\n",
       "</tr>\n",
       "<tr>\n",
       "  <th>Df Model:</th>              <td>     3</td>      <th>                     </th>     <td> </td>   \n",
       "</tr>\n",
       "<tr>\n",
       "  <th>Covariance Type:</th>      <td>nonrobust</td>    <th>                     </th>     <td> </td>   \n",
       "</tr>\n",
       "</table>\n",
       "<table class=\"simpletable\">\n",
       "<tr>\n",
       "          <td></td>            <th>coef</th>     <th>std err</th>      <th>t</th>      <th>P>|t|</th>  <th>[0.025</th>    <th>0.975]</th>  \n",
       "</tr>\n",
       "<tr>\n",
       "  <th>Intercept</th>        <td>    0.2944</td> <td>    0.120</td> <td>    2.448</td> <td> 0.018</td> <td>    0.052</td> <td>    0.536</td>\n",
       "</tr>\n",
       "<tr>\n",
       "  <th>pc_misperception</th> <td>    0.1227</td> <td>    0.462</td> <td>    0.266</td> <td> 0.792</td> <td>   -0.807</td> <td>    1.053</td>\n",
       "</tr>\n",
       "<tr>\n",
       "  <th>StringencyIndex</th>  <td>   -0.0040</td> <td>    0.001</td> <td>   -5.272</td> <td> 0.000</td> <td>   -0.006</td> <td>   -0.002</td>\n",
       "</tr>\n",
       "<tr>\n",
       "  <th>White</th>            <td>   -0.0231</td> <td>    0.077</td> <td>   -0.300</td> <td> 0.765</td> <td>   -0.178</td> <td>    0.132</td>\n",
       "</tr>\n",
       "</table>\n",
       "<table class=\"simpletable\">\n",
       "<tr>\n",
       "  <th>Omnibus:</th>       <td>24.797</td> <th>  Durbin-Watson:     </th> <td>   1.743</td>\n",
       "</tr>\n",
       "<tr>\n",
       "  <th>Prob(Omnibus):</th> <td> 0.000</td> <th>  Jarque-Bera (JB):  </th> <td>  42.691</td>\n",
       "</tr>\n",
       "<tr>\n",
       "  <th>Skew:</th>          <td> 1.550</td> <th>  Prob(JB):          </th> <td>5.37e-10</td>\n",
       "</tr>\n",
       "<tr>\n",
       "  <th>Kurtosis:</th>      <td> 6.299</td> <th>  Cond. No.          </th> <td>2.79e+03</td>\n",
       "</tr>\n",
       "</table><br/><br/>Notes:<br/>[1] Standard Errors assume that the covariance matrix of the errors is correctly specified.<br/>[2] The condition number is large, 2.79e+03. This might indicate that there are<br/>strong multicollinearity or other numerical problems."
      ],
      "text/plain": [
       "<class 'statsmodels.iolib.summary.Summary'>\n",
       "\"\"\"\n",
       "                            OLS Regression Results                            \n",
       "==============================================================================\n",
       "Dep. Variable:        positivity_rate   R-squared:                       0.436\n",
       "Model:                            OLS   Adj. R-squared:                  0.399\n",
       "Method:                 Least Squares   F-statistic:                     11.86\n",
       "Date:                Sun, 21 Feb 2021   Prob (F-statistic):           7.04e-06\n",
       "Time:                        07:58:55   Log-Likelihood:                 73.931\n",
       "No. Observations:                  50   AIC:                            -139.9\n",
       "Df Residuals:                      46   BIC:                            -132.2\n",
       "Df Model:                           3                                         \n",
       "Covariance Type:            nonrobust                                         \n",
       "====================================================================================\n",
       "                       coef    std err          t      P>|t|      [0.025      0.975]\n",
       "------------------------------------------------------------------------------------\n",
       "Intercept            0.2944      0.120      2.448      0.018       0.052       0.536\n",
       "pc_misperception     0.1227      0.462      0.266      0.792      -0.807       1.053\n",
       "StringencyIndex     -0.0040      0.001     -5.272      0.000      -0.006      -0.002\n",
       "White               -0.0231      0.077     -0.300      0.765      -0.178       0.132\n",
       "==============================================================================\n",
       "Omnibus:                       24.797   Durbin-Watson:                   1.743\n",
       "Prob(Omnibus):                  0.000   Jarque-Bera (JB):               42.691\n",
       "Skew:                           1.550   Prob(JB):                     5.37e-10\n",
       "Kurtosis:                       6.299   Cond. No.                     2.79e+03\n",
       "==============================================================================\n",
       "\n",
       "Notes:\n",
       "[1] Standard Errors assume that the covariance matrix of the errors is correctly specified.\n",
       "[2] The condition number is large, 2.79e+03. This might indicate that there are\n",
       "strong multicollinearity or other numerical problems.\n",
       "\"\"\""
      ]
     },
     "execution_count": 267,
     "metadata": {},
     "output_type": "execute_result"
    }
   ],
   "source": [
    "Aug_reg_2_posrate = smf.ols('positivity_rate ~ pc_misperception + StringencyIndex + White', data=us_Aug).fit()\n",
    "Aug_reg_2_posrate.summary()"
   ]
  },
  {
   "cell_type": "code",
   "execution_count": 268,
   "metadata": {},
   "outputs": [
    {
     "data": {
      "text/html": [
       "<table class=\"simpletable\">\n",
       "<caption>OLS Regression Results</caption>\n",
       "<tr>\n",
       "  <th>Dep. Variable:</th>       <td>deaths_pth</td>    <th>  R-squared:         </th> <td>   0.340</td>\n",
       "</tr>\n",
       "<tr>\n",
       "  <th>Model:</th>                   <td>OLS</td>       <th>  Adj. R-squared:    </th> <td>   0.297</td>\n",
       "</tr>\n",
       "<tr>\n",
       "  <th>Method:</th>             <td>Least Squares</td>  <th>  F-statistic:       </th> <td>   7.900</td>\n",
       "</tr>\n",
       "<tr>\n",
       "  <th>Date:</th>             <td>Sun, 21 Feb 2021</td> <th>  Prob (F-statistic):</th> <td>0.000235</td>\n",
       "</tr>\n",
       "<tr>\n",
       "  <th>Time:</th>                 <td>07:58:56</td>     <th>  Log-Likelihood:    </th> <td>  250.16</td>\n",
       "</tr>\n",
       "<tr>\n",
       "  <th>No. Observations:</th>      <td>    50</td>      <th>  AIC:               </th> <td>  -492.3</td>\n",
       "</tr>\n",
       "<tr>\n",
       "  <th>Df Residuals:</th>          <td>    46</td>      <th>  BIC:               </th> <td>  -484.7</td>\n",
       "</tr>\n",
       "<tr>\n",
       "  <th>Df Model:</th>              <td>     3</td>      <th>                     </th>     <td> </td>   \n",
       "</tr>\n",
       "<tr>\n",
       "  <th>Covariance Type:</th>      <td>nonrobust</td>    <th>                     </th>     <td> </td>   \n",
       "</tr>\n",
       "</table>\n",
       "<table class=\"simpletable\">\n",
       "<tr>\n",
       "          <td></td>            <th>coef</th>     <th>std err</th>      <th>t</th>      <th>P>|t|</th>  <th>[0.025</th>    <th>0.975]</th>  \n",
       "</tr>\n",
       "<tr>\n",
       "  <th>Intercept</th>        <td>    0.0049</td> <td>    0.004</td> <td>    1.371</td> <td> 0.177</td> <td>   -0.002</td> <td>    0.012</td>\n",
       "</tr>\n",
       "<tr>\n",
       "  <th>pc_misperception</th> <td>    0.0271</td> <td>    0.014</td> <td>    1.991</td> <td> 0.052</td> <td>   -0.000</td> <td>    0.054</td>\n",
       "</tr>\n",
       "<tr>\n",
       "  <th>StringencyIndex</th>  <td> -7.44e-05</td> <td> 2.24e-05</td> <td>   -3.316</td> <td> 0.002</td> <td>   -0.000</td> <td>-2.92e-05</td>\n",
       "</tr>\n",
       "<tr>\n",
       "  <th>White</th>            <td>   -0.0001</td> <td>    0.002</td> <td>   -0.055</td> <td> 0.956</td> <td>   -0.005</td> <td>    0.004</td>\n",
       "</tr>\n",
       "</table>\n",
       "<table class=\"simpletable\">\n",
       "<tr>\n",
       "  <th>Omnibus:</th>       <td> 0.780</td> <th>  Durbin-Watson:     </th> <td>   1.898</td>\n",
       "</tr>\n",
       "<tr>\n",
       "  <th>Prob(Omnibus):</th> <td> 0.677</td> <th>  Jarque-Bera (JB):  </th> <td>   0.826</td>\n",
       "</tr>\n",
       "<tr>\n",
       "  <th>Skew:</th>          <td>-0.273</td> <th>  Prob(JB):          </th> <td>   0.662</td>\n",
       "</tr>\n",
       "<tr>\n",
       "  <th>Kurtosis:</th>      <td> 2.686</td> <th>  Cond. No.          </th> <td>2.79e+03</td>\n",
       "</tr>\n",
       "</table><br/><br/>Notes:<br/>[1] Standard Errors assume that the covariance matrix of the errors is correctly specified.<br/>[2] The condition number is large, 2.79e+03. This might indicate that there are<br/>strong multicollinearity or other numerical problems."
      ],
      "text/plain": [
       "<class 'statsmodels.iolib.summary.Summary'>\n",
       "\"\"\"\n",
       "                            OLS Regression Results                            \n",
       "==============================================================================\n",
       "Dep. Variable:             deaths_pth   R-squared:                       0.340\n",
       "Model:                            OLS   Adj. R-squared:                  0.297\n",
       "Method:                 Least Squares   F-statistic:                     7.900\n",
       "Date:                Sun, 21 Feb 2021   Prob (F-statistic):           0.000235\n",
       "Time:                        07:58:56   Log-Likelihood:                 250.16\n",
       "No. Observations:                  50   AIC:                            -492.3\n",
       "Df Residuals:                      46   BIC:                            -484.7\n",
       "Df Model:                           3                                         \n",
       "Covariance Type:            nonrobust                                         \n",
       "====================================================================================\n",
       "                       coef    std err          t      P>|t|      [0.025      0.975]\n",
       "------------------------------------------------------------------------------------\n",
       "Intercept            0.0049      0.004      1.371      0.177      -0.002       0.012\n",
       "pc_misperception     0.0271      0.014      1.991      0.052      -0.000       0.054\n",
       "StringencyIndex   -7.44e-05   2.24e-05     -3.316      0.002      -0.000   -2.92e-05\n",
       "White               -0.0001      0.002     -0.055      0.956      -0.005       0.004\n",
       "==============================================================================\n",
       "Omnibus:                        0.780   Durbin-Watson:                   1.898\n",
       "Prob(Omnibus):                  0.677   Jarque-Bera (JB):                0.826\n",
       "Skew:                          -0.273   Prob(JB):                        0.662\n",
       "Kurtosis:                       2.686   Cond. No.                     2.79e+03\n",
       "==============================================================================\n",
       "\n",
       "Notes:\n",
       "[1] Standard Errors assume that the covariance matrix of the errors is correctly specified.\n",
       "[2] The condition number is large, 2.79e+03. This might indicate that there are\n",
       "strong multicollinearity or other numerical problems.\n",
       "\"\"\""
      ]
     },
     "execution_count": 268,
     "metadata": {},
     "output_type": "execute_result"
    }
   ],
   "source": [
    "Aug_reg_2_dea = smf.ols('deaths_pth ~ pc_misperception + StringencyIndex + White', data=us_Aug).fit()\n",
    "Aug_reg_2_dea.summary()"
   ]
  },
  {
   "cell_type": "code",
   "execution_count": 269,
   "metadata": {},
   "outputs": [
    {
     "data": {
      "text/html": [
       "<table class=\"simpletable\">\n",
       "<caption>OLS Regression Results</caption>\n",
       "<tr>\n",
       "  <th>Dep. Variable:</th>     <td>positivity_rate</td> <th>  R-squared:         </th> <td>   0.123</td>\n",
       "</tr>\n",
       "<tr>\n",
       "  <th>Model:</th>                   <td>OLS</td>       <th>  Adj. R-squared:    </th> <td>   0.065</td>\n",
       "</tr>\n",
       "<tr>\n",
       "  <th>Method:</th>             <td>Least Squares</td>  <th>  F-statistic:       </th> <td>   2.143</td>\n",
       "</tr>\n",
       "<tr>\n",
       "  <th>Date:</th>             <td>Sun, 21 Feb 2021</td> <th>  Prob (F-statistic):</th>  <td> 0.108</td> \n",
       "</tr>\n",
       "<tr>\n",
       "  <th>Time:</th>                 <td>07:58:57</td>     <th>  Log-Likelihood:    </th> <td>  74.885</td>\n",
       "</tr>\n",
       "<tr>\n",
       "  <th>No. Observations:</th>      <td>    50</td>      <th>  AIC:               </th> <td>  -141.8</td>\n",
       "</tr>\n",
       "<tr>\n",
       "  <th>Df Residuals:</th>          <td>    46</td>      <th>  BIC:               </th> <td>  -134.1</td>\n",
       "</tr>\n",
       "<tr>\n",
       "  <th>Df Model:</th>              <td>     3</td>      <th>                     </th>     <td> </td>   \n",
       "</tr>\n",
       "<tr>\n",
       "  <th>Covariance Type:</th>      <td>nonrobust</td>    <th>                     </th>     <td> </td>   \n",
       "</tr>\n",
       "</table>\n",
       "<table class=\"simpletable\">\n",
       "<tr>\n",
       "          <td></td>             <th>coef</th>     <th>std err</th>      <th>t</th>      <th>P>|t|</th>  <th>[0.025</th>    <th>0.975]</th>  \n",
       "</tr>\n",
       "<tr>\n",
       "  <th>Intercept</th>         <td>   -0.0442</td> <td>    0.116</td> <td>   -0.382</td> <td> 0.704</td> <td>   -0.277</td> <td>    0.188</td>\n",
       "</tr>\n",
       "<tr>\n",
       "  <th>pc_misperception</th>  <td>    0.8958</td> <td>    0.427</td> <td>    2.099</td> <td> 0.041</td> <td>    0.037</td> <td>    1.755</td>\n",
       "</tr>\n",
       "<tr>\n",
       "  <th>White</th>             <td>    0.0635</td> <td>    0.076</td> <td>    0.841</td> <td> 0.405</td> <td>   -0.089</td> <td>    0.216</td>\n",
       "</tr>\n",
       "<tr>\n",
       "  <th>Urbanization_rate</th> <td>   -0.0004</td> <td>    0.001</td> <td>   -0.741</td> <td> 0.463</td> <td>   -0.002</td> <td>    0.001</td>\n",
       "</tr>\n",
       "</table>\n",
       "<table class=\"simpletable\">\n",
       "<tr>\n",
       "  <th>Omnibus:</th>       <td>21.404</td> <th>  Durbin-Watson:     </th> <td>   1.809</td>\n",
       "</tr>\n",
       "<tr>\n",
       "  <th>Prob(Omnibus):</th> <td> 0.000</td> <th>  Jarque-Bera (JB):  </th> <td>  31.318</td>\n",
       "</tr>\n",
       "<tr>\n",
       "  <th>Skew:</th>          <td> 1.439</td> <th>  Prob(JB):          </th> <td>1.58e-07</td>\n",
       "</tr>\n",
       "<tr>\n",
       "  <th>Kurtosis:</th>      <td> 5.599</td> <th>  Cond. No.          </th> <td>4.09e+03</td>\n",
       "</tr>\n",
       "</table><br/><br/>Notes:<br/>[1] Standard Errors assume that the covariance matrix of the errors is correctly specified.<br/>[2] The condition number is large, 4.09e+03. This might indicate that there are<br/>strong multicollinearity or other numerical problems."
      ],
      "text/plain": [
       "<class 'statsmodels.iolib.summary.Summary'>\n",
       "\"\"\"\n",
       "                            OLS Regression Results                            \n",
       "==============================================================================\n",
       "Dep. Variable:        positivity_rate   R-squared:                       0.123\n",
       "Model:                            OLS   Adj. R-squared:                  0.065\n",
       "Method:                 Least Squares   F-statistic:                     2.143\n",
       "Date:                Sun, 21 Feb 2021   Prob (F-statistic):              0.108\n",
       "Time:                        07:58:57   Log-Likelihood:                 74.885\n",
       "No. Observations:                  50   AIC:                            -141.8\n",
       "Df Residuals:                      46   BIC:                            -134.1\n",
       "Df Model:                           3                                         \n",
       "Covariance Type:            nonrobust                                         \n",
       "=====================================================================================\n",
       "                        coef    std err          t      P>|t|      [0.025      0.975]\n",
       "-------------------------------------------------------------------------------------\n",
       "Intercept            -0.0442      0.116     -0.382      0.704      -0.277       0.188\n",
       "pc_misperception      0.8958      0.427      2.099      0.041       0.037       1.755\n",
       "White                 0.0635      0.076      0.841      0.405      -0.089       0.216\n",
       "Urbanization_rate    -0.0004      0.001     -0.741      0.463      -0.002       0.001\n",
       "==============================================================================\n",
       "Omnibus:                       21.404   Durbin-Watson:                   1.809\n",
       "Prob(Omnibus):                  0.000   Jarque-Bera (JB):               31.318\n",
       "Skew:                           1.439   Prob(JB):                     1.58e-07\n",
       "Kurtosis:                       5.599   Cond. No.                     4.09e+03\n",
       "==============================================================================\n",
       "\n",
       "Notes:\n",
       "[1] Standard Errors assume that the covariance matrix of the errors is correctly specified.\n",
       "[2] The condition number is large, 4.09e+03. This might indicate that there are\n",
       "strong multicollinearity or other numerical problems.\n",
       "\"\"\""
      ]
     },
     "execution_count": 269,
     "metadata": {},
     "output_type": "execute_result"
    }
   ],
   "source": [
    "cross_sectional_reg_3_posrate = smf.ols('positivity_rate ~ pc_misperception + White + Urbanization_rate', data=us_cross_sectional).fit()\n",
    "cross_sectional_reg_3_posrate.summary()"
   ]
  },
  {
   "cell_type": "code",
   "execution_count": 270,
   "metadata": {},
   "outputs": [
    {
     "data": {
      "text/html": [
       "<table class=\"simpletable\">\n",
       "<caption>OLS Regression Results</caption>\n",
       "<tr>\n",
       "  <th>Dep. Variable:</th>       <td>deaths_pth</td>    <th>  R-squared:         </th> <td>   0.144</td>\n",
       "</tr>\n",
       "<tr>\n",
       "  <th>Model:</th>                   <td>OLS</td>       <th>  Adj. R-squared:    </th> <td>   0.088</td>\n",
       "</tr>\n",
       "<tr>\n",
       "  <th>Method:</th>             <td>Least Squares</td>  <th>  F-statistic:       </th> <td>   2.572</td>\n",
       "</tr>\n",
       "<tr>\n",
       "  <th>Date:</th>             <td>Sun, 21 Feb 2021</td> <th>  Prob (F-statistic):</th>  <td>0.0655</td> \n",
       "</tr>\n",
       "<tr>\n",
       "  <th>Time:</th>                 <td>07:58:57</td>     <th>  Log-Likelihood:    </th> <td>  256.63</td>\n",
       "</tr>\n",
       "<tr>\n",
       "  <th>No. Observations:</th>      <td>    50</td>      <th>  AIC:               </th> <td>  -505.3</td>\n",
       "</tr>\n",
       "<tr>\n",
       "  <th>Df Residuals:</th>          <td>    46</td>      <th>  BIC:               </th> <td>  -497.6</td>\n",
       "</tr>\n",
       "<tr>\n",
       "  <th>Df Model:</th>              <td>     3</td>      <th>                     </th>     <td> </td>   \n",
       "</tr>\n",
       "<tr>\n",
       "  <th>Covariance Type:</th>      <td>nonrobust</td>    <th>                     </th>     <td> </td>   \n",
       "</tr>\n",
       "</table>\n",
       "<table class=\"simpletable\">\n",
       "<tr>\n",
       "          <td></td>             <th>coef</th>     <th>std err</th>      <th>t</th>      <th>P>|t|</th>  <th>[0.025</th>    <th>0.975]</th>  \n",
       "</tr>\n",
       "<tr>\n",
       "  <th>Intercept</th>         <td>   -0.0026</td> <td>    0.003</td> <td>   -0.866</td> <td> 0.391</td> <td>   -0.009</td> <td>    0.003</td>\n",
       "</tr>\n",
       "<tr>\n",
       "  <th>pc_misperception</th>  <td>    0.0266</td> <td>    0.011</td> <td>    2.358</td> <td> 0.023</td> <td>    0.004</td> <td>    0.049</td>\n",
       "</tr>\n",
       "<tr>\n",
       "  <th>White</th>             <td>    0.0009</td> <td>    0.002</td> <td>    0.435</td> <td> 0.665</td> <td>   -0.003</td> <td>    0.005</td>\n",
       "</tr>\n",
       "<tr>\n",
       "  <th>Urbanization_rate</th> <td>  2.78e-05</td> <td> 1.58e-05</td> <td>    1.760</td> <td> 0.085</td> <td>   -4e-06</td> <td> 5.96e-05</td>\n",
       "</tr>\n",
       "</table>\n",
       "<table class=\"simpletable\">\n",
       "<tr>\n",
       "  <th>Omnibus:</th>       <td> 0.817</td> <th>  Durbin-Watson:     </th> <td>   1.984</td>\n",
       "</tr>\n",
       "<tr>\n",
       "  <th>Prob(Omnibus):</th> <td> 0.665</td> <th>  Jarque-Bera (JB):  </th> <td>   0.832</td>\n",
       "</tr>\n",
       "<tr>\n",
       "  <th>Skew:</th>          <td> 0.119</td> <th>  Prob(JB):          </th> <td>   0.660</td>\n",
       "</tr>\n",
       "<tr>\n",
       "  <th>Kurtosis:</th>      <td> 2.415</td> <th>  Cond. No.          </th> <td>4.09e+03</td>\n",
       "</tr>\n",
       "</table><br/><br/>Notes:<br/>[1] Standard Errors assume that the covariance matrix of the errors is correctly specified.<br/>[2] The condition number is large, 4.09e+03. This might indicate that there are<br/>strong multicollinearity or other numerical problems."
      ],
      "text/plain": [
       "<class 'statsmodels.iolib.summary.Summary'>\n",
       "\"\"\"\n",
       "                            OLS Regression Results                            \n",
       "==============================================================================\n",
       "Dep. Variable:             deaths_pth   R-squared:                       0.144\n",
       "Model:                            OLS   Adj. R-squared:                  0.088\n",
       "Method:                 Least Squares   F-statistic:                     2.572\n",
       "Date:                Sun, 21 Feb 2021   Prob (F-statistic):             0.0655\n",
       "Time:                        07:58:57   Log-Likelihood:                 256.63\n",
       "No. Observations:                  50   AIC:                            -505.3\n",
       "Df Residuals:                      46   BIC:                            -497.6\n",
       "Df Model:                           3                                         \n",
       "Covariance Type:            nonrobust                                         \n",
       "=====================================================================================\n",
       "                        coef    std err          t      P>|t|      [0.025      0.975]\n",
       "-------------------------------------------------------------------------------------\n",
       "Intercept            -0.0026      0.003     -0.866      0.391      -0.009       0.003\n",
       "pc_misperception      0.0266      0.011      2.358      0.023       0.004       0.049\n",
       "White                 0.0009      0.002      0.435      0.665      -0.003       0.005\n",
       "Urbanization_rate   2.78e-05   1.58e-05      1.760      0.085      -4e-06    5.96e-05\n",
       "==============================================================================\n",
       "Omnibus:                        0.817   Durbin-Watson:                   1.984\n",
       "Prob(Omnibus):                  0.665   Jarque-Bera (JB):                0.832\n",
       "Skew:                           0.119   Prob(JB):                        0.660\n",
       "Kurtosis:                       2.415   Cond. No.                     4.09e+03\n",
       "==============================================================================\n",
       "\n",
       "Notes:\n",
       "[1] Standard Errors assume that the covariance matrix of the errors is correctly specified.\n",
       "[2] The condition number is large, 4.09e+03. This might indicate that there are\n",
       "strong multicollinearity or other numerical problems.\n",
       "\"\"\""
      ]
     },
     "execution_count": 270,
     "metadata": {},
     "output_type": "execute_result"
    }
   ],
   "source": [
    "cross_sectional_reg_3_dea = smf.ols('deaths_pth ~ pc_misperception + White + Urbanization_rate', data=us_cross_sectional).fit()\n",
    "cross_sectional_reg_3_dea.summary()"
   ]
  },
  {
   "cell_type": "code",
   "execution_count": 26,
   "metadata": {},
   "outputs": [
    {
     "data": {
      "text/html": [
       "<table class=\"simpletable\">\n",
       "<caption>OLS Regression Results</caption>\n",
       "<tr>\n",
       "  <th>Dep. Variable:</th>     <td>positivity_rate</td> <th>  R-squared:         </th> <td>   0.202</td>\n",
       "</tr>\n",
       "<tr>\n",
       "  <th>Model:</th>                   <td>OLS</td>       <th>  Adj. R-squared:    </th> <td>   0.131</td>\n",
       "</tr>\n",
       "<tr>\n",
       "  <th>Method:</th>             <td>Least Squares</td>  <th>  F-statistic:       </th> <td>   2.849</td>\n",
       "</tr>\n",
       "<tr>\n",
       "  <th>Date:</th>             <td>Sun, 21 Feb 2021</td> <th>  Prob (F-statistic):</th>  <td>0.0345</td> \n",
       "</tr>\n",
       "<tr>\n",
       "  <th>Time:</th>                 <td>05:23:08</td>     <th>  Log-Likelihood:    </th> <td>  77.258</td>\n",
       "</tr>\n",
       "<tr>\n",
       "  <th>No. Observations:</th>      <td>    50</td>      <th>  AIC:               </th> <td>  -144.5</td>\n",
       "</tr>\n",
       "<tr>\n",
       "  <th>Df Residuals:</th>          <td>    45</td>      <th>  BIC:               </th> <td>  -135.0</td>\n",
       "</tr>\n",
       "<tr>\n",
       "  <th>Df Model:</th>              <td>     4</td>      <th>                     </th>     <td> </td>   \n",
       "</tr>\n",
       "<tr>\n",
       "  <th>Covariance Type:</th>      <td>nonrobust</td>    <th>                     </th>     <td> </td>   \n",
       "</tr>\n",
       "</table>\n",
       "<table class=\"simpletable\">\n",
       "<tr>\n",
       "               <td></td>                 <th>coef</th>     <th>std err</th>      <th>t</th>      <th>P>|t|</th>  <th>[0.025</th>    <th>0.975]</th>  \n",
       "</tr>\n",
       "<tr>\n",
       "  <th>Intercept</th>                  <td>    0.0775</td> <td>    0.125</td> <td>    0.618</td> <td> 0.539</td> <td>   -0.175</td> <td>    0.330</td>\n",
       "</tr>\n",
       "<tr>\n",
       "  <th>pc_misperception</th>           <td>    0.5040</td> <td>    0.451</td> <td>    1.117</td> <td> 0.270</td> <td>   -0.405</td> <td>    1.413</td>\n",
       "</tr>\n",
       "<tr>\n",
       "  <th>White</th>                      <td>    0.0762</td> <td>    0.073</td> <td>    1.043</td> <td> 0.302</td> <td>   -0.071</td> <td>    0.223</td>\n",
       "</tr>\n",
       "<tr>\n",
       "  <th>Urbanization_rate</th>          <td>    0.0002</td> <td>    0.001</td> <td>    0.252</td> <td> 0.802</td> <td>   -0.001</td> <td>    0.001</td>\n",
       "</tr>\n",
       "<tr>\n",
       "  <th>Percent_bachelor_or_higher</th> <td>   -0.0040</td> <td>    0.002</td> <td>   -2.117</td> <td> 0.040</td> <td>   -0.008</td> <td>   -0.000</td>\n",
       "</tr>\n",
       "</table>\n",
       "<table class=\"simpletable\">\n",
       "<tr>\n",
       "  <th>Omnibus:</th>       <td>21.571</td> <th>  Durbin-Watson:     </th> <td>   1.924</td>\n",
       "</tr>\n",
       "<tr>\n",
       "  <th>Prob(Omnibus):</th> <td> 0.000</td> <th>  Jarque-Bera (JB):  </th> <td>  30.793</td>\n",
       "</tr>\n",
       "<tr>\n",
       "  <th>Skew:</th>          <td> 1.482</td> <th>  Prob(JB):          </th> <td>2.06e-07</td>\n",
       "</tr>\n",
       "<tr>\n",
       "  <th>Kurtosis:</th>      <td> 5.450</td> <th>  Cond. No.          </th> <td>4.86e+03</td>\n",
       "</tr>\n",
       "</table><br/><br/>Notes:<br/>[1] Standard Errors assume that the covariance matrix of the errors is correctly specified.<br/>[2] The condition number is large, 4.86e+03. This might indicate that there are<br/>strong multicollinearity or other numerical problems."
      ],
      "text/plain": [
       "<class 'statsmodels.iolib.summary.Summary'>\n",
       "\"\"\"\n",
       "                            OLS Regression Results                            \n",
       "==============================================================================\n",
       "Dep. Variable:        positivity_rate   R-squared:                       0.202\n",
       "Model:                            OLS   Adj. R-squared:                  0.131\n",
       "Method:                 Least Squares   F-statistic:                     2.849\n",
       "Date:                Sun, 21 Feb 2021   Prob (F-statistic):             0.0345\n",
       "Time:                        05:23:08   Log-Likelihood:                 77.258\n",
       "No. Observations:                  50   AIC:                            -144.5\n",
       "Df Residuals:                      45   BIC:                            -135.0\n",
       "Df Model:                           4                                         \n",
       "Covariance Type:            nonrobust                                         \n",
       "==============================================================================================\n",
       "                                 coef    std err          t      P>|t|      [0.025      0.975]\n",
       "----------------------------------------------------------------------------------------------\n",
       "Intercept                      0.0775      0.125      0.618      0.539      -0.175       0.330\n",
       "pc_misperception               0.5040      0.451      1.117      0.270      -0.405       1.413\n",
       "White                          0.0762      0.073      1.043      0.302      -0.071       0.223\n",
       "Urbanization_rate              0.0002      0.001      0.252      0.802      -0.001       0.001\n",
       "Percent_bachelor_or_higher    -0.0040      0.002     -2.117      0.040      -0.008      -0.000\n",
       "==============================================================================\n",
       "Omnibus:                       21.571   Durbin-Watson:                   1.924\n",
       "Prob(Omnibus):                  0.000   Jarque-Bera (JB):               30.793\n",
       "Skew:                           1.482   Prob(JB):                     2.06e-07\n",
       "Kurtosis:                       5.450   Cond. No.                     4.86e+03\n",
       "==============================================================================\n",
       "\n",
       "Notes:\n",
       "[1] Standard Errors assume that the covariance matrix of the errors is correctly specified.\n",
       "[2] The condition number is large, 4.86e+03. This might indicate that there are\n",
       "strong multicollinearity or other numerical problems.\n",
       "\"\"\""
      ]
     },
     "execution_count": 26,
     "metadata": {},
     "output_type": "execute_result"
    }
   ],
   "source": [
    "cross_sectional_reg_4_posrate = smf.ols('positivity_rate ~ pc_misperception + White + Urbanization_rate + Percent_bachelor_or_higher', data=us_cross_sectional).fit()\n",
    "cross_sectional_reg_4_posrate.summary()"
   ]
  },
  {
   "cell_type": "code",
   "execution_count": 27,
   "metadata": {},
   "outputs": [
    {
     "data": {
      "text/html": [
       "<table class=\"simpletable\">\n",
       "<caption>OLS Regression Results</caption>\n",
       "<tr>\n",
       "  <th>Dep. Variable:</th>       <td>deaths_pth</td>    <th>  R-squared:         </th> <td>   0.146</td>\n",
       "</tr>\n",
       "<tr>\n",
       "  <th>Model:</th>                   <td>OLS</td>       <th>  Adj. R-squared:    </th> <td>   0.071</td>\n",
       "</tr>\n",
       "<tr>\n",
       "  <th>Method:</th>             <td>Least Squares</td>  <th>  F-statistic:       </th> <td>   1.931</td>\n",
       "</tr>\n",
       "<tr>\n",
       "  <th>Date:</th>             <td>Sun, 21 Feb 2021</td> <th>  Prob (F-statistic):</th>  <td> 0.122</td> \n",
       "</tr>\n",
       "<tr>\n",
       "  <th>Time:</th>                 <td>05:23:08</td>     <th>  Log-Likelihood:    </th> <td>  256.71</td>\n",
       "</tr>\n",
       "<tr>\n",
       "  <th>No. Observations:</th>      <td>    50</td>      <th>  AIC:               </th> <td>  -503.4</td>\n",
       "</tr>\n",
       "<tr>\n",
       "  <th>Df Residuals:</th>          <td>    45</td>      <th>  BIC:               </th> <td>  -493.9</td>\n",
       "</tr>\n",
       "<tr>\n",
       "  <th>Df Model:</th>              <td>     4</td>      <th>                     </th>     <td> </td>   \n",
       "</tr>\n",
       "<tr>\n",
       "  <th>Covariance Type:</th>      <td>nonrobust</td>    <th>                     </th>     <td> </td>   \n",
       "</tr>\n",
       "</table>\n",
       "<table class=\"simpletable\">\n",
       "<tr>\n",
       "               <td></td>                 <th>coef</th>     <th>std err</th>      <th>t</th>      <th>P>|t|</th>  <th>[0.025</th>    <th>0.975]</th>  \n",
       "</tr>\n",
       "<tr>\n",
       "  <th>Intercept</th>                  <td>   -0.0020</td> <td>    0.003</td> <td>   -0.586</td> <td> 0.561</td> <td>   -0.009</td> <td>    0.005</td>\n",
       "</tr>\n",
       "<tr>\n",
       "  <th>pc_misperception</th>           <td>    0.0246</td> <td>    0.012</td> <td>    1.972</td> <td> 0.055</td> <td>   -0.001</td> <td>    0.050</td>\n",
       "</tr>\n",
       "<tr>\n",
       "  <th>White</th>                      <td>    0.0009</td> <td>    0.002</td> <td>    0.462</td> <td> 0.647</td> <td>   -0.003</td> <td>    0.005</td>\n",
       "</tr>\n",
       "<tr>\n",
       "  <th>Urbanization_rate</th>          <td> 3.085e-05</td> <td> 1.78e-05</td> <td>    1.733</td> <td> 0.090</td> <td>   -5e-06</td> <td> 6.67e-05</td>\n",
       "</tr>\n",
       "<tr>\n",
       "  <th>Percent_bachelor_or_higher</th> <td>    -2e-05</td> <td>  5.2e-05</td> <td>   -0.385</td> <td> 0.702</td> <td>   -0.000</td> <td> 8.46e-05</td>\n",
       "</tr>\n",
       "</table>\n",
       "<table class=\"simpletable\">\n",
       "<tr>\n",
       "  <th>Omnibus:</th>       <td> 0.663</td> <th>  Durbin-Watson:     </th> <td>   1.983</td>\n",
       "</tr>\n",
       "<tr>\n",
       "  <th>Prob(Omnibus):</th> <td> 0.718</td> <th>  Jarque-Bera (JB):  </th> <td>   0.775</td>\n",
       "</tr>\n",
       "<tr>\n",
       "  <th>Skew:</th>          <td> 0.179</td> <th>  Prob(JB):          </th> <td>   0.679</td>\n",
       "</tr>\n",
       "<tr>\n",
       "  <th>Kurtosis:</th>      <td> 2.506</td> <th>  Cond. No.          </th> <td>4.86e+03</td>\n",
       "</tr>\n",
       "</table><br/><br/>Notes:<br/>[1] Standard Errors assume that the covariance matrix of the errors is correctly specified.<br/>[2] The condition number is large, 4.86e+03. This might indicate that there are<br/>strong multicollinearity or other numerical problems."
      ],
      "text/plain": [
       "<class 'statsmodels.iolib.summary.Summary'>\n",
       "\"\"\"\n",
       "                            OLS Regression Results                            \n",
       "==============================================================================\n",
       "Dep. Variable:             deaths_pth   R-squared:                       0.146\n",
       "Model:                            OLS   Adj. R-squared:                  0.071\n",
       "Method:                 Least Squares   F-statistic:                     1.931\n",
       "Date:                Sun, 21 Feb 2021   Prob (F-statistic):              0.122\n",
       "Time:                        05:23:08   Log-Likelihood:                 256.71\n",
       "No. Observations:                  50   AIC:                            -503.4\n",
       "Df Residuals:                      45   BIC:                            -493.9\n",
       "Df Model:                           4                                         \n",
       "Covariance Type:            nonrobust                                         \n",
       "==============================================================================================\n",
       "                                 coef    std err          t      P>|t|      [0.025      0.975]\n",
       "----------------------------------------------------------------------------------------------\n",
       "Intercept                     -0.0020      0.003     -0.586      0.561      -0.009       0.005\n",
       "pc_misperception               0.0246      0.012      1.972      0.055      -0.001       0.050\n",
       "White                          0.0009      0.002      0.462      0.647      -0.003       0.005\n",
       "Urbanization_rate           3.085e-05   1.78e-05      1.733      0.090      -5e-06    6.67e-05\n",
       "Percent_bachelor_or_higher     -2e-05    5.2e-05     -0.385      0.702      -0.000    8.46e-05\n",
       "==============================================================================\n",
       "Omnibus:                        0.663   Durbin-Watson:                   1.983\n",
       "Prob(Omnibus):                  0.718   Jarque-Bera (JB):                0.775\n",
       "Skew:                           0.179   Prob(JB):                        0.679\n",
       "Kurtosis:                       2.506   Cond. No.                     4.86e+03\n",
       "==============================================================================\n",
       "\n",
       "Notes:\n",
       "[1] Standard Errors assume that the covariance matrix of the errors is correctly specified.\n",
       "[2] The condition number is large, 4.86e+03. This might indicate that there are\n",
       "strong multicollinearity or other numerical problems.\n",
       "\"\"\""
      ]
     },
     "execution_count": 27,
     "metadata": {},
     "output_type": "execute_result"
    }
   ],
   "source": [
    "cross_sectional_reg_4_dea = smf.ols('deaths_pth ~ pc_misperception + White + Urbanization_rate + Percent_bachelor_or_higher', data=us_cross_sectional).fit()\n",
    "cross_sectional_reg_4_dea.summary()"
   ]
  },
  {
   "cell_type": "code",
   "execution_count": 28,
   "metadata": {},
   "outputs": [
    {
     "name": "stdout",
     "output_type": "stream",
     "text": [
      "\\begin{table}\n",
      "\\caption{}\n",
      "\\label{}\n",
      "\\begin{center}\n",
      "\\begin{tabular}{lll}\n",
      "\\hline\n",
      "                              & positivity\\_rate & deaths\\_pth  \\\\\n",
      "\\hline\n",
      "Intercept                     & 0.078            & -0.002       \\\\\n",
      "                              & (0.125)          & (0.003)      \\\\\n",
      "pc\\_misperception             & 0.504            & 0.025*       \\\\\n",
      "                              & (0.451)          & (0.012)      \\\\\n",
      "White                         & 0.076            & 0.001        \\\\\n",
      "                              & (0.073)          & (0.002)      \\\\\n",
      "Urbanization\\_rate            & 0.000            & 0.000*       \\\\\n",
      "                              & (0.001)          & (0.000)      \\\\\n",
      "Percent\\_bachelor\\_or\\_higher & -0.004**         & -0.000       \\\\\n",
      "                              & (0.002)          & (0.000)      \\\\\n",
      "R-squared                     & 0.202            & 0.146        \\\\\n",
      "R-squared Adj.                & 0.131            & 0.071        \\\\\n",
      "\\hline\n",
      "\\end{tabular}\n",
      "\\end{center}\n",
      "\\end{table}\n"
     ]
    }
   ],
   "source": [
    "print(summary_col([cross_sectional_reg_4_posrate, cross_sectional_reg_4_dea],stars=True, float_format=\"%0.3f\").as_latex())"
   ]
  },
  {
   "cell_type": "markdown",
   "metadata": {},
   "source": [
    "Nothing really interesting here. "
   ]
  },
  {
   "cell_type": "markdown",
   "metadata": {},
   "source": [
    "## Relationship between misperception and mobility"
   ]
  },
  {
   "cell_type": "code",
   "execution_count": 97,
   "metadata": {},
   "outputs": [
    {
     "data": {
      "text/html": [
       "<table class=\"simpletable\">\n",
       "<caption>OLS Regression Results</caption>\n",
       "<tr>\n",
       "  <th>Dep. Variable:</th>          <td>very</td>       <th>  R-squared:         </th> <td>   0.446</td>\n",
       "</tr>\n",
       "<tr>\n",
       "  <th>Model:</th>                   <td>OLS</td>       <th>  Adj. R-squared:    </th> <td>   0.422</td>\n",
       "</tr>\n",
       "<tr>\n",
       "  <th>Method:</th>             <td>Least Squares</td>  <th>  F-statistic:       </th> <td>   18.91</td>\n",
       "</tr>\n",
       "<tr>\n",
       "  <th>Date:</th>             <td>Sun, 21 Feb 2021</td> <th>  Prob (F-statistic):</th> <td>9.42e-07</td>\n",
       "</tr>\n",
       "<tr>\n",
       "  <th>Time:</th>                 <td>06:44:22</td>     <th>  Log-Likelihood:    </th> <td> -145.68</td>\n",
       "</tr>\n",
       "<tr>\n",
       "  <th>No. Observations:</th>      <td>    50</td>      <th>  AIC:               </th> <td>   297.4</td>\n",
       "</tr>\n",
       "<tr>\n",
       "  <th>Df Residuals:</th>          <td>    47</td>      <th>  BIC:               </th> <td>   303.1</td>\n",
       "</tr>\n",
       "<tr>\n",
       "  <th>Df Model:</th>              <td>     2</td>      <th>                     </th>     <td> </td>   \n",
       "</tr>\n",
       "<tr>\n",
       "  <th>Covariance Type:</th>      <td>nonrobust</td>    <th>                     </th>     <td> </td>   \n",
       "</tr>\n",
       "</table>\n",
       "<table class=\"simpletable\">\n",
       "<tr>\n",
       "          <td></td>            <th>coef</th>     <th>std err</th>      <th>t</th>      <th>P>|t|</th>  <th>[0.025</th>    <th>0.975]</th>  \n",
       "</tr>\n",
       "<tr>\n",
       "  <th>Intercept</th>        <td>   35.3924</td> <td>    6.583</td> <td>    5.377</td> <td> 0.000</td> <td>   22.150</td> <td>   48.635</td>\n",
       "</tr>\n",
       "<tr>\n",
       "  <th>pc_misperception</th> <td>   61.4958</td> <td>   35.016</td> <td>    1.756</td> <td> 0.086</td> <td>   -8.946</td> <td>  131.938</td>\n",
       "</tr>\n",
       "<tr>\n",
       "  <th>StringencyIndex</th>  <td>    0.4070</td> <td>    0.066</td> <td>    6.147</td> <td> 0.000</td> <td>    0.274</td> <td>    0.540</td>\n",
       "</tr>\n",
       "</table>\n",
       "<table class=\"simpletable\">\n",
       "<tr>\n",
       "  <th>Omnibus:</th>       <td> 2.577</td> <th>  Durbin-Watson:     </th> <td>   1.713</td>\n",
       "</tr>\n",
       "<tr>\n",
       "  <th>Prob(Omnibus):</th> <td> 0.276</td> <th>  Jarque-Bera (JB):  </th> <td>   1.993</td>\n",
       "</tr>\n",
       "<tr>\n",
       "  <th>Skew:</th>          <td>-0.488</td> <th>  Prob(JB):          </th> <td>   0.369</td>\n",
       "</tr>\n",
       "<tr>\n",
       "  <th>Kurtosis:</th>      <td> 3.071</td> <th>  Cond. No.          </th> <td>2.80e+03</td>\n",
       "</tr>\n",
       "</table><br/><br/>Notes:<br/>[1] Standard Errors assume that the covariance matrix of the errors is correctly specified.<br/>[2] The condition number is large, 2.8e+03. This might indicate that there are<br/>strong multicollinearity or other numerical problems."
      ],
      "text/plain": [
       "<class 'statsmodels.iolib.summary.Summary'>\n",
       "\"\"\"\n",
       "                            OLS Regression Results                            \n",
       "==============================================================================\n",
       "Dep. Variable:                   very   R-squared:                       0.446\n",
       "Model:                            OLS   Adj. R-squared:                  0.422\n",
       "Method:                 Least Squares   F-statistic:                     18.91\n",
       "Date:                Sun, 21 Feb 2021   Prob (F-statistic):           9.42e-07\n",
       "Time:                        06:44:22   Log-Likelihood:                -145.68\n",
       "No. Observations:                  50   AIC:                             297.4\n",
       "Df Residuals:                      47   BIC:                             303.1\n",
       "Df Model:                           2                                         \n",
       "Covariance Type:            nonrobust                                         \n",
       "====================================================================================\n",
       "                       coef    std err          t      P>|t|      [0.025      0.975]\n",
       "------------------------------------------------------------------------------------\n",
       "Intercept           35.3924      6.583      5.377      0.000      22.150      48.635\n",
       "pc_misperception    61.4958     35.016      1.756      0.086      -8.946     131.938\n",
       "StringencyIndex      0.4070      0.066      6.147      0.000       0.274       0.540\n",
       "==============================================================================\n",
       "Omnibus:                        2.577   Durbin-Watson:                   1.713\n",
       "Prob(Omnibus):                  0.276   Jarque-Bera (JB):                1.993\n",
       "Skew:                          -0.488   Prob(JB):                        0.369\n",
       "Kurtosis:                       3.071   Cond. No.                     2.80e+03\n",
       "==============================================================================\n",
       "\n",
       "Notes:\n",
       "[1] Standard Errors assume that the covariance matrix of the errors is correctly specified.\n",
       "[2] The condition number is large, 2.8e+03. This might indicate that there are\n",
       "strong multicollinearity or other numerical problems.\n",
       "\"\"\""
      ]
     },
     "execution_count": 97,
     "metadata": {},
     "output_type": "execute_result"
    }
   ],
   "source": [
    "cross_sectional_reg_5_posrate = smf.ols(\"very ~ pc_misperception + StringencyIndex\", data=us_cross_sectional).fit()\n",
    "cross_sectional_reg_5_posrate.summary()"
   ]
  },
  {
   "cell_type": "code",
   "execution_count": 98,
   "metadata": {},
   "outputs": [
    {
     "data": {
      "text/html": [
       "<table class=\"simpletable\">\n",
       "<caption>OLS Regression Results</caption>\n",
       "<tr>\n",
       "  <th>Dep. Variable:</th>          <td>very</td>       <th>  R-squared:         </th> <td>   0.511</td>\n",
       "</tr>\n",
       "<tr>\n",
       "  <th>Model:</th>                   <td>OLS</td>       <th>  Adj. R-squared:    </th> <td>   0.490</td>\n",
       "</tr>\n",
       "<tr>\n",
       "  <th>Method:</th>             <td>Least Squares</td>  <th>  F-statistic:       </th> <td>   24.53</td>\n",
       "</tr>\n",
       "<tr>\n",
       "  <th>Date:</th>             <td>Sun, 21 Feb 2021</td> <th>  Prob (F-statistic):</th> <td>5.06e-08</td>\n",
       "</tr>\n",
       "<tr>\n",
       "  <th>Time:</th>                 <td>06:44:30</td>     <th>  Log-Likelihood:    </th> <td> -155.20</td>\n",
       "</tr>\n",
       "<tr>\n",
       "  <th>No. Observations:</th>      <td>    50</td>      <th>  AIC:               </th> <td>   316.4</td>\n",
       "</tr>\n",
       "<tr>\n",
       "  <th>Df Residuals:</th>          <td>    47</td>      <th>  BIC:               </th> <td>   322.1</td>\n",
       "</tr>\n",
       "<tr>\n",
       "  <th>Df Model:</th>              <td>     2</td>      <th>                     </th>     <td> </td>   \n",
       "</tr>\n",
       "<tr>\n",
       "  <th>Covariance Type:</th>      <td>nonrobust</td>    <th>                     </th>     <td> </td>   \n",
       "</tr>\n",
       "</table>\n",
       "<table class=\"simpletable\">\n",
       "<tr>\n",
       "          <td></td>            <th>coef</th>     <th>std err</th>      <th>t</th>      <th>P>|t|</th>  <th>[0.025</th>    <th>0.975]</th>  \n",
       "</tr>\n",
       "<tr>\n",
       "  <th>Intercept</th>        <td>   20.1052</td> <td>    7.634</td> <td>    2.634</td> <td> 0.011</td> <td>    4.748</td> <td>   35.462</td>\n",
       "</tr>\n",
       "<tr>\n",
       "  <th>pc_misperception</th> <td>  116.9799</td> <td>   43.068</td> <td>    2.716</td> <td> 0.009</td> <td>   30.338</td> <td>  203.622</td>\n",
       "</tr>\n",
       "<tr>\n",
       "  <th>StringencyIndex</th>  <td>    0.4787</td> <td>    0.069</td> <td>    6.980</td> <td> 0.000</td> <td>    0.341</td> <td>    0.617</td>\n",
       "</tr>\n",
       "</table>\n",
       "<table class=\"simpletable\">\n",
       "<tr>\n",
       "  <th>Omnibus:</th>       <td> 0.925</td> <th>  Durbin-Watson:     </th> <td>   1.491</td>\n",
       "</tr>\n",
       "<tr>\n",
       "  <th>Prob(Omnibus):</th> <td> 0.630</td> <th>  Jarque-Bera (JB):  </th> <td>   0.294</td>\n",
       "</tr>\n",
       "<tr>\n",
       "  <th>Skew:</th>          <td> 0.063</td> <th>  Prob(JB):          </th> <td>   0.863</td>\n",
       "</tr>\n",
       "<tr>\n",
       "  <th>Kurtosis:</th>      <td> 3.354</td> <th>  Cond. No.          </th> <td>2.67e+03</td>\n",
       "</tr>\n",
       "</table><br/><br/>Notes:<br/>[1] Standard Errors assume that the covariance matrix of the errors is correctly specified.<br/>[2] The condition number is large, 2.67e+03. This might indicate that there are<br/>strong multicollinearity or other numerical problems."
      ],
      "text/plain": [
       "<class 'statsmodels.iolib.summary.Summary'>\n",
       "\"\"\"\n",
       "                            OLS Regression Results                            \n",
       "==============================================================================\n",
       "Dep. Variable:                   very   R-squared:                       0.511\n",
       "Model:                            OLS   Adj. R-squared:                  0.490\n",
       "Method:                 Least Squares   F-statistic:                     24.53\n",
       "Date:                Sun, 21 Feb 2021   Prob (F-statistic):           5.06e-08\n",
       "Time:                        06:44:30   Log-Likelihood:                -155.20\n",
       "No. Observations:                  50   AIC:                             316.4\n",
       "Df Residuals:                      47   BIC:                             322.1\n",
       "Df Model:                           2                                         \n",
       "Covariance Type:            nonrobust                                         \n",
       "====================================================================================\n",
       "                       coef    std err          t      P>|t|      [0.025      0.975]\n",
       "------------------------------------------------------------------------------------\n",
       "Intercept           20.1052      7.634      2.634      0.011       4.748      35.462\n",
       "pc_misperception   116.9799     43.068      2.716      0.009      30.338     203.622\n",
       "StringencyIndex      0.4787      0.069      6.980      0.000       0.341       0.617\n",
       "==============================================================================\n",
       "Omnibus:                        0.925   Durbin-Watson:                   1.491\n",
       "Prob(Omnibus):                  0.630   Jarque-Bera (JB):                0.294\n",
       "Skew:                           0.063   Prob(JB):                        0.863\n",
       "Kurtosis:                       3.354   Cond. No.                     2.67e+03\n",
       "==============================================================================\n",
       "\n",
       "Notes:\n",
       "[1] Standard Errors assume that the covariance matrix of the errors is correctly specified.\n",
       "[2] The condition number is large, 2.67e+03. This might indicate that there are\n",
       "strong multicollinearity or other numerical problems.\n",
       "\"\"\""
      ]
     },
     "execution_count": 98,
     "metadata": {},
     "output_type": "execute_result"
    }
   ],
   "source": [
    "Aug_reg_5_posrate = smf.ols(\"very ~ pc_misperception + StringencyIndex\", data=us_Aug).fit()\n",
    "Aug_reg_5_posrate.summary()"
   ]
  },
  {
   "cell_type": "code",
   "execution_count": 37,
   "metadata": {},
   "outputs": [
    {
     "data": {
      "text/html": [
       "<table class=\"simpletable\">\n",
       "<caption>OLS Regression Results</caption>\n",
       "<tr>\n",
       "  <th>Dep. Variable:</th>    <td>non_residential_percent_change_from_baseline</td> <th>  R-squared:         </th> <td>   0.568</td>\n",
       "</tr>\n",
       "<tr>\n",
       "  <th>Model:</th>                                 <td>OLS</td>                     <th>  Adj. R-squared:    </th> <td>   0.540</td>\n",
       "</tr>\n",
       "<tr>\n",
       "  <th>Method:</th>                           <td>Least Squares</td>                <th>  F-statistic:       </th> <td>   20.19</td>\n",
       "</tr>\n",
       "<tr>\n",
       "  <th>Date:</th>                           <td>Sun, 21 Feb 2021</td>               <th>  Prob (F-statistic):</th> <td>1.71e-08</td>\n",
       "</tr>\n",
       "<tr>\n",
       "  <th>Time:</th>                               <td>05:29:13</td>                   <th>  Log-Likelihood:    </th> <td> -175.45</td>\n",
       "</tr>\n",
       "<tr>\n",
       "  <th>No. Observations:</th>                    <td>    50</td>                    <th>  AIC:               </th> <td>   358.9</td>\n",
       "</tr>\n",
       "<tr>\n",
       "  <th>Df Residuals:</th>                        <td>    46</td>                    <th>  BIC:               </th> <td>   366.5</td>\n",
       "</tr>\n",
       "<tr>\n",
       "  <th>Df Model:</th>                            <td>     3</td>                    <th>                     </th>     <td> </td>   \n",
       "</tr>\n",
       "<tr>\n",
       "  <th>Covariance Type:</th>                    <td>nonrobust</td>                  <th>                     </th>     <td> </td>   \n",
       "</tr>\n",
       "</table>\n",
       "<table class=\"simpletable\">\n",
       "<tr>\n",
       "           <td></td>             <th>coef</th>     <th>std err</th>      <th>t</th>      <th>P>|t|</th>  <th>[0.025</th>    <th>0.975]</th>  \n",
       "</tr>\n",
       "<tr>\n",
       "  <th>Intercept</th>          <td>   35.5394</td> <td>   11.310</td> <td>    3.142</td> <td> 0.003</td> <td>   12.773</td> <td>   58.305</td>\n",
       "</tr>\n",
       "<tr>\n",
       "  <th>pc_misperception</th>   <td>   35.0534</td> <td>   65.447</td> <td>    0.536</td> <td> 0.595</td> <td>  -96.685</td> <td>  166.792</td>\n",
       "</tr>\n",
       "<tr>\n",
       "  <th>Urbanization_rate</th>  <td>   -0.4383</td> <td>    0.086</td> <td>   -5.071</td> <td> 0.000</td> <td>   -0.612</td> <td>   -0.264</td>\n",
       "</tr>\n",
       "<tr>\n",
       "  <th>AverageTemperature</th> <td>   -1.1558</td> <td>    0.268</td> <td>   -4.312</td> <td> 0.000</td> <td>   -1.695</td> <td>   -0.616</td>\n",
       "</tr>\n",
       "</table>\n",
       "<table class=\"simpletable\">\n",
       "<tr>\n",
       "  <th>Omnibus:</th>       <td> 0.172</td> <th>  Durbin-Watson:     </th> <td>   1.900</td>\n",
       "</tr>\n",
       "<tr>\n",
       "  <th>Prob(Omnibus):</th> <td> 0.918</td> <th>  Jarque-Bera (JB):  </th> <td>   0.343</td>\n",
       "</tr>\n",
       "<tr>\n",
       "  <th>Skew:</th>          <td>-0.108</td> <th>  Prob(JB):          </th> <td>   0.843</td>\n",
       "</tr>\n",
       "<tr>\n",
       "  <th>Kurtosis:</th>      <td> 2.657</td> <th>  Cond. No.          </th> <td>4.20e+03</td>\n",
       "</tr>\n",
       "</table><br/><br/>Notes:<br/>[1] Standard Errors assume that the covariance matrix of the errors is correctly specified.<br/>[2] The condition number is large, 4.2e+03. This might indicate that there are<br/>strong multicollinearity or other numerical problems."
      ],
      "text/plain": [
       "<class 'statsmodels.iolib.summary.Summary'>\n",
       "\"\"\"\n",
       "                                         OLS Regression Results                                         \n",
       "========================================================================================================\n",
       "Dep. Variable:     non_residential_percent_change_from_baseline   R-squared:                       0.568\n",
       "Model:                                                      OLS   Adj. R-squared:                  0.540\n",
       "Method:                                           Least Squares   F-statistic:                     20.19\n",
       "Date:                                          Sun, 21 Feb 2021   Prob (F-statistic):           1.71e-08\n",
       "Time:                                                  05:29:13   Log-Likelihood:                -175.45\n",
       "No. Observations:                                            50   AIC:                             358.9\n",
       "Df Residuals:                                                46   BIC:                             366.5\n",
       "Df Model:                                                     3                                         \n",
       "Covariance Type:                                      nonrobust                                         \n",
       "======================================================================================\n",
       "                         coef    std err          t      P>|t|      [0.025      0.975]\n",
       "--------------------------------------------------------------------------------------\n",
       "Intercept             35.5394     11.310      3.142      0.003      12.773      58.305\n",
       "pc_misperception      35.0534     65.447      0.536      0.595     -96.685     166.792\n",
       "Urbanization_rate     -0.4383      0.086     -5.071      0.000      -0.612      -0.264\n",
       "AverageTemperature    -1.1558      0.268     -4.312      0.000      -1.695      -0.616\n",
       "==============================================================================\n",
       "Omnibus:                        0.172   Durbin-Watson:                   1.900\n",
       "Prob(Omnibus):                  0.918   Jarque-Bera (JB):                0.343\n",
       "Skew:                          -0.108   Prob(JB):                        0.843\n",
       "Kurtosis:                       2.657   Cond. No.                     4.20e+03\n",
       "==============================================================================\n",
       "\n",
       "Notes:\n",
       "[1] Standard Errors assume that the covariance matrix of the errors is correctly specified.\n",
       "[2] The condition number is large, 4.2e+03. This might indicate that there are\n",
       "strong multicollinearity or other numerical problems.\n",
       "\"\"\""
      ]
     },
     "execution_count": 37,
     "metadata": {},
     "output_type": "execute_result"
    }
   ],
   "source": [
    "cross_sectional_reg_6_posrate = smf.ols(\n",
    "    \"non_residential_percent_change_from_baseline ~ pc_misperception + Urbanization_rate + AverageTemperature\",\n",
    "    data=us_cross_sectional,\n",
    ").fit()\n",
    "cross_sectional_reg_6_posrate.summary()"
   ]
  },
  {
   "cell_type": "code",
   "execution_count": 80,
   "metadata": {},
   "outputs": [
    {
     "data": {
      "text/html": [
       "<table class=\"simpletable\">\n",
       "<caption>OLS Regression Results</caption>\n",
       "<tr>\n",
       "  <th>Dep. Variable:</th>    <td>non_residential_percent_change_from_baseline</td> <th>  R-squared:         </th> <td>   0.555</td>\n",
       "</tr>\n",
       "<tr>\n",
       "  <th>Model:</th>                                 <td>OLS</td>                     <th>  Adj. R-squared:    </th> <td>   0.526</td>\n",
       "</tr>\n",
       "<tr>\n",
       "  <th>Method:</th>                           <td>Least Squares</td>                <th>  F-statistic:       </th> <td>   19.14</td>\n",
       "</tr>\n",
       "<tr>\n",
       "  <th>Date:</th>                           <td>Sun, 21 Feb 2021</td>               <th>  Prob (F-statistic):</th> <td>3.37e-08</td>\n",
       "</tr>\n",
       "<tr>\n",
       "  <th>Time:</th>                               <td>06:27:53</td>                   <th>  Log-Likelihood:    </th> <td> -167.56</td>\n",
       "</tr>\n",
       "<tr>\n",
       "  <th>No. Observations:</th>                    <td>    50</td>                    <th>  AIC:               </th> <td>   343.1</td>\n",
       "</tr>\n",
       "<tr>\n",
       "  <th>Df Residuals:</th>                        <td>    46</td>                    <th>  BIC:               </th> <td>   350.8</td>\n",
       "</tr>\n",
       "<tr>\n",
       "  <th>Df Model:</th>                            <td>     3</td>                    <th>                     </th>     <td> </td>   \n",
       "</tr>\n",
       "<tr>\n",
       "  <th>Covariance Type:</th>                    <td>nonrobust</td>                  <th>                     </th>     <td> </td>   \n",
       "</tr>\n",
       "</table>\n",
       "<table class=\"simpletable\">\n",
       "<tr>\n",
       "           <td></td>             <th>coef</th>     <th>std err</th>      <th>t</th>      <th>P>|t|</th>  <th>[0.025</th>    <th>0.975]</th>  \n",
       "</tr>\n",
       "<tr>\n",
       "  <th>Intercept</th>          <td>   25.6395</td> <td>    9.658</td> <td>    2.655</td> <td> 0.011</td> <td>    6.198</td> <td>   45.081</td>\n",
       "</tr>\n",
       "<tr>\n",
       "  <th>pc_misperception</th>   <td>   34.7479</td> <td>   55.890</td> <td>    0.622</td> <td> 0.537</td> <td>  -77.753</td> <td>  147.249</td>\n",
       "</tr>\n",
       "<tr>\n",
       "  <th>Urbanization_rate</th>  <td>   -0.3915</td> <td>    0.074</td> <td>   -5.305</td> <td> 0.000</td> <td>   -0.540</td> <td>   -0.243</td>\n",
       "</tr>\n",
       "<tr>\n",
       "  <th>AverageTemperature</th> <td>   -0.8631</td> <td>    0.229</td> <td>   -3.770</td> <td> 0.000</td> <td>   -1.324</td> <td>   -0.402</td>\n",
       "</tr>\n",
       "</table>\n",
       "<table class=\"simpletable\">\n",
       "<tr>\n",
       "  <th>Omnibus:</th>       <td> 0.810</td> <th>  Durbin-Watson:     </th> <td>   1.986</td>\n",
       "</tr>\n",
       "<tr>\n",
       "  <th>Prob(Omnibus):</th> <td> 0.667</td> <th>  Jarque-Bera (JB):  </th> <td>   0.877</td>\n",
       "</tr>\n",
       "<tr>\n",
       "  <th>Skew:</th>          <td>-0.272</td> <th>  Prob(JB):          </th> <td>   0.645</td>\n",
       "</tr>\n",
       "<tr>\n",
       "  <th>Kurtosis:</th>      <td> 2.645</td> <th>  Cond. No.          </th> <td>4.20e+03</td>\n",
       "</tr>\n",
       "</table><br/><br/>Notes:<br/>[1] Standard Errors assume that the covariance matrix of the errors is correctly specified.<br/>[2] The condition number is large, 4.2e+03. This might indicate that there are<br/>strong multicollinearity or other numerical problems."
      ],
      "text/plain": [
       "<class 'statsmodels.iolib.summary.Summary'>\n",
       "\"\"\"\n",
       "                                         OLS Regression Results                                         \n",
       "========================================================================================================\n",
       "Dep. Variable:     non_residential_percent_change_from_baseline   R-squared:                       0.555\n",
       "Model:                                                      OLS   Adj. R-squared:                  0.526\n",
       "Method:                                           Least Squares   F-statistic:                     19.14\n",
       "Date:                                          Sun, 21 Feb 2021   Prob (F-statistic):           3.37e-08\n",
       "Time:                                                  06:27:53   Log-Likelihood:                -167.56\n",
       "No. Observations:                                            50   AIC:                             343.1\n",
       "Df Residuals:                                                46   BIC:                             350.8\n",
       "Df Model:                                                     3                                         \n",
       "Covariance Type:                                      nonrobust                                         \n",
       "======================================================================================\n",
       "                         coef    std err          t      P>|t|      [0.025      0.975]\n",
       "--------------------------------------------------------------------------------------\n",
       "Intercept             25.6395      9.658      2.655      0.011       6.198      45.081\n",
       "pc_misperception      34.7479     55.890      0.622      0.537     -77.753     147.249\n",
       "Urbanization_rate     -0.3915      0.074     -5.305      0.000      -0.540      -0.243\n",
       "AverageTemperature    -0.8631      0.229     -3.770      0.000      -1.324      -0.402\n",
       "==============================================================================\n",
       "Omnibus:                        0.810   Durbin-Watson:                   1.986\n",
       "Prob(Omnibus):                  0.667   Jarque-Bera (JB):                0.877\n",
       "Skew:                          -0.272   Prob(JB):                        0.645\n",
       "Kurtosis:                       2.645   Cond. No.                     4.20e+03\n",
       "==============================================================================\n",
       "\n",
       "Notes:\n",
       "[1] Standard Errors assume that the covariance matrix of the errors is correctly specified.\n",
       "[2] The condition number is large, 4.2e+03. This might indicate that there are\n",
       "strong multicollinearity or other numerical problems.\n",
       "\"\"\""
      ]
     },
     "execution_count": 80,
     "metadata": {},
     "output_type": "execute_result"
    }
   ],
   "source": [
    "Aug_reg_6_posrate = smf.ols(\n",
    "    \"non_residential_percent_change_from_baseline ~ pc_misperception + Urbanization_rate + AverageTemperature\",\n",
    "    data=us_Aug,\n",
    ").fit()\n",
    "Aug_reg_6_posrate.summary()"
   ]
  },
  {
   "cell_type": "code",
   "execution_count": 90,
   "metadata": {},
   "outputs": [
    {
     "data": {
      "text/html": [
       "<table class=\"simpletable\">\n",
       "<caption>OLS Regression Results</caption>\n",
       "<tr>\n",
       "  <th>Dep. Variable:</th>    <td>non_residential_percent_change_from_baseline</td> <th>  R-squared:         </th> <td>   0.708</td>\n",
       "</tr>\n",
       "<tr>\n",
       "  <th>Model:</th>                                 <td>OLS</td>                     <th>  Adj. R-squared:    </th> <td>   0.667</td>\n",
       "</tr>\n",
       "<tr>\n",
       "  <th>Method:</th>                           <td>Least Squares</td>                <th>  F-statistic:       </th> <td>   17.34</td>\n",
       "</tr>\n",
       "<tr>\n",
       "  <th>Date:</th>                           <td>Sun, 21 Feb 2021</td>               <th>  Prob (F-statistic):</th> <td>4.55e-10</td>\n",
       "</tr>\n",
       "<tr>\n",
       "  <th>Time:</th>                               <td>06:34:05</td>                   <th>  Log-Likelihood:    </th> <td> -157.07</td>\n",
       "</tr>\n",
       "<tr>\n",
       "  <th>No. Observations:</th>                    <td>    50</td>                    <th>  AIC:               </th> <td>   328.1</td>\n",
       "</tr>\n",
       "<tr>\n",
       "  <th>Df Residuals:</th>                        <td>    43</td>                    <th>  BIC:               </th> <td>   341.5</td>\n",
       "</tr>\n",
       "<tr>\n",
       "  <th>Df Model:</th>                            <td>     6</td>                    <th>                     </th>     <td> </td>   \n",
       "</tr>\n",
       "<tr>\n",
       "  <th>Covariance Type:</th>                    <td>nonrobust</td>                  <th>                     </th>     <td> </td>   \n",
       "</tr>\n",
       "</table>\n",
       "<table class=\"simpletable\">\n",
       "<tr>\n",
       "               <td></td>                 <th>coef</th>     <th>std err</th>      <th>t</th>      <th>P>|t|</th>  <th>[0.025</th>    <th>0.975]</th>  \n",
       "</tr>\n",
       "<tr>\n",
       "  <th>Intercept</th>                  <td>   23.7457</td> <td>   17.300</td> <td>    1.373</td> <td> 0.177</td> <td>  -11.143</td> <td>   58.634</td>\n",
       "</tr>\n",
       "<tr>\n",
       "  <th>pc_misperception</th>           <td>  -19.2178</td> <td>   51.834</td> <td>   -0.371</td> <td> 0.713</td> <td> -123.751</td> <td>   85.315</td>\n",
       "</tr>\n",
       "<tr>\n",
       "  <th>Urbanization_rate</th>          <td>   -0.2608</td> <td>    0.074</td> <td>   -3.519</td> <td> 0.001</td> <td>   -0.410</td> <td>   -0.111</td>\n",
       "</tr>\n",
       "<tr>\n",
       "  <th>AverageTemperature</th>         <td>   -0.6560</td> <td>    0.238</td> <td>   -2.755</td> <td> 0.009</td> <td>   -1.136</td> <td>   -0.176</td>\n",
       "</tr>\n",
       "<tr>\n",
       "  <th>White</th>                      <td>   23.4857</td> <td>    9.759</td> <td>    2.407</td> <td> 0.020</td> <td>    3.804</td> <td>   43.167</td>\n",
       "</tr>\n",
       "<tr>\n",
       "  <th>Percent_bachelor_or_higher</th> <td>   -0.2296</td> <td>    0.229</td> <td>   -1.002</td> <td> 0.322</td> <td>   -0.691</td> <td>    0.232</td>\n",
       "</tr>\n",
       "<tr>\n",
       "  <th>ContainmentHealthIndex</th>     <td>   -0.2748</td> <td>    0.100</td> <td>   -2.746</td> <td> 0.009</td> <td>   -0.477</td> <td>   -0.073</td>\n",
       "</tr>\n",
       "</table>\n",
       "<table class=\"simpletable\">\n",
       "<tr>\n",
       "  <th>Omnibus:</th>       <td> 1.708</td> <th>  Durbin-Watson:     </th> <td>   2.379</td>\n",
       "</tr>\n",
       "<tr>\n",
       "  <th>Prob(Omnibus):</th> <td> 0.426</td> <th>  Jarque-Bera (JB):  </th> <td>   1.532</td>\n",
       "</tr>\n",
       "<tr>\n",
       "  <th>Skew:</th>          <td>-0.417</td> <th>  Prob(JB):          </th> <td>   0.465</td>\n",
       "</tr>\n",
       "<tr>\n",
       "  <th>Kurtosis:</th>      <td> 2.799</td> <th>  Cond. No.          </th> <td>6.01e+03</td>\n",
       "</tr>\n",
       "</table><br/><br/>Notes:<br/>[1] Standard Errors assume that the covariance matrix of the errors is correctly specified.<br/>[2] The condition number is large, 6.01e+03. This might indicate that there are<br/>strong multicollinearity or other numerical problems."
      ],
      "text/plain": [
       "<class 'statsmodels.iolib.summary.Summary'>\n",
       "\"\"\"\n",
       "                                         OLS Regression Results                                         \n",
       "========================================================================================================\n",
       "Dep. Variable:     non_residential_percent_change_from_baseline   R-squared:                       0.708\n",
       "Model:                                                      OLS   Adj. R-squared:                  0.667\n",
       "Method:                                           Least Squares   F-statistic:                     17.34\n",
       "Date:                                          Sun, 21 Feb 2021   Prob (F-statistic):           4.55e-10\n",
       "Time:                                                  06:34:05   Log-Likelihood:                -157.07\n",
       "No. Observations:                                            50   AIC:                             328.1\n",
       "Df Residuals:                                                43   BIC:                             341.5\n",
       "Df Model:                                                     6                                         \n",
       "Covariance Type:                                      nonrobust                                         \n",
       "==============================================================================================\n",
       "                                 coef    std err          t      P>|t|      [0.025      0.975]\n",
       "----------------------------------------------------------------------------------------------\n",
       "Intercept                     23.7457     17.300      1.373      0.177     -11.143      58.634\n",
       "pc_misperception             -19.2178     51.834     -0.371      0.713    -123.751      85.315\n",
       "Urbanization_rate             -0.2608      0.074     -3.519      0.001      -0.410      -0.111\n",
       "AverageTemperature            -0.6560      0.238     -2.755      0.009      -1.136      -0.176\n",
       "White                         23.4857      9.759      2.407      0.020       3.804      43.167\n",
       "Percent_bachelor_or_higher    -0.2296      0.229     -1.002      0.322      -0.691       0.232\n",
       "ContainmentHealthIndex        -0.2748      0.100     -2.746      0.009      -0.477      -0.073\n",
       "==============================================================================\n",
       "Omnibus:                        1.708   Durbin-Watson:                   2.379\n",
       "Prob(Omnibus):                  0.426   Jarque-Bera (JB):                1.532\n",
       "Skew:                          -0.417   Prob(JB):                        0.465\n",
       "Kurtosis:                       2.799   Cond. No.                     6.01e+03\n",
       "==============================================================================\n",
       "\n",
       "Notes:\n",
       "[1] Standard Errors assume that the covariance matrix of the errors is correctly specified.\n",
       "[2] The condition number is large, 6.01e+03. This might indicate that there are\n",
       "strong multicollinearity or other numerical problems.\n",
       "\"\"\""
      ]
     },
     "execution_count": 90,
     "metadata": {},
     "output_type": "execute_result"
    }
   ],
   "source": [
    "Aug_reg_7_posrate = smf.ols(\n",
    "    \"non_residential_percent_change_from_baseline ~ pc_misperception + Urbanization_rate + AverageTemperature + White + Percent_bachelor_or_higher + ContainmentHealthIndex\",\n",
    "    data=us_Aug,\n",
    ").fit()\n",
    "Aug_reg_7_posrate.summary()"
   ]
  },
  {
   "cell_type": "code",
   "execution_count": 85,
   "metadata": {},
   "outputs": [
    {
     "data": {
      "text/plain": [
       "Index(['state', 'positive', 'probableCases', 'negative', 'pending',\n",
       "       'totalTestResults', 'hospitalizedCurrently', 'hospitalizedCumulative',\n",
       "       'inIcuCurrently', 'inIcuCumulative', 'onVentilatorCurrently',\n",
       "       'onVentilatorCumulative', 'recovered', 'totalTestsViral',\n",
       "       'positiveTestsViral', 'negativeTestsViral', 'positiveCasesViral',\n",
       "       'deathConfirmed', 'deathProbable', 'totalTestEncountersViral',\n",
       "       'totalTestsPeopleViral', 'totalTestsAntibody', 'positiveTestsAntibody',\n",
       "       'negativeTestsAntibody', 'totalTestsPeopleAntibody',\n",
       "       'positiveTestsPeopleAntibody', 'negativeTestsPeopleAntibody',\n",
       "       'totalTestsPeopleAntigen', 'positiveTestsPeopleAntigen',\n",
       "       'totalTestsAntigen', 'positiveTestsAntigen', 'fips', 'positiveIncrease',\n",
       "       'negativeIncrease', 'total', 'totalTestResultsIncrease', 'posNeg',\n",
       "       'dataQualityGrade', 'deathIncrease', 'hospitalizedIncrease',\n",
       "       'commercialScore', 'negativeRegularScore', 'negativeScore',\n",
       "       'positiveScore', 'score', 'grade',\n",
       "       'retail_and_recreation_percent_change_from_baseline',\n",
       "       'grocery_and_pharmacy_percent_change_from_baseline',\n",
       "       'parks_percent_change_from_baseline',\n",
       "       'transit_stations_percent_change_from_baseline',\n",
       "       'workplaces_percent_change_from_baseline',\n",
       "       'residential_percent_change_from_baseline',\n",
       "       'non_residential_percent_change_from_baseline', 'C1_School closing',\n",
       "       'C1_Flag', 'C2_Workplace closing', 'C2_Flag', 'C3_Cancel public events',\n",
       "       'C3_Flag', 'C4_Restrictions on gatherings', 'C4_Flag',\n",
       "       'C5_Close public transport', 'C5_Flag', 'C6_Stay at home requirements',\n",
       "       'C6_Flag', 'C7_Restrictions on internal movement', 'C7_Flag',\n",
       "       'C8_International travel controls', 'ConfirmedCases', 'ConfirmedDeaths',\n",
       "       'StringencyIndex', 'GovernmentResponseIndex', 'ContainmentHealthIndex',\n",
       "       'pop_2019', 'GDP_2019', 'Unemployment_rate_2019',\n",
       "       'Median_Household_Income_2019', 'Percent_less_than_high_school',\n",
       "       'Percent_bachelor_or_higher', 'Percent_some_college_or_associate',\n",
       "       'Percent_high_school_only', 'AverageTemperature', 'Urbanization_rate',\n",
       "       'White', 'Black', 'American_Native', 'Asian', 'Pacific_Islander',\n",
       "       'pc_misperception', 'not_at_all', 'not_very', 'somewhat', 'very',\n",
       "       'error_margin', 'N', 'wave', 'deaths_pth', 'hospitalized_pth',\n",
       "       'positivity_rate'],\n",
       "      dtype='object')"
      ]
     },
     "execution_count": 85,
     "metadata": {},
     "output_type": "execute_result"
    }
   ],
   "source": [
    "us_Aug.columns"
   ]
  },
  {
   "cell_type": "code",
   "execution_count": 31,
   "metadata": {},
   "outputs": [
    {
     "data": {
      "text/html": [
       "<div>\n",
       "<style scoped>\n",
       "    .dataframe tbody tr th:only-of-type {\n",
       "        vertical-align: middle;\n",
       "    }\n",
       "\n",
       "    .dataframe tbody tr th {\n",
       "        vertical-align: top;\n",
       "    }\n",
       "\n",
       "    .dataframe thead th {\n",
       "        text-align: right;\n",
       "    }\n",
       "</style>\n",
       "<table border=\"1\" class=\"dataframe\">\n",
       "  <thead>\n",
       "    <tr style=\"text-align: right;\">\n",
       "      <th></th>\n",
       "      <th>pc_misperception</th>\n",
       "      <th>StringencyIndex</th>\n",
       "      <th>Urbanization_rate</th>\n",
       "      <th>AverageTemperature</th>\n",
       "    </tr>\n",
       "  </thead>\n",
       "  <tbody>\n",
       "    <tr>\n",
       "      <th>0</th>\n",
       "      <td>0.160</td>\n",
       "      <td>36.371843</td>\n",
       "      <td>59.0</td>\n",
       "      <td>17.11</td>\n",
       "    </tr>\n",
       "    <tr>\n",
       "      <th>1</th>\n",
       "      <td>0.160</td>\n",
       "      <td>53.172440</td>\n",
       "      <td>66.0</td>\n",
       "      <td>-3.00</td>\n",
       "    </tr>\n",
       "    <tr>\n",
       "      <th>2</th>\n",
       "      <td>0.140</td>\n",
       "      <td>42.069641</td>\n",
       "      <td>89.8</td>\n",
       "      <td>15.72</td>\n",
       "    </tr>\n",
       "    <tr>\n",
       "      <th>3</th>\n",
       "      <td>0.150</td>\n",
       "      <td>44.011807</td>\n",
       "      <td>56.2</td>\n",
       "      <td>15.78</td>\n",
       "    </tr>\n",
       "    <tr>\n",
       "      <th>4</th>\n",
       "      <td>0.150</td>\n",
       "      <td>61.114371</td>\n",
       "      <td>95.0</td>\n",
       "      <td>15.22</td>\n",
       "    </tr>\n",
       "    <tr>\n",
       "      <th>5</th>\n",
       "      <td>0.135</td>\n",
       "      <td>50.635389</td>\n",
       "      <td>86.2</td>\n",
       "      <td>7.28</td>\n",
       "    </tr>\n",
       "    <tr>\n",
       "      <th>6</th>\n",
       "      <td>0.110</td>\n",
       "      <td>61.360211</td>\n",
       "      <td>88.0</td>\n",
       "      <td>9.44</td>\n",
       "    </tr>\n",
       "    <tr>\n",
       "      <th>7</th>\n",
       "      <td>0.110</td>\n",
       "      <td>58.949578</td>\n",
       "      <td>83.3</td>\n",
       "      <td>12.94</td>\n",
       "    </tr>\n",
       "    <tr>\n",
       "      <th>8</th>\n",
       "      <td>0.155</td>\n",
       "      <td>48.038932</td>\n",
       "      <td>91.2</td>\n",
       "      <td>21.50</td>\n",
       "    </tr>\n",
       "    <tr>\n",
       "      <th>9</th>\n",
       "      <td>0.150</td>\n",
       "      <td>48.015269</td>\n",
       "      <td>75.1</td>\n",
       "      <td>17.50</td>\n",
       "    </tr>\n",
       "    <tr>\n",
       "      <th>10</th>\n",
       "      <td>0.090</td>\n",
       "      <td>70.844685</td>\n",
       "      <td>91.9</td>\n",
       "      <td>21.11</td>\n",
       "    </tr>\n",
       "    <tr>\n",
       "      <th>11</th>\n",
       "      <td>0.110</td>\n",
       "      <td>46.843807</td>\n",
       "      <td>70.6</td>\n",
       "      <td>6.89</td>\n",
       "    </tr>\n",
       "    <tr>\n",
       "      <th>12</th>\n",
       "      <td>0.140</td>\n",
       "      <td>53.625030</td>\n",
       "      <td>88.5</td>\n",
       "      <td>11.00</td>\n",
       "    </tr>\n",
       "    <tr>\n",
       "      <th>13</th>\n",
       "      <td>0.135</td>\n",
       "      <td>44.677927</td>\n",
       "      <td>72.4</td>\n",
       "      <td>10.94</td>\n",
       "    </tr>\n",
       "    <tr>\n",
       "      <th>14</th>\n",
       "      <td>0.130</td>\n",
       "      <td>31.623554</td>\n",
       "      <td>64.0</td>\n",
       "      <td>8.78</td>\n",
       "    </tr>\n",
       "    <tr>\n",
       "      <th>15</th>\n",
       "      <td>0.155</td>\n",
       "      <td>46.511536</td>\n",
       "      <td>74.2</td>\n",
       "      <td>12.39</td>\n",
       "    </tr>\n",
       "    <tr>\n",
       "      <th>16</th>\n",
       "      <td>0.160</td>\n",
       "      <td>58.253976</td>\n",
       "      <td>58.4</td>\n",
       "      <td>13.11</td>\n",
       "    </tr>\n",
       "    <tr>\n",
       "      <th>17</th>\n",
       "      <td>0.160</td>\n",
       "      <td>49.984955</td>\n",
       "      <td>73.2</td>\n",
       "      <td>19.11</td>\n",
       "    </tr>\n",
       "    <tr>\n",
       "      <th>18</th>\n",
       "      <td>0.135</td>\n",
       "      <td>64.961027</td>\n",
       "      <td>38.7</td>\n",
       "      <td>5.00</td>\n",
       "    </tr>\n",
       "    <tr>\n",
       "      <th>19</th>\n",
       "      <td>0.135</td>\n",
       "      <td>58.237447</td>\n",
       "      <td>87.2</td>\n",
       "      <td>12.33</td>\n",
       "    </tr>\n",
       "    <tr>\n",
       "      <th>20</th>\n",
       "      <td>0.110</td>\n",
       "      <td>58.742552</td>\n",
       "      <td>92.0</td>\n",
       "      <td>8.83</td>\n",
       "    </tr>\n",
       "    <tr>\n",
       "      <th>21</th>\n",
       "      <td>0.145</td>\n",
       "      <td>48.652136</td>\n",
       "      <td>74.6</td>\n",
       "      <td>6.89</td>\n",
       "    </tr>\n",
       "    <tr>\n",
       "      <th>22</th>\n",
       "      <td>0.130</td>\n",
       "      <td>55.517590</td>\n",
       "      <td>73.3</td>\n",
       "      <td>5.11</td>\n",
       "    </tr>\n",
       "    <tr>\n",
       "      <th>23</th>\n",
       "      <td>0.180</td>\n",
       "      <td>44.094320</td>\n",
       "      <td>49.4</td>\n",
       "      <td>17.44</td>\n",
       "    </tr>\n",
       "    <tr>\n",
       "      <th>24</th>\n",
       "      <td>0.130</td>\n",
       "      <td>43.290121</td>\n",
       "      <td>70.4</td>\n",
       "      <td>12.56</td>\n",
       "    </tr>\n",
       "    <tr>\n",
       "      <th>25</th>\n",
       "      <td>0.130</td>\n",
       "      <td>48.042115</td>\n",
       "      <td>55.9</td>\n",
       "      <td>5.94</td>\n",
       "    </tr>\n",
       "    <tr>\n",
       "      <th>26</th>\n",
       "      <td>0.145</td>\n",
       "      <td>40.452819</td>\n",
       "      <td>73.1</td>\n",
       "      <td>9.33</td>\n",
       "    </tr>\n",
       "    <tr>\n",
       "      <th>27</th>\n",
       "      <td>0.150</td>\n",
       "      <td>45.021081</td>\n",
       "      <td>94.2</td>\n",
       "      <td>9.94</td>\n",
       "    </tr>\n",
       "    <tr>\n",
       "      <th>28</th>\n",
       "      <td>0.130</td>\n",
       "      <td>47.809671</td>\n",
       "      <td>60.3</td>\n",
       "      <td>6.56</td>\n",
       "    </tr>\n",
       "    <tr>\n",
       "      <th>29</th>\n",
       "      <td>0.140</td>\n",
       "      <td>50.160237</td>\n",
       "      <td>94.7</td>\n",
       "      <td>11.50</td>\n",
       "    </tr>\n",
       "    <tr>\n",
       "      <th>30</th>\n",
       "      <td>0.145</td>\n",
       "      <td>73.402913</td>\n",
       "      <td>77.4</td>\n",
       "      <td>11.89</td>\n",
       "    </tr>\n",
       "    <tr>\n",
       "      <th>31</th>\n",
       "      <td>0.170</td>\n",
       "      <td>69.068512</td>\n",
       "      <td>87.9</td>\n",
       "      <td>7.44</td>\n",
       "    </tr>\n",
       "    <tr>\n",
       "      <th>32</th>\n",
       "      <td>0.150</td>\n",
       "      <td>57.569671</td>\n",
       "      <td>66.1</td>\n",
       "      <td>15.00</td>\n",
       "    </tr>\n",
       "    <tr>\n",
       "      <th>33</th>\n",
       "      <td>0.145</td>\n",
       "      <td>33.040634</td>\n",
       "      <td>59.9</td>\n",
       "      <td>4.67</td>\n",
       "    </tr>\n",
       "    <tr>\n",
       "      <th>34</th>\n",
       "      <td>0.135</td>\n",
       "      <td>56.581021</td>\n",
       "      <td>77.9</td>\n",
       "      <td>10.39</td>\n",
       "    </tr>\n",
       "    <tr>\n",
       "      <th>35</th>\n",
       "      <td>0.150</td>\n",
       "      <td>35.730060</td>\n",
       "      <td>66.2</td>\n",
       "      <td>15.33</td>\n",
       "    </tr>\n",
       "    <tr>\n",
       "      <th>36</th>\n",
       "      <td>0.110</td>\n",
       "      <td>53.525749</td>\n",
       "      <td>81.0</td>\n",
       "      <td>9.11</td>\n",
       "    </tr>\n",
       "    <tr>\n",
       "      <th>37</th>\n",
       "      <td>0.110</td>\n",
       "      <td>51.394478</td>\n",
       "      <td>78.7</td>\n",
       "      <td>9.33</td>\n",
       "    </tr>\n",
       "    <tr>\n",
       "      <th>38</th>\n",
       "      <td>0.140</td>\n",
       "      <td>64.558991</td>\n",
       "      <td>90.7</td>\n",
       "      <td>10.06</td>\n",
       "    </tr>\n",
       "    <tr>\n",
       "      <th>39</th>\n",
       "      <td>0.150</td>\n",
       "      <td>42.424192</td>\n",
       "      <td>66.3</td>\n",
       "      <td>16.89</td>\n",
       "    </tr>\n",
       "    <tr>\n",
       "      <th>40</th>\n",
       "      <td>0.150</td>\n",
       "      <td>20.901873</td>\n",
       "      <td>56.7</td>\n",
       "      <td>7.33</td>\n",
       "    </tr>\n",
       "    <tr>\n",
       "      <th>41</th>\n",
       "      <td>0.150</td>\n",
       "      <td>47.164865</td>\n",
       "      <td>66.4</td>\n",
       "      <td>14.22</td>\n",
       "    </tr>\n",
       "    <tr>\n",
       "      <th>42</th>\n",
       "      <td>0.155</td>\n",
       "      <td>50.757373</td>\n",
       "      <td>84.7</td>\n",
       "      <td>18.22</td>\n",
       "    </tr>\n",
       "    <tr>\n",
       "      <th>43</th>\n",
       "      <td>0.145</td>\n",
       "      <td>36.713625</td>\n",
       "      <td>90.6</td>\n",
       "      <td>9.22</td>\n",
       "    </tr>\n",
       "    <tr>\n",
       "      <th>44</th>\n",
       "      <td>0.090</td>\n",
       "      <td>60.191881</td>\n",
       "      <td>38.9</td>\n",
       "      <td>6.06</td>\n",
       "    </tr>\n",
       "    <tr>\n",
       "      <th>45</th>\n",
       "      <td>0.150</td>\n",
       "      <td>50.638309</td>\n",
       "      <td>75.5</td>\n",
       "      <td>12.83</td>\n",
       "    </tr>\n",
       "    <tr>\n",
       "      <th>46</th>\n",
       "      <td>0.130</td>\n",
       "      <td>56.500445</td>\n",
       "      <td>84.1</td>\n",
       "      <td>9.06</td>\n",
       "    </tr>\n",
       "    <tr>\n",
       "      <th>47</th>\n",
       "      <td>0.160</td>\n",
       "      <td>52.401657</td>\n",
       "      <td>48.7</td>\n",
       "      <td>11.00</td>\n",
       "    </tr>\n",
       "    <tr>\n",
       "      <th>48</th>\n",
       "      <td>0.125</td>\n",
       "      <td>43.957134</td>\n",
       "      <td>70.2</td>\n",
       "      <td>6.17</td>\n",
       "    </tr>\n",
       "    <tr>\n",
       "      <th>49</th>\n",
       "      <td>0.110</td>\n",
       "      <td>46.230772</td>\n",
       "      <td>64.8</td>\n",
       "      <td>5.56</td>\n",
       "    </tr>\n",
       "  </tbody>\n",
       "</table>\n",
       "</div>"
      ],
      "text/plain": [
       "    pc_misperception  StringencyIndex  Urbanization_rate  AverageTemperature\n",
       "0              0.160        36.371843               59.0               17.11\n",
       "1              0.160        53.172440               66.0               -3.00\n",
       "2              0.140        42.069641               89.8               15.72\n",
       "3              0.150        44.011807               56.2               15.78\n",
       "4              0.150        61.114371               95.0               15.22\n",
       "5              0.135        50.635389               86.2                7.28\n",
       "6              0.110        61.360211               88.0                9.44\n",
       "7              0.110        58.949578               83.3               12.94\n",
       "8              0.155        48.038932               91.2               21.50\n",
       "9              0.150        48.015269               75.1               17.50\n",
       "10             0.090        70.844685               91.9               21.11\n",
       "11             0.110        46.843807               70.6                6.89\n",
       "12             0.140        53.625030               88.5               11.00\n",
       "13             0.135        44.677927               72.4               10.94\n",
       "14             0.130        31.623554               64.0                8.78\n",
       "15             0.155        46.511536               74.2               12.39\n",
       "16             0.160        58.253976               58.4               13.11\n",
       "17             0.160        49.984955               73.2               19.11\n",
       "18             0.135        64.961027               38.7                5.00\n",
       "19             0.135        58.237447               87.2               12.33\n",
       "20             0.110        58.742552               92.0                8.83\n",
       "21             0.145        48.652136               74.6                6.89\n",
       "22             0.130        55.517590               73.3                5.11\n",
       "23             0.180        44.094320               49.4               17.44\n",
       "24             0.130        43.290121               70.4               12.56\n",
       "25             0.130        48.042115               55.9                5.94\n",
       "26             0.145        40.452819               73.1                9.33\n",
       "27             0.150        45.021081               94.2                9.94\n",
       "28             0.130        47.809671               60.3                6.56\n",
       "29             0.140        50.160237               94.7               11.50\n",
       "30             0.145        73.402913               77.4               11.89\n",
       "31             0.170        69.068512               87.9                7.44\n",
       "32             0.150        57.569671               66.1               15.00\n",
       "33             0.145        33.040634               59.9                4.67\n",
       "34             0.135        56.581021               77.9               10.39\n",
       "35             0.150        35.730060               66.2               15.33\n",
       "36             0.110        53.525749               81.0                9.11\n",
       "37             0.110        51.394478               78.7                9.33\n",
       "38             0.140        64.558991               90.7               10.06\n",
       "39             0.150        42.424192               66.3               16.89\n",
       "40             0.150        20.901873               56.7                7.33\n",
       "41             0.150        47.164865               66.4               14.22\n",
       "42             0.155        50.757373               84.7               18.22\n",
       "43             0.145        36.713625               90.6                9.22\n",
       "44             0.090        60.191881               38.9                6.06\n",
       "45             0.150        50.638309               75.5               12.83\n",
       "46             0.130        56.500445               84.1                9.06\n",
       "47             0.160        52.401657               48.7               11.00\n",
       "48             0.125        43.957134               70.2                6.17\n",
       "49             0.110        46.230772               64.8                5.56"
      ]
     },
     "execution_count": 31,
     "metadata": {},
     "output_type": "execute_result"
    }
   ],
   "source": [
    "us_cross_sectional[[\"pc_misperception\", \"StringencyIndex\", \"Urbanization_rate\", \"AverageTemperature\"]]"
   ]
  },
  {
   "cell_type": "code",
   "execution_count": 32,
   "metadata": {},
   "outputs": [],
   "source": [
    "us_cross_sectional[\"res\"] = cross_sectional_reg_4_posrate.resid"
   ]
  },
  {
   "cell_type": "code",
   "execution_count": 33,
   "metadata": {},
   "outputs": [
    {
     "data": {
      "text/html": [
       "<div>\n",
       "<style scoped>\n",
       "    .dataframe tbody tr th:only-of-type {\n",
       "        vertical-align: middle;\n",
       "    }\n",
       "\n",
       "    .dataframe tbody tr th {\n",
       "        vertical-align: top;\n",
       "    }\n",
       "\n",
       "    .dataframe thead th {\n",
       "        text-align: right;\n",
       "    }\n",
       "</style>\n",
       "<table border=\"1\" class=\"dataframe\">\n",
       "  <thead>\n",
       "    <tr style=\"text-align: right;\">\n",
       "      <th></th>\n",
       "      <th>state</th>\n",
       "      <th>res</th>\n",
       "      <th>non_residential_percent_change_from_baseline</th>\n",
       "      <th>pc_misperception</th>\n",
       "    </tr>\n",
       "  </thead>\n",
       "  <tbody>\n",
       "    <tr>\n",
       "      <th>27</th>\n",
       "      <td>Nevada</td>\n",
       "      <td>-17.469009</td>\n",
       "      <td>-24.681682</td>\n",
       "      <td>0.150</td>\n",
       "    </tr>\n",
       "    <tr>\n",
       "      <th>44</th>\n",
       "      <td>Vermont</td>\n",
       "      <td>-15.567557</td>\n",
       "      <td>-5.500348</td>\n",
       "      <td>0.090</td>\n",
       "    </tr>\n",
       "    <tr>\n",
       "      <th>2</th>\n",
       "      <td>Arizona</td>\n",
       "      <td>-12.673040</td>\n",
       "      <td>-21.844910</td>\n",
       "      <td>0.140</td>\n",
       "    </tr>\n",
       "    <tr>\n",
       "      <th>33</th>\n",
       "      <td>North Dakota</td>\n",
       "      <td>-12.287763</td>\n",
       "      <td>0.845921</td>\n",
       "      <td>0.145</td>\n",
       "    </tr>\n",
       "    <tr>\n",
       "      <th>8</th>\n",
       "      <td>Florida</td>\n",
       "      <td>-7.450708</td>\n",
       "      <td>-26.512760</td>\n",
       "      <td>0.155</td>\n",
       "    </tr>\n",
       "    <tr>\n",
       "      <th>5</th>\n",
       "      <td>Colorado</td>\n",
       "      <td>-6.985609</td>\n",
       "      <td>-11.531138</td>\n",
       "      <td>0.135</td>\n",
       "    </tr>\n",
       "    <tr>\n",
       "      <th>47</th>\n",
       "      <td>West Virginia</td>\n",
       "      <td>-6.525325</td>\n",
       "      <td>-0.762952</td>\n",
       "      <td>0.160</td>\n",
       "    </tr>\n",
       "    <tr>\n",
       "      <th>37</th>\n",
       "      <td>Pennsylvania</td>\n",
       "      <td>-5.881542</td>\n",
       "      <td>-8.487761</td>\n",
       "      <td>0.110</td>\n",
       "    </tr>\n",
       "    <tr>\n",
       "      <th>31</th>\n",
       "      <td>New York</td>\n",
       "      <td>-5.432552</td>\n",
       "      <td>-21.045833</td>\n",
       "      <td>0.170</td>\n",
       "    </tr>\n",
       "    <tr>\n",
       "      <th>20</th>\n",
       "      <td>Massachusetts</td>\n",
       "      <td>-3.613399</td>\n",
       "      <td>-16.407715</td>\n",
       "      <td>0.110</td>\n",
       "    </tr>\n",
       "    <tr>\n",
       "      <th>4</th>\n",
       "      <td>California</td>\n",
       "      <td>-3.500795</td>\n",
       "      <td>-26.760479</td>\n",
       "      <td>0.150</td>\n",
       "    </tr>\n",
       "    <tr>\n",
       "      <th>36</th>\n",
       "      <td>Oregon</td>\n",
       "      <td>-3.360616</td>\n",
       "      <td>-6.916168</td>\n",
       "      <td>0.110</td>\n",
       "    </tr>\n",
       "    <tr>\n",
       "      <th>0</th>\n",
       "      <td>Alabama</td>\n",
       "      <td>-3.220950</td>\n",
       "      <td>-5.309366</td>\n",
       "      <td>0.160</td>\n",
       "    </tr>\n",
       "    <tr>\n",
       "      <th>22</th>\n",
       "      <td>Minnesota</td>\n",
       "      <td>-3.076805</td>\n",
       "      <td>-3.924699</td>\n",
       "      <td>0.130</td>\n",
       "    </tr>\n",
       "    <tr>\n",
       "      <th>1</th>\n",
       "      <td>Alaska</td>\n",
       "      <td>-2.860671</td>\n",
       "      <td>3.100000</td>\n",
       "      <td>0.160</td>\n",
       "    </tr>\n",
       "    <tr>\n",
       "      <th>42</th>\n",
       "      <td>Texas</td>\n",
       "      <td>-2.787645</td>\n",
       "      <td>-18.492537</td>\n",
       "      <td>0.155</td>\n",
       "    </tr>\n",
       "    <tr>\n",
       "      <th>17</th>\n",
       "      <td>Louisiana</td>\n",
       "      <td>-2.582271</td>\n",
       "      <td>-16.592749</td>\n",
       "      <td>0.160</td>\n",
       "    </tr>\n",
       "    <tr>\n",
       "      <th>46</th>\n",
       "      <td>Washington</td>\n",
       "      <td>-1.567006</td>\n",
       "      <td>-11.477151</td>\n",
       "      <td>0.130</td>\n",
       "    </tr>\n",
       "    <tr>\n",
       "      <th>10</th>\n",
       "      <td>Hawaii</td>\n",
       "      <td>-0.940873</td>\n",
       "      <td>-39.502994</td>\n",
       "      <td>0.090</td>\n",
       "    </tr>\n",
       "    <tr>\n",
       "      <th>12</th>\n",
       "      <td>Illinois</td>\n",
       "      <td>-0.875146</td>\n",
       "      <td>-11.580240</td>\n",
       "      <td>0.140</td>\n",
       "    </tr>\n",
       "    <tr>\n",
       "      <th>28</th>\n",
       "      <td>New Hampshire</td>\n",
       "      <td>-0.574787</td>\n",
       "      <td>3.982784</td>\n",
       "      <td>0.130</td>\n",
       "    </tr>\n",
       "    <tr>\n",
       "      <th>30</th>\n",
       "      <td>New Mexico</td>\n",
       "      <td>-0.435938</td>\n",
       "      <td>-12.982583</td>\n",
       "      <td>0.145</td>\n",
       "    </tr>\n",
       "    <tr>\n",
       "      <th>35</th>\n",
       "      <td>Oklahoma</td>\n",
       "      <td>-0.009692</td>\n",
       "      <td>-0.852568</td>\n",
       "      <td>0.150</td>\n",
       "    </tr>\n",
       "    <tr>\n",
       "      <th>23</th>\n",
       "      <td>Mississippi</td>\n",
       "      <td>0.088950</td>\n",
       "      <td>-4.408459</td>\n",
       "      <td>0.180</td>\n",
       "    </tr>\n",
       "    <tr>\n",
       "      <th>18</th>\n",
       "      <td>Maine</td>\n",
       "      <td>0.691314</td>\n",
       "      <td>9.477946</td>\n",
       "      <td>0.135</td>\n",
       "    </tr>\n",
       "    <tr>\n",
       "      <th>25</th>\n",
       "      <td>Montana</td>\n",
       "      <td>0.953985</td>\n",
       "      <td>10.717271</td>\n",
       "      <td>0.130</td>\n",
       "    </tr>\n",
       "    <tr>\n",
       "      <th>24</th>\n",
       "      <td>Missouri</td>\n",
       "      <td>1.218295</td>\n",
       "      <td>1.022356</td>\n",
       "      <td>0.130</td>\n",
       "    </tr>\n",
       "    <tr>\n",
       "      <th>14</th>\n",
       "      <td>Iowa</td>\n",
       "      <td>1.257119</td>\n",
       "      <td>11.773645</td>\n",
       "      <td>0.130</td>\n",
       "    </tr>\n",
       "    <tr>\n",
       "      <th>26</th>\n",
       "      <td>Nebraska</td>\n",
       "      <td>1.294470</td>\n",
       "      <td>4.295401</td>\n",
       "      <td>0.145</td>\n",
       "    </tr>\n",
       "    <tr>\n",
       "      <th>9</th>\n",
       "      <td>Georgia</td>\n",
       "      <td>1.362756</td>\n",
       "      <td>-12.867665</td>\n",
       "      <td>0.150</td>\n",
       "    </tr>\n",
       "    <tr>\n",
       "      <th>39</th>\n",
       "      <td>South Carolina</td>\n",
       "      <td>1.440755</td>\n",
       "      <td>-5.202395</td>\n",
       "      <td>0.150</td>\n",
       "    </tr>\n",
       "    <tr>\n",
       "      <th>45</th>\n",
       "      <td>Virginia</td>\n",
       "      <td>1.680016</td>\n",
       "      <td>-9.843917</td>\n",
       "      <td>0.150</td>\n",
       "    </tr>\n",
       "    <tr>\n",
       "      <th>32</th>\n",
       "      <td>North Carolina</td>\n",
       "      <td>2.047012</td>\n",
       "      <td>-8.272455</td>\n",
       "      <td>0.150</td>\n",
       "    </tr>\n",
       "    <tr>\n",
       "      <th>41</th>\n",
       "      <td>Tennessee</td>\n",
       "      <td>2.358150</td>\n",
       "      <td>-1.428228</td>\n",
       "      <td>0.150</td>\n",
       "    </tr>\n",
       "    <tr>\n",
       "      <th>7</th>\n",
       "      <td>Delaware</td>\n",
       "      <td>2.667591</td>\n",
       "      <td>-11.530221</td>\n",
       "      <td>0.110</td>\n",
       "    </tr>\n",
       "    <tr>\n",
       "      <th>43</th>\n",
       "      <td>Utah</td>\n",
       "      <td>2.792819</td>\n",
       "      <td>1.108761</td>\n",
       "      <td>0.145</td>\n",
       "    </tr>\n",
       "    <tr>\n",
       "      <th>48</th>\n",
       "      <td>Wisconsin</td>\n",
       "      <td>3.791501</td>\n",
       "      <td>9.902090</td>\n",
       "      <td>0.125</td>\n",
       "    </tr>\n",
       "    <tr>\n",
       "      <th>3</th>\n",
       "      <td>Arkansas</td>\n",
       "      <td>3.843065</td>\n",
       "      <td>3.574398</td>\n",
       "      <td>0.150</td>\n",
       "    </tr>\n",
       "    <tr>\n",
       "      <th>16</th>\n",
       "      <td>Kentucky</td>\n",
       "      <td>4.736792</td>\n",
       "      <td>1.787801</td>\n",
       "      <td>0.160</td>\n",
       "    </tr>\n",
       "    <tr>\n",
       "      <th>21</th>\n",
       "      <td>Michigan</td>\n",
       "      <td>4.741301</td>\n",
       "      <td>6.035015</td>\n",
       "      <td>0.145</td>\n",
       "    </tr>\n",
       "    <tr>\n",
       "      <th>6</th>\n",
       "      <td>Connecticut</td>\n",
       "      <td>5.047930</td>\n",
       "      <td>-7.275529</td>\n",
       "      <td>0.110</td>\n",
       "    </tr>\n",
       "    <tr>\n",
       "      <th>29</th>\n",
       "      <td>New Jersey</td>\n",
       "      <td>5.114157</td>\n",
       "      <td>-10.494362</td>\n",
       "      <td>0.140</td>\n",
       "    </tr>\n",
       "    <tr>\n",
       "      <th>11</th>\n",
       "      <td>Idaho</td>\n",
       "      <td>5.689782</td>\n",
       "      <td>12.048489</td>\n",
       "      <td>0.110</td>\n",
       "    </tr>\n",
       "    <tr>\n",
       "      <th>49</th>\n",
       "      <td>Wyoming</td>\n",
       "      <td>7.669819</td>\n",
       "      <td>15.950445</td>\n",
       "      <td>0.110</td>\n",
       "    </tr>\n",
       "    <tr>\n",
       "      <th>15</th>\n",
       "      <td>Kansas</td>\n",
       "      <td>7.898315</td>\n",
       "      <td>4.513102</td>\n",
       "      <td>0.155</td>\n",
       "    </tr>\n",
       "    <tr>\n",
       "      <th>13</th>\n",
       "      <td>Indiana</td>\n",
       "      <td>8.013316</td>\n",
       "      <td>8.690801</td>\n",
       "      <td>0.135</td>\n",
       "    </tr>\n",
       "    <tr>\n",
       "      <th>40</th>\n",
       "      <td>South Dakota</td>\n",
       "      <td>8.234996</td>\n",
       "      <td>24.796626</td>\n",
       "      <td>0.150</td>\n",
       "    </tr>\n",
       "    <tr>\n",
       "      <th>19</th>\n",
       "      <td>Maryland</td>\n",
       "      <td>9.099076</td>\n",
       "      <td>-11.125526</td>\n",
       "      <td>0.135</td>\n",
       "    </tr>\n",
       "    <tr>\n",
       "      <th>34</th>\n",
       "      <td>Ohio</td>\n",
       "      <td>12.518572</td>\n",
       "      <td>7.048649</td>\n",
       "      <td>0.135</td>\n",
       "    </tr>\n",
       "    <tr>\n",
       "      <th>38</th>\n",
       "      <td>Rhode Island</td>\n",
       "      <td>13.427843</td>\n",
       "      <td>-0.109496</td>\n",
       "      <td>0.140</td>\n",
       "    </tr>\n",
       "  </tbody>\n",
       "</table>\n",
       "</div>"
      ],
      "text/plain": [
       "             state        res  non_residential_percent_change_from_baseline  \\\n",
       "27          Nevada -17.469009                                    -24.681682   \n",
       "44         Vermont -15.567557                                     -5.500348   \n",
       "2          Arizona -12.673040                                    -21.844910   \n",
       "33    North Dakota -12.287763                                      0.845921   \n",
       "8          Florida  -7.450708                                    -26.512760   \n",
       "5         Colorado  -6.985609                                    -11.531138   \n",
       "47   West Virginia  -6.525325                                     -0.762952   \n",
       "37    Pennsylvania  -5.881542                                     -8.487761   \n",
       "31        New York  -5.432552                                    -21.045833   \n",
       "20   Massachusetts  -3.613399                                    -16.407715   \n",
       "4       California  -3.500795                                    -26.760479   \n",
       "36          Oregon  -3.360616                                     -6.916168   \n",
       "0          Alabama  -3.220950                                     -5.309366   \n",
       "22       Minnesota  -3.076805                                     -3.924699   \n",
       "1           Alaska  -2.860671                                      3.100000   \n",
       "42           Texas  -2.787645                                    -18.492537   \n",
       "17       Louisiana  -2.582271                                    -16.592749   \n",
       "46      Washington  -1.567006                                    -11.477151   \n",
       "10          Hawaii  -0.940873                                    -39.502994   \n",
       "12        Illinois  -0.875146                                    -11.580240   \n",
       "28   New Hampshire  -0.574787                                      3.982784   \n",
       "30      New Mexico  -0.435938                                    -12.982583   \n",
       "35        Oklahoma  -0.009692                                     -0.852568   \n",
       "23     Mississippi   0.088950                                     -4.408459   \n",
       "18           Maine   0.691314                                      9.477946   \n",
       "25         Montana   0.953985                                     10.717271   \n",
       "24        Missouri   1.218295                                      1.022356   \n",
       "14            Iowa   1.257119                                     11.773645   \n",
       "26        Nebraska   1.294470                                      4.295401   \n",
       "9          Georgia   1.362756                                    -12.867665   \n",
       "39  South Carolina   1.440755                                     -5.202395   \n",
       "45        Virginia   1.680016                                     -9.843917   \n",
       "32  North Carolina   2.047012                                     -8.272455   \n",
       "41       Tennessee   2.358150                                     -1.428228   \n",
       "7         Delaware   2.667591                                    -11.530221   \n",
       "43            Utah   2.792819                                      1.108761   \n",
       "48       Wisconsin   3.791501                                      9.902090   \n",
       "3         Arkansas   3.843065                                      3.574398   \n",
       "16        Kentucky   4.736792                                      1.787801   \n",
       "21        Michigan   4.741301                                      6.035015   \n",
       "6      Connecticut   5.047930                                     -7.275529   \n",
       "29      New Jersey   5.114157                                    -10.494362   \n",
       "11           Idaho   5.689782                                     12.048489   \n",
       "49         Wyoming   7.669819                                     15.950445   \n",
       "15          Kansas   7.898315                                      4.513102   \n",
       "13         Indiana   8.013316                                      8.690801   \n",
       "40    South Dakota   8.234996                                     24.796626   \n",
       "19        Maryland   9.099076                                    -11.125526   \n",
       "34            Ohio  12.518572                                      7.048649   \n",
       "38    Rhode Island  13.427843                                     -0.109496   \n",
       "\n",
       "    pc_misperception  \n",
       "27             0.150  \n",
       "44             0.090  \n",
       "2              0.140  \n",
       "33             0.145  \n",
       "8              0.155  \n",
       "5              0.135  \n",
       "47             0.160  \n",
       "37             0.110  \n",
       "31             0.170  \n",
       "20             0.110  \n",
       "4              0.150  \n",
       "36             0.110  \n",
       "0              0.160  \n",
       "22             0.130  \n",
       "1              0.160  \n",
       "42             0.155  \n",
       "17             0.160  \n",
       "46             0.130  \n",
       "10             0.090  \n",
       "12             0.140  \n",
       "28             0.130  \n",
       "30             0.145  \n",
       "35             0.150  \n",
       "23             0.180  \n",
       "18             0.135  \n",
       "25             0.130  \n",
       "24             0.130  \n",
       "14             0.130  \n",
       "26             0.145  \n",
       "9              0.150  \n",
       "39             0.150  \n",
       "45             0.150  \n",
       "32             0.150  \n",
       "41             0.150  \n",
       "7              0.110  \n",
       "43             0.145  \n",
       "48             0.125  \n",
       "3              0.150  \n",
       "16             0.160  \n",
       "21             0.145  \n",
       "6              0.110  \n",
       "29             0.140  \n",
       "11             0.110  \n",
       "49             0.110  \n",
       "15             0.155  \n",
       "13             0.135  \n",
       "40             0.150  \n",
       "19             0.135  \n",
       "34             0.135  \n",
       "38             0.140  "
      ]
     },
     "execution_count": 33,
     "metadata": {},
     "output_type": "execute_result"
    }
   ],
   "source": [
    "us_cross_sectional[[\"state\", \"res\", \"non_residential_percent_change_from_baseline\", \"pc_misperception\"]].sort_values(\"res\")"
   ]
  },
  {
   "cell_type": "code",
   "execution_count": 34,
   "metadata": {},
   "outputs": [
    {
     "data": {
      "text/plain": [
       "date\n",
       "2021-02-17     NaN\n",
       "2021-02-16     NaN\n",
       "2021-02-15     NaN\n",
       "2021-02-14     NaN\n",
       "2021-02-13     NaN\n",
       "              ... \n",
       "2020-03-10     5.0\n",
       "2020-03-09     3.6\n",
       "2020-03-08    13.2\n",
       "2020-03-07    10.2\n",
       "2020-03-06     6.4\n",
       "Name: non_residential_percent_change_from_baseline, Length: 349, dtype: float64"
      ]
     },
     "execution_count": 34,
     "metadata": {},
     "output_type": "execute_result"
    }
   ],
   "source": [
    "us_daily.loc[us_daily[\"state\"]==\"Alaska\", \"non_residential_percent_change_from_baseline\"]"
   ]
  },
  {
   "cell_type": "code",
   "execution_count": 35,
   "metadata": {},
   "outputs": [
    {
     "ename": "IndentationError",
     "evalue": "unexpected indent (<ipython-input-35-02cfdc3617e4>, line 2)",
     "output_type": "error",
     "traceback": [
      "\u001b[0;36m  File \u001b[0;32m\"<ipython-input-35-02cfdc3617e4>\"\u001b[0;36m, line \u001b[0;32m2\u001b[0m\n\u001b[0;31m    'grocery_and_pharmacy_percent_change_from_baseline',\u001b[0m\n\u001b[0m    ^\u001b[0m\n\u001b[0;31mIndentationError\u001b[0m\u001b[0;31m:\u001b[0m unexpected indent\n"
     ]
    }
   ],
   "source": [
    "'retail_and_recreation_percent_change_from_baseline',\n",
    "       'grocery_and_pharmacy_percent_change_from_baseline',\n",
    "       'parks_percent_change_from_baseline',\n",
    "       'transit_stations_percent_change_from_baseline',\n",
    "       'workplaces_percent_change_from_baseline',\n",
    "       'residential_percent_change_from_baseline',"
   ]
  },
  {
   "cell_type": "markdown",
   "metadata": {},
   "source": [
    "### Save data"
   ]
  },
  {
   "cell_type": "code",
   "execution_count": 276,
   "metadata": {},
   "outputs": [],
   "source": [
    "us_cross_sectional.to_csv(\"data/cleaned/us_cross_sectional.csv\")"
   ]
  },
  {
   "cell_type": "code",
   "execution_count": 282,
   "metadata": {},
   "outputs": [
    {
     "data": {
      "text/plain": [
       "['state',\n",
       " 'positive',\n",
       " 'probableCases',\n",
       " 'negative',\n",
       " 'pending',\n",
       " 'totalTestResults',\n",
       " 'hospitalizedCurrently',\n",
       " 'hospitalizedCumulative',\n",
       " 'inIcuCurrently',\n",
       " 'inIcuCumulative',\n",
       " 'onVentilatorCurrently',\n",
       " 'onVentilatorCumulative',\n",
       " 'recovered',\n",
       " 'totalTestsViral',\n",
       " 'positiveTestsViral',\n",
       " 'negativeTestsViral',\n",
       " 'positiveCasesViral',\n",
       " 'deathConfirmed',\n",
       " 'deathProbable',\n",
       " 'totalTestEncountersViral',\n",
       " 'totalTestsPeopleViral',\n",
       " 'totalTestsAntibody',\n",
       " 'positiveTestsAntibody',\n",
       " 'negativeTestsAntibody',\n",
       " 'totalTestsPeopleAntibody',\n",
       " 'positiveTestsPeopleAntibody',\n",
       " 'negativeTestsPeopleAntibody',\n",
       " 'totalTestsPeopleAntigen',\n",
       " 'positiveTestsPeopleAntigen',\n",
       " 'totalTestsAntigen',\n",
       " 'positiveTestsAntigen',\n",
       " 'fips',\n",
       " 'positiveIncrease',\n",
       " 'negativeIncrease',\n",
       " 'total',\n",
       " 'totalTestResultsIncrease',\n",
       " 'posNeg',\n",
       " 'dataQualityGrade',\n",
       " 'deathIncrease',\n",
       " 'hospitalizedIncrease',\n",
       " 'commercialScore',\n",
       " 'negativeRegularScore',\n",
       " 'negativeScore',\n",
       " 'positiveScore',\n",
       " 'score',\n",
       " 'grade',\n",
       " 'retail_and_recreation_percent_change_from_baseline',\n",
       " 'grocery_and_pharmacy_percent_change_from_baseline',\n",
       " 'parks_percent_change_from_baseline',\n",
       " 'transit_stations_percent_change_from_baseline',\n",
       " 'workplaces_percent_change_from_baseline',\n",
       " 'residential_percent_change_from_baseline',\n",
       " 'non_residential_percent_change_from_baseline',\n",
       " 'C1_School closing',\n",
       " 'C1_Flag',\n",
       " 'C2_Workplace closing',\n",
       " 'C2_Flag',\n",
       " 'C3_Cancel public events',\n",
       " 'C3_Flag',\n",
       " 'C4_Restrictions on gatherings',\n",
       " 'C4_Flag',\n",
       " 'C5_Close public transport',\n",
       " 'C5_Flag',\n",
       " 'C6_Stay at home requirements',\n",
       " 'C6_Flag',\n",
       " 'C7_Restrictions on internal movement',\n",
       " 'C7_Flag',\n",
       " 'C8_International travel controls',\n",
       " 'ConfirmedCases',\n",
       " 'ConfirmedDeaths',\n",
       " 'StringencyIndex',\n",
       " 'GovernmentResponseIndex',\n",
       " 'ContainmentHealthIndex',\n",
       " 'pop_2019',\n",
       " 'GDP_2019',\n",
       " 'Unemployment_rate_2019',\n",
       " 'Median_Household_Income_2019',\n",
       " 'Percent_less_than_high_school',\n",
       " 'Percent_bachelor_or_higher',\n",
       " 'Percent_some_college_or_associate',\n",
       " 'Percent_high_school_only',\n",
       " 'AverageTemperature',\n",
       " 'Urbanization_rate',\n",
       " 'White',\n",
       " 'Black',\n",
       " 'American_Native',\n",
       " 'Asian',\n",
       " 'Pacific_Islander',\n",
       " 'pc_misperception',\n",
       " 'not_at_all',\n",
       " 'not_very',\n",
       " 'somewhat',\n",
       " 'very',\n",
       " 'error_margin',\n",
       " 'N',\n",
       " 'wave_x',\n",
       " 'wave_y',\n",
       " 'misperception_index',\n",
       " 'deaths_pth',\n",
       " 'hospitalized_pth',\n",
       " 'positivity_rate']"
      ]
     },
     "execution_count": 282,
     "metadata": {},
     "output_type": "execute_result"
    }
   ],
   "source": [
    "list(us_cross_sectional.columns)"
   ]
  },
  {
   "cell_type": "code",
   "execution_count": 283,
   "metadata": {},
   "outputs": [
    {
     "data": {
      "text/plain": [
       "0     0.004737\n",
       "1     0.001079\n",
       "2     0.005397\n",
       "3     0.004859\n",
       "4     0.003084\n",
       "5     0.002931\n",
       "6     0.005971\n",
       "7     0.003372\n",
       "8     0.003719\n",
       "9     0.004004\n",
       "10    0.000867\n",
       "11    0.002916\n",
       "12    0.005022\n",
       "13    0.004396\n",
       "14    0.004679\n",
       "15    0.003907\n",
       "16    0.002525\n",
       "17    0.005757\n",
       "18    0.001326\n",
       "19    0.003540\n",
       "20    0.006276\n",
       "21    0.004613\n",
       "22    0.003311\n",
       "23    0.006136\n",
       "24    0.003322\n",
       "25    0.003485\n",
       "26    0.002945\n",
       "27    0.004163\n",
       "28    0.002327\n",
       "29    0.007177\n",
       "30    0.004702\n",
       "31    0.005382\n",
       "32    0.002665\n",
       "33    0.005717\n",
       "34    0.002871\n",
       "35    0.002708\n",
       "36    0.001389\n",
       "37    0.005051\n",
       "38    0.006073\n",
       "39    0.004095\n",
       "40    0.006072\n",
       "41    0.004243\n",
       "42    0.003757\n",
       "43    0.001569\n",
       "44    0.000832\n",
       "45    0.002247\n",
       "46    0.001668\n",
       "47    0.003402\n",
       "48    0.003299\n",
       "49    0.003056\n",
       "Name: deaths_pth, dtype: float64"
      ]
     },
     "execution_count": 283,
     "metadata": {},
     "output_type": "execute_result"
    }
   ],
   "source": [
    "us_cross_sectional[\"deaths_pth\"]"
   ]
  },
  {
   "cell_type": "code",
   "execution_count": null,
   "metadata": {},
   "outputs": [],
   "source": []
  }
 ],
 "metadata": {
  "kernelspec": {
   "display_name": "Python 3",
   "language": "python",
   "name": "python3"
  },
  "language_info": {
   "codemirror_mode": {
    "name": "ipython",
    "version": 3
   },
   "file_extension": ".py",
   "mimetype": "text/x-python",
   "name": "python",
   "nbconvert_exporter": "python",
   "pygments_lexer": "ipython3",
   "version": "3.8.3"
  }
 },
 "nbformat": 4,
 "nbformat_minor": 4
}
