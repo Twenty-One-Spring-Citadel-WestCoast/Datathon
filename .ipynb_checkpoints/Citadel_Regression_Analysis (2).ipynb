{
  "nbformat": 4,
  "nbformat_minor": 0,
  "metadata": {
    "colab": {
      "name": "Citadel_Regression_Analysis.ipynb",
      "provenance": []
    },
    "kernelspec": {
      "name": "python3",
      "display_name": "Python 3"
    }
  },
  "cells": [
    {
      "cell_type": "code",
      "metadata": {
        "id": "FHuWKPxSKQf1",
        "colab": {
          "base_uri": "https://localhost:8080/"
        },
        "outputId": "ecc4a23b-a9d4-450a-de17-bd93be2d881a"
      },
      "source": [
        "import pandas as pd\r\n",
        "import numpy as np\r\n",
        "import json\r\n",
        "import statsmodels.api as sm\r\n",
        "import plotly.graph_objects as go\r\n",
        "import plotly.express as px"
      ],
      "execution_count": 2,
      "outputs": [
        {
          "output_type": "stream",
          "text": [
            "/usr/local/lib/python3.6/dist-packages/statsmodels/tools/_testing.py:19: FutureWarning: pandas.util.testing is deprecated. Use the functions in the public API at pandas.testing instead.\n",
            "  import pandas.util.testing as tm\n"
          ],
          "name": "stderr"
        }
      ]
    },
    {
      "cell_type": "code",
      "metadata": {
        "id": "0E-GoeKMCILq"
      },
      "source": [
        ""
      ],
      "execution_count": 2,
      "outputs": []
    },
    {
      "cell_type": "code",
      "metadata": {
        "id": "vEj7yq8I0CqO"
      },
      "source": [
        ""
      ],
      "execution_count": 2,
      "outputs": []
    },
    {
      "cell_type": "code",
      "metadata": {
        "colab": {
          "base_uri": "https://localhost:8080/"
        },
        "id": "ST5SEuJmKiZK",
        "outputId": "e35c4093-0fa5-4499-f48f-2a53b1f0e960"
      },
      "source": [
        "\r\n",
        "mobility = pd.read_csv('/content/drive/MyDrive/Citadel/data/new_folder/US_mobility_state_cleaned.csv')\r\n",
        "tracking = pd.read_csv('/content/drive/MyDrive/Citadel/data/3_covidtracking/all-states-history.csv')\r\n",
        "temperature = pd.read_csv('/content/drive/MyDrive/Citadel/data/new_folder/us_cross_sectional.csv')[['state', 'AverageTemperature']]\r\n",
        "urbanization = pd.read_csv('/content/drive/MyDrive/Citadel/data/new_folder/educationStateDataset.csv')[['State', 'Urbanization %']].rename(columns = {'State':'state'})\r\n",
        "\r\n",
        "\r\n",
        "with open('/content/drive/MyDrive/Citadel/data/new_folder/states_hash.json', 'r+') as file:\r\n",
        "    states_hash = json.load(file)\r\n",
        "states_hash = { v:k for (k,v) in states_hash.items()}\r\n",
        "mobility['state'] = mobility['state'].map(states_hash)\r\n",
        "temperature['state'] = temperature['state'].map(states_hash)\r\n",
        "df = tracking.merge(mobility, on = ['date','state'], suffixes = ['_tracking', '_mobility'])\r\n",
        "df = df.merge(temperature, on ='state', how = 'left' )\r\n",
        "df = df.merge(urbanization, on ='state', how = 'left' )\r\n",
        "\r\n",
        "\r\n",
        "#tentative\r\n",
        "\r\n",
        "\r\n",
        "df.isna().mean().sort_values().tail(5)"
      ],
      "execution_count": 15,
      "outputs": [
        {
          "output_type": "execute_result",
          "data": {
            "text/plain": [
              "onVentilatorCumulative         0.930866\n",
              "positiveTestsPeopleAntibody    0.942321\n",
              "negativeTestsPeopleAntibody    0.948020\n",
              "totalTestsPeopleAntigen        0.949114\n",
              "positiveTestsPeopleAntigen     0.967534\n",
              "dtype: float64"
            ]
          },
          "metadata": {
            "tags": []
          },
          "execution_count": 15
        }
      ]
    },
    {
      "cell_type": "code",
      "metadata": {
        "id": "SOQ5BBt3by9Z"
      },
      "source": [
        ""
      ],
      "execution_count": null,
      "outputs": []
    },
    {
      "cell_type": "markdown",
      "metadata": {
        "id": "fPjaRPWhOAmw"
      },
      "source": [
        "### the metrics to use: deathIncrease, hospitalizedIncrease, inIcuCurrently, onVentilatorCurrently, PositiveRate"
      ]
    },
    {
      "cell_type": "code",
      "metadata": {
        "colab": {
          "base_uri": "https://localhost:8080/",
          "height": 130
        },
        "id": "81x562gZRSqo",
        "outputId": "cd92cda5-7d02-49b4-e194-804b452762bd"
      },
      "source": [
        "\r\n",
        "df = df.sort_values(by = ['state', 'date'])\r\n",
        "df['date'] = pd.to_datetime(df['date'])\r\n",
        "df['day_since_record'] = df.groupby('state')['date'].rank(ascending = True, method = 'first')\r\n",
        "df.head(1)"
      ],
      "execution_count": 16,
      "outputs": [
        {
          "output_type": "execute_result",
          "data": {
            "text/html": [
              "<div>\n",
              "<style scoped>\n",
              "    .dataframe tbody tr th:only-of-type {\n",
              "        vertical-align: middle;\n",
              "    }\n",
              "\n",
              "    .dataframe tbody tr th {\n",
              "        vertical-align: top;\n",
              "    }\n",
              "\n",
              "    .dataframe thead th {\n",
              "        text-align: right;\n",
              "    }\n",
              "</style>\n",
              "<table border=\"1\" class=\"dataframe\">\n",
              "  <thead>\n",
              "    <tr style=\"text-align: right;\">\n",
              "      <th></th>\n",
              "      <th>date</th>\n",
              "      <th>state</th>\n",
              "      <th>death</th>\n",
              "      <th>deathConfirmed</th>\n",
              "      <th>deathIncrease</th>\n",
              "      <th>deathProbable</th>\n",
              "      <th>hospitalized</th>\n",
              "      <th>hospitalizedCumulative</th>\n",
              "      <th>hospitalizedCurrently</th>\n",
              "      <th>hospitalizedIncrease</th>\n",
              "      <th>inIcuCumulative</th>\n",
              "      <th>inIcuCurrently</th>\n",
              "      <th>negative</th>\n",
              "      <th>negativeIncrease</th>\n",
              "      <th>negativeTestsAntibody</th>\n",
              "      <th>negativeTestsPeopleAntibody</th>\n",
              "      <th>negativeTestsViral</th>\n",
              "      <th>onVentilatorCumulative</th>\n",
              "      <th>onVentilatorCurrently</th>\n",
              "      <th>positive</th>\n",
              "      <th>positiveCasesViral</th>\n",
              "      <th>positiveIncrease</th>\n",
              "      <th>positiveScore</th>\n",
              "      <th>positiveTestsAntibody</th>\n",
              "      <th>positiveTestsAntigen</th>\n",
              "      <th>positiveTestsPeopleAntibody</th>\n",
              "      <th>positiveTestsPeopleAntigen</th>\n",
              "      <th>positiveTestsViral</th>\n",
              "      <th>recovered</th>\n",
              "      <th>totalTestEncountersViral</th>\n",
              "      <th>totalTestEncountersViralIncrease</th>\n",
              "      <th>totalTestResults</th>\n",
              "      <th>totalTestResultsIncrease</th>\n",
              "      <th>totalTestsAntibody</th>\n",
              "      <th>totalTestsAntigen</th>\n",
              "      <th>totalTestsPeopleAntibody</th>\n",
              "      <th>totalTestsPeopleAntigen</th>\n",
              "      <th>totalTestsPeopleViral</th>\n",
              "      <th>totalTestsPeopleViralIncrease</th>\n",
              "      <th>totalTestsViral</th>\n",
              "      <th>totalTestsViralIncrease</th>\n",
              "      <th>Unnamed: 0</th>\n",
              "      <th>retail_and_recreation_percent_change_from_baseline</th>\n",
              "      <th>grocery_and_pharmacy_percent_change_from_baseline</th>\n",
              "      <th>parks_percent_change_from_baseline</th>\n",
              "      <th>transit_stations_percent_change_from_baseline</th>\n",
              "      <th>workplaces_percent_change_from_baseline</th>\n",
              "      <th>residential_percent_change_from_baseline</th>\n",
              "      <th>AverageTemperature</th>\n",
              "      <th>Urbanization %</th>\n",
              "      <th>day_since_record</th>\n",
              "    </tr>\n",
              "  </thead>\n",
              "  <tbody>\n",
              "    <tr>\n",
              "      <th>17150</th>\n",
              "      <td>2020-03-06</td>\n",
              "      <td>AK</td>\n",
              "      <td>0.0</td>\n",
              "      <td>NaN</td>\n",
              "      <td>0</td>\n",
              "      <td>NaN</td>\n",
              "      <td>NaN</td>\n",
              "      <td>NaN</td>\n",
              "      <td>NaN</td>\n",
              "      <td>0</td>\n",
              "      <td>NaN</td>\n",
              "      <td>NaN</td>\n",
              "      <td>NaN</td>\n",
              "      <td>0</td>\n",
              "      <td>NaN</td>\n",
              "      <td>NaN</td>\n",
              "      <td>NaN</td>\n",
              "      <td>NaN</td>\n",
              "      <td>NaN</td>\n",
              "      <td>NaN</td>\n",
              "      <td>NaN</td>\n",
              "      <td>0</td>\n",
              "      <td>0</td>\n",
              "      <td>NaN</td>\n",
              "      <td>NaN</td>\n",
              "      <td>NaN</td>\n",
              "      <td>NaN</td>\n",
              "      <td>NaN</td>\n",
              "      <td>NaN</td>\n",
              "      <td>NaN</td>\n",
              "      <td>0</td>\n",
              "      <td>8.0</td>\n",
              "      <td>0</td>\n",
              "      <td>NaN</td>\n",
              "      <td>NaN</td>\n",
              "      <td>NaN</td>\n",
              "      <td>NaN</td>\n",
              "      <td>NaN</td>\n",
              "      <td>0</td>\n",
              "      <td>8.0</td>\n",
              "      <td>8</td>\n",
              "      <td>23119</td>\n",
              "      <td>9.0</td>\n",
              "      <td>4.0</td>\n",
              "      <td>10.0</td>\n",
              "      <td>9.0</td>\n",
              "      <td>0.0</td>\n",
              "      <td>1.0</td>\n",
              "      <td>-3.0</td>\n",
              "      <td>66.0</td>\n",
              "      <td>1.0</td>\n",
              "    </tr>\n",
              "  </tbody>\n",
              "</table>\n",
              "</div>"
            ],
            "text/plain": [
              "            date state  ...  Urbanization %  day_since_record\n",
              "17150 2020-03-06    AK  ...            66.0               1.0\n",
              "\n",
              "[1 rows x 51 columns]"
            ]
          },
          "metadata": {
            "tags": []
          },
          "execution_count": 16
        }
      ]
    },
    {
      "cell_type": "code",
      "metadata": {
        "colab": {
          "base_uri": "https://localhost:8080/"
        },
        "id": "gH-y2lzCNxQR",
        "outputId": "e9f27f42-f46f-43ef-9426-f9bf03ae41cc"
      },
      "source": [
        "#since the death nan data date are at the beginning of the pandemic, it is likely it has not been recorded. Set it to 0\r\n",
        "df[df['death'].isna()].date.unique().max()"
      ],
      "execution_count": 17,
      "outputs": [
        {
          "output_type": "execute_result",
          "data": {
            "text/plain": [
              "numpy.datetime64('2020-03-31T00:00:00.000000000')"
            ]
          },
          "metadata": {
            "tags": []
          },
          "execution_count": 17
        }
      ]
    },
    {
      "cell_type": "code",
      "metadata": {
        "id": "mTqxMlCEX2AX",
        "colab": {
          "base_uri": "https://localhost:8080/"
        },
        "outputId": "2da31f93-df37-45e4-fa78-00d284059862"
      },
      "source": [
        ""
      ],
      "execution_count": 84,
      "outputs": [
        {
          "output_type": "execute_result",
          "data": {
            "text/plain": [
              "array([0.87925078])"
            ]
          },
          "metadata": {
            "tags": []
          },
          "execution_count": 84
        }
      ]
    },
    {
      "cell_type": "markdown",
      "metadata": {
        "id": "0OCoMU0IZofz"
      },
      "source": [
        "# An overall OLS regression analysis on all state data"
      ]
    },
    {
      "cell_type": "code",
      "metadata": {
        "id": "-usr6qE2qvxL"
      },
      "source": [
        "X_cols = ['AverageTemperature', 'Urbanization %']\r\n",
        "base = ['retail_and_recreation_percent_change_from_baseline','grocery_and_pharmacy_percent_change_from_baseline','parks_percent_change_from_baseline','transit_stations_percent_change_from_baseline','workplaces_percent_change_from_baseline','residential_percent_change_from_baseline']\r\n",
        "X_cols = X_cols + base"
      ],
      "execution_count": 122,
      "outputs": []
    },
    {
      "cell_type": "code",
      "metadata": {
        "colab": {
          "base_uri": "https://localhost:8080/"
        },
        "id": "pX5tyo4eKvbC",
        "outputId": "01a0627d-8d9b-4503-99f0-a1ade0f7056b"
      },
      "source": [
        "# ['deathIncrease', 'hospitalizedIncrease', 'inIcuCurrently', 'onVentilatorCurrently']\r\n",
        "\r\n",
        "from tqdm import tqdm\r\n",
        "pd.options.mode.chained_assignment = None \r\n",
        "\r\n",
        "y_variable_options = ['deathIncrease', 'hospitalizedIncrease', 'inIcuCurrently', 'onVentilatorCurrently']\r\n",
        "lag = 14\r\n",
        "smoothing = True\r\n",
        "\r\n",
        "# data = weekly_df\r\n",
        "data = df\r\n",
        "data = data.copy()\r\n",
        "\r\n",
        "\r\n",
        "\r\n",
        "for y_variable in tqdm(y_variable_options):\r\n",
        "    if smoothing == True:\r\n",
        "        # 7 day rolling\r\n",
        "        data = data.sort_values(by = ['state','date'])\r\n",
        "        data[y_variable] = data.groupby('state')[y_variable].rolling(7, min_periods = 1).sum().values\r\n",
        "        for x_col in X_cols:\r\n",
        "            if x_col.split('_')[-1] == 'baseline':\r\n",
        "                data[x_col] = data.groupby('state')[x_col].rolling(7, min_periods = 1).sum().values\r\n",
        "\r\n",
        "    df_reg = data.copy()\r\n",
        "    df_reg[y_variable] = df_reg[y_variable].shift(lag)\r\n",
        "    df_reg = df_reg[df_reg[y_variable].isna() == False]\r\n",
        "    y = df_reg[y_variable].fillna(0).values\r\n",
        "    x = df_reg[X_cols].fillna(0).values\r\n",
        "    x = sm.add_constant(x)\r\n",
        "    model = sm.OLS(y,x)\r\n",
        "    results = model.fit()\r\n",
        "    print(results.summary())\r\n"
      ],
      "execution_count": 123,
      "outputs": [
        {
          "output_type": "stream",
          "text": [
            " 50%|█████     | 2/4 [00:00<00:00,  7.56it/s]"
          ],
          "name": "stderr"
        },
        {
          "output_type": "stream",
          "text": [
            "                            OLS Regression Results                            \n",
            "==============================================================================\n",
            "Dep. Variable:                      y   R-squared:                       0.114\n",
            "Model:                            OLS   Adj. R-squared:                  0.114\n",
            "Method:                 Least Squares   F-statistic:                     279.1\n",
            "Date:                Sun, 21 Feb 2021   Prob (F-statistic):               0.00\n",
            "Time:                        03:42:40   Log-Likelihood:            -1.2560e+05\n",
            "No. Observations:               17358   AIC:                         2.512e+05\n",
            "Df Residuals:                   17349   BIC:                         2.513e+05\n",
            "Df Model:                           8                                         \n",
            "Covariance Type:            nonrobust                                         \n",
            "==============================================================================\n",
            "                 coef    std err          t      P>|t|      [0.025      0.975]\n",
            "------------------------------------------------------------------------------\n",
            "const       -189.8773     17.130    -11.085      0.000    -223.453    -156.301\n",
            "x1             6.5256      0.623     10.467      0.000       5.304       7.748\n",
            "x2             4.9995      0.224     22.358      0.000       4.561       5.438\n",
            "x3            -0.4642      0.090     -5.149      0.000      -0.641      -0.288\n",
            "x4             0.1322      0.075      1.759      0.079      -0.015       0.279\n",
            "x5            -0.0611      0.008     -7.609      0.000      -0.077      -0.045\n",
            "x6            -0.0824      0.041     -1.998      0.046      -0.163      -0.002\n",
            "x7             0.8664      0.085     10.170      0.000       0.699       1.033\n",
            "x8             0.9652      0.299      3.226      0.001       0.379       1.552\n",
            "==============================================================================\n",
            "Omnibus:                    19147.834   Durbin-Watson:                   0.031\n",
            "Prob(Omnibus):                  0.000   Jarque-Bera (JB):          2048443.908\n",
            "Skew:                           5.615   Prob(JB):                         0.00\n",
            "Kurtosis:                      55.021   Cond. No.                     4.04e+03\n",
            "==============================================================================\n",
            "\n",
            "Warnings:\n",
            "[1] Standard Errors assume that the covariance matrix of the errors is correctly specified.\n",
            "[2] The condition number is large, 4.04e+03. This might indicate that there are\n",
            "strong multicollinearity or other numerical problems.\n",
            "                            OLS Regression Results                            \n",
            "==============================================================================\n",
            "Dep. Variable:                      y   R-squared:                       0.040\n",
            "Model:                            OLS   Adj. R-squared:                  0.040\n",
            "Method:                 Least Squares   F-statistic:                     91.16\n",
            "Date:                Sun, 21 Feb 2021   Prob (F-statistic):          5.50e-149\n",
            "Time:                        03:42:40   Log-Likelihood:            -1.4367e+05\n",
            "No. Observations:               17358   AIC:                         2.874e+05\n",
            "Df Residuals:                   17349   BIC:                         2.874e+05\n",
            "Df Model:                           8                                         \n",
            "Covariance Type:            nonrobust                                         \n",
            "==============================================================================\n",
            "                 coef    std err          t      P>|t|      [0.025      0.975]\n",
            "------------------------------------------------------------------------------\n",
            "const       -328.6015     48.584     -6.764      0.000    -423.830    -233.373\n",
            "x1            12.3312      1.771      6.964      0.000       8.861      15.802\n",
            "x2             6.2156      0.632      9.841      0.000       4.978       7.453\n",
            "x3             0.0599      0.038      1.595      0.111      -0.014       0.133\n",
            "x4            -0.2406      0.032     -7.568      0.000      -0.303      -0.178\n",
            "x5            -0.0017      0.003     -0.501      0.616      -0.008       0.005\n",
            "x6             0.0882      0.017      5.202      0.000       0.055       0.121\n",
            "x7             0.1449      0.036      4.076      0.000       0.075       0.215\n",
            "x8             0.8718      0.125      6.980      0.000       0.627       1.117\n",
            "==============================================================================\n",
            "Omnibus:                    28885.436   Durbin-Watson:                   0.085\n",
            "Prob(Omnibus):                  0.000   Jarque-Bera (JB):         24170809.200\n",
            "Skew:                          11.310   Prob(JB):                         0.00\n",
            "Kurtosis:                     184.406   Cond. No.                     2.81e+04\n",
            "==============================================================================\n",
            "\n",
            "Warnings:\n",
            "[1] Standard Errors assume that the covariance matrix of the errors is correctly specified.\n",
            "[2] The condition number is large, 2.81e+04. This might indicate that there are\n",
            "strong multicollinearity or other numerical problems.\n"
          ],
          "name": "stdout"
        },
        {
          "output_type": "stream",
          "text": [
            "100%|██████████| 4/4 [00:00<00:00,  7.02it/s]"
          ],
          "name": "stderr"
        },
        {
          "output_type": "stream",
          "text": [
            "                            OLS Regression Results                            \n",
            "==============================================================================\n",
            "Dep. Variable:                      y   R-squared:                       0.243\n",
            "Model:                            OLS   Adj. R-squared:                  0.242\n",
            "Method:                 Least Squares   F-statistic:                     392.3\n",
            "Date:                Sun, 21 Feb 2021   Prob (F-statistic):               0.00\n",
            "Time:                        03:42:40   Log-Likelihood:                -94386.\n",
            "No. Observations:                9798   AIC:                         1.888e+05\n",
            "Df Residuals:                    9789   BIC:                         1.889e+05\n",
            "Df Model:                           8                                         \n",
            "Covariance Type:            nonrobust                                         \n",
            "==============================================================================\n",
            "                 coef    std err          t      P>|t|      [0.025      0.975]\n",
            "------------------------------------------------------------------------------\n",
            "const      -5576.3029    250.020    -22.303      0.000   -6066.394   -5086.212\n",
            "x1           129.6715     11.822     10.969      0.000     106.498     152.845\n",
            "x2            89.8197      3.445     26.076      0.000      83.068      96.572\n",
            "x3            -0.5233      0.030    -17.272      0.000      -0.583      -0.464\n",
            "x4             0.1713      0.028      6.130      0.000       0.117       0.226\n",
            "x5            -0.0160      0.002     -6.590      0.000      -0.021      -0.011\n",
            "x6             0.2712      0.014     18.793      0.000       0.243       0.300\n",
            "x7             0.3706      0.028     13.002      0.000       0.315       0.426\n",
            "x8             1.1354      0.100     11.354      0.000       0.939       1.331\n",
            "==============================================================================\n",
            "Omnibus:                     7703.716   Durbin-Watson:                   0.016\n",
            "Prob(Omnibus):                  0.000   Jarque-Bera (JB):           187932.448\n",
            "Skew:                           3.652   Prob(JB):                         0.00\n",
            "Kurtosis:                      23.174   Cond. No.                     1.95e+05\n",
            "==============================================================================\n",
            "\n",
            "Warnings:\n",
            "[1] Standard Errors assume that the covariance matrix of the errors is correctly specified.\n",
            "[2] The condition number is large, 1.95e+05. This might indicate that there are\n",
            "strong multicollinearity or other numerical problems.\n",
            "                            OLS Regression Results                            \n",
            "==============================================================================\n",
            "Dep. Variable:                      y   R-squared:                       0.322\n",
            "Model:                            OLS   Adj. R-squared:                  0.321\n",
            "Method:                 Least Squares   F-statistic:                     456.3\n",
            "Date:                Sun, 21 Feb 2021   Prob (F-statistic):               0.00\n",
            "Time:                        03:42:40   Log-Likelihood:                -65736.\n",
            "No. Observations:                7705   AIC:                         1.315e+05\n",
            "Df Residuals:                    7696   BIC:                         1.316e+05\n",
            "Df Model:                           8                                         \n",
            "Covariance Type:            nonrobust                                         \n",
            "==============================================================================\n",
            "                 coef    std err          t      P>|t|      [0.025      0.975]\n",
            "------------------------------------------------------------------------------\n",
            "const      -2001.7325    105.286    -19.012      0.000   -2208.122   -1795.343\n",
            "x1            -2.4678      3.714     -0.664      0.506      -9.748       4.813\n",
            "x2            40.4242      1.435     28.163      0.000      37.610      43.238\n",
            "x3            -0.0219      0.002    -12.523      0.000      -0.025      -0.018\n",
            "x4             0.0028      0.002      1.866      0.062      -0.000       0.006\n",
            "x5            -0.0003      0.000     -2.469      0.014      -0.001   -6.54e-05\n",
            "x6             0.0237      0.001     28.352      0.000       0.022       0.025\n",
            "x7             0.0324      0.002     20.868      0.000       0.029       0.035\n",
            "x8             0.1407      0.006     25.447      0.000       0.130       0.152\n",
            "==============================================================================\n",
            "Omnibus:                     3437.059   Durbin-Watson:                   0.033\n",
            "Prob(Omnibus):                  0.000   Jarque-Bera (JB):            34347.819\n",
            "Skew:                           1.877   Prob(JB):                         0.00\n",
            "Kurtosis:                      12.638   Cond. No.                     1.54e+06\n",
            "==============================================================================\n",
            "\n",
            "Warnings:\n",
            "[1] Standard Errors assume that the covariance matrix of the errors is correctly specified.\n",
            "[2] The condition number is large, 1.54e+06. This might indicate that there are\n",
            "strong multicollinearity or other numerical problems.\n"
          ],
          "name": "stdout"
        },
        {
          "output_type": "stream",
          "text": [
            "\n"
          ],
          "name": "stderr"
        }
      ]
    },
    {
      "cell_type": "markdown",
      "metadata": {
        "id": "CDmh5lCgZuHE"
      },
      "source": [
        "# Individual State OLS "
      ]
    },
    {
      "cell_type": "code",
      "metadata": {
        "id": "7FMVWLENmL0G"
      },
      "source": [
        "#modeling on week\r\n",
        "# df['week'] = df['day_since_record'].apply(lambda x: x//7)\r\n",
        "# weekly_df = df.groupby(['state','week']).mean().reset_index()\r\n",
        "# weekly_df.head(1)"
      ],
      "execution_count": 124,
      "outputs": []
    },
    {
      "cell_type": "code",
      "metadata": {
        "id": "emTdBZa8vhE_"
      },
      "source": [
        ""
      ],
      "execution_count": 124,
      "outputs": []
    },
    {
      "cell_type": "code",
      "metadata": {
        "colab": {
          "base_uri": "https://localhost:8080/"
        },
        "id": "rEdr5aJF3DFu",
        "outputId": "ec676fe6-f939-430c-8a46-e5b25973a6f2"
      },
      "source": [
        "X_cols"
      ],
      "execution_count": 125,
      "outputs": [
        {
          "output_type": "execute_result",
          "data": {
            "text/plain": [
              "['AverageTemperature',\n",
              " 'Urbanization %',\n",
              " 'retail_and_recreation_percent_change_from_baseline',\n",
              " 'grocery_and_pharmacy_percent_change_from_baseline',\n",
              " 'parks_percent_change_from_baseline',\n",
              " 'transit_stations_percent_change_from_baseline',\n",
              " 'workplaces_percent_change_from_baseline',\n",
              " 'residential_percent_change_from_baseline']"
            ]
          },
          "metadata": {
            "tags": []
          },
          "execution_count": 125
        }
      ]
    },
    {
      "cell_type": "code",
      "metadata": {
        "colab": {
          "base_uri": "https://localhost:8080/"
        },
        "id": "nZZlgQ4reKZe",
        "outputId": "a9ad8c9e-d018-4c5c-963c-be38e4c5b39d"
      },
      "source": [
        "from tqdm import tqdm\r\n",
        "pd.options.mode.chained_assignment = None \r\n",
        "# y in  ['deathIncrease', 'hospitalizedIncrease', 'inIcuCurrently', 'onVentilatorCurrently', 'PositiveRate']\r\n",
        "y_variable = 'deathIncrease'\r\n",
        "lag = 14\r\n",
        "coeffs = []\r\n",
        "p_values = []\r\n",
        "r_squared_adjs = []\r\n",
        "states = df.state.unique()\r\n",
        "smoothing = True\r\n",
        "\r\n",
        "# data = weekly_df\r\n",
        "data = df\r\n",
        "data = data.copy()\r\n",
        "\r\n",
        "if smoothing == True:\r\n",
        "# 7 day rolling\r\n",
        "    data[y_variable] = data.groupby('state')[y_variable].rolling(7, min_periods = 1).sum().values\r\n",
        "    for x_col in X_cols:\r\n",
        "        if x_col.split('_')[-1] == 'baseline':\r\n",
        "            data[x_col] = data.groupby('state')[x_col].rolling(7, min_periods = 1).sum().values\r\n",
        "\r\n",
        "\r\n",
        "for state in tqdm(states):\r\n",
        "    if y_variable == 'PositiveRate':\r\n",
        "        df_reg = data[(data['state'] == state)&(data['PositiveRate']!=np.inf)]\r\n",
        "    df_reg = data[data['state'] == state]\r\n",
        "    df_reg[y_variable] = data[y_variable].shift(lag)\r\n",
        "    df_reg = df_reg[df_reg[y_variable].isna() == False]\r\n",
        "    y = df_reg[y_variable].fillna(0).values\r\n",
        "    x = df_reg[X_cols].fillna(0).values\r\n",
        "    # x = df_reg[['residential_percent_change_from_baseline', 'day_since_record', 'Density']].fillna(0).values\r\n",
        "    x = sm.add_constant(x, has_constant='add')\r\n",
        "    model = sm.OLS(y,x)\r\n",
        "    results = model.fit()\r\n",
        "    coeffs.append(results.params)\r\n",
        "    p_values.append(results.pvalues)\r\n",
        "    r_squared_adjs.append(results.rsquared_adj)\r\n",
        "df_pvalues = pd.DataFrame(p_values, index = states, columns = ['constant'] + X_cols).apply(lambda x: round(x, 4))\r\n",
        "# df_pvalues = pd.DataFrame(p_values, index = states, columns = ['constant', 'residential_percent_change_from_baseline', 'day_since_record', 'Density'] ).apply(lambda x: round(x, 4))\r\n",
        "df_r_square_adj = pd.DataFrame(r_squared_adjs, index = states).apply(lambda x: round(x, 4))\r\n",
        "df_params = pd.DataFrame(coeffs, index = states, columns = ['constant'] + X_cols).apply(lambda x: round(x, 4))\r\n"
      ],
      "execution_count": 126,
      "outputs": [
        {
          "output_type": "stream",
          "text": [
            "100%|██████████| 50/50 [00:00<00:00, 118.91it/s]\n"
          ],
          "name": "stderr"
        }
      ]
    },
    {
      "cell_type": "code",
      "metadata": {
        "id": "3LDIeGvS1GVB"
      },
      "source": [
        ""
      ],
      "execution_count": 126,
      "outputs": []
    },
    {
      "cell_type": "code",
      "metadata": {
        "colab": {
          "base_uri": "https://localhost:8080/"
        },
        "id": "uLYaZ_rUo06U",
        "outputId": "d9792339-66dc-4b34-da1a-7dffe8081843"
      },
      "source": [
        "# how many percent statistically significant\r\n",
        "df_pvalues.applymap(lambda x: 1 if x<0.05 else 0).mean().mean()"
      ],
      "execution_count": 128,
      "outputs": [
        {
          "output_type": "execute_result",
          "data": {
            "text/plain": [
              "0.7733333333333333"
            ]
          },
          "metadata": {
            "tags": []
          },
          "execution_count": 128
        }
      ]
    },
    {
      "cell_type": "code",
      "metadata": {
        "id": "iu47xPh-1yZW",
        "colab": {
          "base_uri": "https://localhost:8080/"
        },
        "outputId": "b0dcb180-33f1-4b87-f3c6-74c15b82cb46"
      },
      "source": [
        "df_params.mean()"
      ],
      "execution_count": 92,
      "outputs": [
        {
          "output_type": "execute_result",
          "data": {
            "text/plain": [
              "constant             -2.748972e+09\n",
              "mobility             -1.025102e+00\n",
              "AverageTemperature    2.314893e+11\n",
              "Urbanization %        1.064685e+11\n",
              "dtype: float64"
            ]
          },
          "metadata": {
            "tags": []
          },
          "execution_count": 92
        }
      ]
    },
    {
      "cell_type": "code",
      "metadata": {
        "colab": {
          "base_uri": "https://localhost:8080/",
          "height": 542
        },
        "id": "7d-KLX4I-MzC",
        "outputId": "e5d3d82e-3da5-40ba-c2ba-197faa980b20"
      },
      "source": [
        "pval_plot = df_pvalues.applymap(lambda x: 1 if x<0.05 else 0).mean().reset_index()\r\n",
        "px.bar(data_frame=pval_plot, x=0, y='index', orientation='h', title='Percentage of states with P-values less than 0.05')\r\n"
      ],
      "execution_count": 109,
      "outputs": [
        {
          "output_type": "display_data",
          "data": {
            "text/html": [
              "<html>\n",
              "<head><meta charset=\"utf-8\" /></head>\n",
              "<body>\n",
              "    <div>\n",
              "            <script src=\"https://cdnjs.cloudflare.com/ajax/libs/mathjax/2.7.5/MathJax.js?config=TeX-AMS-MML_SVG\"></script><script type=\"text/javascript\">if (window.MathJax) {MathJax.Hub.Config({SVG: {font: \"STIX-Web\"}});}</script>\n",
              "                <script type=\"text/javascript\">window.PlotlyConfig = {MathJaxConfig: 'local'};</script>\n",
              "        <script src=\"https://cdn.plot.ly/plotly-latest.min.js\"></script>    \n",
              "            <div id=\"ffa247c6-fca9-4858-ad71-470564cd25e3\" class=\"plotly-graph-div\" style=\"height:525px; width:100%;\"></div>\n",
              "            <script type=\"text/javascript\">\n",
              "                \n",
              "                    window.PLOTLYENV=window.PLOTLYENV || {};\n",
              "                    \n",
              "                if (document.getElementById(\"ffa247c6-fca9-4858-ad71-470564cd25e3\")) {\n",
              "                    Plotly.newPlot(\n",
              "                        'ffa247c6-fca9-4858-ad71-470564cd25e3',\n",
              "                        [{\"alignmentgroup\": \"True\", \"hoverlabel\": {\"namelength\": 0}, \"hovertemplate\": \"0=%{x}<br>index=%{y}\", \"legendgroup\": \"\", \"marker\": {\"color\": \"#636efa\"}, \"name\": \"\", \"offsetgroup\": \"\", \"orientation\": \"h\", \"showlegend\": false, \"textposition\": \"auto\", \"type\": \"bar\", \"x\": [0.88, 0.88, 0.88, 0.72, 0.72, 0.76, 0.72, 0.74, 0.66], \"xaxis\": \"x\", \"y\": [\"constant\", \"AverageTemperature\", \"Urbanization %\", \"retail_and_recreation_percent_change_from_baseline\", \"grocery_and_pharmacy_percent_change_from_baseline\", \"parks_percent_change_from_baseline\", \"transit_stations_percent_change_from_baseline\", \"workplaces_percent_change_from_baseline\", \"residential_percent_change_from_baseline\"], \"yaxis\": \"y\"}],\n",
              "                        {\"barmode\": \"relative\", \"legend\": {\"tracegroupgap\": 0}, \"template\": {\"data\": {\"bar\": [{\"error_x\": {\"color\": \"#2a3f5f\"}, \"error_y\": {\"color\": \"#2a3f5f\"}, \"marker\": {\"line\": {\"color\": \"#E5ECF6\", \"width\": 0.5}}, \"type\": \"bar\"}], \"barpolar\": [{\"marker\": {\"line\": {\"color\": \"#E5ECF6\", \"width\": 0.5}}, \"type\": \"barpolar\"}], \"carpet\": [{\"aaxis\": {\"endlinecolor\": \"#2a3f5f\", \"gridcolor\": \"white\", \"linecolor\": \"white\", \"minorgridcolor\": \"white\", \"startlinecolor\": \"#2a3f5f\"}, \"baxis\": {\"endlinecolor\": \"#2a3f5f\", \"gridcolor\": \"white\", \"linecolor\": \"white\", \"minorgridcolor\": \"white\", \"startlinecolor\": \"#2a3f5f\"}, \"type\": \"carpet\"}], \"choropleth\": [{\"colorbar\": {\"outlinewidth\": 0, \"ticks\": \"\"}, \"type\": \"choropleth\"}], \"contour\": [{\"colorbar\": {\"outlinewidth\": 0, \"ticks\": \"\"}, \"colorscale\": [[0.0, \"#0d0887\"], [0.1111111111111111, \"#46039f\"], [0.2222222222222222, \"#7201a8\"], [0.3333333333333333, \"#9c179e\"], [0.4444444444444444, \"#bd3786\"], [0.5555555555555556, \"#d8576b\"], [0.6666666666666666, \"#ed7953\"], [0.7777777777777778, \"#fb9f3a\"], [0.8888888888888888, \"#fdca26\"], [1.0, \"#f0f921\"]], \"type\": \"contour\"}], \"contourcarpet\": [{\"colorbar\": {\"outlinewidth\": 0, \"ticks\": \"\"}, \"type\": \"contourcarpet\"}], \"heatmap\": [{\"colorbar\": {\"outlinewidth\": 0, \"ticks\": \"\"}, \"colorscale\": [[0.0, \"#0d0887\"], [0.1111111111111111, \"#46039f\"], [0.2222222222222222, \"#7201a8\"], [0.3333333333333333, \"#9c179e\"], [0.4444444444444444, \"#bd3786\"], [0.5555555555555556, \"#d8576b\"], [0.6666666666666666, \"#ed7953\"], [0.7777777777777778, \"#fb9f3a\"], [0.8888888888888888, \"#fdca26\"], [1.0, \"#f0f921\"]], \"type\": \"heatmap\"}], \"heatmapgl\": [{\"colorbar\": {\"outlinewidth\": 0, \"ticks\": \"\"}, \"colorscale\": [[0.0, \"#0d0887\"], [0.1111111111111111, \"#46039f\"], [0.2222222222222222, \"#7201a8\"], [0.3333333333333333, \"#9c179e\"], [0.4444444444444444, \"#bd3786\"], [0.5555555555555556, \"#d8576b\"], [0.6666666666666666, \"#ed7953\"], [0.7777777777777778, \"#fb9f3a\"], [0.8888888888888888, \"#fdca26\"], [1.0, \"#f0f921\"]], \"type\": \"heatmapgl\"}], \"histogram\": [{\"marker\": {\"colorbar\": {\"outlinewidth\": 0, \"ticks\": \"\"}}, \"type\": \"histogram\"}], \"histogram2d\": [{\"colorbar\": {\"outlinewidth\": 0, \"ticks\": \"\"}, \"colorscale\": [[0.0, \"#0d0887\"], [0.1111111111111111, \"#46039f\"], [0.2222222222222222, \"#7201a8\"], [0.3333333333333333, \"#9c179e\"], [0.4444444444444444, \"#bd3786\"], [0.5555555555555556, \"#d8576b\"], [0.6666666666666666, \"#ed7953\"], [0.7777777777777778, \"#fb9f3a\"], [0.8888888888888888, \"#fdca26\"], [1.0, \"#f0f921\"]], \"type\": \"histogram2d\"}], \"histogram2dcontour\": [{\"colorbar\": {\"outlinewidth\": 0, \"ticks\": \"\"}, \"colorscale\": [[0.0, \"#0d0887\"], [0.1111111111111111, \"#46039f\"], [0.2222222222222222, \"#7201a8\"], [0.3333333333333333, \"#9c179e\"], [0.4444444444444444, \"#bd3786\"], [0.5555555555555556, \"#d8576b\"], [0.6666666666666666, \"#ed7953\"], [0.7777777777777778, \"#fb9f3a\"], [0.8888888888888888, \"#fdca26\"], [1.0, \"#f0f921\"]], \"type\": \"histogram2dcontour\"}], \"mesh3d\": [{\"colorbar\": {\"outlinewidth\": 0, \"ticks\": \"\"}, \"type\": \"mesh3d\"}], \"parcoords\": [{\"line\": {\"colorbar\": {\"outlinewidth\": 0, \"ticks\": \"\"}}, \"type\": \"parcoords\"}], \"pie\": [{\"automargin\": true, \"type\": \"pie\"}], \"scatter\": [{\"marker\": {\"colorbar\": {\"outlinewidth\": 0, \"ticks\": \"\"}}, \"type\": \"scatter\"}], \"scatter3d\": [{\"line\": {\"colorbar\": {\"outlinewidth\": 0, \"ticks\": \"\"}}, \"marker\": {\"colorbar\": {\"outlinewidth\": 0, \"ticks\": \"\"}}, \"type\": \"scatter3d\"}], \"scattercarpet\": [{\"marker\": {\"colorbar\": {\"outlinewidth\": 0, \"ticks\": \"\"}}, \"type\": \"scattercarpet\"}], \"scattergeo\": [{\"marker\": {\"colorbar\": {\"outlinewidth\": 0, \"ticks\": \"\"}}, \"type\": \"scattergeo\"}], \"scattergl\": [{\"marker\": {\"colorbar\": {\"outlinewidth\": 0, \"ticks\": \"\"}}, \"type\": \"scattergl\"}], \"scattermapbox\": [{\"marker\": {\"colorbar\": {\"outlinewidth\": 0, \"ticks\": \"\"}}, \"type\": \"scattermapbox\"}], \"scatterpolar\": [{\"marker\": {\"colorbar\": {\"outlinewidth\": 0, \"ticks\": \"\"}}, \"type\": \"scatterpolar\"}], \"scatterpolargl\": [{\"marker\": {\"colorbar\": {\"outlinewidth\": 0, \"ticks\": \"\"}}, \"type\": \"scatterpolargl\"}], \"scatterternary\": [{\"marker\": {\"colorbar\": {\"outlinewidth\": 0, \"ticks\": \"\"}}, \"type\": \"scatterternary\"}], \"surface\": [{\"colorbar\": {\"outlinewidth\": 0, \"ticks\": \"\"}, \"colorscale\": [[0.0, \"#0d0887\"], [0.1111111111111111, \"#46039f\"], [0.2222222222222222, \"#7201a8\"], [0.3333333333333333, \"#9c179e\"], [0.4444444444444444, \"#bd3786\"], [0.5555555555555556, \"#d8576b\"], [0.6666666666666666, \"#ed7953\"], [0.7777777777777778, \"#fb9f3a\"], [0.8888888888888888, \"#fdca26\"], [1.0, \"#f0f921\"]], \"type\": \"surface\"}], \"table\": [{\"cells\": {\"fill\": {\"color\": \"#EBF0F8\"}, \"line\": {\"color\": \"white\"}}, \"header\": {\"fill\": {\"color\": \"#C8D4E3\"}, \"line\": {\"color\": \"white\"}}, \"type\": \"table\"}]}, \"layout\": {\"annotationdefaults\": {\"arrowcolor\": \"#2a3f5f\", \"arrowhead\": 0, \"arrowwidth\": 1}, \"coloraxis\": {\"colorbar\": {\"outlinewidth\": 0, \"ticks\": \"\"}}, \"colorscale\": {\"diverging\": [[0, \"#8e0152\"], [0.1, \"#c51b7d\"], [0.2, \"#de77ae\"], [0.3, \"#f1b6da\"], [0.4, \"#fde0ef\"], [0.5, \"#f7f7f7\"], [0.6, \"#e6f5d0\"], [0.7, \"#b8e186\"], [0.8, \"#7fbc41\"], [0.9, \"#4d9221\"], [1, \"#276419\"]], \"sequential\": [[0.0, \"#0d0887\"], [0.1111111111111111, \"#46039f\"], [0.2222222222222222, \"#7201a8\"], [0.3333333333333333, \"#9c179e\"], [0.4444444444444444, \"#bd3786\"], [0.5555555555555556, \"#d8576b\"], [0.6666666666666666, \"#ed7953\"], [0.7777777777777778, \"#fb9f3a\"], [0.8888888888888888, \"#fdca26\"], [1.0, \"#f0f921\"]], \"sequentialminus\": [[0.0, \"#0d0887\"], [0.1111111111111111, \"#46039f\"], [0.2222222222222222, \"#7201a8\"], [0.3333333333333333, \"#9c179e\"], [0.4444444444444444, \"#bd3786\"], [0.5555555555555556, \"#d8576b\"], [0.6666666666666666, \"#ed7953\"], [0.7777777777777778, \"#fb9f3a\"], [0.8888888888888888, \"#fdca26\"], [1.0, \"#f0f921\"]]}, \"colorway\": [\"#636efa\", \"#EF553B\", \"#00cc96\", \"#ab63fa\", \"#FFA15A\", \"#19d3f3\", \"#FF6692\", \"#B6E880\", \"#FF97FF\", \"#FECB52\"], \"font\": {\"color\": \"#2a3f5f\"}, \"geo\": {\"bgcolor\": \"white\", \"lakecolor\": \"white\", \"landcolor\": \"#E5ECF6\", \"showlakes\": true, \"showland\": true, \"subunitcolor\": \"white\"}, \"hoverlabel\": {\"align\": \"left\"}, \"hovermode\": \"closest\", \"mapbox\": {\"style\": \"light\"}, \"paper_bgcolor\": \"white\", \"plot_bgcolor\": \"#E5ECF6\", \"polar\": {\"angularaxis\": {\"gridcolor\": \"white\", \"linecolor\": \"white\", \"ticks\": \"\"}, \"bgcolor\": \"#E5ECF6\", \"radialaxis\": {\"gridcolor\": \"white\", \"linecolor\": \"white\", \"ticks\": \"\"}}, \"scene\": {\"xaxis\": {\"backgroundcolor\": \"#E5ECF6\", \"gridcolor\": \"white\", \"gridwidth\": 2, \"linecolor\": \"white\", \"showbackground\": true, \"ticks\": \"\", \"zerolinecolor\": \"white\"}, \"yaxis\": {\"backgroundcolor\": \"#E5ECF6\", \"gridcolor\": \"white\", \"gridwidth\": 2, \"linecolor\": \"white\", \"showbackground\": true, \"ticks\": \"\", \"zerolinecolor\": \"white\"}, \"zaxis\": {\"backgroundcolor\": \"#E5ECF6\", \"gridcolor\": \"white\", \"gridwidth\": 2, \"linecolor\": \"white\", \"showbackground\": true, \"ticks\": \"\", \"zerolinecolor\": \"white\"}}, \"shapedefaults\": {\"line\": {\"color\": \"#2a3f5f\"}}, \"ternary\": {\"aaxis\": {\"gridcolor\": \"white\", \"linecolor\": \"white\", \"ticks\": \"\"}, \"baxis\": {\"gridcolor\": \"white\", \"linecolor\": \"white\", \"ticks\": \"\"}, \"bgcolor\": \"#E5ECF6\", \"caxis\": {\"gridcolor\": \"white\", \"linecolor\": \"white\", \"ticks\": \"\"}}, \"title\": {\"x\": 0.05}, \"xaxis\": {\"automargin\": true, \"gridcolor\": \"white\", \"linecolor\": \"white\", \"ticks\": \"\", \"title\": {\"standoff\": 15}, \"zerolinecolor\": \"white\", \"zerolinewidth\": 2}, \"yaxis\": {\"automargin\": true, \"gridcolor\": \"white\", \"linecolor\": \"white\", \"ticks\": \"\", \"title\": {\"standoff\": 15}, \"zerolinecolor\": \"white\", \"zerolinewidth\": 2}}}, \"title\": {\"text\": \"Percentage of states with P-values less than 0.05\"}, \"xaxis\": {\"anchor\": \"y\", \"domain\": [0.0, 1.0], \"title\": {\"text\": \"0\"}}, \"yaxis\": {\"anchor\": \"x\", \"domain\": [0.0, 1.0], \"title\": {\"text\": \"index\"}}},\n",
              "                        {\"responsive\": true}\n",
              "                    ).then(function(){\n",
              "                            \n",
              "var gd = document.getElementById('ffa247c6-fca9-4858-ad71-470564cd25e3');\n",
              "var x = new MutationObserver(function (mutations, observer) {{\n",
              "        var display = window.getComputedStyle(gd).display;\n",
              "        if (!display || display === 'none') {{\n",
              "            console.log([gd, 'removed!']);\n",
              "            Plotly.purge(gd);\n",
              "            observer.disconnect();\n",
              "        }}\n",
              "}});\n",
              "\n",
              "// Listen for the removal of the full notebook cells\n",
              "var notebookContainer = gd.closest('#notebook-container');\n",
              "if (notebookContainer) {{\n",
              "    x.observe(notebookContainer, {childList: true});\n",
              "}}\n",
              "\n",
              "// Listen for the clearing of the current output cell\n",
              "var outputEl = gd.closest('.output');\n",
              "if (outputEl) {{\n",
              "    x.observe(outputEl, {childList: true});\n",
              "}}\n",
              "\n",
              "                        })\n",
              "                };\n",
              "                \n",
              "            </script>\n",
              "        </div>\n",
              "</body>\n",
              "</html>"
            ]
          },
          "metadata": {
            "tags": []
          }
        }
      ]
    },
    {
      "cell_type": "code",
      "metadata": {
        "colab": {
          "base_uri": "https://localhost:8080/"
        },
        "id": "J6jLu7lAp7b8",
        "outputId": "8bab78d3-0b81-4ab8-fcab-cc53ef4f6940"
      },
      "source": [
        "df_r_square_adj.mean()"
      ],
      "execution_count": 110,
      "outputs": [
        {
          "output_type": "execute_result",
          "data": {
            "text/plain": [
              "0    0.52499\n",
              "dtype: float64"
            ]
          },
          "metadata": {
            "tags": []
          },
          "execution_count": 110
        }
      ]
    },
    {
      "cell_type": "markdown",
      "metadata": {
        "id": "F9iEAo_ymOA7"
      },
      "source": [
        "#PCA to reduce Multicollinearity"
      ]
    },
    {
      "cell_type": "code",
      "metadata": {
        "colab": {
          "base_uri": "https://localhost:8080/"
        },
        "id": "RYPsowt_qoMa",
        "outputId": "1fcf8f4a-d637-40f7-b99c-d6e374ed05bc"
      },
      "source": [
        "from sklearn.decomposition import PCA\r\n",
        "X_cols = ['mobility','AverageTemperature', 'Urbanization %']\r\n",
        "pca = PCA(1)\r\n",
        "base = ['retail_and_recreation_percent_change_from_baseline','grocery_and_pharmacy_percent_change_from_baseline','parks_percent_change_from_baseline','transit_stations_percent_change_from_baseline','workplaces_percent_change_from_baseline','residential_percent_change_from_baseline']\r\n",
        "vars = df[base].fillna(0)\r\n",
        "pca.fit(vars)\r\n",
        "print('pca explained variance ratio:', pca.explained_variance_ratio_)\r\n",
        "df['mobility'] = pca.transform(vars)"
      ],
      "execution_count": 111,
      "outputs": [
        {
          "output_type": "stream",
          "text": [
            "pca explained variance ratio: [0.87925078]\n"
          ],
          "name": "stdout"
        }
      ]
    },
    {
      "cell_type": "markdown",
      "metadata": {
        "id": "jqzMhTRUrXJ6"
      },
      "source": [
        "#### All states together"
      ]
    },
    {
      "cell_type": "code",
      "metadata": {
        "colab": {
          "base_uri": "https://localhost:8080/"
        },
        "id": "77cudM3Cq-oG",
        "outputId": "a62195e0-fac7-42d1-aae9-1aee33518967"
      },
      "source": [
        "\r\n",
        "from tqdm import tqdm\r\n",
        "pd.options.mode.chained_assignment = None \r\n",
        "\r\n",
        "y_variable_options = ['deathIncrease', 'hospitalizedIncrease', 'inIcuCurrently', 'onVentilatorCurrently']\r\n",
        "lag = 14\r\n",
        "smoothing = True\r\n",
        "\r\n",
        "# data = weekly_df\r\n",
        "data = df\r\n",
        "data = data.copy()\r\n",
        "\r\n",
        "\r\n",
        "\r\n",
        "for y_variable in tqdm(y_variable_options):\r\n",
        "    if smoothing == True:\r\n",
        "        # 7 day rolling\r\n",
        "        data = data.sort_values(by = ['state','date'])\r\n",
        "        data[y_variable] = data.groupby('state')[y_variable].rolling(7, min_periods = 1).sum().values\r\n",
        "        for x_col in X_cols:\r\n",
        "            if x_col.split('_')[-1] == 'baseline':\r\n",
        "                data[x_col] = data.groupby('state')[x_col].rolling(7, min_periods = 1).sum().values\r\n",
        "\r\n",
        "    df_reg = data.copy()\r\n",
        "    df_reg[y_variable] = df_reg[y_variable].shift(lag)\r\n",
        "    df_reg = df_reg[df_reg[y_variable].isna() == False]\r\n",
        "    y = df_reg[y_variable].fillna(0).values\r\n",
        "    x = df_reg[X_cols].fillna(0).values\r\n",
        "    x = sm.add_constant(x)\r\n",
        "    model = sm.OLS(y,x)\r\n",
        "    results = model.fit()\r\n",
        "    print(results.summary())\r\n"
      ],
      "execution_count": 112,
      "outputs": [
        {
          "output_type": "stream",
          "text": [
            "100%|██████████| 4/4 [00:00<00:00, 17.04it/s]"
          ],
          "name": "stderr"
        },
        {
          "output_type": "stream",
          "text": [
            "                            OLS Regression Results                            \n",
            "==============================================================================\n",
            "Dep. Variable:                      y   R-squared:                       0.100\n",
            "Model:                            OLS   Adj. R-squared:                  0.100\n",
            "Method:                 Least Squares   F-statistic:                     642.9\n",
            "Date:                Sun, 21 Feb 2021   Prob (F-statistic):               0.00\n",
            "Time:                        03:39:58   Log-Likelihood:            -1.2574e+05\n",
            "No. Observations:               17358   AIC:                         2.515e+05\n",
            "Df Residuals:                   17354   BIC:                         2.515e+05\n",
            "Df Model:                           3                                         \n",
            "Covariance Type:            nonrobust                                         \n",
            "==============================================================================\n",
            "                 coef    std err          t      P>|t|      [0.025      0.975]\n",
            "------------------------------------------------------------------------------\n",
            "const       -270.4051     14.295    -18.916      0.000    -298.424    -242.386\n",
            "x1            -0.6504      0.035    -18.487      0.000      -0.719      -0.581\n",
            "x2             5.6502      0.579      9.752      0.000       4.515       6.786\n",
            "x3             5.3181      0.185     28.684      0.000       4.955       5.682\n",
            "==============================================================================\n",
            "Omnibus:                    19371.318   Durbin-Watson:                   0.036\n",
            "Prob(Omnibus):                  0.000   Jarque-Bera (JB):          2126210.278\n",
            "Skew:                           5.724   Prob(JB):                         0.00\n",
            "Kurtosis:                      55.998   Cond. No.                         440.\n",
            "==============================================================================\n",
            "\n",
            "Warnings:\n",
            "[1] Standard Errors assume that the covariance matrix of the errors is correctly specified.\n",
            "                            OLS Regression Results                            \n",
            "==============================================================================\n",
            "Dep. Variable:                      y   R-squared:                       0.027\n",
            "Model:                            OLS   Adj. R-squared:                  0.027\n",
            "Method:                 Least Squares   F-statistic:                     159.8\n",
            "Date:                Sun, 21 Feb 2021   Prob (F-statistic):          3.56e-102\n",
            "Time:                        03:39:58   Log-Likelihood:            -1.4379e+05\n",
            "No. Observations:               17358   AIC:                         2.876e+05\n",
            "Df Residuals:                   17354   BIC:                         2.876e+05\n",
            "Df Model:                           3                                         \n",
            "Covariance Type:            nonrobust                                         \n",
            "==============================================================================\n",
            "                 coef    std err          t      P>|t|      [0.025      0.975]\n",
            "------------------------------------------------------------------------------\n",
            "const       -308.9287     40.447     -7.638      0.000    -388.209    -229.649\n",
            "x1            -0.8438      0.100     -8.476      0.000      -1.039      -0.649\n",
            "x2            11.3463      1.639      6.921      0.000       8.133      14.560\n",
            "x3             7.0334      0.525     13.407      0.000       6.005       8.062\n",
            "==============================================================================\n",
            "Omnibus:                    29127.055   Durbin-Watson:                   0.085\n",
            "Prob(Omnibus):                  0.000   Jarque-Bera (JB):         25206261.783\n",
            "Skew:                          11.502   Prob(JB):                         0.00\n",
            "Kurtosis:                     188.262   Cond. No.                         440.\n",
            "==============================================================================\n",
            "\n",
            "Warnings:\n",
            "[1] Standard Errors assume that the covariance matrix of the errors is correctly specified.\n",
            "                            OLS Regression Results                            \n",
            "==============================================================================\n",
            "Dep. Variable:                      y   R-squared:                       0.137\n",
            "Model:                            OLS   Adj. R-squared:                  0.137\n",
            "Method:                 Least Squares   F-statistic:                     519.5\n",
            "Date:                Sun, 21 Feb 2021   Prob (F-statistic):          2.50e-313\n",
            "Time:                        03:39:58   Log-Likelihood:                -95025.\n",
            "No. Observations:                9798   AIC:                         1.901e+05\n",
            "Df Residuals:                    9794   BIC:                         1.901e+05\n",
            "Df Model:                           3                                         \n",
            "Covariance Type:            nonrobust                                         \n",
            "==============================================================================\n",
            "                 coef    std err          t      P>|t|      [0.025      0.975]\n",
            "------------------------------------------------------------------------------\n",
            "const      -3984.4342    224.500    -17.748      0.000   -4424.500   -3544.369\n",
            "x1            -9.3323      0.545    -17.115      0.000     -10.401      -8.264\n",
            "x2           135.0169     10.872     12.419      0.000     113.706     156.328\n",
            "x3            68.6953      2.679     25.645      0.000      63.444      73.946\n",
            "==============================================================================\n",
            "Omnibus:                     7947.295   Durbin-Watson:                   0.019\n",
            "Prob(Omnibus):                  0.000   Jarque-Bera (JB):           204545.928\n",
            "Skew:                           3.811   Prob(JB):                         0.00\n",
            "Kurtosis:                      24.046   Cond. No.                         443.\n",
            "==============================================================================\n",
            "\n",
            "Warnings:\n",
            "[1] Standard Errors assume that the covariance matrix of the errors is correctly specified.\n",
            "                            OLS Regression Results                            \n",
            "==============================================================================\n",
            "Dep. Variable:                      y   R-squared:                       0.095\n",
            "Model:                            OLS   Adj. R-squared:                  0.094\n",
            "Method:                 Least Squares   F-statistic:                     268.2\n",
            "Date:                Sun, 21 Feb 2021   Prob (F-statistic):          1.34e-165\n",
            "Time:                        03:39:58   Log-Likelihood:                -66849.\n",
            "No. Observations:                7705   AIC:                         1.337e+05\n",
            "Df Residuals:                    7701   BIC:                         1.337e+05\n",
            "Df Model:                           3                                         \n",
            "Covariance Type:            nonrobust                                         \n",
            "==============================================================================\n",
            "                 coef    std err          t      P>|t|      [0.025      0.975]\n",
            "------------------------------------------------------------------------------\n",
            "const       -623.7648     90.716     -6.876      0.000    -801.592    -445.937\n",
            "x1            -3.1822      0.220    -14.443      0.000      -3.614      -2.750\n",
            "x2             5.0543      3.696      1.368      0.171      -2.190      12.299\n",
            "x3            23.1947      1.084     21.402      0.000      21.070      25.319\n",
            "==============================================================================\n",
            "Omnibus:                     4926.508   Durbin-Watson:                   0.019\n",
            "Prob(Omnibus):                  0.000   Jarque-Bera (JB):            69535.829\n",
            "Skew:                           2.879   Prob(JB):                         0.00\n",
            "Kurtosis:                      16.544   Cond. No.                         435.\n",
            "==============================================================================\n",
            "\n",
            "Warnings:\n",
            "[1] Standard Errors assume that the covariance matrix of the errors is correctly specified.\n"
          ],
          "name": "stdout"
        },
        {
          "output_type": "stream",
          "text": [
            "\n"
          ],
          "name": "stderr"
        }
      ]
    },
    {
      "cell_type": "markdown",
      "metadata": {
        "id": "zcfLTeBWragE"
      },
      "source": [
        "#### Individual States"
      ]
    },
    {
      "cell_type": "code",
      "metadata": {
        "colab": {
          "base_uri": "https://localhost:8080/"
        },
        "id": "b-McIcpkqbIf",
        "outputId": "cd28a791-3e3d-4eed-f8dc-c3bca6e43bf1"
      },
      "source": [
        "from tqdm import tqdm\r\n",
        "pd.options.mode.chained_assignment = None \r\n",
        "# y in  ['deathIncrease', 'hospitalizedIncrease', 'inIcuCurrently', 'onVentilatorCurrently', 'PositiveRate']\r\n",
        "y_variable = 'deathIncrease'\r\n",
        "lag = 14\r\n",
        "coeffs = []\r\n",
        "p_values = []\r\n",
        "r_squared_adjs = []\r\n",
        "states = df.state.unique()\r\n",
        "smoothing = True\r\n",
        "\r\n",
        "# data = weekly_df\r\n",
        "data = df\r\n",
        "data = data.copy()\r\n",
        "\r\n",
        "if smoothing == True:\r\n",
        "# 7 day rolling\r\n",
        "    data[y_variable] = data.groupby('state')[y_variable].rolling(7, min_periods = 1).sum().values\r\n",
        "    for x_col in X_cols:\r\n",
        "        if x_col.split('_')[-1] == 'baseline':\r\n",
        "            data[x_col] = data.groupby('state')[x_col].rolling(7, min_periods = 1).sum().values\r\n",
        "\r\n",
        "\r\n",
        "for state in tqdm(states):\r\n",
        "    df_reg = data[data['state'] == state]\r\n",
        "    df_reg[y_variable] = data[y_variable].shift(lag)\r\n",
        "    df_reg = df_reg[df_reg[y_variable].isna() == False]\r\n",
        "    y = df_reg[y_variable].fillna(0).values\r\n",
        "    x = df_reg[X_cols].fillna(0).values\r\n",
        "    # x = df_reg[['residential_percent_change_from_baseline', 'day_since_record', 'Density']].fillna(0).values\r\n",
        "    x = sm.add_constant(x, has_constant='add')\r\n",
        "    model = sm.OLS(y,x)\r\n",
        "    results = model.fit()\r\n",
        "    coeffs.append(results.params)\r\n",
        "    p_values.append(results.pvalues)\r\n",
        "    r_squared_adjs.append(results.rsquared_adj)\r\n",
        "df_pvalues = pd.DataFrame(p_values, index = states, columns = ['constant'] + X_cols).apply(lambda x: round(x, 4))\r\n",
        "# df_pvalues = pd.DataFrame(p_values, index = states, columns = ['constant', 'residential_percent_change_from_baseline', 'day_since_record', 'Density'] ).apply(lambda x: round(x, 4))\r\n",
        "df_r_square_adj = pd.DataFrame(r_squared_adjs, index = states).apply(lambda x: round(x, 4))\r\n",
        "df_params = pd.DataFrame(coeffs, index = states, columns = ['constant'] + X_cols).apply(lambda x: round(x, 4))\r\n"
      ],
      "execution_count": 113,
      "outputs": [
        {
          "output_type": "stream",
          "text": [
            "100%|██████████| 50/50 [00:00<00:00, 172.99it/s]\n"
          ],
          "name": "stderr"
        }
      ]
    },
    {
      "cell_type": "code",
      "metadata": {
        "colab": {
          "base_uri": "https://localhost:8080/"
        },
        "id": "lgsva7furH8v",
        "outputId": "f8933071-f79d-4512-8a31-ee03a5e692a5"
      },
      "source": [
        "# how many percent statistically significant\r\n",
        "df_pvalues.applymap(lambda x: 1 if x<0.05 else 0).mean()"
      ],
      "execution_count": 114,
      "outputs": [
        {
          "output_type": "execute_result",
          "data": {
            "text/plain": [
              "constant              0.92\n",
              "mobility              0.90\n",
              "AverageTemperature    0.92\n",
              "Urbanization %        0.92\n",
              "dtype: float64"
            ]
          },
          "metadata": {
            "tags": []
          },
          "execution_count": 114
        }
      ]
    },
    {
      "cell_type": "code",
      "metadata": {
        "colab": {
          "base_uri": "https://localhost:8080/"
        },
        "id": "OGuAaMbOrJRh",
        "outputId": "362d15ea-5672-4a3b-dceb-259d52debabe"
      },
      "source": [
        "df_r_square_adj.mean()"
      ],
      "execution_count": 115,
      "outputs": [
        {
          "output_type": "execute_result",
          "data": {
            "text/plain": [
              "0    0.103572\n",
              "dtype: float64"
            ]
          },
          "metadata": {
            "tags": []
          },
          "execution_count": 115
        }
      ]
    },
    {
      "cell_type": "code",
      "metadata": {
        "colab": {
          "base_uri": "https://localhost:8080/"
        },
        "id": "xJNlgtYLrM7m",
        "outputId": "5fd3a721-de18-469e-f423-c726020b5697"
      },
      "source": [
        "df_params.mean()"
      ],
      "execution_count": 117,
      "outputs": [
        {
          "output_type": "execute_result",
          "data": {
            "text/plain": [
              "constant             -2.748972e+09\n",
              "mobility             -1.025456e+00\n",
              "AverageTemperature    2.314893e+11\n",
              "Urbanization %        1.064685e+11\n",
              "dtype: float64"
            ]
          },
          "metadata": {
            "tags": []
          },
          "execution_count": 117
        }
      ]
    },
    {
      "cell_type": "markdown",
      "metadata": {
        "id": "1uZOOnrzFE_n"
      },
      "source": [
        "# Panel Regression(Random Effect)"
      ]
    },
    {
      "cell_type": "code",
      "metadata": {
        "id": "pw6_Yfo30Le2",
        "colab": {
          "base_uri": "https://localhost:8080/",
          "height": 676
        },
        "outputId": "5bb8a2c3-1341-4c44-ebd3-b19a148d4f5a"
      },
      "source": [
        "!pip install linearmodels"
      ],
      "execution_count": 45,
      "outputs": [
        {
          "output_type": "stream",
          "text": [
            "Collecting linearmodels\n",
            "\u001b[?25l  Downloading https://files.pythonhosted.org/packages/23/b6/7f050705cf7fc988863a8676c7e361946ee5972fb2b099907f82954a7021/linearmodels-4.19.tar.gz (1.8MB)\n",
            "\u001b[K     |████████████████████████████████| 1.8MB 4.1MB/s \n",
            "\u001b[?25h  Installing build dependencies ... \u001b[?25l\u001b[?25hdone\n",
            "  Getting requirements to build wheel ... \u001b[?25l\u001b[?25hdone\n",
            "    Preparing wheel metadata ... \u001b[?25l\u001b[?25hdone\n",
            "Collecting mypy-extensions>=0.4\n",
            "  Downloading https://files.pythonhosted.org/packages/5c/eb/975c7c080f3223a5cdaff09612f3a5221e4ba534f7039db34c35d95fa6a5/mypy_extensions-0.4.3-py2.py3-none-any.whl\n",
            "Collecting statsmodels>=0.11\n",
            "\u001b[?25l  Downloading https://files.pythonhosted.org/packages/0d/7b/c17815648dc31396af865b9c6627cc3f95705954e30f61106795361c39ee/statsmodels-0.12.2-cp36-cp36m-manylinux1_x86_64.whl (9.5MB)\n",
            "\u001b[K     |████████████████████████████████| 9.5MB 16.0MB/s \n",
            "\u001b[?25hRequirement already satisfied: scipy>=1.2 in /usr/local/lib/python3.6/dist-packages (from linearmodels) (1.4.1)\n",
            "Requirement already satisfied: patsy in /usr/local/lib/python3.6/dist-packages (from linearmodels) (0.5.1)\n",
            "Collecting property-cached>=1.6.3\n",
            "  Downloading https://files.pythonhosted.org/packages/5c/6c/94d8e520b20a2502e508e1c558f338061cf409cbee78fd6a3a5c6ae812bd/property_cached-1.6.4-py2.py3-none-any.whl\n",
            "Collecting pyhdfe>=0.1\n",
            "  Downloading https://files.pythonhosted.org/packages/81/38/a53257196401029dd34c83c0528de22032d7b602e8bbcaa6d560040d42c2/pyhdfe-0.1.0-py3-none-any.whl\n",
            "Requirement already satisfied: Cython>=0.29.21 in /usr/local/lib/python3.6/dist-packages (from linearmodels) (0.29.21)\n",
            "Requirement already satisfied: numpy>=1.16 in /usr/local/lib/python3.6/dist-packages (from linearmodels) (1.19.5)\n",
            "Requirement already satisfied: pandas>=0.24 in /usr/local/lib/python3.6/dist-packages (from linearmodels) (1.1.5)\n",
            "Requirement already satisfied: six in /usr/local/lib/python3.6/dist-packages (from patsy->linearmodels) (1.15.0)\n",
            "Requirement already satisfied: pytz>=2017.2 in /usr/local/lib/python3.6/dist-packages (from pandas>=0.24->linearmodels) (2018.9)\n",
            "Requirement already satisfied: python-dateutil>=2.7.3 in /usr/local/lib/python3.6/dist-packages (from pandas>=0.24->linearmodels) (2.8.1)\n",
            "Building wheels for collected packages: linearmodels\n",
            "  Building wheel for linearmodels (PEP 517) ... \u001b[?25l\u001b[?25hdone\n",
            "  Created wheel for linearmodels: filename=linearmodels-4.19-cp36-cp36m-linux_x86_64.whl size=1665181 sha256=1da23f0d233bc59bdf5a5f2a7145a8cdef965ae68e8aebb09035ad112e66c78f\n",
            "  Stored in directory: /root/.cache/pip/wheels/dd/64/0e/ee05b98b192012376a8ff7f2130093f7d0706d8e7698b31c0d\n",
            "Successfully built linearmodels\n",
            "Installing collected packages: mypy-extensions, statsmodels, property-cached, pyhdfe, linearmodels\n",
            "  Found existing installation: statsmodels 0.10.2\n",
            "    Uninstalling statsmodels-0.10.2:\n",
            "      Successfully uninstalled statsmodels-0.10.2\n",
            "Successfully installed linearmodels-4.19 mypy-extensions-0.4.3 property-cached-1.6.4 pyhdfe-0.1.0 statsmodels-0.12.2\n"
          ],
          "name": "stdout"
        },
        {
          "output_type": "display_data",
          "data": {
            "application/vnd.colab-display-data+json": {
              "pip_warning": {
                "packages": [
                  "statsmodels"
                ]
              }
            }
          },
          "metadata": {
            "tags": []
          }
        }
      ]
    },
    {
      "cell_type": "code",
      "metadata": {
        "colab": {
          "base_uri": "https://localhost:8080/"
        },
        "id": "7GU4u4cAvxvQ",
        "outputId": "d7b2c00c-f459-4ba8-d1a6-b1bab7d5af2f"
      },
      "source": [
        "from linearmodels import RandomEffects, PanelOLS\r\n",
        "y_variable_options = ['deathIncrease', 'hospitalizedIncrease', 'inIcuCurrently', 'onVentilatorCurrently']\r\n",
        "data = df\r\n",
        "data = data.copy()\r\n",
        "pvlaues = []\r\n",
        "for y_value in y_variable_options:\r\n",
        "    df_reg = data\r\n",
        "    df_reg['date']= pd.to_datetime(df_reg['date'])\r\n",
        "    df_reg = df_reg.set_index(['state','date'])\r\n",
        "    exog = sm.add_constant(df_reg[['mobility']])\r\n",
        "    endog = df_reg[y_value]\r\n",
        "    # random effects model\r\n",
        "    model_re = RandomEffects(endog, exog) \r\n",
        "    re_res = model_re.fit() \r\n",
        "    # fixed effects model\r\n",
        "    model_fe = PanelOLS(endog, exog, entity_effects = True, time_effects=True) \r\n",
        "    fe_res = model_fe.fit() \r\n",
        "    #print results\r\n",
        "    print(re_res)\r\n",
        "    pvlaues.append(re_res.pvalues)\r\n",
        "\r\n",
        "    # print(fe_res)"
      ],
      "execution_count": 103,
      "outputs": [
        {
          "output_type": "stream",
          "text": [
            "                        RandomEffects Estimation Summary                        \n",
            "================================================================================\n",
            "Dep. Variable:          deathIncrease   R-squared:                        0.0291\n",
            "Estimator:              RandomEffects   R-squared (Between):              0.1132\n",
            "No. Observations:               17372   R-squared (Within):               0.0289\n",
            "Date:                Sun, Feb 21 2021   R-squared (Overall):              0.0487\n",
            "Time:                        03:22:35   Log-likelihood                -9.373e+04\n",
            "Cov. Estimator:            Unadjusted                                           \n",
            "                                        F-statistic:                      521.16\n",
            "Entities:                          50   P-value                           0.0000\n",
            "Avg Obs:                       347.44   Distribution:                 F(1,17370)\n",
            "Min Obs:                       343.00                                           \n",
            "Max Obs:                       364.00   F-statistic (robust):             521.36\n",
            "                                        P-value                           0.0000\n",
            "Time periods:                     364   Distribution:                 F(1,17370)\n",
            "Avg Obs:                       47.725                                           \n",
            "Min Obs:                       6.0000                                           \n",
            "Max Obs:                       50.000                                           \n",
            "                                                                                \n",
            "                             Parameter Estimates                              \n",
            "==============================================================================\n",
            "            Parameter  Std. Err.     T-stat    P-value    Lower CI    Upper CI\n",
            "------------------------------------------------------------------------------\n",
            "const          26.829     3.9183     6.8471     0.0000      19.149      34.509\n",
            "mobility      -0.1351     0.0059    -22.833     0.0000     -0.1467     -0.1235\n",
            "==============================================================================\n",
            "                         RandomEffects Estimation Summary                         \n",
            "==================================================================================\n",
            "Dep. Variable:     hospitalizedIncrease   R-squared:                        0.0040\n",
            "Estimator:                RandomEffects   R-squared (Between):              0.0326\n",
            "No. Observations:                 17372   R-squared (Within):               0.0040\n",
            "Date:                  Sun, Feb 21 2021   R-squared (Overall):              0.0060\n",
            "Time:                          03:22:36   Log-likelihood                -1.184e+05\n",
            "Cov. Estimator:              Unadjusted                                           \n",
            "                                          F-statistic:                      70.550\n",
            "Entities:                            50   P-value                           0.0000\n",
            "Avg Obs:                         347.44   Distribution:                 F(1,17370)\n",
            "Min Obs:                         343.00                                           \n",
            "Max Obs:                         364.00   F-statistic (robust):             70.775\n",
            "                                          P-value                           0.0000\n",
            "Time periods:                       364   Distribution:                 F(1,17370)\n",
            "Avg Obs:                         47.725                                           \n",
            "Min Obs:                         6.0000                                           \n",
            "Max Obs:                         50.000                                           \n",
            "                                                                                  \n",
            "                             Parameter Estimates                              \n",
            "==============================================================================\n",
            "            Parameter  Std. Err.     T-stat    P-value    Lower CI    Upper CI\n",
            "------------------------------------------------------------------------------\n",
            "const          47.970     8.5402     5.6170     0.0000      31.231      64.710\n",
            "mobility      -0.2046     0.0243    -8.4128     0.0000     -0.2523     -0.1569\n",
            "==============================================================================\n"
          ],
          "name": "stdout"
        },
        {
          "output_type": "stream",
          "text": [
            "/usr/local/lib/python3.6/dist-packages/linearmodels/shared/exceptions.py:35: MissingValueWarning:\n",
            "\n",
            "\n",
            "Inputs contain missing values. Dropping rows with missing observations.\n",
            "\n"
          ],
          "name": "stderr"
        },
        {
          "output_type": "stream",
          "text": [
            "                        RandomEffects Estimation Summary                        \n",
            "================================================================================\n",
            "Dep. Variable:         inIcuCurrently   R-squared:                        0.0574\n",
            "Estimator:              RandomEffects   R-squared (Between):              0.0612\n",
            "No. Observations:                9775   R-squared (Within):               0.0575\n",
            "Date:                Sun, Feb 21 2021   R-squared (Overall):              0.0677\n",
            "Time:                        03:22:37   Log-likelihood                -7.196e+04\n",
            "Cov. Estimator:            Unadjusted                                           \n",
            "                                        F-statistic:                      595.51\n",
            "Entities:                          40   P-value                           0.0000\n",
            "Avg Obs:                       244.38   Distribution:                  F(1,9773)\n",
            "Min Obs:                       2.0000                                           \n",
            "Max Obs:                       324.00   F-statistic (robust):             595.86\n",
            "                                        P-value                           0.0000\n",
            "Time periods:                     324   Distribution:                  F(1,9773)\n",
            "Avg Obs:                       30.170                                           \n",
            "Min Obs:                       2.0000                                           \n",
            "Max Obs:                       39.000                                           \n",
            "                                                                                \n",
            "                             Parameter Estimates                              \n",
            "==============================================================================\n",
            "            Parameter  Std. Err.     T-stat    P-value    Lower CI    Upper CI\n",
            "------------------------------------------------------------------------------\n",
            "const          359.86     72.277     4.9789     0.0000      218.18      501.53\n",
            "mobility      -1.4308     0.0586    -24.410     0.0000     -1.5457     -1.3159\n",
            "==============================================================================\n",
            "                          RandomEffects Estimation Summary                         \n",
            "===================================================================================\n",
            "Dep. Variable:     onVentilatorCurrently   R-squared:                        0.1247\n",
            "Estimator:                 RandomEffects   R-squared (Between):             -0.0779\n",
            "No. Observations:                   7668   R-squared (Within):               0.1256\n",
            "Date:                   Sun, Feb 21 2021   R-squared (Overall):              0.0620\n",
            "Time:                           03:22:38   Log-likelihood                    -5e+04\n",
            "Cov. Estimator:               Unadjusted                                           \n",
            "                                           F-statistic:                      1091.8\n",
            "Entities:                             33   P-value                           0.0000\n",
            "Avg Obs:                          232.36   Distribution:                  F(1,7666)\n",
            "Min Obs:                          1.0000                                           \n",
            "Max Obs:                          325.00   F-statistic (robust):             1093.8\n",
            "                                           P-value                           0.0000\n",
            "Time periods:                        325   Distribution:                  F(1,7666)\n",
            "Avg Obs:                          23.594                                           \n",
            "Min Obs:                          2.0000                                           \n",
            "Max Obs:                          29.000                                           \n",
            "                                                                                   \n",
            "                             Parameter Estimates                              \n",
            "==============================================================================\n",
            "            Parameter  Std. Err.     T-stat    P-value    Lower CI    Upper CI\n",
            "------------------------------------------------------------------------------\n",
            "const          146.98     22.829     6.4383     0.0000      102.23      191.73\n",
            "mobility      -0.9333     0.0282    -33.073     0.0000     -0.9886     -0.8779\n",
            "==============================================================================\n",
            "[const       7.789103e-12\n",
            "mobility    0.000000e+00\n",
            "Name: pvalue, dtype: float64, const       1.972852e-08\n",
            "mobility    0.000000e+00\n",
            "Name: pvalue, dtype: float64, const       6.504999e-07\n",
            "mobility    0.000000e+00\n",
            "Name: pvalue, dtype: float64, const       1.281160e-10\n",
            "mobility    0.000000e+00\n",
            "Name: pvalue, dtype: float64]\n"
          ],
          "name": "stdout"
        }
      ]
    },
    {
      "cell_type": "code",
      "metadata": {
        "id": "ELnaWThkomWf"
      },
      "source": [
        ""
      ],
      "execution_count": null,
      "outputs": []
    },
    {
      "cell_type": "code",
      "metadata": {
        "id": "q7RXCRj4zLnD"
      },
      "source": [
        ""
      ],
      "execution_count": null,
      "outputs": []
    },
    {
      "cell_type": "code",
      "metadata": {
        "id": "-ner2jJ_zgIv"
      },
      "source": [
        ""
      ],
      "execution_count": null,
      "outputs": []
    }
  ]
}