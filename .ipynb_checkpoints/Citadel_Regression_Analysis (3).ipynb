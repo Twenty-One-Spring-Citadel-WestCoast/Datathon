{
  "nbformat": 4,
  "nbformat_minor": 0,
  "metadata": {
    "colab": {
      "name": "Citadel_Regression_Analysis.ipynb",
      "provenance": [],
      "toc_visible": true
    },
    "kernelspec": {
      "name": "python3",
      "display_name": "Python 3"
    }
  },
  "cells": [
    {
      "cell_type": "code",
      "metadata": {
        "id": "FHuWKPxSKQf1"
      },
      "source": [
        "import pandas as pd\r\n",
        "import numpy as np\r\n",
        "import json\r\n",
        "import statsmodels.api as sm\r\n",
        "import plotly.graph_objects as go\r\n",
        "import plotly.express as px"
      ],
      "execution_count": 1,
      "outputs": []
    },
    {
      "cell_type": "code",
      "metadata": {
        "id": "0E-GoeKMCILq"
      },
      "source": [
        ""
      ],
      "execution_count": 1,
      "outputs": []
    },
    {
      "cell_type": "code",
      "metadata": {
        "id": "vEj7yq8I0CqO"
      },
      "source": [
        "policy_cols = ['C1_School closing', 'C1_Flag',\r\n",
        "       'C2_Workplace closing', 'C2_Flag', 'C3_Cancel public events',\r\n",
        "       'C3_Flag', 'C4_Restrictions on gatherings', 'C4_Flag',\r\n",
        "       'C5_Close public transport', 'C5_Flag',\r\n",
        "       'C6_Stay at home requirements', 'C6_Flag',\r\n",
        "       'C7_Restrictions on internal movement', 'C7_Flag',\r\n",
        "       'C8_International travel controls']\r\n",
        "policy = pd.read_csv('/content/drive/MyDrive/Citadel/data/new_folder/daily_df.csv')[policy_cols + ['date', 'state']].fillna(0)\r\n"
      ],
      "execution_count": 2,
      "outputs": []
    },
    {
      "cell_type": "code",
      "metadata": {
        "colab": {
          "base_uri": "https://localhost:8080/"
        },
        "id": "ST5SEuJmKiZK",
        "outputId": "15b17e7c-508a-4b73-871b-c00633100a18"
      },
      "source": [
        "\r\n",
        "mobility = pd.read_csv('/content/drive/MyDrive/Citadel/data/new_folder/US_mobility_state_cleaned.csv')\r\n",
        "tracking = pd.read_csv('/content/drive/MyDrive/Citadel/data/3_covidtracking/all-states-history.csv')\r\n",
        "temperature = pd.read_csv('/content/drive/MyDrive/Citadel/data/new_folder/us_cross_sectional.csv')[['state', 'AverageTemperature']]\r\n",
        "urbanization = pd.read_csv('/content/drive/MyDrive/Citadel/data/new_folder/educationStateDataset.csv')[['State', 'Urbanization %']].rename(columns = {'State':'state'})\r\n",
        "\r\n",
        "\r\n",
        "with open('/content/drive/MyDrive/Citadel/data/new_folder/states_hash.json', 'r+') as file:\r\n",
        "    states_hash = json.load(file)\r\n",
        "states_hash = { v:k for (k,v) in states_hash.items()}\r\n",
        "mobility['state'] = mobility['state'].map(states_hash)\r\n",
        "temperature['state'] = temperature['state'].map(states_hash)\r\n",
        "df = tracking.merge(mobility, on = ['date','state'], suffixes = ['_tracking', '_mobility'])\r\n",
        "df = df.merge(temperature, on ='state', how = 'left' )\r\n",
        "df = df.merge(urbanization, on ='state', how = 'left' )\r\n",
        "df = df.merge(policy, on =['state', 'date'], how = 'left' )\r\n",
        "\r\n",
        "#tentative\r\n",
        "\r\n",
        "\r\n",
        "df.isna().mean().sort_values().tail(5)"
      ],
      "execution_count": 3,
      "outputs": [
        {
          "output_type": "execute_result",
          "data": {
            "text/plain": [
              "C2_Workplace closing                1.0\n",
              "C1_Flag                             1.0\n",
              "C1_School closing                   1.0\n",
              "C4_Restrictions on gatherings       1.0\n",
              "C8_International travel controls    1.0\n",
              "dtype: float64"
            ]
          },
          "metadata": {
            "tags": []
          },
          "execution_count": 3
        }
      ]
    },
    {
      "cell_type": "code",
      "metadata": {
        "id": "SOQ5BBt3by9Z"
      },
      "source": [
        ""
      ],
      "execution_count": 3,
      "outputs": []
    },
    {
      "cell_type": "markdown",
      "metadata": {
        "id": "fPjaRPWhOAmw"
      },
      "source": [
        "### the metrics to use: deathIncrease, hospitalizedIncrease, inIcuCurrently, onVentilatorCurrently, PositiveRate"
      ]
    },
    {
      "cell_type": "code",
      "metadata": {
        "colab": {
          "base_uri": "https://localhost:8080/",
          "height": 147
        },
        "id": "81x562gZRSqo",
        "outputId": "58b0f4a5-0eee-4664-e0f9-1d4d2b218d99"
      },
      "source": [
        "\r\n",
        "df = df.sort_values(by = ['state', 'date'])\r\n",
        "df['date'] = pd.to_datetime(df['date'])\r\n",
        "df['day_since_record'] = df.groupby('state')['date'].rank(ascending = True, method = 'first')\r\n",
        "df['resident'] = df.groupby('state')['residential_percent_change_from_baseline'].cumprod()\r\n",
        "df.head(1)"
      ],
      "execution_count": 4,
      "outputs": [
        {
          "output_type": "execute_result",
          "data": {
            "text/html": [
              "<div>\n",
              "<style scoped>\n",
              "    .dataframe tbody tr th:only-of-type {\n",
              "        vertical-align: middle;\n",
              "    }\n",
              "\n",
              "    .dataframe tbody tr th {\n",
              "        vertical-align: top;\n",
              "    }\n",
              "\n",
              "    .dataframe thead th {\n",
              "        text-align: right;\n",
              "    }\n",
              "</style>\n",
              "<table border=\"1\" class=\"dataframe\">\n",
              "  <thead>\n",
              "    <tr style=\"text-align: right;\">\n",
              "      <th></th>\n",
              "      <th>date</th>\n",
              "      <th>state</th>\n",
              "      <th>death</th>\n",
              "      <th>deathConfirmed</th>\n",
              "      <th>deathIncrease</th>\n",
              "      <th>deathProbable</th>\n",
              "      <th>hospitalized</th>\n",
              "      <th>hospitalizedCumulative</th>\n",
              "      <th>hospitalizedCurrently</th>\n",
              "      <th>hospitalizedIncrease</th>\n",
              "      <th>inIcuCumulative</th>\n",
              "      <th>inIcuCurrently</th>\n",
              "      <th>negative</th>\n",
              "      <th>negativeIncrease</th>\n",
              "      <th>negativeTestsAntibody</th>\n",
              "      <th>negativeTestsPeopleAntibody</th>\n",
              "      <th>negativeTestsViral</th>\n",
              "      <th>onVentilatorCumulative</th>\n",
              "      <th>onVentilatorCurrently</th>\n",
              "      <th>positive</th>\n",
              "      <th>positiveCasesViral</th>\n",
              "      <th>positiveIncrease</th>\n",
              "      <th>positiveScore</th>\n",
              "      <th>positiveTestsAntibody</th>\n",
              "      <th>positiveTestsAntigen</th>\n",
              "      <th>positiveTestsPeopleAntibody</th>\n",
              "      <th>positiveTestsPeopleAntigen</th>\n",
              "      <th>positiveTestsViral</th>\n",
              "      <th>recovered</th>\n",
              "      <th>totalTestEncountersViral</th>\n",
              "      <th>totalTestEncountersViralIncrease</th>\n",
              "      <th>totalTestResults</th>\n",
              "      <th>totalTestResultsIncrease</th>\n",
              "      <th>totalTestsAntibody</th>\n",
              "      <th>totalTestsAntigen</th>\n",
              "      <th>totalTestsPeopleAntibody</th>\n",
              "      <th>totalTestsPeopleAntigen</th>\n",
              "      <th>totalTestsPeopleViral</th>\n",
              "      <th>totalTestsPeopleViralIncrease</th>\n",
              "      <th>totalTestsViral</th>\n",
              "      <th>totalTestsViralIncrease</th>\n",
              "      <th>Unnamed: 0</th>\n",
              "      <th>retail_and_recreation_percent_change_from_baseline</th>\n",
              "      <th>grocery_and_pharmacy_percent_change_from_baseline</th>\n",
              "      <th>parks_percent_change_from_baseline</th>\n",
              "      <th>transit_stations_percent_change_from_baseline</th>\n",
              "      <th>workplaces_percent_change_from_baseline</th>\n",
              "      <th>residential_percent_change_from_baseline</th>\n",
              "      <th>AverageTemperature</th>\n",
              "      <th>Urbanization %</th>\n",
              "      <th>C1_School closing</th>\n",
              "      <th>C1_Flag</th>\n",
              "      <th>C2_Workplace closing</th>\n",
              "      <th>C2_Flag</th>\n",
              "      <th>C3_Cancel public events</th>\n",
              "      <th>C3_Flag</th>\n",
              "      <th>C4_Restrictions on gatherings</th>\n",
              "      <th>C4_Flag</th>\n",
              "      <th>C5_Close public transport</th>\n",
              "      <th>C5_Flag</th>\n",
              "      <th>C6_Stay at home requirements</th>\n",
              "      <th>C6_Flag</th>\n",
              "      <th>C7_Restrictions on internal movement</th>\n",
              "      <th>C7_Flag</th>\n",
              "      <th>C8_International travel controls</th>\n",
              "      <th>day_since_record</th>\n",
              "      <th>resident</th>\n",
              "    </tr>\n",
              "  </thead>\n",
              "  <tbody>\n",
              "    <tr>\n",
              "      <th>17150</th>\n",
              "      <td>2020-03-06</td>\n",
              "      <td>AK</td>\n",
              "      <td>0.0</td>\n",
              "      <td>NaN</td>\n",
              "      <td>0</td>\n",
              "      <td>NaN</td>\n",
              "      <td>NaN</td>\n",
              "      <td>NaN</td>\n",
              "      <td>NaN</td>\n",
              "      <td>0</td>\n",
              "      <td>NaN</td>\n",
              "      <td>NaN</td>\n",
              "      <td>NaN</td>\n",
              "      <td>0</td>\n",
              "      <td>NaN</td>\n",
              "      <td>NaN</td>\n",
              "      <td>NaN</td>\n",
              "      <td>NaN</td>\n",
              "      <td>NaN</td>\n",
              "      <td>NaN</td>\n",
              "      <td>NaN</td>\n",
              "      <td>0</td>\n",
              "      <td>0</td>\n",
              "      <td>NaN</td>\n",
              "      <td>NaN</td>\n",
              "      <td>NaN</td>\n",
              "      <td>NaN</td>\n",
              "      <td>NaN</td>\n",
              "      <td>NaN</td>\n",
              "      <td>NaN</td>\n",
              "      <td>0</td>\n",
              "      <td>8.0</td>\n",
              "      <td>0</td>\n",
              "      <td>NaN</td>\n",
              "      <td>NaN</td>\n",
              "      <td>NaN</td>\n",
              "      <td>NaN</td>\n",
              "      <td>NaN</td>\n",
              "      <td>0</td>\n",
              "      <td>8.0</td>\n",
              "      <td>8</td>\n",
              "      <td>23119</td>\n",
              "      <td>9.0</td>\n",
              "      <td>4.0</td>\n",
              "      <td>10.0</td>\n",
              "      <td>9.0</td>\n",
              "      <td>0.0</td>\n",
              "      <td>1.0</td>\n",
              "      <td>-3.0</td>\n",
              "      <td>66.0</td>\n",
              "      <td>NaN</td>\n",
              "      <td>NaN</td>\n",
              "      <td>NaN</td>\n",
              "      <td>NaN</td>\n",
              "      <td>NaN</td>\n",
              "      <td>NaN</td>\n",
              "      <td>NaN</td>\n",
              "      <td>NaN</td>\n",
              "      <td>NaN</td>\n",
              "      <td>NaN</td>\n",
              "      <td>NaN</td>\n",
              "      <td>NaN</td>\n",
              "      <td>NaN</td>\n",
              "      <td>NaN</td>\n",
              "      <td>NaN</td>\n",
              "      <td>1.0</td>\n",
              "      <td>1.0</td>\n",
              "    </tr>\n",
              "  </tbody>\n",
              "</table>\n",
              "</div>"
            ],
            "text/plain": [
              "            date state  ...  day_since_record  resident\n",
              "17150 2020-03-06    AK  ...               1.0       1.0\n",
              "\n",
              "[1 rows x 67 columns]"
            ]
          },
          "metadata": {
            "tags": []
          },
          "execution_count": 4
        }
      ]
    },
    {
      "cell_type": "code",
      "metadata": {
        "colab": {
          "base_uri": "https://localhost:8080/",
          "height": 106
        },
        "id": "k0GgyFO4eiYQ",
        "outputId": "f2faa40f-a3ff-4fa1-dbc5-4622d8593bcc"
      },
      "source": [
        "df['deathIncreaseDiff'] = df['deathIncrease'] - df['deathIncrease'].shift(1)\r\n",
        "df[['deathIncreaseDiff', 'residential_percent_change_from_baseline']].corr()"
      ],
      "execution_count": 5,
      "outputs": [
        {
          "output_type": "execute_result",
          "data": {
            "text/html": [
              "<div>\n",
              "<style scoped>\n",
              "    .dataframe tbody tr th:only-of-type {\n",
              "        vertical-align: middle;\n",
              "    }\n",
              "\n",
              "    .dataframe tbody tr th {\n",
              "        vertical-align: top;\n",
              "    }\n",
              "\n",
              "    .dataframe thead th {\n",
              "        text-align: right;\n",
              "    }\n",
              "</style>\n",
              "<table border=\"1\" class=\"dataframe\">\n",
              "  <thead>\n",
              "    <tr style=\"text-align: right;\">\n",
              "      <th></th>\n",
              "      <th>deathIncreaseDiff</th>\n",
              "      <th>residential_percent_change_from_baseline</th>\n",
              "    </tr>\n",
              "  </thead>\n",
              "  <tbody>\n",
              "    <tr>\n",
              "      <th>deathIncreaseDiff</th>\n",
              "      <td>1.000000</td>\n",
              "      <td>0.047458</td>\n",
              "    </tr>\n",
              "    <tr>\n",
              "      <th>residential_percent_change_from_baseline</th>\n",
              "      <td>0.047458</td>\n",
              "      <td>1.000000</td>\n",
              "    </tr>\n",
              "  </tbody>\n",
              "</table>\n",
              "</div>"
            ],
            "text/plain": [
              "                                          deathIncreaseDiff  residential_percent_change_from_baseline\n",
              "deathIncreaseDiff                                  1.000000                                  0.047458\n",
              "residential_percent_change_from_baseline           0.047458                                  1.000000"
            ]
          },
          "metadata": {
            "tags": []
          },
          "execution_count": 5
        }
      ]
    },
    {
      "cell_type": "code",
      "metadata": {
        "colab": {
          "base_uri": "https://localhost:8080/"
        },
        "id": "gH-y2lzCNxQR",
        "outputId": "3036e372-cd5a-4f4a-9aa9-07e122d2691a"
      },
      "source": [
        "#since the death nan data date are at the beginning of the pandemic, it is likely it has not been recorded. Set it to 0\r\n",
        "df[df['death'].isna()].date.unique().max()"
      ],
      "execution_count": 6,
      "outputs": [
        {
          "output_type": "execute_result",
          "data": {
            "text/plain": [
              "numpy.datetime64('2020-03-31T00:00:00.000000000')"
            ]
          },
          "metadata": {
            "tags": []
          },
          "execution_count": 6
        }
      ]
    },
    {
      "cell_type": "code",
      "metadata": {
        "id": "mTqxMlCEX2AX"
      },
      "source": [
        ""
      ],
      "execution_count": 6,
      "outputs": []
    },
    {
      "cell_type": "markdown",
      "metadata": {
        "id": "0OCoMU0IZofz"
      },
      "source": [
        "# An overall OLS regression analysis on all state data"
      ]
    },
    {
      "cell_type": "code",
      "metadata": {
        "id": "-usr6qE2qvxL",
        "colab": {
          "base_uri": "https://localhost:8080/"
        },
        "outputId": "cfe13dac-b108-4b4d-fd6c-7404b4efde1b"
      },
      "source": [
        "X_cols = ['AverageTemperature', 'Urbanization %']\r\n",
        "base = ['retail_and_recreation_percent_change_from_baseline','grocery_and_pharmacy_percent_change_from_baseline','parks_percent_change_from_baseline','transit_stations_percent_change_from_baseline','workplaces_percent_change_from_baseline','residential_percent_change_from_baseline']\r\n",
        "X_cols = base + X_cols \r\n",
        "\r\n",
        "# X_cols = base\r\n",
        "X_cols"
      ],
      "execution_count": 7,
      "outputs": [
        {
          "output_type": "execute_result",
          "data": {
            "text/plain": [
              "['retail_and_recreation_percent_change_from_baseline',\n",
              " 'grocery_and_pharmacy_percent_change_from_baseline',\n",
              " 'parks_percent_change_from_baseline',\n",
              " 'transit_stations_percent_change_from_baseline',\n",
              " 'workplaces_percent_change_from_baseline',\n",
              " 'residential_percent_change_from_baseline',\n",
              " 'AverageTemperature',\n",
              " 'Urbanization %']"
            ]
          },
          "metadata": {
            "tags": []
          },
          "execution_count": 7
        }
      ]
    },
    {
      "cell_type": "code",
      "metadata": {
        "colab": {
          "base_uri": "https://localhost:8080/",
          "height": 147
        },
        "id": "he_ZJUYnd737",
        "outputId": "88683ae4-3d27-4811-dcef-4c941e447cb8"
      },
      "source": [
        "df.head(1)"
      ],
      "execution_count": 8,
      "outputs": [
        {
          "output_type": "execute_result",
          "data": {
            "text/html": [
              "<div>\n",
              "<style scoped>\n",
              "    .dataframe tbody tr th:only-of-type {\n",
              "        vertical-align: middle;\n",
              "    }\n",
              "\n",
              "    .dataframe tbody tr th {\n",
              "        vertical-align: top;\n",
              "    }\n",
              "\n",
              "    .dataframe thead th {\n",
              "        text-align: right;\n",
              "    }\n",
              "</style>\n",
              "<table border=\"1\" class=\"dataframe\">\n",
              "  <thead>\n",
              "    <tr style=\"text-align: right;\">\n",
              "      <th></th>\n",
              "      <th>date</th>\n",
              "      <th>state</th>\n",
              "      <th>death</th>\n",
              "      <th>deathConfirmed</th>\n",
              "      <th>deathIncrease</th>\n",
              "      <th>deathProbable</th>\n",
              "      <th>hospitalized</th>\n",
              "      <th>hospitalizedCumulative</th>\n",
              "      <th>hospitalizedCurrently</th>\n",
              "      <th>hospitalizedIncrease</th>\n",
              "      <th>inIcuCumulative</th>\n",
              "      <th>inIcuCurrently</th>\n",
              "      <th>negative</th>\n",
              "      <th>negativeIncrease</th>\n",
              "      <th>negativeTestsAntibody</th>\n",
              "      <th>negativeTestsPeopleAntibody</th>\n",
              "      <th>negativeTestsViral</th>\n",
              "      <th>onVentilatorCumulative</th>\n",
              "      <th>onVentilatorCurrently</th>\n",
              "      <th>positive</th>\n",
              "      <th>positiveCasesViral</th>\n",
              "      <th>positiveIncrease</th>\n",
              "      <th>positiveScore</th>\n",
              "      <th>positiveTestsAntibody</th>\n",
              "      <th>positiveTestsAntigen</th>\n",
              "      <th>positiveTestsPeopleAntibody</th>\n",
              "      <th>positiveTestsPeopleAntigen</th>\n",
              "      <th>positiveTestsViral</th>\n",
              "      <th>recovered</th>\n",
              "      <th>totalTestEncountersViral</th>\n",
              "      <th>totalTestEncountersViralIncrease</th>\n",
              "      <th>totalTestResults</th>\n",
              "      <th>totalTestResultsIncrease</th>\n",
              "      <th>totalTestsAntibody</th>\n",
              "      <th>totalTestsAntigen</th>\n",
              "      <th>totalTestsPeopleAntibody</th>\n",
              "      <th>totalTestsPeopleAntigen</th>\n",
              "      <th>totalTestsPeopleViral</th>\n",
              "      <th>totalTestsPeopleViralIncrease</th>\n",
              "      <th>totalTestsViral</th>\n",
              "      <th>totalTestsViralIncrease</th>\n",
              "      <th>Unnamed: 0</th>\n",
              "      <th>retail_and_recreation_percent_change_from_baseline</th>\n",
              "      <th>grocery_and_pharmacy_percent_change_from_baseline</th>\n",
              "      <th>parks_percent_change_from_baseline</th>\n",
              "      <th>transit_stations_percent_change_from_baseline</th>\n",
              "      <th>workplaces_percent_change_from_baseline</th>\n",
              "      <th>residential_percent_change_from_baseline</th>\n",
              "      <th>AverageTemperature</th>\n",
              "      <th>Urbanization %</th>\n",
              "      <th>C1_School closing</th>\n",
              "      <th>C1_Flag</th>\n",
              "      <th>C2_Workplace closing</th>\n",
              "      <th>C2_Flag</th>\n",
              "      <th>C3_Cancel public events</th>\n",
              "      <th>C3_Flag</th>\n",
              "      <th>C4_Restrictions on gatherings</th>\n",
              "      <th>C4_Flag</th>\n",
              "      <th>C5_Close public transport</th>\n",
              "      <th>C5_Flag</th>\n",
              "      <th>C6_Stay at home requirements</th>\n",
              "      <th>C6_Flag</th>\n",
              "      <th>C7_Restrictions on internal movement</th>\n",
              "      <th>C7_Flag</th>\n",
              "      <th>C8_International travel controls</th>\n",
              "      <th>day_since_record</th>\n",
              "      <th>resident</th>\n",
              "      <th>deathIncreaseDiff</th>\n",
              "    </tr>\n",
              "  </thead>\n",
              "  <tbody>\n",
              "    <tr>\n",
              "      <th>17150</th>\n",
              "      <td>2020-03-06</td>\n",
              "      <td>AK</td>\n",
              "      <td>0.0</td>\n",
              "      <td>NaN</td>\n",
              "      <td>0</td>\n",
              "      <td>NaN</td>\n",
              "      <td>NaN</td>\n",
              "      <td>NaN</td>\n",
              "      <td>NaN</td>\n",
              "      <td>0</td>\n",
              "      <td>NaN</td>\n",
              "      <td>NaN</td>\n",
              "      <td>NaN</td>\n",
              "      <td>0</td>\n",
              "      <td>NaN</td>\n",
              "      <td>NaN</td>\n",
              "      <td>NaN</td>\n",
              "      <td>NaN</td>\n",
              "      <td>NaN</td>\n",
              "      <td>NaN</td>\n",
              "      <td>NaN</td>\n",
              "      <td>0</td>\n",
              "      <td>0</td>\n",
              "      <td>NaN</td>\n",
              "      <td>NaN</td>\n",
              "      <td>NaN</td>\n",
              "      <td>NaN</td>\n",
              "      <td>NaN</td>\n",
              "      <td>NaN</td>\n",
              "      <td>NaN</td>\n",
              "      <td>0</td>\n",
              "      <td>8.0</td>\n",
              "      <td>0</td>\n",
              "      <td>NaN</td>\n",
              "      <td>NaN</td>\n",
              "      <td>NaN</td>\n",
              "      <td>NaN</td>\n",
              "      <td>NaN</td>\n",
              "      <td>0</td>\n",
              "      <td>8.0</td>\n",
              "      <td>8</td>\n",
              "      <td>23119</td>\n",
              "      <td>9.0</td>\n",
              "      <td>4.0</td>\n",
              "      <td>10.0</td>\n",
              "      <td>9.0</td>\n",
              "      <td>0.0</td>\n",
              "      <td>1.0</td>\n",
              "      <td>-3.0</td>\n",
              "      <td>66.0</td>\n",
              "      <td>NaN</td>\n",
              "      <td>NaN</td>\n",
              "      <td>NaN</td>\n",
              "      <td>NaN</td>\n",
              "      <td>NaN</td>\n",
              "      <td>NaN</td>\n",
              "      <td>NaN</td>\n",
              "      <td>NaN</td>\n",
              "      <td>NaN</td>\n",
              "      <td>NaN</td>\n",
              "      <td>NaN</td>\n",
              "      <td>NaN</td>\n",
              "      <td>NaN</td>\n",
              "      <td>NaN</td>\n",
              "      <td>NaN</td>\n",
              "      <td>1.0</td>\n",
              "      <td>1.0</td>\n",
              "      <td>NaN</td>\n",
              "    </tr>\n",
              "  </tbody>\n",
              "</table>\n",
              "</div>"
            ],
            "text/plain": [
              "            date state  death  ...  day_since_record  resident  deathIncreaseDiff\n",
              "17150 2020-03-06    AK    0.0  ...               1.0       1.0                NaN\n",
              "\n",
              "[1 rows x 68 columns]"
            ]
          },
          "metadata": {
            "tags": []
          },
          "execution_count": 8
        }
      ]
    },
    {
      "cell_type": "code",
      "metadata": {
        "id": "q7euffa7d2t6"
      },
      "source": [
        "# df= df[df.date > pd.to_datetime('2020-04-01')]"
      ],
      "execution_count": 9,
      "outputs": []
    },
    {
      "cell_type": "code",
      "metadata": {
        "id": "P6Ev8QBEYrIm"
      },
      "source": [
        ""
      ],
      "execution_count": 9,
      "outputs": []
    },
    {
      "cell_type": "code",
      "metadata": {
        "colab": {
          "base_uri": "https://localhost:8080/",
          "height": 542
        },
        "id": "FB6rg7x9dCoN",
        "outputId": "4f3db2ce-536b-42c8-8197-d69c40810d3b"
      },
      "source": [
        "px.line(data_frame = df[df.state == 'CA'], y = 'residential_percent_change_from_baseline', x = 'date')"
      ],
      "execution_count": 10,
      "outputs": [
        {
          "output_type": "display_data",
          "data": {
            "text/html": [
              "<html>\n",
              "<head><meta charset=\"utf-8\" /></head>\n",
              "<body>\n",
              "    <div>\n",
              "            <script src=\"https://cdnjs.cloudflare.com/ajax/libs/mathjax/2.7.5/MathJax.js?config=TeX-AMS-MML_SVG\"></script><script type=\"text/javascript\">if (window.MathJax) {MathJax.Hub.Config({SVG: {font: \"STIX-Web\"}});}</script>\n",
              "                <script type=\"text/javascript\">window.PlotlyConfig = {MathJaxConfig: 'local'};</script>\n",
              "        <script src=\"https://cdn.plot.ly/plotly-latest.min.js\"></script>    \n",
              "            <div id=\"ddcdea10-c1ff-49f0-9184-eb2d8c9dd9c2\" class=\"plotly-graph-div\" style=\"height:525px; width:100%;\"></div>\n",
              "            <script type=\"text/javascript\">\n",
              "                \n",
              "                    window.PLOTLYENV=window.PLOTLYENV || {};\n",
              "                    \n",
              "                if (document.getElementById(\"ddcdea10-c1ff-49f0-9184-eb2d8c9dd9c2\")) {\n",
              "                    Plotly.newPlot(\n",
              "                        'ddcdea10-c1ff-49f0-9184-eb2d8c9dd9c2',\n",
              "                        [{\"hoverlabel\": {\"namelength\": 0}, \"hovertemplate\": \"date=%{x}<br>residential_percent_change_from_baseline=%{y}\", \"legendgroup\": \"\", \"line\": {\"color\": \"#636efa\", \"dash\": \"solid\"}, \"mode\": \"lines\", \"name\": \"\", \"showlegend\": false, \"type\": \"scatter\", \"x\": [\"2020-03-04T00:00:00\", \"2020-03-05T00:00:00\", \"2020-03-06T00:00:00\", \"2020-03-07T00:00:00\", \"2020-03-08T00:00:00\", \"2020-03-09T00:00:00\", \"2020-03-10T00:00:00\", \"2020-03-11T00:00:00\", \"2020-03-12T00:00:00\", \"2020-03-13T00:00:00\", \"2020-03-14T00:00:00\", \"2020-03-15T00:00:00\", \"2020-03-16T00:00:00\", \"2020-03-17T00:00:00\", \"2020-03-18T00:00:00\", \"2020-03-19T00:00:00\", \"2020-03-20T00:00:00\", \"2020-03-21T00:00:00\", \"2020-03-22T00:00:00\", \"2020-03-23T00:00:00\", \"2020-03-24T00:00:00\", \"2020-03-25T00:00:00\", \"2020-03-26T00:00:00\", \"2020-03-27T00:00:00\", \"2020-03-28T00:00:00\", \"2020-03-29T00:00:00\", \"2020-03-30T00:00:00\", \"2020-03-31T00:00:00\", \"2020-04-01T00:00:00\", \"2020-04-02T00:00:00\", \"2020-04-03T00:00:00\", \"2020-04-04T00:00:00\", \"2020-04-05T00:00:00\", \"2020-04-06T00:00:00\", \"2020-04-07T00:00:00\", \"2020-04-08T00:00:00\", \"2020-04-09T00:00:00\", \"2020-04-10T00:00:00\", \"2020-04-11T00:00:00\", \"2020-04-12T00:00:00\", \"2020-04-13T00:00:00\", \"2020-04-14T00:00:00\", \"2020-04-15T00:00:00\", \"2020-04-16T00:00:00\", \"2020-04-17T00:00:00\", \"2020-04-18T00:00:00\", \"2020-04-19T00:00:00\", \"2020-04-20T00:00:00\", \"2020-04-21T00:00:00\", \"2020-04-22T00:00:00\", \"2020-04-23T00:00:00\", \"2020-04-24T00:00:00\", \"2020-04-25T00:00:00\", \"2020-04-26T00:00:00\", \"2020-04-27T00:00:00\", \"2020-04-28T00:00:00\", \"2020-04-29T00:00:00\", \"2020-04-30T00:00:00\", \"2020-05-01T00:00:00\", \"2020-05-02T00:00:00\", \"2020-05-03T00:00:00\", \"2020-05-04T00:00:00\", \"2020-05-05T00:00:00\", \"2020-05-06T00:00:00\", \"2020-05-07T00:00:00\", \"2020-05-08T00:00:00\", \"2020-05-09T00:00:00\", \"2020-05-10T00:00:00\", \"2020-05-11T00:00:00\", \"2020-05-12T00:00:00\", \"2020-05-13T00:00:00\", \"2020-05-14T00:00:00\", \"2020-05-15T00:00:00\", \"2020-05-16T00:00:00\", \"2020-05-17T00:00:00\", \"2020-05-18T00:00:00\", \"2020-05-19T00:00:00\", \"2020-05-20T00:00:00\", \"2020-05-21T00:00:00\", \"2020-05-22T00:00:00\", \"2020-05-23T00:00:00\", \"2020-05-24T00:00:00\", \"2020-05-25T00:00:00\", \"2020-05-26T00:00:00\", \"2020-05-27T00:00:00\", \"2020-05-28T00:00:00\", \"2020-05-29T00:00:00\", \"2020-05-30T00:00:00\", \"2020-05-31T00:00:00\", \"2020-06-01T00:00:00\", \"2020-06-02T00:00:00\", \"2020-06-03T00:00:00\", \"2020-06-04T00:00:00\", \"2020-06-05T00:00:00\", \"2020-06-06T00:00:00\", \"2020-06-07T00:00:00\", \"2020-06-08T00:00:00\", \"2020-06-09T00:00:00\", \"2020-06-10T00:00:00\", \"2020-06-11T00:00:00\", \"2020-06-12T00:00:00\", \"2020-06-13T00:00:00\", \"2020-06-14T00:00:00\", \"2020-06-15T00:00:00\", \"2020-06-16T00:00:00\", \"2020-06-17T00:00:00\", \"2020-06-18T00:00:00\", \"2020-06-19T00:00:00\", \"2020-06-20T00:00:00\", \"2020-06-21T00:00:00\", \"2020-06-22T00:00:00\", \"2020-06-23T00:00:00\", \"2020-06-24T00:00:00\", \"2020-06-25T00:00:00\", \"2020-06-26T00:00:00\", \"2020-06-27T00:00:00\", \"2020-06-28T00:00:00\", \"2020-06-29T00:00:00\", \"2020-06-30T00:00:00\", \"2020-07-01T00:00:00\", \"2020-07-02T00:00:00\", \"2020-07-03T00:00:00\", \"2020-07-04T00:00:00\", \"2020-07-05T00:00:00\", \"2020-07-06T00:00:00\", \"2020-07-07T00:00:00\", \"2020-07-08T00:00:00\", \"2020-07-09T00:00:00\", \"2020-07-10T00:00:00\", \"2020-07-11T00:00:00\", \"2020-07-12T00:00:00\", \"2020-07-13T00:00:00\", \"2020-07-14T00:00:00\", \"2020-07-15T00:00:00\", \"2020-07-16T00:00:00\", \"2020-07-17T00:00:00\", \"2020-07-18T00:00:00\", \"2020-07-19T00:00:00\", \"2020-07-20T00:00:00\", \"2020-07-21T00:00:00\", \"2020-07-22T00:00:00\", \"2020-07-23T00:00:00\", \"2020-07-24T00:00:00\", \"2020-07-25T00:00:00\", \"2020-07-26T00:00:00\", \"2020-07-27T00:00:00\", \"2020-07-28T00:00:00\", \"2020-07-29T00:00:00\", \"2020-07-30T00:00:00\", \"2020-07-31T00:00:00\", \"2020-08-01T00:00:00\", \"2020-08-02T00:00:00\", \"2020-08-03T00:00:00\", \"2020-08-04T00:00:00\", \"2020-08-05T00:00:00\", \"2020-08-06T00:00:00\", \"2020-08-07T00:00:00\", \"2020-08-08T00:00:00\", \"2020-08-09T00:00:00\", \"2020-08-10T00:00:00\", \"2020-08-11T00:00:00\", \"2020-08-12T00:00:00\", \"2020-08-13T00:00:00\", \"2020-08-14T00:00:00\", \"2020-08-15T00:00:00\", \"2020-08-16T00:00:00\", \"2020-08-17T00:00:00\", \"2020-08-18T00:00:00\", \"2020-08-19T00:00:00\", \"2020-08-20T00:00:00\", \"2020-08-21T00:00:00\", \"2020-08-22T00:00:00\", \"2020-08-23T00:00:00\", \"2020-08-24T00:00:00\", \"2020-08-25T00:00:00\", \"2020-08-26T00:00:00\", \"2020-08-27T00:00:00\", \"2020-08-28T00:00:00\", \"2020-08-29T00:00:00\", \"2020-08-30T00:00:00\", \"2020-08-31T00:00:00\", \"2020-09-01T00:00:00\", \"2020-09-02T00:00:00\", \"2020-09-03T00:00:00\", \"2020-09-04T00:00:00\", \"2020-09-05T00:00:00\", \"2020-09-06T00:00:00\", \"2020-09-07T00:00:00\", \"2020-09-08T00:00:00\", \"2020-09-09T00:00:00\", \"2020-09-10T00:00:00\", \"2020-09-11T00:00:00\", \"2020-09-12T00:00:00\", \"2020-09-13T00:00:00\", \"2020-09-14T00:00:00\", \"2020-09-15T00:00:00\", \"2020-09-16T00:00:00\", \"2020-09-17T00:00:00\", \"2020-09-18T00:00:00\", \"2020-09-19T00:00:00\", \"2020-09-20T00:00:00\", \"2020-09-21T00:00:00\", \"2020-09-22T00:00:00\", \"2020-09-23T00:00:00\", \"2020-09-24T00:00:00\", \"2020-09-25T00:00:00\", \"2020-09-26T00:00:00\", \"2020-09-27T00:00:00\", \"2020-09-28T00:00:00\", \"2020-09-29T00:00:00\", \"2020-09-30T00:00:00\", \"2020-10-01T00:00:00\", \"2020-10-02T00:00:00\", \"2020-10-03T00:00:00\", \"2020-10-04T00:00:00\", \"2020-10-05T00:00:00\", \"2020-10-06T00:00:00\", \"2020-10-07T00:00:00\", \"2020-10-08T00:00:00\", \"2020-10-09T00:00:00\", \"2020-10-10T00:00:00\", \"2020-10-11T00:00:00\", \"2020-10-12T00:00:00\", \"2020-10-13T00:00:00\", \"2020-10-14T00:00:00\", \"2020-10-15T00:00:00\", \"2020-10-16T00:00:00\", \"2020-10-17T00:00:00\", \"2020-10-18T00:00:00\", \"2020-10-19T00:00:00\", \"2020-10-20T00:00:00\", \"2020-10-21T00:00:00\", \"2020-10-22T00:00:00\", \"2020-10-23T00:00:00\", \"2020-10-24T00:00:00\", \"2020-10-25T00:00:00\", \"2020-10-26T00:00:00\", \"2020-10-27T00:00:00\", \"2020-10-28T00:00:00\", \"2020-10-29T00:00:00\", \"2020-10-30T00:00:00\", \"2020-10-31T00:00:00\", \"2020-11-01T00:00:00\", \"2020-11-02T00:00:00\", \"2020-11-03T00:00:00\", \"2020-11-04T00:00:00\", \"2020-11-05T00:00:00\", \"2020-11-06T00:00:00\", \"2020-11-07T00:00:00\", \"2020-11-08T00:00:00\", \"2020-11-09T00:00:00\", \"2020-11-10T00:00:00\", \"2020-11-11T00:00:00\", \"2020-11-12T00:00:00\", \"2020-11-13T00:00:00\", \"2020-11-14T00:00:00\", \"2020-11-15T00:00:00\", \"2020-11-16T00:00:00\", \"2020-11-17T00:00:00\", \"2020-11-18T00:00:00\", \"2020-11-19T00:00:00\", \"2020-11-20T00:00:00\", \"2020-11-21T00:00:00\", \"2020-11-22T00:00:00\", \"2020-11-23T00:00:00\", \"2020-11-24T00:00:00\", \"2020-11-25T00:00:00\", \"2020-11-26T00:00:00\", \"2020-11-27T00:00:00\", \"2020-11-28T00:00:00\", \"2020-11-29T00:00:00\", \"2020-11-30T00:00:00\", \"2020-12-01T00:00:00\", \"2020-12-02T00:00:00\", \"2020-12-03T00:00:00\", \"2020-12-04T00:00:00\", \"2020-12-05T00:00:00\", \"2020-12-06T00:00:00\", \"2020-12-07T00:00:00\", \"2020-12-08T00:00:00\", \"2020-12-09T00:00:00\", \"2020-12-10T00:00:00\", \"2020-12-11T00:00:00\", \"2020-12-12T00:00:00\", \"2020-12-13T00:00:00\", \"2020-12-14T00:00:00\", \"2020-12-15T00:00:00\", \"2020-12-16T00:00:00\", \"2020-12-17T00:00:00\", \"2020-12-18T00:00:00\", \"2020-12-19T00:00:00\", \"2020-12-20T00:00:00\", \"2020-12-21T00:00:00\", \"2020-12-22T00:00:00\", \"2020-12-23T00:00:00\", \"2020-12-24T00:00:00\", \"2020-12-25T00:00:00\", \"2020-12-26T00:00:00\", \"2020-12-27T00:00:00\", \"2020-12-28T00:00:00\", \"2020-12-29T00:00:00\", \"2020-12-30T00:00:00\", \"2020-12-31T00:00:00\", \"2021-01-01T00:00:00\", \"2021-01-02T00:00:00\", \"2021-01-03T00:00:00\", \"2021-01-04T00:00:00\", \"2021-01-05T00:00:00\", \"2021-01-06T00:00:00\", \"2021-01-07T00:00:00\", \"2021-01-08T00:00:00\", \"2021-01-09T00:00:00\", \"2021-01-10T00:00:00\", \"2021-01-11T00:00:00\", \"2021-01-12T00:00:00\", \"2021-01-13T00:00:00\", \"2021-01-14T00:00:00\", \"2021-01-15T00:00:00\", \"2021-01-16T00:00:00\", \"2021-01-17T00:00:00\", \"2021-01-18T00:00:00\", \"2021-01-19T00:00:00\", \"2021-01-20T00:00:00\", \"2021-01-21T00:00:00\", \"2021-01-22T00:00:00\", \"2021-01-23T00:00:00\", \"2021-01-24T00:00:00\", \"2021-01-25T00:00:00\", \"2021-01-26T00:00:00\", \"2021-01-27T00:00:00\", \"2021-01-28T00:00:00\", \"2021-01-29T00:00:00\", \"2021-01-30T00:00:00\", \"2021-01-31T00:00:00\", \"2021-02-01T00:00:00\", \"2021-02-02T00:00:00\", \"2021-02-03T00:00:00\", \"2021-02-04T00:00:00\", \"2021-02-05T00:00:00\", \"2021-02-06T00:00:00\", \"2021-02-07T00:00:00\", \"2021-02-08T00:00:00\", \"2021-02-09T00:00:00\", \"2021-02-10T00:00:00\", \"2021-02-11T00:00:00\", \"2021-02-12T00:00:00\"], \"xaxis\": \"x\", \"y\": [0.0, 0.0, 0.0, 1.0, 0.0, 1.0, 3.0, 2.0, 4.0, 5.0, 6.0, 6.0, 11.0, 14.0, 17.0, 18.0, 21.0, 16.0, 14.0, 21.0, 22.0, 22.0, 23.0, 24.0, 18.0, 15.0, 21.0, 22.0, 22.0, 23.0, 23.0, 18.0, 16.0, 24.0, 24.0, 24.0, 26.0, 26.0, 18.0, 16.0, 22.0, 22.0, 22.0, 23.0, 24.0, 17.0, 14.0, 21.0, 21.0, 22.0, 22.0, 23.0, 15.0, 13.0, 20.0, 13.0, 21.0, 21.0, 21.0, 14.0, 12.0, 19.0, 19.0, 20.0, 20.0, 20.0, 12.0, 9.0, 18.0, 19.0, 19.0, 19.0, 19.0, 12.0, 11.0, 18.0, 18.0, 18.0, 18.0, 18.0, 10.0, 8.0, 22.0, 16.0, 17.0, 17.0, 17.0, 11.0, 9.0, 17.0, 17.0, 16.0, 16.0, 16.0, 9.0, 8.0, 14.0, 15.0, 15.0, 15.0, 14.0, 7.0, 6.0, 13.0, 14.0, 14.0, 14.0, 12.0, 7.0, 5.0, 13.0, 14.0, 14.0, 14.0, 14.0, 7.0, 6.0, 13.0, 13.0, 13.0, 13.0, 17.0, 10.0, 7.0, 14.0, 14.0, 14.0, 14.0, 14.0, 8.0, 7.0, 13.0, 14.0, 14.0, 15.0, 15.0, 8.0, 7.0, 14.0, 14.0, 14.0, 15.0, 14.0, 8.0, 6.0, 13.0, 14.0, 14.0, 14.0, 14.0, 7.0, 6.0, 13.0, 13.0, 14.0, 14.0, 13.0, 7.0, 6.0, 13.0, 13.0, 14.0, 14.0, 13.0, 7.0, 6.0, 13.0, 14.0, 14.0, 14.0, 14.0, 8.0, 6.0, 13.0, 14.0, 14.0, 14.0, 13.0, 7.0, 6.0, 13.0, 13.0, 13.0, 13.0, 12.0, 6.0, 5.0, 19.0, 13.0, 13.0, 14.0, 13.0, 7.0, 6.0, 13.0, 13.0, 13.0, 13.0, 12.0, 6.0, 5.0, 12.0, 13.0, 13.0, 13.0, 12.0, 6.0, 5.0, 12.0, 13.0, 13.0, 13.0, 12.0, 6.0, 5.0, 12.0, 12.0, 12.0, 13.0, 12.0, 6.0, 5.0, 13.0, 12.0, 13.0, 13.0, 12.0, 5.0, 5.0, 12.0, 12.0, 12.0, 13.0, 12.0, 6.0, 5.0, 12.0, 12.0, 12.0, 12.0, 11.0, 5.0, 5.0, 12.0, 13.0, 14.0, 13.0, 13.0, 9.0, 7.0, 13.0, 13.0, 14.0, 14.0, 14.0, 7.0, 6.0, 12.0, 14.0, 14.0, 14.0, 13.0, 8.0, 7.0, 12.0, 12.0, 12.0, 24.0, 21.0, 9.0, 7.0, 13.0, 14.0, 14.0, 15.0, 15.0, 9.0, 8.0, 14.0, 15.0, 15.0, 16.0, 16.0, 10.0, 9.0, 15.0, 15.0, 16.0, 16.0, 16.0, 9.0, 8.0, 14.0, 14.0, 14.0, 19.0, 29.0, 13.0, 10.0, 19.0, 17.0, 17.0, 18.0, 28.0, 13.0, 10.0, 16.0, 16.0, 17.0, 18.0, 18.0, 11.0, 9.0, 16.0, 16.0, 16.0, 16.0, 16.0, 10.0, 8.0, 16.0, 16.0, 16.0, 16.0, 17.0, 12.0, 9.0, 16.0, 15.0, 17.0, 17.0, 18.0, 9.0, 7.0, 14.0, 15.0, 15.0, 15.0, 14.0, 8.0, 7.0, 13.0, 14.0, 14.0, 15.0, 14.0], \"yaxis\": \"y\"}],\n",
              "                        {\"legend\": {\"tracegroupgap\": 0}, \"margin\": {\"t\": 60}, \"template\": {\"data\": {\"bar\": [{\"error_x\": {\"color\": \"#2a3f5f\"}, \"error_y\": {\"color\": \"#2a3f5f\"}, \"marker\": {\"line\": {\"color\": \"#E5ECF6\", \"width\": 0.5}}, \"type\": \"bar\"}], \"barpolar\": [{\"marker\": {\"line\": {\"color\": \"#E5ECF6\", \"width\": 0.5}}, \"type\": \"barpolar\"}], \"carpet\": [{\"aaxis\": {\"endlinecolor\": \"#2a3f5f\", \"gridcolor\": \"white\", \"linecolor\": \"white\", \"minorgridcolor\": \"white\", \"startlinecolor\": \"#2a3f5f\"}, \"baxis\": {\"endlinecolor\": \"#2a3f5f\", \"gridcolor\": \"white\", \"linecolor\": \"white\", \"minorgridcolor\": \"white\", \"startlinecolor\": \"#2a3f5f\"}, \"type\": \"carpet\"}], \"choropleth\": [{\"colorbar\": {\"outlinewidth\": 0, \"ticks\": \"\"}, \"type\": \"choropleth\"}], \"contour\": [{\"colorbar\": {\"outlinewidth\": 0, \"ticks\": \"\"}, \"colorscale\": [[0.0, \"#0d0887\"], [0.1111111111111111, \"#46039f\"], [0.2222222222222222, \"#7201a8\"], [0.3333333333333333, \"#9c179e\"], [0.4444444444444444, \"#bd3786\"], [0.5555555555555556, \"#d8576b\"], [0.6666666666666666, \"#ed7953\"], [0.7777777777777778, \"#fb9f3a\"], [0.8888888888888888, \"#fdca26\"], [1.0, \"#f0f921\"]], \"type\": \"contour\"}], \"contourcarpet\": [{\"colorbar\": {\"outlinewidth\": 0, \"ticks\": \"\"}, \"type\": \"contourcarpet\"}], \"heatmap\": [{\"colorbar\": {\"outlinewidth\": 0, \"ticks\": \"\"}, \"colorscale\": [[0.0, \"#0d0887\"], [0.1111111111111111, \"#46039f\"], [0.2222222222222222, \"#7201a8\"], [0.3333333333333333, \"#9c179e\"], [0.4444444444444444, \"#bd3786\"], [0.5555555555555556, \"#d8576b\"], [0.6666666666666666, \"#ed7953\"], [0.7777777777777778, \"#fb9f3a\"], [0.8888888888888888, \"#fdca26\"], [1.0, \"#f0f921\"]], \"type\": \"heatmap\"}], \"heatmapgl\": [{\"colorbar\": {\"outlinewidth\": 0, \"ticks\": \"\"}, \"colorscale\": [[0.0, \"#0d0887\"], [0.1111111111111111, \"#46039f\"], [0.2222222222222222, \"#7201a8\"], [0.3333333333333333, \"#9c179e\"], [0.4444444444444444, \"#bd3786\"], [0.5555555555555556, \"#d8576b\"], [0.6666666666666666, \"#ed7953\"], [0.7777777777777778, \"#fb9f3a\"], [0.8888888888888888, \"#fdca26\"], [1.0, \"#f0f921\"]], \"type\": \"heatmapgl\"}], \"histogram\": [{\"marker\": {\"colorbar\": {\"outlinewidth\": 0, \"ticks\": \"\"}}, \"type\": \"histogram\"}], \"histogram2d\": [{\"colorbar\": {\"outlinewidth\": 0, \"ticks\": \"\"}, \"colorscale\": [[0.0, \"#0d0887\"], [0.1111111111111111, \"#46039f\"], [0.2222222222222222, \"#7201a8\"], [0.3333333333333333, \"#9c179e\"], [0.4444444444444444, \"#bd3786\"], [0.5555555555555556, \"#d8576b\"], [0.6666666666666666, \"#ed7953\"], [0.7777777777777778, \"#fb9f3a\"], [0.8888888888888888, \"#fdca26\"], [1.0, \"#f0f921\"]], \"type\": \"histogram2d\"}], \"histogram2dcontour\": [{\"colorbar\": {\"outlinewidth\": 0, \"ticks\": \"\"}, \"colorscale\": [[0.0, \"#0d0887\"], [0.1111111111111111, \"#46039f\"], [0.2222222222222222, \"#7201a8\"], [0.3333333333333333, \"#9c179e\"], [0.4444444444444444, \"#bd3786\"], [0.5555555555555556, \"#d8576b\"], [0.6666666666666666, \"#ed7953\"], [0.7777777777777778, \"#fb9f3a\"], [0.8888888888888888, \"#fdca26\"], [1.0, \"#f0f921\"]], \"type\": \"histogram2dcontour\"}], \"mesh3d\": [{\"colorbar\": {\"outlinewidth\": 0, \"ticks\": \"\"}, \"type\": \"mesh3d\"}], \"parcoords\": [{\"line\": {\"colorbar\": {\"outlinewidth\": 0, \"ticks\": \"\"}}, \"type\": \"parcoords\"}], \"pie\": [{\"automargin\": true, \"type\": \"pie\"}], \"scatter\": [{\"marker\": {\"colorbar\": {\"outlinewidth\": 0, \"ticks\": \"\"}}, \"type\": \"scatter\"}], \"scatter3d\": [{\"line\": {\"colorbar\": {\"outlinewidth\": 0, \"ticks\": \"\"}}, \"marker\": {\"colorbar\": {\"outlinewidth\": 0, \"ticks\": \"\"}}, \"type\": \"scatter3d\"}], \"scattercarpet\": [{\"marker\": {\"colorbar\": {\"outlinewidth\": 0, \"ticks\": \"\"}}, \"type\": \"scattercarpet\"}], \"scattergeo\": [{\"marker\": {\"colorbar\": {\"outlinewidth\": 0, \"ticks\": \"\"}}, \"type\": \"scattergeo\"}], \"scattergl\": [{\"marker\": {\"colorbar\": {\"outlinewidth\": 0, \"ticks\": \"\"}}, \"type\": \"scattergl\"}], \"scattermapbox\": [{\"marker\": {\"colorbar\": {\"outlinewidth\": 0, \"ticks\": \"\"}}, \"type\": \"scattermapbox\"}], \"scatterpolar\": [{\"marker\": {\"colorbar\": {\"outlinewidth\": 0, \"ticks\": \"\"}}, \"type\": \"scatterpolar\"}], \"scatterpolargl\": [{\"marker\": {\"colorbar\": {\"outlinewidth\": 0, \"ticks\": \"\"}}, \"type\": \"scatterpolargl\"}], \"scatterternary\": [{\"marker\": {\"colorbar\": {\"outlinewidth\": 0, \"ticks\": \"\"}}, \"type\": \"scatterternary\"}], \"surface\": [{\"colorbar\": {\"outlinewidth\": 0, \"ticks\": \"\"}, \"colorscale\": [[0.0, \"#0d0887\"], [0.1111111111111111, \"#46039f\"], [0.2222222222222222, \"#7201a8\"], [0.3333333333333333, \"#9c179e\"], [0.4444444444444444, \"#bd3786\"], [0.5555555555555556, \"#d8576b\"], [0.6666666666666666, \"#ed7953\"], [0.7777777777777778, \"#fb9f3a\"], [0.8888888888888888, \"#fdca26\"], [1.0, \"#f0f921\"]], \"type\": \"surface\"}], \"table\": [{\"cells\": {\"fill\": {\"color\": \"#EBF0F8\"}, \"line\": {\"color\": \"white\"}}, \"header\": {\"fill\": {\"color\": \"#C8D4E3\"}, \"line\": {\"color\": \"white\"}}, \"type\": \"table\"}]}, \"layout\": {\"annotationdefaults\": {\"arrowcolor\": \"#2a3f5f\", \"arrowhead\": 0, \"arrowwidth\": 1}, \"coloraxis\": {\"colorbar\": {\"outlinewidth\": 0, \"ticks\": \"\"}}, \"colorscale\": {\"diverging\": [[0, \"#8e0152\"], [0.1, \"#c51b7d\"], [0.2, \"#de77ae\"], [0.3, \"#f1b6da\"], [0.4, \"#fde0ef\"], [0.5, \"#f7f7f7\"], [0.6, \"#e6f5d0\"], [0.7, \"#b8e186\"], [0.8, \"#7fbc41\"], [0.9, \"#4d9221\"], [1, \"#276419\"]], \"sequential\": [[0.0, \"#0d0887\"], [0.1111111111111111, \"#46039f\"], [0.2222222222222222, \"#7201a8\"], [0.3333333333333333, \"#9c179e\"], [0.4444444444444444, \"#bd3786\"], [0.5555555555555556, \"#d8576b\"], [0.6666666666666666, \"#ed7953\"], [0.7777777777777778, \"#fb9f3a\"], [0.8888888888888888, \"#fdca26\"], [1.0, \"#f0f921\"]], \"sequentialminus\": [[0.0, \"#0d0887\"], [0.1111111111111111, \"#46039f\"], [0.2222222222222222, \"#7201a8\"], [0.3333333333333333, \"#9c179e\"], [0.4444444444444444, \"#bd3786\"], [0.5555555555555556, \"#d8576b\"], [0.6666666666666666, \"#ed7953\"], [0.7777777777777778, \"#fb9f3a\"], [0.8888888888888888, \"#fdca26\"], [1.0, \"#f0f921\"]]}, \"colorway\": [\"#636efa\", \"#EF553B\", \"#00cc96\", \"#ab63fa\", \"#FFA15A\", \"#19d3f3\", \"#FF6692\", \"#B6E880\", \"#FF97FF\", \"#FECB52\"], \"font\": {\"color\": \"#2a3f5f\"}, \"geo\": {\"bgcolor\": \"white\", \"lakecolor\": \"white\", \"landcolor\": \"#E5ECF6\", \"showlakes\": true, \"showland\": true, \"subunitcolor\": \"white\"}, \"hoverlabel\": {\"align\": \"left\"}, \"hovermode\": \"closest\", \"mapbox\": {\"style\": \"light\"}, \"paper_bgcolor\": \"white\", \"plot_bgcolor\": \"#E5ECF6\", \"polar\": {\"angularaxis\": {\"gridcolor\": \"white\", \"linecolor\": \"white\", \"ticks\": \"\"}, \"bgcolor\": \"#E5ECF6\", \"radialaxis\": {\"gridcolor\": \"white\", \"linecolor\": \"white\", \"ticks\": \"\"}}, \"scene\": {\"xaxis\": {\"backgroundcolor\": \"#E5ECF6\", \"gridcolor\": \"white\", \"gridwidth\": 2, \"linecolor\": \"white\", \"showbackground\": true, \"ticks\": \"\", \"zerolinecolor\": \"white\"}, \"yaxis\": {\"backgroundcolor\": \"#E5ECF6\", \"gridcolor\": \"white\", \"gridwidth\": 2, \"linecolor\": \"white\", \"showbackground\": true, \"ticks\": \"\", \"zerolinecolor\": \"white\"}, \"zaxis\": {\"backgroundcolor\": \"#E5ECF6\", \"gridcolor\": \"white\", \"gridwidth\": 2, \"linecolor\": \"white\", \"showbackground\": true, \"ticks\": \"\", \"zerolinecolor\": \"white\"}}, \"shapedefaults\": {\"line\": {\"color\": \"#2a3f5f\"}}, \"ternary\": {\"aaxis\": {\"gridcolor\": \"white\", \"linecolor\": \"white\", \"ticks\": \"\"}, \"baxis\": {\"gridcolor\": \"white\", \"linecolor\": \"white\", \"ticks\": \"\"}, \"bgcolor\": \"#E5ECF6\", \"caxis\": {\"gridcolor\": \"white\", \"linecolor\": \"white\", \"ticks\": \"\"}}, \"title\": {\"x\": 0.05}, \"xaxis\": {\"automargin\": true, \"gridcolor\": \"white\", \"linecolor\": \"white\", \"ticks\": \"\", \"title\": {\"standoff\": 15}, \"zerolinecolor\": \"white\", \"zerolinewidth\": 2}, \"yaxis\": {\"automargin\": true, \"gridcolor\": \"white\", \"linecolor\": \"white\", \"ticks\": \"\", \"title\": {\"standoff\": 15}, \"zerolinecolor\": \"white\", \"zerolinewidth\": 2}}}, \"xaxis\": {\"anchor\": \"y\", \"domain\": [0.0, 1.0], \"title\": {\"text\": \"date\"}}, \"yaxis\": {\"anchor\": \"x\", \"domain\": [0.0, 1.0], \"title\": {\"text\": \"residential_percent_change_from_baseline\"}}},\n",
              "                        {\"responsive\": true}\n",
              "                    ).then(function(){\n",
              "                            \n",
              "var gd = document.getElementById('ddcdea10-c1ff-49f0-9184-eb2d8c9dd9c2');\n",
              "var x = new MutationObserver(function (mutations, observer) {{\n",
              "        var display = window.getComputedStyle(gd).display;\n",
              "        if (!display || display === 'none') {{\n",
              "            console.log([gd, 'removed!']);\n",
              "            Plotly.purge(gd);\n",
              "            observer.disconnect();\n",
              "        }}\n",
              "}});\n",
              "\n",
              "// Listen for the removal of the full notebook cells\n",
              "var notebookContainer = gd.closest('#notebook-container');\n",
              "if (notebookContainer) {{\n",
              "    x.observe(notebookContainer, {childList: true});\n",
              "}}\n",
              "\n",
              "// Listen for the clearing of the current output cell\n",
              "var outputEl = gd.closest('.output');\n",
              "if (outputEl) {{\n",
              "    x.observe(outputEl, {childList: true});\n",
              "}}\n",
              "\n",
              "                        })\n",
              "                };\n",
              "                \n",
              "            </script>\n",
              "        </div>\n",
              "</body>\n",
              "</html>"
            ]
          },
          "metadata": {
            "tags": []
          }
        }
      ]
    },
    {
      "cell_type": "code",
      "metadata": {
        "colab": {
          "base_uri": "https://localhost:8080/"
        },
        "id": "pX5tyo4eKvbC",
        "outputId": "2526458e-7878-43f7-afa1-2c80570d400b"
      },
      "source": [
        "# ['deathIncrease', 'hospitalizedIncrease', 'inIcuCurrently', 'onVentilatorCurrently']\r\n",
        "\r\n",
        "from tqdm import tqdm\r\n",
        "pd.options.mode.chained_assignment = None \r\n",
        "\r\n",
        "y_variable_options = ['deathIncrease', 'hospitalizedIncrease', 'inIcuCurrently', 'onVentilatorCurrently']\r\n",
        "lag = -120\r\n",
        "smoothing = True\r\n",
        "\r\n",
        "# data = weekly_df\r\n",
        "data = df\r\n",
        "data = data.copy()\r\n",
        "\r\n",
        "\r\n",
        "\r\n",
        "for y_variable in tqdm(y_variable_options):\r\n",
        "    if smoothing == True:\r\n",
        "        # 7 day rolling\r\n",
        "        data = data.sort_values(by = ['state','date'])\r\n",
        "        data[y_variable] = data.groupby('state')[y_variable].rolling(7, min_periods = 1).sum().values\r\n",
        "        for x_col in X_cols:\r\n",
        "            if x_col.split('_')[-1] == 'baseline':\r\n",
        "                data[x_col] = data.groupby('state')[x_col].rolling(7, min_periods = 1).sum().values\r\n",
        "\r\n",
        "    df_reg = data.copy()\r\n",
        "    df_reg[y_variable] = df_reg[y_variable].shift(lag)\r\n",
        "    df_reg = df_reg[df_reg[y_variable].isna() == False]\r\n",
        "    y = df_reg[y_variable].fillna(0).values\r\n",
        "    x = df_reg[X_cols].fillna(0).values\r\n",
        "    x = sm.add_constant(x)\r\n",
        "    model = sm.OLS(y,x)\r\n",
        "    results = model.fit()\r\n",
        "    print(results.summary())\r\n"
      ],
      "execution_count": 11,
      "outputs": [
        {
          "output_type": "stream",
          "text": [
            " 50%|█████     | 2/4 [00:00<00:00,  7.11it/s]"
          ],
          "name": "stderr"
        },
        {
          "output_type": "stream",
          "text": [
            "                            OLS Regression Results                            \n",
            "==============================================================================\n",
            "Dep. Variable:                      y   R-squared:                       0.088\n",
            "Model:                            OLS   Adj. R-squared:                  0.087\n",
            "Method:                 Least Squares   F-statistic:                     206.8\n",
            "Date:                Sun, 21 Feb 2021   Prob (F-statistic):               0.00\n",
            "Time:                        22:53:02   Log-Likelihood:            -1.2513e+05\n",
            "No. Observations:               17252   AIC:                         2.503e+05\n",
            "Df Residuals:                   17243   BIC:                         2.503e+05\n",
            "Df Model:                           8                                         \n",
            "Covariance Type:            nonrobust                                         \n",
            "==============================================================================\n",
            "                 coef    std err          t      P>|t|      [0.025      0.975]\n",
            "------------------------------------------------------------------------------\n",
            "const       -196.4622     17.472    -11.244      0.000    -230.709    -162.215\n",
            "x1            -0.1791      0.092     -1.944      0.052      -0.360       0.001\n",
            "x2            -0.1512      0.077     -1.971      0.049      -0.302      -0.001\n",
            "x3            -0.0437      0.008     -5.342      0.000      -0.060      -0.028\n",
            "x4            -0.2519      0.043     -5.925      0.000      -0.335      -0.169\n",
            "x5            -1.6672      0.087    -19.186      0.000      -1.838      -1.497\n",
            "x6            -5.5358      0.305    -18.163      0.000      -6.133      -4.938\n",
            "x7             7.3563      0.639     11.506      0.000       6.103       8.609\n",
            "x8             3.6619      0.228     16.075      0.000       3.215       4.108\n",
            "==============================================================================\n",
            "Omnibus:                    19123.037   Durbin-Watson:                   0.030\n",
            "Prob(Omnibus):                  0.000   Jarque-Bera (JB):          1961808.589\n",
            "Skew:                           5.684   Prob(JB):                         0.00\n",
            "Kurtosis:                      53.989   Cond. No.                     4.05e+03\n",
            "==============================================================================\n",
            "\n",
            "Notes:\n",
            "[1] Standard Errors assume that the covariance matrix of the errors is correctly specified.\n",
            "[2] The condition number is large, 4.05e+03. This might indicate that there are\n",
            "strong multicollinearity or other numerical problems.\n",
            "                            OLS Regression Results                            \n",
            "==============================================================================\n",
            "Dep. Variable:                      y   R-squared:                       0.033\n",
            "Model:                            OLS   Adj. R-squared:                  0.033\n",
            "Method:                 Least Squares   F-statistic:                     74.57\n",
            "Date:                Sun, 21 Feb 2021   Prob (F-statistic):          1.81e-121\n",
            "Time:                        22:53:02   Log-Likelihood:            -1.4290e+05\n",
            "No. Observations:               17252   AIC:                         2.858e+05\n",
            "Df Residuals:                   17243   BIC:                         2.859e+05\n",
            "Df Model:                           8                                         \n",
            "Covariance Type:            nonrobust                                         \n",
            "==============================================================================\n",
            "                 coef    std err          t      P>|t|      [0.025      0.975]\n",
            "------------------------------------------------------------------------------\n",
            "const       -514.8630     48.996    -10.508      0.000    -610.901    -418.825\n",
            "x1             0.0069      0.038      0.181      0.856      -0.067       0.081\n",
            "x2            -0.0842      0.032     -2.621      0.009      -0.147      -0.021\n",
            "x3             0.0109      0.003      3.241      0.001       0.004       0.017\n",
            "x4            -0.0156      0.017     -0.898      0.369      -0.049       0.018\n",
            "x5            -0.2538      0.036     -7.077      0.000      -0.324      -0.183\n",
            "x6            -0.7915      0.126     -6.288      0.000      -1.038      -0.545\n",
            "x7            16.2684      1.796      9.058      0.000      12.748      19.789\n",
            "x8             8.4289      0.637     13.241      0.000       7.181       9.677\n",
            "==============================================================================\n",
            "Omnibus:                    29196.140   Durbin-Watson:                   0.084\n",
            "Prob(Omnibus):                  0.000   Jarque-Bera (JB):         26247197.346\n",
            "Skew:                          11.700   Prob(JB):                         0.00\n",
            "Kurtosis:                     192.647   Cond. No.                     2.81e+04\n",
            "==============================================================================\n",
            "\n",
            "Notes:\n",
            "[1] Standard Errors assume that the covariance matrix of the errors is correctly specified.\n",
            "[2] The condition number is large, 2.81e+04. This might indicate that there are\n",
            "strong multicollinearity or other numerical problems.\n"
          ],
          "name": "stdout"
        },
        {
          "output_type": "stream",
          "text": [
            "100%|██████████| 4/4 [00:00<00:00,  6.76it/s]"
          ],
          "name": "stderr"
        },
        {
          "output_type": "stream",
          "text": [
            "                            OLS Regression Results                            \n",
            "==============================================================================\n",
            "Dep. Variable:                      y   R-squared:                       0.114\n",
            "Model:                            OLS   Adj. R-squared:                  0.113\n",
            "Method:                 Least Squares   F-statistic:                     157.6\n",
            "Date:                Sun, 21 Feb 2021   Prob (F-statistic):          7.47e-251\n",
            "Time:                        22:53:02   Log-Likelihood:                -95154.\n",
            "No. Observations:                9798   AIC:                         1.903e+05\n",
            "Df Residuals:                    9789   BIC:                         1.904e+05\n",
            "Df Model:                           8                                         \n",
            "Covariance Type:            nonrobust                                         \n",
            "==============================================================================\n",
            "                 coef    std err          t      P>|t|      [0.025      0.975]\n",
            "------------------------------------------------------------------------------\n",
            "const      -3883.5391    287.295    -13.518      0.000   -4446.696   -3320.383\n",
            "x1             0.0529      0.030      1.750      0.080      -0.006       0.112\n",
            "x2            -0.0593      0.026     -2.293      0.022      -0.110      -0.009\n",
            "x3            -0.0265      0.002    -10.692      0.000      -0.031      -0.022\n",
            "x4             0.0377      0.014      2.708      0.007       0.010       0.065\n",
            "x5            -0.3684      0.028    -13.088      0.000      -0.424      -0.313\n",
            "x6            -0.8256      0.098     -8.389      0.000      -1.019      -0.633\n",
            "x7           143.6463     11.931     12.039      0.000     120.258     167.034\n",
            "x8            65.2412      3.470     18.803      0.000      58.440      72.043\n",
            "==============================================================================\n",
            "Omnibus:                     7694.565   Durbin-Watson:                   0.009\n",
            "Prob(Omnibus):                  0.000   Jarque-Bera (JB):           170011.903\n",
            "Skew:                           3.690   Prob(JB):                         0.00\n",
            "Kurtosis:                      22.026   Cond. No.                     2.35e+05\n",
            "==============================================================================\n",
            "\n",
            "Notes:\n",
            "[1] Standard Errors assume that the covariance matrix of the errors is correctly specified.\n",
            "[2] The condition number is large, 2.35e+05. This might indicate that there are\n",
            "strong multicollinearity or other numerical problems.\n",
            "                            OLS Regression Results                            \n",
            "==============================================================================\n",
            "Dep. Variable:                      y   R-squared:                       0.073\n",
            "Model:                            OLS   Adj. R-squared:                  0.072\n",
            "Method:                 Least Squares   F-statistic:                     75.34\n",
            "Date:                Sun, 21 Feb 2021   Prob (F-statistic):          3.88e-120\n",
            "Time:                        22:53:02   Log-Likelihood:                -66635.\n",
            "No. Observations:                7669   AIC:                         1.333e+05\n",
            "Df Residuals:                    7660   BIC:                         1.333e+05\n",
            "Df Model:                           8                                         \n",
            "Covariance Type:            nonrobust                                         \n",
            "==============================================================================\n",
            "                 coef    std err          t      P>|t|      [0.025      0.975]\n",
            "------------------------------------------------------------------------------\n",
            "const        832.7840    119.688      6.958      0.000     598.162    1067.406\n",
            "x1             0.0042      0.002      2.305      0.021       0.001       0.008\n",
            "x2            -0.0098      0.002     -6.381      0.000      -0.013      -0.007\n",
            "x3            -0.0009      0.000     -6.268      0.000      -0.001      -0.001\n",
            "x4            -0.0028      0.001     -3.123      0.002      -0.004      -0.001\n",
            "x5            -0.0278      0.002    -17.038      0.000      -0.031      -0.025\n",
            "x6            -0.0860      0.006    -14.273      0.000      -0.098      -0.074\n",
            "x7           -22.0002      4.110     -5.353      0.000     -30.057     -13.943\n",
            "x8             7.7857      1.492      5.217      0.000       4.860      10.711\n",
            "==============================================================================\n",
            "Omnibus:                     5305.559   Durbin-Watson:                   0.010\n",
            "Prob(Omnibus):                  0.000   Jarque-Bera (JB):            89597.178\n",
            "Skew:                           3.147   Prob(JB):                         0.00\n",
            "Kurtosis:                      18.517   Cond. No.                     1.63e+06\n",
            "==============================================================================\n",
            "\n",
            "Notes:\n",
            "[1] Standard Errors assume that the covariance matrix of the errors is correctly specified.\n",
            "[2] The condition number is large, 1.63e+06. This might indicate that there are\n",
            "strong multicollinearity or other numerical problems.\n"
          ],
          "name": "stdout"
        },
        {
          "output_type": "stream",
          "text": [
            "\n"
          ],
          "name": "stderr"
        }
      ]
    },
    {
      "cell_type": "code",
      "metadata": {
        "id": "pRaa5xnYMHmD"
      },
      "source": [
        ""
      ],
      "execution_count": 10,
      "outputs": []
    },
    {
      "cell_type": "markdown",
      "metadata": {
        "id": "CDmh5lCgZuHE"
      },
      "source": [
        "# Individual State OLS "
      ]
    },
    {
      "cell_type": "code",
      "metadata": {
        "id": "7FMVWLENmL0G"
      },
      "source": [
        "#modeling on week\r\n",
        "# df['week'] = df['day_since_record'].apply(lambda x: x//7)\r\n",
        "# weekly_df = df.groupby(['state','week']).mean().reset_index()\r\n",
        "# weekly_df.head(1)"
      ],
      "execution_count": 11,
      "outputs": []
    },
    {
      "cell_type": "code",
      "metadata": {
        "id": "emTdBZa8vhE_"
      },
      "source": [
        ""
      ],
      "execution_count": 11,
      "outputs": []
    },
    {
      "cell_type": "code",
      "metadata": {
        "colab": {
          "base_uri": "https://localhost:8080/"
        },
        "id": "rEdr5aJF3DFu",
        "outputId": "dc97648a-5f51-4e6f-979f-a80c080f4be8"
      },
      "source": [
        "X_cols"
      ],
      "execution_count": 12,
      "outputs": [
        {
          "output_type": "execute_result",
          "data": {
            "text/plain": [
              "['AverageTemperature',\n",
              " 'Urbanization %',\n",
              " 'retail_and_recreation_percent_change_from_baseline',\n",
              " 'grocery_and_pharmacy_percent_change_from_baseline',\n",
              " 'parks_percent_change_from_baseline',\n",
              " 'transit_stations_percent_change_from_baseline',\n",
              " 'workplaces_percent_change_from_baseline',\n",
              " 'residential_percent_change_from_baseline']"
            ]
          },
          "metadata": {
            "tags": []
          },
          "execution_count": 12
        }
      ]
    },
    {
      "cell_type": "code",
      "metadata": {
        "colab": {
          "base_uri": "https://localhost:8080/"
        },
        "id": "nZZlgQ4reKZe",
        "outputId": "e38f12ff-70a9-4556-d4ba-a510ff35dd06"
      },
      "source": [
        "from tqdm import tqdm\r\n",
        "pd.options.mode.chained_assignment = None \r\n",
        "# y in  ['deathIncrease', 'hospitalizedIncrease', 'inIcuCurrently', 'onVentilatorCurrently', 'PositiveRate']\r\n",
        "y_variable = 'deathIncrease'\r\n",
        "lag = -120\r\n",
        "coeffs = []\r\n",
        "p_values = []\r\n",
        "r_squared_adjs = []\r\n",
        "states = df.state.unique()\r\n",
        "smoothing = True\r\n",
        "\r\n",
        "# data = weekly_df\r\n",
        "data = df\r\n",
        "data = data.copy()\r\n",
        "\r\n",
        "if smoothing == True:\r\n",
        "# 7 day rolling\r\n",
        "    data[y_variable] = data.groupby('state')[y_variable].rolling(7, min_periods = 1).sum().values\r\n",
        "    for x_col in X_cols:\r\n",
        "        if x_col.split('_')[-1] == 'baseline':\r\n",
        "            data[x_col] = data.groupby('state')[x_col].rolling(7, min_periods = 1).sum().values\r\n",
        "\r\n",
        "\r\n",
        "for state in tqdm(states):\r\n",
        "    if y_variable == 'PositiveRate':\r\n",
        "        df_reg = data[(data['state'] == state)&(data['PositiveRate']!=np.inf)]\r\n",
        "    df_reg = data[data['state'] == state]\r\n",
        "    df_reg[y_variable] = data[y_variable].shift(lag)\r\n",
        "    df_reg = df_reg[df_reg[y_variable].isna() == False]\r\n",
        "    y = df_reg[y_variable].fillna(0).values\r\n",
        "    x = df_reg[X_cols].fillna(0).values\r\n",
        "    # x = df_reg[['residential_percent_change_from_baseline', 'day_since_record', 'Density']].fillna(0).values\r\n",
        "    x = sm.add_constant(x, has_constant='add')\r\n",
        "    model = sm.OLS(y,x)\r\n",
        "    results = model.fit()\r\n",
        "    coeffs.append(results.params)\r\n",
        "    p_values.append(results.pvalues)\r\n",
        "    r_squared_adjs.append(results.rsquared_adj)\r\n",
        "df_pvalues = pd.DataFrame(p_values, index = states, columns = ['constant'] + X_cols).apply(lambda x: round(x, 4))\r\n",
        "# df_pvalues = pd.DataFrame(p_values, index = states, columns = ['constant', 'residential_percent_change_from_baseline', 'day_since_record', 'Density'] ).apply(lambda x: round(x, 4))\r\n",
        "df_r_square_adj = pd.DataFrame(r_squared_adjs, index = states).apply(lambda x: round(x, 4))\r\n",
        "df_params = pd.DataFrame(coeffs, index = states, columns = ['constant'] + X_cols).apply(lambda x: round(x, 4))\r\n"
      ],
      "execution_count": 12,
      "outputs": [
        {
          "output_type": "stream",
          "text": [
            "100%|██████████| 50/50 [00:00<00:00, 109.50it/s]\n"
          ],
          "name": "stderr"
        }
      ]
    },
    {
      "cell_type": "code",
      "metadata": {
        "id": "3LDIeGvS1GVB"
      },
      "source": [
        ""
      ],
      "execution_count": 12,
      "outputs": []
    },
    {
      "cell_type": "code",
      "metadata": {
        "colab": {
          "base_uri": "https://localhost:8080/"
        },
        "id": "uLYaZ_rUo06U",
        "outputId": "db0e94db-ac63-42bf-8851-bd8d5e0e6155"
      },
      "source": [
        "# how many percent statistically significant\r\n",
        "df_pvalues.applymap(lambda x: 1 if x<0.05 else 0).mean().mean()"
      ],
      "execution_count": 13,
      "outputs": [
        {
          "output_type": "execute_result",
          "data": {
            "text/plain": [
              "0.7466666666666666"
            ]
          },
          "metadata": {
            "tags": []
          },
          "execution_count": 13
        }
      ]
    },
    {
      "cell_type": "code",
      "metadata": {
        "id": "iu47xPh-1yZW",
        "colab": {
          "base_uri": "https://localhost:8080/",
          "height": 321
        },
        "outputId": "ad789336-8f85-440c-fadf-9d5eeb9addf4"
      },
      "source": [
        "df_params.describe()"
      ],
      "execution_count": 15,
      "outputs": [
        {
          "output_type": "execute_result",
          "data": {
            "text/html": [
              "<div>\n",
              "<style scoped>\n",
              "    .dataframe tbody tr th:only-of-type {\n",
              "        vertical-align: middle;\n",
              "    }\n",
              "\n",
              "    .dataframe tbody tr th {\n",
              "        vertical-align: top;\n",
              "    }\n",
              "\n",
              "    .dataframe thead th {\n",
              "        text-align: right;\n",
              "    }\n",
              "</style>\n",
              "<table border=\"1\" class=\"dataframe\">\n",
              "  <thead>\n",
              "    <tr style=\"text-align: right;\">\n",
              "      <th></th>\n",
              "      <th>constant</th>\n",
              "      <th>retail_and_recreation_percent_change_from_baseline</th>\n",
              "      <th>grocery_and_pharmacy_percent_change_from_baseline</th>\n",
              "      <th>parks_percent_change_from_baseline</th>\n",
              "      <th>transit_stations_percent_change_from_baseline</th>\n",
              "      <th>workplaces_percent_change_from_baseline</th>\n",
              "      <th>residential_percent_change_from_baseline</th>\n",
              "      <th>AverageTemperature</th>\n",
              "      <th>Urbanization %</th>\n",
              "    </tr>\n",
              "  </thead>\n",
              "  <tbody>\n",
              "    <tr>\n",
              "      <th>count</th>\n",
              "      <td>50.000000</td>\n",
              "      <td>50.000000</td>\n",
              "      <td>50.000000</td>\n",
              "      <td>50.000000</td>\n",
              "      <td>50.000000</td>\n",
              "      <td>50.000000</td>\n",
              "      <td>50.000000</td>\n",
              "      <td>50.000000</td>\n",
              "      <td>50.000000</td>\n",
              "    </tr>\n",
              "    <tr>\n",
              "      <th>mean</th>\n",
              "      <td>0.024658</td>\n",
              "      <td>-0.170734</td>\n",
              "      <td>-0.541760</td>\n",
              "      <td>-0.356562</td>\n",
              "      <td>0.581712</td>\n",
              "      <td>-1.975228</td>\n",
              "      <td>-5.194228</td>\n",
              "      <td>0.307664</td>\n",
              "      <td>1.877654</td>\n",
              "    </tr>\n",
              "    <tr>\n",
              "      <th>std</th>\n",
              "      <td>0.043067</td>\n",
              "      <td>5.146793</td>\n",
              "      <td>1.227513</td>\n",
              "      <td>3.136257</td>\n",
              "      <td>3.647860</td>\n",
              "      <td>3.893417</td>\n",
              "      <td>11.520015</td>\n",
              "      <td>0.561730</td>\n",
              "      <td>3.557995</td>\n",
              "    </tr>\n",
              "    <tr>\n",
              "      <th>min</th>\n",
              "      <td>-0.078400</td>\n",
              "      <td>-18.909600</td>\n",
              "      <td>-4.625300</td>\n",
              "      <td>-20.802800</td>\n",
              "      <td>-4.831900</td>\n",
              "      <td>-18.708800</td>\n",
              "      <td>-41.909800</td>\n",
              "      <td>-0.514400</td>\n",
              "      <td>-4.728400</td>\n",
              "    </tr>\n",
              "    <tr>\n",
              "      <th>25%</th>\n",
              "      <td>0.005300</td>\n",
              "      <td>-1.428400</td>\n",
              "      <td>-0.594000</td>\n",
              "      <td>-0.100825</td>\n",
              "      <td>-0.535875</td>\n",
              "      <td>-2.542875</td>\n",
              "      <td>-7.942675</td>\n",
              "      <td>0.051800</td>\n",
              "      <td>0.445500</td>\n",
              "    </tr>\n",
              "    <tr>\n",
              "      <th>50%</th>\n",
              "      <td>0.014950</td>\n",
              "      <td>-0.319800</td>\n",
              "      <td>-0.252050</td>\n",
              "      <td>-0.009250</td>\n",
              "      <td>-0.024250</td>\n",
              "      <td>-1.266700</td>\n",
              "      <td>-5.113300</td>\n",
              "      <td>0.159550</td>\n",
              "      <td>0.979200</td>\n",
              "    </tr>\n",
              "    <tr>\n",
              "      <th>75%</th>\n",
              "      <td>0.032675</td>\n",
              "      <td>0.623350</td>\n",
              "      <td>-0.070425</td>\n",
              "      <td>0.181275</td>\n",
              "      <td>0.473675</td>\n",
              "      <td>-0.498050</td>\n",
              "      <td>-0.267150</td>\n",
              "      <td>0.395375</td>\n",
              "      <td>2.226025</td>\n",
              "    </tr>\n",
              "    <tr>\n",
              "      <th>max</th>\n",
              "      <td>0.230100</td>\n",
              "      <td>20.385100</td>\n",
              "      <td>2.798700</td>\n",
              "      <td>5.513200</td>\n",
              "      <td>17.809700</td>\n",
              "      <td>7.983800</td>\n",
              "      <td>41.992400</td>\n",
              "      <td>3.502200</td>\n",
              "      <td>21.860200</td>\n",
              "    </tr>\n",
              "  </tbody>\n",
              "</table>\n",
              "</div>"
            ],
            "text/plain": [
              "        constant  ...  Urbanization %\n",
              "count  50.000000  ...       50.000000\n",
              "mean    0.024658  ...        1.877654\n",
              "std     0.043067  ...        3.557995\n",
              "min    -0.078400  ...       -4.728400\n",
              "25%     0.005300  ...        0.445500\n",
              "50%     0.014950  ...        0.979200\n",
              "75%     0.032675  ...        2.226025\n",
              "max     0.230100  ...       21.860200\n",
              "\n",
              "[8 rows x 9 columns]"
            ]
          },
          "metadata": {
            "tags": []
          },
          "execution_count": 15
        }
      ]
    },
    {
      "cell_type": "code",
      "metadata": {
        "colab": {
          "base_uri": "https://localhost:8080/",
          "height": 542
        },
        "id": "7d-KLX4I-MzC",
        "outputId": "10647f97-6509-44e6-8e00-4861fa28ffb6"
      },
      "source": [
        "pval_plot = df_pvalues.applymap(lambda x: 1 if x<0.05 else 0).mean().reset_index()\r\n",
        "px.bar(data_frame=pval_plot, x=0, y='index', orientation='h')\r\n",
        "# , title='Percentage of states with P-values less than 0.05'"
      ],
      "execution_count": 161,
      "outputs": [
        {
          "output_type": "display_data",
          "data": {
            "text/html": [
              "<html>\n",
              "<head><meta charset=\"utf-8\" /></head>\n",
              "<body>\n",
              "    <div>\n",
              "            <script src=\"https://cdnjs.cloudflare.com/ajax/libs/mathjax/2.7.5/MathJax.js?config=TeX-AMS-MML_SVG\"></script><script type=\"text/javascript\">if (window.MathJax) {MathJax.Hub.Config({SVG: {font: \"STIX-Web\"}});}</script>\n",
              "                <script type=\"text/javascript\">window.PlotlyConfig = {MathJaxConfig: 'local'};</script>\n",
              "        <script src=\"https://cdn.plot.ly/plotly-latest.min.js\"></script>    \n",
              "            <div id=\"0452e892-06d2-4db3-96bf-1dbda58aee42\" class=\"plotly-graph-div\" style=\"height:525px; width:100%;\"></div>\n",
              "            <script type=\"text/javascript\">\n",
              "                \n",
              "                    window.PLOTLYENV=window.PLOTLYENV || {};\n",
              "                    \n",
              "                if (document.getElementById(\"0452e892-06d2-4db3-96bf-1dbda58aee42\")) {\n",
              "                    Plotly.newPlot(\n",
              "                        '0452e892-06d2-4db3-96bf-1dbda58aee42',\n",
              "                        [{\"alignmentgroup\": \"True\", \"hoverlabel\": {\"namelength\": 0}, \"hovertemplate\": \"0=%{x}<br>index=%{y}\", \"legendgroup\": \"\", \"marker\": {\"color\": \"#636efa\"}, \"name\": \"\", \"offsetgroup\": \"\", \"orientation\": \"h\", \"showlegend\": false, \"textposition\": \"auto\", \"type\": \"bar\", \"x\": [0.8, 0.8, 0.4, 0.78, 0.58, 0.88, 0.88, 0.8, 0.8], \"xaxis\": \"x\", \"y\": [\"constant\", \"retail_and_recreation_percent_change_from_baseline\", \"grocery_and_pharmacy_percent_change_from_baseline\", \"parks_percent_change_from_baseline\", \"transit_stations_percent_change_from_baseline\", \"workplaces_percent_change_from_baseline\", \"residential_percent_change_from_baseline\", \"AverageTemperature\", \"Urbanization %\"], \"yaxis\": \"y\"}],\n",
              "                        {\"barmode\": \"relative\", \"legend\": {\"tracegroupgap\": 0}, \"margin\": {\"t\": 60}, \"template\": {\"data\": {\"bar\": [{\"error_x\": {\"color\": \"#2a3f5f\"}, \"error_y\": {\"color\": \"#2a3f5f\"}, \"marker\": {\"line\": {\"color\": \"#E5ECF6\", \"width\": 0.5}}, \"type\": \"bar\"}], \"barpolar\": [{\"marker\": {\"line\": {\"color\": \"#E5ECF6\", \"width\": 0.5}}, \"type\": \"barpolar\"}], \"carpet\": [{\"aaxis\": {\"endlinecolor\": \"#2a3f5f\", \"gridcolor\": \"white\", \"linecolor\": \"white\", \"minorgridcolor\": \"white\", \"startlinecolor\": \"#2a3f5f\"}, \"baxis\": {\"endlinecolor\": \"#2a3f5f\", \"gridcolor\": \"white\", \"linecolor\": \"white\", \"minorgridcolor\": \"white\", \"startlinecolor\": \"#2a3f5f\"}, \"type\": \"carpet\"}], \"choropleth\": [{\"colorbar\": {\"outlinewidth\": 0, \"ticks\": \"\"}, \"type\": \"choropleth\"}], \"contour\": [{\"colorbar\": {\"outlinewidth\": 0, \"ticks\": \"\"}, \"colorscale\": [[0.0, \"#0d0887\"], [0.1111111111111111, \"#46039f\"], [0.2222222222222222, \"#7201a8\"], [0.3333333333333333, \"#9c179e\"], [0.4444444444444444, \"#bd3786\"], [0.5555555555555556, \"#d8576b\"], [0.6666666666666666, \"#ed7953\"], [0.7777777777777778, \"#fb9f3a\"], [0.8888888888888888, \"#fdca26\"], [1.0, \"#f0f921\"]], \"type\": \"contour\"}], \"contourcarpet\": [{\"colorbar\": {\"outlinewidth\": 0, \"ticks\": \"\"}, \"type\": \"contourcarpet\"}], \"heatmap\": [{\"colorbar\": {\"outlinewidth\": 0, \"ticks\": \"\"}, \"colorscale\": [[0.0, \"#0d0887\"], [0.1111111111111111, \"#46039f\"], [0.2222222222222222, \"#7201a8\"], [0.3333333333333333, \"#9c179e\"], [0.4444444444444444, \"#bd3786\"], [0.5555555555555556, \"#d8576b\"], [0.6666666666666666, \"#ed7953\"], [0.7777777777777778, \"#fb9f3a\"], [0.8888888888888888, \"#fdca26\"], [1.0, \"#f0f921\"]], \"type\": \"heatmap\"}], \"heatmapgl\": [{\"colorbar\": {\"outlinewidth\": 0, \"ticks\": \"\"}, \"colorscale\": [[0.0, \"#0d0887\"], [0.1111111111111111, \"#46039f\"], [0.2222222222222222, \"#7201a8\"], [0.3333333333333333, \"#9c179e\"], [0.4444444444444444, \"#bd3786\"], [0.5555555555555556, \"#d8576b\"], [0.6666666666666666, \"#ed7953\"], [0.7777777777777778, \"#fb9f3a\"], [0.8888888888888888, \"#fdca26\"], [1.0, \"#f0f921\"]], \"type\": \"heatmapgl\"}], \"histogram\": [{\"marker\": {\"colorbar\": {\"outlinewidth\": 0, \"ticks\": \"\"}}, \"type\": \"histogram\"}], \"histogram2d\": [{\"colorbar\": {\"outlinewidth\": 0, \"ticks\": \"\"}, \"colorscale\": [[0.0, \"#0d0887\"], [0.1111111111111111, \"#46039f\"], [0.2222222222222222, \"#7201a8\"], [0.3333333333333333, \"#9c179e\"], [0.4444444444444444, \"#bd3786\"], [0.5555555555555556, \"#d8576b\"], [0.6666666666666666, \"#ed7953\"], [0.7777777777777778, \"#fb9f3a\"], [0.8888888888888888, \"#fdca26\"], [1.0, \"#f0f921\"]], \"type\": \"histogram2d\"}], \"histogram2dcontour\": [{\"colorbar\": {\"outlinewidth\": 0, \"ticks\": \"\"}, \"colorscale\": [[0.0, \"#0d0887\"], [0.1111111111111111, \"#46039f\"], [0.2222222222222222, \"#7201a8\"], [0.3333333333333333, \"#9c179e\"], [0.4444444444444444, \"#bd3786\"], [0.5555555555555556, \"#d8576b\"], [0.6666666666666666, \"#ed7953\"], [0.7777777777777778, \"#fb9f3a\"], [0.8888888888888888, \"#fdca26\"], [1.0, \"#f0f921\"]], \"type\": \"histogram2dcontour\"}], \"mesh3d\": [{\"colorbar\": {\"outlinewidth\": 0, \"ticks\": \"\"}, \"type\": \"mesh3d\"}], \"parcoords\": [{\"line\": {\"colorbar\": {\"outlinewidth\": 0, \"ticks\": \"\"}}, \"type\": \"parcoords\"}], \"pie\": [{\"automargin\": true, \"type\": \"pie\"}], \"scatter\": [{\"marker\": {\"colorbar\": {\"outlinewidth\": 0, \"ticks\": \"\"}}, \"type\": \"scatter\"}], \"scatter3d\": [{\"line\": {\"colorbar\": {\"outlinewidth\": 0, \"ticks\": \"\"}}, \"marker\": {\"colorbar\": {\"outlinewidth\": 0, \"ticks\": \"\"}}, \"type\": \"scatter3d\"}], \"scattercarpet\": [{\"marker\": {\"colorbar\": {\"outlinewidth\": 0, \"ticks\": \"\"}}, \"type\": \"scattercarpet\"}], \"scattergeo\": [{\"marker\": {\"colorbar\": {\"outlinewidth\": 0, \"ticks\": \"\"}}, \"type\": \"scattergeo\"}], \"scattergl\": [{\"marker\": {\"colorbar\": {\"outlinewidth\": 0, \"ticks\": \"\"}}, \"type\": \"scattergl\"}], \"scattermapbox\": [{\"marker\": {\"colorbar\": {\"outlinewidth\": 0, \"ticks\": \"\"}}, \"type\": \"scattermapbox\"}], \"scatterpolar\": [{\"marker\": {\"colorbar\": {\"outlinewidth\": 0, \"ticks\": \"\"}}, \"type\": \"scatterpolar\"}], \"scatterpolargl\": [{\"marker\": {\"colorbar\": {\"outlinewidth\": 0, \"ticks\": \"\"}}, \"type\": \"scatterpolargl\"}], \"scatterternary\": [{\"marker\": {\"colorbar\": {\"outlinewidth\": 0, \"ticks\": \"\"}}, \"type\": \"scatterternary\"}], \"surface\": [{\"colorbar\": {\"outlinewidth\": 0, \"ticks\": \"\"}, \"colorscale\": [[0.0, \"#0d0887\"], [0.1111111111111111, \"#46039f\"], [0.2222222222222222, \"#7201a8\"], [0.3333333333333333, \"#9c179e\"], [0.4444444444444444, \"#bd3786\"], [0.5555555555555556, \"#d8576b\"], [0.6666666666666666, \"#ed7953\"], [0.7777777777777778, \"#fb9f3a\"], [0.8888888888888888, \"#fdca26\"], [1.0, \"#f0f921\"]], \"type\": \"surface\"}], \"table\": [{\"cells\": {\"fill\": {\"color\": \"#EBF0F8\"}, \"line\": {\"color\": \"white\"}}, \"header\": {\"fill\": {\"color\": \"#C8D4E3\"}, \"line\": {\"color\": \"white\"}}, \"type\": \"table\"}]}, \"layout\": {\"annotationdefaults\": {\"arrowcolor\": \"#2a3f5f\", \"arrowhead\": 0, \"arrowwidth\": 1}, \"coloraxis\": {\"colorbar\": {\"outlinewidth\": 0, \"ticks\": \"\"}}, \"colorscale\": {\"diverging\": [[0, \"#8e0152\"], [0.1, \"#c51b7d\"], [0.2, \"#de77ae\"], [0.3, \"#f1b6da\"], [0.4, \"#fde0ef\"], [0.5, \"#f7f7f7\"], [0.6, \"#e6f5d0\"], [0.7, \"#b8e186\"], [0.8, \"#7fbc41\"], [0.9, \"#4d9221\"], [1, \"#276419\"]], \"sequential\": [[0.0, \"#0d0887\"], [0.1111111111111111, \"#46039f\"], [0.2222222222222222, \"#7201a8\"], [0.3333333333333333, \"#9c179e\"], [0.4444444444444444, \"#bd3786\"], [0.5555555555555556, \"#d8576b\"], [0.6666666666666666, \"#ed7953\"], [0.7777777777777778, \"#fb9f3a\"], [0.8888888888888888, \"#fdca26\"], [1.0, \"#f0f921\"]], \"sequentialminus\": [[0.0, \"#0d0887\"], [0.1111111111111111, \"#46039f\"], [0.2222222222222222, \"#7201a8\"], [0.3333333333333333, \"#9c179e\"], [0.4444444444444444, \"#bd3786\"], [0.5555555555555556, \"#d8576b\"], [0.6666666666666666, \"#ed7953\"], [0.7777777777777778, \"#fb9f3a\"], [0.8888888888888888, \"#fdca26\"], [1.0, \"#f0f921\"]]}, \"colorway\": [\"#636efa\", \"#EF553B\", \"#00cc96\", \"#ab63fa\", \"#FFA15A\", \"#19d3f3\", \"#FF6692\", \"#B6E880\", \"#FF97FF\", \"#FECB52\"], \"font\": {\"color\": \"#2a3f5f\"}, \"geo\": {\"bgcolor\": \"white\", \"lakecolor\": \"white\", \"landcolor\": \"#E5ECF6\", \"showlakes\": true, \"showland\": true, \"subunitcolor\": \"white\"}, \"hoverlabel\": {\"align\": \"left\"}, \"hovermode\": \"closest\", \"mapbox\": {\"style\": \"light\"}, \"paper_bgcolor\": \"white\", \"plot_bgcolor\": \"#E5ECF6\", \"polar\": {\"angularaxis\": {\"gridcolor\": \"white\", \"linecolor\": \"white\", \"ticks\": \"\"}, \"bgcolor\": \"#E5ECF6\", \"radialaxis\": {\"gridcolor\": \"white\", \"linecolor\": \"white\", \"ticks\": \"\"}}, \"scene\": {\"xaxis\": {\"backgroundcolor\": \"#E5ECF6\", \"gridcolor\": \"white\", \"gridwidth\": 2, \"linecolor\": \"white\", \"showbackground\": true, \"ticks\": \"\", \"zerolinecolor\": \"white\"}, \"yaxis\": {\"backgroundcolor\": \"#E5ECF6\", \"gridcolor\": \"white\", \"gridwidth\": 2, \"linecolor\": \"white\", \"showbackground\": true, \"ticks\": \"\", \"zerolinecolor\": \"white\"}, \"zaxis\": {\"backgroundcolor\": \"#E5ECF6\", \"gridcolor\": \"white\", \"gridwidth\": 2, \"linecolor\": \"white\", \"showbackground\": true, \"ticks\": \"\", \"zerolinecolor\": \"white\"}}, \"shapedefaults\": {\"line\": {\"color\": \"#2a3f5f\"}}, \"ternary\": {\"aaxis\": {\"gridcolor\": \"white\", \"linecolor\": \"white\", \"ticks\": \"\"}, \"baxis\": {\"gridcolor\": \"white\", \"linecolor\": \"white\", \"ticks\": \"\"}, \"bgcolor\": \"#E5ECF6\", \"caxis\": {\"gridcolor\": \"white\", \"linecolor\": \"white\", \"ticks\": \"\"}}, \"title\": {\"x\": 0.05}, \"xaxis\": {\"automargin\": true, \"gridcolor\": \"white\", \"linecolor\": \"white\", \"ticks\": \"\", \"title\": {\"standoff\": 15}, \"zerolinecolor\": \"white\", \"zerolinewidth\": 2}, \"yaxis\": {\"automargin\": true, \"gridcolor\": \"white\", \"linecolor\": \"white\", \"ticks\": \"\", \"title\": {\"standoff\": 15}, \"zerolinecolor\": \"white\", \"zerolinewidth\": 2}}}, \"xaxis\": {\"anchor\": \"y\", \"domain\": [0.0, 1.0], \"title\": {\"text\": \"0\"}}, \"yaxis\": {\"anchor\": \"x\", \"domain\": [0.0, 1.0], \"title\": {\"text\": \"index\"}}},\n",
              "                        {\"responsive\": true}\n",
              "                    ).then(function(){\n",
              "                            \n",
              "var gd = document.getElementById('0452e892-06d2-4db3-96bf-1dbda58aee42');\n",
              "var x = new MutationObserver(function (mutations, observer) {{\n",
              "        var display = window.getComputedStyle(gd).display;\n",
              "        if (!display || display === 'none') {{\n",
              "            console.log([gd, 'removed!']);\n",
              "            Plotly.purge(gd);\n",
              "            observer.disconnect();\n",
              "        }}\n",
              "}});\n",
              "\n",
              "// Listen for the removal of the full notebook cells\n",
              "var notebookContainer = gd.closest('#notebook-container');\n",
              "if (notebookContainer) {{\n",
              "    x.observe(notebookContainer, {childList: true});\n",
              "}}\n",
              "\n",
              "// Listen for the clearing of the current output cell\n",
              "var outputEl = gd.closest('.output');\n",
              "if (outputEl) {{\n",
              "    x.observe(outputEl, {childList: true});\n",
              "}}\n",
              "\n",
              "                        })\n",
              "                };\n",
              "                \n",
              "            </script>\n",
              "        </div>\n",
              "</body>\n",
              "</html>"
            ]
          },
          "metadata": {
            "tags": []
          }
        }
      ]
    },
    {
      "cell_type": "code",
      "metadata": {
        "colab": {
          "base_uri": "https://localhost:8080/"
        },
        "id": "J6jLu7lAp7b8",
        "outputId": "4c0f30ba-e4ec-4ec2-8af8-f570987516ef"
      },
      "source": [
        "df_r_square_adj.mean()"
      ],
      "execution_count": 17,
      "outputs": [
        {
          "output_type": "execute_result",
          "data": {
            "text/plain": [
              "0    0.52499\n",
              "dtype: float64"
            ]
          },
          "metadata": {
            "tags": []
          },
          "execution_count": 17
        }
      ]
    },
    {
      "cell_type": "markdown",
      "metadata": {
        "id": "F9iEAo_ymOA7"
      },
      "source": [
        "#PCA to reduce Multicollinearity"
      ]
    },
    {
      "cell_type": "code",
      "metadata": {
        "colab": {
          "base_uri": "https://localhost:8080/"
        },
        "id": "RYPsowt_qoMa",
        "outputId": "904d461f-b1ea-4ddb-8810-6f24a2c45be7"
      },
      "source": [
        "from sklearn.decomposition import PCA\r\n",
        "X_cols = ['mobility','AverageTemperature', 'Urbanization %', 'day_since_record']\r\n",
        "pca = PCA(1)\r\n",
        "base = ['retail_and_recreation_percent_change_from_baseline','grocery_and_pharmacy_percent_change_from_baseline','parks_percent_change_from_baseline','transit_stations_percent_change_from_baseline','workplaces_percent_change_from_baseline','residential_percent_change_from_baseline']\r\n",
        "vars = df[base].fillna(0)\r\n",
        "pca.fit(vars)\r\n",
        "print('pca explained variance ratio:', pca.explained_variance_ratio_)\r\n",
        "df['mobility'] = pca.transform(vars)"
      ],
      "execution_count": 16,
      "outputs": [
        {
          "output_type": "stream",
          "text": [
            "pca explained variance ratio: [0.87925078]\n"
          ],
          "name": "stdout"
        }
      ]
    },
    {
      "cell_type": "code",
      "metadata": {
        "colab": {
          "base_uri": "https://localhost:8080/",
          "height": 166
        },
        "id": "a5zMG7-MONix",
        "outputId": "9713f462-9056-48d9-db36-31d0f65c5707"
      },
      "source": [
        "df[X_cols].corr()"
      ],
      "execution_count": 17,
      "outputs": [
        {
          "output_type": "execute_result",
          "data": {
            "text/html": [
              "<div>\n",
              "<style scoped>\n",
              "    .dataframe tbody tr th:only-of-type {\n",
              "        vertical-align: middle;\n",
              "    }\n",
              "\n",
              "    .dataframe tbody tr th {\n",
              "        vertical-align: top;\n",
              "    }\n",
              "\n",
              "    .dataframe thead th {\n",
              "        text-align: right;\n",
              "    }\n",
              "</style>\n",
              "<table border=\"1\" class=\"dataframe\">\n",
              "  <thead>\n",
              "    <tr style=\"text-align: right;\">\n",
              "      <th></th>\n",
              "      <th>mobility</th>\n",
              "      <th>AverageTemperature</th>\n",
              "      <th>Urbanization %</th>\n",
              "      <th>day_since_record</th>\n",
              "    </tr>\n",
              "  </thead>\n",
              "  <tbody>\n",
              "    <tr>\n",
              "      <th>mobility</th>\n",
              "      <td>1.000000</td>\n",
              "      <td>-0.327753</td>\n",
              "      <td>-0.216300</td>\n",
              "      <td>-0.243754</td>\n",
              "    </tr>\n",
              "    <tr>\n",
              "      <th>AverageTemperature</th>\n",
              "      <td>-0.327753</td>\n",
              "      <td>1.000000</td>\n",
              "      <td>0.230669</td>\n",
              "      <td>0.002258</td>\n",
              "    </tr>\n",
              "    <tr>\n",
              "      <th>Urbanization %</th>\n",
              "      <td>-0.216300</td>\n",
              "      <td>0.230669</td>\n",
              "      <td>1.000000</td>\n",
              "      <td>0.011922</td>\n",
              "    </tr>\n",
              "    <tr>\n",
              "      <th>day_since_record</th>\n",
              "      <td>-0.243754</td>\n",
              "      <td>0.002258</td>\n",
              "      <td>0.011922</td>\n",
              "      <td>1.000000</td>\n",
              "    </tr>\n",
              "  </tbody>\n",
              "</table>\n",
              "</div>"
            ],
            "text/plain": [
              "                    mobility  ...  day_since_record\n",
              "mobility            1.000000  ...         -0.243754\n",
              "AverageTemperature -0.327753  ...          0.002258\n",
              "Urbanization %     -0.216300  ...          0.011922\n",
              "day_since_record   -0.243754  ...          1.000000\n",
              "\n",
              "[4 rows x 4 columns]"
            ]
          },
          "metadata": {
            "tags": []
          },
          "execution_count": 17
        }
      ]
    },
    {
      "cell_type": "code",
      "metadata": {
        "id": "85n5hvOgPZ3q"
      },
      "source": [
        ""
      ],
      "execution_count": 17,
      "outputs": []
    },
    {
      "cell_type": "markdown",
      "metadata": {
        "id": "jqzMhTRUrXJ6"
      },
      "source": [
        "#### All states together"
      ]
    },
    {
      "cell_type": "code",
      "metadata": {
        "colab": {
          "base_uri": "https://localhost:8080/"
        },
        "id": "Uf1sEWZuklGg",
        "outputId": "6c0f7378-a126-45bc-a794-c58cb812147f"
      },
      "source": [
        "X_cols"
      ],
      "execution_count": 18,
      "outputs": [
        {
          "output_type": "execute_result",
          "data": {
            "text/plain": [
              "['mobility', 'AverageTemperature', 'Urbanization %', 'day_since_record']"
            ]
          },
          "metadata": {
            "tags": []
          },
          "execution_count": 18
        }
      ]
    },
    {
      "cell_type": "code",
      "metadata": {
        "id": "k8-SO-TfXXqP"
      },
      "source": [
        "df['day_since_record_square'] = df['day_since_record'].apply(lambda x:x**2)\r\n",
        "df['mobility_temperature'] = df.apply(lambda x:x['mobility'] * x['AverageTemperature'], axis = 1)\r\n",
        "df['mobility_day'] = df.apply(lambda x:x['mobility'] * x['day_since_record'], axis = 1)\r\n",
        "df['mobility_urban'] = df.apply(lambda x:x['mobility'] * x['Urbanization %'], axis = 1)\r\n"
      ],
      "execution_count": 19,
      "outputs": []
    },
    {
      "cell_type": "code",
      "metadata": {
        "colab": {
          "base_uri": "https://localhost:8080/"
        },
        "id": "77cudM3Cq-oG",
        "outputId": "70fbb136-037a-4f6e-a054-d2dd7d548e3b"
      },
      "source": [
        "\r\n",
        "from tqdm import tqdm\r\n",
        "pd.options.mode.chained_assignment = None \r\n",
        "\r\n",
        "y_variable_options = ['deathIncrease', 'hospitalizedIncrease', 'inIcuCurrently', 'onVentilatorCurrently']\r\n",
        "lag = -90\r\n",
        "smoothing = True\r\n",
        "\r\n",
        "# data = weekly_df\r\n",
        "data = df\r\n",
        "data = data.copy()\r\n",
        "\r\n",
        "\r\n",
        "for y_variable in tqdm(y_variable_options):\r\n",
        "    if smoothing == True:\r\n",
        "        # 7 day rolling\r\n",
        "        data = data.sort_values(by = ['state','date'])\r\n",
        "        data[y_variable] = data.groupby('state')[y_variable].rolling(7, min_periods = 1).sum().values\r\n",
        "        data['mobility'] = data.groupby('state')['mobility'].rolling(7, min_periods = 1).sum().values\r\n",
        "        for x_col in X_cols:\r\n",
        "            if x_col.split('_')[-1] == 'baseline':\r\n",
        "                data[x_col] = data.groupby('state')[x_col].rolling(7, min_periods = 1).sum().values\r\n",
        "\r\n",
        "    df_reg = data.copy()\r\n",
        "    df_reg = df_reg.groupby(['state']).apply(lambda x: x.sort_values(by = 'date').shift(lag)).reset_index(drop = True)\r\n",
        "    df_reg = df_reg[df_reg[y_variable].notna()]\r\n",
        "    df_reg[y_variable] = df_reg[y_variable].shift(lag)\r\n",
        "    df_reg = df_reg[df_reg[y_variable].isna() == False]\r\n",
        "    y = df_reg[y_variable].fillna(0).values\r\n",
        "    x = df_reg[X_cols].fillna(0).values\r\n",
        "    x = sm.add_constant(x)\r\n",
        "    model = sm.OLS(y,x)\r\n",
        "    results = model.fit()\r\n",
        "    print(results.summary())\r\n"
      ],
      "execution_count": 20,
      "outputs": [
        {
          "output_type": "stream",
          "text": [
            " 25%|██▌       | 1/4 [00:00<00:00,  4.87it/s]"
          ],
          "name": "stderr"
        },
        {
          "output_type": "stream",
          "text": [
            "                            OLS Regression Results                            \n",
            "==============================================================================\n",
            "Dep. Variable:                      y   R-squared:                       0.085\n",
            "Model:                            OLS   Adj. R-squared:                  0.085\n",
            "Method:                 Least Squares   F-statistic:                     296.0\n",
            "Date:                Sun, 21 Feb 2021   Prob (F-statistic):          6.63e-244\n",
            "Time:                        22:54:44   Log-Likelihood:                -91777.\n",
            "No. Observations:               12782   AIC:                         1.836e+05\n",
            "Df Residuals:                   12777   BIC:                         1.836e+05\n",
            "Df Model:                           4                                         \n",
            "Covariance Type:            nonrobust                                         \n",
            "==============================================================================\n",
            "                 coef    std err          t      P>|t|      [0.025      0.975]\n",
            "------------------------------------------------------------------------------\n",
            "const       -293.7326     22.388    -13.120      0.000    -337.616    -249.849\n",
            "x1             0.0188      0.008      2.429      0.015       0.004       0.034\n",
            "x2            14.8050      0.675     21.941      0.000      13.482      16.128\n",
            "x3             3.9175      0.204     19.164      0.000       3.517       4.318\n",
            "x4             0.1746      0.052      3.377      0.001       0.073       0.276\n",
            "==============================================================================\n",
            "Omnibus:                    12071.461   Durbin-Watson:                   0.041\n",
            "Prob(Omnibus):                  0.000   Jarque-Bera (JB):           646299.302\n",
            "Skew:                           4.530   Prob(JB):                         0.00\n",
            "Kurtosis:                      36.637   Cond. No.                     4.37e+03\n",
            "==============================================================================\n",
            "\n",
            "Notes:\n",
            "[1] Standard Errors assume that the covariance matrix of the errors is correctly specified.\n",
            "[2] The condition number is large, 4.37e+03. This might indicate that there are\n",
            "strong multicollinearity or other numerical problems.\n"
          ],
          "name": "stdout"
        },
        {
          "output_type": "stream",
          "text": [
            "\r 50%|█████     | 2/4 [00:00<00:00,  4.78it/s]"
          ],
          "name": "stderr"
        },
        {
          "output_type": "stream",
          "text": [
            "                            OLS Regression Results                            \n",
            "==============================================================================\n",
            "Dep. Variable:                      y   R-squared:                       0.031\n",
            "Model:                            OLS   Adj. R-squared:                  0.030\n",
            "Method:                 Least Squares   F-statistic:                     101.2\n",
            "Date:                Sun, 21 Feb 2021   Prob (F-statistic):           5.21e-85\n",
            "Time:                        22:54:44   Log-Likelihood:            -1.0278e+05\n",
            "No. Observations:               12782   AIC:                         2.056e+05\n",
            "Df Residuals:                   12777   BIC:                         2.056e+05\n",
            "Df Model:                           4                                         \n",
            "Covariance Type:            nonrobust                                         \n",
            "==============================================================================\n",
            "                 coef    std err          t      P>|t|      [0.025      0.975]\n",
            "------------------------------------------------------------------------------\n",
            "const       -545.6328     53.182    -10.260      0.000    -649.877    -441.388\n",
            "x1             0.0314      0.003     11.929      0.000       0.026       0.037\n",
            "x2            25.8808      1.603     16.142      0.000      22.738      29.024\n",
            "x3             4.8753      0.484     10.071      0.000       3.926       5.824\n",
            "x4             1.1057      0.122      9.094      0.000       0.867       1.344\n",
            "==============================================================================\n",
            "Omnibus:                    20175.887   Durbin-Watson:                   0.154\n",
            "Prob(Omnibus):                  0.000   Jarque-Bera (JB):         18045753.094\n",
            "Skew:                          10.021   Prob(JB):                         0.00\n",
            "Kurtosis:                     185.980   Cond. No.                     3.04e+04\n",
            "==============================================================================\n",
            "\n",
            "Notes:\n",
            "[1] Standard Errors assume that the covariance matrix of the errors is correctly specified.\n",
            "[2] The condition number is large, 3.04e+04. This might indicate that there are\n",
            "strong multicollinearity or other numerical problems.\n"
          ],
          "name": "stdout"
        },
        {
          "output_type": "stream",
          "text": [
            "\r 75%|███████▌  | 3/4 [00:00<00:00,  4.68it/s]"
          ],
          "name": "stderr"
        },
        {
          "output_type": "stream",
          "text": [
            "                            OLS Regression Results                            \n",
            "==============================================================================\n",
            "Dep. Variable:                      y   R-squared:                       0.068\n",
            "Model:                            OLS   Adj. R-squared:                  0.068\n",
            "Method:                 Least Squares   F-statistic:                     155.8\n",
            "Date:                Sun, 21 Feb 2021   Prob (F-statistic):          7.06e-129\n",
            "Time:                        22:54:45   Log-Likelihood:                -82365.\n",
            "No. Observations:                8524   AIC:                         1.647e+05\n",
            "Df Residuals:                    8519   BIC:                         1.648e+05\n",
            "Df Model:                           4                                         \n",
            "Covariance Type:            nonrobust                                         \n",
            "==============================================================================\n",
            "                 coef    std err          t      P>|t|      [0.025      0.975]\n",
            "------------------------------------------------------------------------------\n",
            "const      -2528.1279    354.195     -7.138      0.000   -3222.435   -1833.821\n",
            "x1            -0.0022      0.003     -0.874      0.382      -0.007       0.003\n",
            "x2           190.5697     11.814     16.131      0.000     167.411     213.728\n",
            "x3            37.9736      2.862     13.268      0.000      32.363      43.584\n",
            "x4             0.2813      0.803      0.350      0.726      -1.292       1.855\n",
            "==============================================================================\n",
            "Omnibus:                     6712.935   Durbin-Watson:                   0.012\n",
            "Prob(Omnibus):                  0.000   Jarque-Bera (JB):           154321.705\n",
            "Skew:                           3.684   Prob(JB):                         0.00\n",
            "Kurtosis:                      22.499   Cond. No.                     2.15e+05\n",
            "==============================================================================\n",
            "\n",
            "Notes:\n",
            "[1] Standard Errors assume that the covariance matrix of the errors is correctly specified.\n",
            "[2] The condition number is large, 2.15e+05. This might indicate that there are\n",
            "strong multicollinearity or other numerical problems.\n"
          ],
          "name": "stdout"
        },
        {
          "output_type": "stream",
          "text": [
            "100%|██████████| 4/4 [00:00<00:00,  4.62it/s]"
          ],
          "name": "stderr"
        },
        {
          "output_type": "stream",
          "text": [
            "                            OLS Regression Results                            \n",
            "==============================================================================\n",
            "Dep. Variable:                      y   R-squared:                       0.032\n",
            "Model:                            OLS   Adj. R-squared:                  0.031\n",
            "Method:                 Least Squares   F-statistic:                     54.72\n",
            "Date:                Sun, 21 Feb 2021   Prob (F-statistic):           1.84e-45\n",
            "Time:                        22:54:45   Log-Likelihood:                -56199.\n",
            "No. Observations:                6626   AIC:                         1.124e+05\n",
            "Df Residuals:                    6621   BIC:                         1.124e+05\n",
            "Df Model:                           4                                         \n",
            "Covariance Type:            nonrobust                                         \n",
            "==============================================================================\n",
            "                 coef    std err          t      P>|t|      [0.025      0.975]\n",
            "------------------------------------------------------------------------------\n",
            "const       -535.5617    113.869     -4.703      0.000    -758.782    -312.342\n",
            "x1             0.0014      0.000     11.983      0.000       0.001       0.002\n",
            "x2            25.4709      3.331      7.647      0.000      18.942      32.000\n",
            "x3             9.6837      0.993      9.750      0.000       7.737      11.631\n",
            "x4             2.4802      0.257      9.646      0.000       1.976       2.984\n",
            "==============================================================================\n",
            "Omnibus:                     2828.689   Durbin-Watson:                   0.020\n",
            "Prob(Omnibus):                  0.000   Jarque-Bera (JB):            12836.130\n",
            "Skew:                           2.084   Prob(JB):                         0.00\n",
            "Kurtosis:                       8.397   Cond. No.                     1.38e+06\n",
            "==============================================================================\n",
            "\n",
            "Notes:\n",
            "[1] Standard Errors assume that the covariance matrix of the errors is correctly specified.\n",
            "[2] The condition number is large, 1.38e+06. This might indicate that there are\n",
            "strong multicollinearity or other numerical problems.\n"
          ],
          "name": "stdout"
        },
        {
          "output_type": "stream",
          "text": [
            "\n"
          ],
          "name": "stderr"
        }
      ]
    },
    {
      "cell_type": "code",
      "metadata": {
        "id": "zhDxurPK23K5"
      },
      "source": [
        "# X_cols = X_cols + ['mobility_urban']"
      ],
      "execution_count": 23,
      "outputs": []
    },
    {
      "cell_type": "code",
      "metadata": {
        "id": "F3X5u5LKiZHS"
      },
      "source": [
        "# X_cols"
      ],
      "execution_count": 21,
      "outputs": []
    },
    {
      "cell_type": "markdown",
      "metadata": {
        "id": "zcfLTeBWragE"
      },
      "source": [
        "#### Individual States"
      ]
    },
    {
      "cell_type": "code",
      "metadata": {
        "colab": {
          "base_uri": "https://localhost:8080/"
        },
        "id": "b-McIcpkqbIf",
        "outputId": "c180a74a-8f6c-48fc-c9d5-cedd75f1a407"
      },
      "source": [
        "from tqdm import tqdm\r\n",
        "pd.options.mode.chained_assignment = None \r\n",
        "# y in  ['deathIncrease', 'hospitalizedIncrease', 'inIcuCurrently', 'onVentilatorCurrently', 'PositiveRate']\r\n",
        "y_variable = 'deathIncrease'\r\n",
        "lag = -120\r\n",
        "coeffs = []\r\n",
        "p_values = []\r\n",
        "r_squared_adjs = []\r\n",
        "states = df.state.unique()\r\n",
        "smoothing = True\r\n",
        "\r\n",
        "# data = weekly_df\r\n",
        "data = df\r\n",
        "data = data.copy()\r\n",
        "\r\n",
        "if smoothing == True:\r\n",
        "# 7 day rolling\r\n",
        "    data[y_variable] = data.groupby('state')[y_variable].rolling(7, min_periods = 1).sum().values\r\n",
        "    for x_col in X_cols:\r\n",
        "        if x_col.split('_')[-1] == 'baseline':\r\n",
        "            data[x_col] = data.groupby('state')[x_col].rolling(7, min_periods = 1).sum().values\r\n",
        "\r\n",
        "\r\n",
        "for state in tqdm(states):\r\n",
        "    df_reg = data[data['state'] == state]\r\n",
        "    df_reg[y_variable] = data[y_variable].shift(lag)\r\n",
        "    df_reg = df_reg[df_reg[y_variable].isna() == False]\r\n",
        "    y = df_reg[y_variable].fillna(0).values\r\n",
        "    x = df_reg[X_cols].fillna(0).values\r\n",
        "    # x = df_reg[['residential_percent_change_from_baseline', 'day_since_record', 'Density']].fillna(0).values\r\n",
        "    x = sm.add_constant(x, has_constant='add')\r\n",
        "    model = sm.OLS(y,x)\r\n",
        "    results = model.fit()\r\n",
        "    coeffs.append(results.params)\r\n",
        "    p_values.append(results.pvalues)\r\n",
        "    r_squared_adjs.append(results.rsquared_adj)\r\n",
        "df_pvalues = pd.DataFrame(p_values, index = states, columns = ['constant'] + X_cols).apply(lambda x: round(x, 4))\r\n",
        "# df_pvalues = pd.DataFrame(p_values, index = states, columns = ['constant', 'residential_percent_change_from_baseline', 'day_since_record', 'Density'] ).apply(lambda x: round(x, 4))\r\n",
        "df_r_square_adj = pd.DataFrame(r_squared_adjs, index = states).apply(lambda x: round(x, 4))\r\n",
        "df_params = pd.DataFrame(coeffs, index = states, columns = ['constant'] + X_cols).apply(lambda x: round(x, 4))\r\n"
      ],
      "execution_count": 33,
      "outputs": [
        {
          "output_type": "stream",
          "text": [
            "100%|██████████| 50/50 [00:00<00:00, 161.19it/s]\n"
          ],
          "name": "stderr"
        }
      ]
    },
    {
      "cell_type": "code",
      "metadata": {
        "colab": {
          "base_uri": "https://localhost:8080/"
        },
        "id": "lgsva7furH8v",
        "outputId": "7bedc97a-2188-4e1b-d227-fc5824e00c9c"
      },
      "source": [
        "# how many percent statistically significant\r\n",
        "df_pvalues.applymap(lambda x: 1 if x<0.05 else 0).mean()"
      ],
      "execution_count": 34,
      "outputs": [
        {
          "output_type": "execute_result",
          "data": {
            "text/plain": [
              "constant              0.88\n",
              "mobility              0.86\n",
              "AverageTemperature    0.88\n",
              "Urbanization %        0.88\n",
              "day_since_record      0.86\n",
              "dtype: float64"
            ]
          },
          "metadata": {
            "tags": []
          },
          "execution_count": 34
        }
      ]
    },
    {
      "cell_type": "code",
      "metadata": {
        "colab": {
          "base_uri": "https://localhost:8080/"
        },
        "id": "OGuAaMbOrJRh",
        "outputId": "0d71fb06-8258-4db8-f802-4280b8e267a6"
      },
      "source": [
        "df_r_square_adj.mean()"
      ],
      "execution_count": 35,
      "outputs": [
        {
          "output_type": "execute_result",
          "data": {
            "text/plain": [
              "0    0.278192\n",
              "dtype: float64"
            ]
          },
          "metadata": {
            "tags": []
          },
          "execution_count": 35
        }
      ]
    },
    {
      "cell_type": "code",
      "metadata": {
        "colab": {
          "base_uri": "https://localhost:8080/"
        },
        "id": "xJNlgtYLrM7m",
        "outputId": "5df5c73a-bc08-4f99-c599-6b1c0dcadbec"
      },
      "source": [
        "df_params.mean()"
      ],
      "execution_count": 36,
      "outputs": [
        {
          "output_type": "execute_result",
          "data": {
            "text/plain": [
              "constant              0.015234\n",
              "mobility              0.191050\n",
              "AverageTemperature    0.261468\n",
              "Urbanization %        1.178634\n",
              "day_since_record      0.336664\n",
              "dtype: float64"
            ]
          },
          "metadata": {
            "tags": []
          },
          "execution_count": 36
        }
      ]
    },
    {
      "cell_type": "markdown",
      "metadata": {
        "id": "1uZOOnrzFE_n"
      },
      "source": [
        "# Panel Regression(Random Effect)"
      ]
    },
    {
      "cell_type": "code",
      "metadata": {
        "id": "pw6_Yfo30Le2",
        "colab": {
          "base_uri": "https://localhost:8080/"
        },
        "outputId": "7326593c-4f38-4030-fcbb-b6fb08646a48"
      },
      "source": [
        "!pip install linearmodels"
      ],
      "execution_count": 28,
      "outputs": [
        {
          "output_type": "stream",
          "text": [
            "Requirement already satisfied: linearmodels in /usr/local/lib/python3.6/dist-packages (4.19)\n",
            "Requirement already satisfied: patsy in /usr/local/lib/python3.6/dist-packages (from linearmodels) (0.5.1)\n",
            "Requirement already satisfied: pyhdfe>=0.1 in /usr/local/lib/python3.6/dist-packages (from linearmodels) (0.1.0)\n",
            "Requirement already satisfied: statsmodels>=0.11 in /usr/local/lib/python3.6/dist-packages (from linearmodels) (0.12.2)\n",
            "Requirement already satisfied: Cython>=0.29.21 in /usr/local/lib/python3.6/dist-packages (from linearmodels) (0.29.21)\n",
            "Requirement already satisfied: numpy>=1.16 in /usr/local/lib/python3.6/dist-packages (from linearmodels) (1.19.5)\n",
            "Requirement already satisfied: pandas>=0.24 in /usr/local/lib/python3.6/dist-packages (from linearmodels) (1.1.5)\n",
            "Requirement already satisfied: mypy-extensions>=0.4 in /usr/local/lib/python3.6/dist-packages (from linearmodels) (0.4.3)\n",
            "Requirement already satisfied: scipy>=1.2 in /usr/local/lib/python3.6/dist-packages (from linearmodels) (1.4.1)\n",
            "Requirement already satisfied: property-cached>=1.6.3 in /usr/local/lib/python3.6/dist-packages (from linearmodels) (1.6.4)\n",
            "Requirement already satisfied: six in /usr/local/lib/python3.6/dist-packages (from patsy->linearmodels) (1.15.0)\n",
            "Requirement already satisfied: pytz>=2017.2 in /usr/local/lib/python3.6/dist-packages (from pandas>=0.24->linearmodels) (2018.9)\n",
            "Requirement already satisfied: python-dateutil>=2.7.3 in /usr/local/lib/python3.6/dist-packages (from pandas>=0.24->linearmodels) (2.8.1)\n"
          ],
          "name": "stdout"
        }
      ]
    },
    {
      "cell_type": "code",
      "metadata": {
        "id": "TgnOHyRCb0Sa"
      },
      "source": [
        "df['14days_death'] = df['deathIncrease'].shift(14)\r\n",
        "df['14days_death'] = df['14days_death'].fillna(0)"
      ],
      "execution_count": 29,
      "outputs": []
    },
    {
      "cell_type": "code",
      "metadata": {
        "colab": {
          "base_uri": "https://localhost:8080/"
        },
        "id": "7GU4u4cAvxvQ",
        "outputId": "4494276e-f08c-43e3-cb03-7fbc63052c55"
      },
      "source": [
        "from linearmodels import RandomEffects, PanelOLS\r\n",
        "y_variable_options = ['deathIncrease', 'hospitalizedIncrease', 'inIcuCurrently', 'onVentilatorCurrently']\r\n",
        "data = df\r\n",
        "data = data.copy()\r\n",
        "lag = -120\r\n",
        "\r\n",
        "for y_value in y_variable_options:\r\n",
        "    df_reg = data\r\n",
        "    df_reg = df_reg.groupby(['state']).apply(lambda x: x.sort_values(by = 'date').shift(lag)).reset_index(drop = True)\r\n",
        "    df_reg = df_reg[df_reg[y_value].notna()]\r\n",
        "    df_reg['date']= pd.to_datetime(df_reg['date'])\r\n",
        "    df_reg = df_reg.set_index(['state','date'])\r\n",
        "    exog = sm.add_constant(df_reg[['mobility']])\r\n",
        "    endog = df_reg[y_value]\r\n",
        "    # random effects model\r\n",
        "    model_re = RandomEffects(endog, exog) \r\n",
        "    re_res = model_re.fit() \r\n",
        "    # fixed effects model\r\n",
        "    model_fe = PanelOLS(endog, exog, entity_effects = True, time_effects=True) \r\n",
        "    fe_res = model_fe.fit() \r\n",
        "    #print results\r\n",
        "    # print(re_res)\r\n",
        "    # pvlaues.append(re_res.pvalues)\r\n",
        "\r\n",
        "    print(fe_res)"
      ],
      "execution_count": 32,
      "outputs": [
        {
          "output_type": "stream",
          "text": [
            "                          PanelOLS Estimation Summary                           \n",
            "================================================================================\n",
            "Dep. Variable:          deathIncrease   R-squared:                        0.0002\n",
            "Estimator:                   PanelOLS   R-squared (Between):             -0.0115\n",
            "No. Observations:               11372   R-squared (Within):              -0.0072\n",
            "Date:                Sun, Feb 21 2021   R-squared (Overall):             -0.0086\n",
            "Time:                        22:56:18   Log-likelihood                -6.011e+04\n",
            "Cov. Estimator:            Unadjusted                                           \n",
            "                                        F-statistic:                      1.7798\n",
            "Entities:                          50   P-value                           0.1822\n",
            "Avg Obs:                       227.44   Distribution:                 F(1,11078)\n",
            "Min Obs:                       223.00                                           \n",
            "Max Obs:                       244.00   F-statistic (robust):             1.7798\n",
            "                                        P-value                           0.1822\n",
            "Time periods:                     244   Distribution:                 F(1,11078)\n",
            "Avg Obs:                       46.607                                           \n",
            "Min Obs:                       6.0000                                           \n",
            "Max Obs:                       50.000                                           \n",
            "                                                                                \n",
            "                             Parameter Estimates                              \n",
            "==============================================================================\n",
            "            Parameter  Std. Err.     T-stat    P-value    Lower CI    Upper CI\n",
            "------------------------------------------------------------------------------\n",
            "const          30.794     0.4546     67.734     0.0000      29.903      31.685\n",
            "mobility       0.0131     0.0098     1.3341     0.1822     -0.0061      0.0322\n",
            "==============================================================================\n",
            "\n",
            "F-test for Poolability: 25.455\n",
            "P-value: 0.0000\n",
            "Distribution: F(292,11078)\n",
            "\n",
            "Included effects: Entity, Time\n",
            "                           PanelOLS Estimation Summary                            \n",
            "==================================================================================\n",
            "Dep. Variable:     hospitalizedIncrease   R-squared:                        0.0007\n",
            "Estimator:                     PanelOLS   R-squared (Between):              0.0109\n",
            "No. Observations:                 11372   R-squared (Within):               0.0056\n",
            "Date:                  Sun, Feb 21 2021   R-squared (Overall):              0.0065\n",
            "Time:                          22:56:19   Log-likelihood                -7.356e+04\n",
            "Cov. Estimator:              Unadjusted                                           \n",
            "                                          F-statistic:                      8.1991\n",
            "Entities:                            50   P-value                           0.0042\n",
            "Avg Obs:                         227.44   Distribution:                 F(1,11078)\n",
            "Min Obs:                         223.00                                           \n",
            "Max Obs:                         244.00   F-statistic (robust):             8.1991\n",
            "                                          P-value                           0.0042\n",
            "Time periods:                       244   Distribution:                 F(1,11078)\n",
            "Avg Obs:                         46.607                                           \n",
            "Min Obs:                         6.0000                                           \n",
            "Max Obs:                         50.000                                           \n",
            "                                                                                  \n",
            "                             Parameter Estimates                              \n",
            "==============================================================================\n",
            "            Parameter  Std. Err.     T-stat    P-value    Lower CI    Upper CI\n",
            "------------------------------------------------------------------------------\n",
            "const          52.899     1.4832     35.666     0.0000      49.992      55.806\n",
            "mobility      -0.0914     0.0319    -2.8634     0.0042     -0.1540     -0.0288\n",
            "==============================================================================\n",
            "\n",
            "F-test for Poolability: 8.2398\n",
            "P-value: 0.0000\n",
            "Distribution: F(292,11078)\n",
            "\n",
            "Included effects: Entity, Time\n",
            "                          PanelOLS Estimation Summary                           \n",
            "================================================================================\n",
            "Dep. Variable:         inIcuCurrently   R-squared:                        0.0006\n",
            "Estimator:                   PanelOLS   R-squared (Between):             -0.0083\n",
            "No. Observations:                7878   R-squared (Within):              -0.0187\n",
            "Date:                Sun, Feb 21 2021   R-squared (Overall):             -0.0118\n",
            "Time:                        22:56:20   Log-likelihood                -5.545e+04\n",
            "Cov. Estimator:            Unadjusted                                           \n",
            "                                        F-statistic:                      4.5481\n",
            "Entities:                          39   P-value                           0.0330\n",
            "Avg Obs:                       202.00   Distribution:                  F(1,7595)\n",
            "Min Obs:                       82.000                                           \n",
            "Max Obs:                       244.00   F-statistic (robust):             4.5481\n",
            "                                        P-value                           0.0330\n",
            "Time periods:                     244   Distribution:                  F(1,7595)\n",
            "Avg Obs:                       32.287                                           \n",
            "Min Obs:                       3.0000                                           \n",
            "Max Obs:                       39.000                                           \n",
            "                                                                                \n",
            "                             Parameter Estimates                              \n",
            "==============================================================================\n",
            "            Parameter  Std. Err.     T-stat    P-value    Lower CI    Upper CI\n",
            "------------------------------------------------------------------------------\n",
            "const          370.32     3.2074     115.46     0.0000      364.03      376.61\n",
            "mobility       0.1647     0.0772     2.1326     0.0330      0.0133      0.3162\n",
            "==============================================================================\n",
            "\n",
            "F-test for Poolability: 84.820\n",
            "P-value: 0.0000\n",
            "Distribution: F(281,7595)\n",
            "\n",
            "Included effects: Entity, Time\n",
            "                            PanelOLS Estimation Summary                            \n",
            "===================================================================================\n",
            "Dep. Variable:     onVentilatorCurrently   R-squared:                        0.0188\n",
            "Estimator:                      PanelOLS   R-squared (Between):              0.0003\n",
            "No. Observations:                   6064   R-squared (Within):               0.1157\n",
            "Date:                   Sun, Feb 21 2021   R-squared (Overall):              0.0739\n",
            "Time:                           22:56:20   Log-likelihood                -3.656e+04\n",
            "Cov. Estimator:               Unadjusted                                           \n",
            "                                           F-statistic:                      110.74\n",
            "Entities:                             29   P-value                           0.0000\n",
            "Avg Obs:                          209.10   Distribution:                  F(1,5791)\n",
            "Min Obs:                          82.000                                           \n",
            "Max Obs:                          244.00   F-statistic (robust):             110.74\n",
            "                                           P-value                           0.0000\n",
            "Time periods:                        244   Distribution:                  F(1,5791)\n",
            "Avg Obs:                          24.852                                           \n",
            "Min Obs:                          4.0000                                           \n",
            "Max Obs:                          29.000                                           \n",
            "                                                                                   \n",
            "                             Parameter Estimates                              \n",
            "==============================================================================\n",
            "            Parameter  Std. Err.     T-stat    P-value    Lower CI    Upper CI\n",
            "------------------------------------------------------------------------------\n",
            "const          147.96     1.3320     111.08     0.0000      145.35      150.57\n",
            "mobility      -0.3356     0.0319    -10.523     0.0000     -0.3981     -0.2731\n",
            "==============================================================================\n",
            "\n",
            "F-test for Poolability: 33.499\n",
            "P-value: 0.0000\n",
            "Distribution: F(271,5791)\n",
            "\n",
            "Included effects: Entity, Time\n"
          ],
          "name": "stdout"
        }
      ]
    },
    {
      "cell_type": "code",
      "metadata": {
        "id": "ELnaWThkomWf"
      },
      "source": [
        "data"
      ],
      "execution_count": null,
      "outputs": []
    },
    {
      "cell_type": "code",
      "metadata": {
        "id": "q7RXCRj4zLnD"
      },
      "source": [
        ""
      ],
      "execution_count": null,
      "outputs": []
    },
    {
      "cell_type": "code",
      "metadata": {
        "id": "-ner2jJ_zgIv"
      },
      "source": [
        ""
      ],
      "execution_count": null,
      "outputs": []
    }
  ]
}