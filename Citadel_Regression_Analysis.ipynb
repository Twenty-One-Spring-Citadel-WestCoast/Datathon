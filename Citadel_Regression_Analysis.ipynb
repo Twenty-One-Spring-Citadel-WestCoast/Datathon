{
  "nbformat": 4,
  "nbformat_minor": 0,
  "metadata": {
    "colab": {
      "name": "Citadel_Regression_Analysis.ipynb",
      "provenance": [],
      "toc_visible": true
    },
    "kernelspec": {
      "name": "python3",
      "display_name": "Python 3"
    }
  },
  "cells": [
    {
      "cell_type": "code",
      "metadata": {
        "id": "FHuWKPxSKQf1",
        "colab": {
          "base_uri": "https://localhost:8080/"
        },
        "outputId": "d4817e38-5a7e-4c30-aa7d-a3da1e60e68c"
      },
      "source": [
        "import pandas as pd\r\n",
        "import numpy as np\r\n",
        "import json\r\n",
        "import statsmodels.api as sm\r\n"
      ],
      "execution_count": 1,
      "outputs": [
        {
          "output_type": "stream",
          "text": [
            "/usr/local/lib/python3.6/dist-packages/statsmodels/tools/_testing.py:19: FutureWarning: pandas.util.testing is deprecated. Use the functions in the public API at pandas.testing instead.\n",
            "  import pandas.util.testing as tm\n"
          ],
          "name": "stderr"
        }
      ]
    },
    {
      "cell_type": "code",
      "metadata": {
        "colab": {
          "base_uri": "https://localhost:8080/"
        },
        "id": "0E-GoeKMCILq",
        "outputId": "3bd29b46-db10-4332-d488-ca6716752d8c"
      },
      "source": [
        "us = pd.read_csv('/content/drive/MyDrive/Citadel/data/new_folder/US_daily_cleaned.csv')\r\n",
        "us[(us.RegionCode == 'US_AK')&(us.date == '2021-02-17')].positive"
      ],
      "execution_count": 140,
      "outputs": [
        {
          "output_type": "execute_result",
          "data": {
            "text/plain": [
              "0    54799.0\n",
              "Name: positive, dtype: float64"
            ]
          },
          "metadata": {
            "tags": []
          },
          "execution_count": 140
        }
      ]
    },
    {
      "cell_type": "code",
      "metadata": {
        "colab": {
          "base_uri": "https://localhost:8080/"
        },
        "id": "ZLE4XX8BCMOL",
        "outputId": "a49b46d8-0245-4283-f9fd-92ac203e5e75"
      },
      "source": [
        "tracking[(tracking.state == 'AK')&(us.date == '2021-02-16')].positive"
      ],
      "execution_count": 139,
      "outputs": [
        {
          "output_type": "execute_result",
          "data": {
            "text/plain": [
              "56    54799.0\n",
              "Name: positive, dtype: float64"
            ]
          },
          "metadata": {
            "tags": []
          },
          "execution_count": 139
        }
      ]
    },
    {
      "cell_type": "code",
      "metadata": {
        "colab": {
          "base_uri": "https://localhost:8080/"
        },
        "id": "ST5SEuJmKiZK",
        "outputId": "55d020cf-55e3-4c28-ecc8-374d49298828"
      },
      "source": [
        "\r\n",
        "mobility = pd.read_csv('/content/drive/MyDrive/Citadel/data/new_folder/US_mobility_state_cleaned.csv')\r\n",
        "tracking = pd.read_csv('/content/drive/MyDrive/Citadel/data/3_covidtracking/all-states-history.csv')\r\n",
        "with open('/content/drive/MyDrive/Citadel/data/new_folder/states_hash.json', 'r+') as file:\r\n",
        "    states_hash = json.load(file)\r\n",
        "states_hash = { v:k for (k,v) in states_hash.items()}\r\n",
        "mobility['state'] = mobility['state'].map(states_hash)\r\n",
        "df = tracking.merge(mobility, on = ['date','state'], suffixes = ['_tracking', '_mobility'])\r\n",
        "\r\n",
        "df.isna().mean().sort_values().tail(5)"
      ],
      "execution_count": 2,
      "outputs": [
        {
          "output_type": "execute_result",
          "data": {
            "text/plain": [
              "onVentilatorCumulative         0.930866\n",
              "positiveTestsPeopleAntibody    0.942321\n",
              "negativeTestsPeopleAntibody    0.948020\n",
              "totalTestsPeopleAntigen        0.949114\n",
              "positiveTestsPeopleAntigen     0.967534\n",
              "dtype: float64"
            ]
          },
          "metadata": {
            "tags": []
          },
          "execution_count": 2
        }
      ]
    },
    {
      "cell_type": "code",
      "metadata": {
        "id": "SOQ5BBt3by9Z"
      },
      "source": [
        ""
      ],
      "execution_count": 2,
      "outputs": []
    },
    {
      "cell_type": "markdown",
      "metadata": {
        "id": "fPjaRPWhOAmw"
      },
      "source": [
        "### the metrics to use: deathIncrease, hospitalizedIncrease, inIcuCurrently, onVentilatorCurrently, PositiveRate"
      ]
    },
    {
      "cell_type": "code",
      "metadata": {
        "id": "1n0RBoxXXAPt"
      },
      "source": [
        "y_var_candidates = ['deathIncrease', 'hospitalizedIncrease', 'inIcuCurrently', 'onVentilatorCurrently']"
      ],
      "execution_count": 3,
      "outputs": []
    },
    {
      "cell_type": "code",
      "metadata": {
        "id": "uXO6QT7zQYsZ"
      },
      "source": [
        "\r\n"
      ],
      "execution_count": 3,
      "outputs": []
    },
    {
      "cell_type": "code",
      "metadata": {
        "colab": {
          "base_uri": "https://localhost:8080/",
          "height": 130
        },
        "id": "81x562gZRSqo",
        "outputId": "327dbbdd-1179-4b9e-a7d7-82298852e755"
      },
      "source": [
        "\r\n",
        "df = df.sort_values(by = ['state', 'date'])\r\n",
        "df['date'] = pd.to_datetime(df['date'])\r\n",
        "df['day_since_record'] = df.groupby('state')['date'].rank(ascending = True, method = 'first')\r\n",
        "df.head(1)"
      ],
      "execution_count": 4,
      "outputs": [
        {
          "output_type": "execute_result",
          "data": {
            "text/html": [
              "<div>\n",
              "<style scoped>\n",
              "    .dataframe tbody tr th:only-of-type {\n",
              "        vertical-align: middle;\n",
              "    }\n",
              "\n",
              "    .dataframe tbody tr th {\n",
              "        vertical-align: top;\n",
              "    }\n",
              "\n",
              "    .dataframe thead th {\n",
              "        text-align: right;\n",
              "    }\n",
              "</style>\n",
              "<table border=\"1\" class=\"dataframe\">\n",
              "  <thead>\n",
              "    <tr style=\"text-align: right;\">\n",
              "      <th></th>\n",
              "      <th>date</th>\n",
              "      <th>state</th>\n",
              "      <th>death</th>\n",
              "      <th>deathConfirmed</th>\n",
              "      <th>deathIncrease</th>\n",
              "      <th>deathProbable</th>\n",
              "      <th>hospitalized</th>\n",
              "      <th>hospitalizedCumulative</th>\n",
              "      <th>hospitalizedCurrently</th>\n",
              "      <th>hospitalizedIncrease</th>\n",
              "      <th>inIcuCumulative</th>\n",
              "      <th>inIcuCurrently</th>\n",
              "      <th>negative</th>\n",
              "      <th>negativeIncrease</th>\n",
              "      <th>negativeTestsAntibody</th>\n",
              "      <th>negativeTestsPeopleAntibody</th>\n",
              "      <th>negativeTestsViral</th>\n",
              "      <th>onVentilatorCumulative</th>\n",
              "      <th>onVentilatorCurrently</th>\n",
              "      <th>positive</th>\n",
              "      <th>positiveCasesViral</th>\n",
              "      <th>positiveIncrease</th>\n",
              "      <th>positiveScore</th>\n",
              "      <th>positiveTestsAntibody</th>\n",
              "      <th>positiveTestsAntigen</th>\n",
              "      <th>positiveTestsPeopleAntibody</th>\n",
              "      <th>positiveTestsPeopleAntigen</th>\n",
              "      <th>positiveTestsViral</th>\n",
              "      <th>recovered</th>\n",
              "      <th>totalTestEncountersViral</th>\n",
              "      <th>totalTestEncountersViralIncrease</th>\n",
              "      <th>totalTestResults</th>\n",
              "      <th>totalTestResultsIncrease</th>\n",
              "      <th>totalTestsAntibody</th>\n",
              "      <th>totalTestsAntigen</th>\n",
              "      <th>totalTestsPeopleAntibody</th>\n",
              "      <th>totalTestsPeopleAntigen</th>\n",
              "      <th>totalTestsPeopleViral</th>\n",
              "      <th>totalTestsPeopleViralIncrease</th>\n",
              "      <th>totalTestsViral</th>\n",
              "      <th>totalTestsViralIncrease</th>\n",
              "      <th>Unnamed: 0</th>\n",
              "      <th>retail_and_recreation_percent_change_from_baseline</th>\n",
              "      <th>grocery_and_pharmacy_percent_change_from_baseline</th>\n",
              "      <th>parks_percent_change_from_baseline</th>\n",
              "      <th>transit_stations_percent_change_from_baseline</th>\n",
              "      <th>workplaces_percent_change_from_baseline</th>\n",
              "      <th>residential_percent_change_from_baseline</th>\n",
              "      <th>day_since_record</th>\n",
              "    </tr>\n",
              "  </thead>\n",
              "  <tbody>\n",
              "    <tr>\n",
              "      <th>17150</th>\n",
              "      <td>2020-03-06</td>\n",
              "      <td>AK</td>\n",
              "      <td>0.0</td>\n",
              "      <td>NaN</td>\n",
              "      <td>0</td>\n",
              "      <td>NaN</td>\n",
              "      <td>NaN</td>\n",
              "      <td>NaN</td>\n",
              "      <td>NaN</td>\n",
              "      <td>0</td>\n",
              "      <td>NaN</td>\n",
              "      <td>NaN</td>\n",
              "      <td>NaN</td>\n",
              "      <td>0</td>\n",
              "      <td>NaN</td>\n",
              "      <td>NaN</td>\n",
              "      <td>NaN</td>\n",
              "      <td>NaN</td>\n",
              "      <td>NaN</td>\n",
              "      <td>NaN</td>\n",
              "      <td>NaN</td>\n",
              "      <td>0</td>\n",
              "      <td>0</td>\n",
              "      <td>NaN</td>\n",
              "      <td>NaN</td>\n",
              "      <td>NaN</td>\n",
              "      <td>NaN</td>\n",
              "      <td>NaN</td>\n",
              "      <td>NaN</td>\n",
              "      <td>NaN</td>\n",
              "      <td>0</td>\n",
              "      <td>8.0</td>\n",
              "      <td>0</td>\n",
              "      <td>NaN</td>\n",
              "      <td>NaN</td>\n",
              "      <td>NaN</td>\n",
              "      <td>NaN</td>\n",
              "      <td>NaN</td>\n",
              "      <td>0</td>\n",
              "      <td>8.0</td>\n",
              "      <td>8</td>\n",
              "      <td>23119</td>\n",
              "      <td>9.0</td>\n",
              "      <td>4.0</td>\n",
              "      <td>10.0</td>\n",
              "      <td>9.0</td>\n",
              "      <td>0.0</td>\n",
              "      <td>1.0</td>\n",
              "      <td>1.0</td>\n",
              "    </tr>\n",
              "  </tbody>\n",
              "</table>\n",
              "</div>"
            ],
            "text/plain": [
              "            date  ... day_since_record\n",
              "17150 2020-03-06  ...              1.0\n",
              "\n",
              "[1 rows x 49 columns]"
            ]
          },
          "metadata": {
            "tags": []
          },
          "execution_count": 4
        }
      ]
    },
    {
      "cell_type": "code",
      "metadata": {
        "colab": {
          "base_uri": "https://localhost:8080/"
        },
        "id": "gH-y2lzCNxQR",
        "outputId": "f9a3a36c-f8ac-47f1-adfc-ec627fb3fa60"
      },
      "source": [
        "#since the death nan data date are at the beginning of the pandemic, it is likely it has not been recorded. Set it to 0\r\n",
        "df[df['death'].isna()].date.unique().max()"
      ],
      "execution_count": 5,
      "outputs": [
        {
          "output_type": "execute_result",
          "data": {
            "text/plain": [
              "numpy.datetime64('2020-03-31T00:00:00.000000000')"
            ]
          },
          "metadata": {
            "tags": []
          },
          "execution_count": 5
        }
      ]
    },
    {
      "cell_type": "code",
      "metadata": {
        "colab": {
          "base_uri": "https://localhost:8080/"
        },
        "id": "W8NwwUgHQjQ4",
        "outputId": "24c4be08-8289-4ecf-b981-77afc5eaf773"
      },
      "source": [
        "X_cols = [x for x in mobility.columns.values if x not in ['Unnamed: 0', 'state', 'date']]\r\n",
        "X_cols.append('day_since_record')\r\n",
        "X_cols"
      ],
      "execution_count": 47,
      "outputs": [
        {
          "output_type": "execute_result",
          "data": {
            "text/plain": [
              "['retail_and_recreation_percent_change_from_baseline',\n",
              " 'grocery_and_pharmacy_percent_change_from_baseline',\n",
              " 'parks_percent_change_from_baseline',\n",
              " 'transit_stations_percent_change_from_baseline',\n",
              " 'workplaces_percent_change_from_baseline',\n",
              " 'residential_percent_change_from_baseline',\n",
              " 'day_since_record']"
            ]
          },
          "metadata": {
            "tags": []
          },
          "execution_count": 47
        }
      ]
    },
    {
      "cell_type": "code",
      "metadata": {
        "id": "Dje9QhvDpyDV"
      },
      "source": [
        ""
      ],
      "execution_count": 47,
      "outputs": []
    },
    {
      "cell_type": "code",
      "metadata": {
        "colab": {
          "base_uri": "https://localhost:8080/"
        },
        "id": "l4x_UaoRNfu_",
        "outputId": "20c58ef6-58dd-4a77-e645-98d18bb36adf"
      },
      "source": [
        "y_var_candidates"
      ],
      "execution_count": 7,
      "outputs": [
        {
          "output_type": "execute_result",
          "data": {
            "text/plain": [
              "['deathIncrease',\n",
              " 'hospitalizedIncrease',\n",
              " 'inIcuCurrently',\n",
              " 'onVentilatorCurrently']"
            ]
          },
          "metadata": {
            "tags": []
          },
          "execution_count": 7
        }
      ]
    },
    {
      "cell_type": "code",
      "metadata": {
        "id": "mTqxMlCEX2AX"
      },
      "source": [
        ""
      ],
      "execution_count": 7,
      "outputs": []
    },
    {
      "cell_type": "markdown",
      "metadata": {
        "id": "0OCoMU0IZofz"
      },
      "source": [
        "# An overall OLS regression analysis on all state data"
      ]
    },
    {
      "cell_type": "code",
      "metadata": {
        "colab": {
          "base_uri": "https://localhost:8080/"
        },
        "id": "pX5tyo4eKvbC",
        "outputId": "f4441d9a-33f4-4da1-e8b2-9b64f984d5b8"
      },
      "source": [
        "# ['deathIncrease', 'hospitalizedIncrease', 'inIcuCurrently', 'onVentilatorCurrently', 'PositiveRate']\r\n",
        "y_variable = 'inIcuCurrently'\r\n",
        "y = df[y_variable].fillna(0).values\r\n",
        "x = df[X_cols].fillna(0).values\r\n",
        "x = sm.add_constant(x)\r\n",
        "model = sm.OLS(y,x)\r\n",
        "results = model.fit()\r\n",
        "print(results.summary2())\r\n",
        "print(results.pvalues)"
      ],
      "execution_count": 8,
      "outputs": [
        {
          "output_type": "stream",
          "text": [
            "                  Results: Ordinary least squares\n",
            "====================================================================\n",
            "Model:              OLS              Adj. R-squared:     0.106      \n",
            "Dependent Variable: y                AIC:                263130.9657\n",
            "Date:               2021-02-19 18:41 BIC:                263193.0666\n",
            "No. Observations:   17372            Log-Likelihood:     -1.3156e+05\n",
            "Df Model:           7                F-statistic:        294.5      \n",
            "Df Residuals:       17364            Prob (F-statistic): 0.00       \n",
            "R-squared:          0.106            Scale:              2.2157e+05 \n",
            "---------------------------------------------------------------------\n",
            "            Coef.    Std.Err.     t      P>|t|     [0.025     0.975] \n",
            "---------------------------------------------------------------------\n",
            "const     -171.7756   13.8431  -12.4087  0.0000  -198.9095  -144.6417\n",
            "x1          -7.9304    0.5120  -15.4895  0.0000    -8.9340    -6.9269\n",
            "x2           5.3920    0.5515    9.7761  0.0000     4.3109     6.4730\n",
            "x3          -0.2042    0.0608   -3.3577  0.0008    -0.3234    -0.0850\n",
            "x4          -1.3756    0.2983   -4.6111  0.0000    -1.9603    -0.7908\n",
            "x5          -0.0793    0.5855   -0.1354  0.8923    -1.2270     1.0684\n",
            "x6           5.5498    1.7788    3.1200  0.0018     2.0632     9.0364\n",
            "x7           1.1113    0.0408   27.2044  0.0000     1.0312     1.1913\n",
            "--------------------------------------------------------------------\n",
            "Omnibus:            16823.690      Durbin-Watson:         0.030     \n",
            "Prob(Omnibus):      0.000          Jarque-Bera (JB):      810958.964\n",
            "Skew:               4.786          Prob(JB):              0.000     \n",
            "Kurtosis:           35.074         Condition No.:         803       \n",
            "====================================================================\n",
            "\n",
            "[3.30420032e-035 9.35243670e-054 1.62982654e-022 7.87611325e-004\n",
            " 4.03469542e-006 8.92295229e-001 1.81145258e-003 1.25843206e-159]\n"
          ],
          "name": "stdout"
        }
      ]
    },
    {
      "cell_type": "markdown",
      "metadata": {
        "id": "CDmh5lCgZuHE"
      },
      "source": [
        "# Individual State OLS "
      ]
    },
    {
      "cell_type": "code",
      "metadata": {
        "colab": {
          "base_uri": "https://localhost:8080/"
        },
        "id": "VXVdLtIpU85Z",
        "outputId": "1d17d6d2-65d8-4b92-b694-a7a2336e21cd"
      },
      "source": [
        "from tqdm import tqdm\r\n",
        "# y in  ['deathIncrease', 'hospitalizedIncrease', 'inIcuCurrently', 'onVentilatorCurrently', 'PositiveRate']\r\n",
        "y_variable = 'hospitalizedIncrease'\r\n",
        "coeffs = []\r\n",
        "p_values = []\r\n",
        "states = df.state.unique()\r\n",
        "for state in tqdm(states):\r\n",
        "    if y_variable == 'PositiveRate':\r\n",
        "        df_reg = df[(df['state'] == state)&(df['PositiveRate']!=np.inf)]\r\n",
        "    df_reg = df[df['state'] == state]\r\n",
        "    y = df_reg[y_variable].fillna(0).values\r\n",
        "    x = df_reg[X_cols].fillna(0).values\r\n",
        "    x = sm.add_constant(x)\r\n",
        "    model = sm.OLS(y,x)\r\n",
        "    results = model.fit()\r\n",
        "    coeffs.append(results.params)\r\n",
        "    p_values.append(results.pvalues)\r\n"
      ],
      "execution_count": 9,
      "outputs": [
        {
          "output_type": "stream",
          "text": [
            "  0%|          | 0/50 [00:00<?, ?it/s]/usr/local/lib/python3.6/dist-packages/statsmodels/base/model.py:1294: RuntimeWarning: invalid value encountered in true_divide\n",
            "  return self.params / self.bse\n",
            "100%|██████████| 50/50 [00:00<00:00, 235.25it/s]\n"
          ],
          "name": "stderr"
        }
      ]
    },
    {
      "cell_type": "code",
      "metadata": {
        "colab": {
          "base_uri": "https://localhost:8080/",
          "height": 114
        },
        "id": "7FMVWLENmL0G",
        "outputId": "ddc55843-5440-4fca-a7c6-e7d61a5695df"
      },
      "source": [
        "#modeling on week\r\n",
        "df['week'] = df['day_since_record'].apply(lambda x: x//7)\r\n",
        "weekly_df = df.groupby(['state','week']).mean().reset_index()\r\n",
        "\r\n",
        "weekly_df.head(1)"
      ],
      "execution_count": 83,
      "outputs": [
        {
          "output_type": "execute_result",
          "data": {
            "text/html": [
              "<div>\n",
              "<style scoped>\n",
              "    .dataframe tbody tr th:only-of-type {\n",
              "        vertical-align: middle;\n",
              "    }\n",
              "\n",
              "    .dataframe tbody tr th {\n",
              "        vertical-align: top;\n",
              "    }\n",
              "\n",
              "    .dataframe thead th {\n",
              "        text-align: right;\n",
              "    }\n",
              "</style>\n",
              "<table border=\"1\" class=\"dataframe\">\n",
              "  <thead>\n",
              "    <tr style=\"text-align: right;\">\n",
              "      <th></th>\n",
              "      <th>state</th>\n",
              "      <th>week</th>\n",
              "      <th>death</th>\n",
              "      <th>deathConfirmed</th>\n",
              "      <th>deathIncrease</th>\n",
              "      <th>deathProbable</th>\n",
              "      <th>hospitalized</th>\n",
              "      <th>hospitalizedCumulative</th>\n",
              "      <th>hospitalizedCurrently</th>\n",
              "      <th>hospitalizedIncrease</th>\n",
              "      <th>inIcuCumulative</th>\n",
              "      <th>inIcuCurrently</th>\n",
              "      <th>negative</th>\n",
              "      <th>negativeIncrease</th>\n",
              "      <th>negativeTestsAntibody</th>\n",
              "      <th>negativeTestsPeopleAntibody</th>\n",
              "      <th>negativeTestsViral</th>\n",
              "      <th>onVentilatorCumulative</th>\n",
              "      <th>onVentilatorCurrently</th>\n",
              "      <th>positive</th>\n",
              "      <th>positiveCasesViral</th>\n",
              "      <th>positiveIncrease</th>\n",
              "      <th>positiveScore</th>\n",
              "      <th>positiveTestsAntibody</th>\n",
              "      <th>positiveTestsAntigen</th>\n",
              "      <th>positiveTestsPeopleAntibody</th>\n",
              "      <th>positiveTestsPeopleAntigen</th>\n",
              "      <th>positiveTestsViral</th>\n",
              "      <th>recovered</th>\n",
              "      <th>totalTestEncountersViral</th>\n",
              "      <th>totalTestEncountersViralIncrease</th>\n",
              "      <th>totalTestResults</th>\n",
              "      <th>totalTestResultsIncrease</th>\n",
              "      <th>totalTestsAntibody</th>\n",
              "      <th>totalTestsAntigen</th>\n",
              "      <th>totalTestsPeopleAntibody</th>\n",
              "      <th>totalTestsPeopleAntigen</th>\n",
              "      <th>totalTestsPeopleViral</th>\n",
              "      <th>totalTestsPeopleViralIncrease</th>\n",
              "      <th>totalTestsViral</th>\n",
              "      <th>totalTestsViralIncrease</th>\n",
              "      <th>Unnamed: 0</th>\n",
              "      <th>retail_and_recreation_percent_change_from_baseline</th>\n",
              "      <th>grocery_and_pharmacy_percent_change_from_baseline</th>\n",
              "      <th>parks_percent_change_from_baseline</th>\n",
              "      <th>transit_stations_percent_change_from_baseline</th>\n",
              "      <th>workplaces_percent_change_from_baseline</th>\n",
              "      <th>residential_percent_change_from_baseline</th>\n",
              "      <th>day_since_record</th>\n",
              "    </tr>\n",
              "  </thead>\n",
              "  <tbody>\n",
              "    <tr>\n",
              "      <th>0</th>\n",
              "      <td>AK</td>\n",
              "      <td>0.0</td>\n",
              "      <td>0.0</td>\n",
              "      <td>NaN</td>\n",
              "      <td>0.0</td>\n",
              "      <td>NaN</td>\n",
              "      <td>1.0</td>\n",
              "      <td>1.0</td>\n",
              "      <td>NaN</td>\n",
              "      <td>0.166667</td>\n",
              "      <td>NaN</td>\n",
              "      <td>NaN</td>\n",
              "      <td>NaN</td>\n",
              "      <td>0.0</td>\n",
              "      <td>NaN</td>\n",
              "      <td>NaN</td>\n",
              "      <td>NaN</td>\n",
              "      <td>NaN</td>\n",
              "      <td>NaN</td>\n",
              "      <td>NaN</td>\n",
              "      <td>NaN</td>\n",
              "      <td>0.0</td>\n",
              "      <td>0.0</td>\n",
              "      <td>NaN</td>\n",
              "      <td>NaN</td>\n",
              "      <td>NaN</td>\n",
              "      <td>NaN</td>\n",
              "      <td>NaN</td>\n",
              "      <td>NaN</td>\n",
              "      <td>NaN</td>\n",
              "      <td>0.0</td>\n",
              "      <td>21.0</td>\n",
              "      <td>6.333333</td>\n",
              "      <td>NaN</td>\n",
              "      <td>NaN</td>\n",
              "      <td>NaN</td>\n",
              "      <td>NaN</td>\n",
              "      <td>NaN</td>\n",
              "      <td>0.0</td>\n",
              "      <td>21.0</td>\n",
              "      <td>7.666667</td>\n",
              "      <td>23121.5</td>\n",
              "      <td>11.0</td>\n",
              "      <td>6.833333</td>\n",
              "      <td>17.0</td>\n",
              "      <td>5.833333</td>\n",
              "      <td>-3.333333</td>\n",
              "      <td>0.833333</td>\n",
              "      <td>3.5</td>\n",
              "    </tr>\n",
              "  </tbody>\n",
              "</table>\n",
              "</div>"
            ],
            "text/plain": [
              "  state  week  ...  residential_percent_change_from_baseline  day_since_record\n",
              "0    AK   0.0  ...                                  0.833333               3.5\n",
              "\n",
              "[1 rows x 49 columns]"
            ]
          },
          "metadata": {
            "tags": []
          },
          "execution_count": 83
        }
      ]
    },
    {
      "cell_type": "code",
      "metadata": {
        "id": "emTdBZa8vhE_"
      },
      "source": [
        ""
      ],
      "execution_count": 81,
      "outputs": []
    },
    {
      "cell_type": "code",
      "metadata": {
        "colab": {
          "base_uri": "https://localhost:8080/"
        },
        "id": "1DH9stmztjRC",
        "outputId": "6361f631-fbc4-46ea-bb67-a9ac03cb25ad"
      },
      "source": [
        "df['date'] = pd.to_datetime(df['date'])\r\n",
        "df['smoothed_' + y_variable] = df.groupby('state')[y_variable].rolling(7, min_periods = 1).sum().values"
      ],
      "execution_count": 78,
      "outputs": [
        {
          "output_type": "execute_result",
          "data": {
            "text/plain": [
              "array([ 0.,  0.,  0., ..., 23., 23., 23.])"
            ]
          },
          "metadata": {
            "tags": []
          },
          "execution_count": 78
        }
      ]
    },
    {
      "cell_type": "code",
      "metadata": {
        "colab": {
          "base_uri": "https://localhost:8080/"
        },
        "id": "nZZlgQ4reKZe",
        "outputId": "27fc0380-6574-4b83-fd80-078f374e0fc7"
      },
      "source": [
        "from tqdm import tqdm\r\n",
        "pd.options.mode.chained_assignment = None \r\n",
        "# y in  ['deathIncrease', 'hospitalizedIncrease', 'inIcuCurrently', 'onVentilatorCurrently', 'PositiveRate']\r\n",
        "y_variable = 'deathIncrease'\r\n",
        "lag = 14\r\n",
        "coeffs = []\r\n",
        "p_values = []\r\n",
        "r_squared_adjs = []\r\n",
        "states = df.state.unique()\r\n",
        "smoothing = True\r\n",
        "\r\n",
        "# data = weekly_df\r\n",
        "data = df\r\n",
        "data = data.copy()\r\n",
        "\r\n",
        "if smoothing == True:\r\n",
        "# 7 day rolling\r\n",
        "    data[y_variable] = data.groupby('state')[y_variable].rolling(7, min_periods = 1).sum().values\r\n",
        "\r\n",
        "\r\n",
        "for state in tqdm(states):\r\n",
        "    if y_variable == 'PositiveRate':\r\n",
        "        df_reg = data[(data['state'] == state)&(data['PositiveRate']!=np.inf)]\r\n",
        "    df_reg = data[data['state'] == state]\r\n",
        "    df_reg[y_variable] = data[y_variable].shift(lag)\r\n",
        "    df_reg = df_reg[df_reg[y_variable].isna() == False]\r\n",
        "    y = df_reg[y_variable].fillna(0).values\r\n",
        "    x = df_reg[X_cols].fillna(0).values\r\n",
        "    x = sm.add_constant(x)\r\n",
        "    model = sm.OLS(y,x)\r\n",
        "    results = model.fit()\r\n",
        "    coeffs.append(results.params)\r\n",
        "    p_values.append(results.pvalues)\r\n",
        "    r_squared_adjs.append(results.rsquared_adj)\r\n",
        "df_pvalues = pd.DataFrame(p_values, index = states, columns = ['constant'] + X_cols).apply(lambda x: round(x, 4))\r\n",
        "df_r_square_adj = pd.DataFrame(r_squared_adjs, index = states).apply(lambda x: round(x, 4))\r\n",
        "df_params = pd.DataFrame(coeffs, index = states, columns = ['constant'] + X_cols).apply(lambda x: round(x, 4))\r\n"
      ],
      "execution_count": 86,
      "outputs": [
        {
          "output_type": "stream",
          "text": [
            "100%|██████████| 50/50 [00:00<00:00, 167.56it/s]\n"
          ],
          "name": "stderr"
        }
      ]
    },
    {
      "cell_type": "code",
      "metadata": {
        "colab": {
          "base_uri": "https://localhost:8080/"
        },
        "id": "uLYaZ_rUo06U",
        "outputId": "9b699c1e-0631-4dfc-95ae-e961ddccdba1"
      },
      "source": [
        "# how many percent statistically significant\r\n",
        "df_pvalues.applymap(lambda x: 1 if x<0.05 else 0).mean()"
      ],
      "execution_count": 87,
      "outputs": [
        {
          "output_type": "execute_result",
          "data": {
            "text/plain": [
              "constant                                              0.74\n",
              "retail_and_recreation_percent_change_from_baseline    0.50\n",
              "grocery_and_pharmacy_percent_change_from_baseline     0.46\n",
              "parks_percent_change_from_baseline                    0.54\n",
              "transit_stations_percent_change_from_baseline         0.62\n",
              "workplaces_percent_change_from_baseline               0.68\n",
              "residential_percent_change_from_baseline              0.50\n",
              "day_since_record                                      0.82\n",
              "dtype: float64"
            ]
          },
          "metadata": {
            "tags": []
          },
          "execution_count": 87
        }
      ]
    },
    {
      "cell_type": "code",
      "metadata": {
        "colab": {
          "base_uri": "https://localhost:8080/"
        },
        "id": "J6jLu7lAp7b8",
        "outputId": "8e52751a-b6f9-47cd-c3b9-e1ab57d5ef79"
      },
      "source": [
        "df_r_square_adj.mean()"
      ],
      "execution_count": 89,
      "outputs": [
        {
          "output_type": "execute_result",
          "data": {
            "text/plain": [
              "0    0.427398\n",
              "dtype: float64"
            ]
          },
          "metadata": {
            "tags": []
          },
          "execution_count": 89
        }
      ]
    },
    {
      "cell_type": "markdown",
      "metadata": {
        "id": "1uZOOnrzFE_n"
      },
      "source": [
        "### Experiment on Fixed Effect model(Currently Working On)"
      ]
    },
    {
      "cell_type": "code",
      "metadata": {
        "colab": {
          "base_uri": "https://localhost:8080/",
          "height": 676
        },
        "id": "pw6_Yfo30Le2",
        "outputId": "70983ad6-f701-4907-8078-dbad5f111a11"
      },
      "source": [
        "!pip install linearmodels"
      ],
      "execution_count": 91,
      "outputs": [
        {
          "output_type": "stream",
          "text": [
            "Collecting linearmodels\n",
            "\u001b[?25l  Downloading https://files.pythonhosted.org/packages/23/b6/7f050705cf7fc988863a8676c7e361946ee5972fb2b099907f82954a7021/linearmodels-4.19.tar.gz (1.8MB)\n",
            "\u001b[K     |████████████████████████████████| 1.8MB 7.9MB/s \n",
            "\u001b[?25h  Installing build dependencies ... \u001b[?25l\u001b[?25hdone\n",
            "  Getting requirements to build wheel ... \u001b[?25l\u001b[?25hdone\n",
            "    Preparing wheel metadata ... \u001b[?25l\u001b[?25hdone\n",
            "Requirement already satisfied: pandas>=0.24 in /usr/local/lib/python3.6/dist-packages (from linearmodels) (1.1.5)\n",
            "Collecting statsmodels>=0.11\n",
            "\u001b[?25l  Downloading https://files.pythonhosted.org/packages/0d/7b/c17815648dc31396af865b9c6627cc3f95705954e30f61106795361c39ee/statsmodels-0.12.2-cp36-cp36m-manylinux1_x86_64.whl (9.5MB)\n",
            "\u001b[K     |████████████████████████████████| 9.5MB 31.6MB/s \n",
            "\u001b[?25hCollecting mypy-extensions>=0.4\n",
            "  Downloading https://files.pythonhosted.org/packages/5c/eb/975c7c080f3223a5cdaff09612f3a5221e4ba534f7039db34c35d95fa6a5/mypy_extensions-0.4.3-py2.py3-none-any.whl\n",
            "Collecting pyhdfe>=0.1\n",
            "  Downloading https://files.pythonhosted.org/packages/81/38/a53257196401029dd34c83c0528de22032d7b602e8bbcaa6d560040d42c2/pyhdfe-0.1.0-py3-none-any.whl\n",
            "Requirement already satisfied: patsy in /usr/local/lib/python3.6/dist-packages (from linearmodels) (0.5.1)\n",
            "Collecting property-cached>=1.6.3\n",
            "  Downloading https://files.pythonhosted.org/packages/5c/6c/94d8e520b20a2502e508e1c558f338061cf409cbee78fd6a3a5c6ae812bd/property_cached-1.6.4-py2.py3-none-any.whl\n",
            "Requirement already satisfied: numpy>=1.16 in /usr/local/lib/python3.6/dist-packages (from linearmodels) (1.19.5)\n",
            "Requirement already satisfied: scipy>=1.2 in /usr/local/lib/python3.6/dist-packages (from linearmodels) (1.4.1)\n",
            "Requirement already satisfied: Cython>=0.29.21 in /usr/local/lib/python3.6/dist-packages (from linearmodels) (0.29.21)\n",
            "Requirement already satisfied: python-dateutil>=2.7.3 in /usr/local/lib/python3.6/dist-packages (from pandas>=0.24->linearmodels) (2.8.1)\n",
            "Requirement already satisfied: pytz>=2017.2 in /usr/local/lib/python3.6/dist-packages (from pandas>=0.24->linearmodels) (2018.9)\n",
            "Requirement already satisfied: six in /usr/local/lib/python3.6/dist-packages (from patsy->linearmodels) (1.15.0)\n",
            "Building wheels for collected packages: linearmodels\n",
            "  Building wheel for linearmodels (PEP 517) ... \u001b[?25l\u001b[?25hdone\n",
            "  Created wheel for linearmodels: filename=linearmodels-4.19-cp36-cp36m-linux_x86_64.whl size=1665184 sha256=e2592f427f94e974cbde7c7c99fce6b227a2f3dae5ad27b209ec1272383b7757\n",
            "  Stored in directory: /root/.cache/pip/wheels/dd/64/0e/ee05b98b192012376a8ff7f2130093f7d0706d8e7698b31c0d\n",
            "Successfully built linearmodels\n",
            "Installing collected packages: statsmodels, mypy-extensions, pyhdfe, property-cached, linearmodels\n",
            "  Found existing installation: statsmodels 0.10.2\n",
            "    Uninstalling statsmodels-0.10.2:\n",
            "      Successfully uninstalled statsmodels-0.10.2\n",
            "Successfully installed linearmodels-4.19 mypy-extensions-0.4.3 property-cached-1.6.4 pyhdfe-0.1.0 statsmodels-0.12.2\n"
          ],
          "name": "stdout"
        },
        {
          "output_type": "display_data",
          "data": {
            "application/vnd.colab-display-data+json": {
              "pip_warning": {
                "packages": [
                  "statsmodels"
                ]
              }
            }
          },
          "metadata": {
            "tags": []
          }
        }
      ]
    },
    {
      "cell_type": "code",
      "metadata": {
        "colab": {
          "base_uri": "https://localhost:8080/"
        },
        "id": "3RG58Pb-0rCO",
        "outputId": "e111abd1-fd19-4bde-d817-b66aa08bb803"
      },
      "source": [
        "X_cols"
      ],
      "execution_count": 94,
      "outputs": [
        {
          "output_type": "execute_result",
          "data": {
            "text/plain": [
              "['retail_and_recreation_percent_change_from_baseline',\n",
              " 'grocery_and_pharmacy_percent_change_from_baseline',\n",
              " 'parks_percent_change_from_baseline',\n",
              " 'transit_stations_percent_change_from_baseline',\n",
              " 'workplaces_percent_change_from_baseline',\n",
              " 'residential_percent_change_from_baseline',\n",
              " 'day_since_record']"
            ]
          },
          "metadata": {
            "tags": []
          },
          "execution_count": 94
        }
      ]
    },
    {
      "cell_type": "code",
      "metadata": {
        "colab": {
          "base_uri": "https://localhost:8080/",
          "height": 370
        },
        "id": "7GU4u4cAvxvQ",
        "outputId": "4b6b77f1-1fc4-4b4f-c07b-4031421d3355"
      },
      "source": [
        "from linearmodels import RandomEffects, PanelOLS\r\n",
        "df_reg = data[data['state'] == 'AK']\r\n",
        "df_reg = df_reg.set_index('date')\r\n",
        "exog = sm.add_constant(df_reg['workplaces_percent_change_from_baseline'])\r\n",
        "endog = df_reg['deathIncrease']\r\n",
        "# random effects model\r\n",
        "# model_re = RandomEffects(endog, exog) \r\n",
        "# re_res = model_re.fit() \r\n",
        "# fixed effects model\r\n",
        "model_fe = PanelOLS(endog, exog, entity_effects = True, time_effects=True) \r\n",
        "fe_res = model_fe.fit() \r\n",
        "#print results\r\n",
        "print(re_res)\r\n",
        "print(fe_res)"
      ],
      "execution_count": 122,
      "outputs": [
        {
          "output_type": "error",
          "ename": "ValueError",
          "evalue": "ignored",
          "traceback": [
            "\u001b[0;31m---------------------------------------------------------------------------\u001b[0m",
            "\u001b[0;31mValueError\u001b[0m                                Traceback (most recent call last)",
            "\u001b[0;32m<ipython-input-122-f5a671f27136>\u001b[0m in \u001b[0;36m<module>\u001b[0;34m()\u001b[0m\n\u001b[1;32m      8\u001b[0m \u001b[0;31m# re_res = model_re.fit()\u001b[0m\u001b[0;34m\u001b[0m\u001b[0;34m\u001b[0m\u001b[0;34m\u001b[0m\u001b[0m\n\u001b[1;32m      9\u001b[0m \u001b[0;31m# fixed effects model\u001b[0m\u001b[0;34m\u001b[0m\u001b[0;34m\u001b[0m\u001b[0;34m\u001b[0m\u001b[0m\n\u001b[0;32m---> 10\u001b[0;31m \u001b[0mmodel_fe\u001b[0m \u001b[0;34m=\u001b[0m \u001b[0mPanelOLS\u001b[0m\u001b[0;34m(\u001b[0m\u001b[0mendog\u001b[0m\u001b[0;34m,\u001b[0m \u001b[0mexog\u001b[0m\u001b[0;34m,\u001b[0m \u001b[0mentity_effects\u001b[0m \u001b[0;34m=\u001b[0m \u001b[0;32mTrue\u001b[0m\u001b[0;34m,\u001b[0m \u001b[0mtime_effects\u001b[0m\u001b[0;34m=\u001b[0m\u001b[0;32mTrue\u001b[0m\u001b[0;34m)\u001b[0m\u001b[0;34m\u001b[0m\u001b[0;34m\u001b[0m\u001b[0m\n\u001b[0m\u001b[1;32m     11\u001b[0m \u001b[0mfe_res\u001b[0m \u001b[0;34m=\u001b[0m \u001b[0mmodel_fe\u001b[0m\u001b[0;34m.\u001b[0m\u001b[0mfit\u001b[0m\u001b[0;34m(\u001b[0m\u001b[0;34m)\u001b[0m\u001b[0;34m\u001b[0m\u001b[0;34m\u001b[0m\u001b[0m\n\u001b[1;32m     12\u001b[0m \u001b[0;31m#print results\u001b[0m\u001b[0;34m\u001b[0m\u001b[0;34m\u001b[0m\u001b[0;34m\u001b[0m\u001b[0m\n",
            "\u001b[0;32m/usr/local/lib/python3.6/dist-packages/linearmodels/panel/model.py\u001b[0m in \u001b[0;36m__init__\u001b[0;34m(self, dependent, exog, weights, entity_effects, time_effects, other_effects, singletons, drop_absorbed)\u001b[0m\n\u001b[1;32m   1090\u001b[0m         \u001b[0mdrop_absorbed\u001b[0m\u001b[0;34m:\u001b[0m \u001b[0mbool\u001b[0m \u001b[0;34m=\u001b[0m \u001b[0;32mFalse\u001b[0m\u001b[0;34m,\u001b[0m\u001b[0;34m\u001b[0m\u001b[0;34m\u001b[0m\u001b[0m\n\u001b[1;32m   1091\u001b[0m     ) -> None:\n\u001b[0;32m-> 1092\u001b[0;31m         \u001b[0msuper\u001b[0m\u001b[0;34m(\u001b[0m\u001b[0mPanelOLS\u001b[0m\u001b[0;34m,\u001b[0m \u001b[0mself\u001b[0m\u001b[0;34m)\u001b[0m\u001b[0;34m.\u001b[0m\u001b[0m__init__\u001b[0m\u001b[0;34m(\u001b[0m\u001b[0mdependent\u001b[0m\u001b[0;34m,\u001b[0m \u001b[0mexog\u001b[0m\u001b[0;34m,\u001b[0m \u001b[0mweights\u001b[0m\u001b[0;34m=\u001b[0m\u001b[0mweights\u001b[0m\u001b[0;34m)\u001b[0m\u001b[0;34m\u001b[0m\u001b[0;34m\u001b[0m\u001b[0m\n\u001b[0m\u001b[1;32m   1093\u001b[0m \u001b[0;34m\u001b[0m\u001b[0m\n\u001b[1;32m   1094\u001b[0m         \u001b[0mself\u001b[0m\u001b[0;34m.\u001b[0m\u001b[0m_entity_effects\u001b[0m \u001b[0;34m=\u001b[0m \u001b[0mentity_effects\u001b[0m\u001b[0;34m\u001b[0m\u001b[0;34m\u001b[0m\u001b[0m\n",
            "\u001b[0;32m/usr/local/lib/python3.6/dist-packages/linearmodels/panel/model.py\u001b[0m in \u001b[0;36m__init__\u001b[0;34m(self, dependent, exog, weights)\u001b[0m\n\u001b[1;32m    228\u001b[0m         \u001b[0mweights\u001b[0m\u001b[0;34m:\u001b[0m \u001b[0mOptional\u001b[0m\u001b[0;34m[\u001b[0m\u001b[0mPanelDataLike\u001b[0m\u001b[0;34m]\u001b[0m \u001b[0;34m=\u001b[0m \u001b[0;32mNone\u001b[0m\u001b[0;34m,\u001b[0m\u001b[0;34m\u001b[0m\u001b[0;34m\u001b[0m\u001b[0m\n\u001b[1;32m    229\u001b[0m     ) -> None:\n\u001b[0;32m--> 230\u001b[0;31m         \u001b[0mself\u001b[0m\u001b[0;34m.\u001b[0m\u001b[0mdependent\u001b[0m \u001b[0;34m=\u001b[0m \u001b[0mPanelData\u001b[0m\u001b[0;34m(\u001b[0m\u001b[0mdependent\u001b[0m\u001b[0;34m,\u001b[0m \u001b[0;34m\"Dep\"\u001b[0m\u001b[0;34m)\u001b[0m\u001b[0;34m\u001b[0m\u001b[0;34m\u001b[0m\u001b[0m\n\u001b[0m\u001b[1;32m    231\u001b[0m         \u001b[0mself\u001b[0m\u001b[0;34m.\u001b[0m\u001b[0mexog\u001b[0m \u001b[0;34m=\u001b[0m \u001b[0mPanelData\u001b[0m\u001b[0;34m(\u001b[0m\u001b[0mexog\u001b[0m\u001b[0;34m,\u001b[0m \u001b[0;34m\"Exog\"\u001b[0m\u001b[0;34m)\u001b[0m\u001b[0;34m\u001b[0m\u001b[0;34m\u001b[0m\u001b[0m\n\u001b[1;32m    232\u001b[0m         \u001b[0mself\u001b[0m\u001b[0;34m.\u001b[0m\u001b[0m_original_shape\u001b[0m \u001b[0;34m=\u001b[0m \u001b[0mself\u001b[0m\u001b[0;34m.\u001b[0m\u001b[0mdependent\u001b[0m\u001b[0;34m.\u001b[0m\u001b[0mshape\u001b[0m\u001b[0;34m\u001b[0m\u001b[0;34m\u001b[0m\u001b[0m\n",
            "\u001b[0;32m/usr/local/lib/python3.6/dist-packages/linearmodels/panel/data.py\u001b[0m in \u001b[0;36m__init__\u001b[0;34m(self, x, var_name, convert_dummies, drop_first, copy)\u001b[0m\n\u001b[1;32m    200\u001b[0m             \u001b[0mx\u001b[0m \u001b[0;34m=\u001b[0m \u001b[0mDataFrame\u001b[0m\u001b[0;34m(\u001b[0m\u001b[0mx\u001b[0m\u001b[0;34m)\u001b[0m\u001b[0;34m\u001b[0m\u001b[0;34m\u001b[0m\u001b[0m\n\u001b[1;32m    201\u001b[0m         \u001b[0;32melif\u001b[0m \u001b[0misinstance\u001b[0m\u001b[0;34m(\u001b[0m\u001b[0mx\u001b[0m\u001b[0;34m,\u001b[0m \u001b[0mSeries\u001b[0m\u001b[0;34m)\u001b[0m\u001b[0;34m:\u001b[0m\u001b[0;34m\u001b[0m\u001b[0;34m\u001b[0m\u001b[0m\n\u001b[0;32m--> 202\u001b[0;31m             \u001b[0;32mraise\u001b[0m \u001b[0mValueError\u001b[0m\u001b[0;34m(\u001b[0m\u001b[0;34m\"Series can only be used with a 2-level MultiIndex\"\u001b[0m\u001b[0;34m)\u001b[0m\u001b[0;34m\u001b[0m\u001b[0;34m\u001b[0m\u001b[0m\n\u001b[0m\u001b[1;32m    203\u001b[0m \u001b[0;34m\u001b[0m\u001b[0m\n\u001b[1;32m    204\u001b[0m         \u001b[0;32mif\u001b[0m \u001b[0misinstance\u001b[0m\u001b[0;34m(\u001b[0m\u001b[0mx\u001b[0m\u001b[0;34m,\u001b[0m \u001b[0mDataFrame\u001b[0m\u001b[0;34m)\u001b[0m\u001b[0;34m:\u001b[0m\u001b[0;34m\u001b[0m\u001b[0;34m\u001b[0m\u001b[0m\n",
            "\u001b[0;31mValueError\u001b[0m: Series can only be used with a 2-level MultiIndex"
          ]
        }
      ]
    },
    {
      "cell_type": "code",
      "metadata": {
        "id": "q7RXCRj4zLnD"
      },
      "source": [
        ""
      ],
      "execution_count": 123,
      "outputs": []
    },
    {
      "cell_type": "code",
      "metadata": {
        "colab": {
          "base_uri": "https://localhost:8080/"
        },
        "id": "NEwSXGJU0_n6",
        "outputId": "82c80681-004a-4ac3-8346-8c63a77fd36b"
      },
      "source": [
        "len(exog )"
      ],
      "execution_count": 109,
      "outputs": [
        {
          "output_type": "execute_result",
          "data": {
            "text/plain": [
              "17372"
            ]
          },
          "metadata": {
            "tags": []
          },
          "execution_count": 109
        }
      ]
    },
    {
      "cell_type": "code",
      "metadata": {
        "colab": {
          "base_uri": "https://localhost:8080/"
        },
        "id": "HJfh1b341P1y",
        "outputId": "a99f8f0e-8b08-46f3-da25-a041db4cca02"
      },
      "source": [
        "exog "
      ],
      "execution_count": 110,
      "outputs": [
        {
          "output_type": "execute_result",
          "data": {
            "text/plain": [
              "array([[  1.,   0.],\n",
              "       [  1.,   3.],\n",
              "       [  1.,   2.],\n",
              "       ...,\n",
              "       [  1., -18.],\n",
              "       [  1., -17.],\n",
              "       [  1., -19.]])"
            ]
          },
          "metadata": {
            "tags": []
          },
          "execution_count": 110
        }
      ]
    },
    {
      "cell_type": "code",
      "metadata": {
        "colab": {
          "base_uri": "https://localhost:8080/"
        },
        "id": "_w-ARvat1Rvu",
        "outputId": "b448053d-fa61-42ae-85de-b06d6e6a4f2e"
      },
      "source": [
        "endog"
      ],
      "execution_count": 111,
      "outputs": [
        {
          "output_type": "execute_result",
          "data": {
            "text/plain": [
              "array([[ 0.],\n",
              "       [ 0.],\n",
              "       [ 0.],\n",
              "       ...,\n",
              "       [23.],\n",
              "       [23.],\n",
              "       [23.]])"
            ]
          },
          "metadata": {
            "tags": []
          },
          "execution_count": 111
        }
      ]
    },
    {
      "cell_type": "code",
      "metadata": {
        "id": "VTZEDjvd1kuV"
      },
      "source": [
        ""
      ],
      "execution_count": null,
      "outputs": []
    }
  ]
}